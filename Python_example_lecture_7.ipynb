{
 "cells": [
  {
   "cell_type": "code",
   "execution_count": null,
   "id": "11b25069",
   "metadata": {},
   "outputs": [],
   "source": [
    "import numpy as np\n",
    "import matplotlib.pyplot as plt"
   ]
  },
  {
   "cell_type": "code",
   "execution_count": null,
   "id": "74d5a85d",
   "metadata": {},
   "outputs": [],
   "source": [
    "# True lambda\n",
    "lambda_true = 0.25"
   ]
  },
  {
   "cell_type": "code",
   "execution_count": null,
   "id": "f1bd587e",
   "metadata": {},
   "outputs": [],
   "source": [
    "###\n",
    "# Simulation to show the consistency property of MLE\n",
    "###\n",
    "\n",
    "# Generate a sample and compute the MLE estimator for lambda\n",
    "sample_size = 320\n",
    "sample = np.random.exponential(scale=1/lambda_true, size=sample_size)\n",
    "lambda_hat = sample_size / np.sum(sample)\n",
    "print(lambda_hat)  # This is an accurate estimator.\n",
    "\n",
    "# To prove consistency, repeat the process with different sample sizes\n",
    "sample_sizes = np.arange(100, 10001, 100)\n",
    "lambda_hat_vec = []\n",
    "\n",
    "for sample_size in sample_sizes:\n",
    "    sample = np.random.exponential(scale=1/lambda_true, size=sample_size)\n",
    "    lambda_hat_vec.append(sample_size / np.sum(sample))\n",
    "    \n",
    "# Plot the estimates by sample size\n",
    "plt.plot(sample_sizes, lambda_hat_vec, marker='o')\n",
    "plt.title(\"Accuracy of lambda_hat\")\n",
    "plt.xlabel(\"sample_size\")\n",
    "plt.ylabel(\"MLE estimator\")\n",
    "plt.axhline(y=lambda_true, color='r', linestyle='--')\n",
    "plt.show()"
   ]
  },
  {
   "cell_type": "code",
   "execution_count": null,
   "id": "5fb3c159",
   "metadata": {},
   "outputs": [],
   "source": [
    "######\n",
    "# Simulation to show the limiting distribution of MLE\n",
    "#####\n",
    "\n",
    "# Parameters\n",
    "sample_size = 320\n",
    "n_universes = 1000\n",
    "lambda_hat_vec = []\n",
    "\n",
    "# Simulate multiple universes\n",
    "for _ in range(n_universes):\n",
    "    sample = np.random.exponential(scale=1/lambda_true, size=sample_size)\n",
    "    lambda_hat_vec.append(sample_size / np.sum(sample))\n",
    "\n",
    "# Plot the histogram of lambda_hat\n",
    "plt.hist(lambda_hat_vec, bins=30)\n",
    "plt.title(\"Limiting distribution of lambda_hat\")\n",
    "plt.xlabel(\"lambda_hat\")\n",
    "plt.axvline(x=lambda_true, color='r', linewidth=2)\n",
    "plt.show()\n"
   ]
  },
  {
   "cell_type": "code",
   "execution_count": null,
   "id": "910d755a",
   "metadata": {},
   "outputs": [],
   "source": []
  }
 ],
 "metadata": {
  "kernelspec": {
   "display_name": "Python 3 (ipykernel)",
   "language": "python",
   "name": "python3"
  },
  "language_info": {
   "codemirror_mode": {
    "name": "ipython",
    "version": 3
   },
   "file_extension": ".py",
   "mimetype": "text/x-python",
   "name": "python",
   "nbconvert_exporter": "python",
   "pygments_lexer": "ipython3",
   "version": "3.11.4"
  }
 },
 "nbformat": 4,
 "nbformat_minor": 5
}
