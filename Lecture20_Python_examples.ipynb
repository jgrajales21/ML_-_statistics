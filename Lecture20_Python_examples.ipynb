{
 "cells": [
  {
   "cell_type": "code",
   "execution_count": 1,
   "id": "d541a7e1",
   "metadata": {},
   "outputs": [],
   "source": [
    "import pandas as pd\n",
    "import numpy as np\n",
    "import statsmodels.api as sm"
   ]
  },
  {
   "cell_type": "code",
   "execution_count": 2,
   "id": "29591227",
   "metadata": {},
   "outputs": [],
   "source": [
    "# Define a function for Mean Squared Error (MSE)\n",
    "def fMSE(Y1, Y2):\n",
    "    return np.mean((Y1 - Y2) ** 2)"
   ]
  },
  {
   "cell_type": "code",
   "execution_count": 3,
   "id": "650a5b6c",
   "metadata": {},
   "outputs": [],
   "source": [
    "# Read the data\n",
    "data = pd.read_csv(\"stores.csv\")\n",
    "nn = len(data)\n",
    "\n",
    "# Transform the outcome variable\n",
    "data['Rev2'] = data['revenue'] ** 2\n",
    "data['income_x_competition'] = data['income'] * data['competition']\n",
    "data = data.drop(columns=['revenue'])  # Remove the original revenue variable"
   ]
  },
  {
   "cell_type": "code",
   "execution_count": 4,
   "id": "6c8879e5",
   "metadata": {},
   "outputs": [],
   "source": [
    "# List all the models you want to try\n",
    "all_models = [\n",
    "    ['income'],\n",
    "    ['competition'],\n",
    "    ['income_x_competition'],\n",
    "    ['income', 'competition'],\n",
    "    ['income', 'income_x_competition'],\n",
    "    ['competition', 'income_x_competition'],\n",
    "    ['income', 'competition', 'income_x_competition']\n",
    "]"
   ]
  },
  {
   "cell_type": "code",
   "execution_count": 5,
   "id": "e025dfa5",
   "metadata": {},
   "outputs": [
    {
     "name": "stdout",
     "output_type": "stream",
     "text": [
      "MSE = 29317869607.4817 for model ['income']\n",
      "MSE = 390452510068.7267 for model ['competition']\n",
      "MSE = 357115573971.6504 for model ['income_x_competition']\n",
      "MSE = 15222770162.002348 for model ['income', 'competition']\n",
      "MSE = 6297100897.987369 for model ['income', 'income_x_competition']\n",
      "MSE = 265226137959.80945 for model ['competition', 'income_x_competition']\n",
      "MSE = 6288823037.595658 for model ['income', 'competition', 'income_x_competition']\n"
     ]
    }
   ],
   "source": [
    "######################\n",
    "# In-sample approach\n",
    "######################\n",
    "for mm in range(7):\n",
    "    X_train = data[all_models[mm]]\n",
    "    X_train = sm.add_constant(X_train)  # Add a constant for the intercept\n",
    "    model_train = sm.OLS(data['Rev2'], X_train).fit()\n",
    "    predictions = model_train.predict()\n",
    "    MSE = fMSE(data['Rev2'], predictions)\n",
    "    print(f'MSE = {MSE} for model {all_models[mm]}')"
   ]
  },
  {
   "cell_type": "code",
   "execution_count": 6,
   "id": "06a0a98a",
   "metadata": {},
   "outputs": [],
   "source": [
    "# Choose the final model\n",
    "X_train = data[['income', 'competition', 'income_x_competition']]\n",
    "X_train = sm.add_constant(X_train)  # Add a constant for the intercept\n",
    "final_model = sm.OLS(data['Rev2'], X_train).fit()"
   ]
  },
  {
   "cell_type": "code",
   "execution_count": 7,
   "id": "5921acea",
   "metadata": {},
   "outputs": [
    {
     "name": "stdout",
     "output_type": "stream",
     "text": [
      "           mean      mean_se  mean_ci_lower  mean_ci_upper  obs_ci_lower  \\\n",
      "0  1.467945e+06  5022.152326   1.458089e+06   1.477801e+06  1.311677e+06   \n",
      "\n",
      "   obs_ci_upper  \n",
      "0  1.624213e+06  \n"
     ]
    }
   ],
   "source": [
    "# Predict a new observation\n",
    "newdata = pd.DataFrame({'const':[1], 'income': [350], 'competition': [1], 'income_x_competition': [350]})\n",
    "predictions = final_model.get_prediction(newdata)\n",
    "print(predictions.summary_frame())"
   ]
  },
  {
   "cell_type": "code",
   "execution_count": 8,
   "id": "d808ceaa",
   "metadata": {},
   "outputs": [
    {
     "data": {
      "text/html": [
       "<div>\n",
       "<style scoped>\n",
       "    .dataframe tbody tr th:only-of-type {\n",
       "        vertical-align: middle;\n",
       "    }\n",
       "\n",
       "    .dataframe tbody tr th {\n",
       "        vertical-align: top;\n",
       "    }\n",
       "\n",
       "    .dataframe thead th {\n",
       "        text-align: right;\n",
       "    }\n",
       "</style>\n",
       "<table border=\"1\" class=\"dataframe\">\n",
       "  <thead>\n",
       "    <tr style=\"text-align: right;\">\n",
       "      <th></th>\n",
       "      <th>predicted_revenue</th>\n",
       "    </tr>\n",
       "  </thead>\n",
       "  <tbody>\n",
       "    <tr>\n",
       "      <th>0</th>\n",
       "      <td>1211.587676</td>\n",
       "    </tr>\n",
       "  </tbody>\n",
       "</table>\n",
       "</div>"
      ],
      "text/plain": [
       "   predicted_revenue\n",
       "0        1211.587676"
      ]
     },
     "execution_count": 8,
     "metadata": {},
     "output_type": "execute_result"
    }
   ],
   "source": [
    "## Prediction in the original scale\n",
    "my_predictions =  pd.DataFrame({'predicted_revenue': np.sqrt(predictions.summary_frame()['mean'])})\n",
    "my_predictions.head()"
   ]
  },
  {
   "cell_type": "code",
   "execution_count": 9,
   "id": "de876c63",
   "metadata": {},
   "outputs": [],
   "source": [
    "\n",
    "###########################\n",
    "# Train/validate approach\n",
    "############################\n",
    "train_size = int(0.7 * nn)\n",
    "validate_size = nn - train_size\n",
    "random_train_rows = np.random.choice(nn, train_size, replace=False)\n",
    "random_validate_rows = np.setdiff1d(np.arange(nn), random_train_rows)\n",
    "train_data = data.iloc[random_train_rows]\n",
    "validate_data = data.iloc[random_validate_rows]\n",
    "validate_data = sm.add_constant(validate_data)"
   ]
  },
  {
   "cell_type": "code",
   "execution_count": 11,
   "id": "020dfb60",
   "metadata": {},
   "outputs": [
    {
     "data": {
      "text/plain": [
       "array([185, 288, 797, 460, 265, 738, 144,  62, 137, 414,  43, 429, 169,\n",
       "       912, 470, 427,  24, 874, 332, 473, 601, 799, 867, 769, 730, 389,\n",
       "       747, 513,  82, 795, 452, 505, 651, 465, 922, 717, 897, 377, 106,\n",
       "       161, 847, 616, 900, 868, 896, 657, 247, 729, 939,   2, 681, 126,\n",
       "       599, 549, 393, 945,  42, 839, 654,  56,  78, 905, 319, 384, 209,\n",
       "       735,  27, 248, 936, 714, 323, 146, 533, 534, 798, 942, 558, 371,\n",
       "       724, 170, 563, 630,  87, 487, 446, 906, 817, 784, 346, 665, 895,\n",
       "       255, 556, 167, 864, 272, 491, 609, 147, 340, 869, 819,  50, 700,\n",
       "       914, 788, 348, 668, 760, 285, 583, 325, 578,  96, 585, 767, 755,\n",
       "       933, 176, 103, 229, 481, 338, 870, 301, 205, 615, 584, 759, 559,\n",
       "       334, 749, 916, 943, 364, 391, 701, 540, 688,  23,   3, 623, 946,\n",
       "       469, 511, 308, 309, 228, 631, 485, 501, 191, 111, 454, 136, 841,\n",
       "       215, 545, 814,  77, 529, 638, 804, 149, 836, 852, 596, 503, 117,\n",
       "        61,  41, 447, 838, 274, 425, 586,  16, 748,  75,  79, 275, 405,\n",
       "       353, 949, 605, 456, 142, 722, 240, 337, 230, 190, 572, 929, 380,\n",
       "       365, 297, 395, 640,  52, 883, 565, 327, 903, 574, 901, 131, 359,\n",
       "       426, 624, 827, 855,  26, 177, 442, 168,  35, 587, 154, 881, 424,\n",
       "       547, 433, 884, 527, 397,  39, 199,  69,  47, 116, 823, 445, 790,\n",
       "       619, 751, 709, 763,  22, 120, 208, 685, 689, 892,  63, 263, 259,\n",
       "       911, 329, 180,  83,   7, 439, 680, 193, 770, 102, 807, 833, 321,\n",
       "       341,   6, 279, 537, 920, 543, 652, 656, 410, 109, 453, 734, 385,\n",
       "       305, 336, 820, 264, 310, 344, 379, 753,  10, 633, 948, 184, 494,\n",
       "       333, 538, 879, 313, 417, 580,  97, 225, 750, 859, 298,  67, 492,\n",
       "       854, 290,  25, 226, 842, 483, 635, 268, 413,  73, 124, 471, 872,\n",
       "       175, 573, 518, 195, 367, 478, 777, 254, 704,  68, 655, 238, 567,\n",
       "        12,  30, 498, 266, 779, 189, 697, 440,  65, 163, 160, 899, 676,\n",
       "       514, 526, 448, 466, 663, 690, 203, 241, 506, 450, 284, 245, 947,\n",
       "       772, 880, 370, 107,  38, 866,  48, 787,  85, 488, 269, 112, 270,\n",
       "       613, 622, 682, 756, 388, 249, 664, 461, 283, 157, 607, 650, 737,\n",
       "       926,  92, 813, 677, 162, 626, 694,  28, 610, 835, 944, 703, 335,\n",
       "       194, 216, 932, 675, 510,  31, 840, 406, 762, 893, 345, 132, 476,\n",
       "       342, 831, 862, 165, 882, 294, 198, 350, 771, 512, 803, 257, 648,\n",
       "       766, 378,  72, 271, 918, 400, 181, 436, 449, 886, 221, 923, 849,\n",
       "       515, 548, 934, 158, 921, 927, 383, 358,  55, 314, 172, 637, 459,\n",
       "       306, 661, 186, 566, 296, 196, 643, 554,  45, 349, 857, 805, 324,\n",
       "       810, 374, 885, 207, 723, 644, 441, 373, 674,  54, 728, 781, 531,\n",
       "       118, 625, 182, 121, 386, 508, 593, 457, 135,  21, 727,  84, 464,\n",
       "       620, 237, 570, 742, 316,  59, 776, 407, 536, 908, 786, 851, 292,\n",
       "       699, 815, 800, 915, 678, 679, 649, 159, 603, 432, 402, 227,  33,\n",
       "       828, 251,  99, 430, 179, 539, 206,  14,  51, 647, 412,  71, 890,\n",
       "       522, 816,  74, 846, 289, 696, 592, 653, 375, 293, 376,   9, 178,\n",
       "       667, 732, 282, 560, 244,  95, 499, 741, 128, 368, 408,  70,  13,\n",
       "       687, 322, 357, 791, 718, 484,  86, 242, 780, 731, 611, 621, 130,\n",
       "        57, 404, 431, 129, 387, 260, 612, 155, 422, 262, 213, 192, 516,\n",
       "       281, 462, 127, 381, 339, 774, 222, 458, 328, 258, 937, 802, 210,\n",
       "       588, 743, 362,  94, 438,  32, 202, 528, 564,  53,  80, 463, 418,\n",
       "       671,  90, 138, 361,   4, 519, 856, 110, 311, 670, 928, 579, 550,\n",
       "        88, 415, 778, 231, 352, 235, 123, 658, 562,  29, 495, 662, 398,\n",
       "       568,  18, 719, 166, 504, 898, 907, 844, 561, 551, 691, 451, 517,\n",
       "       811, 602, 174, 287,  20,  11, 108, 343, 354, 733, 372,  19, 924,\n",
       "       220,   1, 673, 291,  58, 143, 775, 752, 224, 212, 600, 122,  91,\n",
       "       435, 606])"
      ]
     },
     "execution_count": 11,
     "metadata": {},
     "output_type": "execute_result"
    }
   ],
   "source": [
    "random_train_rows"
   ]
  },
  {
   "cell_type": "code",
   "execution_count": 49,
   "id": "09083859",
   "metadata": {},
   "outputs": [
    {
     "data": {
      "text/html": [
       "<div>\n",
       "<style scoped>\n",
       "    .dataframe tbody tr th:only-of-type {\n",
       "        vertical-align: middle;\n",
       "    }\n",
       "\n",
       "    .dataframe tbody tr th {\n",
       "        vertical-align: top;\n",
       "    }\n",
       "\n",
       "    .dataframe thead th {\n",
       "        text-align: right;\n",
       "    }\n",
       "</style>\n",
       "<table border=\"1\" class=\"dataframe\">\n",
       "  <thead>\n",
       "    <tr style=\"text-align: right;\">\n",
       "      <th></th>\n",
       "      <th>const</th>\n",
       "      <th>income</th>\n",
       "      <th>competition</th>\n",
       "      <th>Rev2</th>\n",
       "      <th>income_x_competition</th>\n",
       "    </tr>\n",
       "  </thead>\n",
       "  <tbody>\n",
       "    <tr>\n",
       "      <th>0</th>\n",
       "      <td>1.0</td>\n",
       "      <td>690.977163</td>\n",
       "      <td>0</td>\n",
       "      <td>3.367561e+06</td>\n",
       "      <td>0.0</td>\n",
       "    </tr>\n",
       "    <tr>\n",
       "      <th>1</th>\n",
       "      <td>1.0</td>\n",
       "      <td>160.078168</td>\n",
       "      <td>0</td>\n",
       "      <td>1.058376e+06</td>\n",
       "      <td>0.0</td>\n",
       "    </tr>\n",
       "    <tr>\n",
       "      <th>4</th>\n",
       "      <td>1.0</td>\n",
       "      <td>372.866534</td>\n",
       "      <td>0</td>\n",
       "      <td>1.909168e+06</td>\n",
       "      <td>0.0</td>\n",
       "    </tr>\n",
       "    <tr>\n",
       "      <th>7</th>\n",
       "      <td>1.0</td>\n",
       "      <td>301.879729</td>\n",
       "      <td>0</td>\n",
       "      <td>1.767682e+06</td>\n",
       "      <td>0.0</td>\n",
       "    </tr>\n",
       "    <tr>\n",
       "      <th>13</th>\n",
       "      <td>1.0</td>\n",
       "      <td>124.455997</td>\n",
       "      <td>0</td>\n",
       "      <td>9.609142e+05</td>\n",
       "      <td>0.0</td>\n",
       "    </tr>\n",
       "  </tbody>\n",
       "</table>\n",
       "</div>"
      ],
      "text/plain": [
       "    const      income  competition          Rev2  income_x_competition\n",
       "0     1.0  690.977163            0  3.367561e+06                   0.0\n",
       "1     1.0  160.078168            0  1.058376e+06                   0.0\n",
       "4     1.0  372.866534            0  1.909168e+06                   0.0\n",
       "7     1.0  301.879729            0  1.767682e+06                   0.0\n",
       "13    1.0  124.455997            0  9.609142e+05                   0.0"
      ]
     },
     "execution_count": 49,
     "metadata": {},
     "output_type": "execute_result"
    }
   ],
   "source": []
  },
  {
   "cell_type": "code",
   "execution_count": 52,
   "id": "0d641c58",
   "metadata": {},
   "outputs": [
    {
     "name": "stdout",
     "output_type": "stream",
     "text": [
      "MSE = 27923249954.91975 for model ['income']\n",
      "MSE = 354306138895.22925 for model ['competition']\n",
      "MSE = 309039041145.0555 for model ['income_x_competition']\n",
      "MSE = 15501099754.450521 for model ['income', 'competition']\n",
      "MSE = 6258781135.952013 for model ['income', 'income_x_competition']\n",
      "MSE = 234461199715.92642 for model ['competition', 'income_x_competition']\n",
      "MSE = 6343863148.001071 for model ['income', 'competition', 'income_x_competition']\n"
     ]
    }
   ],
   "source": [
    "for mm in range(7):\n",
    "    X_train = train_data[all_models[mm]]\n",
    "    X_train = sm.add_constant(X_train)  # Add a constant for the intercept\n",
    "    model_train = sm.OLS(train_data['Rev2'], X_train).fit()\n",
    "    X_validate = validate_data[all_models[mm]]\n",
    "    X_validate = sm.add_constant(X_validate)\n",
    "    predictions_on_validation = model_train.predict(X_validate)\n",
    "    MSE = fMSE(validate_data['Rev2'], predictions_on_validation)\n",
    "    print(f'MSE = {MSE} for model {all_models[mm]}')"
   ]
  },
  {
   "cell_type": "code",
   "execution_count": 53,
   "id": "6688e621",
   "metadata": {},
   "outputs": [],
   "source": [
    "# Choose the final model\n",
    "X_train = data[['income', 'income_x_competition']]\n",
    "X_train = sm.add_constant(X_train)  # Add a constant for the intercept\n",
    "final_model = sm.OLS(data['Rev2'], X_train).fit()"
   ]
  },
  {
   "cell_type": "code",
   "execution_count": 67,
   "id": "1bab0e8a",
   "metadata": {},
   "outputs": [
    {
     "name": "stdout",
     "output_type": "stream",
     "text": [
      "           mean      mean_se  mean_ci_lower  mean_ci_upper  obs_ci_lower  \\\n",
      "0  1.467819e+06  5021.538864   1.457964e+06   1.477674e+06  1.311531e+06   \n",
      "\n",
      "   obs_ci_upper  \n",
      "0  1.624107e+06  \n"
     ]
    }
   ],
   "source": [
    "# Predict a new observation\n",
    "newdata = pd.DataFrame({'const':[1], 'income': [350], 'income_x_competition': [350]})\n",
    "predictions = final_model.get_prediction(newdata)\n",
    "print(predictions.summary_frame())"
   ]
  },
  {
   "cell_type": "code",
   "execution_count": 68,
   "id": "c68a0980",
   "metadata": {},
   "outputs": [
    {
     "data": {
      "text/html": [
       "<div>\n",
       "<style scoped>\n",
       "    .dataframe tbody tr th:only-of-type {\n",
       "        vertical-align: middle;\n",
       "    }\n",
       "\n",
       "    .dataframe tbody tr th {\n",
       "        vertical-align: top;\n",
       "    }\n",
       "\n",
       "    .dataframe thead th {\n",
       "        text-align: right;\n",
       "    }\n",
       "</style>\n",
       "<table border=\"1\" class=\"dataframe\">\n",
       "  <thead>\n",
       "    <tr style=\"text-align: right;\">\n",
       "      <th></th>\n",
       "      <th>predicted_revenue</th>\n",
       "    </tr>\n",
       "  </thead>\n",
       "  <tbody>\n",
       "    <tr>\n",
       "      <th>0</th>\n",
       "      <td>1211.535802</td>\n",
       "    </tr>\n",
       "  </tbody>\n",
       "</table>\n",
       "</div>"
      ],
      "text/plain": [
       "   predicted_revenue\n",
       "0        1211.535802"
      ]
     },
     "execution_count": 68,
     "metadata": {},
     "output_type": "execute_result"
    }
   ],
   "source": [
    "## Prediction in the original scale\n",
    "my_predictions =  pd.DataFrame({'predicted_revenue': np.sqrt(predictions.summary_frame()['mean'])})\n",
    "my_predictions.head()"
   ]
  },
  {
   "cell_type": "code",
   "execution_count": 69,
   "id": "fcb827b7",
   "metadata": {},
   "outputs": [],
   "source": [
    "###############################\n",
    "# Cross-validation approach\n",
    "###############################\n",
    "train_size = int(0.7 * nn)\n",
    "validate_size = nn - train_size\n",
    "SS = 100\n",
    "all_MSE = np.empty((SS, 7))\n",
    "\n",
    "for ss in range(SS):\n",
    "    random_train_rows = np.random.choice(nn, train_size, replace=False)\n",
    "    random_validate_rows = np.setdiff1d(np.arange(nn), random_train_rows)\n",
    "    train_data = data.iloc[random_train_rows]\n",
    "    validate_data = data.iloc[random_validate_rows]\n",
    "\n",
    "    for mm in range(7):\n",
    "        X_train = train_data[all_models[mm]]\n",
    "        X_train = sm.add_constant(X_train)  # Add a constant for the intercept\n",
    "        model_train = sm.OLS(train_data['Rev2'], X_train).fit()\n",
    "        X_validate = validate_data[all_models[mm]]\n",
    "        X_validate = sm.add_constant(X_validate)\n",
    "        predictions_on_validation = model_train.predict(X_validate)\n",
    "        all_MSE[ss, mm] = fMSE(validate_data['Rev2'], predictions_on_validation)"
   ]
  },
  {
   "cell_type": "code",
   "execution_count": 70,
   "id": "522299ed",
   "metadata": {},
   "outputs": [
    {
     "name": "stdout",
     "output_type": "stream",
     "text": [
      "Average_MSE = 29706082484.999146 for model ['income']\n",
      "Average_MSE = 392490427934.8388 for model ['competition']\n",
      "Average_MSE = 360460735260.4269 for model ['income_x_competition']\n",
      "Average_MSE = 15357222999.256916 for model ['income', 'competition']\n",
      "Average_MSE = 6325227819.5311165 for model ['income', 'income_x_competition']\n",
      "Average_MSE = 266843842404.86484 for model ['competition', 'income_x_competition']\n",
      "Average_MSE = 6330969018.569842 for model ['income', 'competition', 'income_x_competition']\n"
     ]
    }
   ],
   "source": [
    "Average_MSEs = np.mean(all_MSE, axis=0)\n",
    "\n",
    "for mm in range(7):\n",
    "    print(f'Average_MSE = {Average_MSEs[mm]} for model {all_models[mm]}')"
   ]
  },
  {
   "cell_type": "code",
   "execution_count": 71,
   "id": "c7928c48",
   "metadata": {},
   "outputs": [],
   "source": [
    "# Choose the final model\n",
    "X_train = data[['income', 'income_x_competition']]\n",
    "X_train = sm.add_constant(X_train)  # Add a constant for the intercept\n",
    "final_model = sm.OLS(data['Rev2'], X_train).fit()"
   ]
  },
  {
   "cell_type": "code",
   "execution_count": 72,
   "id": "4b465e6f",
   "metadata": {},
   "outputs": [
    {
     "name": "stdout",
     "output_type": "stream",
     "text": [
      "           mean      mean_se  mean_ci_lower  mean_ci_upper  obs_ci_lower  \\\n",
      "0  1.467819e+06  5021.538864   1.457964e+06   1.477674e+06  1.311531e+06   \n",
      "\n",
      "   obs_ci_upper  \n",
      "0  1.624107e+06  \n"
     ]
    }
   ],
   "source": [
    "# Predict a new observation\n",
    "newdata = pd.DataFrame({'const':[1], 'income': [350], 'income_x_competition': [350]})\n",
    "predictions = final_model.get_prediction(newdata)\n",
    "print(predictions.summary_frame())"
   ]
  },
  {
   "cell_type": "code",
   "execution_count": 73,
   "id": "4f8bada0",
   "metadata": {},
   "outputs": [
    {
     "data": {
      "text/html": [
       "<div>\n",
       "<style scoped>\n",
       "    .dataframe tbody tr th:only-of-type {\n",
       "        vertical-align: middle;\n",
       "    }\n",
       "\n",
       "    .dataframe tbody tr th {\n",
       "        vertical-align: top;\n",
       "    }\n",
       "\n",
       "    .dataframe thead th {\n",
       "        text-align: right;\n",
       "    }\n",
       "</style>\n",
       "<table border=\"1\" class=\"dataframe\">\n",
       "  <thead>\n",
       "    <tr style=\"text-align: right;\">\n",
       "      <th></th>\n",
       "      <th>predicted_revenue</th>\n",
       "    </tr>\n",
       "  </thead>\n",
       "  <tbody>\n",
       "    <tr>\n",
       "      <th>0</th>\n",
       "      <td>1211.535802</td>\n",
       "    </tr>\n",
       "  </tbody>\n",
       "</table>\n",
       "</div>"
      ],
      "text/plain": [
       "   predicted_revenue\n",
       "0        1211.535802"
      ]
     },
     "execution_count": 73,
     "metadata": {},
     "output_type": "execute_result"
    }
   ],
   "source": [
    "## Prediction in the original scale\n",
    "my_predictions =  pd.DataFrame({'predicted_revenue': np.sqrt(predictions.summary_frame()['mean'])})\n",
    "my_predictions.head()"
   ]
  },
  {
   "cell_type": "code",
   "execution_count": null,
   "id": "0723c014",
   "metadata": {},
   "outputs": [],
   "source": []
  }
 ],
 "metadata": {
  "kernelspec": {
   "display_name": "Python 3 (ipykernel)",
   "language": "python",
   "name": "python3"
  },
  "language_info": {
   "codemirror_mode": {
    "name": "ipython",
    "version": 3
   },
   "file_extension": ".py",
   "mimetype": "text/x-python",
   "name": "python",
   "nbconvert_exporter": "python",
   "pygments_lexer": "ipython3",
   "version": "3.9.12"
  }
 },
 "nbformat": 4,
 "nbformat_minor": 5
}
