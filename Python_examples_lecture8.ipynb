{
 "cells": [
  {
   "cell_type": "code",
   "execution_count": null,
   "id": "ab0a625e",
   "metadata": {},
   "outputs": [],
   "source": [
    "import pandas as pd\n",
    "import numpy as np\n",
    "from scipy.stats import norm\n",
    "\n",
    "##########################\n",
    "## Examples for Lecture 8\n",
    "##########################"
   ]
  },
  {
   "cell_type": "code",
   "execution_count": null,
   "id": "ad75abd8",
   "metadata": {},
   "outputs": [],
   "source": [
    "##################################################\n",
    "## Confidence interval for mean (Uber data)\n",
    "##################################################\n",
    "\n",
    "## read data\n",
    "data = pd.read_csv('mydata.csv')\n",
    "xx = data['duration'].values[:200]\n",
    "\n",
    "nn = len(xx)\n",
    "x_bar = np.mean(xx)\n",
    "S = np.std(xx, ddof=1)  # Use ddof=1 for sample standard deviation\n",
    "SE_mean = S / np.sqrt(nn)\n",
    "\n",
    "alpha = 0.05\n",
    "zz = norm.ppf(1 - alpha/2, loc=0, scale=1)\n",
    "\n",
    "## Confidence interval for mu\n",
    "lower_end = x_bar - zz * SE_mean\n",
    "upper_end = x_bar + zz * SE_mean\n",
    "print([lower_end, upper_end])"
   ]
  },
  {
   "cell_type": "code",
   "execution_count": null,
   "id": "65f081c0",
   "metadata": {},
   "outputs": [],
   "source": [
    "##################################################\n",
    "## Confidence interval for proportions (defects)\n",
    "##################################################\n",
    "yy = data['defects'].values\n",
    "\n",
    "nn_y = len(yy)\n",
    "p_hat = np.mean(yy)\n",
    "SE_p_hat = np.sqrt(p_hat * (1 - p_hat) / nn_y)\n",
    "\n",
    "alpha = 0.1\n",
    "zz = norm.ppf(1 - alpha/2, loc=0, scale=1)\n",
    "\n",
    "## Confidence interval for p\n",
    "lower_end_p = p_hat - zz * SE_p_hat\n",
    "upper_end_p = p_hat + zz * SE_p_hat\n",
    "print([lower_end_p, upper_end_p])"
   ]
  },
  {
   "cell_type": "code",
   "execution_count": null,
   "id": "c978ea05",
   "metadata": {},
   "outputs": [],
   "source": [
    "##################################################\n",
    "## Confidence interval for MLE of lambda (exponential)\n",
    "##################################################\n",
    "\n",
    "## Using the exponential example\n",
    "lambda_true = 0.25  # this is the true lambda that we do not know\n",
    "\n",
    "## Let's generate a sample and compute the MLE estimator for lambda\n",
    "nn = 320  # sample size\n",
    "mysample = np.random.exponential(1 / lambda_true, nn)  # random sample from exponential distribution\n",
    "lambda_hat = nn / np.sum(mysample)\n",
    "print(lambda_hat)  # this is an accurate estimator.\n",
    "\n",
    "## For standard error (formula from Delta method)\n",
    "S = np.sqrt(np.var(mysample, ddof=1))  # Use ddof=1 for sample standard deviation\n",
    "x_bar_2 = np.mean(mysample)**2\n",
    "se = S / (x_bar_2 * np.sqrt(nn))\n",
    "\n",
    "alpha = 0.1\n",
    "zz = norm.ppf(1 - alpha/2, loc=0, scale=1)\n",
    "\n",
    "## Confidence interval for lambda\n",
    "lower_end_lambda = lambda_hat - zz * se\n",
    "upper_end_lambda = lambda_hat + zz * se\n",
    "print([lower_end_lambda, upper_end_lambda])"
   ]
  },
  {
   "cell_type": "code",
   "execution_count": null,
   "id": "8b24e34e",
   "metadata": {},
   "outputs": [],
   "source": []
  }
 ],
 "metadata": {
  "kernelspec": {
   "display_name": "Python 3 (ipykernel)",
   "language": "python",
   "name": "python3"
  },
  "language_info": {
   "codemirror_mode": {
    "name": "ipython",
    "version": 3
   },
   "file_extension": ".py",
   "mimetype": "text/x-python",
   "name": "python",
   "nbconvert_exporter": "python",
   "pygments_lexer": "ipython3",
   "version": "3.11.4"
  }
 },
 "nbformat": 4,
 "nbformat_minor": 5
}
