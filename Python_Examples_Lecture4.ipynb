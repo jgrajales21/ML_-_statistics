{
 "cells": [
  {
   "cell_type": "code",
   "execution_count": null,
   "id": "5a07b17d",
   "metadata": {},
   "outputs": [],
   "source": [
    "### Example: sample mean, meadian, standard deviation"
   ]
  },
  {
   "cell_type": "code",
   "execution_count": null,
   "id": "0fe5980d",
   "metadata": {},
   "outputs": [],
   "source": [
    "import pandas as pd\n",
    "import matplotlib.pyplot as plt\n",
    "\n",
    "# Load the IBM returns data into a DataFrame\n",
    "ibm_df = pd.read_csv(\"IBM_returns.csv\")\n",
    "ibm_df['Date'] = pd.to_datetime(ibm_df['Date'], format=\"%Y-%m-%d\")\n",
    "\n",
    "# Let's plot the data\n",
    "plt.figure(figsize=(10, 5))\n",
    "plt.plot(ibm_df['Date'], ibm_df['Return'])\n",
    "plt.title(\"IBM Returns\")\n",
    "plt.xlabel(\"Date\")\n",
    "plt.ylabel(\"Return\")\n",
    "plt.show()"
   ]
  },
  {
   "cell_type": "code",
   "execution_count": null,
   "id": "a62208fd",
   "metadata": {},
   "outputs": [],
   "source": [
    "\n",
    "# Let's look at histograms for the stock returns\n",
    "plt.figure(figsize=(10, 5))\n",
    "plt.hist(ibm_df['Return'], bins=50)\n",
    "plt.title(\"IBM Histogram\")\n",
    "plt.xlabel(\"Return\")\n",
    "plt.ylabel(\"Frequency\")\n",
    "plt.show()"
   ]
  },
  {
   "cell_type": "code",
   "execution_count": null,
   "id": "2618de87",
   "metadata": {},
   "outputs": [],
   "source": [
    "# Let's compute the sample mean\n",
    "mean_return = ibm_df['Return'].mean(skipna=True)\n",
    "print(\"Mean:\", mean_return)\n",
    "\n",
    "# Let's compute the median\n",
    "median_return = ibm_df['Return'].median(skipna=True)\n",
    "print(\"Median:\", median_return)\n",
    "\n",
    "# Let's compute the standard deviation\n",
    "std_deviation = ibm_df['Return'].std(skipna=True)\n",
    "print(\"Standard Deviation:\", std_deviation)"
   ]
  },
  {
   "cell_type": "code",
   "execution_count": null,
   "id": "58d0f964",
   "metadata": {},
   "outputs": [],
   "source": [
    "# Load the Microsoft returns data\n",
    "msdf = pd.read_csv(\"microsoft_returns.csv\")\n",
    "msdf['Date'] = pd.to_datetime(msdf['Date'], format=\"%Y-%m-%d\")\n",
    "\n",
    "# Let's plot the Microsoft data\n",
    "plt.figure(figsize=(10, 5))\n",
    "plt.plot(msdf['Date'], msdf['Return'])\n",
    "plt.title(\"Microsoft Returns\")\n",
    "plt.xlabel(\"Date\")\n",
    "plt.ylabel(\"Return\")\n",
    "plt.show()"
   ]
  },
  {
   "cell_type": "code",
   "execution_count": null,
   "id": "d4d91242",
   "metadata": {},
   "outputs": [],
   "source": [
    "# Let's compute the covariance between IBM and Microsoft returns\n",
    "covariance = ibm_df['Return'].cov(msdf['Return'])\n",
    "print(\"Covariance:\", covariance)\n",
    "\n",
    "# Let's compute the linear correlation between IBM and Microsoft returns\n",
    "correlation = ibm_df['Return'].corr(msdf['Return'])\n",
    "print(\"Correlation:\", correlation)\n",
    "\n",
    "# Plot both vectors in a scatterplot\n",
    "plt.figure(figsize=(10, 5))\n",
    "plt.scatter(ibm_df['Return'], msdf['Return'], marker='o', s=30)\n",
    "plt.title(\"Scatterplot of IBM vs Microsoft\")\n",
    "plt.xlabel(\"IBM Return\")\n",
    "plt.ylabel(\"Microsoft Return\")\n",
    "plt.show()\n"
   ]
  },
  {
   "cell_type": "code",
   "execution_count": null,
   "id": "52095448",
   "metadata": {},
   "outputs": [],
   "source": []
  },
  {
   "cell_type": "code",
   "execution_count": null,
   "id": "a54fc4bb",
   "metadata": {},
   "outputs": [],
   "source": [
    "##  Proving the Central Limit Theorem with simulation"
   ]
  },
  {
   "cell_type": "code",
   "execution_count": null,
   "id": "91094281",
   "metadata": {},
   "outputs": [],
   "source": [
    "import numpy as np\n",
    "import matplotlib.pyplot as plt"
   ]
  },
  {
   "cell_type": "code",
   "execution_count": null,
   "id": "3eda9b92",
   "metadata": {},
   "outputs": [],
   "source": [
    "# The population mean (typically unknown)\n",
    "mu = 2"
   ]
  },
  {
   "cell_type": "code",
   "execution_count": null,
   "id": "c8af3b82",
   "metadata": {},
   "outputs": [],
   "source": [
    "# Plot the population of interest - a Poisson distribution\n",
    "population = np.random.poisson(mu, 1000)\n",
    "plt.hist(population, bins=10)\n",
    "plt.title(\"Population Distribution\")\n",
    "plt.xlabel(\"Value\")\n",
    "plt.ylabel(\"Frequency\")\n",
    "plt.show()"
   ]
  },
  {
   "cell_type": "code",
   "execution_count": null,
   "id": "39b3c448",
   "metadata": {},
   "outputs": [],
   "source": [
    "# Set parameters for our simulation\n",
    "n_simulations = 1000\n",
    "n_sample_size = 100\n",
    "sample_mean_sim_vector = []  # Initialize an empty list"
   ]
  },
  {
   "cell_type": "code",
   "execution_count": null,
   "id": "00d8148a",
   "metadata": {},
   "outputs": [],
   "source": [
    "# Simulate with a for loop\n",
    "# In every iteration, we take a new sample and compute a new sample mean\n",
    "for _ in range(n_simulations):\n",
    "    # Obtain a sample from the distribution of interest\n",
    "    sample = np.random.poisson(mu, n_sample_size)\n",
    "    sample_mean = np.mean(sample)\n",
    "    sample_mean_sim_vector.append(sample_mean)"
   ]
  },
  {
   "cell_type": "code",
   "execution_count": null,
   "id": "64a55315",
   "metadata": {},
   "outputs": [],
   "source": [
    "# Plot the distribution of the sample mean obtained via simulation\n",
    "plt.hist(sample_mean_sim_vector, bins=50)\n",
    "plt.title(\"Simulated Distribution of Sample Mean\")\n",
    "plt.xlabel(\"Sample Mean\")\n",
    "plt.ylabel(\"Frequency\")\n",
    "plt.show()\n",
    "\n",
    "# If you increase n_simulations, it will look smoother\n",
    "# If you increase n_sample_size, it will look tighter"
   ]
  },
  {
   "cell_type": "code",
   "execution_count": null,
   "id": "4317a656",
   "metadata": {},
   "outputs": [],
   "source": []
  }
 ],
 "metadata": {
  "kernelspec": {
   "display_name": "Python 3 (ipykernel)",
   "language": "python",
   "name": "python3"
  },
  "language_info": {
   "codemirror_mode": {
    "name": "ipython",
    "version": 3
   },
   "file_extension": ".py",
   "mimetype": "text/x-python",
   "name": "python",
   "nbconvert_exporter": "python",
   "pygments_lexer": "ipython3",
   "version": "3.11.4"
  }
 },
 "nbformat": 4,
 "nbformat_minor": 5
}
