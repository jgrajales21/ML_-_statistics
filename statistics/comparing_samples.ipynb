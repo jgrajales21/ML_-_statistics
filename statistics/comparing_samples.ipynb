{
 "cells": [
  {
   "cell_type": "code",
   "execution_count": 1,
   "id": "3f64cb45",
   "metadata": {},
   "outputs": [],
   "source": [
    "import pandas as pd\n",
    "import numpy as np\n",
    "from scipy import stats"
   ]
  },
  {
   "cell_type": "code",
   "execution_count": 2,
   "id": "71fbd96c",
   "metadata": {},
   "outputs": [
    {
     "name": "stdout",
     "output_type": "stream",
     "text": [
      "   metric  algorithm\n",
      "0       0          1\n",
      "1       0          1\n",
      "2       0          1\n",
      "3       0          1\n",
      "4       0          1\n"
     ]
    }
   ],
   "source": [
    "# Read data\n",
    "mydata = pd.read_csv('comparing_samples_data.csv')\n",
    "print(mydata.head())"
   ]
  },
  {
   "cell_type": "code",
   "execution_count": 3,
   "id": "37bebbce",
   "metadata": {},
   "outputs": [],
   "source": [
    "# Extract observations for X and Y\n",
    "x = mydata.loc[mydata['algorithm'] == 1, 'metric'].values\n",
    "y = mydata.loc[mydata['algorithm'] == 2, 'metric'].values\n",
    "m = len(x)\n",
    "n = len(y)"
   ]
  },
  {
   "cell_type": "code",
   "execution_count": 4,
   "id": "f5f01ee7",
   "metadata": {},
   "outputs": [
    {
     "name": "stdout",
     "output_type": "stream",
     "text": [
      "0.1\n",
      "0.08\n",
      "0.020000000000000004\n"
     ]
    }
   ],
   "source": [
    "# Compute p hats\n",
    "p1_hat = np.mean(x)\n",
    "p2_hat = np.mean(y)\n",
    "delta_hat = p1_hat - p2_hat\n",
    "\n",
    "print(p1_hat)\n",
    "print(p2_hat)\n",
    "print(delta_hat)"
   ]
  },
  {
   "cell_type": "code",
   "execution_count": 5,
   "id": "95d34005",
   "metadata": {},
   "outputs": [
    {
     "name": "stdout",
     "output_type": "stream",
     "text": [
      "0.5471756551645829\n"
     ]
    }
   ],
   "source": [
    "# Compute standard error of delta\n",
    "se = np.sqrt(p1_hat*(1-p1_hat)/m + p2_hat*(1-p2_hat)/n)\n",
    "\n",
    "# Compute T statistics\n",
    "TT = (delta_hat - 0)/se\n",
    "print(TT)"
   ]
  },
  {
   "cell_type": "code",
   "execution_count": 6,
   "id": "0f21d80c",
   "metadata": {},
   "outputs": [
    {
     "name": "stdout",
     "output_type": "stream",
     "text": [
      "1.959963984540054\n"
     ]
    }
   ],
   "source": [
    "# Compute the critical value\n",
    "alpha = 0.05\n",
    "zz = stats.norm.ppf(1-alpha/2)\n",
    "print(zz)"
   ]
  },
  {
   "cell_type": "code",
   "execution_count": 7,
   "id": "e7e81c3a",
   "metadata": {},
   "outputs": [
    {
     "name": "stdout",
     "output_type": "stream",
     "text": [
      "False\n"
     ]
    }
   ],
   "source": [
    "# Compare T statistics and critical value\n",
    "result = abs(TT) > zz\n",
    "print(result)"
   ]
  },
  {
   "cell_type": "code",
   "execution_count": null,
   "id": "91eb3f00",
   "metadata": {},
   "outputs": [],
   "source": []
  }
 ],
 "metadata": {
  "kernelspec": {
   "display_name": "Python 3 (ipykernel)",
   "language": "python",
   "name": "python3"
  },
  "language_info": {
   "codemirror_mode": {
    "name": "ipython",
    "version": 3
   },
   "file_extension": ".py",
   "mimetype": "text/x-python",
   "name": "python",
   "nbconvert_exporter": "python",
   "pygments_lexer": "ipython3",
   "version": "3.11.4"
  }
 },
 "nbformat": 4,
 "nbformat_minor": 5
}
