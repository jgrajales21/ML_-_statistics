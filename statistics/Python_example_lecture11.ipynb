{
 "cells": [
  {
   "cell_type": "code",
   "execution_count": null,
   "id": "7efa4dc5",
   "metadata": {},
   "outputs": [],
   "source": [
    "import numpy as np\n",
    "import matplotlib.pyplot as plt\n",
    "from scipy import stats"
   ]
  },
  {
   "cell_type": "code",
   "execution_count": null,
   "id": "a7a2aa98",
   "metadata": {},
   "outputs": [],
   "source": [
    "# Generate some empirical observations from a t-Student distribution\n",
    "n = 200\n",
    "y = np.random.standard_t(df=5, size=n)"
   ]
  },
  {
   "cell_type": "code",
   "execution_count": null,
   "id": "eec22d62",
   "metadata": {},
   "outputs": [],
   "source": [
    "# Manually creating a QQ-plot\n",
    "qy = np.sort(y)\n",
    "qx = stats.norm.ppf((np.arange(1, n + 1)) / n)\n",
    "plt.scatter(qx, qy)\n",
    "plt.xlabel('Theoretical Quantiles')\n",
    "plt.ylabel('Sample Quantiles')\n",
    "plt.title('QQ-Plot (Manually Created)')\n",
    "plt.show()"
   ]
  },
  {
   "cell_type": "code",
   "execution_count": null,
   "id": "e052edd9",
   "metadata": {},
   "outputs": [],
   "source": [
    "# Using the qqplot function from scipy.stats\n",
    "stats.probplot(y, dist='norm', plot=plt)\n",
    "plt.title('QQ-Plot (Using probplot)')\n",
    "plt.show()"
   ]
  },
  {
   "cell_type": "code",
   "execution_count": null,
   "id": "9d6f574d",
   "metadata": {},
   "outputs": [],
   "source": []
  }
 ],
 "metadata": {
  "kernelspec": {
   "display_name": "Python 3 (ipykernel)",
   "language": "python",
   "name": "python3"
  },
  "language_info": {
   "codemirror_mode": {
    "name": "ipython",
    "version": 3
   },
   "file_extension": ".py",
   "mimetype": "text/x-python",
   "name": "python",
   "nbconvert_exporter": "python",
   "pygments_lexer": "ipython3",
   "version": "3.11.4"
  }
 },
 "nbformat": 4,
 "nbformat_minor": 5
}
