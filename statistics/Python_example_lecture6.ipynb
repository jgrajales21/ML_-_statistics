{
 "cells": [
  {
   "cell_type": "code",
   "execution_count": 12,
   "id": "08ddeb15",
   "metadata": {},
   "outputs": [],
   "source": [
    "import numpy as np\n",
    "import scipy.stats as stats\n",
    "from scipy.optimize import minimize"
   ]
  },
  {
   "cell_type": "code",
   "execution_count": 13,
   "id": "dc5df7c4",
   "metadata": {},
   "outputs": [],
   "source": [
    "# Generate random data\n",
    "n = 300\n",
    "x = np.random.normal(loc=1, scale=2, size=n)"
   ]
  },
  {
   "cell_type": "code",
   "execution_count": 14,
   "id": "01d23f76",
   "metadata": {},
   "outputs": [],
   "source": [
    "# Define the log-likelihood function\n",
    "def myLogLike(theta, x):\n",
    "    mu = theta[0]\n",
    "    sigma = theta[1]\n",
    "    log_likelihood = np.sum(np.log(stats.norm.pdf(x, loc=mu, scale=sigma)))\n",
    "    return -log_likelihood  # Note the negative sign"
   ]
  },
  {
   "cell_type": "code",
   "execution_count": 15,
   "id": "756bf216",
   "metadata": {},
   "outputs": [],
   "source": [
    "# Initial guess for optimization\n",
    "initial_guess = [3, 3]\n",
    "\n",
    "# Use the minimize function from scipy.optimize to find the maximum likelihood estimates (MLE)\n",
    "MLE = minimize(myLogLike, initial_guess, args=(x,), method='BFGS')"
   ]
  },
  {
   "cell_type": "code",
   "execution_count": 16,
   "id": "798b8bb7",
   "metadata": {},
   "outputs": [
    {
     "name": "stdout",
     "output_type": "stream",
     "text": [
      "[1.09375566 2.11128683]\n"
     ]
    }
   ],
   "source": [
    "# Print the MLE parameters\n",
    "print(MLE.x)\n"
   ]
  },
  {
   "cell_type": "code",
   "execution_count": null,
   "id": "1ee4b774",
   "metadata": {},
   "outputs": [],
   "source": []
  }
 ],
 "metadata": {
  "kernelspec": {
   "display_name": "Python 3 (ipykernel)",
   "language": "python",
   "name": "python3"
  },
  "language_info": {
   "codemirror_mode": {
    "name": "ipython",
    "version": 3
   },
   "file_extension": ".py",
   "mimetype": "text/x-python",
   "name": "python",
   "nbconvert_exporter": "python",
   "pygments_lexer": "ipython3",
   "version": "3.11.4"
  }
 },
 "nbformat": 4,
 "nbformat_minor": 5
}
