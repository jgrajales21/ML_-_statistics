{
 "cells": [
  {
   "cell_type": "code",
   "execution_count": 1,
   "id": "164cbb5a",
   "metadata": {},
   "outputs": [],
   "source": [
    "import numpy as np\n",
    "from scipy.stats import norm, chi2\n",
    "\n",
    "# Simulate some data\n",
    "np.random.seed(0)  # Set a seed for reproducibility\n",
    "x = np.random.normal(2, 5, 100)\n",
    "## Now let's pretend we don't know where the data comes from."
   ]
  },
  {
   "cell_type": "code",
   "execution_count": 2,
   "id": "5ca2a761",
   "metadata": {},
   "outputs": [
    {
     "name": "stdout",
     "output_type": "stream",
     "text": [
      "0.3515083787511674\n",
      "6.6348966010212145\n"
     ]
    }
   ],
   "source": [
    "# Fix parameters for the test\n",
    "mu0 = 2\n",
    "alpha = 0.01\n",
    "\n",
    "# Compute lambda statistics\n",
    "sigma_hat = np.sqrt(np.mean((x - np.mean(x))**2))\n",
    "ss = np.sqrt(np.mean((x - mu0)**2))\n",
    "mylambda = 2 * np.log(np.prod(norm.pdf(x, loc=np.mean(x), scale=sigma_hat)) /\n",
    "                    np.prod(norm.pdf(x, loc=mu0, scale=ss)))\n",
    "\n",
    "# Critical value\n",
    "kappa = chi2.ppf(1 - alpha, df=1)\n",
    "\n",
    "print(mylambda)\n",
    "print(kappa)"
   ]
  },
  {
   "cell_type": "code",
   "execution_count": 3,
   "id": "e9880be2",
   "metadata": {},
   "outputs": [
    {
     "name": "stdout",
     "output_type": "stream",
     "text": [
      "0.5532605129398351\n"
     ]
    }
   ],
   "source": [
    "# p-value = P(Chi^2 > lambda) = 1 - P(Chi^2 < lambda)\n",
    "p_value = 1 - chi2.cdf(mylambda, df=1)\n",
    "print(p_value)"
   ]
  },
  {
   "cell_type": "code",
   "execution_count": null,
   "id": "eb9b6dbd",
   "metadata": {},
   "outputs": [],
   "source": []
  }
 ],
 "metadata": {
  "kernelspec": {
   "display_name": "Python 3 (ipykernel)",
   "language": "python",
   "name": "python3"
  },
  "language_info": {
   "codemirror_mode": {
    "name": "ipython",
    "version": 3
   },
   "file_extension": ".py",
   "mimetype": "text/x-python",
   "name": "python",
   "nbconvert_exporter": "python",
   "pygments_lexer": "ipython3",
   "version": "3.11.4"
  }
 },
 "nbformat": 4,
 "nbformat_minor": 5
}
