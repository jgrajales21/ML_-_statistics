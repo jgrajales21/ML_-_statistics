{
 "cells": [
  {
   "cell_type": "code",
   "execution_count": 1,
   "id": "7cb2f05b",
   "metadata": {},
   "outputs": [],
   "source": [
    "import numpy as np"
   ]
  },
  {
   "cell_type": "code",
   "execution_count": 8,
   "id": "5c8b6d18",
   "metadata": {},
   "outputs": [],
   "source": [
    "n_sim = 1000    # number of simulations\n",
    "n_dice = 5      # number of dice\n",
    "valid_sum = []  # initialize variable as an empty list"
   ]
  },
  {
   "cell_type": "code",
   "execution_count": 9,
   "id": "324f0fc8",
   "metadata": {},
   "outputs": [],
   "source": [
    "# Loop through simulations\n",
    "for ii in range(1, n_sim + 1):\n",
    "    dice = np.random.choice(np.arange(1, 7), n_dice, replace=True)  # roll dice\n",
    "    dice12 = dice[dice < 3]  # only keep dice 1 or 2\n",
    "    sum_dice12 = np.sum(dice12)  # sum their values\n",
    "    valid_sum.append(sum_dice12 in [1, 2, 3])  # check if the sum is 1, 2, or 3"
   ]
  },
  {
   "cell_type": "code",
   "execution_count": 10,
   "id": "cc8f9bb4",
   "metadata": {},
   "outputs": [
    {
     "name": "stdout",
     "output_type": "stream",
     "text": [
      "0.581\n"
     ]
    }
   ],
   "source": [
    "result = sum(valid_sum) / n_sim  # compute simulated probability\n",
    "print(result)"
   ]
  },
  {
   "cell_type": "code",
   "execution_count": null,
   "id": "cc470960",
   "metadata": {},
   "outputs": [],
   "source": []
  }
 ],
 "metadata": {
  "kernelspec": {
   "display_name": "Python 3 (ipykernel)",
   "language": "python",
   "name": "python3"
  },
  "language_info": {
   "codemirror_mode": {
    "name": "ipython",
    "version": 3
   },
   "file_extension": ".py",
   "mimetype": "text/x-python",
   "name": "python",
   "nbconvert_exporter": "python",
   "pygments_lexer": "ipython3",
   "version": "3.11.4"
  }
 },
 "nbformat": 4,
 "nbformat_minor": 5
}
