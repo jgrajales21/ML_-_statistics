{
 "cells": [
  {
   "cell_type": "markdown",
   "id": "c6b606b1",
   "metadata": {},
   "source": [
    "<span style=\"color:green;font-size:xx-large\">How LDA works</span>"
   ]
  },
  {
   "cell_type": "code",
   "execution_count": 2,
   "id": "96cc2cf4",
   "metadata": {},
   "outputs": [],
   "source": [
    "#Example documents\n",
    "d1 = (\"dog\", \"cat\", \"rat\", \"ate\", \"the\", \"cat\")\n",
    "d2 = (\"dog\", \"chair\", \"table\", \"and\", \"the\", \"chair\")\n",
    "d3 = (\"dog\", \"cat\", \"chair\", \"chased\", \"the\", \"cat\")\n"
   ]
  },
  {
   "cell_type": "code",
   "execution_count": 3,
   "id": "2909999d",
   "metadata": {},
   "outputs": [
    {
     "data": {
      "text/plain": [
       "[(0, 'chased'),\n",
       " (1, 'table'),\n",
       " (2, 'cat'),\n",
       " (3, 'chair'),\n",
       " (4, 'dog'),\n",
       " (5, 'ate'),\n",
       " (6, 'rat'),\n",
       " (7, 'the'),\n",
       " (8, 'and')]"
      ]
     },
     "execution_count": 3,
     "metadata": {},
     "output_type": "execute_result"
    }
   ],
   "source": [
    "#Get the vocabulary\n",
    "vocab = list(set(d1+d2+d3))\n",
    "list(enumerate(vocab))"
   ]
  },
  {
   "cell_type": "code",
   "execution_count": null,
   "id": "4815bf40",
   "metadata": {},
   "outputs": [],
   "source": [
    "#We don't care what the vocab is, we'll just focus on the number 9 \n",
    "#"
   ]
  },
  {
   "cell_type": "markdown",
   "id": "3d3a7fad",
   "metadata": {},
   "source": [
    "<span style=\"color:green;font-size:large\">First, allocate topics to documents at random</span>"
   ]
  },
  {
   "cell_type": "code",
   "execution_count": 4,
   "id": "98cd9b99",
   "metadata": {},
   "outputs": [
    {
     "data": {
      "text/plain": [
       "array([[0, 1, 0],\n",
       "       [0, 0, 1],\n",
       "       [0, 0, 0],\n",
       "       [1, 0, 0],\n",
       "       [0, 0, 1],\n",
       "       [0, 1, 1],\n",
       "       [1, 0, 1],\n",
       "       [0, 1, 1],\n",
       "       [1, 1, 1]])"
      ]
     },
     "execution_count": 4,
     "metadata": {},
     "output_type": "execute_result"
    }
   ],
   "source": [
    "#randomly allocate words to topics to documents\n",
    "import numpy as np\n",
    "np.random.seed(42)\n",
    "topics = np.random.randint(2,size=(9, 3))\n",
    "topics\n"
   ]
  },
  {
   "cell_type": "markdown",
   "id": "05bff6c6",
   "metadata": {},
   "source": [
    "<table>\n",
    "    <tr><th>word</th><th>doc 1</th><th>doc 2</th><th>doc 3</th></tr>\n",
    "    <tr><td>chair</td><td>T0</td><td>T1</td><td>T0</td></tr>\n",
    "    <tr><td>ate</td><td>T0</td><td>T0</td><td>T1</td></tr>\n",
    "    <tr><td>the</td><td>T0</td><td>T0</td><td>T0</td></tr>\n",
    "    <tr><td>and</td><td>T1</td><td>T0</td><td>T0</td></tr>\n",
    "    <tr><td>rat</td><td>T0</td><td>T0</td><td>T1</td></tr>\n",
    "    <tr><td>dog</td><td>T0</td><td>T1</td><td>T1</td></tr>\n",
    "    <tr><td>cat</td><td>T1</td><td>T0</td><td>T1</td></tr>\n",
    "    <tr><td>chased</td><td>T0</td><td>T1</td><td>T1</td></tr>\n",
    "    <tr><td>table</td><td>T1</td><td>T1</td><td>T1</td></tr>\n",
    "</table>\n",
    "        "
   ]
  },
  {
   "cell_type": "markdown",
   "id": "91d9765d",
   "metadata": {},
   "source": [
    "<span style=\"color:green;font-size:large\">Compute probabilities</span>\n",
    "<p></p>\n",
    "<li><span style=\"color:red\">p_wj_ti</span> is the probability that word j belongs to topic i. This is computed by counting the number of documents a (word,topic) combination belongs to and dividing by the total number of documents</li>\n",
    "<li>Example: chair and topic 1 belong to 1 document, therefore the probability is 1/3 or 0.33</li>\n",
    "<li>we can use numpy's sum function to compute this for all probabilities</li>\n",
    "<li>Since there are two topics, compute the probabilities for topic 1 and use that to get the probabilities for topic 0</li>"
   ]
  },
  {
   "cell_type": "code",
   "execution_count": 5,
   "id": "6d577046",
   "metadata": {},
   "outputs": [
    {
     "data": {
      "text/plain": [
       "array([0.33333333, 0.33333333, 0.        , 0.33333333, 0.33333333,\n",
       "       0.66666667, 0.66666667, 0.66666667, 1.        ])"
      ]
     },
     "execution_count": 5,
     "metadata": {},
     "output_type": "execute_result"
    }
   ],
   "source": [
    "#Compute probabilities\n",
    "#Prob that word belongs to topic\n",
    "#there are 3 documents, 2 topics\n",
    "#get the row sum and divide by 3 (p(w|t1))\n",
    "p_w_t1 = topics.sum(axis=1)/3\n",
    "p_w_t1"
   ]
  },
  {
   "cell_type": "code",
   "execution_count": 6,
   "id": "9ad3060b",
   "metadata": {},
   "outputs": [
    {
     "data": {
      "text/plain": [
       "array([0.66666667, 0.66666667, 1.        , 0.66666667, 0.66666667,\n",
       "       0.33333333, 0.33333333, 0.33333333, 0.        ])"
      ]
     },
     "execution_count": 6,
     "metadata": {},
     "output_type": "execute_result"
    }
   ],
   "source": [
    "#1-p(w|t1) will be p(w|t0)\n",
    "p_w_t0 = 1-p_w_t1\n",
    "p_w_t0"
   ]
  },
  {
   "cell_type": "code",
   "execution_count": null,
   "id": "ad5bd9e7",
   "metadata": {},
   "outputs": [],
   "source": [
    "p_w_t = np.vstack((p_w_t0,p_w_t1))\n",
    "p_w_t"
   ]
  },
  {
   "cell_type": "markdown",
   "id": "391d66aa",
   "metadata": {},
   "source": [
    "<span style=\"color:green;font-size:large\">Compute probabilities</span>\n",
    "<p></p>\n",
    "<li><span style=\"color:red\">p_tj_di</span> is the probability that topic j belongs to document i. This is computed by counting the number of (word,topic_j) associated with a document and dividing by the number of words</li>\n",
    "<li>Example: Topic 1 is associated with three words in document 1, therefore the probability that topic 1 belongs to document 1 is 3/9 or 0.33</li>\n"
   ]
  },
  {
   "cell_type": "code",
   "execution_count": null,
   "id": "4432adbf",
   "metadata": {},
   "outputs": [],
   "source": [
    "#Get p(t|d) the probability that a topic is associated with a document\n",
    "#get the column sum and divide by 9\n",
    "p_t1_d = topics.sum(axis=0)/9\n",
    "p_t1_d"
   ]
  },
  {
   "cell_type": "code",
   "execution_count": null,
   "id": "36c9f4fa",
   "metadata": {},
   "outputs": [],
   "source": [
    "#For topic 0\n",
    "p_t0_d = 1-p_t1_d\n",
    "p_t0_d"
   ]
  },
  {
   "cell_type": "code",
   "execution_count": null,
   "id": "d3c6209d",
   "metadata": {},
   "outputs": [],
   "source": [
    "p_t_d = np.vstack((p_t0_d,p_t1_d))\n",
    "p_t_d"
   ]
  },
  {
   "cell_type": "markdown",
   "id": "9d159bf6",
   "metadata": {},
   "source": [
    "<span style=\"color:green;font-size:x-large\">update probabilities</span>\n",
    "<li>By changing word-topic-document assignment</li>\n",
    "<li>For each word, document (w,d) combination, compute:</li>\n",
    "<ul>\n",
    "    <li>a = p(t_i,d)*p(w,t_i)</li>\n",
    "    <li>b = p(t_j,d)*p(w,t_j)</li>\n",
    "</ul>\n",
    "<li>if $a < b$, change t_i to t_j</li>\n",
    "\n",
    "<li>Example: </li>\n",
    "<ul><li>p(t0,d2) = 0.55555; p(w6,t0) = 0.3333; a = 0.55555*0.33333</li>\n",
    "<li>p(t1,d2) = 0.4444; p(w6,t1) = 0.666667; b = 0.44444*0.666667</li>\n",
    "<li>Since $a<b$ change the assignment of w6,d2 from 1 to 0</li>\n",
    "    </ul>"
   ]
  },
  {
   "cell_type": "markdown",
   "id": "c3f1ce05",
   "metadata": {},
   "source": [
    "<span style=\"color:green;font-size:x-large\">compute all a's and b's</span>\n",
    "<li>Note that we need to add an axis to one of the matrices</li>"
   ]
  },
  {
   "cell_type": "code",
   "execution_count": null,
   "id": "4baf4edb",
   "metadata": {},
   "outputs": [],
   "source": [
    "#Compute all a's and b's\n",
    "a_and_b = np.multiply(p_t_d.transpose().reshape(3,2,1),p_w_t)\n",
    "a_and_b"
   ]
  },
  {
   "cell_type": "markdown",
   "id": "cbe7960a",
   "metadata": {},
   "source": [
    "<span style=\"color:green;font-size:x-large\">Extract t0 and t1 products</span>\n",
    "<li>a_and_b is a 3-d matrix. Extract two 2-d matrices from it</li>"
   ]
  },
  {
   "cell_type": "code",
   "execution_count": null,
   "id": "f5201b2f",
   "metadata": {},
   "outputs": [],
   "source": [
    "t_0_prods = a_and_b[:,0,:]\n",
    "t_1_prods = a_and_b[:,1,:]"
   ]
  },
  {
   "cell_type": "code",
   "execution_count": null,
   "id": "33218f6f",
   "metadata": {},
   "outputs": [],
   "source": [
    "t_0_prods"
   ]
  },
  {
   "cell_type": "markdown",
   "id": "eafd5f76",
   "metadata": {},
   "source": [
    "<span style=\"color:green;font-size:x-large\">Figure out which topics to switch</span>\n",
    "<li>Wherever t_0+prods is less than t_1_prods, the topic needs to be switched</li>\n",
    "<li>Note that the actual algorithm works a little differently since we're just doing a single comparison</li>\n",
    "<li>If we went through the matrices serially, the results will be different because the topics, and consequently the probabilities, will change</li>\n",
    "<li>Also, there won't conveniently be two topics!</li>"
   ]
  },
  {
   "cell_type": "code",
   "execution_count": null,
   "id": "33f6d43d",
   "metadata": {},
   "outputs": [],
   "source": [
    "switch = t_0_prods < t_1_prods"
   ]
  },
  {
   "cell_type": "markdown",
   "id": "bf380f04",
   "metadata": {},
   "source": [
    "<span style=\"color:green;font-size:x-large\">switch the topics</span>\n",
    "<li>We can use np.where for this</li>"
   ]
  },
  {
   "cell_type": "code",
   "execution_count": null,
   "id": "91fc7e40",
   "metadata": {},
   "outputs": [],
   "source": [
    "switch.transpose()"
   ]
  },
  {
   "cell_type": "code",
   "execution_count": null,
   "id": "7746e5bb",
   "metadata": {},
   "outputs": [],
   "source": [
    "topics"
   ]
  },
  {
   "cell_type": "code",
   "execution_count": null,
   "id": "e59196e1",
   "metadata": {},
   "outputs": [],
   "source": [
    "st = switch.transpose()\n",
    "btopics = topics.astype(bool)\n",
    "btopics"
   ]
  },
  {
   "cell_type": "code",
   "execution_count": null,
   "id": "4b111115",
   "metadata": {},
   "outputs": [],
   "source": [
    "new_topics = np.where(st, ~btopics,btopics).astype(int)\n",
    "new_topics"
   ]
  },
  {
   "cell_type": "markdown",
   "id": "b5c2602a",
   "metadata": {},
   "source": [
    "<span style=\"color:green;font-size:x-large\">Calculate new probabilites and repeat</span>\n"
   ]
  },
  {
   "cell_type": "code",
   "execution_count": null,
   "id": "e98cddfc",
   "metadata": {},
   "outputs": [],
   "source": [
    "p_w_t1_new = new_topics.sum(axis=1)/3\n",
    "p_w_t0_new = 1-p_w_t1_new\n",
    "p_t1_d_new = new_topics.sum(axis=0)/9\n",
    "p_t0_d_new = 1- p_t1_d_new\n",
    "p_t0_d_new, p_t1_d_new"
   ]
  },
  {
   "cell_type": "code",
   "execution_count": null,
   "id": "92ef29b8",
   "metadata": {},
   "outputs": [],
   "source": [
    "p_w_t1_new,p_w_t0_new"
   ]
  },
  {
   "cell_type": "code",
   "execution_count": null,
   "id": "3e47f1f4",
   "metadata": {},
   "outputs": [],
   "source": [
    "p_t0_d_new, p_t1_d_new"
   ]
  },
  {
   "cell_type": "markdown",
   "id": "dad81d4f",
   "metadata": {},
   "source": [
    "<span style=\"color:green;font-size:xx-large\">Why \"sort of\"</span>\n",
    "<p></p>\n",
    "<li>The eagle eyed amongst you must have noticed that <b>we are assuming all words are in all documents</b>. No document specific information is being used</li>\n",
    "<li>In practice, the first step, i.e., the random topic assignment to word-document combinations, is only done on words that are in the document</li>\n",
    "<li>This makes the code a lot more complicated since the topics array may have different number of rows for each document</li>\n",
    "<li>Also, a lot of the nifty matrix manipulation we've been doing will no longer be possible</li>\n",
    "<li>Finally, there are other dirichlet parameters that need to be taken into consideration</li>\n",
    "<li>A more complete example is in the second notebook but you'll need to read the paper to understand it</li>"
   ]
  },
  {
   "cell_type": "code",
   "execution_count": null,
   "id": "887c2a39",
   "metadata": {},
   "outputs": [],
   "source": []
  }
 ],
 "metadata": {
  "kernelspec": {
   "display_name": "Python 3 (ipykernel)",
   "language": "python",
   "name": "python3"
  },
  "language_info": {
   "codemirror_mode": {
    "name": "ipython",
    "version": 3
   },
   "file_extension": ".py",
   "mimetype": "text/x-python",
   "name": "python",
   "nbconvert_exporter": "python",
   "pygments_lexer": "ipython3",
   "version": "3.9.12"
  },
  "toc": {
   "base_numbering": 1,
   "nav_menu": {},
   "number_sections": true,
   "sideBar": true,
   "skip_h1_title": false,
   "title_cell": "Table of Contents",
   "title_sidebar": "Contents",
   "toc_cell": false,
   "toc_position": {},
   "toc_section_display": true,
   "toc_window_display": false
  }
 },
 "nbformat": 4,
 "nbformat_minor": 5
}
