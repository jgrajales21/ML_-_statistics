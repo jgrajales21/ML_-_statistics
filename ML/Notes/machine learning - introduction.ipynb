{
 "cells": [
  {
   "cell_type": "markdown",
   "metadata": {},
   "source": [
    "<br><br><br>\n",
    "<span style=\"color:red;font-size:60px\">Machine learning</span>\n",
    "\n",
    "<br><br>"
   ]
  },
  {
   "cell_type": "markdown",
   "metadata": {},
   "source": [
    "<li>Creating programs that learn\n",
    "<li>The \"learned\" knowledge is not explicitly contained in the program\n",
    "<li>The program is designed to learn using <b><span style=\"color:darkred\">real world data</span></b>"
   ]
  },
  {
   "cell_type": "markdown",
   "metadata": {},
   "source": [
    "<br><br><br>\n",
    "<span style=\"color:green;font-size:xx-large\">Basic ideas</span>\n",
    "\n"
   ]
  },
  {
   "cell_type": "markdown",
   "metadata": {},
   "source": [
    "<li>The program contains a learning algorithm\n",
    "<li>The program is given data\n",
    "<li>The program applies the learning algorithm to the data and figures stuff out!"
   ]
  },
  {
   "cell_type": "markdown",
   "metadata": {},
   "source": [
    "<br><br><br>\n",
    "<span style=\"color:green;font-size:xx-large\">Types of learning</span>\n",
    "\n"
   ]
  },
  {
   "cell_type": "markdown",
   "metadata": {},
   "source": [
    "<li><span style=\"color:darkblue\">Supervised learning</span>: The data set contains paired input and output features and the machine learns how to get the output from the given input. In supervised learning, both input as well as output features are used in learning. Supervised learning is used for <span style=\"color:darkgreen\">prediction</span>\n",
    "<li><span style=\"color:darkblue\">Unsupervised learning</span>: The data set contains features and the machine tries to induce concepts or knowledge from this feature set. Typically by organizing the data into \"like\" clusters. In unsupervised learning, only input features are used in learning. Unsupervised learning is used for discovering <span style=\"color:darkgreen\">hidden structures</span> in data\n",
    "<li><span style=\"color:darkblue\">Reinforcement learning</span>: Software agents that learn how to maximize a reward function in a stochastic environment. Reinforcement learning is used to learn <span style=\"color:darkgreen\">strategies</span> in interactive environments"
   ]
  },
  {
   "cell_type": "markdown",
   "metadata": {},
   "source": [
    "<br><br><br>\n",
    "<span style=\"color:green;font-size:xx-large\">Classification</span>\n",
    "\n"
   ]
  },
  {
   "cell_type": "markdown",
   "metadata": {},
   "source": [
    "<li>Learn how to classify cases into one of a set of discrete categories</li>\n",
    "<li>When a new case arrives, predict which category it belongs to</li>\n",
    "<li><span style=\"color:darkblue\">binary classification</span>: classifies cases into into one of two categories</li>\n",
    "<li><span style=\"color:darkgreen\">Classification is the most common form of prediction using machine learning</span></li>\n",
    "<li>Examples:</li>\n",
    "<ol>\n",
    "    <li><span style=\"color:darkblue\">credit scoring</span>: classify loan applications into various credit risk categories (or binary loan/don't loan categories)</li>\n",
    "    <li><span style=\"color:darkblue\">stock picking</span>: classify stocks (or other financial assets) into buy/sell/hold categories</li>\n",
    "    <li><span style=\"color:darkblue\">optical character recognition</span>: classify images into letters of the alphabet</li>\n",
    "    <li><span style=\"color:darkblue\">churn</span>: identify which customers are more likely to churn (e.g., cell phone customers)</li>\n",
    "    <li><span style=\"color:darkblue\">sentence recognition</span>: classify pieces of text into well-formed or not well-formed sentences (used in natural language processing)</li>"
   ]
  },
  {
   "cell_type": "markdown",
   "metadata": {},
   "source": [
    "<br><br><br>\n",
    "<span style=\"color:green;font-size:xx-large\">Classification example</span>\n",
    "\n"
   ]
  },
  {
   "cell_type": "markdown",
   "metadata": {},
   "source": [
    "<li>Classifying handwritten digits into categories 0 ... 9</li>\n",
    "<li>We'll use the MNIST database - 70,000 images of digits (<span style=\"color:green\">70,000 cases</span>)</li>\n",
    "<li>each image is pixelated with 28*28 pixels (<span style=\"color:green\">784 features</span>)</li>\n",
    "<li>the class (which digit) of each image is known. We can use supervised learning</li>\n"
   ]
  },
  {
   "cell_type": "markdown",
   "metadata": {},
   "source": [
    "<h3>Classification ML Models</h3>\n",
    "<li><a href=\"https://scikit-learn.org/stable/modules/generated/sklearn.linear_model.LogisticRegression.html\">logistic regression</a></li>\n",
    "<li><a href=\"https://scikit-learn.org/stable/modules/sgd.html\">stochastic gradient descent</a></li>\n",
    "<li><a href=\"https://scikit-learn.org/stable/modules/tree.html\">Decision trees</a> and <a href=\"https://scikit-learn.org/stable/modules/generated/sklearn.ensemble.RandomForestClassifier.html\">random forest classifiers</a></li>\n",
    "<li><a href=\"https://scikit-learn.org/stable/modules/svm.html\">support vector machines</a></li>\n",
    "<li><a href=\"https://scikit-learn.org/stable/modules/naive_bayes.html\">naive bayes classifiers</a></li>\n",
    "<li><a href=\"https://scikit-learn.org/stable/modules/generated/sklearn.neural_network.MLPClassifier.html\">neural network classifiers</a></li>\n"
   ]
  },
  {
   "cell_type": "markdown",
   "metadata": {},
   "source": [
    "<li>We will walk through one <i>binary classifier</i> to get a sense for how classification works and what we need to do to evaluate the performance of a classifier</li>"
   ]
  },
  {
   "cell_type": "markdown",
   "metadata": {},
   "source": [
    "<span style=\"color:blue;font-size:large\">first make sure you're working with the latest version of sklearn</span>"
   ]
  },
  {
   "cell_type": "code",
   "execution_count": 1,
   "metadata": {},
   "outputs": [
    {
     "data": {
      "text/plain": [
       "'1.3.1'"
      ]
     },
     "execution_count": 1,
     "metadata": {},
     "output_type": "execute_result"
    }
   ],
   "source": [
    "import sklearn\n",
    "sklearn.__version__ #1.3.1"
   ]
  },
  {
   "cell_type": "code",
   "execution_count": 2,
   "metadata": {},
   "outputs": [],
   "source": [
    "#!pip install scikit-learn --upgrade"
   ]
  },
  {
   "cell_type": "markdown",
   "metadata": {},
   "source": [
    "<br><br><br>\n",
    "<h3>Basic data preparation</h3>\n",
    "<li>Get the data from the appropriate data source</li>\n",
    "<li>Identify and organize the features and the target</li>\n",
    "<li>Separate the data into training and testing samples</li>"
   ]
  },
  {
   "cell_type": "code",
   "execution_count": 2,
   "metadata": {},
   "outputs": [
    {
     "name": "stderr",
     "output_type": "stream",
     "text": [
      "/Users/joshuagrajales/opt/anaconda3/lib/python3.9/site-packages/sklearn/datasets/_openml.py:1022: FutureWarning: The default value of `parser` will change from `'liac-arff'` to `'auto'` in 1.4. You can set `parser='auto'` to silence this warning. Therefore, an `ImportError` will be raised from 1.4 if the dataset is dense and pandas is not installed. Note that the pandas parser may return different data types. See the Notes Section in fetch_openml's API doc for details.\n",
      "  warn(\n"
     ]
    },
    {
     "data": {
      "text/plain": [
       "dict_keys(['data', 'target', 'frame', 'categories', 'feature_names', 'target_names', 'DESCR', 'details', 'url'])"
      ]
     },
     "execution_count": 2,
     "metadata": {},
     "output_type": "execute_result"
    }
   ],
   "source": [
    "from sklearn.datasets import fetch_openml\n",
    "mnist = fetch_openml('mnist_784')\n",
    "mnist.keys()"
   ]
  },
  {
   "cell_type": "markdown",
   "metadata": {},
   "source": [
    "<li><span style=\"color:green\">DESCR</span>: a description of the data</li>\n",
    "<li><span style=\"color:green\">data</span>: the 70,000 * 784 features data</li>\n",
    "<li><span style=\"color:green\">target</span>: the 70,000 output feature values</li>\n"
   ]
  },
  {
   "cell_type": "code",
   "execution_count": 4,
   "metadata": {},
   "outputs": [
    {
     "data": {
      "text/html": [
       "<div>\n",
       "<style scoped>\n",
       "    .dataframe tbody tr th:only-of-type {\n",
       "        vertical-align: middle;\n",
       "    }\n",
       "\n",
       "    .dataframe tbody tr th {\n",
       "        vertical-align: top;\n",
       "    }\n",
       "\n",
       "    .dataframe thead th {\n",
       "        text-align: right;\n",
       "    }\n",
       "</style>\n",
       "<table border=\"1\" class=\"dataframe\">\n",
       "  <thead>\n",
       "    <tr style=\"text-align: right;\">\n",
       "      <th></th>\n",
       "      <th>pixel1</th>\n",
       "      <th>pixel2</th>\n",
       "      <th>pixel3</th>\n",
       "      <th>pixel4</th>\n",
       "      <th>pixel5</th>\n",
       "      <th>pixel6</th>\n",
       "      <th>pixel7</th>\n",
       "      <th>pixel8</th>\n",
       "      <th>pixel9</th>\n",
       "      <th>pixel10</th>\n",
       "      <th>...</th>\n",
       "      <th>pixel775</th>\n",
       "      <th>pixel776</th>\n",
       "      <th>pixel777</th>\n",
       "      <th>pixel778</th>\n",
       "      <th>pixel779</th>\n",
       "      <th>pixel780</th>\n",
       "      <th>pixel781</th>\n",
       "      <th>pixel782</th>\n",
       "      <th>pixel783</th>\n",
       "      <th>pixel784</th>\n",
       "    </tr>\n",
       "  </thead>\n",
       "  <tbody>\n",
       "    <tr>\n",
       "      <th>0</th>\n",
       "      <td>0.0</td>\n",
       "      <td>0.0</td>\n",
       "      <td>0.0</td>\n",
       "      <td>0.0</td>\n",
       "      <td>0.0</td>\n",
       "      <td>0.0</td>\n",
       "      <td>0.0</td>\n",
       "      <td>0.0</td>\n",
       "      <td>0.0</td>\n",
       "      <td>0.0</td>\n",
       "      <td>...</td>\n",
       "      <td>0.0</td>\n",
       "      <td>0.0</td>\n",
       "      <td>0.0</td>\n",
       "      <td>0.0</td>\n",
       "      <td>0.0</td>\n",
       "      <td>0.0</td>\n",
       "      <td>0.0</td>\n",
       "      <td>0.0</td>\n",
       "      <td>0.0</td>\n",
       "      <td>0.0</td>\n",
       "    </tr>\n",
       "    <tr>\n",
       "      <th>1</th>\n",
       "      <td>0.0</td>\n",
       "      <td>0.0</td>\n",
       "      <td>0.0</td>\n",
       "      <td>0.0</td>\n",
       "      <td>0.0</td>\n",
       "      <td>0.0</td>\n",
       "      <td>0.0</td>\n",
       "      <td>0.0</td>\n",
       "      <td>0.0</td>\n",
       "      <td>0.0</td>\n",
       "      <td>...</td>\n",
       "      <td>0.0</td>\n",
       "      <td>0.0</td>\n",
       "      <td>0.0</td>\n",
       "      <td>0.0</td>\n",
       "      <td>0.0</td>\n",
       "      <td>0.0</td>\n",
       "      <td>0.0</td>\n",
       "      <td>0.0</td>\n",
       "      <td>0.0</td>\n",
       "      <td>0.0</td>\n",
       "    </tr>\n",
       "    <tr>\n",
       "      <th>2</th>\n",
       "      <td>0.0</td>\n",
       "      <td>0.0</td>\n",
       "      <td>0.0</td>\n",
       "      <td>0.0</td>\n",
       "      <td>0.0</td>\n",
       "      <td>0.0</td>\n",
       "      <td>0.0</td>\n",
       "      <td>0.0</td>\n",
       "      <td>0.0</td>\n",
       "      <td>0.0</td>\n",
       "      <td>...</td>\n",
       "      <td>0.0</td>\n",
       "      <td>0.0</td>\n",
       "      <td>0.0</td>\n",
       "      <td>0.0</td>\n",
       "      <td>0.0</td>\n",
       "      <td>0.0</td>\n",
       "      <td>0.0</td>\n",
       "      <td>0.0</td>\n",
       "      <td>0.0</td>\n",
       "      <td>0.0</td>\n",
       "    </tr>\n",
       "    <tr>\n",
       "      <th>3</th>\n",
       "      <td>0.0</td>\n",
       "      <td>0.0</td>\n",
       "      <td>0.0</td>\n",
       "      <td>0.0</td>\n",
       "      <td>0.0</td>\n",
       "      <td>0.0</td>\n",
       "      <td>0.0</td>\n",
       "      <td>0.0</td>\n",
       "      <td>0.0</td>\n",
       "      <td>0.0</td>\n",
       "      <td>...</td>\n",
       "      <td>0.0</td>\n",
       "      <td>0.0</td>\n",
       "      <td>0.0</td>\n",
       "      <td>0.0</td>\n",
       "      <td>0.0</td>\n",
       "      <td>0.0</td>\n",
       "      <td>0.0</td>\n",
       "      <td>0.0</td>\n",
       "      <td>0.0</td>\n",
       "      <td>0.0</td>\n",
       "    </tr>\n",
       "    <tr>\n",
       "      <th>4</th>\n",
       "      <td>0.0</td>\n",
       "      <td>0.0</td>\n",
       "      <td>0.0</td>\n",
       "      <td>0.0</td>\n",
       "      <td>0.0</td>\n",
       "      <td>0.0</td>\n",
       "      <td>0.0</td>\n",
       "      <td>0.0</td>\n",
       "      <td>0.0</td>\n",
       "      <td>0.0</td>\n",
       "      <td>...</td>\n",
       "      <td>0.0</td>\n",
       "      <td>0.0</td>\n",
       "      <td>0.0</td>\n",
       "      <td>0.0</td>\n",
       "      <td>0.0</td>\n",
       "      <td>0.0</td>\n",
       "      <td>0.0</td>\n",
       "      <td>0.0</td>\n",
       "      <td>0.0</td>\n",
       "      <td>0.0</td>\n",
       "    </tr>\n",
       "    <tr>\n",
       "      <th>...</th>\n",
       "      <td>...</td>\n",
       "      <td>...</td>\n",
       "      <td>...</td>\n",
       "      <td>...</td>\n",
       "      <td>...</td>\n",
       "      <td>...</td>\n",
       "      <td>...</td>\n",
       "      <td>...</td>\n",
       "      <td>...</td>\n",
       "      <td>...</td>\n",
       "      <td>...</td>\n",
       "      <td>...</td>\n",
       "      <td>...</td>\n",
       "      <td>...</td>\n",
       "      <td>...</td>\n",
       "      <td>...</td>\n",
       "      <td>...</td>\n",
       "      <td>...</td>\n",
       "      <td>...</td>\n",
       "      <td>...</td>\n",
       "      <td>...</td>\n",
       "    </tr>\n",
       "    <tr>\n",
       "      <th>69995</th>\n",
       "      <td>0.0</td>\n",
       "      <td>0.0</td>\n",
       "      <td>0.0</td>\n",
       "      <td>0.0</td>\n",
       "      <td>0.0</td>\n",
       "      <td>0.0</td>\n",
       "      <td>0.0</td>\n",
       "      <td>0.0</td>\n",
       "      <td>0.0</td>\n",
       "      <td>0.0</td>\n",
       "      <td>...</td>\n",
       "      <td>0.0</td>\n",
       "      <td>0.0</td>\n",
       "      <td>0.0</td>\n",
       "      <td>0.0</td>\n",
       "      <td>0.0</td>\n",
       "      <td>0.0</td>\n",
       "      <td>0.0</td>\n",
       "      <td>0.0</td>\n",
       "      <td>0.0</td>\n",
       "      <td>0.0</td>\n",
       "    </tr>\n",
       "    <tr>\n",
       "      <th>69996</th>\n",
       "      <td>0.0</td>\n",
       "      <td>0.0</td>\n",
       "      <td>0.0</td>\n",
       "      <td>0.0</td>\n",
       "      <td>0.0</td>\n",
       "      <td>0.0</td>\n",
       "      <td>0.0</td>\n",
       "      <td>0.0</td>\n",
       "      <td>0.0</td>\n",
       "      <td>0.0</td>\n",
       "      <td>...</td>\n",
       "      <td>0.0</td>\n",
       "      <td>0.0</td>\n",
       "      <td>0.0</td>\n",
       "      <td>0.0</td>\n",
       "      <td>0.0</td>\n",
       "      <td>0.0</td>\n",
       "      <td>0.0</td>\n",
       "      <td>0.0</td>\n",
       "      <td>0.0</td>\n",
       "      <td>0.0</td>\n",
       "    </tr>\n",
       "    <tr>\n",
       "      <th>69997</th>\n",
       "      <td>0.0</td>\n",
       "      <td>0.0</td>\n",
       "      <td>0.0</td>\n",
       "      <td>0.0</td>\n",
       "      <td>0.0</td>\n",
       "      <td>0.0</td>\n",
       "      <td>0.0</td>\n",
       "      <td>0.0</td>\n",
       "      <td>0.0</td>\n",
       "      <td>0.0</td>\n",
       "      <td>...</td>\n",
       "      <td>0.0</td>\n",
       "      <td>0.0</td>\n",
       "      <td>0.0</td>\n",
       "      <td>0.0</td>\n",
       "      <td>0.0</td>\n",
       "      <td>0.0</td>\n",
       "      <td>0.0</td>\n",
       "      <td>0.0</td>\n",
       "      <td>0.0</td>\n",
       "      <td>0.0</td>\n",
       "    </tr>\n",
       "    <tr>\n",
       "      <th>69998</th>\n",
       "      <td>0.0</td>\n",
       "      <td>0.0</td>\n",
       "      <td>0.0</td>\n",
       "      <td>0.0</td>\n",
       "      <td>0.0</td>\n",
       "      <td>0.0</td>\n",
       "      <td>0.0</td>\n",
       "      <td>0.0</td>\n",
       "      <td>0.0</td>\n",
       "      <td>0.0</td>\n",
       "      <td>...</td>\n",
       "      <td>0.0</td>\n",
       "      <td>0.0</td>\n",
       "      <td>0.0</td>\n",
       "      <td>0.0</td>\n",
       "      <td>0.0</td>\n",
       "      <td>0.0</td>\n",
       "      <td>0.0</td>\n",
       "      <td>0.0</td>\n",
       "      <td>0.0</td>\n",
       "      <td>0.0</td>\n",
       "    </tr>\n",
       "    <tr>\n",
       "      <th>69999</th>\n",
       "      <td>0.0</td>\n",
       "      <td>0.0</td>\n",
       "      <td>0.0</td>\n",
       "      <td>0.0</td>\n",
       "      <td>0.0</td>\n",
       "      <td>0.0</td>\n",
       "      <td>0.0</td>\n",
       "      <td>0.0</td>\n",
       "      <td>0.0</td>\n",
       "      <td>0.0</td>\n",
       "      <td>...</td>\n",
       "      <td>0.0</td>\n",
       "      <td>0.0</td>\n",
       "      <td>0.0</td>\n",
       "      <td>0.0</td>\n",
       "      <td>0.0</td>\n",
       "      <td>0.0</td>\n",
       "      <td>0.0</td>\n",
       "      <td>0.0</td>\n",
       "      <td>0.0</td>\n",
       "      <td>0.0</td>\n",
       "    </tr>\n",
       "  </tbody>\n",
       "</table>\n",
       "<p>70000 rows × 784 columns</p>\n",
       "</div>"
      ],
      "text/plain": [
       "       pixel1  pixel2  pixel3  pixel4  pixel5  pixel6  pixel7  pixel8  pixel9  \\\n",
       "0         0.0     0.0     0.0     0.0     0.0     0.0     0.0     0.0     0.0   \n",
       "1         0.0     0.0     0.0     0.0     0.0     0.0     0.0     0.0     0.0   \n",
       "2         0.0     0.0     0.0     0.0     0.0     0.0     0.0     0.0     0.0   \n",
       "3         0.0     0.0     0.0     0.0     0.0     0.0     0.0     0.0     0.0   \n",
       "4         0.0     0.0     0.0     0.0     0.0     0.0     0.0     0.0     0.0   \n",
       "...       ...     ...     ...     ...     ...     ...     ...     ...     ...   \n",
       "69995     0.0     0.0     0.0     0.0     0.0     0.0     0.0     0.0     0.0   \n",
       "69996     0.0     0.0     0.0     0.0     0.0     0.0     0.0     0.0     0.0   \n",
       "69997     0.0     0.0     0.0     0.0     0.0     0.0     0.0     0.0     0.0   \n",
       "69998     0.0     0.0     0.0     0.0     0.0     0.0     0.0     0.0     0.0   \n",
       "69999     0.0     0.0     0.0     0.0     0.0     0.0     0.0     0.0     0.0   \n",
       "\n",
       "       pixel10  ...  pixel775  pixel776  pixel777  pixel778  pixel779  \\\n",
       "0          0.0  ...       0.0       0.0       0.0       0.0       0.0   \n",
       "1          0.0  ...       0.0       0.0       0.0       0.0       0.0   \n",
       "2          0.0  ...       0.0       0.0       0.0       0.0       0.0   \n",
       "3          0.0  ...       0.0       0.0       0.0       0.0       0.0   \n",
       "4          0.0  ...       0.0       0.0       0.0       0.0       0.0   \n",
       "...        ...  ...       ...       ...       ...       ...       ...   \n",
       "69995      0.0  ...       0.0       0.0       0.0       0.0       0.0   \n",
       "69996      0.0  ...       0.0       0.0       0.0       0.0       0.0   \n",
       "69997      0.0  ...       0.0       0.0       0.0       0.0       0.0   \n",
       "69998      0.0  ...       0.0       0.0       0.0       0.0       0.0   \n",
       "69999      0.0  ...       0.0       0.0       0.0       0.0       0.0   \n",
       "\n",
       "       pixel780  pixel781  pixel782  pixel783  pixel784  \n",
       "0           0.0       0.0       0.0       0.0       0.0  \n",
       "1           0.0       0.0       0.0       0.0       0.0  \n",
       "2           0.0       0.0       0.0       0.0       0.0  \n",
       "3           0.0       0.0       0.0       0.0       0.0  \n",
       "4           0.0       0.0       0.0       0.0       0.0  \n",
       "...         ...       ...       ...       ...       ...  \n",
       "69995       0.0       0.0       0.0       0.0       0.0  \n",
       "69996       0.0       0.0       0.0       0.0       0.0  \n",
       "69997       0.0       0.0       0.0       0.0       0.0  \n",
       "69998       0.0       0.0       0.0       0.0       0.0  \n",
       "69999       0.0       0.0       0.0       0.0       0.0  \n",
       "\n",
       "[70000 rows x 784 columns]"
      ]
     },
     "execution_count": 4,
     "metadata": {},
     "output_type": "execute_result"
    }
   ],
   "source": [
    "mnist['data']"
   ]
  },
  {
   "cell_type": "markdown",
   "metadata": {},
   "source": [
    "<h3>Example of pixelation</h3>\n",
    "<li>Each sample handwritten digit is divided into 784 (28x28) pixels</li>\n",
    "<li>The value in each pixel is the amount of shaded area in the pixel (max=255)</li>\n"
   ]
  },
  {
   "cell_type": "code",
   "execution_count": 5,
   "metadata": {},
   "outputs": [
    {
     "name": "stdout",
     "output_type": "stream",
     "text": [
      "166\n",
      "[(152, 3.0), (153, 18.0), (154, 18.0), (155, 18.0), (156, 126.0), (157, 136.0), (158, 175.0), (159, 26.0), (160, 166.0), (161, 255.0), (162, 247.0), (163, 127.0), (176, 30.0), (177, 36.0), (178, 94.0), (179, 154.0), (180, 170.0), (181, 253.0), (182, 253.0), (183, 253.0), (184, 253.0), (185, 253.0), (186, 225.0), (187, 172.0), (188, 253.0), (189, 242.0), (190, 195.0), (191, 64.0), (203, 49.0), (204, 238.0), (205, 253.0), (206, 253.0), (207, 253.0), (208, 253.0), (209, 253.0), (210, 253.0), (211, 253.0), (212, 253.0), (213, 251.0), (214, 93.0), (215, 82.0), (216, 82.0), (217, 56.0), (218, 39.0), (231, 18.0), (232, 219.0), (233, 253.0), (234, 253.0), (235, 253.0), (236, 253.0), (237, 253.0), (238, 198.0), (239, 182.0), (240, 247.0), (241, 241.0), (260, 80.0), (261, 156.0), (262, 107.0), (263, 253.0), (264, 253.0), (265, 205.0), (266, 11.0), (268, 43.0), (269, 154.0), (289, 14.0), (290, 1.0), (291, 154.0), (292, 253.0), (293, 90.0), (319, 139.0), (320, 253.0), (321, 190.0), (322, 2.0), (347, 11.0), (348, 190.0), (349, 253.0), (350, 70.0), (376, 35.0), (377, 241.0), (378, 225.0), (379, 160.0), (380, 108.0), (381, 1.0), (405, 81.0), (406, 240.0), (407, 253.0), (408, 253.0), (409, 119.0), (410, 25.0), (434, 45.0), (435, 186.0), (436, 253.0), (437, 253.0), (438, 150.0), (439, 27.0), (463, 16.0), (464, 93.0), (465, 252.0), (466, 253.0), (467, 187.0), (493, 249.0), (494, 253.0), (495, 249.0), (496, 64.0), (518, 46.0), (519, 130.0), (520, 183.0), (521, 253.0), (522, 253.0), (523, 207.0), (524, 2.0), (544, 39.0), (545, 148.0), (546, 229.0), (547, 253.0), (548, 253.0), (549, 253.0), (550, 250.0), (551, 182.0), (570, 24.0), (571, 114.0), (572, 221.0), (573, 253.0), (574, 253.0), (575, 253.0), (576, 253.0), (577, 201.0), (578, 78.0), (596, 23.0), (597, 66.0), (598, 213.0), (599, 253.0), (600, 253.0), (601, 253.0), (602, 253.0), (603, 198.0), (604, 81.0), (605, 2.0), (622, 18.0), (623, 171.0), (624, 219.0), (625, 253.0), (626, 253.0), (627, 253.0), (628, 253.0), (629, 195.0), (630, 80.0), (631, 9.0), (648, 55.0), (649, 172.0), (650, 226.0), (651, 253.0), (652, 253.0), (653, 253.0), (654, 253.0), (655, 244.0), (656, 133.0), (657, 11.0), (676, 136.0), (677, 253.0), (678, 253.0), (679, 253.0), (680, 212.0), (681, 135.0), (682, 132.0), (683, 16.0)]\n"
     ]
    }
   ],
   "source": [
    "pixels_with_values = [(val[0],val[1]) for val in enumerate(mnist['data'].loc[0]) if val[1] > 0.0]\n",
    "print(len(pixels_with_values))\n",
    "print(pixels_with_values)"
   ]
  },
  {
   "cell_type": "markdown",
   "metadata": {},
   "source": [
    "<li>Each handwriting sample is \"marked\", i.e., the digit it represents is known</li>\n",
    "<li>An example of the pixellation and the target is below</li>"
   ]
  },
  {
   "cell_type": "code",
   "execution_count": 6,
   "metadata": {},
   "outputs": [
    {
     "data": {
      "text/plain": [
       "0        5\n",
       "1        0\n",
       "2        4\n",
       "3        1\n",
       "4        9\n",
       "        ..\n",
       "69995    2\n",
       "69996    3\n",
       "69997    4\n",
       "69998    5\n",
       "69999    6\n",
       "Name: class, Length: 70000, dtype: category\n",
       "Categories (10, object): ['0', '1', '2', '3', ..., '6', '7', '8', '9']"
      ]
     },
     "execution_count": 6,
     "metadata": {},
     "output_type": "execute_result"
    }
   ],
   "source": [
    "mnist['target']"
   ]
  },
  {
   "cell_type": "code",
   "execution_count": 7,
   "metadata": {},
   "outputs": [
    {
     "name": "stdout",
     "output_type": "stream",
     "text": [
      "                                                        \n",
      "                                                        \n",
      "                                                        \n",
      "                                                        \n",
      "                                                        \n",
      "                        * * * * * * * * * * * *         \n",
      "                * * * * * * * * * * * * * * * *         \n",
      "              * * * * * * * * * * * * * * * *           \n",
      "              * * * * * * * * * * *                     \n",
      "                * * * * * * *   * *                     \n",
      "                  * * * * *                             \n",
      "                      * * * *                           \n",
      "                      * * * *                           \n",
      "                        * * * * * *                     \n",
      "                          * * * * * *                   \n",
      "                            * * * * * *                 \n",
      "                              * * * * *                 \n",
      "                                  * * * *               \n",
      "                            * * * * * * *               \n",
      "                        * * * * * * * *                 \n",
      "                    * * * * * * * * *                   \n",
      "                * * * * * * * * * *                     \n",
      "            * * * * * * * * * *                         \n",
      "        * * * * * * * * * *                             \n",
      "        * * * * * * * *                                 \n",
      "                                                        \n",
      "                                                        \n",
      "                                                        \n",
      "Actual value:  5\n"
     ]
    }
   ],
   "source": [
    "def display_digit(digit_number):\n",
    "    for line in mnist.data.to_numpy()[digit_number].reshape(28,28):\n",
    "        for num in line:\n",
    "            if num > 0:\n",
    "                print('*', end = ' ')\n",
    "            else:\n",
    "                print(' ', end = ' ')\n",
    "        print('')\n",
    "    print(\"Actual value: \",mnist.target.to_numpy()[digit_number])\n",
    "display_digit(0)"
   ]
  },
  {
   "cell_type": "markdown",
   "metadata": {},
   "source": [
    "<br><br><br>\n",
    "<span style=\"color:blue;font-size:large\">train, test, and holdout</span>\n",
    "\n"
   ]
  },
  {
   "cell_type": "markdown",
   "metadata": {},
   "source": [
    "<li><span style=\"color:green\">training dataset</span>: the dataset that the machine uses to learn whatever it is that it is supposed to learn</li>\n",
    "<ul><li>Because we're training a model on the data, the model is likely to be \"biased\" toward the training data</li>\n",
    "    <li>Consequently, as second dataset, unseen during the training, is used to provide an \"unbiased\" evaluation of the model performance</li>\n",
    "</ul>\n",
    "<li><span style=\"color:green\">validation/testing dataset</span>: the dataset that is used to test how well the machine has learned from the training set (the machine does not learn from this dataset and, therefore, it provides an unbiased evaluation of the model)</li>\n",
    "<li><span style=\"color:green\">holdout dataset</span>: the ML process is iterative. After multiple training and testing cycles, the data scientist settles on a model. A third dataset is sometimes used to test this final model</li>"
   ]
  },
  {
   "cell_type": "markdown",
   "metadata": {},
   "source": [
    "<br><br><br>\n",
    "<span style=\"color:blue;font-size:large\">prepare a train and test dataset</h3>\n",
    "\n"
   ]
  },
  {
   "cell_type": "markdown",
   "metadata": {},
   "source": [
    "<h3>Assemble the X and y in a dataframe</h3>\n",
    "<li>The sample and the target will be aligned in the same row</li>\n",
    "<li>splitting the data into train and test will be easier</li>\n",
    "<li>let X be the independent variable dataframe and y the target series</li>\n",
    "<li>first add target (y) as a new column of X</li>\n",
    "<li>then use sklearn's train_test_split function to split the set into two</li>\n",
    "<li>we'll also reduce the datasize to 30% so that the analysis can work in the class!</li>"
   ]
  },
  {
   "cell_type": "code",
   "execution_count": 8,
   "metadata": {},
   "outputs": [],
   "source": [
    "import pandas as pd\n",
    "import numpy as np\n",
    "X,y = mnist['data'],mnist['target']\n",
    "#the pd.assign function adds one or more pandas series as a new column(s) to a dataframe\n",
    "#The function returns a copy\n",
    "df = X.assign(target = y)\n",
    "\n",
    "#Randomly sample 30% of the data without replacement (to speed up in class analysis)\n",
    "df = df.sample(frac=.3,random_state=42)\n",
    "\n",
    "#Split the data into two dataframes randomly assigning rows to one of two sets\n",
    "from sklearn.model_selection import train_test_split\n",
    "train, test = train_test_split(df, test_size = 0.3,random_state=3456)\n"
   ]
  },
  {
   "cell_type": "code",
   "execution_count": 9,
   "metadata": {},
   "outputs": [
    {
     "data": {
      "text/html": [
       "<div>\n",
       "<style scoped>\n",
       "    .dataframe tbody tr th:only-of-type {\n",
       "        vertical-align: middle;\n",
       "    }\n",
       "\n",
       "    .dataframe tbody tr th {\n",
       "        vertical-align: top;\n",
       "    }\n",
       "\n",
       "    .dataframe thead th {\n",
       "        text-align: right;\n",
       "    }\n",
       "</style>\n",
       "<table border=\"1\" class=\"dataframe\">\n",
       "  <thead>\n",
       "    <tr style=\"text-align: right;\">\n",
       "      <th></th>\n",
       "      <th>pixel1</th>\n",
       "      <th>pixel2</th>\n",
       "      <th>pixel3</th>\n",
       "      <th>pixel4</th>\n",
       "      <th>pixel5</th>\n",
       "      <th>pixel6</th>\n",
       "      <th>pixel7</th>\n",
       "      <th>pixel8</th>\n",
       "      <th>pixel9</th>\n",
       "      <th>pixel10</th>\n",
       "      <th>...</th>\n",
       "      <th>pixel776</th>\n",
       "      <th>pixel777</th>\n",
       "      <th>pixel778</th>\n",
       "      <th>pixel779</th>\n",
       "      <th>pixel780</th>\n",
       "      <th>pixel781</th>\n",
       "      <th>pixel782</th>\n",
       "      <th>pixel783</th>\n",
       "      <th>pixel784</th>\n",
       "      <th>target</th>\n",
       "    </tr>\n",
       "  </thead>\n",
       "  <tbody>\n",
       "    <tr>\n",
       "      <th>46730</th>\n",
       "      <td>0.0</td>\n",
       "      <td>0.0</td>\n",
       "      <td>0.0</td>\n",
       "      <td>0.0</td>\n",
       "      <td>0.0</td>\n",
       "      <td>0.0</td>\n",
       "      <td>0.0</td>\n",
       "      <td>0.0</td>\n",
       "      <td>0.0</td>\n",
       "      <td>0.0</td>\n",
       "      <td>...</td>\n",
       "      <td>0.0</td>\n",
       "      <td>0.0</td>\n",
       "      <td>0.0</td>\n",
       "      <td>0.0</td>\n",
       "      <td>0.0</td>\n",
       "      <td>0.0</td>\n",
       "      <td>0.0</td>\n",
       "      <td>0.0</td>\n",
       "      <td>0.0</td>\n",
       "      <td>8</td>\n",
       "    </tr>\n",
       "    <tr>\n",
       "      <th>48393</th>\n",
       "      <td>0.0</td>\n",
       "      <td>0.0</td>\n",
       "      <td>0.0</td>\n",
       "      <td>0.0</td>\n",
       "      <td>0.0</td>\n",
       "      <td>0.0</td>\n",
       "      <td>0.0</td>\n",
       "      <td>0.0</td>\n",
       "      <td>0.0</td>\n",
       "      <td>0.0</td>\n",
       "      <td>...</td>\n",
       "      <td>0.0</td>\n",
       "      <td>0.0</td>\n",
       "      <td>0.0</td>\n",
       "      <td>0.0</td>\n",
       "      <td>0.0</td>\n",
       "      <td>0.0</td>\n",
       "      <td>0.0</td>\n",
       "      <td>0.0</td>\n",
       "      <td>0.0</td>\n",
       "      <td>4</td>\n",
       "    </tr>\n",
       "    <tr>\n",
       "      <th>41416</th>\n",
       "      <td>0.0</td>\n",
       "      <td>0.0</td>\n",
       "      <td>0.0</td>\n",
       "      <td>0.0</td>\n",
       "      <td>0.0</td>\n",
       "      <td>0.0</td>\n",
       "      <td>0.0</td>\n",
       "      <td>0.0</td>\n",
       "      <td>0.0</td>\n",
       "      <td>0.0</td>\n",
       "      <td>...</td>\n",
       "      <td>0.0</td>\n",
       "      <td>0.0</td>\n",
       "      <td>0.0</td>\n",
       "      <td>0.0</td>\n",
       "      <td>0.0</td>\n",
       "      <td>0.0</td>\n",
       "      <td>0.0</td>\n",
       "      <td>0.0</td>\n",
       "      <td>0.0</td>\n",
       "      <td>8</td>\n",
       "    </tr>\n",
       "    <tr>\n",
       "      <th>34506</th>\n",
       "      <td>0.0</td>\n",
       "      <td>0.0</td>\n",
       "      <td>0.0</td>\n",
       "      <td>0.0</td>\n",
       "      <td>0.0</td>\n",
       "      <td>0.0</td>\n",
       "      <td>0.0</td>\n",
       "      <td>0.0</td>\n",
       "      <td>0.0</td>\n",
       "      <td>0.0</td>\n",
       "      <td>...</td>\n",
       "      <td>0.0</td>\n",
       "      <td>0.0</td>\n",
       "      <td>0.0</td>\n",
       "      <td>0.0</td>\n",
       "      <td>0.0</td>\n",
       "      <td>0.0</td>\n",
       "      <td>0.0</td>\n",
       "      <td>0.0</td>\n",
       "      <td>0.0</td>\n",
       "      <td>7</td>\n",
       "    </tr>\n",
       "    <tr>\n",
       "      <th>43725</th>\n",
       "      <td>0.0</td>\n",
       "      <td>0.0</td>\n",
       "      <td>0.0</td>\n",
       "      <td>0.0</td>\n",
       "      <td>0.0</td>\n",
       "      <td>0.0</td>\n",
       "      <td>0.0</td>\n",
       "      <td>0.0</td>\n",
       "      <td>0.0</td>\n",
       "      <td>0.0</td>\n",
       "      <td>...</td>\n",
       "      <td>0.0</td>\n",
       "      <td>0.0</td>\n",
       "      <td>0.0</td>\n",
       "      <td>0.0</td>\n",
       "      <td>0.0</td>\n",
       "      <td>0.0</td>\n",
       "      <td>0.0</td>\n",
       "      <td>0.0</td>\n",
       "      <td>0.0</td>\n",
       "      <td>7</td>\n",
       "    </tr>\n",
       "    <tr>\n",
       "      <th>...</th>\n",
       "      <td>...</td>\n",
       "      <td>...</td>\n",
       "      <td>...</td>\n",
       "      <td>...</td>\n",
       "      <td>...</td>\n",
       "      <td>...</td>\n",
       "      <td>...</td>\n",
       "      <td>...</td>\n",
       "      <td>...</td>\n",
       "      <td>...</td>\n",
       "      <td>...</td>\n",
       "      <td>...</td>\n",
       "      <td>...</td>\n",
       "      <td>...</td>\n",
       "      <td>...</td>\n",
       "      <td>...</td>\n",
       "      <td>...</td>\n",
       "      <td>...</td>\n",
       "      <td>...</td>\n",
       "      <td>...</td>\n",
       "      <td>...</td>\n",
       "    </tr>\n",
       "    <tr>\n",
       "      <th>1216</th>\n",
       "      <td>0.0</td>\n",
       "      <td>0.0</td>\n",
       "      <td>0.0</td>\n",
       "      <td>0.0</td>\n",
       "      <td>0.0</td>\n",
       "      <td>0.0</td>\n",
       "      <td>0.0</td>\n",
       "      <td>0.0</td>\n",
       "      <td>0.0</td>\n",
       "      <td>0.0</td>\n",
       "      <td>...</td>\n",
       "      <td>0.0</td>\n",
       "      <td>0.0</td>\n",
       "      <td>0.0</td>\n",
       "      <td>0.0</td>\n",
       "      <td>0.0</td>\n",
       "      <td>0.0</td>\n",
       "      <td>0.0</td>\n",
       "      <td>0.0</td>\n",
       "      <td>0.0</td>\n",
       "      <td>7</td>\n",
       "    </tr>\n",
       "    <tr>\n",
       "      <th>19036</th>\n",
       "      <td>0.0</td>\n",
       "      <td>0.0</td>\n",
       "      <td>0.0</td>\n",
       "      <td>0.0</td>\n",
       "      <td>0.0</td>\n",
       "      <td>0.0</td>\n",
       "      <td>0.0</td>\n",
       "      <td>0.0</td>\n",
       "      <td>0.0</td>\n",
       "      <td>0.0</td>\n",
       "      <td>...</td>\n",
       "      <td>0.0</td>\n",
       "      <td>0.0</td>\n",
       "      <td>0.0</td>\n",
       "      <td>0.0</td>\n",
       "      <td>0.0</td>\n",
       "      <td>0.0</td>\n",
       "      <td>0.0</td>\n",
       "      <td>0.0</td>\n",
       "      <td>0.0</td>\n",
       "      <td>1</td>\n",
       "    </tr>\n",
       "    <tr>\n",
       "      <th>51256</th>\n",
       "      <td>0.0</td>\n",
       "      <td>0.0</td>\n",
       "      <td>0.0</td>\n",
       "      <td>0.0</td>\n",
       "      <td>0.0</td>\n",
       "      <td>0.0</td>\n",
       "      <td>0.0</td>\n",
       "      <td>0.0</td>\n",
       "      <td>0.0</td>\n",
       "      <td>0.0</td>\n",
       "      <td>...</td>\n",
       "      <td>0.0</td>\n",
       "      <td>0.0</td>\n",
       "      <td>0.0</td>\n",
       "      <td>0.0</td>\n",
       "      <td>0.0</td>\n",
       "      <td>0.0</td>\n",
       "      <td>0.0</td>\n",
       "      <td>0.0</td>\n",
       "      <td>0.0</td>\n",
       "      <td>2</td>\n",
       "    </tr>\n",
       "    <tr>\n",
       "      <th>48198</th>\n",
       "      <td>0.0</td>\n",
       "      <td>0.0</td>\n",
       "      <td>0.0</td>\n",
       "      <td>0.0</td>\n",
       "      <td>0.0</td>\n",
       "      <td>0.0</td>\n",
       "      <td>0.0</td>\n",
       "      <td>0.0</td>\n",
       "      <td>0.0</td>\n",
       "      <td>0.0</td>\n",
       "      <td>...</td>\n",
       "      <td>0.0</td>\n",
       "      <td>0.0</td>\n",
       "      <td>0.0</td>\n",
       "      <td>0.0</td>\n",
       "      <td>0.0</td>\n",
       "      <td>0.0</td>\n",
       "      <td>0.0</td>\n",
       "      <td>0.0</td>\n",
       "      <td>0.0</td>\n",
       "      <td>4</td>\n",
       "    </tr>\n",
       "    <tr>\n",
       "      <th>2571</th>\n",
       "      <td>0.0</td>\n",
       "      <td>0.0</td>\n",
       "      <td>0.0</td>\n",
       "      <td>0.0</td>\n",
       "      <td>0.0</td>\n",
       "      <td>0.0</td>\n",
       "      <td>0.0</td>\n",
       "      <td>0.0</td>\n",
       "      <td>0.0</td>\n",
       "      <td>0.0</td>\n",
       "      <td>...</td>\n",
       "      <td>0.0</td>\n",
       "      <td>0.0</td>\n",
       "      <td>0.0</td>\n",
       "      <td>0.0</td>\n",
       "      <td>0.0</td>\n",
       "      <td>0.0</td>\n",
       "      <td>0.0</td>\n",
       "      <td>0.0</td>\n",
       "      <td>0.0</td>\n",
       "      <td>5</td>\n",
       "    </tr>\n",
       "  </tbody>\n",
       "</table>\n",
       "<p>21000 rows × 785 columns</p>\n",
       "</div>"
      ],
      "text/plain": [
       "       pixel1  pixel2  pixel3  pixel4  pixel5  pixel6  pixel7  pixel8  pixel9  \\\n",
       "46730     0.0     0.0     0.0     0.0     0.0     0.0     0.0     0.0     0.0   \n",
       "48393     0.0     0.0     0.0     0.0     0.0     0.0     0.0     0.0     0.0   \n",
       "41416     0.0     0.0     0.0     0.0     0.0     0.0     0.0     0.0     0.0   \n",
       "34506     0.0     0.0     0.0     0.0     0.0     0.0     0.0     0.0     0.0   \n",
       "43725     0.0     0.0     0.0     0.0     0.0     0.0     0.0     0.0     0.0   \n",
       "...       ...     ...     ...     ...     ...     ...     ...     ...     ...   \n",
       "1216      0.0     0.0     0.0     0.0     0.0     0.0     0.0     0.0     0.0   \n",
       "19036     0.0     0.0     0.0     0.0     0.0     0.0     0.0     0.0     0.0   \n",
       "51256     0.0     0.0     0.0     0.0     0.0     0.0     0.0     0.0     0.0   \n",
       "48198     0.0     0.0     0.0     0.0     0.0     0.0     0.0     0.0     0.0   \n",
       "2571      0.0     0.0     0.0     0.0     0.0     0.0     0.0     0.0     0.0   \n",
       "\n",
       "       pixel10  ...  pixel776  pixel777  pixel778  pixel779  pixel780  \\\n",
       "46730      0.0  ...       0.0       0.0       0.0       0.0       0.0   \n",
       "48393      0.0  ...       0.0       0.0       0.0       0.0       0.0   \n",
       "41416      0.0  ...       0.0       0.0       0.0       0.0       0.0   \n",
       "34506      0.0  ...       0.0       0.0       0.0       0.0       0.0   \n",
       "43725      0.0  ...       0.0       0.0       0.0       0.0       0.0   \n",
       "...        ...  ...       ...       ...       ...       ...       ...   \n",
       "1216       0.0  ...       0.0       0.0       0.0       0.0       0.0   \n",
       "19036      0.0  ...       0.0       0.0       0.0       0.0       0.0   \n",
       "51256      0.0  ...       0.0       0.0       0.0       0.0       0.0   \n",
       "48198      0.0  ...       0.0       0.0       0.0       0.0       0.0   \n",
       "2571       0.0  ...       0.0       0.0       0.0       0.0       0.0   \n",
       "\n",
       "       pixel781  pixel782  pixel783  pixel784  target  \n",
       "46730       0.0       0.0       0.0       0.0       8  \n",
       "48393       0.0       0.0       0.0       0.0       4  \n",
       "41416       0.0       0.0       0.0       0.0       8  \n",
       "34506       0.0       0.0       0.0       0.0       7  \n",
       "43725       0.0       0.0       0.0       0.0       7  \n",
       "...         ...       ...       ...       ...     ...  \n",
       "1216        0.0       0.0       0.0       0.0       7  \n",
       "19036       0.0       0.0       0.0       0.0       1  \n",
       "51256       0.0       0.0       0.0       0.0       2  \n",
       "48198       0.0       0.0       0.0       0.0       4  \n",
       "2571        0.0       0.0       0.0       0.0       5  \n",
       "\n",
       "[21000 rows x 785 columns]"
      ]
     },
     "execution_count": 9,
     "metadata": {},
     "output_type": "execute_result"
    }
   ],
   "source": [
    "df"
   ]
  },
  {
   "cell_type": "code",
   "execution_count": 10,
   "metadata": {},
   "outputs": [
    {
     "data": {
      "text/html": [
       "<div>\n",
       "<style scoped>\n",
       "    .dataframe tbody tr th:only-of-type {\n",
       "        vertical-align: middle;\n",
       "    }\n",
       "\n",
       "    .dataframe tbody tr th {\n",
       "        vertical-align: top;\n",
       "    }\n",
       "\n",
       "    .dataframe thead th {\n",
       "        text-align: right;\n",
       "    }\n",
       "</style>\n",
       "<table border=\"1\" class=\"dataframe\">\n",
       "  <thead>\n",
       "    <tr style=\"text-align: right;\">\n",
       "      <th></th>\n",
       "      <th>pixel1</th>\n",
       "      <th>pixel2</th>\n",
       "      <th>pixel3</th>\n",
       "      <th>pixel4</th>\n",
       "      <th>pixel5</th>\n",
       "      <th>pixel6</th>\n",
       "      <th>pixel7</th>\n",
       "      <th>pixel8</th>\n",
       "      <th>pixel9</th>\n",
       "      <th>pixel10</th>\n",
       "      <th>...</th>\n",
       "      <th>pixel776</th>\n",
       "      <th>pixel777</th>\n",
       "      <th>pixel778</th>\n",
       "      <th>pixel779</th>\n",
       "      <th>pixel780</th>\n",
       "      <th>pixel781</th>\n",
       "      <th>pixel782</th>\n",
       "      <th>pixel783</th>\n",
       "      <th>pixel784</th>\n",
       "      <th>target</th>\n",
       "    </tr>\n",
       "  </thead>\n",
       "  <tbody>\n",
       "    <tr>\n",
       "      <th>46183</th>\n",
       "      <td>0.0</td>\n",
       "      <td>0.0</td>\n",
       "      <td>0.0</td>\n",
       "      <td>0.0</td>\n",
       "      <td>0.0</td>\n",
       "      <td>0.0</td>\n",
       "      <td>0.0</td>\n",
       "      <td>0.0</td>\n",
       "      <td>0.0</td>\n",
       "      <td>0.0</td>\n",
       "      <td>...</td>\n",
       "      <td>0.0</td>\n",
       "      <td>0.0</td>\n",
       "      <td>0.0</td>\n",
       "      <td>0.0</td>\n",
       "      <td>0.0</td>\n",
       "      <td>0.0</td>\n",
       "      <td>0.0</td>\n",
       "      <td>0.0</td>\n",
       "      <td>0.0</td>\n",
       "      <td>0</td>\n",
       "    </tr>\n",
       "    <tr>\n",
       "      <th>12639</th>\n",
       "      <td>0.0</td>\n",
       "      <td>0.0</td>\n",
       "      <td>0.0</td>\n",
       "      <td>0.0</td>\n",
       "      <td>0.0</td>\n",
       "      <td>0.0</td>\n",
       "      <td>0.0</td>\n",
       "      <td>0.0</td>\n",
       "      <td>0.0</td>\n",
       "      <td>0.0</td>\n",
       "      <td>...</td>\n",
       "      <td>0.0</td>\n",
       "      <td>0.0</td>\n",
       "      <td>0.0</td>\n",
       "      <td>0.0</td>\n",
       "      <td>0.0</td>\n",
       "      <td>0.0</td>\n",
       "      <td>0.0</td>\n",
       "      <td>0.0</td>\n",
       "      <td>0.0</td>\n",
       "      <td>4</td>\n",
       "    </tr>\n",
       "    <tr>\n",
       "      <th>51323</th>\n",
       "      <td>0.0</td>\n",
       "      <td>0.0</td>\n",
       "      <td>0.0</td>\n",
       "      <td>0.0</td>\n",
       "      <td>0.0</td>\n",
       "      <td>0.0</td>\n",
       "      <td>0.0</td>\n",
       "      <td>0.0</td>\n",
       "      <td>0.0</td>\n",
       "      <td>0.0</td>\n",
       "      <td>...</td>\n",
       "      <td>0.0</td>\n",
       "      <td>0.0</td>\n",
       "      <td>0.0</td>\n",
       "      <td>0.0</td>\n",
       "      <td>0.0</td>\n",
       "      <td>0.0</td>\n",
       "      <td>0.0</td>\n",
       "      <td>0.0</td>\n",
       "      <td>0.0</td>\n",
       "      <td>2</td>\n",
       "    </tr>\n",
       "    <tr>\n",
       "      <th>748</th>\n",
       "      <td>0.0</td>\n",
       "      <td>0.0</td>\n",
       "      <td>0.0</td>\n",
       "      <td>0.0</td>\n",
       "      <td>0.0</td>\n",
       "      <td>0.0</td>\n",
       "      <td>0.0</td>\n",
       "      <td>0.0</td>\n",
       "      <td>0.0</td>\n",
       "      <td>0.0</td>\n",
       "      <td>...</td>\n",
       "      <td>0.0</td>\n",
       "      <td>0.0</td>\n",
       "      <td>0.0</td>\n",
       "      <td>0.0</td>\n",
       "      <td>0.0</td>\n",
       "      <td>0.0</td>\n",
       "      <td>0.0</td>\n",
       "      <td>0.0</td>\n",
       "      <td>0.0</td>\n",
       "      <td>5</td>\n",
       "    </tr>\n",
       "    <tr>\n",
       "      <th>38497</th>\n",
       "      <td>0.0</td>\n",
       "      <td>0.0</td>\n",
       "      <td>0.0</td>\n",
       "      <td>0.0</td>\n",
       "      <td>0.0</td>\n",
       "      <td>0.0</td>\n",
       "      <td>0.0</td>\n",
       "      <td>0.0</td>\n",
       "      <td>0.0</td>\n",
       "      <td>0.0</td>\n",
       "      <td>...</td>\n",
       "      <td>0.0</td>\n",
       "      <td>0.0</td>\n",
       "      <td>0.0</td>\n",
       "      <td>0.0</td>\n",
       "      <td>0.0</td>\n",
       "      <td>0.0</td>\n",
       "      <td>0.0</td>\n",
       "      <td>0.0</td>\n",
       "      <td>0.0</td>\n",
       "      <td>0</td>\n",
       "    </tr>\n",
       "    <tr>\n",
       "      <th>...</th>\n",
       "      <td>...</td>\n",
       "      <td>...</td>\n",
       "      <td>...</td>\n",
       "      <td>...</td>\n",
       "      <td>...</td>\n",
       "      <td>...</td>\n",
       "      <td>...</td>\n",
       "      <td>...</td>\n",
       "      <td>...</td>\n",
       "      <td>...</td>\n",
       "      <td>...</td>\n",
       "      <td>...</td>\n",
       "      <td>...</td>\n",
       "      <td>...</td>\n",
       "      <td>...</td>\n",
       "      <td>...</td>\n",
       "      <td>...</td>\n",
       "      <td>...</td>\n",
       "      <td>...</td>\n",
       "      <td>...</td>\n",
       "      <td>...</td>\n",
       "    </tr>\n",
       "    <tr>\n",
       "      <th>4873</th>\n",
       "      <td>0.0</td>\n",
       "      <td>0.0</td>\n",
       "      <td>0.0</td>\n",
       "      <td>0.0</td>\n",
       "      <td>0.0</td>\n",
       "      <td>0.0</td>\n",
       "      <td>0.0</td>\n",
       "      <td>0.0</td>\n",
       "      <td>0.0</td>\n",
       "      <td>0.0</td>\n",
       "      <td>...</td>\n",
       "      <td>0.0</td>\n",
       "      <td>0.0</td>\n",
       "      <td>0.0</td>\n",
       "      <td>0.0</td>\n",
       "      <td>0.0</td>\n",
       "      <td>0.0</td>\n",
       "      <td>0.0</td>\n",
       "      <td>0.0</td>\n",
       "      <td>0.0</td>\n",
       "      <td>8</td>\n",
       "    </tr>\n",
       "    <tr>\n",
       "      <th>55518</th>\n",
       "      <td>0.0</td>\n",
       "      <td>0.0</td>\n",
       "      <td>0.0</td>\n",
       "      <td>0.0</td>\n",
       "      <td>0.0</td>\n",
       "      <td>0.0</td>\n",
       "      <td>0.0</td>\n",
       "      <td>0.0</td>\n",
       "      <td>0.0</td>\n",
       "      <td>0.0</td>\n",
       "      <td>...</td>\n",
       "      <td>0.0</td>\n",
       "      <td>0.0</td>\n",
       "      <td>0.0</td>\n",
       "      <td>0.0</td>\n",
       "      <td>0.0</td>\n",
       "      <td>0.0</td>\n",
       "      <td>0.0</td>\n",
       "      <td>0.0</td>\n",
       "      <td>0.0</td>\n",
       "      <td>7</td>\n",
       "    </tr>\n",
       "    <tr>\n",
       "      <th>20004</th>\n",
       "      <td>0.0</td>\n",
       "      <td>0.0</td>\n",
       "      <td>0.0</td>\n",
       "      <td>0.0</td>\n",
       "      <td>0.0</td>\n",
       "      <td>0.0</td>\n",
       "      <td>0.0</td>\n",
       "      <td>0.0</td>\n",
       "      <td>0.0</td>\n",
       "      <td>0.0</td>\n",
       "      <td>...</td>\n",
       "      <td>0.0</td>\n",
       "      <td>0.0</td>\n",
       "      <td>0.0</td>\n",
       "      <td>0.0</td>\n",
       "      <td>0.0</td>\n",
       "      <td>0.0</td>\n",
       "      <td>0.0</td>\n",
       "      <td>0.0</td>\n",
       "      <td>0.0</td>\n",
       "      <td>7</td>\n",
       "    </tr>\n",
       "    <tr>\n",
       "      <th>27647</th>\n",
       "      <td>0.0</td>\n",
       "      <td>0.0</td>\n",
       "      <td>0.0</td>\n",
       "      <td>0.0</td>\n",
       "      <td>0.0</td>\n",
       "      <td>0.0</td>\n",
       "      <td>0.0</td>\n",
       "      <td>0.0</td>\n",
       "      <td>0.0</td>\n",
       "      <td>0.0</td>\n",
       "      <td>...</td>\n",
       "      <td>0.0</td>\n",
       "      <td>0.0</td>\n",
       "      <td>0.0</td>\n",
       "      <td>0.0</td>\n",
       "      <td>0.0</td>\n",
       "      <td>0.0</td>\n",
       "      <td>0.0</td>\n",
       "      <td>0.0</td>\n",
       "      <td>0.0</td>\n",
       "      <td>7</td>\n",
       "    </tr>\n",
       "    <tr>\n",
       "      <th>11949</th>\n",
       "      <td>0.0</td>\n",
       "      <td>0.0</td>\n",
       "      <td>0.0</td>\n",
       "      <td>0.0</td>\n",
       "      <td>0.0</td>\n",
       "      <td>0.0</td>\n",
       "      <td>0.0</td>\n",
       "      <td>0.0</td>\n",
       "      <td>0.0</td>\n",
       "      <td>0.0</td>\n",
       "      <td>...</td>\n",
       "      <td>0.0</td>\n",
       "      <td>0.0</td>\n",
       "      <td>0.0</td>\n",
       "      <td>0.0</td>\n",
       "      <td>0.0</td>\n",
       "      <td>0.0</td>\n",
       "      <td>0.0</td>\n",
       "      <td>0.0</td>\n",
       "      <td>0.0</td>\n",
       "      <td>3</td>\n",
       "    </tr>\n",
       "  </tbody>\n",
       "</table>\n",
       "<p>6300 rows × 785 columns</p>\n",
       "</div>"
      ],
      "text/plain": [
       "       pixel1  pixel2  pixel3  pixel4  pixel5  pixel6  pixel7  pixel8  pixel9  \\\n",
       "46183     0.0     0.0     0.0     0.0     0.0     0.0     0.0     0.0     0.0   \n",
       "12639     0.0     0.0     0.0     0.0     0.0     0.0     0.0     0.0     0.0   \n",
       "51323     0.0     0.0     0.0     0.0     0.0     0.0     0.0     0.0     0.0   \n",
       "748       0.0     0.0     0.0     0.0     0.0     0.0     0.0     0.0     0.0   \n",
       "38497     0.0     0.0     0.0     0.0     0.0     0.0     0.0     0.0     0.0   \n",
       "...       ...     ...     ...     ...     ...     ...     ...     ...     ...   \n",
       "4873      0.0     0.0     0.0     0.0     0.0     0.0     0.0     0.0     0.0   \n",
       "55518     0.0     0.0     0.0     0.0     0.0     0.0     0.0     0.0     0.0   \n",
       "20004     0.0     0.0     0.0     0.0     0.0     0.0     0.0     0.0     0.0   \n",
       "27647     0.0     0.0     0.0     0.0     0.0     0.0     0.0     0.0     0.0   \n",
       "11949     0.0     0.0     0.0     0.0     0.0     0.0     0.0     0.0     0.0   \n",
       "\n",
       "       pixel10  ...  pixel776  pixel777  pixel778  pixel779  pixel780  \\\n",
       "46183      0.0  ...       0.0       0.0       0.0       0.0       0.0   \n",
       "12639      0.0  ...       0.0       0.0       0.0       0.0       0.0   \n",
       "51323      0.0  ...       0.0       0.0       0.0       0.0       0.0   \n",
       "748        0.0  ...       0.0       0.0       0.0       0.0       0.0   \n",
       "38497      0.0  ...       0.0       0.0       0.0       0.0       0.0   \n",
       "...        ...  ...       ...       ...       ...       ...       ...   \n",
       "4873       0.0  ...       0.0       0.0       0.0       0.0       0.0   \n",
       "55518      0.0  ...       0.0       0.0       0.0       0.0       0.0   \n",
       "20004      0.0  ...       0.0       0.0       0.0       0.0       0.0   \n",
       "27647      0.0  ...       0.0       0.0       0.0       0.0       0.0   \n",
       "11949      0.0  ...       0.0       0.0       0.0       0.0       0.0   \n",
       "\n",
       "       pixel781  pixel782  pixel783  pixel784  target  \n",
       "46183       0.0       0.0       0.0       0.0       0  \n",
       "12639       0.0       0.0       0.0       0.0       4  \n",
       "51323       0.0       0.0       0.0       0.0       2  \n",
       "748         0.0       0.0       0.0       0.0       5  \n",
       "38497       0.0       0.0       0.0       0.0       0  \n",
       "...         ...       ...       ...       ...     ...  \n",
       "4873        0.0       0.0       0.0       0.0       8  \n",
       "55518       0.0       0.0       0.0       0.0       7  \n",
       "20004       0.0       0.0       0.0       0.0       7  \n",
       "27647       0.0       0.0       0.0       0.0       7  \n",
       "11949       0.0       0.0       0.0       0.0       3  \n",
       "\n",
       "[6300 rows x 785 columns]"
      ]
     },
     "execution_count": 10,
     "metadata": {},
     "output_type": "execute_result"
    }
   ],
   "source": [
    "test"
   ]
  },
  {
   "cell_type": "markdown",
   "metadata": {},
   "source": [
    "<br><br><br>\n",
    "<span style=\"color:green;font-size:xx-large\">Basic ML Terminology</span>\n",
    "<li><span style=\"color:blue\">Feature</span>: A (measurable) property of the learning domain\n",
    "<li><span style=\"color:blue\">Feature set</span>: The set of features that are useful for learning in a given domain and a given problem\n",
    "<ul>\n",
    "<li>gender, age, income, other demographic data for predicting credit risk\n",
    "<li>position of pupil, size of nose, presence/absence of dimples in facial data for facial recognition\n",
    "<li>color, intensity of pixels in image data for image recognition\n",
    "<li>moving averages, departures, technical indicators, price in stock price prediction\n",
    "</ul>\n",
    "<li><span style=\"color:blue\">Input features/Independent variables</span>: The observable (useful) features in the domain\n",
    "<li><span style=\"color:blue\">Output features/Dependent variable</span>: A feature that is being learned or predicted\n",
    "<ul>\n",
    "<li>In stock price prediction: moving averages, departures, technical indicators may be input features and the future return the output feature\n",
    "<li>In face recognition: various observable facial features are the input feature and the person (name?) the output feature\n",
    "</ul>\n",
    "<li><span style=\"color:green\">variance</span>: an estimate of how much the model metrics (e.g., the mean square error) will change with different data sets. In a good model, the metric values should be the same in the training sample, the testing sample, as well as in all future unseen samples</li>\n",
    "\n",
    "<li><span style=\"color:green\">overfitting</span>: variance in a dataset comes from two sources: <span style=\"color:blue\">informed features</span> and <span style=\"color:blue\">noise</span>. Informed features are those features that actually explain the target feature. Noise refers to features that happened to co-occur with the target but were not explanatory. But, the machine learns and tests its learning by looking at available data which contains both informed features as well as noise and the danger is that the machine will learn the noise better than the data. When that happens, the model is said to be overfitted and it will not perform well out of sample</li>\n",
    "<li><span style=\"color:green\">bias</span>: a model that does not capture enough variance (i.e., it misses informed features) is said to be biased. A biased model will not learn well enough to perform out of sample\n",
    "    <ul>\n",
    "        <li>For example, a stock prediction model that only uses data from a low interest rate regime will ignore interest rate as an informed feature. The model may not perform well if interest rates rise</li>\n",
    "    </ul>\n",
    "\n",
    "<li><span style=\"color:green\">bias-variance tradeoff</span>: we can collect data on many features. The more features that get incorporated into a model, the more likely we are to capture informed features (reducing bias). However, we are also more likely to capture features that are merely noise (increasing the possibility of overfitting). The bias-variance tradeoff is one of the biggest problems in machine learning\n",
    "\n",
    "<li><span style=\"color:green\">model complexity</span>: model complexity is a factor of the number of features that a model includes (more features = more complex) and the nature of the model itself (a linear model is less complex than a non-linear one)\n",
    "    \n",
    "<li><span style=\"color:green\">linear models</span>: models that learn a linear relationship between the input features \n",
    "\n",
    "<li><span style=\"color:green\">regularization</span>: a technique used to penalize complexity in a model. Model complexity leads to overfitting and regularization is used to decrease the probability of that happening. \n",
    "\n",
    "\n",
    "<li><span style=\"color:green\">regression</span>: a linear model that estimates the coefficients of a line $$ y = { \\alpha + \\beta_1}x_1 + {\\beta_2}x_2 + ..... + {\\beta_n}x_n + {\\epsilon} $$ by minimizing the <span style=\"color:blue\">sum of square differences</span> between the actual and estimated target values</li>\n",
    "\n",
    "<li><span style=\"color:green\">regularized regression</span>: regression which explicitly penalizes high betas in the estimated line to reduce the complexity of the model</li>\n",
    "\n",
    "<li><span style=\"color:green\">logistic regression</span>: regression that classifies data into two categories (binary - 0/1 - classification) using a \"logit model\". Roughly (definitely not exactly!), in logistic regression, the model assumes a linear relationship between input features and the probability that the output value is 1. A threshold value then determines whether the estimate is a 0 or a 1. </li>"
   ]
  },
  {
   "cell_type": "markdown",
   "metadata": {},
   "source": [
    "<img src=\"bias_variance.png\">"
   ]
  },
  {
   "cell_type": "markdown",
   "metadata": {},
   "source": [
    "<h2>Our problem</h2>\n",
    "<li>We'll build a simple binary classifier using this handwritten digits data</li>\n",
    "<li><b>Our question</b>: How well does our classifier do in identifying whether a particular digit is an 8 or is not an 8</li>\n",
    "<li>We'll use the stochastic gradient descent classifier</li>"
   ]
  },
  {
   "cell_type": "markdown",
   "metadata": {},
   "source": [
    "<br><br><br>\n",
    "<span style=\"color:green;font-size:xx-large\">Stochastic gradient descent classifier</span>\n",
    "\n"
   ]
  },
  {
   "cell_type": "markdown",
   "metadata": {},
   "source": [
    "<li>gradient descent is used to move incrementally toward the solution, always moving in the direction of the optimal solution</li>\n",
    "<li>rough example of SGD and linear regression:</li>\n",
    "<ol>\n",
    "    <li>parameterize the linear function with a set of beta values</li>\n",
    "    <li>estimate the cost (actual - target) for one, randomly sampled, example</li>\n",
    "    <li>update the model parameters using an <b>update rule</b> (see the <a href=\"https://scikit-learn.org/stable/modules/sgd.html#mathematical-formulation\">mathematical formulation of SGD</a> for details)</li>\n",
    "    <li>Repeat for other examples until a stopping rule (number of iterations/prediction error/change in prediction error/etc.) is activated</li>\n",
    "<li>easy to generalize this procedure for any cost function (that is differentiable)</li>"
   ]
  },
  {
   "cell_type": "markdown",
   "metadata": {},
   "source": [
    "<br><br><br>\n",
    "<span style=\"color:blue;font-size:large\">Training the SGD classifier</span>\n",
    "\n"
   ]
  },
  {
   "cell_type": "markdown",
   "metadata": {},
   "source": [
    "<li>set up the train and test data\n",
    "<li>first, create a binary True/False column as the new target feature</li>\n",
    "<li>import the SGDClassifier model from sklearn</li>\n",
    "<li><a href=\"https://scikit-learn.org/stable/modules/generated/sklearn.linear_model.SGDClassifier.html\">https://scikit-learn.org/stable/modules/generated/sklearn.linear_model.SGDClassifier.html</a></li>\n",
    "<li><a href=\"https://scikit-learn.org/stable/modules/sgd.html#sgd\">stochastic gradient descent user guide</a></li>\n",
    "<li>shuffle the data</li> \n",
    "<li>parameterize the model</li>\n",
    "<li><span style=\"color:green\">fit</span> the model</li>\n",
    "\n",
    "    "
   ]
  },
  {
   "cell_type": "markdown",
   "metadata": {},
   "source": [
    "<br><br><br>\n",
    "<span style=\"color:blue;font-size:large\">Binary classification with Stochastic Gradient Descent</span>\n",
    "\n"
   ]
  },
  {
   "cell_type": "markdown",
   "metadata": {},
   "source": [
    "<li>Let's see if we can classify digits as 8 or not 8</li>\n",
    "<li>first, we need to transform the y value from 0, 1, ,2, ... to True or 1 (is a 8) or False or 0 (is not a 8)</li>\n",
    "<li>use a boolean mask as the target</li>"
   ]
  },
  {
   "cell_type": "code",
   "execution_count": 12,
   "metadata": {},
   "outputs": [],
   "source": [
    "#Create a binary column\n",
    "train['y'] = (train['target'] == '8')\n",
    "test['y'] = (test['target'] == '8')\n",
    "\n"
   ]
  },
  {
   "cell_type": "code",
   "execution_count": 13,
   "metadata": {},
   "outputs": [
    {
     "data": {
      "text/plain": [
       "1385"
      ]
     },
     "execution_count": 13,
     "metadata": {},
     "output_type": "execute_result"
    }
   ],
   "source": [
    "train['y'].sum()"
   ]
  },
  {
   "cell_type": "code",
   "execution_count": 14,
   "metadata": {},
   "outputs": [],
   "source": [
    "#shuffle training data and extract X and y (sample defaults to without replacement)\n",
    "#shuffling is useful in case there is serial correlation in the data \n",
    "\n",
    "train = train.sample(frac=1.0,random_state=42) \n",
    "X_train = train.iloc[:,0:784]\n",
    "y_train = train['y']"
   ]
  },
  {
   "cell_type": "code",
   "execution_count": 16,
   "metadata": {},
   "outputs": [
    {
     "data": {
      "text/html": [
       "<div>\n",
       "<style scoped>\n",
       "    .dataframe tbody tr th:only-of-type {\n",
       "        vertical-align: middle;\n",
       "    }\n",
       "\n",
       "    .dataframe tbody tr th {\n",
       "        vertical-align: top;\n",
       "    }\n",
       "\n",
       "    .dataframe thead th {\n",
       "        text-align: right;\n",
       "    }\n",
       "</style>\n",
       "<table border=\"1\" class=\"dataframe\">\n",
       "  <thead>\n",
       "    <tr style=\"text-align: right;\">\n",
       "      <th></th>\n",
       "      <th>pixel1</th>\n",
       "      <th>pixel2</th>\n",
       "      <th>pixel3</th>\n",
       "      <th>pixel4</th>\n",
       "      <th>pixel5</th>\n",
       "      <th>pixel6</th>\n",
       "      <th>pixel7</th>\n",
       "      <th>pixel8</th>\n",
       "      <th>pixel9</th>\n",
       "      <th>pixel10</th>\n",
       "      <th>...</th>\n",
       "      <th>pixel775</th>\n",
       "      <th>pixel776</th>\n",
       "      <th>pixel777</th>\n",
       "      <th>pixel778</th>\n",
       "      <th>pixel779</th>\n",
       "      <th>pixel780</th>\n",
       "      <th>pixel781</th>\n",
       "      <th>pixel782</th>\n",
       "      <th>pixel783</th>\n",
       "      <th>pixel784</th>\n",
       "    </tr>\n",
       "  </thead>\n",
       "  <tbody>\n",
       "    <tr>\n",
       "      <th>36601</th>\n",
       "      <td>0.0</td>\n",
       "      <td>0.0</td>\n",
       "      <td>0.0</td>\n",
       "      <td>0.0</td>\n",
       "      <td>0.0</td>\n",
       "      <td>0.0</td>\n",
       "      <td>0.0</td>\n",
       "      <td>0.0</td>\n",
       "      <td>0.0</td>\n",
       "      <td>0.0</td>\n",
       "      <td>...</td>\n",
       "      <td>0.0</td>\n",
       "      <td>0.0</td>\n",
       "      <td>0.0</td>\n",
       "      <td>0.0</td>\n",
       "      <td>0.0</td>\n",
       "      <td>0.0</td>\n",
       "      <td>0.0</td>\n",
       "      <td>0.0</td>\n",
       "      <td>0.0</td>\n",
       "      <td>0.0</td>\n",
       "    </tr>\n",
       "    <tr>\n",
       "      <th>6821</th>\n",
       "      <td>0.0</td>\n",
       "      <td>0.0</td>\n",
       "      <td>0.0</td>\n",
       "      <td>0.0</td>\n",
       "      <td>0.0</td>\n",
       "      <td>0.0</td>\n",
       "      <td>0.0</td>\n",
       "      <td>0.0</td>\n",
       "      <td>0.0</td>\n",
       "      <td>0.0</td>\n",
       "      <td>...</td>\n",
       "      <td>0.0</td>\n",
       "      <td>0.0</td>\n",
       "      <td>0.0</td>\n",
       "      <td>0.0</td>\n",
       "      <td>0.0</td>\n",
       "      <td>0.0</td>\n",
       "      <td>0.0</td>\n",
       "      <td>0.0</td>\n",
       "      <td>0.0</td>\n",
       "      <td>0.0</td>\n",
       "    </tr>\n",
       "    <tr>\n",
       "      <th>22957</th>\n",
       "      <td>0.0</td>\n",
       "      <td>0.0</td>\n",
       "      <td>0.0</td>\n",
       "      <td>0.0</td>\n",
       "      <td>0.0</td>\n",
       "      <td>0.0</td>\n",
       "      <td>0.0</td>\n",
       "      <td>0.0</td>\n",
       "      <td>0.0</td>\n",
       "      <td>0.0</td>\n",
       "      <td>...</td>\n",
       "      <td>0.0</td>\n",
       "      <td>0.0</td>\n",
       "      <td>0.0</td>\n",
       "      <td>0.0</td>\n",
       "      <td>0.0</td>\n",
       "      <td>0.0</td>\n",
       "      <td>0.0</td>\n",
       "      <td>0.0</td>\n",
       "      <td>0.0</td>\n",
       "      <td>0.0</td>\n",
       "    </tr>\n",
       "    <tr>\n",
       "      <th>16409</th>\n",
       "      <td>0.0</td>\n",
       "      <td>0.0</td>\n",
       "      <td>0.0</td>\n",
       "      <td>0.0</td>\n",
       "      <td>0.0</td>\n",
       "      <td>0.0</td>\n",
       "      <td>0.0</td>\n",
       "      <td>0.0</td>\n",
       "      <td>0.0</td>\n",
       "      <td>0.0</td>\n",
       "      <td>...</td>\n",
       "      <td>0.0</td>\n",
       "      <td>0.0</td>\n",
       "      <td>0.0</td>\n",
       "      <td>0.0</td>\n",
       "      <td>0.0</td>\n",
       "      <td>0.0</td>\n",
       "      <td>0.0</td>\n",
       "      <td>0.0</td>\n",
       "      <td>0.0</td>\n",
       "      <td>0.0</td>\n",
       "    </tr>\n",
       "    <tr>\n",
       "      <th>43468</th>\n",
       "      <td>0.0</td>\n",
       "      <td>0.0</td>\n",
       "      <td>0.0</td>\n",
       "      <td>0.0</td>\n",
       "      <td>0.0</td>\n",
       "      <td>0.0</td>\n",
       "      <td>0.0</td>\n",
       "      <td>0.0</td>\n",
       "      <td>0.0</td>\n",
       "      <td>0.0</td>\n",
       "      <td>...</td>\n",
       "      <td>0.0</td>\n",
       "      <td>0.0</td>\n",
       "      <td>0.0</td>\n",
       "      <td>0.0</td>\n",
       "      <td>0.0</td>\n",
       "      <td>0.0</td>\n",
       "      <td>0.0</td>\n",
       "      <td>0.0</td>\n",
       "      <td>0.0</td>\n",
       "      <td>0.0</td>\n",
       "    </tr>\n",
       "    <tr>\n",
       "      <th>...</th>\n",
       "      <td>...</td>\n",
       "      <td>...</td>\n",
       "      <td>...</td>\n",
       "      <td>...</td>\n",
       "      <td>...</td>\n",
       "      <td>...</td>\n",
       "      <td>...</td>\n",
       "      <td>...</td>\n",
       "      <td>...</td>\n",
       "      <td>...</td>\n",
       "      <td>...</td>\n",
       "      <td>...</td>\n",
       "      <td>...</td>\n",
       "      <td>...</td>\n",
       "      <td>...</td>\n",
       "      <td>...</td>\n",
       "      <td>...</td>\n",
       "      <td>...</td>\n",
       "      <td>...</td>\n",
       "      <td>...</td>\n",
       "      <td>...</td>\n",
       "    </tr>\n",
       "    <tr>\n",
       "      <th>68419</th>\n",
       "      <td>0.0</td>\n",
       "      <td>0.0</td>\n",
       "      <td>0.0</td>\n",
       "      <td>0.0</td>\n",
       "      <td>0.0</td>\n",
       "      <td>0.0</td>\n",
       "      <td>0.0</td>\n",
       "      <td>0.0</td>\n",
       "      <td>0.0</td>\n",
       "      <td>0.0</td>\n",
       "      <td>...</td>\n",
       "      <td>0.0</td>\n",
       "      <td>0.0</td>\n",
       "      <td>0.0</td>\n",
       "      <td>0.0</td>\n",
       "      <td>0.0</td>\n",
       "      <td>0.0</td>\n",
       "      <td>0.0</td>\n",
       "      <td>0.0</td>\n",
       "      <td>0.0</td>\n",
       "      <td>0.0</td>\n",
       "    </tr>\n",
       "    <tr>\n",
       "      <th>17826</th>\n",
       "      <td>0.0</td>\n",
       "      <td>0.0</td>\n",
       "      <td>0.0</td>\n",
       "      <td>0.0</td>\n",
       "      <td>0.0</td>\n",
       "      <td>0.0</td>\n",
       "      <td>0.0</td>\n",
       "      <td>0.0</td>\n",
       "      <td>0.0</td>\n",
       "      <td>0.0</td>\n",
       "      <td>...</td>\n",
       "      <td>0.0</td>\n",
       "      <td>0.0</td>\n",
       "      <td>0.0</td>\n",
       "      <td>0.0</td>\n",
       "      <td>0.0</td>\n",
       "      <td>0.0</td>\n",
       "      <td>0.0</td>\n",
       "      <td>0.0</td>\n",
       "      <td>0.0</td>\n",
       "      <td>0.0</td>\n",
       "    </tr>\n",
       "    <tr>\n",
       "      <th>42288</th>\n",
       "      <td>0.0</td>\n",
       "      <td>0.0</td>\n",
       "      <td>0.0</td>\n",
       "      <td>0.0</td>\n",
       "      <td>0.0</td>\n",
       "      <td>0.0</td>\n",
       "      <td>0.0</td>\n",
       "      <td>0.0</td>\n",
       "      <td>0.0</td>\n",
       "      <td>0.0</td>\n",
       "      <td>...</td>\n",
       "      <td>0.0</td>\n",
       "      <td>0.0</td>\n",
       "      <td>0.0</td>\n",
       "      <td>0.0</td>\n",
       "      <td>0.0</td>\n",
       "      <td>0.0</td>\n",
       "      <td>0.0</td>\n",
       "      <td>0.0</td>\n",
       "      <td>0.0</td>\n",
       "      <td>0.0</td>\n",
       "    </tr>\n",
       "    <tr>\n",
       "      <th>44634</th>\n",
       "      <td>0.0</td>\n",
       "      <td>0.0</td>\n",
       "      <td>0.0</td>\n",
       "      <td>0.0</td>\n",
       "      <td>0.0</td>\n",
       "      <td>0.0</td>\n",
       "      <td>0.0</td>\n",
       "      <td>0.0</td>\n",
       "      <td>0.0</td>\n",
       "      <td>0.0</td>\n",
       "      <td>...</td>\n",
       "      <td>0.0</td>\n",
       "      <td>0.0</td>\n",
       "      <td>0.0</td>\n",
       "      <td>0.0</td>\n",
       "      <td>0.0</td>\n",
       "      <td>0.0</td>\n",
       "      <td>0.0</td>\n",
       "      <td>0.0</td>\n",
       "      <td>0.0</td>\n",
       "      <td>0.0</td>\n",
       "    </tr>\n",
       "    <tr>\n",
       "      <th>59332</th>\n",
       "      <td>0.0</td>\n",
       "      <td>0.0</td>\n",
       "      <td>0.0</td>\n",
       "      <td>0.0</td>\n",
       "      <td>0.0</td>\n",
       "      <td>0.0</td>\n",
       "      <td>0.0</td>\n",
       "      <td>0.0</td>\n",
       "      <td>0.0</td>\n",
       "      <td>0.0</td>\n",
       "      <td>...</td>\n",
       "      <td>0.0</td>\n",
       "      <td>0.0</td>\n",
       "      <td>0.0</td>\n",
       "      <td>0.0</td>\n",
       "      <td>0.0</td>\n",
       "      <td>0.0</td>\n",
       "      <td>0.0</td>\n",
       "      <td>0.0</td>\n",
       "      <td>0.0</td>\n",
       "      <td>0.0</td>\n",
       "    </tr>\n",
       "  </tbody>\n",
       "</table>\n",
       "<p>14700 rows × 784 columns</p>\n",
       "</div>"
      ],
      "text/plain": [
       "       pixel1  pixel2  pixel3  pixel4  pixel5  pixel6  pixel7  pixel8  pixel9  \\\n",
       "36601     0.0     0.0     0.0     0.0     0.0     0.0     0.0     0.0     0.0   \n",
       "6821      0.0     0.0     0.0     0.0     0.0     0.0     0.0     0.0     0.0   \n",
       "22957     0.0     0.0     0.0     0.0     0.0     0.0     0.0     0.0     0.0   \n",
       "16409     0.0     0.0     0.0     0.0     0.0     0.0     0.0     0.0     0.0   \n",
       "43468     0.0     0.0     0.0     0.0     0.0     0.0     0.0     0.0     0.0   \n",
       "...       ...     ...     ...     ...     ...     ...     ...     ...     ...   \n",
       "68419     0.0     0.0     0.0     0.0     0.0     0.0     0.0     0.0     0.0   \n",
       "17826     0.0     0.0     0.0     0.0     0.0     0.0     0.0     0.0     0.0   \n",
       "42288     0.0     0.0     0.0     0.0     0.0     0.0     0.0     0.0     0.0   \n",
       "44634     0.0     0.0     0.0     0.0     0.0     0.0     0.0     0.0     0.0   \n",
       "59332     0.0     0.0     0.0     0.0     0.0     0.0     0.0     0.0     0.0   \n",
       "\n",
       "       pixel10  ...  pixel775  pixel776  pixel777  pixel778  pixel779  \\\n",
       "36601      0.0  ...       0.0       0.0       0.0       0.0       0.0   \n",
       "6821       0.0  ...       0.0       0.0       0.0       0.0       0.0   \n",
       "22957      0.0  ...       0.0       0.0       0.0       0.0       0.0   \n",
       "16409      0.0  ...       0.0       0.0       0.0       0.0       0.0   \n",
       "43468      0.0  ...       0.0       0.0       0.0       0.0       0.0   \n",
       "...        ...  ...       ...       ...       ...       ...       ...   \n",
       "68419      0.0  ...       0.0       0.0       0.0       0.0       0.0   \n",
       "17826      0.0  ...       0.0       0.0       0.0       0.0       0.0   \n",
       "42288      0.0  ...       0.0       0.0       0.0       0.0       0.0   \n",
       "44634      0.0  ...       0.0       0.0       0.0       0.0       0.0   \n",
       "59332      0.0  ...       0.0       0.0       0.0       0.0       0.0   \n",
       "\n",
       "       pixel780  pixel781  pixel782  pixel783  pixel784  \n",
       "36601       0.0       0.0       0.0       0.0       0.0  \n",
       "6821        0.0       0.0       0.0       0.0       0.0  \n",
       "22957       0.0       0.0       0.0       0.0       0.0  \n",
       "16409       0.0       0.0       0.0       0.0       0.0  \n",
       "43468       0.0       0.0       0.0       0.0       0.0  \n",
       "...         ...       ...       ...       ...       ...  \n",
       "68419       0.0       0.0       0.0       0.0       0.0  \n",
       "17826       0.0       0.0       0.0       0.0       0.0  \n",
       "42288       0.0       0.0       0.0       0.0       0.0  \n",
       "44634       0.0       0.0       0.0       0.0       0.0  \n",
       "59332       0.0       0.0       0.0       0.0       0.0  \n",
       "\n",
       "[14700 rows x 784 columns]"
      ]
     },
     "execution_count": 16,
     "metadata": {},
     "output_type": "execute_result"
    }
   ],
   "source": [
    "X_train"
   ]
  },
  {
   "cell_type": "code",
   "execution_count": 15,
   "metadata": {},
   "outputs": [],
   "source": [
    "#set up the test set\n",
    "X_test = test.iloc[:,0:784]\n",
    "y_test = test['y']"
   ]
  },
  {
   "cell_type": "markdown",
   "metadata": {},
   "source": [
    "<br><br><br>\n",
    "<span style=\"color:blue;font-size:large\">Fit the data to the model</span>\n",
    "<li>Fitting, in ML, is the process of estimating the parameters of the model</li>\n",
    "<li>In linear regression, the parameters are alpha and the betas</li>\n",
    "<li>Regardless of the actual ML model being used, the process is the same</li>\n",
    "<ul>\n",
    "    <li>Create a model object with hyperparameter values</li>\n",
    "    <li>Fit the training data</li>\n",
    "    <li>Evaluate the model</li>"
   ]
  },
  {
   "cell_type": "code",
   "execution_count": 14,
   "metadata": {},
   "outputs": [
    {
     "data": {
      "text/html": [
       "<style>#sk-container-id-1 {color: black;}#sk-container-id-1 pre{padding: 0;}#sk-container-id-1 div.sk-toggleable {background-color: white;}#sk-container-id-1 label.sk-toggleable__label {cursor: pointer;display: block;width: 100%;margin-bottom: 0;padding: 0.3em;box-sizing: border-box;text-align: center;}#sk-container-id-1 label.sk-toggleable__label-arrow:before {content: \"▸\";float: left;margin-right: 0.25em;color: #696969;}#sk-container-id-1 label.sk-toggleable__label-arrow:hover:before {color: black;}#sk-container-id-1 div.sk-estimator:hover label.sk-toggleable__label-arrow:before {color: black;}#sk-container-id-1 div.sk-toggleable__content {max-height: 0;max-width: 0;overflow: hidden;text-align: left;background-color: #f0f8ff;}#sk-container-id-1 div.sk-toggleable__content pre {margin: 0.2em;color: black;border-radius: 0.25em;background-color: #f0f8ff;}#sk-container-id-1 input.sk-toggleable__control:checked~div.sk-toggleable__content {max-height: 200px;max-width: 100%;overflow: auto;}#sk-container-id-1 input.sk-toggleable__control:checked~label.sk-toggleable__label-arrow:before {content: \"▾\";}#sk-container-id-1 div.sk-estimator input.sk-toggleable__control:checked~label.sk-toggleable__label {background-color: #d4ebff;}#sk-container-id-1 div.sk-label input.sk-toggleable__control:checked~label.sk-toggleable__label {background-color: #d4ebff;}#sk-container-id-1 input.sk-hidden--visually {border: 0;clip: rect(1px 1px 1px 1px);clip: rect(1px, 1px, 1px, 1px);height: 1px;margin: -1px;overflow: hidden;padding: 0;position: absolute;width: 1px;}#sk-container-id-1 div.sk-estimator {font-family: monospace;background-color: #f0f8ff;border: 1px dotted black;border-radius: 0.25em;box-sizing: border-box;margin-bottom: 0.5em;}#sk-container-id-1 div.sk-estimator:hover {background-color: #d4ebff;}#sk-container-id-1 div.sk-parallel-item::after {content: \"\";width: 100%;border-bottom: 1px solid gray;flex-grow: 1;}#sk-container-id-1 div.sk-label:hover label.sk-toggleable__label {background-color: #d4ebff;}#sk-container-id-1 div.sk-serial::before {content: \"\";position: absolute;border-left: 1px solid gray;box-sizing: border-box;top: 0;bottom: 0;left: 50%;z-index: 0;}#sk-container-id-1 div.sk-serial {display: flex;flex-direction: column;align-items: center;background-color: white;padding-right: 0.2em;padding-left: 0.2em;position: relative;}#sk-container-id-1 div.sk-item {position: relative;z-index: 1;}#sk-container-id-1 div.sk-parallel {display: flex;align-items: stretch;justify-content: center;background-color: white;position: relative;}#sk-container-id-1 div.sk-item::before, #sk-container-id-1 div.sk-parallel-item::before {content: \"\";position: absolute;border-left: 1px solid gray;box-sizing: border-box;top: 0;bottom: 0;left: 50%;z-index: -1;}#sk-container-id-1 div.sk-parallel-item {display: flex;flex-direction: column;z-index: 1;position: relative;background-color: white;}#sk-container-id-1 div.sk-parallel-item:first-child::after {align-self: flex-end;width: 50%;}#sk-container-id-1 div.sk-parallel-item:last-child::after {align-self: flex-start;width: 50%;}#sk-container-id-1 div.sk-parallel-item:only-child::after {width: 0;}#sk-container-id-1 div.sk-dashed-wrapped {border: 1px dashed gray;margin: 0 0.4em 0.5em 0.4em;box-sizing: border-box;padding-bottom: 0.4em;background-color: white;}#sk-container-id-1 div.sk-label label {font-family: monospace;font-weight: bold;display: inline-block;line-height: 1.2em;}#sk-container-id-1 div.sk-label-container {text-align: center;}#sk-container-id-1 div.sk-container {/* jupyter's `normalize.less` sets `[hidden] { display: none; }` but bootstrap.min.css set `[hidden] { display: none !important; }` so we also need the `!important` here to be able to override the default hidden behavior on the sphinx rendered scikit-learn.org. See: https://github.com/scikit-learn/scikit-learn/issues/21755 */display: inline-block !important;position: relative;}#sk-container-id-1 div.sk-text-repr-fallback {display: none;}</style><div id=\"sk-container-id-1\" class=\"sk-top-container\"><div class=\"sk-text-repr-fallback\"><pre>SGDClassifier(alpha=5.0, loss=&#x27;log_loss&#x27;, max_iter=200, random_state=42)</pre><b>In a Jupyter environment, please rerun this cell to show the HTML representation or trust the notebook. <br />On GitHub, the HTML representation is unable to render, please try loading this page with nbviewer.org.</b></div><div class=\"sk-container\" hidden><div class=\"sk-item\"><div class=\"sk-estimator sk-toggleable\"><input class=\"sk-toggleable__control sk-hidden--visually\" id=\"sk-estimator-id-1\" type=\"checkbox\" checked><label for=\"sk-estimator-id-1\" class=\"sk-toggleable__label sk-toggleable__label-arrow\">SGDClassifier</label><div class=\"sk-toggleable__content\"><pre>SGDClassifier(alpha=5.0, loss=&#x27;log_loss&#x27;, max_iter=200, random_state=42)</pre></div></div></div></div></div>"
      ],
      "text/plain": [
       "SGDClassifier(alpha=5.0, loss='log_loss', max_iter=200, random_state=42)"
      ]
     },
     "execution_count": 14,
     "metadata": {},
     "output_type": "execute_result"
    }
   ],
   "source": [
    "from sklearn.linear_model import SGDClassifier\n",
    "\n",
    "#Create a model object. Parameters of the model object are known as hyper parameters\n",
    "clf = SGDClassifier(random_state=42,max_iter=200,loss=\"log_loss\",alpha=5.0) \n",
    "\n",
    "#Fit the data to the model. This estimates the model parameters \n",
    "#Model parameters and hyper parameters are different (more on this later)\n",
    "clf.fit(X_train,y_train)"
   ]
  },
  {
   "cell_type": "markdown",
   "metadata": {},
   "source": [
    "<br><br><br>\n",
    "<span style=\"color:green;font-size:xx-large\">Evaluating a binary classifier</span>\n",
    "\n"
   ]
  },
  {
   "cell_type": "markdown",
   "metadata": {},
   "source": [
    "<li>eyeball predictions</li>\n",
    "<li>cross-validation</li>\n",
    "<li>accuracy</li>\n",
    "<li>confusion matrices</li>\n",
    "<li>precision/recall</li>\n",
    "<li>ROC curve</li>"
   ]
  },
  {
   "cell_type": "markdown",
   "metadata": {},
   "source": [
    "<li>the <span style=\"color:green\">predict</span> function returns predicted y values given a set of X values</li>\n",
    "<li>Let's check a couple of data points to see if the predictions are correct</li> "
   ]
  },
  {
   "cell_type": "code",
   "execution_count": 15,
   "metadata": {},
   "outputs": [
    {
     "data": {
      "text/plain": [
       "array([False, False, False, False, False, False, False, False, False,\n",
       "       False, False, False, False, False, False, False, False, False,\n",
       "       False,  True])"
      ]
     },
     "execution_count": 15,
     "metadata": {},
     "output_type": "execute_result"
    }
   ],
   "source": [
    "clf.predict(X_test[:20])"
   ]
  },
  {
   "cell_type": "code",
   "execution_count": 16,
   "metadata": {},
   "outputs": [
    {
     "data": {
      "text/plain": [
       "46183    False\n",
       "12639    False\n",
       "51323    False\n",
       "748      False\n",
       "38497    False\n",
       "14278    False\n",
       "52842    False\n",
       "46655    False\n",
       "19735    False\n",
       "39022    False\n",
       "45473    False\n",
       "67843    False\n",
       "43190    False\n",
       "49053    False\n",
       "2351     False\n",
       "21978    False\n",
       "17119    False\n",
       "48188    False\n",
       "12462    False\n",
       "19223     True\n",
       "Name: y, dtype: bool"
      ]
     },
     "execution_count": 16,
     "metadata": {},
     "output_type": "execute_result"
    }
   ],
   "source": [
    "y_test.iloc[:20]"
   ]
  },
  {
   "cell_type": "markdown",
   "metadata": {},
   "source": [
    "<br><br><br>\n",
    "<span style=\"color:blue;font-size:large\">hmm. so far so good!</span>\n",
    "<li>but, eyeballing a couple of cases is not a good evaluation mechanism</li>\n",
    "<li>or, the plural of anecdote is not data!</li>\n"
   ]
  },
  {
   "cell_type": "markdown",
   "metadata": {},
   "source": [
    "<br><br><br>\n",
    "<span style=\"color:green;font-size:xx-large\">Formal metrics for evaluating a binary classifier</span>"
   ]
  },
  {
   "cell_type": "markdown",
   "metadata": {},
   "source": [
    "<br><br><br>\n",
    "<h2 style=\"color:blue;\">Classification Model evaluation: Confusion matrix</h2>\n",
    "\n"
   ]
  },
  {
   "cell_type": "markdown",
   "metadata": {},
   "source": [
    "<li>A confusion matrix evaluates each data point in the testing dataset to see which of the following categories it falls into: \n",
    "<ol>\n",
    "<li><span style=\"color:blue\">true positive</span>: model predicts a 8 and it is an 8\n",
    "<li><span style=\"color:blue\">false positive</span>: model predicts a 8 but it is a not 8\n",
    "<li><span style=\"color:blue\">true negative</span>: model predicts a not 8 and it is a not 8\n",
    "<li><span style=\"color:blue\">false negative</span>: model predicts a not 8 and it is actually an eight\n",
    "</ol>\n",
    "<li>It then reports the number (or proportion) of cases in each category"
   ]
  },
  {
   "cell_type": "markdown",
   "metadata": {},
   "source": [
    "<li>the structure of the confusion matrix is:</li>\n",
    "<table>\n",
    "    <tr><td></td><th>predicted negatives</th><th>predicted positives</th></tr>\n",
    "    <tr><th>actual negatives</th><td>true negative</td><td>false positive</td></tr>\n",
    "    <tr><th>actual positives</th><td>false negative</td><td>true positive</td></tr>\n",
    "</table>\n"
   ]
  },
  {
   "cell_type": "code",
   "execution_count": 17,
   "metadata": {},
   "outputs": [
    {
     "data": {
      "text/plain": [
       "array([[13038,   277],\n",
       "       [  379,  1006]])"
      ]
     },
     "execution_count": 17,
     "metadata": {},
     "output_type": "execute_result"
    }
   ],
   "source": [
    "#from sklearn.model_selection import cross_val_predict\n",
    "from sklearn.metrics import confusion_matrix\n",
    "y_train_pred = clf.predict(X_train)\n",
    "cfm = confusion_matrix(y_train,y_train_pred)\n",
    "cfm"
   ]
  },
  {
   "cell_type": "markdown",
   "metadata": {},
   "source": [
    "<li>Ideally, we should evaluate the model on the test sample since none of those cases have been used in training the model</li>\n",
    "<li>However, it is not a bad idea to see if the train and test samples are giving similar results</li>\n"
   ]
  },
  {
   "cell_type": "code",
   "execution_count": 21,
   "metadata": {},
   "outputs": [
    {
     "data": {
      "text/plain": [
       "array([[5554,  139],\n",
       "       [ 205,  402]])"
      ]
     },
     "execution_count": 21,
     "metadata": {},
     "output_type": "execute_result"
    }
   ],
   "source": [
    "#from sklearn.model_selection import cross_val_predict\n",
    "from sklearn.metrics import confusion_matrix\n",
    "y_test_pred = clf.predict(X_test)\n",
    "cfm = confusion_matrix(y_test,y_test_pred)\n",
    "cfm"
   ]
  },
  {
   "cell_type": "markdown",
   "metadata": {},
   "source": [
    "<br><br><br>\n",
    "<span style=\"color:blue;font-size:large\">Confusion matrix metrics</span>\n",
    "\n"
   ]
  },
  {
   "cell_type": "markdown",
   "metadata": {},
   "source": [
    "Using the results of the confusion matrix, we can calculate a number of metrics that will help evaluate the model\n",
    "<ol>\n",
    "<li><span style=\"color:blue\">true positive rate</span> or <span style=\"color:blue\">sensitivity</span> or <span style=\"color:blue\">recall</span>\n",
    "<li><span style=\"color:blue\">true negative rate</span> or <span style=\"color:blue\">specificity</span>\n",
    "<li><span style=\"color:blue\">false positive rate</span> or <span style=\"color:blue\">fall out</span>\n",
    "<li><span style=\"color:blue\">precision</span> or <span style=\"color:blue\">positive predictive value</span>\n",
    "<li><span style=\"color:blue\">f-score</span>\n",
    "<li><span style=\"color:blue\">accuracy</span>\n",
    "<li><span style=\"color:blue\">misclassification rate</span>\n",
    "\n",
    "\n",
    "</ol>\n",
    "<li>Note that our positive values are \"is a 8\" and negative values are \"is not a 8\"</li>"
   ]
  },
  {
   "cell_type": "code",
   "execution_count": 22,
   "metadata": {},
   "outputs": [
    {
     "name": "stdout",
     "output_type": "stream",
     "text": [
      "Not 8 correctly classified as not 8 (tn)          \t5554\n",
      "Not 8 incorrectly classified as a 8 (fp)          \t139\n",
      "8 incorrectly classified as not 8 (fn)            \t205\n",
      "8 correctly classified as a 8 (tp)                \t402\n"
     ]
    }
   ],
   "source": [
    "tn, fp, fn, tp = cfm.ravel() #ravel flattens an array\n",
    "print(\"%-50s\\t%d\"%(\"Not 8 correctly classified as not 8 (tn)\",tn))\n",
    "print(\"%-50s\\t%d\"%(\"Not 8 incorrectly classified as a 8 (fp)\",fp))\n",
    "print(\"%-50s\\t%d\"%(\"8 incorrectly classified as not 8 (fn)\",fn))\n",
    "print(\"%-50s\\t%d\"%(\"8 correctly classified as a 8 (tp)\",tp))"
   ]
  },
  {
   "cell_type": "code",
   "execution_count": 20,
   "metadata": {},
   "outputs": [
    {
     "data": {
      "text/plain": [
       "array([1, 2, 3, 4, 5, 6])"
      ]
     },
     "execution_count": 20,
     "metadata": {},
     "output_type": "execute_result"
    }
   ],
   "source": [
    "ax=np.array([[1,2,3],[4,5,6]])\n",
    "np.ravel(ax)"
   ]
  },
  {
   "cell_type": "markdown",
   "metadata": {},
   "source": [
    "<br><br><br>\n",
    "<span style=\"color:blue;font-size:large\">True Positive rate/sensitivity/recall</span>\n",
    "\n"
   ]
  },
  {
   "cell_type": "markdown",
   "metadata": {},
   "source": [
    "True Positive Rate is the proportion of positive cases that are correctly identified as positive\n",
    "$$ tpr = \\frac{tp}{(tp + fn)} $$\n",
    "Sensitivity is a measure of how good our model is in identifying the positive condition. A value of 1, for example, will mean that every positive value (every eight) was correctly idenfified by the model. \n",
    "<li>Percentage of persons with COVID correctly identified as having COVID\n",
    "<li>Percentage of \"fake news\" items correctly identified as fake news\n",
    "<li>Percentage of consumers who click on an ad and the model correctly predicts they will click on the ad\n",
    "<li>Percentage of customers who churn (move to a new carrier) and the model correctly predicts they will churn\n",
    "<li><b>Note that the true positive rate will be 1.0 if we just guess that every case is positive</b></li>"
   ]
  },
  {
   "cell_type": "code",
   "execution_count": 23,
   "metadata": {},
   "outputs": [
    {
     "name": "stdout",
     "output_type": "stream",
     "text": [
      "Percentage of eights correctly identified as eights: 0.6622734761120264\n"
     ]
    }
   ],
   "source": [
    "tpr = tp/(tp+fn) #note that the denominator is the number of 8s\n",
    "print(\"Percentage of eights correctly identified as eights:\",tpr)"
   ]
  },
  {
   "cell_type": "markdown",
   "metadata": {},
   "source": [
    "<br><br><br>\n",
    "<span style=\"color:blue;font-size:large\">True Negative Rate or Specificity</span>\n",
    "\n"
   ]
  },
  {
   "cell_type": "markdown",
   "metadata": {},
   "source": [
    "True Negative Rate is the proportion of negative cases that are correctly identified as negative\n",
    "$$ tnr = \\frac{tn}{(tn + fp)} $$\n",
    "<li>Proportion of cases that are COVID free that are correctly identified as COVID free</li>\n",
    "<li>Proportion of real news stories that are correctly identified as real news\n",
    "<li>Proportion of healthy people that are correctly identified as healthy\n",
    "<li><b>Note that this will be 1 if everything is guessed as a non-8</b>"
   ]
  },
  {
   "cell_type": "code",
   "execution_count": 24,
   "metadata": {},
   "outputs": [
    {
     "name": "stdout",
     "output_type": "stream",
     "text": [
      "percentage of estimated non-8s correctly identified 0.975584050588442\n"
     ]
    }
   ],
   "source": [
    "tnr = tn/(tn+fp) #note that the denominator is the number of non-8s\n",
    "print(\"percentage of estimated non-8s correctly identified\",tnr)"
   ]
  },
  {
   "cell_type": "markdown",
   "metadata": {},
   "source": [
    "<br><br><br>\n",
    "<span style=\"color:blue;font-size:large\">false positive rate or \"fall out\"</span>\n",
    "\n"
   ]
  },
  {
   "cell_type": "markdown",
   "metadata": {},
   "source": [
    "The false positive rate is the proportion of negative cases that have been identified as positives\n",
    "$$ fpr = \\frac{fp}{(fp + tn)} $$\n",
    "\n",
    "<li>Proportion of people who don't have COVID but the model says they do</li>\n",
    "<li>Proportion of true news items that are identified as fake news\n",
    "<li>Proportion of consumers who won't use a discount but are identified as target discount users\n",
    "<li>equals 1-tnr\n"
   ]
  },
  {
   "cell_type": "code",
   "execution_count": 25,
   "metadata": {},
   "outputs": [
    {
     "name": "stdout",
     "output_type": "stream",
     "text": [
      "the proportion of non 8s misclassified as an 8 0.024415949411558054\n"
     ]
    }
   ],
   "source": [
    "fpr = fp/(fp+tn) #note that the denominator is the number of non 8s\n",
    "print(\"the proportion of non 8s misclassified as an 8\",fpr)\n"
   ]
  },
  {
   "cell_type": "markdown",
   "metadata": {},
   "source": [
    "<br><br><br>\n",
    "<span style=\"color:blue;font-size:large\">Precision</span>\n",
    "\n"
   ]
  },
  {
   "cell_type": "markdown",
   "metadata": {},
   "source": [
    "Precision measures the proportion of cases identified as positive that are actually positive\n",
    "$$ precision = \\frac{tp}{(tp + fp)} $$\n",
    "<li>Proportion of people that the model says have COVID and they actually have COVID</li>\n",
    "<li>Proportion of news items that are actually fake from amongst all the news items that are identified as fake\n",
    "<li>Proportion of \"churners\" that are actual churners from amongst all customers identifed as churners\n",
    "<li>Proportion of actual 8s amongst all things that are identified as 8s\n",
    "<li><b>Note that if we predict exactly one case as positive, and that case is actually positive, precision will be 100%</b>"
   ]
  },
  {
   "cell_type": "code",
   "execution_count": 26,
   "metadata": {},
   "outputs": [
    {
     "name": "stdout",
     "output_type": "stream",
     "text": [
      "proportion of cases identified as 8s that are actually 8s 0.7430683918669131\n"
     ]
    }
   ],
   "source": [
    "precision = tp/(tp+fp) #note that the denominator is all things classified as a 8\n",
    "print(\"proportion of cases identified as 8s that are actually 8s\",precision)"
   ]
  },
  {
   "cell_type": "markdown",
   "metadata": {},
   "source": [
    "<br><br><br>\n",
    "<span style=\"color:blue;font-size:large\">f-score</span>\n",
    "\n"
   ]
  },
  {
   "cell_type": "markdown",
   "metadata": {},
   "source": [
    "<li>Precision tells us how well our model discriminates amongst cases it identifies as positive. A precision of 1 would mean that if our model says something is positive, it is definitely a positive. \n",
    "<li>Recall (true positive rate) tells us how good the model is at finding positives (a recall of 1 would mean it has found all positives). <li>Precision does not tell us how good we are at finding positives while recall does not tell us how good our model is at disciminating\n",
    "<li>We can increase recall by increasing the number of positive predictions, but this will hurt precision</li>\n",
    "<li>We can increase precision by decreasing the number of positive predictions and (hopefully) being more correct, but this will hurt recall</li>\n",
    "<li>The f-score combines the two into a single score using the harmonic mean of the two numbers to help trade-off the two scores:\n",
    "    \n",
    "$$ F = 2\\frac{precision * recall}{(precision + recall)} $$\n"
   ]
  },
  {
   "cell_type": "code",
   "execution_count": 27,
   "metadata": {},
   "outputs": [
    {
     "name": "stdout",
     "output_type": "stream",
     "text": [
      "0.7003484320557491\n"
     ]
    }
   ],
   "source": [
    "f = precision*tpr/(precision+tpr)*2\n",
    "print(f)"
   ]
  },
  {
   "cell_type": "markdown",
   "metadata": {},
   "source": [
    "<br><br><br>\n",
    "<span style=\"color:blue;font-size:large\">accuracy</span>\n",
    "\n"
   ]
  },
  {
   "cell_type": "markdown",
   "metadata": {},
   "source": [
    "Accuracy measures how accurately the model classifies things as positive or negative (8s or non 8s)\n",
    "$$accuracy = \\frac{tp + tn}{(tp+tn+fp+fn)} $$\n",
    "An accuracy of 1 would mean that our model has classified everything correctly"
   ]
  },
  {
   "cell_type": "code",
   "execution_count": 28,
   "metadata": {},
   "outputs": [
    {
     "name": "stdout",
     "output_type": "stream",
     "text": [
      "classification accuracy 0.9453968253968253\n"
     ]
    }
   ],
   "source": [
    "accuracy = (tp+tn)/(tp+tn+fp+fn)\n",
    "print(\"classification accuracy\",accuracy)"
   ]
  },
  {
   "cell_type": "markdown",
   "metadata": {},
   "source": [
    "<br><br><br>\n",
    "<span style=\"color:blue;font-size:large\">misclassification rate</span>\n",
    "\n"
   ]
  },
  {
   "cell_type": "markdown",
   "metadata": {},
   "source": [
    "Misclassifican rate is the inverse of accuracy. What proportion of the cases are misclassified?\n",
    "$$ misclassificationRate = \\frac{fp + fn}{(tp+tn+fp+fn)} $$\n"
   ]
  },
  {
   "cell_type": "code",
   "execution_count": 29,
   "metadata": {},
   "outputs": [
    {
     "name": "stdout",
     "output_type": "stream",
     "text": [
      "proportion misclassified 0.054603174603174605\n"
     ]
    }
   ],
   "source": [
    "misclassification_rate = (fp + fn)/(tp+fp+tn+fn)\n",
    "print(\"proportion misclassified\",misclassification_rate)"
   ]
  },
  {
   "cell_type": "markdown",
   "metadata": {},
   "source": [
    "<br><br><br>\n",
    "<span style=\"color:blue;font-size:large\">Summarizing our results</span>\n"
   ]
  },
  {
   "cell_type": "code",
   "execution_count": 30,
   "metadata": {},
   "outputs": [
    {
     "name": "stdout",
     "output_type": "stream",
     "text": [
      "ACCURACY: correctly assigning a category 0.9453968253968253\n",
      "RECALL/TPR: proportion of 8s correctly identified: 0.6622734761120264\n",
      "PRECISION: proportion of things identified as 8 that are 8 0.7430683918669131\n",
      "SPECIFICITY/TNR: percentage of non-8s correctly identified 0.975584050588442\n",
      "F1 SCORE:  0.7003484320557491\n"
     ]
    }
   ],
   "source": [
    "accuracy = (tp+tn)/(tp+tn+fp+fn)\n",
    "print(\"ACCURACY: correctly assigning a category\",accuracy)\n",
    "tpr = tp/(tp+fn) #note that the denominator is the number of 8s\n",
    "print(\"RECALL/TPR: proportion of 8s correctly identified:\",tpr)\n",
    "precision = tp/(tp+fp) #note that the denominator is all things classified as an 8\n",
    "print(\"PRECISION: proportion of things identified as 8 that are 8\",precision)\n",
    "tnr = tn/(tn+fp) #note that the denominator is the number of non-8s\n",
    "print(\"SPECIFICITY/TNR: percentage of non-8s correctly identified\",tnr)\n",
    "f = f = precision*tpr/(precision+tpr)*2\n",
    "print(\"F1 SCORE: \",f)\n"
   ]
  },
  {
   "cell_type": "markdown",
   "metadata": {},
   "source": [
    "<h4>Sanity check</h4>\n",
    "<li>What is the proportion of 8's and not 8's in our test sample</li>"
   ]
  },
  {
   "cell_type": "code",
   "execution_count": 32,
   "metadata": {},
   "outputs": [
    {
     "data": {
      "text/plain": [
       "(0.9036507936507936, 0.09634920634920635)"
      ]
     },
     "execution_count": 32,
     "metadata": {},
     "output_type": "execute_result"
    }
   ],
   "source": [
    "not_eights = y_test.sum()/len(y_test)\n",
    "eights = 1-not_eights\n",
    "eights, not_eights"
   ]
  },
  {
   "cell_type": "markdown",
   "metadata": {},
   "source": [
    "<br><br><br>\n",
    "<span style=\"color:green;font-size:xx-large\">Model Selection Strategies</span>"
   ]
  },
  {
   "cell_type": "code",
   "execution_count": null,
   "metadata": {},
   "outputs": [],
   "source": []
  },
  {
   "cell_type": "markdown",
   "metadata": {},
   "source": [
    "<li>Some binary classification models like the SGD (with log loss) can compute predictions as probabilities </li>\n",
    "<li>A <span style=\"color:blue\">loss function</span> in regression models is used to calculate the prediction error</li>\n",
    "<li>Sklearn then picks the 0.5 as a threshhold</li>\n",
    "<li>Values above 0.5 are predicted as positive while values below 0.5 are predicted as negative</li>\n",
    "<li>By varying the threshhold, it is possible to vary the precision, recall, accuracy etc.</li>"
   ]
  },
  {
   "cell_type": "markdown",
   "metadata": {},
   "source": [
    "<h3>Evaluate the model</h3>\n"
   ]
  },
  {
   "cell_type": "markdown",
   "metadata": {},
   "source": [
    "<h4>On training data</h4>"
   ]
  },
  {
   "cell_type": "code",
   "execution_count": 33,
   "metadata": {},
   "outputs": [
    {
     "data": {
      "text/html": [
       "<style>#sk-container-id-2 {color: black;}#sk-container-id-2 pre{padding: 0;}#sk-container-id-2 div.sk-toggleable {background-color: white;}#sk-container-id-2 label.sk-toggleable__label {cursor: pointer;display: block;width: 100%;margin-bottom: 0;padding: 0.3em;box-sizing: border-box;text-align: center;}#sk-container-id-2 label.sk-toggleable__label-arrow:before {content: \"▸\";float: left;margin-right: 0.25em;color: #696969;}#sk-container-id-2 label.sk-toggleable__label-arrow:hover:before {color: black;}#sk-container-id-2 div.sk-estimator:hover label.sk-toggleable__label-arrow:before {color: black;}#sk-container-id-2 div.sk-toggleable__content {max-height: 0;max-width: 0;overflow: hidden;text-align: left;background-color: #f0f8ff;}#sk-container-id-2 div.sk-toggleable__content pre {margin: 0.2em;color: black;border-radius: 0.25em;background-color: #f0f8ff;}#sk-container-id-2 input.sk-toggleable__control:checked~div.sk-toggleable__content {max-height: 200px;max-width: 100%;overflow: auto;}#sk-container-id-2 input.sk-toggleable__control:checked~label.sk-toggleable__label-arrow:before {content: \"▾\";}#sk-container-id-2 div.sk-estimator input.sk-toggleable__control:checked~label.sk-toggleable__label {background-color: #d4ebff;}#sk-container-id-2 div.sk-label input.sk-toggleable__control:checked~label.sk-toggleable__label {background-color: #d4ebff;}#sk-container-id-2 input.sk-hidden--visually {border: 0;clip: rect(1px 1px 1px 1px);clip: rect(1px, 1px, 1px, 1px);height: 1px;margin: -1px;overflow: hidden;padding: 0;position: absolute;width: 1px;}#sk-container-id-2 div.sk-estimator {font-family: monospace;background-color: #f0f8ff;border: 1px dotted black;border-radius: 0.25em;box-sizing: border-box;margin-bottom: 0.5em;}#sk-container-id-2 div.sk-estimator:hover {background-color: #d4ebff;}#sk-container-id-2 div.sk-parallel-item::after {content: \"\";width: 100%;border-bottom: 1px solid gray;flex-grow: 1;}#sk-container-id-2 div.sk-label:hover label.sk-toggleable__label {background-color: #d4ebff;}#sk-container-id-2 div.sk-serial::before {content: \"\";position: absolute;border-left: 1px solid gray;box-sizing: border-box;top: 0;bottom: 0;left: 50%;z-index: 0;}#sk-container-id-2 div.sk-serial {display: flex;flex-direction: column;align-items: center;background-color: white;padding-right: 0.2em;padding-left: 0.2em;position: relative;}#sk-container-id-2 div.sk-item {position: relative;z-index: 1;}#sk-container-id-2 div.sk-parallel {display: flex;align-items: stretch;justify-content: center;background-color: white;position: relative;}#sk-container-id-2 div.sk-item::before, #sk-container-id-2 div.sk-parallel-item::before {content: \"\";position: absolute;border-left: 1px solid gray;box-sizing: border-box;top: 0;bottom: 0;left: 50%;z-index: -1;}#sk-container-id-2 div.sk-parallel-item {display: flex;flex-direction: column;z-index: 1;position: relative;background-color: white;}#sk-container-id-2 div.sk-parallel-item:first-child::after {align-self: flex-end;width: 50%;}#sk-container-id-2 div.sk-parallel-item:last-child::after {align-self: flex-start;width: 50%;}#sk-container-id-2 div.sk-parallel-item:only-child::after {width: 0;}#sk-container-id-2 div.sk-dashed-wrapped {border: 1px dashed gray;margin: 0 0.4em 0.5em 0.4em;box-sizing: border-box;padding-bottom: 0.4em;background-color: white;}#sk-container-id-2 div.sk-label label {font-family: monospace;font-weight: bold;display: inline-block;line-height: 1.2em;}#sk-container-id-2 div.sk-label-container {text-align: center;}#sk-container-id-2 div.sk-container {/* jupyter's `normalize.less` sets `[hidden] { display: none; }` but bootstrap.min.css set `[hidden] { display: none !important; }` so we also need the `!important` here to be able to override the default hidden behavior on the sphinx rendered scikit-learn.org. See: https://github.com/scikit-learn/scikit-learn/issues/21755 */display: inline-block !important;position: relative;}#sk-container-id-2 div.sk-text-repr-fallback {display: none;}</style><div id=\"sk-container-id-2\" class=\"sk-top-container\"><div class=\"sk-text-repr-fallback\"><pre>SGDClassifier(alpha=5.0, loss=&#x27;log_loss&#x27;, max_iter=200, random_state=42)</pre><b>In a Jupyter environment, please rerun this cell to show the HTML representation or trust the notebook. <br />On GitHub, the HTML representation is unable to render, please try loading this page with nbviewer.org.</b></div><div class=\"sk-container\" hidden><div class=\"sk-item\"><div class=\"sk-estimator sk-toggleable\"><input class=\"sk-toggleable__control sk-hidden--visually\" id=\"sk-estimator-id-2\" type=\"checkbox\" checked><label for=\"sk-estimator-id-2\" class=\"sk-toggleable__label sk-toggleable__label-arrow\">SGDClassifier</label><div class=\"sk-toggleable__content\"><pre>SGDClassifier(alpha=5.0, loss=&#x27;log_loss&#x27;, max_iter=200, random_state=42)</pre></div></div></div></div></div>"
      ],
      "text/plain": [
       "SGDClassifier(alpha=5.0, loss='log_loss', max_iter=200, random_state=42)"
      ]
     },
     "execution_count": 33,
     "metadata": {},
     "output_type": "execute_result"
    }
   ],
   "source": [
    "clf"
   ]
  },
  {
   "cell_type": "code",
   "execution_count": 34,
   "metadata": {},
   "outputs": [
    {
     "data": {
      "text/plain": [
       "(0.9553741496598639, 0.7263537906137184, 0.784099766173032)"
      ]
     },
     "execution_count": 34,
     "metadata": {},
     "output_type": "execute_result"
    }
   ],
   "source": [
    "from sklearn.metrics import precision_score,recall_score,accuracy_score\n",
    "y_train_pred = clf.predict(X_train)\n",
    "accuracy = accuracy_score(y_train,y_train_pred)\n",
    "recall = recall_score(y_train,y_train_pred)\n",
    "precision = precision_score(y_train,y_train_pred)\n",
    "accuracy, recall, precision"
   ]
  },
  {
   "cell_type": "markdown",
   "metadata": {},
   "source": [
    "<h4>On testing data</h4>"
   ]
  },
  {
   "cell_type": "code",
   "execution_count": 35,
   "metadata": {},
   "outputs": [
    {
     "data": {
      "text/plain": [
       "(0.9453968253968253, 0.6622734761120264, 0.7430683918669131)"
      ]
     },
     "execution_count": 35,
     "metadata": {},
     "output_type": "execute_result"
    }
   ],
   "source": [
    "y_test_pred = clf.predict(X_test)\n",
    "accuracy = accuracy_score(y_test,y_test_pred)\n",
    "recall = recall_score(y_test,y_test_pred)\n",
    "precision = precision_score(y_test,y_test_pred)\n",
    "accuracy, recall, precision"
   ]
  },
  {
   "cell_type": "markdown",
   "metadata": {},
   "source": [
    "<h4>Getting the probabilities</h4>\n",
    "<li><span style=\"color:green\">predict_proba</span> works like predict but returns the probability of each class for each case </li>\n"
   ]
  },
  {
   "cell_type": "code",
   "execution_count": 38,
   "metadata": {},
   "outputs": [
    {
     "data": {
      "text/plain": [
       "array([2.04812033e-04, 4.58029591e-03, 6.33005650e-04, 1.41242522e-03,\n",
       "       2.60198594e-03, 3.97241732e-03, 1.89121750e-02, 3.09015790e-04,\n",
       "       2.29088543e-01, 2.70724266e-03, 5.35608061e-07, 2.10733475e-03,\n",
       "       7.00728456e-03, 7.03632784e-03, 3.06369176e-06, 1.51163381e-04,\n",
       "       3.05566324e-02, 2.08176219e-01, 5.78447214e-04, 1.17011687e-03])"
      ]
     },
     "execution_count": 38,
     "metadata": {},
     "output_type": "execute_result"
    }
   ],
   "source": [
    "prediction_probabilities = clf.predict_proba(X_train)\n",
    "prob_array = prediction_probabilities[:,1]\n",
    "prob_array[:20]"
   ]
  },
  {
   "cell_type": "code",
   "execution_count": 39,
   "metadata": {
    "scrolled": true
   },
   "outputs": [
    {
     "data": {
      "text/plain": [
       "(0.9998077399948154, 1.6662230363607759e-12, 0.11149675030419363)"
      ]
     },
     "execution_count": 39,
     "metadata": {},
     "output_type": "execute_result"
    }
   ],
   "source": [
    "prob_array.max(),prob_array.min(),prob_array.mean()"
   ]
  },
  {
   "cell_type": "markdown",
   "metadata": {},
   "source": [
    "<h3>Now, we can see how the metrics change with changes in the threshold</h3>"
   ]
  },
  {
   "cell_type": "code",
   "execution_count": 40,
   "metadata": {},
   "outputs": [
    {
     "name": "stdout",
     "output_type": "stream",
     "text": [
      "0.05\n",
      "precision:  0.3012699905926623\n",
      "recall:  0.9249097472924188\n",
      "accuracy:  0.7908163265306123\n",
      "\n",
      "\n",
      "\n",
      "0.4\n",
      "precision:  0.7187079407806191\n",
      "recall:  0.7711191335740072\n",
      "accuracy:  0.95\n",
      "\n",
      "\n",
      "\n",
      "0.5\n",
      "precision:  0.784099766173032\n",
      "recall:  0.7263537906137184\n",
      "accuracy:  0.9553741496598639\n",
      "\n",
      "\n",
      "\n",
      "0.6\n",
      "precision:  0.8322869955156951\n",
      "recall:  0.6700361010830325\n",
      "accuracy:  0.9561904761904761\n",
      "\n",
      "\n",
      "\n",
      "0.8\n",
      "precision:  0.910941475826972\n",
      "recall:  0.5169675090252708\n",
      "accuracy:  0.9497278911564626\n",
      "\n",
      "\n",
      "\n",
      "0.9\n",
      "precision:  0.9397810218978102\n",
      "recall:  0.37184115523465705\n",
      "accuracy:  0.9385714285714286\n",
      "\n",
      "\n",
      "\n"
     ]
    }
   ],
   "source": [
    "for threshold in (0.05, 0.4, 0.5, 0.6, 0.8, 0.9):\n",
    "    print(threshold)\n",
    "    y_pred_revised = prob_array > threshold\n",
    "    print(\"precision: \", precision_score(y_train, y_pred_revised)) #originally 75%\n",
    "    print(\"recall: \",recall_score(y_train, y_pred_revised)) #originally 88%\n",
    "    print(\"accuracy: \", accuracy_score(y_train, y_pred_revised)) #originally 97%\n",
    "    print(\"\\n\\n\")"
   ]
  },
  {
   "cell_type": "code",
   "execution_count": 41,
   "metadata": {},
   "outputs": [
    {
     "name": "stdout",
     "output_type": "stream",
     "text": [
      "0.1\n",
      "precision:  0.38130563798219586\n",
      "recall:  0.8467874794069192\n",
      "accuracy:  0.8528571428571429\n",
      "\n",
      "\n",
      "\n",
      "0.2\n",
      "precision:  0.5229455709711847\n",
      "recall:  0.8072487644151565\n",
      "accuracy:  0.9104761904761904\n",
      "\n",
      "\n",
      "\n",
      "0.4\n",
      "precision:  0.6875\n",
      "recall:  0.7067545304777595\n",
      "accuracy:  0.9407936507936508\n",
      "\n",
      "\n",
      "\n",
      "0.5\n",
      "precision:  0.7430683918669131\n",
      "recall:  0.6622734761120264\n",
      "accuracy:  0.9453968253968253\n",
      "\n",
      "\n",
      "\n",
      "0.6\n",
      "precision:  0.8013100436681223\n",
      "recall:  0.6046128500823723\n",
      "accuracy:  0.9474603174603174\n",
      "\n",
      "\n",
      "\n",
      "0.8\n",
      "precision:  0.9057239057239057\n",
      "recall:  0.443163097199341\n",
      "accuracy:  0.9419047619047619\n",
      "\n",
      "\n",
      "\n",
      "0.9\n",
      "precision:  0.9406392694063926\n",
      "recall:  0.3393739703459638\n",
      "accuracy:  0.9342857142857143\n",
      "\n",
      "\n",
      "\n"
     ]
    }
   ],
   "source": [
    "prediction_probabilities_test = clf.predict_proba(X_test)\n",
    "prob_array_test = prediction_probabilities_test[:,1]\n",
    "prob_array_test\n",
    "for threshold in (0.1,0.2, 0.4, 0.5, 0.6, 0.8, 0.9):\n",
    "    print(threshold)\n",
    "    y_pred_revised = prob_array_test > threshold\n",
    "    print(\"precision: \", precision_score(y_test, y_pred_revised)) #originally 75%\n",
    "    print(\"recall: \",recall_score(y_test, y_pred_revised)) #originally 88%\n",
    "    print(\"accuracy: \", accuracy_score(y_test, y_pred_revised)) #originally 97%\n",
    "    print(\"\\n\\n\")"
   ]
  },
  {
   "cell_type": "markdown",
   "metadata": {},
   "source": [
    "<br><br><br>\n",
    "<span style=\"color:red;font-size:x-large\">precision-recall tradeoff</span>\n",
    "\n"
   ]
  },
  {
   "cell_type": "markdown",
   "metadata": {},
   "source": [
    "<li>we can increase precision by focusing on correctly identifying 8s while identifying fewer 8s overall</li>\n",
    "<li>but this will decrease recall because we'll be missing a lot of actual 8s</li>\n",
    "<li>generally, precision and recall trade each other off</li>\n",
    "<li>sometimes, we want higher precision (e.g., if we're identifying spam emails but are unwilling to mark a non-spam email as spam)</li>\n",
    "<li>sometimes, we want higher recall (e.g., if we want to find the effective set of customers for a discount but don't care if a few not so good customers end up in that set)</li>\n"
   ]
  },
  {
   "cell_type": "markdown",
   "metadata": {},
   "source": [
    "<li>sklearn also constructs a precision_recall_curve giving the precision and recall at each threshold value</li>\n",
    "<li>we can use this, along with the scores to actively tradeoff precision and recall</li>\n"
   ]
  },
  {
   "cell_type": "code",
   "execution_count": 42,
   "metadata": {},
   "outputs": [
    {
     "data": {
      "text/plain": [
       "<sklearn.metrics._plot.precision_recall_curve.PrecisionRecallDisplay at 0x7fc12048fca0>"
      ]
     },
     "execution_count": 42,
     "metadata": {},
     "output_type": "execute_result"
    },
    {
     "data": {
      "image/png": "[encoded data removed]",
      "text/plain": [
       "<Figure size 432x288 with 1 Axes>"
      ]
     },
     "metadata": {
      "needs_background": "light"
     },
     "output_type": "display_data"
    }
   ],
   "source": [
    "from sklearn.metrics import PrecisionRecallDisplay\n",
    "PrecisionRecallDisplay.from_estimator(clf, X_train, y_train)"
   ]
  },
  {
   "cell_type": "markdown",
   "metadata": {},
   "source": [
    "<b>Average Precision (AP)</b> is the weighted mean of precisions at each threshold; the weight is the increase in recall from the prior threshold\n",
    "\n",
    "<li>The interpretation of average precision is that a high AP value indicates that the model is doing a good job of identifying positives while minimizing false positives. Roughly speaking, as the threshold goes down, the recall increases by x% and the precision decreases by y%. A high average precision indicates that y% is consistently less than x% (the gain in recall does not come with a higher loss in precision)</li>\n",
    "<li>The average precision metric can be used to compare models and can be used to set a threshold that trades off precision with recall (depending on what makes sense in the problem domain)</li>"
   ]
  },
  {
   "cell_type": "markdown",
   "metadata": {},
   "source": [
    "<li>In our model, we don't have much room for improvement since the precision remains high and drops off only close to very low threshold values</li>\n",
    "<li>But, if precision is more important than recall, we can go for a very high threshold value with gains in precision without much loss in recall</li>\n",
    "<li>this is supported, not only by the calculations, but also by the high AP score</li>"
   ]
  },
  {
   "cell_type": "markdown",
   "metadata": {},
   "source": [
    "<br><br><br>\n",
    "<span style=\"color:green;font-size:xx-large\">ROC: Receiver Operating Characteristic (ROC)</span>\n",
    "\n"
   ]
  },
  {
   "cell_type": "markdown",
   "metadata": {},
   "source": [
    "<span style=\"color:red;font-size:x-large\">\n",
    "Trading off true positive rate and false positive rate</span>\n",
    "\n"
   ]
  },
  {
   "cell_type": "markdown",
   "metadata": {},
   "source": [
    "<li>the true positive rate (recall or the proportion of actual 8s we identify as 8s) and false positive rate (what proportion of non-8s we have identified as 8s) compete</li>\n",
    "<li>we can increase the true positive rate by using a model that says every case is a positive</li>\n",
    "<li>but that will increase the false positive rate as well</li>\n",
    "<li>trade-off between the two is done using ROC (Receiver Operating Characteristic) curves"
   ]
  },
  {
   "cell_type": "markdown",
   "metadata": {},
   "source": [
    "<li>ROC is a way of measuring the efficacy (goodness) or a model</li>\n",
    "<li>ROC is primarily used to compare models (and compare a model against a random classifier)</li>\n",
    "<li>The ROC curve pairs the (TPR, FPR) at each threshold point and plots a line with the FPR on the x-axis and the TPR on the y-axis</li>\n",
    "<li>The <span style=\"color:blue\">area under the curve (auc)</span> of this line gives us a measure of the efficacy of the model</li>\n",
    "<ul>\n",
    "    <li>AUC of 0.5 tells us that our machine is no better than a random positive/negative picker</li>\n",
    "    <li>AUC of 1.0 tells us that our machine is the perfect classifier</li>\n",
    "</ul>\n",
    "<li>At the lower threshold values, both fpr and tpr will be high </li>\n",
    "<ul>\n",
    "    <li>since almost all cases will be predicted as positive the tpr will be high</li>\n",
    "    <li>since almost all non-positive cases will be predicted as positive the fpr will be high</li>\n",
    "</ul>\n",
    "<li>At the higher threshold values, both fpr and tpr will be low</li>\n",
    "<ul>\n",
    "    <li>since almost all cases will be predicted as negative the fpr will be low</li>\n",
    "    <li>since almost all positive cases will be predicted as negative the tpr will be low</li>\n",
    "</ul>\n",
    "<p></p>\n",
    "<img src=\"roc.png\">"
   ]
  },
  {
   "cell_type": "markdown",
   "metadata": {},
   "source": [
    "<h4>Best model ROC curve</h4>"
   ]
  },
  {
   "cell_type": "code",
   "execution_count": 43,
   "metadata": {},
   "outputs": [
    {
     "data": {
      "text/plain": [
       "<sklearn.metrics._plot.roc_curve.RocCurveDisplay at 0x7fc120491700>"
      ]
     },
     "execution_count": 43,
     "metadata": {},
     "output_type": "execute_result"
    },
    {
     "data": {
      "image/png": "[encoded data removed]",
      "text/plain": [
       "<Figure size 432x288 with 1 Axes>"
      ]
     },
     "metadata": {
      "needs_background": "light"
     },
     "output_type": "display_data"
    }
   ],
   "source": [
    "from sklearn.metrics import RocCurveDisplay\n",
    "RocCurveDisplay.from_estimator(clf,X_test, y_test)\n",
    "\n",
    "#RocCurveDisplay.from_predictions(y_train,prob_array)"
   ]
  },
  {
   "cell_type": "markdown",
   "metadata": {},
   "source": [
    "<span style=\"color:red;font-size:x-large\">reading the ROC curve</span>\n",
    "\n"
   ]
  },
  {
   "cell_type": "markdown",
   "metadata": {},
   "source": [
    "<li>Take the point on the curve where the TPR is 0.9</li>\n",
    "<li>At the threshold at this point, we've identified 90% of the true positives</li>\n",
    "<li>and have a FPR of arould .2</li>\n",
    "<li>fpr = 1-tnr, so the tnr = 0.80, or we've correctly identified 80% of non 8's as non 8</li>\n",
    "<li>as the tpr goes up, the tnr goes down (which leads us to the case where tpr=100% and tnr=0%)</li>"
   ]
  },
  {
   "cell_type": "markdown",
   "metadata": {},
   "source": [
    "<h3>Understanding AUC</h3>\n",
    "<li>AUC tells us how well our model separates positive and negative cases</li>\n",
    "<li>Consider the following probabilities assigned to each case by a classification model (sorted by prob) and the corresponding actual y values</li>\n",
    "<pre>\n",
    "(0.15, 0.19, 0.26, 0.41, 0.44, 0.57, 0.65, 0.73, 0.88, 0.91)\n",
    "(F, F, F, T, T, T, T, T, T, T)\n",
    "\n",
    "\n",
    "</pre>\n",
    "Since the model can pick a threshold (e.g., 0.3) that will clearly separate the negatives from the positives, the model predictions will be:\n",
    "<pre>\n",
    "(0.15, 0.19, 0.26, 0.41, 0.44, 0.57, 0.65, 0.73, 0.88, 0.91)\n",
    "(F, F, F, T, T, T, T, T, T, T)\n",
    "\n",
    "\n",
    "</pre>\n",
    "\n",
    "with an accuracy of 100%, the AUC of this model is 1.0. Our model can cleanly separate the positive an negative cases. Or, there exists a threshhold which separates the positives and negatives cleanly\n",
    "    "
   ]
  },
  {
   "cell_type": "markdown",
   "metadata": {},
   "source": [
    "Now consider this slightly tweaked version\n",
    "<pre>\n",
    "(0.15, 0.19, 0.26, 0.41, 0.44, 0.57, 0.65, 0.73, 0.88, 0.91)\n",
    "(F, T, F, F, T, T, T, T, T, T)\n",
    "\n",
    "</pre>\n",
    "In this model, there is no threshold that will cleanly separate the positive and negative cases If, for example, we choose a threshold of 0.42, the model predicts:\n",
    "<pre>\n",
    "(F, F, F, F, T, T, T, T, T, T)\n",
    "</pre>\n",
    "with an accuracy of 90% (it gets 9 right and 1 wrong)\n",
    "\n"
   ]
  },
  {
   "cell_type": "markdown",
   "metadata": {},
   "source": [
    "<h3>Calculating the AUC</h3>\n"
   ]
  },
  {
   "cell_type": "code",
   "execution_count": 44,
   "metadata": {},
   "outputs": [
    {
     "data": {
      "text/plain": [
       "0.9047619047619048"
      ]
     },
     "execution_count": 44,
     "metadata": {},
     "output_type": "execute_result"
    }
   ],
   "source": [
    "import itertools\n",
    "target = (0, 1, 0, 0, 1, 1, 1, 1, 1, 1)\n",
    "probs = (0.15, 0.19, 0.26, 0.41, 0.44, 0.57, 0.65, 0.73, 0.88, 0.91)\n",
    "paired = list(zip(target,probs))\n",
    "\n",
    "#Separate the data into two sets\n",
    "#set1 contains the data with actual value 1 and the model determined probability\n",
    "#set2 contains the data with actual value 0 and the model determined probability\n",
    "set1 = [p for p in paired if p[0]==1]\n",
    "set0 = [p for p in paired if p[0]==0]\n",
    "\n",
    "#Compute the cross product of all pairs (7 1's * 3 0's gives 21 pairs)\n",
    "all_pairs = list(itertools.product(set1, set0))\n",
    "\n",
    "#Create three sets (only 2 are necessary)\n",
    "#A pair is concordant if the probability of the 1 is greater than the prob of the 0\n",
    "#A pair is discordant if the probability of the 0 is greater than the prob of the 1\n",
    "#A pair is tied if the probabilities are equal\n",
    "concordant_pairs = [p for p in all_pairs if p[0][1]>p[1][1]]\n",
    "discordant_pairs = [p for p in all_pairs if p[1][1]>p[0][1]]\n",
    "tied_pairs = [p for p in all_pairs if p[0][1]==p[1][1]]\n",
    "\n",
    "#Get the percent of concordant, discordant and tied\n",
    "percent_concordant = 100*len(concordant_pairs)/len(all_pairs)\n",
    "percent_discordant = 100*len(discordant_pairs)/len(all_pairs)\n",
    "percent_tied = 100*len(tied_pairs)/len(all_pairs)\n",
    "\n",
    "#Calculate the AUC\n",
    "auc = (percent_concordant + 0.5*percent_tied)/100\n",
    "auc"
   ]
  },
  {
   "cell_type": "markdown",
   "metadata": {},
   "source": [
    "<h3>Question</h3>\n",
    "<li>Why is the AUC 0.5 with a random model?</li>"
   ]
  },
  {
   "cell_type": "markdown",
   "metadata": {},
   "source": [
    "<span style=\"color:red;font-size:x-large\">What ROC curves bring to the table</span>\n",
    "\n"
   ]
  },
  {
   "cell_type": "markdown",
   "metadata": {},
   "source": [
    "<li>the AUC gives a quick estimate of the skill of the model in prediction because it tells us how good the model is at separating 1s and 0s</li>\n",
    "<li>ROC curves from different models can be visually compared to see which models are better (more skillful)</li>\n",
    "<li>Note that at a threshold of 0.5, a less skilled model may have a higher metric (e.g., accuracy) value. But the model skill is more important because a more skilled model is more likely to do better on unseen data</li>"
   ]
  },
  {
   "cell_type": "markdown",
   "metadata": {},
   "source": [
    "<span style=\"color:red;font-size:x-large\">ROC curves vs. Precision/Recall curves</span>\n",
    "\n"
   ]
  },
  {
   "cell_type": "markdown",
   "metadata": {},
   "source": [
    "<li>prefer ROC curves when the two binary value cases are relatively balanced in the dataset</li>\n",
    "<ul>\n",
    "    <li>If the data is unbalanced, the AUC will be high cases are skewed toward one side or the other (think of the cross product above)</li>\n",
    "    <li>But, you should use the AUC to <b>compare</b> models</li>\n",
    "    <li>Also note that model accuracy may be unhelpful</li>\n",
    "    </ul>\n",
    "\n",
    "<li>if the cases are unbalanced, prefer the model with the right mix of high precision and high recall</li>\n",
    "<li>Note that both precision as well as recall are positive case focused (no negatives in the calculation)</li>\n",
    "<li>Skewed models tend to have many negatives and few positives</li>\n",
    "<ul>\n",
    "    <li>precision will give an estimate of the probability that what the model says is positive is actually a positive</li>\n",
    "    <li>recall will tell us how good a model is at finding a positive (from amongst all actual positives)</li>\n",
    "    <li>focus on recall when the <b>cost of a false negative</b> (i.e., a positive is identified as a negative) is high</li>\n",
    "    <ul>\n",
    "        <li>Example: Fradulent bank transactions. A bank does not want to misclassify a fradulent transaction as non-fradulent because it may end up costing them money. Here, the focus should be on recall</li>\n",
    "    </ul>\n",
    "    <li>focus on precision when the <b>cost of a false positive is high</b></li>\n",
    "    <ul>\n",
    "        <li>Example: Recommendation systems. It is better not to recommend a movie than to recommend a movie that the user won't like. If you make many bad recommendations (false positives), the user loses interest and you'll end up losing the user</li>\n",
    "    </ul>\n",
    "</ul>\n"
   ]
  },
  {
   "cell_type": "markdown",
   "metadata": {},
   "source": [
    "<br><br><br>\n",
    "<h1>Cross-validation</h1>\n",
    "\n"
   ]
  },
  {
   "cell_type": "markdown",
   "metadata": {},
   "source": [
    "<li>cross validation is a technique used to measure how well a model will perform out of sample by looking only at in-sample data</li>\n",
    "<li>often used when there is insufficient data</li>\n",
    "<li>or when the data is segmented (e.g., demographic data from different states)</li>\n",
    "<li>procedure:</li>\n",
    "<ol>\n",
    "    <li>split the data into k-groups (aka k-folds)</li>\n",
    "    <li>train the model on k-1 folds</li>\n",
    "    <li>calculate an appropriate metric on the k-th fold</li>\n",
    "    <li>repeat this process on all combinations of (k-1,1) fold sets</li>\n",
    "    <li>report the average (and variance) of those averages as the performance measure</li>\n",
    "</ol>"
   ]
  },
  {
   "cell_type": "code",
   "execution_count": 45,
   "metadata": {},
   "outputs": [
    {
     "name": "stderr",
     "output_type": "stream",
     "text": [
      "/opt/anaconda3/lib/python3.9/site-packages/sklearn/datasets/_openml.py:1022: FutureWarning: The default value of `parser` will change from `'liac-arff'` to `'auto'` in 1.4. You can set `parser='auto'` to silence this warning. Therefore, an `ImportError` will be raised from 1.4 if the dataset is dense and pandas is not installed. Note that the pandas parser may return different data types. See the Notes Section in fetch_openml's API doc for details.\n",
      "  warn(\n"
     ]
    }
   ],
   "source": [
    "from sklearn.datasets import fetch_openml\n",
    "mnist = fetch_openml('mnist_784')\n",
    "mnist.keys()\n",
    "\n",
    "import pandas as pd\n",
    "import numpy as np\n",
    "X,y = mnist['data'],mnist['target']\n",
    "#the pd.assign function adds one or more pandas series as a new column(s) to a dataframe\n",
    "#The function returns a copy\n",
    "df = X.assign(target = y)\n",
    "\n",
    "#Randomly sample 30% of the data without replacement\n",
    "df = df.sample(frac=.3,random_state=42)\n",
    "\n",
    "#Split the data into two dataframes randomly assigning rows to one of two sets\n",
    "from sklearn.model_selection import train_test_split\n",
    "train, test = train_test_split(df, test_size = 0.3,random_state=3456)\n"
   ]
  },
  {
   "cell_type": "code",
   "execution_count": 46,
   "metadata": {},
   "outputs": [],
   "source": [
    "train['y'] = (train['target'] == '8')\n",
    "test['y'] = (test['target'] == '8')\n",
    "train = train.sample(frac=1.0,random_state=42) \n",
    "X_train = train.iloc[:,0:784]\n",
    "y_train = train['y']\n",
    "X_test = test.iloc[:,0:784]\n",
    "y_test = test['y']"
   ]
  },
  {
   "cell_type": "markdown",
   "metadata": {},
   "source": [
    "<li><a href=\"https://scikit-learn.org/stable/modules/generated/sklearn.model_selection.StratifiedKFold.html\">Stratified K-fold</a></li>\n",
    "<li>StratifiedKFold preserves the ratio of positive and negative cases in each target value</li>"
   ]
  },
  {
   "cell_type": "code",
   "execution_count": 47,
   "metadata": {},
   "outputs": [
    {
     "data": {
      "text/plain": [
       "StratifiedKFold(n_splits=3, random_state=42, shuffle=True)"
      ]
     },
     "execution_count": 47,
     "metadata": {},
     "output_type": "execute_result"
    }
   ],
   "source": [
    "from sklearn.model_selection import StratifiedKFold\n",
    "from sklearn.base import clone\n",
    "nfolds = 3\n",
    "skf = StratifiedKFold(n_splits=nfolds,random_state=42,shuffle=True)\n",
    "skf"
   ]
  },
  {
   "cell_type": "markdown",
   "metadata": {},
   "source": [
    "<br><br><br>\n",
    "<span style=\"color:blue;font-size:large\">3-fold cross validation </span>\n",
    "\n"
   ]
  },
  {
   "cell_type": "markdown",
   "metadata": {},
   "source": [
    "<li>Divide the data into three sets: set1,set2,set3</li>\n",
    "<li>train on set1+set2 and test on set3 get score1</li>\n",
    "<li>train on set1+set3 and test on set2 get score2</li>\n",
    "<li>train on set2+set3 and test on set1 get score3</li>\n",
    "<li>Note that each of score1, score2 and score 3 are calculated on data NOT used for training!</li>\n",
    "<img src=\"crossval.png\">"
   ]
  },
  {
   "cell_type": "markdown",
   "metadata": {},
   "source": [
    "<br><br><br>\n",
    "<span style=\"color:blue;font-size:large\">Cross validation on the handwritten digits model</span>"
   ]
  },
  {
   "cell_type": "code",
   "execution_count": null,
   "metadata": {},
   "outputs": [],
   "source": [
    "X_train"
   ]
  },
  {
   "cell_type": "code",
   "execution_count": 48,
   "metadata": {},
   "outputs": [],
   "source": [
    "#Number the index from 0..n \n",
    "#sklearn cross validation requires sequential numbering!\n",
    "X_train.index=range(len(X_train))\n",
    "y_train.index=range(len(y_train))\n"
   ]
  },
  {
   "cell_type": "code",
   "execution_count": null,
   "metadata": {},
   "outputs": [],
   "source": [
    "X_train"
   ]
  },
  {
   "cell_type": "markdown",
   "metadata": {},
   "source": [
    "<li><span style=\"color:green\">skf.split</span> splits the data into k sets of (k-1) and 1 and returns the indices of each paired data set</li>\n",
    "<li><span style=\"color:green\">X_train_folds, X_test_folds = X.loc[train_index], X.loc[test_index]</span> extracts the training and testing input feature sets</li>\n",
    "<li><span style=\"color:green\">clone(clf)</span> makes a copy of the SGDClassifier</li>\n",
    "<li><span style=\"color:green\">clone_clf.fit(X_train_folds,y_train_folds)</span> fits the training data (the k-1 folds)</li>\n",
    "<li><span style=\"color:green\">clone_clf.predict(X_test_folds)</span> returns the predictions on the testing (the k-th) fold</li>\n",
    "<li><span style=\"color:green\">(predictions == y_test_folds).sum()/len(predictions)</span> returns the accuracy of the model</li>"
   ]
  },
  {
   "cell_type": "code",
   "execution_count": 49,
   "metadata": {},
   "outputs": [
    {
     "data": {
      "text/plain": [
       "[(array([    0,     1,     2, ..., 14696, 14697, 14699]),\n",
       "  array([    5,     7,     8, ..., 14687, 14688, 14698])),\n",
       " (array([    0,     5,     7, ..., 14694, 14695, 14698]),\n",
       "  array([    1,     2,     3, ..., 14696, 14697, 14699])),\n",
       " (array([    1,     2,     3, ..., 14697, 14698, 14699]),\n",
       "  array([    0,     9,    11, ..., 14693, 14694, 14695]))]"
      ]
     },
     "execution_count": 49,
     "metadata": {},
     "output_type": "execute_result"
    }
   ],
   "source": [
    "list(skf.split(X_train, y_train))"
   ]
  },
  {
   "cell_type": "code",
   "execution_count": 50,
   "metadata": {},
   "outputs": [
    {
     "name": "stdout",
     "output_type": "stream",
     "text": [
      "14700 14700\n",
      "14700 14700\n",
      "14700 14700\n"
     ]
    }
   ],
   "source": [
    "for train_index, test_index in skf.split(X_train, y_train):\n",
    "    print(len(X_train),len(y_train))"
   ]
  },
  {
   "cell_type": "code",
   "execution_count": 51,
   "metadata": {},
   "outputs": [
    {
     "name": "stdout",
     "output_type": "stream",
     "text": [
      "Train size: 9800 Test size: 4900\n",
      "Fold accuracy: 0.9369387755102041\n",
      "Train size: 9800 Test size: 4900\n",
      "Fold accuracy: 0.9155102040816326\n",
      "Train size: 9800 Test size: 4900\n",
      "Fold accuracy: 0.9248979591836735\n",
      "Mean accuracy: 0.9257823129251701\n"
     ]
    },
    {
     "name": "stderr",
     "output_type": "stream",
     "text": [
      "/opt/anaconda3/lib/python3.9/site-packages/sklearn/linear_model/_stochastic_gradient.py:713: ConvergenceWarning: Maximum number of iteration reached before convergence. Consider increasing max_iter to improve the fit.\n",
      "  warnings.warn(\n"
     ]
    }
   ],
   "source": [
    "from sklearn.model_selection import cross_val_score\n",
    "from sklearn.linear_model import SGDClassifier\n",
    "mean_accuracy = 0\n",
    "for train_index, test_index in skf.split(X_train, y_train):\n",
    "    print(\"Train size:\",len(train_index),\"Test size:\",len(test_index))\n",
    "    X_train_fold, X_test_fold = X_train.loc[train_index], X_train.loc[test_index]\n",
    "    y_train_fold, y_test_fold = y_train[train_index], y_train[test_index]\n",
    "    clf_cv = SGDClassifier(random_state=42,max_iter=200)\n",
    "    clf_cv.fit(X_train_fold,y_train_fold)\n",
    "    predictions = clf_cv.predict(X_test_fold)\n",
    "    accuracy = (predictions == y_test_fold).sum()/len(predictions)\n",
    "    mean_accuracy += accuracy\n",
    "    print(\"Fold accuracy:\",accuracy)\n",
    "print(\"Mean accuracy:\",mean_accuracy/nfolds)\n",
    "          "
   ]
  },
  {
   "cell_type": "markdown",
   "metadata": {},
   "source": [
    "<h2>sklearn support of cross validation</h2>\n",
    "<li>sklearn supports cross validation directly through a set of functions</li>\n",
    "<li>The <i>cross_validate</i> function does the cross validation</li>\n",
    "<li>And returns a list of models and a list of scores"
   ]
  },
  {
   "cell_type": "code",
   "execution_count": 52,
   "metadata": {},
   "outputs": [],
   "source": [
    "from sklearn.metrics import precision_recall_curve\n",
    "from sklearn.model_selection import cross_val_predict,cross_val_score,cross_validate\n",
    "from sklearn.svm import SVC\n",
    "clf = SGDClassifier(random_state=42,max_iter=100,loss=\"log_loss\",alpha=5)\n",
    "clf_c = cross_validate(clf,X_train,y_train,cv=7,return_estimator=True,\n",
    "                      return_train_score=True)"
   ]
  },
  {
   "cell_type": "code",
   "execution_count": 53,
   "metadata": {},
   "outputs": [
    {
     "data": {
      "text/plain": [
       "{'fit_time': array([1.01992869, 0.99495888, 0.94829583, 1.25384402, 1.05296993,\n",
       "        1.31329989, 1.15993094]),\n",
       " 'score_time': array([0.00644803, 0.00423384, 0.00426221, 0.00428796, 0.0049572 ,\n",
       "        0.00462699, 0.00451303]),\n",
       " 'estimator': [SGDClassifier(alpha=5, loss='log_loss', max_iter=100, random_state=42),\n",
       "  SGDClassifier(alpha=5, loss='log_loss', max_iter=100, random_state=42),\n",
       "  SGDClassifier(alpha=5, loss='log_loss', max_iter=100, random_state=42),\n",
       "  SGDClassifier(alpha=5, loss='log_loss', max_iter=100, random_state=42),\n",
       "  SGDClassifier(alpha=5, loss='log_loss', max_iter=100, random_state=42),\n",
       "  SGDClassifier(alpha=5, loss='log_loss', max_iter=100, random_state=42),\n",
       "  SGDClassifier(alpha=5, loss='log_loss', max_iter=100, random_state=42)],\n",
       " 'test_score': array([0.93666667, 0.9447619 , 0.93095238, 0.9047619 , 0.94190476,\n",
       "        0.8852381 , 0.94714286]),\n",
       " 'train_score': array([0.95531746, 0.95452381, 0.93396825, 0.92238095, 0.955     ,\n",
       "        0.90166667, 0.95365079])}"
      ]
     },
     "execution_count": 53,
     "metadata": {},
     "output_type": "execute_result"
    }
   ],
   "source": [
    "clf_c"
   ]
  },
  {
   "cell_type": "markdown",
   "metadata": {},
   "source": [
    "<h4>Best model</h4>"
   ]
  },
  {
   "cell_type": "code",
   "execution_count": 55,
   "metadata": {},
   "outputs": [
    {
     "name": "stdout",
     "output_type": "stream",
     "text": [
      "precision:  0.7473233404710921\n",
      "recall:  0.5749588138385503\n",
      "accuracy:  0.9403174603174603\n"
     ]
    }
   ],
   "source": [
    "from sklearn.metrics import precision_score,recall_score,accuracy_score\n",
    "b = np.argmax(clf_c['test_score'])\n",
    "best_m = clf_c['estimator'][b]\n",
    "predictions = best_m.predict(X_test)\n",
    "print(\"precision: \", precision_score(y_test, predictions)) #originally 74%\n",
    "print(\"recall: \",recall_score(y_test, predictions)) #originally 66%\n",
    "print(\"accuracy: \", accuracy_score(y_test, predictions)) #originally 94.5%\n"
   ]
  },
  {
   "cell_type": "markdown",
   "metadata": {},
   "source": [
    "<h4>The scoring parameter</h4>\n",
    "<li>The scoring parameter tells sklearn what to evaluate the performance on</li>\n",
    "<li>See <a href=\"https://scikit-learn.org/stable/modules/model_evaluation.html#scoring-parameter\">https://scikit-learn.org/stable/modules/model_evaluation.html#scoring-parameter</a> for scoring parameter options</li>\n",
    "<li>Example: precision</li>"
   ]
  },
  {
   "cell_type": "code",
   "execution_count": 56,
   "metadata": {
    "scrolled": true
   },
   "outputs": [
    {
     "name": "stdout",
     "output_type": "stream",
     "text": [
      "precision:  0.7090592334494773\n",
      "recall:  0.6705107084019769\n",
      "accuracy:  0.9417460317460318\n"
     ]
    }
   ],
   "source": [
    "from sklearn.metrics import precision_recall_curve\n",
    "from sklearn.model_selection import cross_val_predict,cross_val_score,cross_validate\n",
    "from sklearn.svm import SVC\n",
    "clf = SGDClassifier(random_state=42,max_iter=100,loss=\"log_loss\",alpha=5)\n",
    "clf_c_p = cross_validate(clf,X_train,y_train,cv=7,return_estimator=True,\n",
    "                      return_train_score=True,scoring=\"f1\")\n",
    "b = np.argmax(clf_c_p['test_score'])\n",
    "best_m = clf_c_p['estimator'][b]\n",
    "predictions = best_m.predict(X_test)\n",
    "print(\"precision: \", precision_score(y_test, predictions)) #originally 74%\n",
    "print(\"recall: \",recall_score(y_test, predictions)) #originally 66%\n",
    "print(\"accuracy: \", accuracy_score(y_test, predictions)) #originally 94.5%\n"
   ]
  },
  {
   "cell_type": "code",
   "execution_count": 57,
   "metadata": {},
   "outputs": [
    {
     "data": {
      "text/plain": [
       "{'fit_time': array([1.01992869, 0.99495888, 0.94829583, 1.25384402, 1.05296993,\n",
       "        1.31329989, 1.15993094]),\n",
       " 'score_time': array([0.00644803, 0.00423384, 0.00426221, 0.00428796, 0.0049572 ,\n",
       "        0.00462699, 0.00451303]),\n",
       " 'estimator': [SGDClassifier(alpha=5, loss='log_loss', max_iter=100, random_state=42),\n",
       "  SGDClassifier(alpha=5, loss='log_loss', max_iter=100, random_state=42),\n",
       "  SGDClassifier(alpha=5, loss='log_loss', max_iter=100, random_state=42),\n",
       "  SGDClassifier(alpha=5, loss='log_loss', max_iter=100, random_state=42),\n",
       "  SGDClassifier(alpha=5, loss='log_loss', max_iter=100, random_state=42),\n",
       "  SGDClassifier(alpha=5, loss='log_loss', max_iter=100, random_state=42),\n",
       "  SGDClassifier(alpha=5, loss='log_loss', max_iter=100, random_state=42)],\n",
       " 'test_score': array([0.93666667, 0.9447619 , 0.93095238, 0.9047619 , 0.94190476,\n",
       "        0.8852381 , 0.94714286]),\n",
       " 'train_score': array([0.95531746, 0.95452381, 0.93396825, 0.92238095, 0.955     ,\n",
       "        0.90166667, 0.95365079])}"
      ]
     },
     "execution_count": 57,
     "metadata": {},
     "output_type": "execute_result"
    }
   ],
   "source": [
    "clf_c"
   ]
  },
  {
   "cell_type": "code",
   "execution_count": 58,
   "metadata": {},
   "outputs": [
    {
     "data": {
      "text/plain": [
       "{'fit_time': array([0.9739759 , 0.99298406, 0.9837811 , 1.31338906, 1.05416703,\n",
       "        1.31173086, 1.1107018 ]),\n",
       " 'score_time': array([0.00569415, 0.0056982 , 0.00563192, 0.00579095, 0.00581288,\n",
       "        0.00587106, 0.00540709]),\n",
       " 'estimator': [SGDClassifier(alpha=5, loss='log_loss', max_iter=100, random_state=42),\n",
       "  SGDClassifier(alpha=5, loss='log_loss', max_iter=100, random_state=42),\n",
       "  SGDClassifier(alpha=5, loss='log_loss', max_iter=100, random_state=42),\n",
       "  SGDClassifier(alpha=5, loss='log_loss', max_iter=100, random_state=42),\n",
       "  SGDClassifier(alpha=5, loss='log_loss', max_iter=100, random_state=42),\n",
       "  SGDClassifier(alpha=5, loss='log_loss', max_iter=100, random_state=42),\n",
       "  SGDClassifier(alpha=5, loss='log_loss', max_iter=100, random_state=42)],\n",
       " 'test_score': array([0.65454545, 0.70408163, 0.68817204, 0.62121212, 0.69950739,\n",
       "        0.59083192, 0.68907563]),\n",
       " 'train_score': array([0.75296183, 0.75397166, 0.70704225, 0.68349515, 0.74811195,\n",
       "        0.63375702, 0.73112339])}"
      ]
     },
     "execution_count": 58,
     "metadata": {},
     "output_type": "execute_result"
    }
   ],
   "source": [
    "clf_c_p"
   ]
  },
  {
   "cell_type": "markdown",
   "metadata": {},
   "source": [
    "<h2>Why cross validation?</h2>\n",
    "<li>Reduces the probability of overfitting</li>\n",
    "<ul>\n",
    "    <li>Folds are being evaluated on the test score</li>\n",
    "    <li>The variance across folds can be used as a measure of model variance</li>\n",
    "</ul>\n",
    "<li>Cross validation can be used for <b>hyperparameter tuning</b></li>\n",
    "<li>Makes use of all the data. If available data is limited, cross validation can be done on the entire dataset</li>\n",
    "<li>HOWEVER!</li>\n",
    "<ul>\n",
    "    <li>the efficacy of cross validation depends on the number of folds. Too many, and the models may be biased. Too few, and the variance may be high. There is no science in figuring out the number of folds!</li>\n",
    "    <li>cross validation is also more compute intensive since a number of models are being fitted. This can be particularly expensive in hyperparameter tuning</li>\n",
    "</ul>\n",
    "    "
   ]
  },
  {
   "cell_type": "code",
   "execution_count": null,
   "metadata": {},
   "outputs": [],
   "source": []
  },
  {
   "cell_type": "markdown",
   "metadata": {},
   "source": [
    "Do not use classification algos when there is an order to the parameter of interest in your model\n",
    " \n",
    "if you are trying to predict what is the "
   ]
  }
 ],
 "metadata": {
  "anaconda-cloud": {},
  "kernelspec": {
   "display_name": "Python 3 (ipykernel)",
   "language": "python",
   "name": "python3"
  },
  "language_info": {
   "codemirror_mode": {
    "name": "ipython",
    "version": 3
   },
   "file_extension": ".py",
   "mimetype": "text/x-python",
   "name": "python",
   "nbconvert_exporter": "python",
   "pygments_lexer": "ipython3",
   "version": "3.9.12"
  },
  "toc": {
   "base_numbering": 1,
   "nav_menu": {},
   "number_sections": true,
   "sideBar": true,
   "skip_h1_title": false,
   "title_cell": "Table of Contents",
   "title_sidebar": "Contents",
   "toc_cell": false,
   "toc_position": {},
   "toc_section_display": true,
   "toc_window_display": false
  }
 },
 "nbformat": 4,
 "nbformat_minor": 1
}
