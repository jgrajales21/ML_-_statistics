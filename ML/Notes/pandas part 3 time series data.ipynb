{
 "cells": [
  {
   "cell_type": "markdown",
   "metadata": {},
   "source": [
    "<h1>Pandas and Timeseries data</h1>"
   ]
  },
  {
   "cell_type": "markdown",
   "metadata": {},
   "source": [
    "<h2>Yahoo finance</h2>\n",
    "<li><span style=\"color:blue\">yfinance</span> is a python library that gets financial data from yahoo finance</li>\n",
    "<li><a href=\"https://pypi.org/project/yfinance/\">documentation</a></li>\n"
   ]
  },
  {
   "cell_type": "code",
   "execution_count": 7,
   "metadata": {},
   "outputs": [
    {
     "name": "stdout",
     "output_type": "stream",
     "text": [
      "Looking in indexes: https://pypi.anaconda.org/ranaroussi/simple\n",
      "Collecting yfinance\n",
      "  Downloading https://pypi.anaconda.org/ranaroussi/simple/yfinance/0.1.63/yfinance-0.1.63.tar.gz (26 kB)\n",
      "Requirement already satisfied: pandas>=0.24 in /Users/joshuagrajales/opt/anaconda3/lib/python3.9/site-packages (from yfinance) (2.1.0)\n",
      "Requirement already satisfied: numpy>=1.15 in /Users/joshuagrajales/opt/anaconda3/lib/python3.9/site-packages (from yfinance) (1.26.0)\n",
      "Requirement already satisfied: requests>=2.20 in /Users/joshuagrajales/opt/anaconda3/lib/python3.9/site-packages (from yfinance) (2.31.0)\n",
      "Requirement already satisfied: multitasking>=0.0.7 in /Users/joshuagrajales/opt/anaconda3/lib/python3.9/site-packages (from yfinance) (0.0.11)\n",
      "Requirement already satisfied: lxml>=4.5.1 in /Users/joshuagrajales/opt/anaconda3/lib/python3.9/site-packages (from yfinance) (4.8.0)\n",
      "Requirement already satisfied: python-dateutil>=2.8.2 in /Users/joshuagrajales/opt/anaconda3/lib/python3.9/site-packages (from pandas>=0.24->yfinance) (2.8.2)\n",
      "Requirement already satisfied: pytz>=2020.1 in /Users/joshuagrajales/opt/anaconda3/lib/python3.9/site-packages (from pandas>=0.24->yfinance) (2023.3.post1)\n",
      "Requirement already satisfied: tzdata>=2022.1 in /Users/joshuagrajales/opt/anaconda3/lib/python3.9/site-packages (from pandas>=0.24->yfinance) (2023.3)\n",
      "Requirement already satisfied: six>=1.5 in /Users/joshuagrajales/opt/anaconda3/lib/python3.9/site-packages (from python-dateutil>=2.8.2->pandas>=0.24->yfinance) (1.16.0)\n",
      "Requirement already satisfied: charset-normalizer<4,>=2 in /Users/joshuagrajales/opt/anaconda3/lib/python3.9/site-packages (from requests>=2.20->yfinance) (2.0.4)\n",
      "Requirement already satisfied: idna<4,>=2.5 in /Users/joshuagrajales/opt/anaconda3/lib/python3.9/site-packages (from requests>=2.20->yfinance) (3.3)\n",
      "Requirement already satisfied: certifi>=2017.4.17 in /Users/joshuagrajales/opt/anaconda3/lib/python3.9/site-packages (from requests>=2.20->yfinance) (2021.10.8)\n",
      "Requirement already satisfied: urllib3<3,>=1.21.1 in /Users/joshuagrajales/opt/anaconda3/lib/python3.9/site-packages (from requests>=2.20->yfinance) (1.26.9)\n",
      "Building wheels for collected packages: yfinance\n",
      "  Building wheel for yfinance (setup.py) ... \u001b[?25ldone\n",
      "\u001b[?25h  Created wheel for yfinance: filename=yfinance-0.1.63-py2.py3-none-any.whl size=23918 sha256=fbea7a94e9ad2fc5f79093a09aa5d357467b7e20cb9813df9f29aa2a93c9c8e3\n",
      "  Stored in directory: /Users/joshuagrajales/Library/Caches/pip/wheels/1d/c6/a4/67f1aeb5c4e6cbef512e0bdb1c4e4006f69a381f417e0e246f\n",
      "Successfully built yfinance\n",
      "Installing collected packages: yfinance\n",
      "Successfully installed yfinance-0.1.63\n"
     ]
    }
   ],
   "source": [
    "#!pip install yfinance --upgrade\n",
    "!pip install -i https://pypi.anaconda.org/ranaroussi/simple yfinance"
   ]
  },
  {
   "cell_type": "code",
   "execution_count": 1,
   "metadata": {},
   "outputs": [
    {
     "data": {
      "text/plain": [
       "'0.1.63'"
      ]
     },
     "execution_count": 1,
     "metadata": {},
     "output_type": "execute_result"
    }
   ],
   "source": [
    "import yfinance as yf\n",
    "\n",
    "yf.__version__"
   ]
  },
  {
   "cell_type": "markdown",
   "metadata": {},
   "source": [
    "<h3>Example</h3>\n",
    "<li>Get daily prices for IBM from January 2000 to end August 2023</li>"
   ]
  },
  {
   "cell_type": "code",
   "execution_count": 2,
   "metadata": {},
   "outputs": [
    {
     "name": "stdout",
     "output_type": "stream",
     "text": [
      "[*********************100%***********************]  1 of 1 completed\n",
      "<class 'pandas.core.frame.DataFrame'>\n",
      "DatetimeIndex: 5954 entries, 2000-01-03 to 2023-08-31\n",
      "Data columns (total 6 columns):\n",
      " #   Column     Non-Null Count  Dtype  \n",
      "---  ------     --------------  -----  \n",
      " 0   Open       5954 non-null   float64\n",
      " 1   High       5954 non-null   float64\n",
      " 2   Low        5954 non-null   float64\n",
      " 3   Close      5954 non-null   float64\n",
      " 4   Adj Close  5954 non-null   float64\n",
      " 5   Volume     5954 non-null   int64  \n",
      "dtypes: float64(5), int64(1)\n",
      "memory usage: 325.6 KB\n"
     ]
    }
   ],
   "source": [
    "import yfinance as yf\n",
    "\n",
    "# giving the start and end dates\n",
    "startDate = '2000-01-01'\n",
    "endDate = '2023-09-01'\n",
    "\n",
    "# setting the ticker value\n",
    "ticker = 'IBM'\n",
    "\n",
    "# downloading the data of the ticker value between\n",
    "# the start and end dates\n",
    "df = yf.download(ticker, startDate, endDate)\n",
    "\n",
    "df.info()"
   ]
  },
  {
   "cell_type": "markdown",
   "metadata": {},
   "source": [
    "\n",
    "<h2><b>datetime</b>: Python library for reasoning about time</h2>\n",
    "<li><b>datetime.datetime</b>: functions and objects for time (date+time)</li>\n",
    "<li><b>datetime.date</b>: functions and objects for date (not time, days only)</li>\n",
    "<li><b>datetime.timedelta</b>: functions and objects for time differences</li>\n",
    "<li>The function <b>datetime.datetime.strptime</b> converts a text string into a datetime object</li>\n",
    "<li>The function <b>datetime.datetime.strftime</b> converts a datetime object into an appropriately formatted text string (formatted printing, saving to a file)</li>"
   ]
  },
  {
   "cell_type": "code",
   "execution_count": 10,
   "metadata": {},
   "outputs": [
    {
     "name": "stdout",
     "output_type": "stream",
     "text": [
      "2023-02-07 2023-01-30 8 days, 0:00:00\n",
      "<class 'datetime.timedelta'>\n",
      "<class 'datetime.date'>\n"
     ]
    }
   ],
   "source": [
    "import datetime\n",
    "today = datetime.date(2023,2,7) #datetime.date object\n",
    "yesterday = datetime.date(2023,1,30) #datetime.date object\n",
    "diff = today - yesterday #datetime.timedelta object\n",
    "print(today,yesterday,diff)\n",
    "print(type(diff))\n",
    "print(type(today))"
   ]
  },
  {
   "cell_type": "code",
   "execution_count": 11,
   "metadata": {},
   "outputs": [
    {
     "name": "stdout",
     "output_type": "stream",
     "text": [
      "2023-09-20 15:29:15.763815 2000-01-01 00:00:00 8663 days, 15:29:15.763815\n"
     ]
    }
   ],
   "source": [
    "now = datetime.datetime.now() #datetime.datetime object\n",
    "then = datetime.datetime(2000,1,1,0,0,0) #datetime.datetime object\n",
    "diff = now - then #datetime.timedelta object\n",
    "print(now, then, diff)"
   ]
  },
  {
   "cell_type": "markdown",
   "metadata": {},
   "source": [
    "<h3>strptime and strftime</h3>\n",
    "<li>strptime and strftime handle conversions between datetime objects and locale (the standard used in your locale) formats</li>\n",
    "<li>Useful when you read time from a file as a string and need to convert it into a datatime object (or vice versa)</li>\n",
    "<li>See https://pubs.opengroup.org/onlinepubs/9699919799/ (search for strptime) for formats</li>\n"
   ]
  },
  {
   "cell_type": "code",
   "execution_count": 12,
   "metadata": {},
   "outputs": [
    {
     "name": "stdout",
     "output_type": "stream",
     "text": [
      "2000-01-01 22:26:44\n",
      "2024-09-26 15:25:21\n",
      "9034 days, 16:58:37\n",
      "26/09/2024 15:25:21\n"
     ]
    }
   ],
   "source": [
    "start_time = \"01/01/2000 10:26:44 PM\"\n",
    "end_time = \"Monday, Sep 26 2024 15:25:21\"\n",
    "dt_start_time = datetime.datetime.strptime(start_time,\"%m/%d/%Y %I:%M:%S %p\")\n",
    "dt_end_time = datetime.datetime.strptime(end_time,\"%A, %b %d %Y %H:%M:%S\")\n",
    "time_to_completion = dt_end_time - dt_start_time\n",
    "europe_end_time = datetime.datetime.strftime(dt_end_time,\"%d/%m/%Y %H:%M:%S\")\n",
    "print(dt_start_time)\n",
    "print(dt_end_time)\n",
    "print(time_to_completion)\n",
    "print(europe_end_time)"
   ]
  },
  {
   "cell_type": "markdown",
   "metadata": {},
   "source": [
    "<h2>Timeseries data in Pandas</h2>\n",
    "<li>DataFrames can be organized for timeseries data</li>\n",
    "<li>Typically, the index is time and the columns are the data objects</li>\n",
    "<li>The index may be a simple ordering or may contain time enabled data (DatetimeIndex in Pandas)</li>\n",
    "<li>yfinance returns an index in DatetimeIndex format</li>"
   ]
  },
  {
   "cell_type": "code",
   "execution_count": 13,
   "metadata": {},
   "outputs": [
    {
     "name": "stdout",
     "output_type": "stream",
     "text": [
      "<class 'pandas.core.frame.DataFrame'>\n",
      "DatetimeIndex: 5954 entries, 2000-01-03 to 2023-08-31\n",
      "Data columns (total 6 columns):\n",
      " #   Column     Non-Null Count  Dtype  \n",
      "---  ------     --------------  -----  \n",
      " 0   Open       5954 non-null   float64\n",
      " 1   High       5954 non-null   float64\n",
      " 2   Low        5954 non-null   float64\n",
      " 3   Close      5954 non-null   float64\n",
      " 4   Adj Close  5954 non-null   float64\n",
      " 5   Volume     5954 non-null   int64  \n",
      "dtypes: float64(5), int64(1)\n",
      "memory usage: 325.6 KB\n"
     ]
    }
   ],
   "source": [
    "df.info()"
   ]
  },
  {
   "cell_type": "markdown",
   "metadata": {},
   "source": [
    "<h3>Working with a timeseries data frame</h3>\n",
    "<li>The data is organized with time as an index</li>\n",
    "<li>And <span style=\"color:blue\">time based</span> reasoning is possible</li>\n"
   ]
  },
  {
   "cell_type": "code",
   "execution_count": 14,
   "metadata": {
    "scrolled": true
   },
   "outputs": [
    {
     "data": {
      "text/html": [
       "<div>\n",
       "<style scoped>\n",
       "    .dataframe tbody tr th:only-of-type {\n",
       "        vertical-align: middle;\n",
       "    }\n",
       "\n",
       "    .dataframe tbody tr th {\n",
       "        vertical-align: top;\n",
       "    }\n",
       "\n",
       "    .dataframe thead th {\n",
       "        text-align: right;\n",
       "    }\n",
       "</style>\n",
       "<table border=\"1\" class=\"dataframe\">\n",
       "  <thead>\n",
       "    <tr style=\"text-align: right;\">\n",
       "      <th></th>\n",
       "      <th>Open</th>\n",
       "      <th>High</th>\n",
       "      <th>Low</th>\n",
       "      <th>Close</th>\n",
       "      <th>Adj Close</th>\n",
       "      <th>Volume</th>\n",
       "    </tr>\n",
       "    <tr>\n",
       "      <th>Date</th>\n",
       "      <th></th>\n",
       "      <th></th>\n",
       "      <th></th>\n",
       "      <th></th>\n",
       "      <th></th>\n",
       "      <th></th>\n",
       "    </tr>\n",
       "  </thead>\n",
       "  <tbody>\n",
       "    <tr>\n",
       "      <th>2010-08-02</th>\n",
       "      <td>123.565964</td>\n",
       "      <td>125.430206</td>\n",
       "      <td>123.565964</td>\n",
       "      <td>125.009560</td>\n",
       "      <td>78.090385</td>\n",
       "      <td>6733625</td>\n",
       "    </tr>\n",
       "    <tr>\n",
       "      <th>2010-08-03</th>\n",
       "      <td>124.311661</td>\n",
       "      <td>125.277245</td>\n",
       "      <td>123.642448</td>\n",
       "      <td>124.636711</td>\n",
       "      <td>77.857475</td>\n",
       "      <td>5326023</td>\n",
       "    </tr>\n",
       "    <tr>\n",
       "      <th>2010-08-04</th>\n",
       "      <td>124.722755</td>\n",
       "      <td>125.717018</td>\n",
       "      <td>124.139580</td>\n",
       "      <td>125.497131</td>\n",
       "      <td>78.394989</td>\n",
       "      <td>4777605</td>\n",
       "    </tr>\n",
       "    <tr>\n",
       "      <th>2010-08-05</th>\n",
       "      <td>124.980881</td>\n",
       "      <td>126.175911</td>\n",
       "      <td>124.789673</td>\n",
       "      <td>126.032501</td>\n",
       "      <td>78.729401</td>\n",
       "      <td>4728548</td>\n",
       "    </tr>\n",
       "    <tr>\n",
       "      <th>2010-08-06</th>\n",
       "      <td>124.674950</td>\n",
       "      <td>124.741875</td>\n",
       "      <td>123.097511</td>\n",
       "      <td>124.416824</td>\n",
       "      <td>78.105209</td>\n",
       "      <td>6418465</td>\n",
       "    </tr>\n",
       "    <tr>\n",
       "      <th>2010-08-09</th>\n",
       "      <td>125.038239</td>\n",
       "      <td>126.520073</td>\n",
       "      <td>124.665390</td>\n",
       "      <td>126.195030</td>\n",
       "      <td>79.221535</td>\n",
       "      <td>6413758</td>\n",
       "    </tr>\n",
       "    <tr>\n",
       "      <th>2010-08-10</th>\n",
       "      <td>125.411087</td>\n",
       "      <td>126.663483</td>\n",
       "      <td>125.019119</td>\n",
       "      <td>126.042068</td>\n",
       "      <td>79.125519</td>\n",
       "      <td>5723398</td>\n",
       "    </tr>\n",
       "    <tr>\n",
       "      <th>2010-08-11</th>\n",
       "      <td>124.942642</td>\n",
       "      <td>124.942642</td>\n",
       "      <td>123.766731</td>\n",
       "      <td>124.120461</td>\n",
       "      <td>77.919182</td>\n",
       "      <td>6606641</td>\n",
       "    </tr>\n",
       "    <tr>\n",
       "      <th>2010-08-12</th>\n",
       "      <td>122.074570</td>\n",
       "      <td>123.116638</td>\n",
       "      <td>121.912048</td>\n",
       "      <td>122.657745</td>\n",
       "      <td>77.000916</td>\n",
       "      <td>5368281</td>\n",
       "    </tr>\n",
       "    <tr>\n",
       "      <th>2010-08-13</th>\n",
       "      <td>122.332695</td>\n",
       "      <td>122.810707</td>\n",
       "      <td>121.730400</td>\n",
       "      <td>122.246651</td>\n",
       "      <td>76.742874</td>\n",
       "      <td>4884192</td>\n",
       "    </tr>\n",
       "    <tr>\n",
       "      <th>2010-08-16</th>\n",
       "      <td>121.864243</td>\n",
       "      <td>122.590820</td>\n",
       "      <td>121.376671</td>\n",
       "      <td>122.151054</td>\n",
       "      <td>76.682838</td>\n",
       "      <td>4193623</td>\n",
       "    </tr>\n",
       "    <tr>\n",
       "      <th>2010-08-17</th>\n",
       "      <td>123.164436</td>\n",
       "      <td>124.139580</td>\n",
       "      <td>122.275337</td>\n",
       "      <td>122.801147</td>\n",
       "      <td>77.090965</td>\n",
       "      <td>4496022</td>\n",
       "    </tr>\n",
       "    <tr>\n",
       "      <th>2010-08-18</th>\n",
       "      <td>123.202675</td>\n",
       "      <td>124.474190</td>\n",
       "      <td>122.179733</td>\n",
       "      <td>123.699806</td>\n",
       "      <td>77.655113</td>\n",
       "      <td>5107827</td>\n",
       "    </tr>\n",
       "    <tr>\n",
       "      <th>2010-08-19</th>\n",
       "      <td>123.011475</td>\n",
       "      <td>123.891014</td>\n",
       "      <td>122.390060</td>\n",
       "      <td>123.231361</td>\n",
       "      <td>77.361015</td>\n",
       "      <td>5650910</td>\n",
       "    </tr>\n",
       "    <tr>\n",
       "      <th>2010-08-20</th>\n",
       "      <td>123.059273</td>\n",
       "      <td>123.307838</td>\n",
       "      <td>121.376671</td>\n",
       "      <td>121.892921</td>\n",
       "      <td>76.520813</td>\n",
       "      <td>6533630</td>\n",
       "    </tr>\n",
       "    <tr>\n",
       "      <th>2010-08-23</th>\n",
       "      <td>121.959846</td>\n",
       "      <td>122.399620</td>\n",
       "      <td>120.879539</td>\n",
       "      <td>120.908218</td>\n",
       "      <td>75.902626</td>\n",
       "      <td>4219982</td>\n",
       "    </tr>\n",
       "    <tr>\n",
       "      <th>2010-08-24</th>\n",
       "      <td>119.703636</td>\n",
       "      <td>120.478012</td>\n",
       "      <td>119.091782</td>\n",
       "      <td>119.407265</td>\n",
       "      <td>74.960358</td>\n",
       "      <td>5879775</td>\n",
       "    </tr>\n",
       "    <tr>\n",
       "      <th>2010-08-25</th>\n",
       "      <td>119.091782</td>\n",
       "      <td>120.076485</td>\n",
       "      <td>118.546844</td>\n",
       "      <td>119.760994</td>\n",
       "      <td>75.182426</td>\n",
       "      <td>5476124</td>\n",
       "    </tr>\n",
       "    <tr>\n",
       "      <th>2010-08-26</th>\n",
       "      <td>120.248566</td>\n",
       "      <td>120.248566</td>\n",
       "      <td>117.380501</td>\n",
       "      <td>117.380501</td>\n",
       "      <td>73.688042</td>\n",
       "      <td>8102944</td>\n",
       "    </tr>\n",
       "    <tr>\n",
       "      <th>2010-08-27</th>\n",
       "      <td>118.384323</td>\n",
       "      <td>119.311661</td>\n",
       "      <td>117.036331</td>\n",
       "      <td>119.244743</td>\n",
       "      <td>74.858345</td>\n",
       "      <td>6500053</td>\n",
       "    </tr>\n",
       "    <tr>\n",
       "      <th>2010-08-30</th>\n",
       "      <td>119.579353</td>\n",
       "      <td>119.760994</td>\n",
       "      <td>117.973228</td>\n",
       "      <td>117.973228</td>\n",
       "      <td>74.060127</td>\n",
       "      <td>3769784</td>\n",
       "    </tr>\n",
       "    <tr>\n",
       "      <th>2010-08-31</th>\n",
       "      <td>117.887192</td>\n",
       "      <td>118.537285</td>\n",
       "      <td>116.902489</td>\n",
       "      <td>117.715103</td>\n",
       "      <td>73.898056</td>\n",
       "      <td>5882913</td>\n",
       "    </tr>\n",
       "  </tbody>\n",
       "</table>\n",
       "</div>"
      ],
      "text/plain": [
       "                  Open        High         Low       Close  Adj Close   Volume\n",
       "Date                                                                          \n",
       "2010-08-02  123.565964  125.430206  123.565964  125.009560  78.090385  6733625\n",
       "2010-08-03  124.311661  125.277245  123.642448  124.636711  77.857475  5326023\n",
       "2010-08-04  124.722755  125.717018  124.139580  125.497131  78.394989  4777605\n",
       "2010-08-05  124.980881  126.175911  124.789673  126.032501  78.729401  4728548\n",
       "2010-08-06  124.674950  124.741875  123.097511  124.416824  78.105209  6418465\n",
       "2010-08-09  125.038239  126.520073  124.665390  126.195030  79.221535  6413758\n",
       "2010-08-10  125.411087  126.663483  125.019119  126.042068  79.125519  5723398\n",
       "2010-08-11  124.942642  124.942642  123.766731  124.120461  77.919182  6606641\n",
       "2010-08-12  122.074570  123.116638  121.912048  122.657745  77.000916  5368281\n",
       "2010-08-13  122.332695  122.810707  121.730400  122.246651  76.742874  4884192\n",
       "2010-08-16  121.864243  122.590820  121.376671  122.151054  76.682838  4193623\n",
       "2010-08-17  123.164436  124.139580  122.275337  122.801147  77.090965  4496022\n",
       "2010-08-18  123.202675  124.474190  122.179733  123.699806  77.655113  5107827\n",
       "2010-08-19  123.011475  123.891014  122.390060  123.231361  77.361015  5650910\n",
       "2010-08-20  123.059273  123.307838  121.376671  121.892921  76.520813  6533630\n",
       "2010-08-23  121.959846  122.399620  120.879539  120.908218  75.902626  4219982\n",
       "2010-08-24  119.703636  120.478012  119.091782  119.407265  74.960358  5879775\n",
       "2010-08-25  119.091782  120.076485  118.546844  119.760994  75.182426  5476124\n",
       "2010-08-26  120.248566  120.248566  117.380501  117.380501  73.688042  8102944\n",
       "2010-08-27  118.384323  119.311661  117.036331  119.244743  74.858345  6500053\n",
       "2010-08-30  119.579353  119.760994  117.973228  117.973228  74.060127  3769784\n",
       "2010-08-31  117.887192  118.537285  116.902489  117.715103  73.898056  5882913"
      ]
     },
     "execution_count": 14,
     "metadata": {},
     "output_type": "execute_result"
    }
   ],
   "source": [
    "#Get me the data for August 2010\n",
    "df.loc[\"August 2010\"]\n"
   ]
  },
  {
   "cell_type": "markdown",
   "metadata": {},
   "source": [
    "<h4>Calculate percent changes</h4>\n",
    "<li>The function pct_change computes a percent change between successive rows (times in  timeseries data)\n",
    "<li>Defaults to a single time delta\n",
    "<li>With an argument, the time delta can be changed\n",
    "<li>provides nan support\n",
    "<li><a href=\"https://pandas.pydata.org/pandas-docs/stable/reference/api/pandas.DataFrame.pct_change.html\">https://pandas.pydata.org/pandas-docs/stable/reference/api/pandas.DataFrame.pct_change.html</a>"
   ]
  },
  {
   "cell_type": "code",
   "execution_count": 15,
   "metadata": {},
   "outputs": [
    {
     "data": {
      "text/plain": [
       "Date\n",
       "2000-01-03         NaN\n",
       "2000-01-04   -0.033944\n",
       "2000-01-05    0.035136\n",
       "2000-01-06   -0.017241\n",
       "2000-01-07   -0.004385\n",
       "                ...   \n",
       "2023-08-25    0.012539\n",
       "2023-08-28    0.004610\n",
       "2023-08-29    0.002945\n",
       "2023-08-30    0.002800\n",
       "2023-08-31   -0.000204\n",
       "Name: Adj Close, Length: 5954, dtype: float64"
      ]
     },
     "execution_count": 15,
     "metadata": {},
     "output_type": "execute_result"
    }
   ],
   "source": [
    "p_change = df['Adj Close'].pct_change() #One timeperiod percent change\n",
    "p_change"
   ]
  },
  {
   "cell_type": "code",
   "execution_count": 16,
   "metadata": {},
   "outputs": [
    {
     "data": {
      "text/plain": [
       "Date\n",
       "2000-01-03         NaN\n",
       "2000-01-04         NaN\n",
       "2000-01-05    0.000000\n",
       "2000-01-06    0.017289\n",
       "2000-01-07   -0.021551\n",
       "                ...   \n",
       "2023-08-25    0.013528\n",
       "2023-08-28    0.017207\n",
       "2023-08-29    0.007568\n",
       "2023-08-30    0.005753\n",
       "2023-08-31    0.002595\n",
       "Name: Adj Close, Length: 5954, dtype: float64"
      ]
     },
     "execution_count": 16,
     "metadata": {},
     "output_type": "execute_result"
    }
   ],
   "source": [
    "pct_chg_2 = df[\"Adj Close\"].pct_change(2) #two time period (t(i) - t(i-2))/t(i-2)\n",
    "pct_chg_2"
   ]
  },
  {
   "cell_type": "markdown",
   "metadata": {},
   "source": [
    "<li>Time enabled reasoning lets us reason about different segments of time</li>\n",
    "<li>The function <span style=\"color:blue\">resample</span> changes the time frame</li>\n",
    "<li><a href=\"https://pandas.pydata.org/docs/user_guide/timeseries.html#timeseries-offset-aliases\">resampling offset guide</a></li>"
   ]
  },
  {
   "cell_type": "code",
   "execution_count": 17,
   "metadata": {},
   "outputs": [
    {
     "data": {
      "text/plain": [
       "Date\n",
       "2000-01-31     62.153879\n",
       "2000-02-29     60.295900\n",
       "2000-03-31     59.400927\n",
       "2000-04-30     60.800341\n",
       "2000-05-31     57.409090\n",
       "                 ...    \n",
       "2023-04-30    125.090952\n",
       "2023-05-31    123.229955\n",
       "2023-06-30    132.396411\n",
       "2023-07-31    135.124515\n",
       "2023-08-31    143.303988\n",
       "Freq: M, Name: Adj Close, Length: 284, dtype: float64"
      ]
     },
     "execution_count": 17,
     "metadata": {},
     "output_type": "execute_result"
    }
   ],
   "source": [
    "#Get the average adjClose for each month that IBM has traded since 2000\n",
    "df[\"Adj Close\"].resample(\"M\").mean()"
   ]
  },
  {
   "cell_type": "code",
   "execution_count": 18,
   "metadata": {},
   "outputs": [
    {
     "name": "stdout",
     "output_type": "stream",
     "text": [
      "Mean daily pct chnge each month: \n",
      " Date\n",
      "2000-01-31   -0.149178\n",
      "2000-02-29   -0.411233\n",
      "2000-03-31    0.656123\n",
      "2000-04-30   -0.261357\n",
      "2000-05-31   -0.141530\n",
      "                ...   \n",
      "2023-04-30   -0.189233\n",
      "2023-05-31    0.143978\n",
      "2023-06-30    0.195450\n",
      "2023-07-31    0.377033\n",
      "2023-08-31    0.131236\n",
      "Freq: M, Name: Adj Close, Length: 284, dtype: float64\n"
     ]
    }
   ],
   "source": [
    "#Month by month averages\n",
    "#Collects daily data for each month and computes the mean daily change for that month\n",
    "print(\"Mean daily pct chnge each month: \\n\",p_change.resample('M').mean()*100.0)"
   ]
  },
  {
   "cell_type": "code",
   "execution_count": 19,
   "metadata": {},
   "outputs": [
    {
     "name": "stdout",
     "output_type": "stream",
     "text": [
      "Mean daily percent change for each year:\n",
      " Date\n",
      "2000-12-31   -0.076971\n",
      "2001-12-31    0.172009\n",
      "2002-12-31   -0.137905\n",
      "2003-12-31    0.084829\n",
      "2004-12-31    0.031867\n",
      "2005-12-31   -0.062100\n",
      "2006-12-31    0.075882\n",
      "2007-12-31    0.056433\n",
      "2008-12-31   -0.066384\n",
      "2009-12-31    0.198436\n",
      "2010-12-31    0.059158\n",
      "2011-12-31    0.106091\n",
      "2012-12-31    0.028180\n",
      "2013-12-31    0.006292\n",
      "2014-12-31   -0.046587\n",
      "2015-12-31   -0.039209\n",
      "2016-12-31    0.097013\n",
      "2017-12-31   -0.011406\n",
      "2018-12-31   -0.089686\n",
      "2019-12-31    0.092369\n",
      "2020-12-31    0.028602\n",
      "2021-12-31    0.071725\n",
      "2022-12-31    0.051501\n",
      "2023-12-31    0.051987\n",
      "Freq: A-DEC, Name: Adj Close, dtype: float64\n"
     ]
    }
   ],
   "source": [
    "#Yearly\n",
    "#Collects daily data for each year and computes the mean daily change for that year\n",
    "\n",
    "print(\"Mean daily percent change for each year:\\n\",p_change.resample('Y').mean()*100.0)"
   ]
  },
  {
   "cell_type": "code",
   "execution_count": 20,
   "metadata": {},
   "outputs": [
    {
     "name": "stdout",
     "output_type": "stream",
     "text": [
      "Mean daily percent change for each quarter:\n",
      " Date\n",
      "2000-03-31    0.000650\n",
      "2000-06-30   -0.000790\n",
      "2000-09-30    0.000689\n",
      "2000-12-31   -0.003605\n",
      "2001-03-31    0.002591\n",
      "                ...   \n",
      "2022-09-30   -0.002413\n",
      "2022-12-31    0.003021\n",
      "2023-03-31   -0.000896\n",
      "2023-06-30    0.000593\n",
      "2023-09-30    0.002456\n",
      "Freq: Q-DEC, Name: Adj Close, Length: 95, dtype: float64\n"
     ]
    }
   ],
   "source": [
    "#Quarterly\n",
    "print(\"Mean daily percent change for each quarter:\\n\",p_change.resample('Q').mean())"
   ]
  },
  {
   "cell_type": "code",
   "execution_count": 21,
   "metadata": {},
   "outputs": [
    {
     "data": {
      "text/html": [
       "<div>\n",
       "<style scoped>\n",
       "    .dataframe tbody tr th:only-of-type {\n",
       "        vertical-align: middle;\n",
       "    }\n",
       "\n",
       "    .dataframe tbody tr th {\n",
       "        vertical-align: top;\n",
       "    }\n",
       "\n",
       "    .dataframe thead th {\n",
       "        text-align: right;\n",
       "    }\n",
       "</style>\n",
       "<table border=\"1\" class=\"dataframe\">\n",
       "  <thead>\n",
       "    <tr style=\"text-align: right;\">\n",
       "      <th></th>\n",
       "      <th>Adj Close</th>\n",
       "    </tr>\n",
       "    <tr>\n",
       "      <th>Date</th>\n",
       "      <th></th>\n",
       "    </tr>\n",
       "  </thead>\n",
       "  <tbody>\n",
       "    <tr>\n",
       "      <th>2000-01-31</th>\n",
       "      <td>59.723042</td>\n",
       "    </tr>\n",
       "    <tr>\n",
       "      <th>2000-02-29</th>\n",
       "      <td>54.726089</td>\n",
       "    </tr>\n",
       "    <tr>\n",
       "      <th>2000-03-31</th>\n",
       "      <td>63.048153</td>\n",
       "    </tr>\n",
       "    <tr>\n",
       "      <th>2000-04-28</th>\n",
       "      <td>59.386463</td>\n",
       "    </tr>\n",
       "    <tr>\n",
       "      <th>2000-05-31</th>\n",
       "      <td>57.225082</td>\n",
       "    </tr>\n",
       "    <tr>\n",
       "      <th>...</th>\n",
       "      <td>...</td>\n",
       "    </tr>\n",
       "    <tr>\n",
       "      <th>2023-04-28</th>\n",
       "      <td>123.290710</td>\n",
       "    </tr>\n",
       "    <tr>\n",
       "      <th>2023-05-31</th>\n",
       "      <td>127.127045</td>\n",
       "    </tr>\n",
       "    <tr>\n",
       "      <th>2023-06-30</th>\n",
       "      <td>132.287659</td>\n",
       "    </tr>\n",
       "    <tr>\n",
       "      <th>2023-07-31</th>\n",
       "      <td>142.539673</td>\n",
       "    </tr>\n",
       "    <tr>\n",
       "      <th>2023-08-31</th>\n",
       "      <td>146.830002</td>\n",
       "    </tr>\n",
       "  </tbody>\n",
       "</table>\n",
       "<p>284 rows × 1 columns</p>\n",
       "</div>"
      ],
      "text/plain": [
       "             Adj Close\n",
       "Date                  \n",
       "2000-01-31   59.723042\n",
       "2000-02-29   54.726089\n",
       "2000-03-31   63.048153\n",
       "2000-04-28   59.386463\n",
       "2000-05-31   57.225082\n",
       "...                ...\n",
       "2023-04-28  123.290710\n",
       "2023-05-31  127.127045\n",
       "2023-06-30  132.287659\n",
       "2023-07-31  142.539673\n",
       "2023-08-31  146.830002\n",
       "\n",
       "[284 rows x 1 columns]"
      ]
     },
     "execution_count": 21,
     "metadata": {},
     "output_type": "execute_result"
    }
   ],
   "source": [
    "#Get the month end prices BM = Business Month End (similarly BQ/BY)\n",
    "#last returns the last quoted price for the business month\n",
    "#Alternatives to last: first, max, min, sum, mean\n",
    "\n",
    "df[\"Adj Close\"].resample('BM',).apply({'Adj Close':'last'})"
   ]
  },
  {
   "cell_type": "markdown",
   "metadata": {},
   "source": [
    "<h3>shift a series n-time periods</h3>\n",
    "<li>shift the series forward by 1 day</li>\n",
    "<li>and calculate the one day price change</li>"
   ]
  },
  {
   "cell_type": "code",
   "execution_count": 22,
   "metadata": {},
   "outputs": [
    {
     "data": {
      "text/plain": [
       "Date\n",
       "2000-01-03         NaN\n",
       "2000-01-04    2.094940\n",
       "2000-01-05   -2.094940\n",
       "2000-01-06    1.064110\n",
       "2000-01-07    0.265976\n",
       "                ...   \n",
       "2023-08-28         NaN\n",
       "2023-08-29   -0.429993\n",
       "2023-08-30   -0.410004\n",
       "2023-08-31    0.029999\n",
       "2023-09-01         NaN\n",
       "Name: Adj Close, Length: 7244, dtype: float64"
      ]
     },
     "execution_count": 22,
     "metadata": {},
     "output_type": "execute_result"
    }
   ],
   "source": [
    "shifted_1 = df[\"Adj Close\"].shift(1,freq='D')\n",
    "shifted_1 - df[\"Adj Close\"]"
   ]
  },
  {
   "cell_type": "markdown",
   "metadata": {},
   "source": [
    "<li>A <span style=\"color:blue\">DatetimeIndex</span> dataframe automatically treats the index as time on the x-axis</li>\n",
    "<li>Super useful for plotting data</li>"
   ]
  },
  {
   "cell_type": "code",
   "execution_count": 23,
   "metadata": {},
   "outputs": [
    {
     "data": {
      "text/plain": [
       "Date\n",
       "2000-12-31   -0.193198\n",
       "2001-12-31    0.426583\n",
       "2002-12-31   -0.347519\n",
       "2003-12-31    0.213768\n",
       "2004-12-31    0.080306\n",
       "2005-12-31   -0.156492\n",
       "2006-12-31    0.190463\n",
       "2007-12-31    0.141646\n",
       "2008-12-31   -0.167951\n",
       "2009-12-31    0.500058\n",
       "2010-12-31    0.149077\n",
       "2011-12-31    0.267349\n",
       "2012-12-31    0.070451\n",
       "2013-12-31    0.015856\n",
       "2014-12-31   -0.117400\n",
       "2015-12-31   -0.098807\n",
       "2016-12-31    0.244473\n",
       "2017-12-31   -0.028629\n",
       "2018-12-31   -0.225112\n",
       "2019-12-31    0.232769\n",
       "2020-12-31    0.072364\n",
       "2021-12-31    0.180747\n",
       "2022-12-31    0.129267\n",
       "2023-12-31    0.086818\n",
       "Freq: A-DEC, Name: Adj Close, dtype: float64"
      ]
     },
     "execution_count": 23,
     "metadata": {},
     "output_type": "execute_result"
    }
   ],
   "source": [
    "p_change.resample('Y').sum()"
   ]
  },
  {
   "cell_type": "code",
   "execution_count": 24,
   "metadata": {},
   "outputs": [
    {
     "data": {
      "text/plain": [
       "<Axes: xlabel='Date'>"
      ]
     },
     "execution_count": 24,
     "metadata": {},
     "output_type": "execute_result"
    },
    {
     "data": {
      "image/png": "[encoded data removed]",
      "text/plain": [
       "<Figure size 432x288 with 1 Axes>"
      ]
     },
     "metadata": {
      "needs_background": "light"
     },
     "output_type": "display_data"
    }
   ],
   "source": [
    "p_change.resample('Y').sum().plot()"
   ]
  },
  {
   "cell_type": "code",
   "execution_count": 25,
   "metadata": {},
   "outputs": [
    {
     "data": {
      "text/plain": [
       "0.0034428978282247734"
      ]
     },
     "execution_count": 25,
     "metadata": {},
     "output_type": "execute_result"
    }
   ],
   "source": [
    "#Nan's are ignored by aggregate functions\n",
    "n=13\n",
    "df[\"Adj Close\"].pct_change(n).mean()"
   ]
  },
  {
   "cell_type": "code",
   "execution_count": 26,
   "metadata": {},
   "outputs": [
    {
     "data": {
      "text/plain": [
       "Date\n",
       "2000-01-03         NaN\n",
       "2000-01-04         NaN\n",
       "2000-01-05         NaN\n",
       "2000-01-06         NaN\n",
       "2000-01-07         NaN\n",
       "                ...   \n",
       "2023-08-25    0.007626\n",
       "2023-08-28    0.024774\n",
       "2023-08-29    0.022339\n",
       "2023-08-30    0.026132\n",
       "2023-08-31    0.034670\n",
       "Name: Adj Close, Length: 5954, dtype: float64"
      ]
     },
     "execution_count": 26,
     "metadata": {},
     "output_type": "execute_result"
    }
   ],
   "source": [
    "df[\"Adj Close\"].pct_change(n)"
   ]
  },
  {
   "cell_type": "markdown",
   "metadata": {},
   "source": [
    "<h3>Rolling windows</h3>\n",
    "<li>\"rolling\" function extracts rolling windows\n",
    "<li>For example, the 21 period rolling window of the 13 period percent change "
   ]
  },
  {
   "cell_type": "code",
   "execution_count": 27,
   "metadata": {},
   "outputs": [
    {
     "data": {
      "text/plain": [
       "Date\n",
       "2000-01-03         NaN\n",
       "2000-01-04   -0.033944\n",
       "2000-01-05    0.035136\n",
       "2000-01-06   -0.017241\n",
       "2000-01-07   -0.004385\n",
       "                ...   \n",
       "2023-08-25    0.012539\n",
       "2023-08-28    0.004610\n",
       "2023-08-29    0.002945\n",
       "2023-08-30    0.002800\n",
       "2023-08-31   -0.000204\n",
       "Name: Adj Close, Length: 5954, dtype: float64"
      ]
     },
     "execution_count": 27,
     "metadata": {},
     "output_type": "execute_result"
    }
   ],
   "source": [
    "df[\"Adj Close\"].pct_change(1)"
   ]
  },
  {
   "cell_type": "code",
   "execution_count": 28,
   "metadata": {},
   "outputs": [
    {
     "data": {
      "text/plain": [
       "Rolling [window=3,center=False,axis=0,method=single]"
      ]
     },
     "execution_count": 28,
     "metadata": {},
     "output_type": "execute_result"
    }
   ],
   "source": [
    "n=3\n",
    "df[\"Adj Close\"].pct_change().rolling(n)"
   ]
  },
  {
   "cell_type": "markdown",
   "metadata": {},
   "source": [
    "<h4>Calculate something on the rolling windows (local averages)</h4>"
   ]
  },
  {
   "cell_type": "markdown",
   "metadata": {},
   "source": [
    "<h4>Example: mean (the 3 day moving average of the 1 day percent change)"
   ]
  },
  {
   "cell_type": "code",
   "execution_count": 29,
   "metadata": {},
   "outputs": [
    {
     "data": {
      "text/plain": [
       "Date\n",
       "2000-01-03         NaN\n",
       "2000-01-04         NaN\n",
       "2000-01-05         NaN\n",
       "2000-01-06   -0.005350\n",
       "2000-01-07    0.004503\n",
       "                ...   \n",
       "2023-08-25    0.009028\n",
       "2023-08-28    0.006042\n",
       "2023-08-29    0.006698\n",
       "2023-08-30    0.003451\n",
       "2023-08-31    0.001847\n",
       "Name: Adj Close, Length: 5954, dtype: float64"
      ]
     },
     "execution_count": 29,
     "metadata": {},
     "output_type": "execute_result"
    }
   ],
   "source": [
    "n=3\n",
    "df[\"Adj Close\"].pct_change().rolling(n).mean()"
   ]
  },
  {
   "cell_type": "markdown",
   "metadata": {},
   "source": [
    "<h4>Or the 21 day moving average on the 5 day percent change</h4>"
   ]
  },
  {
   "cell_type": "code",
   "execution_count": 30,
   "metadata": {},
   "outputs": [
    {
     "data": {
      "text/plain": [
       "Date\n",
       "2000-01-03         NaN\n",
       "2000-01-04         NaN\n",
       "2000-01-05         NaN\n",
       "2000-01-06         NaN\n",
       "2000-01-07         NaN\n",
       "                ...   \n",
       "2023-08-25    0.007322\n",
       "2023-08-28    0.007028\n",
       "2023-08-29    0.007114\n",
       "2023-08-30    0.007241\n",
       "2023-08-31    0.007283\n",
       "Name: Adj Close, Length: 5954, dtype: float64"
      ]
     },
     "execution_count": 30,
     "metadata": {},
     "output_type": "execute_result"
    }
   ],
   "source": [
    "df[\"Adj Close\"].pct_change(5).rolling(21).mean()"
   ]
  },
  {
   "cell_type": "markdown",
   "metadata": {},
   "source": [
    "<h4>Calculate several moving averages and graph them</h4>"
   ]
  },
  {
   "cell_type": "code",
   "execution_count": 31,
   "metadata": {},
   "outputs": [],
   "source": [
    "n=1\n",
    "ma_8 = df[\"Adj Close\"].pct_change(n).rolling(window=8).mean()\n",
    "ma_13= df[\"Adj Close\"].pct_change(n).rolling(window=13).mean()\n",
    "ma_21= df[\"Adj Close\"].pct_change(n).rolling(window=21).mean()\n",
    "ma_34= df[\"Adj Close\"].pct_change(n).rolling(window=34).mean()\n",
    "ma_55= df[\"Adj Close\"].pct_change(n).rolling(window=55).mean()"
   ]
  },
  {
   "cell_type": "code",
   "execution_count": 32,
   "metadata": {},
   "outputs": [
    {
     "data": {
      "text/plain": [
       "<Axes: xlabel='Date'>"
      ]
     },
     "execution_count": 32,
     "metadata": {},
     "output_type": "execute_result"
    },
    {
     "data": {
      "image/png": "[encoded data removed]",
      "text/plain": [
       "<Figure size 432x288 with 1 Axes>"
      ]
     },
     "metadata": {
      "needs_background": "light"
     },
     "output_type": "display_data"
    }
   ],
   "source": [
    "ma_8[1:500].plot()\n",
    "ma_55[1:500].plot()"
   ]
  },
  {
   "cell_type": "code",
   "execution_count": 33,
   "metadata": {},
   "outputs": [
    {
     "data": {
      "text/plain": [
       "<Axes: xlabel='Date'>"
      ]
     },
     "execution_count": 33,
     "metadata": {},
     "output_type": "execute_result"
    },
    {
     "data": {
      "image/png": "[encoded data removed]",
      "text/plain": [
       "<Figure size 432x288 with 1 Axes>"
      ]
     },
     "metadata": {
      "needs_background": "light"
     },
     "output_type": "display_data"
    }
   ],
   "source": [
    "ma_8.plot()"
   ]
  },
  {
   "cell_type": "markdown",
   "metadata": {},
   "source": [
    "<h3>Numpy style boolean masks work in pandas</h3>"
   ]
  },
  {
   "cell_type": "code",
   "execution_count": 34,
   "metadata": {},
   "outputs": [
    {
     "data": {
      "text/plain": [
       "Date\n",
       "2000-01-03    False\n",
       "2000-01-04    False\n",
       "2000-01-05    False\n",
       "2000-01-06    False\n",
       "2000-01-07    False\n",
       "              ...  \n",
       "2023-08-25     True\n",
       "2023-08-28     True\n",
       "2023-08-29     True\n",
       "2023-08-30     True\n",
       "2023-08-31     True\n",
       "Name: Adj Close, Length: 5954, dtype: bool"
      ]
     },
     "execution_count": 34,
     "metadata": {},
     "output_type": "execute_result"
    }
   ],
   "source": [
    "ma_8 > 0.001"
   ]
  },
  {
   "cell_type": "code",
   "execution_count": 35,
   "metadata": {},
   "outputs": [
    {
     "data": {
      "text/plain": [
       "Date\n",
       "2000-01-03    False\n",
       "2000-01-04    False\n",
       "2000-01-05    False\n",
       "2000-01-06    False\n",
       "2000-01-07    False\n",
       "              ...  \n",
       "2023-08-25     True\n",
       "2023-08-28     True\n",
       "2023-08-29     True\n",
       "2023-08-30     True\n",
       "2023-08-31     True\n",
       "Name: Adj Close, Length: 5954, dtype: bool"
      ]
     },
     "execution_count": 35,
     "metadata": {},
     "output_type": "execute_result"
    }
   ],
   "source": [
    "ma_8 > ma_13"
   ]
  },
  {
   "cell_type": "code",
   "execution_count": 36,
   "metadata": {},
   "outputs": [
    {
     "data": {
      "text/plain": [
       "0.0003719797785914168"
      ]
     },
     "execution_count": 36,
     "metadata": {},
     "output_type": "execute_result"
    }
   ],
   "source": [
    "ma_13[ma_8 > ma_13].mean()"
   ]
  },
  {
   "cell_type": "markdown",
   "metadata": {},
   "source": [
    "<h3>A simple trading mean reversal trading strategy</h3>\n",
    "<b>Don't try this at home!</b>\n",
    "<li>If the stock goes up more than .5% on day 1, it will go down on day 2</li>\n",
    "<li>What is the expected return from this strategy</li>"
   ]
  },
  {
   "cell_type": "code",
   "execution_count": 37,
   "metadata": {},
   "outputs": [
    {
     "data": {
      "text/plain": [
       "-0.00030681206821519044"
      ]
     },
     "execution_count": 37,
     "metadata": {},
     "output_type": "execute_result"
    }
   ],
   "source": [
    "up_days = df[\"Adj Close\"].pct_change() > 0.005  #Create the boolean mask\n",
    "trade_days = up_days.shift(1,fill_value=False)  #Replace NaNs by False\n",
    "df[\"Adj Close\"].pct_change()[trade_days].mean() #Apply the mask and get mean"
   ]
  },
  {
   "cell_type": "markdown",
   "metadata": {},
   "source": [
    "<h1>Quick analysis</h1>\n",
    "<h2>Linear regression with pandas</h2>\n",
    "<li>Example: TAN is the ticker for a solar ETF. FSLR, NEP, and SPWR are tickers of companies that build or lease solar panels. Each has a different business model. We'll use pandas to study the risk reward tradeoff between the 4 investments and also see how correlated they are</li>\n"
   ]
  },
  {
   "cell_type": "code",
   "execution_count": 38,
   "metadata": {},
   "outputs": [
    {
     "name": "stderr",
     "output_type": "stream",
     "text": [
      "Exception in thread Thread-6:\n",
      "Traceback (most recent call last):\n",
      "  File \"/Users/joshuagrajales/opt/anaconda3/lib/python3.9/threading.py\", line 973, in _bootstrap_inner\n",
      "Exception in thread Thread-8:\n",
      "Exception in thread Traceback (most recent call last):\n",
      "  File \"/Users/joshuagrajales/opt/anaconda3/lib/python3.9/threading.py\", line 973, in _bootstrap_inner\n",
      "Thread-7:\n",
      "Traceback (most recent call last):\n",
      "  File \"/Users/joshuagrajales/opt/anaconda3/lib/python3.9/threading.py\", line 973, in _bootstrap_inner\n",
      "    self.run()\n",
      "  File \"/Users/joshuagrajales/opt/anaconda3/lib/python3.9/threading.py\", line 910, in run\n",
      "    self._target(*self._args, **self._kwargs)\n",
      "  File \"/Users/joshuagrajales/opt/anaconda3/lib/python3.9/site-packages/multitasking/__init__.py\", line 104, in _run_via_pool\n",
      "    self.run()\n",
      "  File \"/Users/joshuagrajales/opt/anaconda3/lib/python3.9/threading.py\", line 910, in run\n",
      "    self.run()\n",
      "  File \"/Users/joshuagrajales/opt/anaconda3/lib/python3.9/threading.py\", line 910, in run\n",
      "    return callee(*args, **kwargs)\n",
      "  File \"/Users/joshuagrajales/opt/anaconda3/lib/python3.9/site-packages/yfinance/multi.py\", line 169, in _download_one_threaded\n",
      "    self._target(*self._args, **self._kwargs)\n",
      "  File \"/Users/joshuagrajales/opt/anaconda3/lib/python3.9/site-packages/multitasking/__init__.py\", line 104, in _run_via_pool\n",
      "    return callee(*args, **kwargs)\n",
      "  File \"/Users/joshuagrajales/opt/anaconda3/lib/python3.9/site-packages/yfinance/multi.py\", line 169, in _download_one_threaded\n",
      "    data = _download_one(ticker, start, end, auto_adjust, back_adjust,\n",
      "  File \"/Users/joshuagrajales/opt/anaconda3/lib/python3.9/site-packages/yfinance/multi.py\", line 181, in _download_one\n",
      "        data = _download_one(ticker, start, end, auto_adjust, back_adjust,\n",
      "  File \"/Users/joshuagrajales/opt/anaconda3/lib/python3.9/site-packages/yfinance/multi.py\", line 181, in _download_one\n",
      "self._target(*self._args, **self._kwargs)\n",
      "  File \"/Users/joshuagrajales/opt/anaconda3/lib/python3.9/site-packages/multitasking/__init__.py\", line 104, in _run_via_pool\n",
      "    return Ticker(ticker).history(period=period, interval=interval,\n",
      "  File \"/Users/joshuagrajales/opt/anaconda3/lib/python3.9/site-packages/yfinance/base.py\", line 247, in history\n",
      "    return Ticker(ticker).history(period=period, interval=interval,\n",
      "  File \"/Users/joshuagrajales/opt/anaconda3/lib/python3.9/site-packages/yfinance/base.py\", line 247, in history\n",
      "    df.index = df.index.tz_localize(\"UTC\").tz_convert(\n",
      "AttributeError: 'Index' object has no attribute 'tz_localize'\n",
      "    return callee(*args, **kwargs)\n",
      "  File \"/Users/joshuagrajales/opt/anaconda3/lib/python3.9/site-packages/yfinance/multi.py\", line 169, in _download_one_threaded\n",
      "    df.index = df.index.tz_localize(\"UTC\").tz_convert(\n",
      "AttributeError: 'Index' object has no attribute 'tz_localize'\n",
      "    data = _download_one(ticker, start, end, auto_adjust, back_adjust,\n",
      "  File \"/Users/joshuagrajales/opt/anaconda3/lib/python3.9/site-packages/yfinance/multi.py\", line 181, in _download_one\n",
      "Exception in thread Thread-5:\n",
      "Traceback (most recent call last):\n",
      "  File \"/Users/joshuagrajales/opt/anaconda3/lib/python3.9/threading.py\", line 973, in _bootstrap_inner\n",
      "    return Ticker(ticker).history(period=period, interval=interval,\n",
      "  File \"/Users/joshuagrajales/opt/anaconda3/lib/python3.9/site-packages/yfinance/base.py\", line 247, in history\n",
      "    self.run()\n",
      "  File \"/Users/joshuagrajales/opt/anaconda3/lib/python3.9/threading.py\", line 910, in run\n",
      "    df.index = df.index.tz_localize(\"UTC\").tz_convert(\n",
      "AttributeError: 'Index' object has no attribute 'tz_localize'\n",
      "    self._target(*self._args, **self._kwargs)\n",
      "  File \"/Users/joshuagrajales/opt/anaconda3/lib/python3.9/site-packages/multitasking/__init__.py\", line 104, in _run_via_pool\n",
      "    return callee(*args, **kwargs)\n",
      "  File \"/Users/joshuagrajales/opt/anaconda3/lib/python3.9/site-packages/yfinance/multi.py\", line 169, in _download_one_threaded\n",
      "    data = _download_one(ticker, start, end, auto_adjust, back_adjust,\n",
      "  File \"/Users/joshuagrajales/opt/anaconda3/lib/python3.9/site-packages/yfinance/multi.py\", line 181, in _download_one\n",
      "    return Ticker(ticker).history(period=period, interval=interval,\n",
      "  File \"/Users/joshuagrajales/opt/anaconda3/lib/python3.9/site-packages/yfinance/base.py\", line 247, in history\n",
      "    df.index = df.index.tz_localize(\"UTC\").tz_convert(\n",
      "AttributeError: 'Index' object has no attribute 'tz_localize'\n"
     ]
    },
    {
     "ename": "KeyboardInterrupt",
     "evalue": "",
     "output_type": "error",
     "traceback": [
      "\u001b[0;31m---------------------------------------------------------------------------\u001b[0m",
      "\u001b[0;31mKeyboardInterrupt\u001b[0m                         Traceback (most recent call last)",
      "\u001b[1;32m/Users/joshuagrajales/Desktop/ore4212/pandas part 3 time series data.ipynb Cell 51\u001b[0m line \u001b[0;36m<cell line: 12>\u001b[0;34m()\u001b[0m\n\u001b[1;32m      <a href='vscode-notebook-cell:/Users/joshuagrajales/Desktop/ore4212/pandas%20part%203%20time%20series%20data.ipynb#Y100sZmlsZQ%3D%3D?line=7'>8</a>\u001b[0m ticker_list \u001b[39m=\u001b[39m [\u001b[39m'\u001b[39m\u001b[39mFSLR\u001b[39m\u001b[39m'\u001b[39m, \u001b[39m'\u001b[39m\u001b[39mTAN\u001b[39m\u001b[39m'\u001b[39m,\u001b[39m'\u001b[39m\u001b[39mNEP\u001b[39m\u001b[39m'\u001b[39m,\u001b[39m'\u001b[39m\u001b[39mSPWR\u001b[39m\u001b[39m'\u001b[39m]\n\u001b[1;32m     <a href='vscode-notebook-cell:/Users/joshuagrajales/Desktop/ore4212/pandas%20part%203%20time%20series%20data.ipynb#Y100sZmlsZQ%3D%3D?line=9'>10</a>\u001b[0m \u001b[39m# downloading the data of the ticker value between\u001b[39;00m\n\u001b[1;32m     <a href='vscode-notebook-cell:/Users/joshuagrajales/Desktop/ore4212/pandas%20part%203%20time%20series%20data.ipynb#Y100sZmlsZQ%3D%3D?line=10'>11</a>\u001b[0m \u001b[39m# the start and end dates\u001b[39;00m\n\u001b[0;32m---> <a href='vscode-notebook-cell:/Users/joshuagrajales/Desktop/ore4212/pandas%20part%203%20time%20series%20data.ipynb#Y100sZmlsZQ%3D%3D?line=11'>12</a>\u001b[0m df \u001b[39m=\u001b[39m yf\u001b[39m.\u001b[39;49mdownload(ticker_list, startDate, endDate)\n\u001b[1;32m     <a href='vscode-notebook-cell:/Users/joshuagrajales/Desktop/ore4212/pandas%20part%203%20time%20series%20data.ipynb#Y100sZmlsZQ%3D%3D?line=13'>14</a>\u001b[0m df\u001b[39m.\u001b[39minfo()\n",
      "File \u001b[0;32m~/opt/anaconda3/lib/python3.9/site-packages/yfinance/multi.py:97\u001b[0m, in \u001b[0;36mdownload\u001b[0;34m(tickers, start, end, actions, threads, group_by, auto_adjust, back_adjust, progress, period, show_errors, interval, prepost, proxy, rounding, **kwargs)\u001b[0m\n\u001b[1;32m     90\u001b[0m         _download_one_threaded(ticker, period\u001b[39m=\u001b[39mperiod, interval\u001b[39m=\u001b[39minterval,\n\u001b[1;32m     91\u001b[0m                                start\u001b[39m=\u001b[39mstart, end\u001b[39m=\u001b[39mend, prepost\u001b[39m=\u001b[39mprepost,\n\u001b[1;32m     92\u001b[0m                                actions\u001b[39m=\u001b[39mactions, auto_adjust\u001b[39m=\u001b[39mauto_adjust,\n\u001b[1;32m     93\u001b[0m                                back_adjust\u001b[39m=\u001b[39mback_adjust,\n\u001b[1;32m     94\u001b[0m                                progress\u001b[39m=\u001b[39m(progress \u001b[39mand\u001b[39;00m i \u001b[39m>\u001b[39m \u001b[39m0\u001b[39m), proxy\u001b[39m=\u001b[39mproxy,\n\u001b[1;32m     95\u001b[0m                                rounding\u001b[39m=\u001b[39mrounding)\n\u001b[1;32m     96\u001b[0m     \u001b[39mwhile\u001b[39;00m \u001b[39mlen\u001b[39m(shared\u001b[39m.\u001b[39m_DFS) \u001b[39m<\u001b[39m \u001b[39mlen\u001b[39m(tickers):\n\u001b[0;32m---> 97\u001b[0m         _time\u001b[39m.\u001b[39;49msleep(\u001b[39m0.01\u001b[39;49m)\n\u001b[1;32m     99\u001b[0m \u001b[39m# download synchronously\u001b[39;00m\n\u001b[1;32m    100\u001b[0m \u001b[39melse\u001b[39;00m:\n\u001b[1;32m    101\u001b[0m     \u001b[39mfor\u001b[39;00m i, ticker \u001b[39min\u001b[39;00m \u001b[39menumerate\u001b[39m(tickers):\n",
      "\u001b[0;31mKeyboardInterrupt\u001b[0m: "
     ]
    }
   ],
   "source": [
    "import yfinance as yf\n",
    "\n",
    "# giving the start and end dates\n",
    "startDate = '2015-07-01'\n",
    "endDate = '2023-09-01'\n",
    "\n",
    "# setting the ticker value\n",
    "ticker_list = ['FSLR', 'TAN','NEP','SPWR']\n",
    "\n",
    "# downloading the data of the ticker value between\n",
    "# the start and end dates\n",
    "df = yf.download(ticker_list, startDate, endDate)\n",
    "\n",
    "df.info()"
   ]
  },
  {
   "cell_type": "code",
   "execution_count": null,
   "metadata": {},
   "outputs": [],
   "source": [
    "df[\"Adj Close\"]"
   ]
  },
  {
   "cell_type": "code",
   "execution_count": null,
   "metadata": {},
   "outputs": [],
   "source": [
    "solar_df = df[\"Adj Close\"]\n"
   ]
  },
  {
   "cell_type": "markdown",
   "metadata": {},
   "source": [
    "<h4>Let's calculate returns (the 1 day percent change)</h4>"
   ]
  },
  {
   "cell_type": "code",
   "execution_count": null,
   "metadata": {},
   "outputs": [],
   "source": [
    "rets = solar_df.pct_change()\n",
    "print(rets)"
   ]
  },
  {
   "cell_type": "markdown",
   "metadata": {},
   "source": [
    "<h4>Let's visualize the relationship between each stock and the ETF</h4>"
   ]
  },
  {
   "cell_type": "code",
   "execution_count": null,
   "metadata": {},
   "outputs": [],
   "source": [
    "import matplotlib.pyplot as plt\n",
    "plt.scatter(rets.FSLR,rets.TAN)"
   ]
  },
  {
   "cell_type": "code",
   "execution_count": null,
   "metadata": {},
   "outputs": [],
   "source": [
    "plt.scatter(rets.NEP,rets.TAN)"
   ]
  },
  {
   "cell_type": "code",
   "execution_count": null,
   "metadata": {},
   "outputs": [],
   "source": [
    "plt.scatter(rets.SPWR,rets.TAN)"
   ]
  },
  {
   "cell_type": "markdown",
   "metadata": {},
   "source": [
    "<h4>The correlation matrix</h4>"
   ]
  },
  {
   "cell_type": "code",
   "execution_count": null,
   "metadata": {},
   "outputs": [],
   "source": [
    "solar_corr = rets.corr()\n",
    "print(solar_corr)"
   ]
  },
  {
   "cell_type": "markdown",
   "metadata": {},
   "source": [
    "<h3>Basic risk analysis</h3>\n",
    "<h4>We'll plot the mean and std or returns for each ticker to get a sense of the risk return profile</h4>\n",
    "<li>And add labels and formatting to each (mean,std) pair for readability</li>\n",
    "<li>See <a href=\"https://matplotlib.org/3.3.2/api/_as_gen/matplotlib.pyplot.annotate.html\">matplotlib annotate</a></li>"
   ]
  },
  {
   "cell_type": "code",
   "execution_count": null,
   "metadata": {},
   "outputs": [],
   "source": [
    "plt.scatter(rets.mean(), rets.std())\n",
    "plt.xlabel('Expected returns')\n",
    "plt.ylabel('Standard deviations')\n"
   ]
  },
  {
   "cell_type": "code",
   "execution_count": null,
   "metadata": {},
   "outputs": [],
   "source": [
    "plt.scatter(rets.mean(), rets.std())\n",
    "plt.xlabel('Expected returns')\n",
    "plt.ylabel('Standard deviations')\n",
    "for label, x, y in zip(rets.columns, rets.mean(), rets.std()):\n",
    "    plt.annotate(\n",
    "        label,                                                        #annotation text\n",
    "        xy = (x, y),                                                  #point being annotated\n",
    "        xytext = (20, -30),\n",
    "        textcoords = 'offset points',                                 #text coord fmt (offset points from xy)\n",
    "        ha = 'right',                                                 #horizontal alignment\n",
    "        va = 'bottom',                                                #vertical alignment\n",
    "        bbox = dict(boxstyle = 'round,pad=0.5', fc = 'yellow', alpha = 0.5),  #A yellow box around the text\n",
    "        arrowprops = dict(arrowstyle = '->', connectionstyle = 'arc3,rad=0')) #arrow to the box\n",
    "plt.show()\n"
   ]
  },
  {
   "cell_type": "markdown",
   "metadata": {},
   "source": [
    "<h2>Regressions</h2>\n",
    "<li><a href=\"https://www.statsmodels.org/stable/api.html\">statsmodels</a> is a python library for estimating different statistical models</li>\n",
    "<li>We'll use the <a href=\"https://www.statsmodels.org/stable/generated/statsmodels.regression.linear_model.OLS.html#statsmodels.regression.linear_model.OLS\">OLS</a> package to run a linear regression with daily returns on the ETF as the dependent variable and daily returns on the component stocks as independent variables</li> \n"
   ]
  },
  {
   "cell_type": "markdown",
   "metadata": {},
   "source": [
    "<h3>Steps for regression</h3>\n",
    "<li>Construct y (dependent variable series)\n",
    "<li>Construct matrix (dataframe) of X (independent variable series)\n",
    "<li>Add intercept\n",
    "<li>Model the regression\n",
    "<li>Get the results\n",
    "<h3>The statsmodels library contains various regression packages. We'll use the OLS (Ordinary Least Squares) model"
   ]
  },
  {
   "cell_type": "code",
   "execution_count": null,
   "metadata": {},
   "outputs": [],
   "source": [
    "rets = solar_df.pct_change()\n",
    "rets"
   ]
  },
  {
   "cell_type": "code",
   "execution_count": null,
   "metadata": {},
   "outputs": [],
   "source": [
    "import statsmodels\n",
    "statsmodels.__version__"
   ]
  },
  {
   "cell_type": "code",
   "execution_count": null,
   "metadata": {},
   "outputs": [],
   "source": [
    "!pip install statsmodels --upgrade"
   ]
  },
  {
   "cell_type": "code",
   "execution_count": null,
   "metadata": {},
   "outputs": [],
   "source": [
    "import numpy as np\n",
    "import statsmodels.api as sm\n",
    "X=rets[['FSLR','NEP','SPWR']] #The independent variables data\n",
    "X = sm.add_constant(X) #Add a constant (alpha)\n",
    "y=rets['TAN'] #The dependent variable\n",
    "model = sm.OLS(y,X,missing='drop') #Build the model (drop missing values)\n",
    "result = model.fit() #fit the data to the model\n",
    "print(result.summary()) #Print the results"
   ]
  },
  {
   "cell_type": "markdown",
   "metadata": {},
   "source": [
    "<h4>If we want, plot the fitted line with the actual y values"
   ]
  },
  {
   "cell_type": "code",
   "execution_count": null,
   "metadata": {},
   "outputs": [],
   "source": [
    "fig, ax = plt.subplots(figsize=(8,6))\n",
    "ax.plot(y[:100])\n",
    "ax.plot(result.fittedvalues[:100])"
   ]
  },
  {
   "cell_type": "code",
   "execution_count": null,
   "metadata": {},
   "outputs": [],
   "source": []
  }
 ],
 "metadata": {
  "kernelspec": {
   "display_name": "Python 3 (ipykernel)",
   "language": "python",
   "name": "python3"
  },
  "language_info": {
   "codemirror_mode": {
    "name": "ipython",
    "version": 3
   },
   "file_extension": ".py",
   "mimetype": "text/x-python",
   "name": "python",
   "nbconvert_exporter": "python",
   "pygments_lexer": "ipython3",
   "version": "3.9.12"
  },
  "toc": {
   "base_numbering": 1,
   "nav_menu": {},
   "number_sections": true,
   "sideBar": true,
   "skip_h1_title": false,
   "title_cell": "Table of Contents",
   "title_sidebar": "Contents",
   "toc_cell": false,
   "toc_position": {},
   "toc_section_display": true,
   "toc_window_display": false
  }
 },
 "nbformat": 4,
 "nbformat_minor": 2
}
