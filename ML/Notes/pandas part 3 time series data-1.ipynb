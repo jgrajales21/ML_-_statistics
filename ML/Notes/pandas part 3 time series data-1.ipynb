{
 "cells": [
  {
   "cell_type": "markdown",
   "metadata": {},
   "source": [
    "<h1>Pandas and Timeseries data</h1>"
   ]
  },
  {
   "cell_type": "markdown",
   "metadata": {},
   "source": [
    "<h2>Yahoo finance</h2>\n",
    "<li><span style=\"color:blue\">yfinance</span> is a python library that gets financial data from yahoo finance</li>\n",
    "<li><a href=\"https://pypi.org/project/yfinance/\">documentation</a></li>\n"
   ]
  },
  {
   "cell_type": "code",
   "execution_count": 1,
   "metadata": {},
   "outputs": [
    {
     "data": {
      "text/plain": [
       "'0.2.31'"
      ]
     },
     "execution_count": 1,
     "metadata": {},
     "output_type": "execute_result"
    }
   ],
   "source": [
    "import yfinance as yf\n",
    "yf.__version__"
   ]
  },
  {
   "cell_type": "code",
   "execution_count": null,
   "metadata": {},
   "outputs": [],
   "source": [
    "!pip install yfinance --upgrade"
   ]
  },
  {
   "cell_type": "markdown",
   "metadata": {},
   "source": [
    "<h3>Example</h3>\n",
    "<li>Get daily prices for IBM from January 2000 to end August 2023</li>"
   ]
  },
  {
   "cell_type": "code",
   "execution_count": 2,
   "metadata": {},
   "outputs": [
    {
     "name": "stdout",
     "output_type": "stream",
     "text": [
      "[*********************100%%**********************]  1 of 1 completed\n",
      "<class 'pandas.core.frame.DataFrame'>\n",
      "DatetimeIndex: 5954 entries, 2000-01-03 to 2023-08-31\n",
      "Data columns (total 6 columns):\n",
      " #   Column     Non-Null Count  Dtype  \n",
      "---  ------     --------------  -----  \n",
      " 0   Open       5954 non-null   float64\n",
      " 1   High       5954 non-null   float64\n",
      " 2   Low        5954 non-null   float64\n",
      " 3   Close      5954 non-null   float64\n",
      " 4   Adj Close  5954 non-null   float64\n",
      " 5   Volume     5954 non-null   int64  \n",
      "dtypes: float64(5), int64(1)\n",
      "memory usage: 325.6 KB\n"
     ]
    }
   ],
   "source": [
    "import yfinance as yf\n",
    "\n",
    "# giving the start and end dates\n",
    "startDate = '2000-01-01'\n",
    "endDate = '2023-09-01'\n",
    "\n",
    "# setting the ticker value\n",
    "ticker = 'IBM'\n",
    "\n",
    "# downloading the data of the ticker value between\n",
    "# the start and end dates\n",
    "df = yf.download(ticker, startDate, endDate)\n",
    "\n",
    "df.info()"
   ]
  },
  {
   "cell_type": "code",
   "execution_count": 3,
   "metadata": {},
   "outputs": [
    {
     "data": {
      "text/html": [
       "<div>\n",
       "<style scoped>\n",
       "    .dataframe tbody tr th:only-of-type {\n",
       "        vertical-align: middle;\n",
       "    }\n",
       "\n",
       "    .dataframe tbody tr th {\n",
       "        vertical-align: top;\n",
       "    }\n",
       "\n",
       "    .dataframe thead th {\n",
       "        text-align: right;\n",
       "    }\n",
       "</style>\n",
       "<table border=\"1\" class=\"dataframe\">\n",
       "  <thead>\n",
       "    <tr style=\"text-align: right;\">\n",
       "      <th></th>\n",
       "      <th>Open</th>\n",
       "      <th>High</th>\n",
       "      <th>Low</th>\n",
       "      <th>Close</th>\n",
       "      <th>Adj Close</th>\n",
       "      <th>Volume</th>\n",
       "    </tr>\n",
       "    <tr>\n",
       "      <th>Date</th>\n",
       "      <th></th>\n",
       "      <th></th>\n",
       "      <th></th>\n",
       "      <th></th>\n",
       "      <th></th>\n",
       "      <th></th>\n",
       "    </tr>\n",
       "  </thead>\n",
       "  <tbody>\n",
       "    <tr>\n",
       "      <th>2000-01-03</th>\n",
       "      <td>107.492828</td>\n",
       "      <td>110.898659</td>\n",
       "      <td>106.955070</td>\n",
       "      <td>110.898659</td>\n",
       "      <td>61.718288</td>\n",
       "      <td>10823694</td>\n",
       "    </tr>\n",
       "    <tr>\n",
       "      <th>2000-01-04</th>\n",
       "      <td>108.986618</td>\n",
       "      <td>109.464630</td>\n",
       "      <td>105.999046</td>\n",
       "      <td>107.134323</td>\n",
       "      <td>59.623280</td>\n",
       "      <td>8606279</td>\n",
       "    </tr>\n",
       "    <tr>\n",
       "      <th>2000-01-05</th>\n",
       "      <td>107.970840</td>\n",
       "      <td>114.483749</td>\n",
       "      <td>107.194077</td>\n",
       "      <td>110.898659</td>\n",
       "      <td>61.718288</td>\n",
       "      <td>13318927</td>\n",
       "    </tr>\n",
       "    <tr>\n",
       "      <th>2000-01-06</th>\n",
       "      <td>112.810707</td>\n",
       "      <td>113.706978</td>\n",
       "      <td>108.508606</td>\n",
       "      <td>108.986618</td>\n",
       "      <td>60.654140</td>\n",
       "      <td>8338607</td>\n",
       "    </tr>\n",
       "    <tr>\n",
       "      <th>2000-01-07</th>\n",
       "      <td>112.093689</td>\n",
       "      <td>112.750954</td>\n",
       "      <td>105.760040</td>\n",
       "      <td>108.508606</td>\n",
       "      <td>60.388084</td>\n",
       "      <td>12402108</td>\n",
       "    </tr>\n",
       "    <tr>\n",
       "      <th>...</th>\n",
       "      <td>...</td>\n",
       "      <td>...</td>\n",
       "      <td>...</td>\n",
       "      <td>...</td>\n",
       "      <td>...</td>\n",
       "      <td>...</td>\n",
       "    </tr>\n",
       "    <tr>\n",
       "      <th>2023-08-25</th>\n",
       "      <td>144.179993</td>\n",
       "      <td>145.470001</td>\n",
       "      <td>143.500000</td>\n",
       "      <td>145.350006</td>\n",
       "      <td>145.350006</td>\n",
       "      <td>3660100</td>\n",
       "    </tr>\n",
       "    <tr>\n",
       "      <th>2023-08-28</th>\n",
       "      <td>145.410004</td>\n",
       "      <td>146.740005</td>\n",
       "      <td>145.210007</td>\n",
       "      <td>146.020004</td>\n",
       "      <td>146.020004</td>\n",
       "      <td>3561100</td>\n",
       "    </tr>\n",
       "    <tr>\n",
       "      <th>2023-08-29</th>\n",
       "      <td>146.300003</td>\n",
       "      <td>146.729996</td>\n",
       "      <td>145.619995</td>\n",
       "      <td>146.449997</td>\n",
       "      <td>146.449997</td>\n",
       "      <td>2778100</td>\n",
       "    </tr>\n",
       "    <tr>\n",
       "      <th>2023-08-30</th>\n",
       "      <td>146.419998</td>\n",
       "      <td>146.919998</td>\n",
       "      <td>145.750000</td>\n",
       "      <td>146.860001</td>\n",
       "      <td>146.860001</td>\n",
       "      <td>2245400</td>\n",
       "    </tr>\n",
       "    <tr>\n",
       "      <th>2023-08-31</th>\n",
       "      <td>146.940002</td>\n",
       "      <td>147.729996</td>\n",
       "      <td>146.539993</td>\n",
       "      <td>146.830002</td>\n",
       "      <td>146.830002</td>\n",
       "      <td>3885900</td>\n",
       "    </tr>\n",
       "  </tbody>\n",
       "</table>\n",
       "<p>5954 rows × 6 columns</p>\n",
       "</div>"
      ],
      "text/plain": [
       "                  Open        High         Low       Close   Adj Close  \\\n",
       "Date                                                                     \n",
       "2000-01-03  107.492828  110.898659  106.955070  110.898659   61.718288   \n",
       "2000-01-04  108.986618  109.464630  105.999046  107.134323   59.623280   \n",
       "2000-01-05  107.970840  114.483749  107.194077  110.898659   61.718288   \n",
       "2000-01-06  112.810707  113.706978  108.508606  108.986618   60.654140   \n",
       "2000-01-07  112.093689  112.750954  105.760040  108.508606   60.388084   \n",
       "...                ...         ...         ...         ...         ...   \n",
       "2023-08-25  144.179993  145.470001  143.500000  145.350006  145.350006   \n",
       "2023-08-28  145.410004  146.740005  145.210007  146.020004  146.020004   \n",
       "2023-08-29  146.300003  146.729996  145.619995  146.449997  146.449997   \n",
       "2023-08-30  146.419998  146.919998  145.750000  146.860001  146.860001   \n",
       "2023-08-31  146.940002  147.729996  146.539993  146.830002  146.830002   \n",
       "\n",
       "              Volume  \n",
       "Date                  \n",
       "2000-01-03  10823694  \n",
       "2000-01-04   8606279  \n",
       "2000-01-05  13318927  \n",
       "2000-01-06   8338607  \n",
       "2000-01-07  12402108  \n",
       "...              ...  \n",
       "2023-08-25   3660100  \n",
       "2023-08-28   3561100  \n",
       "2023-08-29   2778100  \n",
       "2023-08-30   2245400  \n",
       "2023-08-31   3885900  \n",
       "\n",
       "[5954 rows x 6 columns]"
      ]
     },
     "execution_count": 3,
     "metadata": {},
     "output_type": "execute_result"
    }
   ],
   "source": [
    "df"
   ]
  },
  {
   "cell_type": "markdown",
   "metadata": {},
   "source": [
    "\n",
    "<h2><b>datetime</b>: Python library for reasoning about time</h2>\n",
    "<li><b>datetime.datetime</b>: functions and objects for time (date+time)</li>\n",
    "<li><b>datetime.date</b>: functions and objects for date (not time, days only)</li>\n",
    "<li><b>datetime.timedelta</b>: functions and objects for time differences</li>\n",
    "<li>The function <b>datetime.datetime.strptime</b> converts a text string into a datetime object</li>\n",
    "<li>The function <b>datetime.datetime.strftime</b> converts a datetime object into an appropriately formatted text string (formatted printing, saving to a file)</li>"
   ]
  },
  {
   "cell_type": "code",
   "execution_count": 4,
   "metadata": {},
   "outputs": [
    {
     "name": "stdout",
     "output_type": "stream",
     "text": [
      "2023-02-07 2023-01-30 8 days, 0:00:00\n",
      "<class 'datetime.timedelta'>\n",
      "<class 'datetime.date'>\n"
     ]
    }
   ],
   "source": [
    "import datetime\n",
    "today = datetime.date(2023,2,7) #datetime.date object\n",
    "yesterday = datetime.date(2023,1,30) #datetime.date object\n",
    "diff = today - yesterday #datetime.timedelta object\n",
    "print(today,yesterday,diff)\n",
    "print(type(diff))\n",
    "print(type(today))"
   ]
  },
  {
   "cell_type": "code",
   "execution_count": 5,
   "metadata": {},
   "outputs": [
    {
     "name": "stdout",
     "output_type": "stream",
     "text": [
      "2023-11-06 12:42:18.590639 2000-01-01 00:00:00 8710 days, 12:42:18.590639\n"
     ]
    }
   ],
   "source": [
    "now = datetime.datetime.now() #datetime.datetime object\n",
    "then = datetime.datetime(2000,1,1,0,0,0) #datetime.datetime object\n",
    "diff = now - then #datetime.timedelta object\n",
    "print(now, then, diff)"
   ]
  },
  {
   "cell_type": "markdown",
   "metadata": {},
   "source": [
    "<h3>strptime and strftime</h3>\n",
    "<li>strptime and strftime handle conversions between datetime objects and locale (the standard used in your locale) formats</li>\n",
    "<li>Useful when you read time from a file as a string and need to convert it into a datatime object (or vice versa)</li>\n",
    "<li>See https://pubs.opengroup.org/onlinepubs/9699919799/ (search for strptime) for formats</li>\n"
   ]
  },
  {
   "cell_type": "code",
   "execution_count": 7,
   "metadata": {},
   "outputs": [
    {
     "name": "stdout",
     "output_type": "stream",
     "text": [
      "2000-01-01 22:26:44\n",
      "2024-09-26 15:25:21\n",
      "9034 days, 16:58:37\n",
      "26/09/2024 15:25:21\n"
     ]
    }
   ],
   "source": [
    "import datetime as dt\n",
    "start_time = \"01/01/2000 10:26:44 PM\"\n",
    "end_time = \"Monday, Sep 26 2024 15:25:21\"\n",
    "dt_start_time = dt.datetime.strptime(start_time,\"%m/%d/%Y %I:%M:%S %p\")\n",
    "dt_end_time = dt.datetime.strptime(end_time,\"%A, %b %d %Y %H:%M:%S\")\n",
    "time_to_completion = dt_end_time - dt_start_time\n",
    "europe_end_time = dt.datetime.strftime(dt_end_time,\"%d/%m/%Y %H:%M:%S\")\n",
    "print(dt_start_time)\n",
    "print(dt_end_time)\n",
    "print(time_to_completion)\n",
    "print(europe_end_time)"
   ]
  },
  {
   "cell_type": "markdown",
   "metadata": {},
   "source": [
    "<h2>Timeseries data in Pandas</h2>\n",
    "<li>DataFrames can be organized for timeseries data</li>\n",
    "<li>Typically, the index is time and the columns are the data objects</li>\n",
    "<li>The index may be a simple ordering or may contain time enabled data (DatetimeIndex in Pandas)</li>\n",
    "<li>yfinance returns an index in DatetimeIndex format</li>"
   ]
  },
  {
   "cell_type": "code",
   "execution_count": 8,
   "metadata": {},
   "outputs": [
    {
     "name": "stdout",
     "output_type": "stream",
     "text": [
      "<class 'pandas.core.frame.DataFrame'>\n",
      "DatetimeIndex: 5954 entries, 2000-01-03 to 2023-08-31\n",
      "Data columns (total 6 columns):\n",
      " #   Column     Non-Null Count  Dtype  \n",
      "---  ------     --------------  -----  \n",
      " 0   Open       5954 non-null   float64\n",
      " 1   High       5954 non-null   float64\n",
      " 2   Low        5954 non-null   float64\n",
      " 3   Close      5954 non-null   float64\n",
      " 4   Adj Close  5954 non-null   float64\n",
      " 5   Volume     5954 non-null   int64  \n",
      "dtypes: float64(5), int64(1)\n",
      "memory usage: 325.6 KB\n"
     ]
    }
   ],
   "source": [
    "df.info()"
   ]
  },
  {
   "cell_type": "code",
   "execution_count": 9,
   "metadata": {},
   "outputs": [
    {
     "data": {
      "text/html": [
       "<div>\n",
       "<style scoped>\n",
       "    .dataframe tbody tr th:only-of-type {\n",
       "        vertical-align: middle;\n",
       "    }\n",
       "\n",
       "    .dataframe tbody tr th {\n",
       "        vertical-align: top;\n",
       "    }\n",
       "\n",
       "    .dataframe thead th {\n",
       "        text-align: right;\n",
       "    }\n",
       "</style>\n",
       "<table border=\"1\" class=\"dataframe\">\n",
       "  <thead>\n",
       "    <tr style=\"text-align: right;\">\n",
       "      <th></th>\n",
       "      <th>Open</th>\n",
       "      <th>High</th>\n",
       "      <th>Low</th>\n",
       "      <th>Close</th>\n",
       "      <th>Adj Close</th>\n",
       "      <th>Volume</th>\n",
       "    </tr>\n",
       "    <tr>\n",
       "      <th>Date</th>\n",
       "      <th></th>\n",
       "      <th></th>\n",
       "      <th></th>\n",
       "      <th></th>\n",
       "      <th></th>\n",
       "      <th></th>\n",
       "    </tr>\n",
       "  </thead>\n",
       "  <tbody>\n",
       "    <tr>\n",
       "      <th>2000-01-03</th>\n",
       "      <td>107.492828</td>\n",
       "      <td>110.898659</td>\n",
       "      <td>106.955070</td>\n",
       "      <td>110.898659</td>\n",
       "      <td>61.718273</td>\n",
       "      <td>10823694</td>\n",
       "    </tr>\n",
       "    <tr>\n",
       "      <th>2000-01-04</th>\n",
       "      <td>108.986618</td>\n",
       "      <td>109.464630</td>\n",
       "      <td>105.999046</td>\n",
       "      <td>107.134323</td>\n",
       "      <td>59.623306</td>\n",
       "      <td>8606279</td>\n",
       "    </tr>\n",
       "    <tr>\n",
       "      <th>2000-01-05</th>\n",
       "      <td>107.970840</td>\n",
       "      <td>114.483749</td>\n",
       "      <td>107.194077</td>\n",
       "      <td>110.898659</td>\n",
       "      <td>61.718273</td>\n",
       "      <td>13318927</td>\n",
       "    </tr>\n",
       "    <tr>\n",
       "      <th>2000-01-06</th>\n",
       "      <td>112.810707</td>\n",
       "      <td>113.706978</td>\n",
       "      <td>108.508606</td>\n",
       "      <td>108.986618</td>\n",
       "      <td>60.654144</td>\n",
       "      <td>8338607</td>\n",
       "    </tr>\n",
       "    <tr>\n",
       "      <th>2000-01-07</th>\n",
       "      <td>112.093689</td>\n",
       "      <td>112.750954</td>\n",
       "      <td>105.760040</td>\n",
       "      <td>108.508606</td>\n",
       "      <td>60.388107</td>\n",
       "      <td>12402108</td>\n",
       "    </tr>\n",
       "    <tr>\n",
       "      <th>...</th>\n",
       "      <td>...</td>\n",
       "      <td>...</td>\n",
       "      <td>...</td>\n",
       "      <td>...</td>\n",
       "      <td>...</td>\n",
       "      <td>...</td>\n",
       "    </tr>\n",
       "    <tr>\n",
       "      <th>2023-08-25</th>\n",
       "      <td>144.179993</td>\n",
       "      <td>145.470001</td>\n",
       "      <td>143.500000</td>\n",
       "      <td>145.350006</td>\n",
       "      <td>145.350006</td>\n",
       "      <td>3660100</td>\n",
       "    </tr>\n",
       "    <tr>\n",
       "      <th>2023-08-28</th>\n",
       "      <td>145.410004</td>\n",
       "      <td>146.740005</td>\n",
       "      <td>145.210007</td>\n",
       "      <td>146.020004</td>\n",
       "      <td>146.020004</td>\n",
       "      <td>3561100</td>\n",
       "    </tr>\n",
       "    <tr>\n",
       "      <th>2023-08-29</th>\n",
       "      <td>146.300003</td>\n",
       "      <td>146.729996</td>\n",
       "      <td>145.619995</td>\n",
       "      <td>146.449997</td>\n",
       "      <td>146.449997</td>\n",
       "      <td>2778100</td>\n",
       "    </tr>\n",
       "    <tr>\n",
       "      <th>2023-08-30</th>\n",
       "      <td>146.419998</td>\n",
       "      <td>146.919998</td>\n",
       "      <td>145.750000</td>\n",
       "      <td>146.860001</td>\n",
       "      <td>146.860001</td>\n",
       "      <td>2245400</td>\n",
       "    </tr>\n",
       "    <tr>\n",
       "      <th>2023-08-31</th>\n",
       "      <td>146.940002</td>\n",
       "      <td>147.729996</td>\n",
       "      <td>146.539993</td>\n",
       "      <td>146.830002</td>\n",
       "      <td>146.830002</td>\n",
       "      <td>3885900</td>\n",
       "    </tr>\n",
       "  </tbody>\n",
       "</table>\n",
       "<p>5954 rows × 6 columns</p>\n",
       "</div>"
      ],
      "text/plain": [
       "                  Open        High         Low       Close   Adj Close  \\\n",
       "Date                                                                     \n",
       "2000-01-03  107.492828  110.898659  106.955070  110.898659   61.718273   \n",
       "2000-01-04  108.986618  109.464630  105.999046  107.134323   59.623306   \n",
       "2000-01-05  107.970840  114.483749  107.194077  110.898659   61.718273   \n",
       "2000-01-06  112.810707  113.706978  108.508606  108.986618   60.654144   \n",
       "2000-01-07  112.093689  112.750954  105.760040  108.508606   60.388107   \n",
       "...                ...         ...         ...         ...         ...   \n",
       "2023-08-25  144.179993  145.470001  143.500000  145.350006  145.350006   \n",
       "2023-08-28  145.410004  146.740005  145.210007  146.020004  146.020004   \n",
       "2023-08-29  146.300003  146.729996  145.619995  146.449997  146.449997   \n",
       "2023-08-30  146.419998  146.919998  145.750000  146.860001  146.860001   \n",
       "2023-08-31  146.940002  147.729996  146.539993  146.830002  146.830002   \n",
       "\n",
       "              Volume  \n",
       "Date                  \n",
       "2000-01-03  10823694  \n",
       "2000-01-04   8606279  \n",
       "2000-01-05  13318927  \n",
       "2000-01-06   8338607  \n",
       "2000-01-07  12402108  \n",
       "...              ...  \n",
       "2023-08-25   3660100  \n",
       "2023-08-28   3561100  \n",
       "2023-08-29   2778100  \n",
       "2023-08-30   2245400  \n",
       "2023-08-31   3885900  \n",
       "\n",
       "[5954 rows x 6 columns]"
      ]
     },
     "execution_count": 9,
     "metadata": {},
     "output_type": "execute_result"
    }
   ],
   "source": [
    "df"
   ]
  },
  {
   "cell_type": "markdown",
   "metadata": {},
   "source": [
    "<h3>Working with a timeseries data frame</h3>\n",
    "<li>The data is organized with time as an index</li>\n",
    "<li>And <span style=\"color:blue\">time based</span> reasoning is possible</li>\n"
   ]
  },
  {
   "cell_type": "code",
   "execution_count": 10,
   "metadata": {
    "scrolled": true
   },
   "outputs": [
    {
     "data": {
      "text/html": [
       "<div>\n",
       "<style scoped>\n",
       "    .dataframe tbody tr th:only-of-type {\n",
       "        vertical-align: middle;\n",
       "    }\n",
       "\n",
       "    .dataframe tbody tr th {\n",
       "        vertical-align: top;\n",
       "    }\n",
       "\n",
       "    .dataframe thead th {\n",
       "        text-align: right;\n",
       "    }\n",
       "</style>\n",
       "<table border=\"1\" class=\"dataframe\">\n",
       "  <thead>\n",
       "    <tr style=\"text-align: right;\">\n",
       "      <th></th>\n",
       "      <th>Open</th>\n",
       "      <th>High</th>\n",
       "      <th>Low</th>\n",
       "      <th>Close</th>\n",
       "      <th>Adj Close</th>\n",
       "      <th>Volume</th>\n",
       "    </tr>\n",
       "    <tr>\n",
       "      <th>Date</th>\n",
       "      <th></th>\n",
       "      <th></th>\n",
       "      <th></th>\n",
       "      <th></th>\n",
       "      <th></th>\n",
       "      <th></th>\n",
       "    </tr>\n",
       "  </thead>\n",
       "  <tbody>\n",
       "    <tr>\n",
       "      <th>2010-08-02</th>\n",
       "      <td>123.565964</td>\n",
       "      <td>125.430206</td>\n",
       "      <td>123.565964</td>\n",
       "      <td>125.009560</td>\n",
       "      <td>78.090401</td>\n",
       "      <td>6733625</td>\n",
       "    </tr>\n",
       "    <tr>\n",
       "      <th>2010-08-03</th>\n",
       "      <td>124.311661</td>\n",
       "      <td>125.277245</td>\n",
       "      <td>123.642448</td>\n",
       "      <td>124.636711</td>\n",
       "      <td>77.857468</td>\n",
       "      <td>5326023</td>\n",
       "    </tr>\n",
       "    <tr>\n",
       "      <th>2010-08-04</th>\n",
       "      <td>124.722755</td>\n",
       "      <td>125.717018</td>\n",
       "      <td>124.139580</td>\n",
       "      <td>125.497131</td>\n",
       "      <td>78.394951</td>\n",
       "      <td>4777605</td>\n",
       "    </tr>\n",
       "    <tr>\n",
       "      <th>2010-08-05</th>\n",
       "      <td>124.980881</td>\n",
       "      <td>126.175911</td>\n",
       "      <td>124.789673</td>\n",
       "      <td>126.032501</td>\n",
       "      <td>78.729408</td>\n",
       "      <td>4728548</td>\n",
       "    </tr>\n",
       "    <tr>\n",
       "      <th>2010-08-06</th>\n",
       "      <td>124.674950</td>\n",
       "      <td>124.741875</td>\n",
       "      <td>123.097511</td>\n",
       "      <td>124.416824</td>\n",
       "      <td>78.105225</td>\n",
       "      <td>6418465</td>\n",
       "    </tr>\n",
       "    <tr>\n",
       "      <th>2010-08-09</th>\n",
       "      <td>125.038239</td>\n",
       "      <td>126.520073</td>\n",
       "      <td>124.665390</td>\n",
       "      <td>126.195030</td>\n",
       "      <td>79.221550</td>\n",
       "      <td>6413758</td>\n",
       "    </tr>\n",
       "    <tr>\n",
       "      <th>2010-08-10</th>\n",
       "      <td>125.411087</td>\n",
       "      <td>126.663483</td>\n",
       "      <td>125.019119</td>\n",
       "      <td>126.042068</td>\n",
       "      <td>79.125511</td>\n",
       "      <td>5723398</td>\n",
       "    </tr>\n",
       "    <tr>\n",
       "      <th>2010-08-11</th>\n",
       "      <td>124.942642</td>\n",
       "      <td>124.942642</td>\n",
       "      <td>123.766731</td>\n",
       "      <td>124.120461</td>\n",
       "      <td>77.919182</td>\n",
       "      <td>6606641</td>\n",
       "    </tr>\n",
       "    <tr>\n",
       "      <th>2010-08-12</th>\n",
       "      <td>122.074570</td>\n",
       "      <td>123.116638</td>\n",
       "      <td>121.912048</td>\n",
       "      <td>122.657745</td>\n",
       "      <td>77.000938</td>\n",
       "      <td>5368281</td>\n",
       "    </tr>\n",
       "    <tr>\n",
       "      <th>2010-08-13</th>\n",
       "      <td>122.332695</td>\n",
       "      <td>122.810707</td>\n",
       "      <td>121.730400</td>\n",
       "      <td>122.246651</td>\n",
       "      <td>76.742859</td>\n",
       "      <td>4884192</td>\n",
       "    </tr>\n",
       "    <tr>\n",
       "      <th>2010-08-16</th>\n",
       "      <td>121.864243</td>\n",
       "      <td>122.590820</td>\n",
       "      <td>121.376671</td>\n",
       "      <td>122.151054</td>\n",
       "      <td>76.682846</td>\n",
       "      <td>4193623</td>\n",
       "    </tr>\n",
       "    <tr>\n",
       "      <th>2010-08-17</th>\n",
       "      <td>123.164436</td>\n",
       "      <td>124.139580</td>\n",
       "      <td>122.275337</td>\n",
       "      <td>122.801147</td>\n",
       "      <td>77.090950</td>\n",
       "      <td>4496022</td>\n",
       "    </tr>\n",
       "    <tr>\n",
       "      <th>2010-08-18</th>\n",
       "      <td>123.202675</td>\n",
       "      <td>124.474190</td>\n",
       "      <td>122.179733</td>\n",
       "      <td>123.699806</td>\n",
       "      <td>77.655113</td>\n",
       "      <td>5107827</td>\n",
       "    </tr>\n",
       "    <tr>\n",
       "      <th>2010-08-19</th>\n",
       "      <td>123.011475</td>\n",
       "      <td>123.891014</td>\n",
       "      <td>122.390060</td>\n",
       "      <td>123.231361</td>\n",
       "      <td>77.361015</td>\n",
       "      <td>5650910</td>\n",
       "    </tr>\n",
       "    <tr>\n",
       "      <th>2010-08-20</th>\n",
       "      <td>123.059273</td>\n",
       "      <td>123.307838</td>\n",
       "      <td>121.376671</td>\n",
       "      <td>121.892921</td>\n",
       "      <td>76.520798</td>\n",
       "      <td>6533630</td>\n",
       "    </tr>\n",
       "    <tr>\n",
       "      <th>2010-08-23</th>\n",
       "      <td>121.959846</td>\n",
       "      <td>122.399620</td>\n",
       "      <td>120.879539</td>\n",
       "      <td>120.908218</td>\n",
       "      <td>75.902634</td>\n",
       "      <td>4219982</td>\n",
       "    </tr>\n",
       "    <tr>\n",
       "      <th>2010-08-24</th>\n",
       "      <td>119.703636</td>\n",
       "      <td>120.478012</td>\n",
       "      <td>119.091782</td>\n",
       "      <td>119.407265</td>\n",
       "      <td>74.960365</td>\n",
       "      <td>5879775</td>\n",
       "    </tr>\n",
       "    <tr>\n",
       "      <th>2010-08-25</th>\n",
       "      <td>119.091782</td>\n",
       "      <td>120.076485</td>\n",
       "      <td>118.546844</td>\n",
       "      <td>119.760994</td>\n",
       "      <td>75.182465</td>\n",
       "      <td>5476124</td>\n",
       "    </tr>\n",
       "    <tr>\n",
       "      <th>2010-08-26</th>\n",
       "      <td>120.248566</td>\n",
       "      <td>120.248566</td>\n",
       "      <td>117.380501</td>\n",
       "      <td>117.380501</td>\n",
       "      <td>73.688004</td>\n",
       "      <td>8102944</td>\n",
       "    </tr>\n",
       "    <tr>\n",
       "      <th>2010-08-27</th>\n",
       "      <td>118.384323</td>\n",
       "      <td>119.311661</td>\n",
       "      <td>117.036331</td>\n",
       "      <td>119.244743</td>\n",
       "      <td>74.858337</td>\n",
       "      <td>6500053</td>\n",
       "    </tr>\n",
       "    <tr>\n",
       "      <th>2010-08-30</th>\n",
       "      <td>119.579353</td>\n",
       "      <td>119.760994</td>\n",
       "      <td>117.973228</td>\n",
       "      <td>117.973228</td>\n",
       "      <td>74.060120</td>\n",
       "      <td>3769784</td>\n",
       "    </tr>\n",
       "    <tr>\n",
       "      <th>2010-08-31</th>\n",
       "      <td>117.887192</td>\n",
       "      <td>118.537285</td>\n",
       "      <td>116.902489</td>\n",
       "      <td>117.715103</td>\n",
       "      <td>73.898102</td>\n",
       "      <td>5882913</td>\n",
       "    </tr>\n",
       "  </tbody>\n",
       "</table>\n",
       "</div>"
      ],
      "text/plain": [
       "                  Open        High         Low       Close  Adj Close   Volume\n",
       "Date                                                                          \n",
       "2010-08-02  123.565964  125.430206  123.565964  125.009560  78.090401  6733625\n",
       "2010-08-03  124.311661  125.277245  123.642448  124.636711  77.857468  5326023\n",
       "2010-08-04  124.722755  125.717018  124.139580  125.497131  78.394951  4777605\n",
       "2010-08-05  124.980881  126.175911  124.789673  126.032501  78.729408  4728548\n",
       "2010-08-06  124.674950  124.741875  123.097511  124.416824  78.105225  6418465\n",
       "2010-08-09  125.038239  126.520073  124.665390  126.195030  79.221550  6413758\n",
       "2010-08-10  125.411087  126.663483  125.019119  126.042068  79.125511  5723398\n",
       "2010-08-11  124.942642  124.942642  123.766731  124.120461  77.919182  6606641\n",
       "2010-08-12  122.074570  123.116638  121.912048  122.657745  77.000938  5368281\n",
       "2010-08-13  122.332695  122.810707  121.730400  122.246651  76.742859  4884192\n",
       "2010-08-16  121.864243  122.590820  121.376671  122.151054  76.682846  4193623\n",
       "2010-08-17  123.164436  124.139580  122.275337  122.801147  77.090950  4496022\n",
       "2010-08-18  123.202675  124.474190  122.179733  123.699806  77.655113  5107827\n",
       "2010-08-19  123.011475  123.891014  122.390060  123.231361  77.361015  5650910\n",
       "2010-08-20  123.059273  123.307838  121.376671  121.892921  76.520798  6533630\n",
       "2010-08-23  121.959846  122.399620  120.879539  120.908218  75.902634  4219982\n",
       "2010-08-24  119.703636  120.478012  119.091782  119.407265  74.960365  5879775\n",
       "2010-08-25  119.091782  120.076485  118.546844  119.760994  75.182465  5476124\n",
       "2010-08-26  120.248566  120.248566  117.380501  117.380501  73.688004  8102944\n",
       "2010-08-27  118.384323  119.311661  117.036331  119.244743  74.858337  6500053\n",
       "2010-08-30  119.579353  119.760994  117.973228  117.973228  74.060120  3769784\n",
       "2010-08-31  117.887192  118.537285  116.902489  117.715103  73.898102  5882913"
      ]
     },
     "execution_count": 10,
     "metadata": {},
     "output_type": "execute_result"
    }
   ],
   "source": [
    "#Get me the data for August 2010\n",
    "df.loc[\"August 2010\"]\n"
   ]
  },
  {
   "cell_type": "markdown",
   "metadata": {},
   "source": [
    "<h4>Calculate percent changes</h4>\n",
    "<li>The function pct_change computes a percent change between successive rows (times in  timeseries data)\n",
    "<li>Defaults to a single time delta\n",
    "<li>With an argument, the time delta can be changed\n",
    "<li>provides nan support\n",
    "<li><a href=\"https://pandas.pydata.org/pandas-docs/stable/reference/api/pandas.DataFrame.pct_change.html\">https://pandas.pydata.org/pandas-docs/stable/reference/api/pandas.DataFrame.pct_change.html</a>"
   ]
  },
  {
   "cell_type": "code",
   "execution_count": 11,
   "metadata": {},
   "outputs": [
    {
     "data": {
      "text/plain": [
       "Date\n",
       "2000-01-03         NaN\n",
       "2000-01-04   -0.033944\n",
       "2000-01-05    0.035137\n",
       "2000-01-06   -0.017242\n",
       "2000-01-07   -0.004386\n",
       "                ...   \n",
       "2023-08-25    0.012539\n",
       "2023-08-28    0.004610\n",
       "2023-08-29    0.002945\n",
       "2023-08-30    0.002800\n",
       "2023-08-31   -0.000204\n",
       "Name: Adj Close, Length: 5954, dtype: float64"
      ]
     },
     "execution_count": 11,
     "metadata": {},
     "output_type": "execute_result"
    }
   ],
   "source": [
    "p_change = df['Adj Close'].pct_change() #One timeperiod percent change\n",
    "p_change"
   ]
  },
  {
   "cell_type": "code",
   "execution_count": 12,
   "metadata": {},
   "outputs": [
    {
     "data": {
      "text/plain": [
       "Date\n",
       "2000-01-03         NaN\n",
       "2000-01-04         NaN\n",
       "2000-01-05    0.000000\n",
       "2000-01-06    0.017289\n",
       "2000-01-07   -0.021552\n",
       "                ...   \n",
       "2023-08-25    0.013528\n",
       "2023-08-28    0.017207\n",
       "2023-08-29    0.007568\n",
       "2023-08-30    0.005753\n",
       "2023-08-31    0.002595\n",
       "Name: Adj Close, Length: 5954, dtype: float64"
      ]
     },
     "execution_count": 12,
     "metadata": {},
     "output_type": "execute_result"
    }
   ],
   "source": [
    "pct_chg_2 = df[\"Adj Close\"].pct_change(2) #two time period (t(i) - t(i-2))/t(i-2)\n",
    "pct_chg_2"
   ]
  },
  {
   "cell_type": "markdown",
   "metadata": {},
   "source": [
    "<li>Time enabled reasoning lets us reason about different segments of time</li>\n",
    "<li>The function <span style=\"color:blue\">resample</span> changes the time frame</li>\n",
    "<li><a href=\"https://pandas.pydata.org/docs/user_guide/timeseries.html#timeseries-offset-aliases\">resampling offset guide</a></li>"
   ]
  },
  {
   "cell_type": "code",
   "execution_count": 13,
   "metadata": {},
   "outputs": [
    {
     "data": {
      "text/plain": [
       "Date\n",
       "2000-01-31     62.153876\n",
       "2000-02-29     60.295907\n",
       "2000-03-31     59.400933\n",
       "2000-04-30     60.800338\n",
       "2000-05-31     57.409089\n",
       "                 ...    \n",
       "2023-04-30    125.090951\n",
       "2023-05-31    123.229954\n",
       "2023-06-30    132.396411\n",
       "2023-07-31    135.124515\n",
       "2023-08-31    143.303988\n",
       "Freq: M, Name: Adj Close, Length: 284, dtype: float64"
      ]
     },
     "execution_count": 13,
     "metadata": {},
     "output_type": "execute_result"
    }
   ],
   "source": [
    "#Get the average adjClose for each month that IBM has traded since 2000\n",
    "df[\"Adj Close\"].resample(\"M\").mean()"
   ]
  },
  {
   "cell_type": "code",
   "execution_count": 14,
   "metadata": {},
   "outputs": [
    {
     "name": "stdout",
     "output_type": "stream",
     "text": [
      "Mean daily pct chnge each month: \n",
      " Date\n",
      "2000-01-31   -0.149181\n",
      "2000-02-29   -0.411233\n",
      "2000-03-31    0.656125\n",
      "2000-04-30   -0.261360\n",
      "2000-05-31   -0.141528\n",
      "                ...   \n",
      "2023-04-30   -0.189232\n",
      "2023-05-31    0.143978\n",
      "2023-06-30    0.195450\n",
      "2023-07-31    0.377033\n",
      "2023-08-31    0.131236\n",
      "Freq: M, Name: Adj Close, Length: 284, dtype: float64\n"
     ]
    }
   ],
   "source": [
    "#Month by month averages\n",
    "#Collects daily data for each month and computes the mean daily change for that month\n",
    "print(\"Mean daily pct chnge each month: \\n\",p_change.resample('M').mean()*100.0)"
   ]
  },
  {
   "cell_type": "code",
   "execution_count": 15,
   "metadata": {},
   "outputs": [
    {
     "name": "stdout",
     "output_type": "stream",
     "text": [
      "Mean daily percent change for each year:\n",
      " Date\n",
      "2000-12-31   -0.076972\n",
      "2001-12-31    0.172010\n",
      "2002-12-31   -0.137904\n",
      "2003-12-31    0.084829\n",
      "2004-12-31    0.031867\n",
      "2005-12-31   -0.062100\n",
      "2006-12-31    0.075882\n",
      "2007-12-31    0.056432\n",
      "2008-12-31   -0.066384\n",
      "2009-12-31    0.198436\n",
      "2010-12-31    0.059158\n",
      "2011-12-31    0.106091\n",
      "2012-12-31    0.028180\n",
      "2013-12-31    0.006292\n",
      "2014-12-31   -0.046587\n",
      "2015-12-31   -0.039209\n",
      "2016-12-31    0.097013\n",
      "2017-12-31   -0.011406\n",
      "2018-12-31   -0.089686\n",
      "2019-12-31    0.092369\n",
      "2020-12-31    0.028602\n",
      "2021-12-31    0.071725\n",
      "2022-12-31    0.051501\n",
      "2023-12-31    0.051987\n",
      "Freq: A-DEC, Name: Adj Close, dtype: float64\n"
     ]
    }
   ],
   "source": [
    "#Yearly\n",
    "#Collects daily data for each year and computes the mean daily change for that year\n",
    "\n",
    "print(\"Mean daily percent change for each year:\\n\",p_change.resample('Y').mean()*100.0)"
   ]
  },
  {
   "cell_type": "code",
   "execution_count": 16,
   "metadata": {},
   "outputs": [
    {
     "name": "stdout",
     "output_type": "stream",
     "text": [
      "Mean daily percent change for each quarter:\n",
      " Date\n",
      "2000-03-31    0.000650\n",
      "2000-06-30   -0.000790\n",
      "2000-09-30    0.000689\n",
      "2000-12-31   -0.003605\n",
      "2001-03-31    0.002591\n",
      "                ...   \n",
      "2022-09-30   -0.002413\n",
      "2022-12-31    0.003021\n",
      "2023-03-31   -0.000896\n",
      "2023-06-30    0.000593\n",
      "2023-09-30    0.002456\n",
      "Freq: Q-DEC, Name: Adj Close, Length: 95, dtype: float64\n"
     ]
    }
   ],
   "source": [
    "#Quarterly\n",
    "print(\"Mean daily percent change for each quarter:\\n\",p_change.resample('Q').mean())"
   ]
  },
  {
   "cell_type": "code",
   "execution_count": 7,
   "metadata": {},
   "outputs": [
    {
     "data": {
      "text/html": [
       "<div>\n",
       "<style scoped>\n",
       "    .dataframe tbody tr th:only-of-type {\n",
       "        vertical-align: middle;\n",
       "    }\n",
       "\n",
       "    .dataframe tbody tr th {\n",
       "        vertical-align: top;\n",
       "    }\n",
       "\n",
       "    .dataframe thead th {\n",
       "        text-align: right;\n",
       "    }\n",
       "</style>\n",
       "<table border=\"1\" class=\"dataframe\">\n",
       "  <thead>\n",
       "    <tr style=\"text-align: right;\">\n",
       "      <th></th>\n",
       "      <th>Adj Close</th>\n",
       "    </tr>\n",
       "    <tr>\n",
       "      <th>Date</th>\n",
       "      <th></th>\n",
       "    </tr>\n",
       "  </thead>\n",
       "  <tbody>\n",
       "    <tr>\n",
       "      <th>2000-01-31</th>\n",
       "      <td>59.723068</td>\n",
       "    </tr>\n",
       "    <tr>\n",
       "      <th>2000-02-29</th>\n",
       "      <td>54.726097</td>\n",
       "    </tr>\n",
       "    <tr>\n",
       "      <th>2000-03-31</th>\n",
       "      <td>63.048168</td>\n",
       "    </tr>\n",
       "    <tr>\n",
       "      <th>2000-04-28</th>\n",
       "      <td>59.386444</td>\n",
       "    </tr>\n",
       "    <tr>\n",
       "      <th>2000-05-31</th>\n",
       "      <td>57.225090</td>\n",
       "    </tr>\n",
       "    <tr>\n",
       "      <th>...</th>\n",
       "      <td>...</td>\n",
       "    </tr>\n",
       "    <tr>\n",
       "      <th>2023-04-28</th>\n",
       "      <td>123.290710</td>\n",
       "    </tr>\n",
       "    <tr>\n",
       "      <th>2023-05-31</th>\n",
       "      <td>127.127045</td>\n",
       "    </tr>\n",
       "    <tr>\n",
       "      <th>2023-06-30</th>\n",
       "      <td>132.287659</td>\n",
       "    </tr>\n",
       "    <tr>\n",
       "      <th>2023-07-31</th>\n",
       "      <td>142.539673</td>\n",
       "    </tr>\n",
       "    <tr>\n",
       "      <th>2023-08-31</th>\n",
       "      <td>146.830002</td>\n",
       "    </tr>\n",
       "  </tbody>\n",
       "</table>\n",
       "<p>284 rows × 1 columns</p>\n",
       "</div>"
      ],
      "text/plain": [
       "             Adj Close\n",
       "Date                  \n",
       "2000-01-31   59.723068\n",
       "2000-02-29   54.726097\n",
       "2000-03-31   63.048168\n",
       "2000-04-28   59.386444\n",
       "2000-05-31   57.225090\n",
       "...                ...\n",
       "2023-04-28  123.290710\n",
       "2023-05-31  127.127045\n",
       "2023-06-30  132.287659\n",
       "2023-07-31  142.539673\n",
       "2023-08-31  146.830002\n",
       "\n",
       "[284 rows x 1 columns]"
      ]
     },
     "execution_count": 7,
     "metadata": {},
     "output_type": "execute_result"
    }
   ],
   "source": [
    "#Get the month end prices BM = Business Month End (similarly BQ/BY)\n",
    "#last returns the last quoted price for the business month\n",
    "#Alternatives to last: first, max, min, sum, mean\n",
    "\n",
    "df[\"Adj Close\"].resample('BM',).apply({'Adj Close':'last'})"
   ]
  },
  {
   "cell_type": "markdown",
   "metadata": {},
   "source": [
    "<h3>shift a series n-time periods</h3>\n",
    "<li>shift the series forward by 1 day</li>\n",
    "<li>and calculate the one day price change</li>"
   ]
  },
  {
   "cell_type": "code",
   "execution_count": 19,
   "metadata": {},
   "outputs": [
    {
     "data": {
      "text/plain": [
       "Date\n",
       "2000-01-03         NaN\n",
       "2000-01-04    2.094967\n",
       "2000-01-05   -2.094967\n",
       "2000-01-06    1.064129\n",
       "2000-01-07    0.266037\n",
       "                ...   \n",
       "2023-08-28         NaN\n",
       "2023-08-29   -0.429993\n",
       "2023-08-30   -0.410004\n",
       "2023-08-31    0.029999\n",
       "2023-09-01         NaN\n",
       "Name: Adj Close, Length: 7244, dtype: float64"
      ]
     },
     "execution_count": 19,
     "metadata": {},
     "output_type": "execute_result"
    }
   ],
   "source": [
    "shifted_1 = df[\"Adj Close\"].shift(1,freq='D')\n",
    "shifted_1 - df[\"Adj Close\"]"
   ]
  },
  {
   "cell_type": "markdown",
   "metadata": {},
   "source": [
    "<li>A <span style=\"color:blue\">DatetimeIndex</span> dataframe automatically treats the index as time on the x-axis</li>\n",
    "<li>Super useful for plotting data</li>"
   ]
  },
  {
   "cell_type": "code",
   "execution_count": 20,
   "metadata": {},
   "outputs": [
    {
     "data": {
      "text/plain": [
       "Date\n",
       "2000-12-31   -0.193199\n",
       "2001-12-31    0.426584\n",
       "2002-12-31   -0.347519\n",
       "2003-12-31    0.213768\n",
       "2004-12-31    0.080306\n",
       "2005-12-31   -0.156492\n",
       "2006-12-31    0.190463\n",
       "2007-12-31    0.141646\n",
       "2008-12-31   -0.167951\n",
       "2009-12-31    0.500057\n",
       "2010-12-31    0.149078\n",
       "2011-12-31    0.267349\n",
       "2012-12-31    0.070450\n",
       "2013-12-31    0.015857\n",
       "2014-12-31   -0.117400\n",
       "2015-12-31   -0.098807\n",
       "2016-12-31    0.244473\n",
       "2017-12-31   -0.028629\n",
       "2018-12-31   -0.225112\n",
       "2019-12-31    0.232769\n",
       "2020-12-31    0.072364\n",
       "2021-12-31    0.180747\n",
       "2022-12-31    0.129267\n",
       "2023-12-31    0.086818\n",
       "Freq: A-DEC, Name: Adj Close, dtype: float64"
      ]
     },
     "execution_count": 20,
     "metadata": {},
     "output_type": "execute_result"
    }
   ],
   "source": [
    "p_change.resample('Y').sum()"
   ]
  },
  {
   "cell_type": "code",
   "execution_count": 21,
   "metadata": {},
   "outputs": [
    {
     "data": {
      "text/plain": [
       "<Axes: xlabel='Date'>"
      ]
     },
     "execution_count": 21,
     "metadata": {},
     "output_type": "execute_result"
    },
    {
     "data": {
      "image/png": "[encoded data removed]",
      "text/plain": [
       "<Figure size 432x288 with 1 Axes>"
      ]
     },
     "metadata": {
      "needs_background": "light"
     },
     "output_type": "display_data"
    }
   ],
   "source": [
    "p_change.resample('Y').sum().plot()"
   ]
  },
  {
   "cell_type": "code",
   "execution_count": 23,
   "metadata": {},
   "outputs": [
    {
     "data": {
      "text/plain": [
       "Date\n",
       "2000-01-03         NaN\n",
       "2000-01-04         NaN\n",
       "2000-01-05         NaN\n",
       "2000-01-06         NaN\n",
       "2000-01-07         NaN\n",
       "                ...   \n",
       "2023-08-25    0.007626\n",
       "2023-08-28    0.024774\n",
       "2023-08-29    0.022339\n",
       "2023-08-30    0.026132\n",
       "2023-08-31    0.034670\n",
       "Name: Adj Close, Length: 5954, dtype: float64"
      ]
     },
     "execution_count": 23,
     "metadata": {},
     "output_type": "execute_result"
    }
   ],
   "source": [
    "df[\"Adj Close\"].pct_change(13)"
   ]
  },
  {
   "cell_type": "code",
   "execution_count": 24,
   "metadata": {},
   "outputs": [
    {
     "data": {
      "text/plain": [
       "0.0034428982045892906"
      ]
     },
     "execution_count": 24,
     "metadata": {},
     "output_type": "execute_result"
    }
   ],
   "source": [
    "#Nan's are ignored by aggregate functions\n",
    "n=13\n",
    "df[\"Adj Close\"].pct_change(n).mean()"
   ]
  },
  {
   "cell_type": "code",
   "execution_count": null,
   "metadata": {},
   "outputs": [],
   "source": [
    "df[\"Adj Close\"].pct_change(n)"
   ]
  },
  {
   "cell_type": "markdown",
   "metadata": {},
   "source": [
    "<h3>Rolling windows</h3>\n",
    "<li>\"rolling\" function extracts rolling windows\n",
    "<li>For example, the 21 period rolling window of the 13 period percent change "
   ]
  },
  {
   "cell_type": "code",
   "execution_count": 8,
   "metadata": {},
   "outputs": [
    {
     "data": {
      "text/plain": [
       "Date\n",
       "2000-01-03         NaN\n",
       "2000-01-04   -0.033945\n",
       "2000-01-05    0.035137\n",
       "2000-01-06   -0.017242\n",
       "2000-01-07   -0.004386\n",
       "                ...   \n",
       "2023-08-25    0.012539\n",
       "2023-08-28    0.004610\n",
       "2023-08-29    0.002945\n",
       "2023-08-30    0.002800\n",
       "2023-08-31   -0.000204\n",
       "Name: Adj Close, Length: 5954, dtype: float64"
      ]
     },
     "execution_count": 8,
     "metadata": {},
     "output_type": "execute_result"
    }
   ],
   "source": [
    "df[\"Adj Close\"].pct_change(1)"
   ]
  },
  {
   "cell_type": "code",
   "execution_count": 9,
   "metadata": {},
   "outputs": [
    {
     "data": {
      "text/plain": [
       "Rolling [window=3,center=False,axis=0,method=single]"
      ]
     },
     "execution_count": 9,
     "metadata": {},
     "output_type": "execute_result"
    }
   ],
   "source": [
    "n=3\n",
    "df[\"Adj Close\"].pct_change().rolling(n)"
   ]
  },
  {
   "cell_type": "markdown",
   "metadata": {},
   "source": [
    "<h4>Calculate something on the rolling windows</h4>"
   ]
  },
  {
   "cell_type": "markdown",
   "metadata": {},
   "source": [
    "<h4>Example: mean (the 3 day moving average of the 1 day percent change)"
   ]
  },
  {
   "cell_type": "code",
   "execution_count": 10,
   "metadata": {},
   "outputs": [
    {
     "data": {
      "text/plain": [
       "Date\n",
       "2000-01-03         NaN\n",
       "2000-01-04         NaN\n",
       "2000-01-05         NaN\n",
       "2000-01-06   -0.005350\n",
       "2000-01-07    0.004503\n",
       "                ...   \n",
       "2023-08-25    0.009028\n",
       "2023-08-28    0.006042\n",
       "2023-08-29    0.006698\n",
       "2023-08-30    0.003451\n",
       "2023-08-31    0.001847\n",
       "Name: Adj Close, Length: 5954, dtype: float64"
      ]
     },
     "execution_count": 10,
     "metadata": {},
     "output_type": "execute_result"
    }
   ],
   "source": [
    "n=3\n",
    "df[\"Adj Close\"].pct_change().rolling(n).mean()"
   ]
  },
  {
   "cell_type": "markdown",
   "metadata": {},
   "source": [
    "<h4>Or the 21 day moving average on the 5 day percent change</h4>"
   ]
  },
  {
   "cell_type": "code",
   "execution_count": 11,
   "metadata": {},
   "outputs": [
    {
     "data": {
      "text/plain": [
       "Date\n",
       "2000-01-03         NaN\n",
       "2000-01-04         NaN\n",
       "2000-01-05         NaN\n",
       "2000-01-06         NaN\n",
       "2000-01-07         NaN\n",
       "                ...   \n",
       "2023-08-25    0.007322\n",
       "2023-08-28    0.007028\n",
       "2023-08-29    0.007114\n",
       "2023-08-30    0.007241\n",
       "2023-08-31    0.007283\n",
       "Name: Adj Close, Length: 5954, dtype: float64"
      ]
     },
     "execution_count": 11,
     "metadata": {},
     "output_type": "execute_result"
    }
   ],
   "source": [
    "df[\"Adj Close\"].pct_change(5).rolling(21).mean()"
   ]
  },
  {
   "cell_type": "markdown",
   "metadata": {},
   "source": [
    "<h4>Calculate several moving averages and graph them</h4>"
   ]
  },
  {
   "cell_type": "code",
   "execution_count": 27,
   "metadata": {},
   "outputs": [],
   "source": [
    "n=1\n",
    "ma_8 = df[\"Adj Close\"].pct_change(n).rolling(window=8).mean()\n",
    "ma_13= df[\"Adj Close\"].pct_change(n).rolling(window=13).mean()\n",
    "ma_21= df[\"Adj Close\"].pct_change(n).rolling(window=21).mean()\n",
    "ma_34= df[\"Adj Close\"].pct_change(n).rolling(window=34).mean()\n",
    "ma_55= df[\"Adj Close\"].pct_change(n).rolling(window=55).mean()"
   ]
  },
  {
   "cell_type": "code",
   "execution_count": 28,
   "metadata": {},
   "outputs": [
    {
     "data": {
      "text/plain": [
       "<Axes: xlabel='Date'>"
      ]
     },
     "execution_count": 28,
     "metadata": {},
     "output_type": "execute_result"
    },
    {
     "data": {
      "image/png": "[encoded data removed]",
      "text/plain": [
       "<Figure size 432x288 with 1 Axes>"
      ]
     },
     "metadata": {
      "needs_background": "light"
     },
     "output_type": "display_data"
    }
   ],
   "source": [
    "ma_8[1:500].plot()\n",
    "ma_55[1:500].plot()"
   ]
  },
  {
   "cell_type": "code",
   "execution_count": 29,
   "metadata": {},
   "outputs": [
    {
     "data": {
      "text/plain": [
       "Date\n",
       "2000-01-03         NaN\n",
       "2000-01-04         NaN\n",
       "2000-01-05         NaN\n",
       "2000-01-06         NaN\n",
       "2000-01-07         NaN\n",
       "                ...   \n",
       "2023-08-25    0.003061\n",
       "2023-08-28    0.004721\n",
       "2023-08-29    0.005071\n",
       "2023-08-30    0.004755\n",
       "2023-08-31    0.003960\n",
       "Name: Adj Close, Length: 5954, dtype: float64"
      ]
     },
     "execution_count": 29,
     "metadata": {},
     "output_type": "execute_result"
    }
   ],
   "source": [
    "ma_8"
   ]
  },
  {
   "cell_type": "markdown",
   "metadata": {},
   "source": [
    "<h3>Numpy style boolean masks work in pandas</h3>"
   ]
  },
  {
   "cell_type": "code",
   "execution_count": 30,
   "metadata": {},
   "outputs": [
    {
     "data": {
      "text/plain": [
       "Date\n",
       "2000-01-03    False\n",
       "2000-01-04    False\n",
       "2000-01-05    False\n",
       "2000-01-06    False\n",
       "2000-01-07    False\n",
       "              ...  \n",
       "2023-08-25     True\n",
       "2023-08-28     True\n",
       "2023-08-29     True\n",
       "2023-08-30     True\n",
       "2023-08-31     True\n",
       "Name: Adj Close, Length: 5954, dtype: bool"
      ]
     },
     "execution_count": 30,
     "metadata": {},
     "output_type": "execute_result"
    }
   ],
   "source": [
    "ma_8 > 0.001"
   ]
  },
  {
   "cell_type": "code",
   "execution_count": null,
   "metadata": {},
   "outputs": [],
   "source": [
    "ma_8 > ma_13"
   ]
  },
  {
   "cell_type": "code",
   "execution_count": 31,
   "metadata": {},
   "outputs": [
    {
     "data": {
      "text/plain": [
       "0.00037198006013783227"
      ]
     },
     "execution_count": 31,
     "metadata": {},
     "output_type": "execute_result"
    }
   ],
   "source": [
    "ma_13[ma_8 > ma_13].mean()"
   ]
  },
  {
   "cell_type": "markdown",
   "metadata": {},
   "source": [
    "<h3>A simple mean reversal trading strategy</h3>\n",
    "<b>Don't try this at home!</b>\n",
    "<li>If the stock goes up more than .5% on day 1, it will go down on day 2</li>\n",
    "<li>What is the expected return from this strategy</li>"
   ]
  },
  {
   "cell_type": "code",
   "execution_count": 33,
   "metadata": {},
   "outputs": [
    {
     "data": {
      "text/plain": [
       "-0.0003008749462694257"
      ]
     },
     "execution_count": 33,
     "metadata": {},
     "output_type": "execute_result"
    }
   ],
   "source": [
    "up_days = df[\"Adj Close\"].pct_change() > 0.005  #Create the boolean mask\n",
    "trade_days = up_days.shift(1,fill_value=False)  #Replace NaNs by False\n",
    "df[\"Adj Close\"].pct_change()[trade_days].mean() #Apply the mask and get mean"
   ]
  },
  {
   "cell_type": "code",
   "execution_count": 35,
   "metadata": {},
   "outputs": [
    {
     "data": {
      "text/plain": [
       "Date\n",
       "2000-01-03    False\n",
       "2000-01-04    False\n",
       "2000-01-05    False\n",
       "2000-01-06     True\n",
       "2000-01-07    False\n",
       "              ...  \n",
       "2023-08-25    False\n",
       "2023-08-28     True\n",
       "2023-08-29    False\n",
       "2023-08-30    False\n",
       "2023-08-31    False\n",
       "Name: Adj Close, Length: 5954, dtype: bool"
      ]
     },
     "execution_count": 35,
     "metadata": {},
     "output_type": "execute_result"
    }
   ],
   "source": [
    "trade_days"
   ]
  },
  {
   "cell_type": "markdown",
   "metadata": {},
   "source": [
    "<h1>Quick analysis</h1>\n",
    "<h2>Linear regression with pandas</h2>\n",
    "<li>Example: TAN is the ticker for a solar ETF. FSLR, NEP, and SPWR are tickers of companies that build or lease solar panels. Each has a different business model. We'll use pandas to study the risk reward tradeoff between the 4 investments and also see how correlated they are</li>\n"
   ]
  },
  {
   "cell_type": "code",
   "execution_count": 36,
   "metadata": {},
   "outputs": [
    {
     "name": "stdout",
     "output_type": "stream",
     "text": [
      "[*********************100%%**********************]  4 of 4 completed\n",
      "<class 'pandas.core.frame.DataFrame'>\n",
      "DatetimeIndex: 2057 entries, 2015-07-01 to 2023-08-31\n",
      "Data columns (total 24 columns):\n",
      " #   Column             Non-Null Count  Dtype  \n",
      "---  ------             --------------  -----  \n",
      " 0   (Adj Close, FSLR)  2057 non-null   float64\n",
      " 1   (Adj Close, NEP)   2057 non-null   float64\n",
      " 2   (Adj Close, SPWR)  2057 non-null   float64\n",
      " 3   (Adj Close, TAN)   2057 non-null   float64\n",
      " 4   (Close, FSLR)      2057 non-null   float64\n",
      " 5   (Close, NEP)       2057 non-null   float64\n",
      " 6   (Close, SPWR)      2057 non-null   float64\n",
      " 7   (Close, TAN)       2057 non-null   float64\n",
      " 8   (High, FSLR)       2057 non-null   float64\n",
      " 9   (High, NEP)        2057 non-null   float64\n",
      " 10  (High, SPWR)       2057 non-null   float64\n",
      " 11  (High, TAN)        2057 non-null   float64\n",
      " 12  (Low, FSLR)        2057 non-null   float64\n",
      " 13  (Low, NEP)         2057 non-null   float64\n",
      " 14  (Low, SPWR)        2057 non-null   float64\n",
      " 15  (Low, TAN)         2057 non-null   float64\n",
      " 16  (Open, FSLR)       2057 non-null   float64\n",
      " 17  (Open, NEP)        2057 non-null   float64\n",
      " 18  (Open, SPWR)       2057 non-null   float64\n",
      " 19  (Open, TAN)        2057 non-null   float64\n",
      " 20  (Volume, FSLR)     2057 non-null   int64  \n",
      " 21  (Volume, NEP)      2057 non-null   int64  \n",
      " 22  (Volume, SPWR)     2057 non-null   int64  \n",
      " 23  (Volume, TAN)      2057 non-null   int64  \n",
      "dtypes: float64(20), int64(4)\n",
      "memory usage: 401.8 KB\n"
     ]
    }
   ],
   "source": [
    "import yfinance as yf\n",
    "\n",
    "# giving the start and end dates\n",
    "startDate = '2015-07-01'\n",
    "endDate = '2023-09-01'\n",
    "\n",
    "# setting the ticker value\n",
    "ticker_list = ['FSLR', 'TAN','NEP','SPWR']\n",
    "\n",
    "# downloading the data of the ticker value between\n",
    "# the start and end dates\n",
    "df = yf.download(ticker_list, startDate, endDate)\n",
    "\n",
    "df.info()"
   ]
  },
  {
   "cell_type": "code",
   "execution_count": 37,
   "metadata": {},
   "outputs": [
    {
     "data": {
      "text/html": [
       "<div>\n",
       "<style scoped>\n",
       "    .dataframe tbody tr th:only-of-type {\n",
       "        vertical-align: middle;\n",
       "    }\n",
       "\n",
       "    .dataframe tbody tr th {\n",
       "        vertical-align: top;\n",
       "    }\n",
       "\n",
       "    .dataframe thead th {\n",
       "        text-align: right;\n",
       "    }\n",
       "</style>\n",
       "<table border=\"1\" class=\"dataframe\">\n",
       "  <thead>\n",
       "    <tr style=\"text-align: right;\">\n",
       "      <th></th>\n",
       "      <th>FSLR</th>\n",
       "      <th>NEP</th>\n",
       "      <th>SPWR</th>\n",
       "      <th>TAN</th>\n",
       "    </tr>\n",
       "    <tr>\n",
       "      <th>Date</th>\n",
       "      <th></th>\n",
       "      <th></th>\n",
       "      <th></th>\n",
       "      <th></th>\n",
       "    </tr>\n",
       "  </thead>\n",
       "  <tbody>\n",
       "    <tr>\n",
       "      <th>2015-07-01</th>\n",
       "      <td>46.040001</td>\n",
       "      <td>27.814241</td>\n",
       "      <td>18.271120</td>\n",
       "      <td>35.404461</td>\n",
       "    </tr>\n",
       "    <tr>\n",
       "      <th>2015-07-02</th>\n",
       "      <td>45.169998</td>\n",
       "      <td>27.885338</td>\n",
       "      <td>18.002621</td>\n",
       "      <td>35.140114</td>\n",
       "    </tr>\n",
       "    <tr>\n",
       "      <th>2015-07-06</th>\n",
       "      <td>44.189999</td>\n",
       "      <td>27.736023</td>\n",
       "      <td>17.570398</td>\n",
       "      <td>33.152939</td>\n",
       "    </tr>\n",
       "    <tr>\n",
       "      <th>2015-07-07</th>\n",
       "      <td>45.119999</td>\n",
       "      <td>28.511013</td>\n",
       "      <td>17.675180</td>\n",
       "      <td>32.906818</td>\n",
       "    </tr>\n",
       "    <tr>\n",
       "      <th>2015-07-08</th>\n",
       "      <td>43.270000</td>\n",
       "      <td>28.475462</td>\n",
       "      <td>17.039948</td>\n",
       "      <td>30.691763</td>\n",
       "    </tr>\n",
       "    <tr>\n",
       "      <th>...</th>\n",
       "      <td>...</td>\n",
       "      <td>...</td>\n",
       "      <td>...</td>\n",
       "      <td>...</td>\n",
       "    </tr>\n",
       "    <tr>\n",
       "      <th>2023-08-25</th>\n",
       "      <td>177.449997</td>\n",
       "      <td>48.299999</td>\n",
       "      <td>6.950000</td>\n",
       "      <td>56.169998</td>\n",
       "    </tr>\n",
       "    <tr>\n",
       "      <th>2023-08-28</th>\n",
       "      <td>176.759995</td>\n",
       "      <td>48.619999</td>\n",
       "      <td>6.850000</td>\n",
       "      <td>56.480000</td>\n",
       "    </tr>\n",
       "    <tr>\n",
       "      <th>2023-08-29</th>\n",
       "      <td>181.610001</td>\n",
       "      <td>50.689999</td>\n",
       "      <td>7.410000</td>\n",
       "      <td>58.720001</td>\n",
       "    </tr>\n",
       "    <tr>\n",
       "      <th>2023-08-30</th>\n",
       "      <td>184.960007</td>\n",
       "      <td>50.000000</td>\n",
       "      <td>7.240000</td>\n",
       "      <td>58.279999</td>\n",
       "    </tr>\n",
       "    <tr>\n",
       "      <th>2023-08-31</th>\n",
       "      <td>189.119995</td>\n",
       "      <td>49.880001</td>\n",
       "      <td>7.160000</td>\n",
       "      <td>58.230000</td>\n",
       "    </tr>\n",
       "  </tbody>\n",
       "</table>\n",
       "<p>2057 rows × 4 columns</p>\n",
       "</div>"
      ],
      "text/plain": [
       "                  FSLR        NEP       SPWR        TAN\n",
       "Date                                                   \n",
       "2015-07-01   46.040001  27.814241  18.271120  35.404461\n",
       "2015-07-02   45.169998  27.885338  18.002621  35.140114\n",
       "2015-07-06   44.189999  27.736023  17.570398  33.152939\n",
       "2015-07-07   45.119999  28.511013  17.675180  32.906818\n",
       "2015-07-08   43.270000  28.475462  17.039948  30.691763\n",
       "...                ...        ...        ...        ...\n",
       "2023-08-25  177.449997  48.299999   6.950000  56.169998\n",
       "2023-08-28  176.759995  48.619999   6.850000  56.480000\n",
       "2023-08-29  181.610001  50.689999   7.410000  58.720001\n",
       "2023-08-30  184.960007  50.000000   7.240000  58.279999\n",
       "2023-08-31  189.119995  49.880001   7.160000  58.230000\n",
       "\n",
       "[2057 rows x 4 columns]"
      ]
     },
     "execution_count": 37,
     "metadata": {},
     "output_type": "execute_result"
    }
   ],
   "source": [
    "df[\"Adj Close\"]"
   ]
  },
  {
   "cell_type": "code",
   "execution_count": 38,
   "metadata": {},
   "outputs": [],
   "source": [
    "solar_df = df[\"Adj Close\"]\n"
   ]
  },
  {
   "cell_type": "markdown",
   "metadata": {},
   "source": [
    "<h4>Let's calculate returns (the 1 day percent change)</h4>"
   ]
  },
  {
   "cell_type": "code",
   "execution_count": 39,
   "metadata": {},
   "outputs": [
    {
     "name": "stdout",
     "output_type": "stream",
     "text": [
      "                FSLR       NEP      SPWR       TAN\n",
      "Date                                              \n",
      "2015-07-01       NaN       NaN       NaN       NaN\n",
      "2015-07-02 -0.018897  0.002556 -0.014695 -0.007466\n",
      "2015-07-06 -0.021696 -0.005355 -0.024009 -0.056550\n",
      "2015-07-07  0.021045  0.027942  0.005964 -0.007424\n",
      "2015-07-08 -0.041002 -0.001247 -0.035939 -0.067313\n",
      "...              ...       ...       ...       ...\n",
      "2023-08-25  0.017372  0.021142  0.007246  0.012072\n",
      "2023-08-28 -0.003888  0.006625 -0.014388  0.005519\n",
      "2023-08-29  0.027438  0.042575  0.081752  0.039660\n",
      "2023-08-30  0.018446 -0.013612 -0.022942 -0.007493\n",
      "2023-08-31  0.022491 -0.002400 -0.011050 -0.000858\n",
      "\n",
      "[2057 rows x 4 columns]\n"
     ]
    }
   ],
   "source": [
    "rets = solar_df.pct_change()\n",
    "print(rets)"
   ]
  },
  {
   "cell_type": "markdown",
   "metadata": {},
   "source": [
    "<h4>Let's visualize the relationship between each stock and the ETF</h4>"
   ]
  },
  {
   "cell_type": "code",
   "execution_count": 40,
   "metadata": {},
   "outputs": [
    {
     "data": {
      "text/plain": [
       "<matplotlib.collections.PathCollection at 0x7f82f1412d00>"
      ]
     },
     "execution_count": 40,
     "metadata": {},
     "output_type": "execute_result"
    },
    {
     "data": {
      "image/png": "[encoded data removed]",
      "text/plain": [
       "<Figure size 432x288 with 1 Axes>"
      ]
     },
     "metadata": {
      "needs_background": "light"
     },
     "output_type": "display_data"
    }
   ],
   "source": [
    "import matplotlib.pyplot as plt\n",
    "plt.scatter(rets.FSLR,rets.TAN)"
   ]
  },
  {
   "cell_type": "code",
   "execution_count": 41,
   "metadata": {},
   "outputs": [
    {
     "data": {
      "text/plain": [
       "<matplotlib.collections.PathCollection at 0x7f82f1328ee0>"
      ]
     },
     "execution_count": 41,
     "metadata": {},
     "output_type": "execute_result"
    },
    {
     "data": {
      "image/png": "[encoded data removed]",
      "text/plain": [
       "<Figure size 432x288 with 1 Axes>"
      ]
     },
     "metadata": {
      "needs_background": "light"
     },
     "output_type": "display_data"
    }
   ],
   "source": [
    "plt.scatter(rets.NEP,rets.TAN)"
   ]
  },
  {
   "cell_type": "code",
   "execution_count": 42,
   "metadata": {},
   "outputs": [
    {
     "data": {
      "text/plain": [
       "<matplotlib.collections.PathCollection at 0x7f82f133eaf0>"
      ]
     },
     "execution_count": 42,
     "metadata": {},
     "output_type": "execute_result"
    },
    {
     "data": {
      "image/png": "[encoded data removed]",
      "text/plain": [
       "<Figure size 432x288 with 1 Axes>"
      ]
     },
     "metadata": {
      "needs_background": "light"
     },
     "output_type": "display_data"
    }
   ],
   "source": [
    "plt.scatter(rets.SPWR,rets.TAN)"
   ]
  },
  {
   "cell_type": "markdown",
   "metadata": {},
   "source": [
    "<h4>The correlation matrix</h4>"
   ]
  },
  {
   "cell_type": "code",
   "execution_count": 43,
   "metadata": {},
   "outputs": [
    {
     "name": "stdout",
     "output_type": "stream",
     "text": [
      "          FSLR       NEP      SPWR       TAN\n",
      "FSLR  1.000000  0.299694  0.627187  0.689243\n",
      "NEP   0.299694  1.000000  0.319718  0.459482\n",
      "SPWR  0.627187  0.319718  1.000000  0.751346\n",
      "TAN   0.689243  0.459482  0.751346  1.000000\n"
     ]
    }
   ],
   "source": [
    "solar_corr = rets.corr()\n",
    "print(solar_corr)"
   ]
  },
  {
   "cell_type": "markdown",
   "metadata": {},
   "source": [
    "<h3>Basic risk analysis</h3>\n",
    "<h4>We'll plot the mean and std or returns for each ticker to get a sense of the risk return profile</h4>\n",
    "<li>And add labels and formatting to each (mean,std) pair for readability</li>\n",
    "<li>See <a href=\"https://matplotlib.org/3.3.2/api/_as_gen/matplotlib.pyplot.annotate.html\">matplotlib annotate</a></li>"
   ]
  },
  {
   "cell_type": "code",
   "execution_count": 44,
   "metadata": {},
   "outputs": [
    {
     "data": {
      "text/plain": [
       "Text(0, 0.5, 'Standard deviations')"
      ]
     },
     "execution_count": 44,
     "metadata": {},
     "output_type": "execute_result"
    },
    {
     "data": {
      "image/png": "[encoded data removed]",
      "text/plain": [
       "<Figure size 432x288 with 1 Axes>"
      ]
     },
     "metadata": {
      "needs_background": "light"
     },
     "output_type": "display_data"
    }
   ],
   "source": [
    "plt.scatter(rets.mean(), rets.std())\n",
    "plt.xlabel('Expected returns')\n",
    "plt.ylabel('Standard deviations')\n"
   ]
  },
  {
   "cell_type": "code",
   "execution_count": 45,
   "metadata": {},
   "outputs": [
    {
     "data": {
      "image/png": "[encoded data removed]",
      "text/plain": [
       "<Figure size 432x288 with 1 Axes>"
      ]
     },
     "metadata": {
      "needs_background": "light"
     },
     "output_type": "display_data"
    }
   ],
   "source": [
    "plt.scatter(rets.mean(), rets.std())\n",
    "plt.xlabel('Expected returns')\n",
    "plt.ylabel('Standard deviations')\n",
    "for label, x, y in zip(rets.columns, rets.mean(), rets.std()):\n",
    "    plt.annotate(\n",
    "        label,                                                        #annotation text\n",
    "        xy = (x, y),                                                  #point being annotated\n",
    "        xytext = (20, -30),\n",
    "        textcoords = 'offset points',                                 #text coord fmt (offset points from xy)\n",
    "        ha = 'right',                                                 #horizontal alignment\n",
    "        va = 'bottom',                                                #vertical alignment\n",
    "        bbox = dict(boxstyle = 'round,pad=0.5', fc = 'yellow', alpha = 0.5),  #A yellow box around the text\n",
    "        arrowprops = dict(arrowstyle = '->', connectionstyle = 'arc3,rad=0')) #arrow to the box\n",
    "plt.show()\n"
   ]
  },
  {
   "cell_type": "markdown",
   "metadata": {},
   "source": [
    "<h2>Regressions</h2>\n",
    "<li><a href=\"https://www.statsmodels.org/stable/api.html\">statsmodels</a> is a python library for estimating different statistical models</li>\n",
    "<li>We'll use the <a href=\"https://www.statsmodels.org/stable/generated/statsmodels.regression.linear_model.OLS.html#statsmodels.regression.linear_model.OLS\">OLS</a> package to run a linear regression with daily returns on the ETF as the dependent variable and daily returns on the component stocks as independent variables</li> \n"
   ]
  },
  {
   "cell_type": "markdown",
   "metadata": {},
   "source": [
    "<h3>Steps for regression</h3>\n",
    "<li>Construct y (dependent variable series)\n",
    "<li>Construct matrix (dataframe) of X (independent variable series)\n",
    "<li>Add intercept\n",
    "<li>Model the regression\n",
    "<li>Get the results\n",
    "<h3>The statsmodels library contains various regression packages. We'll use the OLS (Ordinary Least Squares) model"
   ]
  },
  {
   "cell_type": "code",
   "execution_count": null,
   "metadata": {},
   "outputs": [],
   "source": [
    "rets = solar_df.pct_change()\n",
    "rets"
   ]
  },
  {
   "cell_type": "code",
   "execution_count": 46,
   "metadata": {},
   "outputs": [
    {
     "data": {
      "text/plain": [
       "'0.14.0'"
      ]
     },
     "execution_count": 46,
     "metadata": {},
     "output_type": "execute_result"
    }
   ],
   "source": [
    "import statsmodels\n",
    "statsmodels.__version__"
   ]
  },
  {
   "cell_type": "code",
   "execution_count": null,
   "metadata": {},
   "outputs": [],
   "source": [
    "!pip install statsmodels --upgrade"
   ]
  },
  {
   "cell_type": "code",
   "execution_count": 47,
   "metadata": {},
   "outputs": [
    {
     "name": "stdout",
     "output_type": "stream",
     "text": [
      "                            OLS Regression Results                            \n",
      "==============================================================================\n",
      "Dep. Variable:                    TAN   R-squared:                       0.681\n",
      "Model:                            OLS   Adj. R-squared:                  0.681\n",
      "Method:                 Least Squares   F-statistic:                     1461.\n",
      "Date:                Wed, 20 Sep 2023   Prob (F-statistic):               0.00\n",
      "Time:                        15:53:22   Log-Likelihood:                 5937.6\n",
      "No. Observations:                2056   AIC:                        -1.187e+04\n",
      "Df Residuals:                    2052   BIC:                        -1.184e+04\n",
      "Df Model:                           3                                         \n",
      "Covariance Type:            nonrobust                                         \n",
      "==============================================================================\n",
      "                 coef    std err          t      P>|t|      [0.025      0.975]\n",
      "------------------------------------------------------------------------------\n",
      "const      -2.543e-05      0.000     -0.085      0.932      -0.001       0.001\n",
      "FSLR           0.2558      0.013     20.141      0.000       0.231       0.281\n",
      "NEP            0.2182      0.014     15.688      0.000       0.191       0.246\n",
      "SPWR           0.2552      0.009     29.559      0.000       0.238       0.272\n",
      "==============================================================================\n",
      "Omnibus:                      134.311   Durbin-Watson:                   1.912\n",
      "Prob(Omnibus):                  0.000   Jarque-Bera (JB):              614.470\n",
      "Skew:                           0.022   Prob(JB):                    3.71e-134\n",
      "Kurtosis:                       5.678   Cond. No.                         48.5\n",
      "==============================================================================\n",
      "\n",
      "Notes:\n",
      "[1] Standard Errors assume that the covariance matrix of the errors is correctly specified.\n"
     ]
    }
   ],
   "source": [
    "import numpy as np\n",
    "import statsmodels.api as sm\n",
    "X=rets[['FSLR','NEP','SPWR']] #The independent variables data\n",
    "X = sm.add_constant(X) #Add a constant (alpha)\n",
    "y=rets['TAN'] #The dependent variable\n",
    "model = sm.OLS(y,X,missing='drop') #Build the model (drop missing values)\n",
    "result = model.fit() #fit the data to the model\n",
    "print(result.summary()) #Print the results"
   ]
  },
  {
   "cell_type": "markdown",
   "metadata": {},
   "source": [
    "<h4>If we want, plot the fitted line with the actual y values"
   ]
  },
  {
   "cell_type": "code",
   "execution_count": 48,
   "metadata": {},
   "outputs": [
    {
     "data": {
      "text/plain": [
       "[<matplotlib.lines.Line2D at 0x7f82f1cad7c0>]"
      ]
     },
     "execution_count": 48,
     "metadata": {},
     "output_type": "execute_result"
    },
    {
     "data": {
      "image/png": "[encoded data removed]",
      "text/plain": [
       "<Figure size 576x432 with 1 Axes>"
      ]
     },
     "metadata": {
      "needs_background": "light"
     },
     "output_type": "display_data"
    }
   ],
   "source": [
    "fig, ax = plt.subplots(figsize=(8,6))\n",
    "ax.plot(y[:100])\n",
    "ax.plot(result.fittedvalues[:100])"
   ]
  },
  {
   "cell_type": "code",
   "execution_count": null,
   "metadata": {},
   "outputs": [],
   "source": []
  }
 ],
 "metadata": {
  "kernelspec": {
   "display_name": "Python 3 (ipykernel)",
   "language": "python",
   "name": "python3"
  },
  "language_info": {
   "codemirror_mode": {
    "name": "ipython",
    "version": 3
   },
   "file_extension": ".py",
   "mimetype": "text/x-python",
   "name": "python",
   "nbconvert_exporter": "python",
   "pygments_lexer": "ipython3",
   "version": "3.9.12"
  },
  "toc": {
   "base_numbering": 1,
   "nav_menu": {},
   "number_sections": true,
   "sideBar": true,
   "skip_h1_title": false,
   "title_cell": "Table of Contents",
   "title_sidebar": "Contents",
   "toc_cell": false,
   "toc_position": {},
   "toc_section_display": true,
   "toc_window_display": false
  }
 },
 "nbformat": 4,
 "nbformat_minor": 2
}
