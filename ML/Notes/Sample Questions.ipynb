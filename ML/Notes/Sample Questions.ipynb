{
 "cells": [
  {
   "cell_type": "raw",
   "id": "0553d03d",
   "metadata": {},
   "source": [
    "SAMPLE QUESTION 1\n",
    "\n",
    "Consider the following numpy array:\n",
    "\n",
    "ax = np.array([[11, 12, 13, 14, 15],\n",
    "       [21, 22, 23, 24, 25],\n",
    "       [31, 32, 33, 34, 35],\n",
    "       [41,42,43,44,45]])\n",
    "A. Extract the following subarray from ax\n",
    "\n",
    "array([[23, 42],\n",
    "       [34, 31]])\n",
    "B. Calculate the row sums and the column sums for ax\n",
    "\n",
    " \n",
    "\n",
    "C. Extract 4 random values from ax into an array, without replacement. You can use np.random.choice for this (google the function documentation!)"
   ]
  },
  {
   "cell_type": "code",
   "execution_count": 1,
   "id": "ebaa926d",
   "metadata": {},
   "outputs": [
    {
     "data": {
      "text/plain": [
       "array([[23, 42],\n",
       "       [34, 31]])"
      ]
     },
     "execution_count": 1,
     "metadata": {},
     "output_type": "execute_result"
    }
   ],
   "source": [
    "#SOLUTION A.\n",
    "\n",
    "import numpy as np\n",
    "ax = np.array([[11, 12, 13, 14, 15],\n",
    "       [21, 22, 23, 24, 25],\n",
    "       [31, 32, 33, 34, 35],\n",
    "       [41,42,43,44,45]])\n",
    "\n",
    "rows = [[1,3],[2,2]]\n",
    "cols = [[2,1],[3,0]]\n",
    "ax[rows,cols]"
   ]
  },
  {
   "cell_type": "code",
   "execution_count": 2,
   "id": "6e718b09",
   "metadata": {},
   "outputs": [
    {
     "data": {
      "text/plain": [
       "array([[23, 42],\n",
       "       [34, 31]])"
      ]
     },
     "execution_count": 2,
     "metadata": {},
     "output_type": "execute_result"
    }
   ],
   "source": [
    "np.array([\n",
    "    [ax[1,2],ax[3,1]],\n",
    "    [ax[2,3],ax[2,0]]\n",
    "])"
   ]
  },
  {
   "cell_type": "code",
   "execution_count": 3,
   "id": "a9af0bd0",
   "metadata": {},
   "outputs": [
    {
     "name": "stdout",
     "output_type": "stream",
     "text": [
      "[104 108 112 116 120]\n",
      "[ 65 115 165 215]\n"
     ]
    }
   ],
   "source": [
    "#SOLUTION B.\n",
    "#column sums: \n",
    "print(ax.sum(axis=0))\n",
    "#row sums: \n",
    "print(ax.sum(axis=1))"
   ]
  },
  {
   "cell_type": "code",
   "execution_count": 4,
   "id": "004b710e",
   "metadata": {},
   "outputs": [
    {
     "data": {
      "text/plain": [
       "array([45, 14, 41, 23])"
      ]
     },
     "execution_count": 4,
     "metadata": {},
     "output_type": "execute_result"
    }
   ],
   "source": [
    "#SOLUTION C\n",
    "ax.reshape(ax.size)[np.random.choice(ax.size,4,replace=False)]"
   ]
  },
  {
   "cell_type": "code",
   "execution_count": 5,
   "id": "b8aadc1c",
   "metadata": {},
   "outputs": [
    {
     "data": {
      "text/plain": [
       "array([12, 25, 33, 45])"
      ]
     },
     "execution_count": 5,
     "metadata": {},
     "output_type": "execute_result"
    }
   ],
   "source": [
    "np.array(\n",
    "    [\n",
    "        np.random.choice(ax[0]),\n",
    "        np.random.choice(ax[1]),\n",
    "        np.random.choice(ax[2]),\n",
    "        np.random.choice(ax[3])\n",
    "    ]\n",
    ")"
   ]
  },
  {
   "cell_type": "raw",
   "id": "2ec4f05d",
   "metadata": {},
   "source": [
    "SAMPLE QUESTION 2\n",
    "\n",
    "In this question we will compare the return from two different trading strategies:\n",
    "\n",
    "Strategy 1: Buy $10,000 worth shares of AAPL on the day after its IPO. Then, at the end of each year, adjust the holding to exactly $10,000 regardless of whether the value is higher or lower than $10,000. \n",
    "\n",
    "Strategy 2: Buy $10,000 worth shares of AAPL on the day after its IPO and hold it without making any adjustments. \n",
    "\n",
    "STEPS:\n",
    "\n",
    "1. Read the price file (use pd.read_csv)\n",
    "2. Resample the data annually (use Business Year and \"last\")\n",
    "3. Calculate year over year percent change (use pct_change)\n",
    "4. Calculate yearly profit for strategy 1 (multiply pct_change by 10000)\n",
    "5. Calculate total profit for strategy 1 (sum the column)\n",
    "6. Calculate total profit for strategy 2 (last price - first price) * 10000\n",
    "7. Which gave a better profit? "
   ]
  },
  {
   "cell_type": "code",
   "execution_count": 58,
   "id": "aa18fd70",
   "metadata": {},
   "outputs": [
    {
     "data": {
      "text/plain": [
       "(145806.7026266998, 1727619.62)"
      ]
     },
     "execution_count": 58,
     "metadata": {},
     "output_type": "execute_result"
    }
   ],
   "source": [
    "import pandas as pd\n",
    "# 1\n",
    "price_file = \"AAPL_prices.csv\"\n",
    "# 2\n",
    "data = pd.read_csv(price_file,index_col='Date',parse_dates=True)\n",
    "# 3\n",
    "data = data['Adj Close'].resample(\"BY\").apply({'Adj Close':'last'})\n",
    "# 4\n",
    "data['y2y_change'] = data['Adj Close'].pct_change()\n",
    "# 5\n",
    "data['profit'] = data['y2y_change']*10000\n",
    "# 6\n",
    "strat_1 = data['profit'].sum()\n",
    "# 7\n",
    "strat_2 = (data['Adj Close'].values[-1]-data['Adj Close'].values[0]) * 10000\n",
    "\n",
    "strat_1,strat_2\n"
   ]
  },
  {
   "cell_type": "code",
   "execution_count": 30,
   "id": "9e06d9d7",
   "metadata": {},
   "outputs": [
    {
     "name": "stdout",
     "output_type": "stream",
     "text": [
      "145806.7026266998 1727619.62\n"
     ]
    }
   ],
   "source": [
    "import pandas as pd\n",
    "import numpy as np\n",
    "price_file = \"AAPL_prices.csv\"\n",
    "df = pd.read_csv(price_file,index_col=\"Date\",parse_dates=True)\n",
    "df_year = df[\"Adj Close\"].resample(\"BY\").apply({\"Adj Close\":\"last\"})\n",
    "df_year['pct_change'] = df_year[\"Adj Close\"].pct_change()\n",
    "df_year[\"profit\"] = 10000*df_year[\"pct_change\"]\n",
    "buy_and_sell_profit = df_year[\"profit\"].sum()\n",
    "last = df_year[\"Adj Close\"].iloc[-1]\n",
    "first = df_year[\"Adj Close\"].iloc[0]\n",
    "profit = (last-first)*10000\n",
    "buy_and_hold_profit = (last-first)*10000\n",
    "\n",
    "print(buy_and_sell_profit,buy_and_hold_profit)"
   ]
  },
  {
   "cell_type": "raw",
   "id": "879394b4",
   "metadata": {},
   "source": [
    "SAMPLE QUESTION 3\n",
    "\n",
    "An API returns a JSON object containing loan data from a remote web server. The data contains the names of borrowers and the amounts they've borrowed on each loan. Write a function biggest_debtor that takes this JSON object as an argument and returns the name and dollar value of the person who has taken the largest dollar value in loans. \n",
    "\n",
    "Your program must first construct a dataframe from the json object and then figure out the person who owes the most. Remember, no for loops!\n",
    "\n",
    "Example of what the server returns:\n",
    "\n",
    "data_from_api = {\"NUM_ACCESSES\": 17,\n",
    "\"RESULT\": [{\"Amount\": 300000, \"LoanId\": \"001\", \"Name\": \"John\"},\n",
    "{\"Amount\": \"40000\", \"LoanId\": \"002\", \"Name\": \"Jill\"},\n",
    "{\"Amount\": \"240000\", \"LoanId\": \"003\", \"Name\": \"John\"},\n",
    "{\"Amount\": \"480000\", \"LoanId\": \"004\", \"Name\": \"Qing\"},\n",
    "{\"Amount\": \"120000\", \"LoanId\": \"005\", \"Name\": \"Jill\"}],\n",
    "\"STATUS\": \"OK\"}\n",
    "\n",
    "\n",
    "For this sample, your function should return:\n",
    "\n",
    "('John', 540000)\n"
   ]
  },
  {
   "cell_type": "raw",
   "id": "ba461b9c",
   "metadata": {},
   "source": [
    "# convert to dataframe \n",
    "data = pd.DataFrame(data = data_from_api['RESULT'])\n",
    "# convert string to int\n",
    "data['Amount'] = data['Amount'].astype(int)\n",
    "# group by name, aggregate by amount\n",
    "name = data.GroupBy('Name').agg({'Amount':['sum']}).idxmax()\n",
    "amnt = data.GroupBy('Name').agg({'Amount':['sum']}).max()\n",
    "(name,amnt)\n"
   ]
  },
  {
   "cell_type": "code",
   "execution_count": 59,
   "id": "0fb3a81e",
   "metadata": {},
   "outputs": [
    {
     "data": {
      "text/plain": [
       "('John', 540000)"
      ]
     },
     "execution_count": 59,
     "metadata": {},
     "output_type": "execute_result"
    }
   ],
   "source": [
    "#SOLUTION\n",
    "\n",
    "data_from_api = {\"NUM_ACCESSES\": 17,\n",
    "\"RESULT\": [{\"Amount\": 300000, \"LoanId\": \"001\", \"Name\": \"John\"},\n",
    "{\"Amount\": \"40000\", \"LoanId\": \"002\", \"Name\": \"Jill\"},\n",
    "{\"Amount\": \"240000\", \"LoanId\": \"003\", \"Name\": \"John\"},\n",
    "{\"Amount\": \"480000\", \"LoanId\": \"004\", \"Name\": \"Qing\"},\n",
    "{\"Amount\": \"120000\", \"LoanId\": \"005\", \"Name\": \"Jill\"}],\n",
    "\"STATUS\": \"OK\"}\n",
    "\n",
    "def biggest_debtor(data_from_api):\n",
    "    import pandas as pd\n",
    "    df = pd.DataFrame(data_from_api['RESULT'])\n",
    "    df['Amount'] = df['Amount'].astype(int)\n",
    "    grouping = df.groupby('Name')\n",
    "    name = grouping.sum().idxmax()['Amount']\n",
    "    dollars = grouping.sum().max()['Amount']\n",
    "    return (name,dollars)\n",
    "\n",
    "biggest_debtor(data_from_api)"
   ]
  },
  {
   "cell_type": "code",
   "execution_count": 62,
   "id": "1d71de6b",
   "metadata": {},
   "outputs": [
    {
     "name": "stderr",
     "output_type": "stream",
     "text": [
      "/var/folders/6_/yxmrw5t52wjdhykxp81bsgjw0000gn/T/ipykernel_39981/140634211.py:6: FutureWarning: Series.__getitem__ treating keys as positions is deprecated. In a future version, integer keys will always be treated as labels (consistent with DataFrame behavior). To access a value by position, use `ser.iloc[pos]`\n",
      "  name = data.groupby('Name').agg({'Amount':['sum']}).idxmax()[0]\n"
     ]
    },
    {
     "data": {
      "text/plain": [
       "('John', 540000)"
      ]
     },
     "execution_count": 62,
     "metadata": {},
     "output_type": "execute_result"
    }
   ],
   "source": [
    "# convert to dataframe \n",
    "data = pd.DataFrame(data = data_from_api['RESULT'])\n",
    "# convert string to int\n",
    "data['Amount'] = data['Amount'].astype('int')\n",
    "# group by name, aggregate by amount\n",
    "name = data.groupby('Name').agg({'Amount':['sum']}).idxmax().values[0]\n",
    "amnt = data.groupby('Name').agg({'Amount':['sum']}).max().values[0]\n",
    "(name,amnt)"
   ]
  },
  {
   "cell_type": "raw",
   "id": "6946313c",
   "metadata": {},
   "source": [
    "SAMPLE QUESTION 4\n",
    "\n",
    "A program contains an n x 6 numpy array with data collected from a csv file. Additional data is available from a website and the n x 6 array needs to be extended to include this additional data. On the website, the data sits in an html object with the following structure:\n",
    "\n",
    "html_text = \"\"\"\n",
    "<div class=\"bg\" id=\"barg\">\n",
    "    <span class=\"big\">List of links to follow</span>\n",
    "    <span class=\"small\">no disclaimers</span>\n",
    "    <div class=\"bg\" id=\"list\">\n",
    "        <li class=\"main\"><a href=\"http://www.linksdb.com/links.html\"></a></li>\n",
    "        <li class=\"main\"><a href=\"http://www.linksdb.com/link1.html\">1,7,3,9,2,11</a></li>\n",
    "        <li class=\"main\"><a href=\"http://www.linksdb.com/links.html\"></a></li>\n",
    "        <li class=\"main\"><a href=\"http://www.linksdb.com/link2.html\">3,5,3,4,6,7</a></li>\n",
    "        ... many more lines of data in the same format (two <li> tags for each item) ...\n",
    "    </div>\n",
    "</div>\n",
    "\"\"\"\n",
    "\n",
    "Assuming that the html snippet above has already been collected and stored in the variable html_text, write a function - append_data - that takes two arguments - the original np array and the html_text snippet, and returns a new np array with the data from html_text appended to the bottom of the original array. For example, if:\n",
    "\n",
    "ax = np.array([[1,2,3,4,5,6],[3,2,4,5,2,3]],dtype='float')\n",
    "\n",
    "is the original array, and html_text contains only the two additional data lines as in the example above, your function should return:\n",
    "\n",
    "array([[ 1.,  2.,  3.,  4.,  5.,  6.],\n",
    "       [ 3.,  2.,  4.,  5.,  2.,  3.],\n",
    "       [ 1.,  7.,  3.,  9.,  2., 11.],\n",
    "       [ 3.,  5.,  3.,  4.,  6.,  7.]])\n",
    "       \n",
    "Use the function np.append for this question\n"
   ]
  },
  {
   "cell_type": "raw",
   "id": "f2d6740f",
   "metadata": {},
   "source": [
    "def add_data(array,html_text):\n",
    "    import bs4 \n",
    "    # turn html response into somehting we can parse\n",
    "    soup = BeautifulSoup(html_text)\n",
    "    # isolate the div container that has all of our data (alt we canuse the find all div and then index the last response\n",
    "    div_container = soup.find(\"div\",id=\"list\")\n",
    "\n",
    "    # now we have to loop over the li's in our div container to get the data\n",
    "    for li in div_container.find_all(\"li\"):\n",
    "        # if the data is non empty add to list\n",
    "        if len(li.get_text())>0:\n"
   ]
  },
  {
   "cell_type": "code",
   "execution_count": null,
   "id": "d78c94bd",
   "metadata": {},
   "outputs": [],
   "source": [
    "#SOLUTION\n",
    "\n",
    "import numpy as np\n",
    "def append_data(ax,html_text):\n",
    "    from bs4 import BeautifulSoup\n",
    "    import numpy as np\n",
    "    soup = BeautifulSoup(html_text,\"lxml\")\n",
    "    items = soup.find('div',{'id':'list'}).find_all('li')\n",
    "    for thing in range(1,len(items),2):\n",
    "        text = items[thing].find('a').get_text()\n",
    "        nums = [[float(x) for x in text.split(',')]]\n",
    "        try:\n",
    "            ax = np.append(ax,nums,axis=0)\n",
    "        except:\n",
    "            continue\n",
    "    return ax\n",
    "\n",
    "ax = np.array([[1,2,3,4,5,6],[3,2,4,5,2,3]],dtype='float')\n",
    "html_text = \"\"\"\n",
    "<div class=\"bg\" id=\"barg\">\n",
    "    <span class=\"big\">List of links to follow</span>\n",
    "    <span class=\"small\">no disclaimers</span>\n",
    "    <div class=\"bg\" id=\"list\">\n",
    "        <li class=\"main\"><a href=\"http://www.linksdb.com/links.html\"></a></li>\n",
    "        <li class=\"main\"><a href=\"http://www.linksdb.com/link1.html\">1,7,3,9,2,11</a></li>\n",
    "        <li class=\"main\"><a href=\"http://www.linksdb.com/links.html\"></a></li>\n",
    "        <li class=\"main\"><a href=\"http://www.linksdb.com/link2.html\">3,5,3,4,6,7</a></li>\n",
    "        ... many more lines of data in the same format (two <li> tags for each item) ...\n",
    "    </div>\n",
    "</div>\n",
    "\"\"\"\n",
    "append_data(ax,html_text)"
   ]
  },
  {
   "cell_type": "code",
   "execution_count": 67,
   "id": "6cdd8719",
   "metadata": {},
   "outputs": [
    {
     "data": {
      "text/plain": [
       "[<li class=\"main\"><a href=\"http://www.linksdb.com/links.html\"></a></li>,\n",
       " <li class=\"main\"><a href=\"http://www.linksdb.com/link1.html\">1,7,3,9,2,11</a></li>,\n",
       " <li class=\"main\"><a href=\"http://www.linksdb.com/links.html\"></a></li>,\n",
       " <li class=\"main\"><a href=\"http://www.linksdb.com/link2.html\">3,5,3,4,6,7</a></li>,\n",
       " <li> tags for each item) ...\n",
       "     </li>]"
      ]
     },
     "execution_count": 67,
     "metadata": {},
     "output_type": "execute_result"
    }
   ],
   "source": [
    "html_text = \"\"\"\n",
    "<div class=\"bg\" id=\"barg\">\n",
    "    <span class=\"big\">List of links to follow</span>\n",
    "    <span class=\"small\">no disclaimers</span>\n",
    "    <div class=\"bg\" id=\"list\">\n",
    "        <li class=\"main\"><a href=\"http://www.linksdb.com/links.html\"></a></li>\n",
    "        <li class=\"main\"><a href=\"http://www.linksdb.com/link1.html\">1,7,3,9,2,11</a></li>\n",
    "        <li class=\"main\"><a href=\"http://www.linksdb.com/links.html\"></a></li>\n",
    "        <li class=\"main\"><a href=\"http://www.linksdb.com/link2.html\">3,5,3,4,6,7</a></li>\n",
    "        ... many more lines of data in the same format (two <li> tags for each item) ...\n",
    "    </div>\n",
    "</div>\n",
    "\"\"\"\n",
    "from bs4 import BeautifulSoup\n",
    "import numpy as np\n",
    "soup = BeautifulSoup(html_text)\n",
    "items = soup.find('div',{'id':'list'}).find_all('li')\n",
    "items"
   ]
  },
  {
   "cell_type": "code",
   "execution_count": 53,
   "id": "f0b769e1",
   "metadata": {},
   "outputs": [
    {
     "data": {
      "text/html": [
       "<div>\n",
       "<style scoped>\n",
       "    .dataframe tbody tr th:only-of-type {\n",
       "        vertical-align: middle;\n",
       "    }\n",
       "\n",
       "    .dataframe tbody tr th {\n",
       "        vertical-align: top;\n",
       "    }\n",
       "\n",
       "    .dataframe thead th {\n",
       "        text-align: right;\n",
       "    }\n",
       "</style>\n",
       "<table border=\"1\" class=\"dataframe\">\n",
       "  <thead>\n",
       "    <tr style=\"text-align: right;\">\n",
       "      <th></th>\n",
       "      <th>lkey</th>\n",
       "      <th>value_x</th>\n",
       "      <th>rkey</th>\n",
       "      <th>value_y</th>\n",
       "    </tr>\n",
       "  </thead>\n",
       "  <tbody>\n",
       "    <tr>\n",
       "      <th>0</th>\n",
       "      <td>foo</td>\n",
       "      <td>1</td>\n",
       "      <td>foo</td>\n",
       "      <td>5</td>\n",
       "    </tr>\n",
       "    <tr>\n",
       "      <th>1</th>\n",
       "      <td>foo</td>\n",
       "      <td>1</td>\n",
       "      <td>foo</td>\n",
       "      <td>8</td>\n",
       "    </tr>\n",
       "    <tr>\n",
       "      <th>2</th>\n",
       "      <td>foo</td>\n",
       "      <td>5</td>\n",
       "      <td>foo</td>\n",
       "      <td>5</td>\n",
       "    </tr>\n",
       "    <tr>\n",
       "      <th>3</th>\n",
       "      <td>foo</td>\n",
       "      <td>5</td>\n",
       "      <td>foo</td>\n",
       "      <td>8</td>\n",
       "    </tr>\n",
       "    <tr>\n",
       "      <th>4</th>\n",
       "      <td>bar</td>\n",
       "      <td>2</td>\n",
       "      <td>bar</td>\n",
       "      <td>6</td>\n",
       "    </tr>\n",
       "    <tr>\n",
       "      <th>5</th>\n",
       "      <td>baz</td>\n",
       "      <td>3</td>\n",
       "      <td>baz</td>\n",
       "      <td>7</td>\n",
       "    </tr>\n",
       "  </tbody>\n",
       "</table>\n",
       "</div>"
      ],
      "text/plain": [
       "  lkey  value_x rkey  value_y\n",
       "0  foo        1  foo        5\n",
       "1  foo        1  foo        8\n",
       "2  foo        5  foo        5\n",
       "3  foo        5  foo        8\n",
       "4  bar        2  bar        6\n",
       "5  baz        3  baz        7"
      ]
     },
     "execution_count": 53,
     "metadata": {},
     "output_type": "execute_result"
    }
   ],
   "source": [
    "df1 = pd.DataFrame({'lkey': ['foo', 'bar', 'baz', 'foo'],\n",
    "                     'value': [1, 2, 3, 5]})\n",
    "df2 = pd.DataFrame({'rkey': ['foo', 'bar', 'baz', 'foo'],\n",
    "                     'value': [5, 6, 7, 8]})\n",
    "\n",
    "df1.merge(df2, left_on='lkey', right_on='rkey')"
   ]
  },
  {
   "cell_type": "code",
   "execution_count": 51,
   "id": "a01a1f7a",
   "metadata": {},
   "outputs": [
    {
     "data": {
      "text/html": [
       "<div>\n",
       "<style scoped>\n",
       "    .dataframe tbody tr th:only-of-type {\n",
       "        vertical-align: middle;\n",
       "    }\n",
       "\n",
       "    .dataframe tbody tr th {\n",
       "        vertical-align: top;\n",
       "    }\n",
       "\n",
       "    .dataframe thead th {\n",
       "        text-align: right;\n",
       "    }\n",
       "</style>\n",
       "<table border=\"1\" class=\"dataframe\">\n",
       "  <thead>\n",
       "    <tr style=\"text-align: right;\">\n",
       "      <th></th>\n",
       "      <th>lkey</th>\n",
       "      <th>value_caller</th>\n",
       "      <th>value_other</th>\n",
       "    </tr>\n",
       "  </thead>\n",
       "  <tbody>\n",
       "    <tr>\n",
       "      <th>0</th>\n",
       "      <td>foo</td>\n",
       "      <td>1</td>\n",
       "      <td>5</td>\n",
       "    </tr>\n",
       "    <tr>\n",
       "      <th>0</th>\n",
       "      <td>foo</td>\n",
       "      <td>1</td>\n",
       "      <td>8</td>\n",
       "    </tr>\n",
       "    <tr>\n",
       "      <th>1</th>\n",
       "      <td>bar</td>\n",
       "      <td>2</td>\n",
       "      <td>6</td>\n",
       "    </tr>\n",
       "    <tr>\n",
       "      <th>2</th>\n",
       "      <td>baz</td>\n",
       "      <td>3</td>\n",
       "      <td>7</td>\n",
       "    </tr>\n",
       "    <tr>\n",
       "      <th>3</th>\n",
       "      <td>foo</td>\n",
       "      <td>5</td>\n",
       "      <td>5</td>\n",
       "    </tr>\n",
       "    <tr>\n",
       "      <th>3</th>\n",
       "      <td>foo</td>\n",
       "      <td>5</td>\n",
       "      <td>8</td>\n",
       "    </tr>\n",
       "  </tbody>\n",
       "</table>\n",
       "</div>"
      ],
      "text/plain": [
       "  lkey  value_caller  value_other\n",
       "0  foo             1            5\n",
       "0  foo             1            8\n",
       "1  bar             2            6\n",
       "2  baz             3            7\n",
       "3  foo             5            5\n",
       "3  foo             5            8"
      ]
     },
     "execution_count": 51,
     "metadata": {},
     "output_type": "execute_result"
    }
   ],
   "source": [
    "df1.join(df2.set_index(['rkey']),on='lkey',lsuffix='_caller', rsuffix='_other')"
   ]
  },
  {
   "cell_type": "code",
   "execution_count": null,
   "id": "f6d5ae81",
   "metadata": {},
   "outputs": [],
   "source": []
  }
 ],
 "metadata": {
  "kernelspec": {
   "display_name": "Python 3 (ipykernel)",
   "language": "python",
   "name": "python3"
  },
  "language_info": {
   "codemirror_mode": {
    "name": "ipython",
    "version": 3
   },
   "file_extension": ".py",
   "mimetype": "text/x-python",
   "name": "python",
   "nbconvert_exporter": "python",
   "pygments_lexer": "ipython3",
   "version": "3.9.12"
  }
 },
 "nbformat": 4,
 "nbformat_minor": 5
}
