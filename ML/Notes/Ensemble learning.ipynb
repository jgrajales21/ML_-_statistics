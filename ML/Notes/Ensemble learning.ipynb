{
 "cells": [
  {
   "cell_type": "markdown",
   "metadata": {},
   "source": [
    "<br><br><br>\n",
    "<span style=\"color:red;font-size:60px\">Ensemble Learning</span>\n",
    "<br><br>"
   ]
  },
  {
   "cell_type": "markdown",
   "metadata": {
    "collapsed": true
   },
   "source": [
    "<li><span style=\"color:blue\">Ensemble learning</span> is a methodology in which multiple different models are trained by an ML algorithm and the results are combined for prediction</li>\n",
    "<li>Because the learning algorithm builds multiple models, ensemble methods are thought to be less likely to overfit the data</li>\n",
    "<li>But, because the learning algorithm builds multiple models, ensemble methods are compute intensive</li>\n",
    "\n"
   ]
  },
  {
   "cell_type": "markdown",
   "metadata": {},
   "source": [
    "<h2>Tree based ensemble methods</h2>\n",
    "<li>Build multiple decision trees; each tree makes a prediction; the predictions are combined (often by voting) to make a single prediction</li>\n",
    "<li><span style=\"color:blue\">random forests</span> each tree is built using a subset of the <b>features</b>; each tree can make a prediction; the prediction from the most number of trees wins (classification) or the average prediction across all trees is the model prediction (regression)</li>\n",
    "<li><span style=\"color:blue\">bagging</span> each tree is built using a subset of the <b>data</b>; each tree can make a prediction; the prediction from the most number of trees wins (classification) or the average prediction across all trees is the model prediction (regression)</li>\n",
    "<li>Most random forest and bagging tree fit functions allow you to vary both (the features as well as the data subset)</li>\n",
    "<li><span style=\"color:blue\">gradient boosting</span> a methodology which builds an ensemble of trees, adding trees one at a time so as to improve the overall metric being used (minimizing a loss function)</li>\n",
    "<p></p>\n"
   ]
  },
  {
   "cell_type": "markdown",
   "metadata": {},
   "source": [
    "<span style=\"color:green;font-size:x-large\">Classifying handwritten digits</span>\n",
    "<li>In our introduction to ML module we classified handwritten digits into two classes - 8 or not 8 - a binary classification problem</li>\n",
    "<li>now, we'll classify the handwritten digits into one of 10 classes (0,1,2,3,4,5,6,7,8,9) - a multinomial classification problem</li>\n"
   ]
  },
  {
   "cell_type": "markdown",
   "metadata": {},
   "source": [
    "<span style=\"color:green;font-size:x-large\">data set-up</span>"
   ]
  },
  {
   "cell_type": "code",
   "execution_count": 1,
   "metadata": {},
   "outputs": [
    {
     "name": "stderr",
     "output_type": "stream",
     "text": [
      "/opt/anaconda3/lib/python3.9/site-packages/sklearn/datasets/_openml.py:1022: FutureWarning: The default value of `parser` will change from `'liac-arff'` to `'auto'` in 1.4. You can set `parser='auto'` to silence this warning. Therefore, an `ImportError` will be raised from 1.4 if the dataset is dense and pandas is not installed. Note that the pandas parser may return different data types. See the Notes Section in fetch_openml's API doc for details.\n",
      "  warn(\n"
     ]
    }
   ],
   "source": [
    "import pandas as pd\n",
    "import numpy as np\n",
    "from sklearn.datasets import fetch_openml\n",
    "mnist = fetch_openml('mnist_784')\n",
    "\n",
    "X,y = mnist['data'],mnist['target']\n",
    "df = pd.DataFrame(np.append(X,np.array(y).reshape(len(X),1),axis=1))\n",
    "\n",
    "from sklearn.model_selection import train_test_split\n",
    "train, test = train_test_split(df, test_size = 0.3)\n",
    "x_train_mnist = train.iloc[0:,0:783]\n",
    "y_train_mnist = train[[784]]\n",
    "x_test_mnist = test.iloc[0:,0:783]\n",
    "y_test_mnist = test[[784]]"
   ]
  },
  {
   "cell_type": "markdown",
   "metadata": {},
   "source": [
    "<p></p>\n",
    "<span style=\"color:green;font-size:x-large\">Baseline model: decision tree </span>\n",
    "<li>we have ten possible classes that each digit can fall into</li>\n",
    "<li>and 784 input features</li>\n",
    "<li>fit a decision tree classifier to the data</li>"
   ]
  },
  {
   "cell_type": "code",
   "execution_count": 2,
   "metadata": {},
   "outputs": [
    {
     "data": {
      "text/plain": [
       "49000"
      ]
     },
     "execution_count": 2,
     "metadata": {},
     "output_type": "execute_result"
    }
   ],
   "source": [
    "len(x_train_mnist)"
   ]
  },
  {
   "cell_type": "code",
   "execution_count": 3,
   "metadata": {},
   "outputs": [
    {
     "data": {
      "text/html": [
       "<style>#sk-container-id-1 {color: black;}#sk-container-id-1 pre{padding: 0;}#sk-container-id-1 div.sk-toggleable {background-color: white;}#sk-container-id-1 label.sk-toggleable__label {cursor: pointer;display: block;width: 100%;margin-bottom: 0;padding: 0.3em;box-sizing: border-box;text-align: center;}#sk-container-id-1 label.sk-toggleable__label-arrow:before {content: \"▸\";float: left;margin-right: 0.25em;color: #696969;}#sk-container-id-1 label.sk-toggleable__label-arrow:hover:before {color: black;}#sk-container-id-1 div.sk-estimator:hover label.sk-toggleable__label-arrow:before {color: black;}#sk-container-id-1 div.sk-toggleable__content {max-height: 0;max-width: 0;overflow: hidden;text-align: left;background-color: #f0f8ff;}#sk-container-id-1 div.sk-toggleable__content pre {margin: 0.2em;color: black;border-radius: 0.25em;background-color: #f0f8ff;}#sk-container-id-1 input.sk-toggleable__control:checked~div.sk-toggleable__content {max-height: 200px;max-width: 100%;overflow: auto;}#sk-container-id-1 input.sk-toggleable__control:checked~label.sk-toggleable__label-arrow:before {content: \"▾\";}#sk-container-id-1 div.sk-estimator input.sk-toggleable__control:checked~label.sk-toggleable__label {background-color: #d4ebff;}#sk-container-id-1 div.sk-label input.sk-toggleable__control:checked~label.sk-toggleable__label {background-color: #d4ebff;}#sk-container-id-1 input.sk-hidden--visually {border: 0;clip: rect(1px 1px 1px 1px);clip: rect(1px, 1px, 1px, 1px);height: 1px;margin: -1px;overflow: hidden;padding: 0;position: absolute;width: 1px;}#sk-container-id-1 div.sk-estimator {font-family: monospace;background-color: #f0f8ff;border: 1px dotted black;border-radius: 0.25em;box-sizing: border-box;margin-bottom: 0.5em;}#sk-container-id-1 div.sk-estimator:hover {background-color: #d4ebff;}#sk-container-id-1 div.sk-parallel-item::after {content: \"\";width: 100%;border-bottom: 1px solid gray;flex-grow: 1;}#sk-container-id-1 div.sk-label:hover label.sk-toggleable__label {background-color: #d4ebff;}#sk-container-id-1 div.sk-serial::before {content: \"\";position: absolute;border-left: 1px solid gray;box-sizing: border-box;top: 0;bottom: 0;left: 50%;z-index: 0;}#sk-container-id-1 div.sk-serial {display: flex;flex-direction: column;align-items: center;background-color: white;padding-right: 0.2em;padding-left: 0.2em;position: relative;}#sk-container-id-1 div.sk-item {position: relative;z-index: 1;}#sk-container-id-1 div.sk-parallel {display: flex;align-items: stretch;justify-content: center;background-color: white;position: relative;}#sk-container-id-1 div.sk-item::before, #sk-container-id-1 div.sk-parallel-item::before {content: \"\";position: absolute;border-left: 1px solid gray;box-sizing: border-box;top: 0;bottom: 0;left: 50%;z-index: -1;}#sk-container-id-1 div.sk-parallel-item {display: flex;flex-direction: column;z-index: 1;position: relative;background-color: white;}#sk-container-id-1 div.sk-parallel-item:first-child::after {align-self: flex-end;width: 50%;}#sk-container-id-1 div.sk-parallel-item:last-child::after {align-self: flex-start;width: 50%;}#sk-container-id-1 div.sk-parallel-item:only-child::after {width: 0;}#sk-container-id-1 div.sk-dashed-wrapped {border: 1px dashed gray;margin: 0 0.4em 0.5em 0.4em;box-sizing: border-box;padding-bottom: 0.4em;background-color: white;}#sk-container-id-1 div.sk-label label {font-family: monospace;font-weight: bold;display: inline-block;line-height: 1.2em;}#sk-container-id-1 div.sk-label-container {text-align: center;}#sk-container-id-1 div.sk-container {/* jupyter's `normalize.less` sets `[hidden] { display: none; }` but bootstrap.min.css set `[hidden] { display: none !important; }` so we also need the `!important` here to be able to override the default hidden behavior on the sphinx rendered scikit-learn.org. See: https://github.com/scikit-learn/scikit-learn/issues/21755 */display: inline-block !important;position: relative;}#sk-container-id-1 div.sk-text-repr-fallback {display: none;}</style><div id=\"sk-container-id-1\" class=\"sk-top-container\"><div class=\"sk-text-repr-fallback\"><pre>DecisionTreeClassifier(max_depth=4)</pre><b>In a Jupyter environment, please rerun this cell to show the HTML representation or trust the notebook. <br />On GitHub, the HTML representation is unable to render, please try loading this page with nbviewer.org.</b></div><div class=\"sk-container\" hidden><div class=\"sk-item\"><div class=\"sk-estimator sk-toggleable\"><input class=\"sk-toggleable__control sk-hidden--visually\" id=\"sk-estimator-id-1\" type=\"checkbox\" checked><label for=\"sk-estimator-id-1\" class=\"sk-toggleable__label sk-toggleable__label-arrow\">DecisionTreeClassifier</label><div class=\"sk-toggleable__content\"><pre>DecisionTreeClassifier(max_depth=4)</pre></div></div></div></div></div>"
      ],
      "text/plain": [
       "DecisionTreeClassifier(max_depth=4)"
      ]
     },
     "execution_count": 3,
     "metadata": {},
     "output_type": "execute_result"
    }
   ],
   "source": [
    "from sklearn.tree import DecisionTreeClassifier\n",
    "from sklearn import tree\n",
    "\n",
    "clf = tree.DecisionTreeClassifier(max_depth = 4)\n",
    "clf.fit(x_train_mnist,y_train_mnist)"
   ]
  },
  {
   "cell_type": "markdown",
   "metadata": {},
   "source": [
    "<p></p>\n",
    "<span style=\"color:green;font-size:x-large\">evaluating the multinomial classifier</span>\n",
    "<p></p>\n",
    "<li>Eyeball test</li>\n",
    "<li>accuracy</li>\n",
    "<li>confusion matrix</li>"
   ]
  },
  {
   "cell_type": "markdown",
   "metadata": {},
   "source": [
    "<p></p>\n",
    "<span style=\"color:green;font-size:x-large\">prediction probabilities</span>\n",
    "<li>each case is assigned an array of probabilities</li>\n",
    "<li>the probability that a case is a 0, 1, 2, etc.</li>\n",
    "<li>the model uses the highest probability for the prediction</li>\n",
    "<li>the sklearn function <span style=\"color:blue\">predict_proba</span> returns the probabilities</li>\n",
    "<li>Let's eyeball a few predictions</li>"
   ]
  },
  {
   "cell_type": "code",
   "execution_count": 4,
   "metadata": {},
   "outputs": [
    {
     "data": {
      "text/plain": [
       "array([[5.36672630e-04, 8.41144902e-01, 4.13237925e-02, 1.07334526e-02,\n",
       "        3.04114490e-03, 1.34168157e-02, 1.32379249e-02, 7.15563506e-03,\n",
       "        6.13595707e-02, 8.05008945e-03],\n",
       "       [8.18619583e-02, 5.35045479e-04, 7.49063670e-03, 1.75494917e-01,\n",
       "        4.97592295e-02, 1.15569823e-01, 3.42429106e-02, 6.79507758e-02,\n",
       "        2.03317282e-01, 2.63777421e-01],\n",
       "       [1.23409179e-02, 0.00000000e+00, 2.21750868e-02, 9.64134207e-03,\n",
       "        6.01234092e-01, 4.53143078e-02, 2.17701504e-01, 3.70227536e-02,\n",
       "        1.67759352e-02, 3.77940609e-02],\n",
       "       [1.15532734e-02, 1.92554557e-02, 5.58408216e-02, 1.32862644e-01,\n",
       "        3.72272144e-02, 1.79717587e-02, 6.41848524e-03, 7.25288832e-02,\n",
       "        5.79589217e-01, 6.67522465e-02],\n",
       "       [1.87234043e-01, 5.67375887e-03, 4.25531915e-01, 1.98581560e-02,\n",
       "        3.26241135e-02, 1.81560284e-01, 6.52482270e-02, 1.13475177e-02,\n",
       "        5.95744681e-02, 1.13475177e-02],\n",
       "       [5.36672630e-04, 8.41144902e-01, 4.13237925e-02, 1.07334526e-02,\n",
       "        3.04114490e-03, 1.34168157e-02, 1.32379249e-02, 7.15563506e-03,\n",
       "        6.13595707e-02, 8.05008945e-03],\n",
       "       [4.46841294e-02, 1.23266564e-03, 2.37288136e-02, 4.25269646e-02,\n",
       "        9.92295840e-02, 1.05855162e-01, 1.32511556e-01, 4.57627119e-02,\n",
       "        6.19414484e-02, 4.42526965e-01],\n",
       "       [5.36672630e-04, 8.41144902e-01, 4.13237925e-02, 1.07334526e-02,\n",
       "        3.04114490e-03, 1.34168157e-02, 1.32379249e-02, 7.15563506e-03,\n",
       "        6.13595707e-02, 8.05008945e-03],\n",
       "       [8.65458937e-01, 1.44927536e-03, 1.71497585e-02, 2.60869565e-02,\n",
       "        1.69082126e-03, 5.04830918e-02, 2.80193237e-02, 1.20772947e-03,\n",
       "        4.34782609e-03, 4.10628019e-03],\n",
       "       [8.65458937e-01, 1.44927536e-03, 1.71497585e-02, 2.60869565e-02,\n",
       "        1.69082126e-03, 5.04830918e-02, 2.80193237e-02, 1.20772947e-03,\n",
       "        4.34782609e-03, 4.10628019e-03]])"
      ]
     },
     "execution_count": 4,
     "metadata": {},
     "output_type": "execute_result"
    }
   ],
   "source": [
    "clf.predict_proba(x_train_mnist.iloc[:10,:])"
   ]
  },
  {
   "cell_type": "code",
   "execution_count": 5,
   "metadata": {
    "code_folding": []
   },
   "outputs": [
    {
     "data": {
      "text/plain": [
       "[('1', '1'),\n",
       " ('9', '8'),\n",
       " ('4', '6'),\n",
       " ('8', '8'),\n",
       " ('2', '2'),\n",
       " ('1', '1'),\n",
       " ('9', '9'),\n",
       " ('1', '1'),\n",
       " ('0', '0'),\n",
       " ('0', '0')]"
      ]
     },
     "execution_count": 5,
     "metadata": {},
     "output_type": "execute_result"
    }
   ],
   "source": [
    "pred_probs = clf.predict_proba(x_train_mnist.iloc[:10,:]) #Return the probabilities for the first n cases\n",
    "[(clf.classes_[np.argmax(pred_probs[i])], #clf.classes returns the class for each prediction \n",
    "  y_train_mnist.iloc[i][784]) #The actual value\n",
    " for i in range(len(pred_probs))]"
   ]
  },
  {
   "cell_type": "code",
   "execution_count": 6,
   "metadata": {},
   "outputs": [
    {
     "name": "stdout",
     "output_type": "stream",
     "text": [
      "Training score 0.5937346938775511\n",
      "Testing score 0.5891904761904762\n"
     ]
    }
   ],
   "source": [
    "print(\"Training score\",clf.score(x_train_mnist,y_train_mnist))\n",
    "print(\"Testing score\",clf.score(x_test_mnist,y_test_mnist))"
   ]
  },
  {
   "cell_type": "markdown",
   "metadata": {},
   "source": [
    "<span style=\"color:green;font-size:x-large\">confusion matrix</span>\n",
    "<li>N x N matrix of actuals vs. predicted</li>\n",
    "<li>rows are actual, columns are predicted</li>\n",
    "<li>$ C_{i,j} $ contains the number of cases that are in class i but predicted to be in class j</li>\n"
   ]
  },
  {
   "cell_type": "code",
   "execution_count": 7,
   "metadata": {},
   "outputs": [
    {
     "name": "stdout",
     "output_type": "stream",
     "text": [
      "[[1595    2   76   24   36   24   57  103   30  163]\n",
      " [   1 1947   87   63    1    4   47   24  150    4]\n",
      " [  36  123 1326   19   53    1  145  165  177   79]\n",
      " [  48   38   95 1295   20   50   57   37  259  259]\n",
      " [   3    6   37   29 1304   18  110  120   64  327]\n",
      " [  79   26  117  194  106  358  394   30  164  383]\n",
      " [  44   32  218    8  472   60  687   55  146  374]\n",
      " [   6   12   75   16   65    8   22 1648  121  195]\n",
      " [   3  175  184   32   38   34  482    5  784  327]\n",
      " [   6   18   56   55   79   24   61  179  176 1429]]\n"
     ]
    }
   ],
   "source": [
    "from sklearn.metrics import confusion_matrix\n",
    "p_test=clf.predict(x_test_mnist)\n",
    "\n",
    "cm = confusion_matrix(np.array(y_test_mnist),p_test,labels=clf.classes_)\n",
    "print(cm)\n",
    "\n",
    "\n"
   ]
  },
  {
   "cell_type": "markdown",
   "metadata": {},
   "source": [
    "<span style=\"color:green;font-size:x-large\">Convert everything to percents</span>\n",
    "<p></p>\n",
    "<li>Easier to eyeball performance</li>\n",
    "<li>The diagonal elements give the accuracy of the model for each digit</li>"
   ]
  },
  {
   "cell_type": "code",
   "execution_count": 8,
   "metadata": {},
   "outputs": [
    {
     "name": "stdout",
     "output_type": "stream",
     "text": [
      "[[75.59  0.09  3.58  1.11  1.78  1.30  2.72  4.75  1.45  7.83]\n",
      " [ 0.05 83.63  4.10  2.92  0.05  0.22  2.24  1.11  7.27  0.19]\n",
      " [ 1.71  5.28 62.43  0.88  2.63  0.05  6.92  7.61  8.58  3.79]\n",
      " [ 2.27  1.63  4.47 60.01  0.99  2.70  2.72  1.71 12.55 12.43]\n",
      " [ 0.14  0.26  1.74  1.34 64.62  0.97  5.25  5.54  3.10 15.70]\n",
      " [ 3.74  1.12  5.51  8.99  5.25 19.34 18.80  1.38  7.95 18.39]\n",
      " [ 2.09  1.37 10.26  0.37 23.39  3.24 32.78  2.54  7.07 17.95]\n",
      " [ 0.28  0.52  3.53  0.74  3.22  0.43  1.05 76.01  5.86  9.36]\n",
      " [ 0.14  7.52  8.66  1.48  1.88  1.84 23.00  0.23 37.98 15.70]\n",
      " [ 0.28  0.77  2.64  2.55  3.91  1.30  2.91  8.26  8.53 68.60]]\n"
     ]
    }
   ],
   "source": [
    "pct_cm = cm/(cm.sum(axis=1))*100\n",
    "np.set_printoptions(precision=2,suppress=True,floatmode=\"fixed\")\n",
    "print(pct_cm)"
   ]
  },
  {
   "cell_type": "markdown",
   "metadata": {},
   "source": [
    "<h3>Recall</h3>\n",
    "<li>For each digit, the percent of actual values correctly predicted</li>"
   ]
  },
  {
   "cell_type": "code",
   "execution_count": 10,
   "metadata": {},
   "outputs": [
    {
     "name": "stdout",
     "output_type": "stream",
     "text": [
      "Digit: 0\tRecall: 75.59\n",
      "Digit: 1\tRecall: 83.63\n",
      "Digit: 2\tRecall: 62.43\n",
      "Digit: 3\tRecall: 60.01\n",
      "Digit: 4\tRecall: 64.62\n",
      "Digit: 5\tRecall: 19.34\n",
      "Digit: 6\tRecall: 32.78\n",
      "Digit: 7\tRecall: 76.01\n",
      "Digit: 8\tRecall: 37.98\n",
      "Digit: 9\tRecall: 68.60\n"
     ]
    }
   ],
   "source": [
    "#Diagonal elements only\n",
    "for i in range(len(pct_cm)):\n",
    "    print(\"Digit: %d\\tRecall: %1.2f\"%(i,pct_cm[i,i]))"
   ]
  },
  {
   "cell_type": "markdown",
   "metadata": {},
   "source": [
    "<h3>precision</h3>\n",
    "<li>The probability that if we say a digit is an x (e.g., 4) it is actually an x (e.g., 4)</li>\n",
    "<li><b>weighted</b>: Weight each individual precision score by the proportion of cases</li>"
   ]
  },
  {
   "cell_type": "code",
   "execution_count": 12,
   "metadata": {},
   "outputs": [
    {
     "data": {
      "text/plain": [
       "0.608851373446208"
      ]
     },
     "execution_count": 12,
     "metadata": {},
     "output_type": "execute_result"
    }
   ],
   "source": [
    "from sklearn.metrics import precision_score\n",
    "precision_score(y_test_mnist,clf.predict(x_test_mnist),average=\"weighted\")"
   ]
  },
  {
   "cell_type": "markdown",
   "metadata": {},
   "source": [
    "<h3>ROC AUC</h3>\n",
    "<li>OVR: one versus rest computes roc curves and auc curves by creating binary values (e.g., 8 vs not 8) for each class</li>\n",
    "<li>The function below draws the ROC curve and reports AUC for each class and also draws an ROC curve and reports AUC for the average values</li>\n",
    "<li>I'm not going to explain the function code, just use it if you ever need a multiclass ROC/AUC analysis!</li>"
   ]
  },
  {
   "cell_type": "code",
   "execution_count": 13,
   "metadata": {},
   "outputs": [],
   "source": [
    "def draw_multiclass_roc_auc(clf,y_actual,X,class_names,title=\"\"):\n",
    "    from sklearn.preprocessing import LabelBinarizer\n",
    "    from sklearn.metrics import roc_curve, auc, RocCurveDisplay\n",
    "    from itertools import cycle\n",
    "    import matplotlib.pyplot as plt\n",
    "\n",
    "    n_classes = len(class_names)\n",
    "    #One hot encode the y\n",
    "\n",
    "    label_binarizer = LabelBinarizer().fit(y_actual)\n",
    "    y_onehot_test = label_binarizer.transform(y_actual)\n",
    "    \n",
    "    #Use predict_proba to get y score\n",
    "    y_score = clf.predict_proba(X)\n",
    "    \n",
    "    # store the fpr, tpr, and roc_auc for all averaging strategies\n",
    "    fpr, tpr, roc_auc = dict(), dict(), dict()\n",
    "    \n",
    "    # Compute micro-average ROC and AUC\n",
    "    fpr[\"micro\"], tpr[\"micro\"], _ = roc_curve(y_onehot_test.ravel(), y_score.ravel())\n",
    "    roc_auc[\"micro\"] = auc(fpr[\"micro\"], tpr[\"micro\"])\n",
    "\n",
    "    for i in range(n_classes):\n",
    "        fpr[i], tpr[i], _ = roc_curve(y_onehot_test[:, i], y_score[:, i])\n",
    "        roc_auc[i] = auc(fpr[i], tpr[i])\n",
    "\n",
    "    fpr_grid = np.linspace(0.0, 1.0, 1000)\n",
    "\n",
    "    # Interpolate all ROC curves at these points\n",
    "    mean_tpr = np.zeros_like(fpr_grid)\n",
    "\n",
    "    for i in range(n_classes):\n",
    "        mean_tpr += np.interp(fpr_grid, fpr[i], tpr[i])  # linear interpolation\n",
    "\n",
    "    # Average it and compute AUC\n",
    "    mean_tpr /= n_classes\n",
    "\n",
    "    \n",
    "    fig, ax = plt.subplots(figsize=(12, 12))\n",
    "\n",
    "    plt.plot(\n",
    "        fpr[\"micro\"],\n",
    "        tpr[\"micro\"],\n",
    "        label=f\"micro-average ROC curve (AUC = {roc_auc['micro']:.2f})\",\n",
    "        color=\"deeppink\",\n",
    "        linestyle=\":\",\n",
    "        linewidth=4,\n",
    "    )\n",
    "    colors = cycle([\"aqua\", \"darkorange\", \"cornflowerblue\"])\n",
    "    for class_id, color in zip(range(n_classes), colors):\n",
    "        RocCurveDisplay.from_predictions(\n",
    "            y_onehot_test[:, class_id],\n",
    "            y_score[:, class_id],\n",
    "            name=f\"ROC curve for {class_names[class_id]}\",\n",
    "            color=color,\n",
    "            ax=ax,\n",
    "        )\n",
    "    \n",
    "    plt.plot([0, 1], [0, 1], \"k--\", label=\"ROC curve for chance level (AUC = 0.5)\")\n",
    "    plt.axis(\"square\")\n",
    "    plt.xlabel(\"False Positive Rate\")\n",
    "    plt.ylabel(\"True Positive Rate\")\n",
    "    plt.title(title)\n",
    "    plt.legend()\n",
    "    plt.show()    \n",
    "\n"
   ]
  },
  {
   "cell_type": "code",
   "execution_count": 14,
   "metadata": {},
   "outputs": [
    {
     "data": {
      "image/png": "[encoded data removed]",
      "text/plain": [
       "<Figure size 864x864 with 1 Axes>"
      ]
     },
     "metadata": {
      "needs_background": "light"
     },
     "output_type": "display_data"
    }
   ],
   "source": [
    "class_names = [str(i) for i in range(10)]   \n",
    "title = \"ROC/AUC Handwritten digits\"\n",
    "draw_multiclass_roc_auc(clf,y_test_mnist,x_test_mnist,class_names,title)"
   ]
  },
  {
   "cell_type": "markdown",
   "metadata": {},
   "source": [
    "<span style=\"color:green;font-size:x-large\">In summary</span>\n",
    "<li>The model has about a 60% accuracy (not bad but probably not good enough)</li>\n",
    "<li>It does better on some digits and not so good on others</li>\n",
    "<li>Next, we'll see if we can improve on this with the random forest model</li>"
   ]
  },
  {
   "cell_type": "markdown",
   "metadata": {},
   "source": [
    "<br><br><br>\n",
    "<h2 style=\"color:red;font-size:40px\">Ensemble learning random forests</h2>\n",
    "<br><br>\n"
   ]
  },
  {
   "cell_type": "markdown",
   "metadata": {},
   "source": [
    "<li>In ensemble learning, the algorithm creates a \"forest\" of trees</li>\n",
    "<li>each tree is different, i.e., the trees contain different splits</li>\n",
    "\n"
   ]
  },
  {
   "cell_type": "markdown",
   "metadata": {},
   "source": [
    "<span style=\"color:green;font-size:x-large\">Random subspaces</span>\n",
    "<li>Use a random subset of features and choose the feature to split on from this subset\n",
    "    <ul>\n",
    "        <li>Especially useful for our problem since we have so many features</li>\n",
    "    </ul>\n",
    "<li>Repeat the process, this gives multiple different trees (the ensemble)\n",
    "<li>The model then predicts y values by letting the trees vote (if classification) or by taking the average prediction (regression)\n",
    "<ul>\n",
    "<li>The forest is given a case\n",
    "<li>Each tree decides which class the case belongs to\n",
    "<li>Votes are tallied\n",
    "<li>The highest vote wins\n",
    "</ul>"
   ]
  },
  {
   "cell_type": "code",
   "execution_count": 15,
   "metadata": {},
   "outputs": [
    {
     "data": {
      "text/html": [
       "<style>#sk-container-id-2 {color: black;}#sk-container-id-2 pre{padding: 0;}#sk-container-id-2 div.sk-toggleable {background-color: white;}#sk-container-id-2 label.sk-toggleable__label {cursor: pointer;display: block;width: 100%;margin-bottom: 0;padding: 0.3em;box-sizing: border-box;text-align: center;}#sk-container-id-2 label.sk-toggleable__label-arrow:before {content: \"▸\";float: left;margin-right: 0.25em;color: #696969;}#sk-container-id-2 label.sk-toggleable__label-arrow:hover:before {color: black;}#sk-container-id-2 div.sk-estimator:hover label.sk-toggleable__label-arrow:before {color: black;}#sk-container-id-2 div.sk-toggleable__content {max-height: 0;max-width: 0;overflow: hidden;text-align: left;background-color: #f0f8ff;}#sk-container-id-2 div.sk-toggleable__content pre {margin: 0.2em;color: black;border-radius: 0.25em;background-color: #f0f8ff;}#sk-container-id-2 input.sk-toggleable__control:checked~div.sk-toggleable__content {max-height: 200px;max-width: 100%;overflow: auto;}#sk-container-id-2 input.sk-toggleable__control:checked~label.sk-toggleable__label-arrow:before {content: \"▾\";}#sk-container-id-2 div.sk-estimator input.sk-toggleable__control:checked~label.sk-toggleable__label {background-color: #d4ebff;}#sk-container-id-2 div.sk-label input.sk-toggleable__control:checked~label.sk-toggleable__label {background-color: #d4ebff;}#sk-container-id-2 input.sk-hidden--visually {border: 0;clip: rect(1px 1px 1px 1px);clip: rect(1px, 1px, 1px, 1px);height: 1px;margin: -1px;overflow: hidden;padding: 0;position: absolute;width: 1px;}#sk-container-id-2 div.sk-estimator {font-family: monospace;background-color: #f0f8ff;border: 1px dotted black;border-radius: 0.25em;box-sizing: border-box;margin-bottom: 0.5em;}#sk-container-id-2 div.sk-estimator:hover {background-color: #d4ebff;}#sk-container-id-2 div.sk-parallel-item::after {content: \"\";width: 100%;border-bottom: 1px solid gray;flex-grow: 1;}#sk-container-id-2 div.sk-label:hover label.sk-toggleable__label {background-color: #d4ebff;}#sk-container-id-2 div.sk-serial::before {content: \"\";position: absolute;border-left: 1px solid gray;box-sizing: border-box;top: 0;bottom: 0;left: 50%;z-index: 0;}#sk-container-id-2 div.sk-serial {display: flex;flex-direction: column;align-items: center;background-color: white;padding-right: 0.2em;padding-left: 0.2em;position: relative;}#sk-container-id-2 div.sk-item {position: relative;z-index: 1;}#sk-container-id-2 div.sk-parallel {display: flex;align-items: stretch;justify-content: center;background-color: white;position: relative;}#sk-container-id-2 div.sk-item::before, #sk-container-id-2 div.sk-parallel-item::before {content: \"\";position: absolute;border-left: 1px solid gray;box-sizing: border-box;top: 0;bottom: 0;left: 50%;z-index: -1;}#sk-container-id-2 div.sk-parallel-item {display: flex;flex-direction: column;z-index: 1;position: relative;background-color: white;}#sk-container-id-2 div.sk-parallel-item:first-child::after {align-self: flex-end;width: 50%;}#sk-container-id-2 div.sk-parallel-item:last-child::after {align-self: flex-start;width: 50%;}#sk-container-id-2 div.sk-parallel-item:only-child::after {width: 0;}#sk-container-id-2 div.sk-dashed-wrapped {border: 1px dashed gray;margin: 0 0.4em 0.5em 0.4em;box-sizing: border-box;padding-bottom: 0.4em;background-color: white;}#sk-container-id-2 div.sk-label label {font-family: monospace;font-weight: bold;display: inline-block;line-height: 1.2em;}#sk-container-id-2 div.sk-label-container {text-align: center;}#sk-container-id-2 div.sk-container {/* jupyter's `normalize.less` sets `[hidden] { display: none; }` but bootstrap.min.css set `[hidden] { display: none !important; }` so we also need the `!important` here to be able to override the default hidden behavior on the sphinx rendered scikit-learn.org. See: https://github.com/scikit-learn/scikit-learn/issues/21755 */display: inline-block !important;position: relative;}#sk-container-id-2 div.sk-text-repr-fallback {display: none;}</style><div id=\"sk-container-id-2\" class=\"sk-top-container\"><div class=\"sk-text-repr-fallback\"><pre>RandomForestClassifier(n_estimators=10)</pre><b>In a Jupyter environment, please rerun this cell to show the HTML representation or trust the notebook. <br />On GitHub, the HTML representation is unable to render, please try loading this page with nbviewer.org.</b></div><div class=\"sk-container\" hidden><div class=\"sk-item\"><div class=\"sk-estimator sk-toggleable\"><input class=\"sk-toggleable__control sk-hidden--visually\" id=\"sk-estimator-id-2\" type=\"checkbox\" checked><label for=\"sk-estimator-id-2\" class=\"sk-toggleable__label sk-toggleable__label-arrow\">RandomForestClassifier</label><div class=\"sk-toggleable__content\"><pre>RandomForestClassifier(n_estimators=10)</pre></div></div></div></div></div>"
      ],
      "text/plain": [
       "RandomForestClassifier(n_estimators=10)"
      ]
     },
     "execution_count": 15,
     "metadata": {},
     "output_type": "execute_result"
    }
   ],
   "source": [
    "from sklearn.ensemble import RandomForestClassifier\n",
    "\n",
    "#n_estimators is the number of trees in the forest. We'll generate 10 trees that will vote on the classification\n",
    "rf_clf = RandomForestClassifier(n_estimators=10)\n",
    "#np.ravel flattens the pandas Series into an np array. That's what the classifier needs\n",
    "rf_clf.fit(x_train_mnist,np.ravel(y_train_mnist))"
   ]
  },
  {
   "cell_type": "markdown",
   "metadata": {},
   "source": [
    "<span style=\"color:green;font-size:x-large\">Accuracy and Precision</span>\n",
    "<p></p>\n",
    "<li>A dramatic improvement in accuracy and precision!</li>\n",
    "<li>Random forests generally work well!</li>"
   ]
  },
  {
   "cell_type": "code",
   "execution_count": 16,
   "metadata": {},
   "outputs": [
    {
     "name": "stdout",
     "output_type": "stream",
     "text": [
      "train accuracy: 0.9991224489795918\n",
      "test accuracy : 0.9492857142857143\n"
     ]
    }
   ],
   "source": [
    "print(\"train accuracy:\", rf_clf.score(x_train_mnist,y_train_mnist))\n",
    "print(\"test accuracy :\", rf_clf.score(x_test_mnist,y_test_mnist))"
   ]
  },
  {
   "cell_type": "code",
   "execution_count": 17,
   "metadata": {},
   "outputs": [
    {
     "data": {
      "text/plain": [
       "0.9493459769408565"
      ]
     },
     "execution_count": 17,
     "metadata": {},
     "output_type": "execute_result"
    }
   ],
   "source": [
    "from sklearn.metrics import precision_score\n",
    "precision_score(y_test_mnist,rf_clf.predict(x_test_mnist),average=\"weighted\")"
   ]
  },
  {
   "cell_type": "markdown",
   "metadata": {},
   "source": [
    "<br><br><br>\n",
    "<span style=\"color:red;font-size:50px\">Bagging</span>\n",
    "<br><br>\n",
    "\n"
   ]
  },
  {
   "cell_type": "markdown",
   "metadata": {},
   "source": [
    "<li><span style=\"color:blue\">Bagging</span> in machine learning involves resampling subsets of the data to build a model</li>\n",
    "<li>Create a synthetic dataset by drawing sample cases \"with replacement\"</li>\n",
    "<li>Run the decision tree algorithm on this dataset</li>\n",
    "<li>Repeat on a new synthetic datasets</li>\n",
    "<li>Let the many trees vote on the class for each case</li>\n",
    "<li>Bootstrapping is especially useful when there is missing data in the dataset</li>\n",
    "<li>The sklearn model <a href=\"https://scikit-learn.org/stable/modules/generated/sklearn.ensemble.BaggingClassifier.html\">BaggingClassifier</a> provides bootstrapping for random forests</li>\n"
   ]
  },
  {
   "cell_type": "markdown",
   "metadata": {},
   "source": [
    "<li>One major advantage of bagging is that, since you're using multiple different subsets of the data, you're more likely to reduce the variance of your model (i.e., the out of sample variance)</li>\n",
    "<li>bagging is particularly useful when you have many \"weak learners\". The combined effect is a generally a strong learner</li>"
   ]
  },
  {
   "cell_type": "code",
   "execution_count": 36,
   "metadata": {},
   "outputs": [
    {
     "name": "stdout",
     "output_type": "stream",
     "text": [
      "CPU times: user 37.8 s, sys: 2.65 s, total: 40.4 s\n",
      "Wall time: 58.7 s\n"
     ]
    },
    {
     "data": {
      "text/html": [
       "<style>#sk-container-id-7 {color: black;}#sk-container-id-7 pre{padding: 0;}#sk-container-id-7 div.sk-toggleable {background-color: white;}#sk-container-id-7 label.sk-toggleable__label {cursor: pointer;display: block;width: 100%;margin-bottom: 0;padding: 0.3em;box-sizing: border-box;text-align: center;}#sk-container-id-7 label.sk-toggleable__label-arrow:before {content: \"▸\";float: left;margin-right: 0.25em;color: #696969;}#sk-container-id-7 label.sk-toggleable__label-arrow:hover:before {color: black;}#sk-container-id-7 div.sk-estimator:hover label.sk-toggleable__label-arrow:before {color: black;}#sk-container-id-7 div.sk-toggleable__content {max-height: 0;max-width: 0;overflow: hidden;text-align: left;background-color: #f0f8ff;}#sk-container-id-7 div.sk-toggleable__content pre {margin: 0.2em;color: black;border-radius: 0.25em;background-color: #f0f8ff;}#sk-container-id-7 input.sk-toggleable__control:checked~div.sk-toggleable__content {max-height: 200px;max-width: 100%;overflow: auto;}#sk-container-id-7 input.sk-toggleable__control:checked~label.sk-toggleable__label-arrow:before {content: \"▾\";}#sk-container-id-7 div.sk-estimator input.sk-toggleable__control:checked~label.sk-toggleable__label {background-color: #d4ebff;}#sk-container-id-7 div.sk-label input.sk-toggleable__control:checked~label.sk-toggleable__label {background-color: #d4ebff;}#sk-container-id-7 input.sk-hidden--visually {border: 0;clip: rect(1px 1px 1px 1px);clip: rect(1px, 1px, 1px, 1px);height: 1px;margin: -1px;overflow: hidden;padding: 0;position: absolute;width: 1px;}#sk-container-id-7 div.sk-estimator {font-family: monospace;background-color: #f0f8ff;border: 1px dotted black;border-radius: 0.25em;box-sizing: border-box;margin-bottom: 0.5em;}#sk-container-id-7 div.sk-estimator:hover {background-color: #d4ebff;}#sk-container-id-7 div.sk-parallel-item::after {content: \"\";width: 100%;border-bottom: 1px solid gray;flex-grow: 1;}#sk-container-id-7 div.sk-label:hover label.sk-toggleable__label {background-color: #d4ebff;}#sk-container-id-7 div.sk-serial::before {content: \"\";position: absolute;border-left: 1px solid gray;box-sizing: border-box;top: 0;bottom: 0;left: 50%;z-index: 0;}#sk-container-id-7 div.sk-serial {display: flex;flex-direction: column;align-items: center;background-color: white;padding-right: 0.2em;padding-left: 0.2em;position: relative;}#sk-container-id-7 div.sk-item {position: relative;z-index: 1;}#sk-container-id-7 div.sk-parallel {display: flex;align-items: stretch;justify-content: center;background-color: white;position: relative;}#sk-container-id-7 div.sk-item::before, #sk-container-id-7 div.sk-parallel-item::before {content: \"\";position: absolute;border-left: 1px solid gray;box-sizing: border-box;top: 0;bottom: 0;left: 50%;z-index: -1;}#sk-container-id-7 div.sk-parallel-item {display: flex;flex-direction: column;z-index: 1;position: relative;background-color: white;}#sk-container-id-7 div.sk-parallel-item:first-child::after {align-self: flex-end;width: 50%;}#sk-container-id-7 div.sk-parallel-item:last-child::after {align-self: flex-start;width: 50%;}#sk-container-id-7 div.sk-parallel-item:only-child::after {width: 0;}#sk-container-id-7 div.sk-dashed-wrapped {border: 1px dashed gray;margin: 0 0.4em 0.5em 0.4em;box-sizing: border-box;padding-bottom: 0.4em;background-color: white;}#sk-container-id-7 div.sk-label label {font-family: monospace;font-weight: bold;display: inline-block;line-height: 1.2em;}#sk-container-id-7 div.sk-label-container {text-align: center;}#sk-container-id-7 div.sk-container {/* jupyter's `normalize.less` sets `[hidden] { display: none; }` but bootstrap.min.css set `[hidden] { display: none !important; }` so we also need the `!important` here to be able to override the default hidden behavior on the sphinx rendered scikit-learn.org. See: https://github.com/scikit-learn/scikit-learn/issues/21755 */display: inline-block !important;position: relative;}#sk-container-id-7 div.sk-text-repr-fallback {display: none;}</style><div id=\"sk-container-id-7\" class=\"sk-top-container\"><div class=\"sk-text-repr-fallback\"><pre>BaggingClassifier(max_features=0.8, max_samples=0.8, n_estimators=20, n_jobs=-1)</pre><b>In a Jupyter environment, please rerun this cell to show the HTML representation or trust the notebook. <br />On GitHub, the HTML representation is unable to render, please try loading this page with nbviewer.org.</b></div><div class=\"sk-container\" hidden><div class=\"sk-item\"><div class=\"sk-estimator sk-toggleable\"><input class=\"sk-toggleable__control sk-hidden--visually\" id=\"sk-estimator-id-7\" type=\"checkbox\" checked><label for=\"sk-estimator-id-7\" class=\"sk-toggleable__label sk-toggleable__label-arrow\">BaggingClassifier</label><div class=\"sk-toggleable__content\"><pre>BaggingClassifier(max_features=0.8, max_samples=0.8, n_estimators=20, n_jobs=-1)</pre></div></div></div></div></div>"
      ],
      "text/plain": [
       "BaggingClassifier(max_features=0.8, max_samples=0.8, n_estimators=20, n_jobs=-1)"
      ]
     },
     "execution_count": 36,
     "metadata": {},
     "output_type": "execute_result"
    }
   ],
   "source": [
    "%%time\n",
    "from sklearn.ensemble import BaggingClassifier #for bootstrapping\n",
    "bag_clf = BaggingClassifier(n_estimators=20,max_samples=0.8,max_features=0.8,n_jobs=-1)\n",
    "bag_clf.fit(x_train_mnist,np.ravel(y_train_mnist))"
   ]
  },
  {
   "cell_type": "code",
   "execution_count": 38,
   "metadata": {},
   "outputs": [
    {
     "name": "stdout",
     "output_type": "stream",
     "text": [
      "39200\n",
      "626\n"
     ]
    }
   ],
   "source": [
    "print(len(bag_clf.estimators_samples_[0]))\n",
    "print(len(bag_clf.estimators_features_[0]))\n"
   ]
  },
  {
   "cell_type": "markdown",
   "metadata": {},
   "source": [
    "<span style=\"color:green;font-size:x-large\">Accuracy and Precision</span>"
   ]
  },
  {
   "cell_type": "code",
   "execution_count": 39,
   "metadata": {},
   "outputs": [
    {
     "name": "stderr",
     "output_type": "stream",
     "text": [
      "/opt/anaconda3/lib/python3.9/site-packages/joblib/externals/loky/process_executor.py:700: UserWarning: A worker stopped while some jobs were given to the executor. This can be caused by a too short worker timeout or by a memory leak.\n",
      "  warnings.warn(\n"
     ]
    },
    {
     "name": "stdout",
     "output_type": "stream",
     "text": [
      "train accuracy: 0.9988571428571429\n",
      "test accuracy : 0.9555238095238096\n"
     ]
    }
   ],
   "source": [
    "print(\"train accuracy:\", bag_clf.score(x_train_mnist,y_train_mnist))\n",
    "print(\"test accuracy :\", bag_clf.score(x_test_mnist,y_test_mnist))\n",
    "\n",
    "\"\"\"RESULT\n",
    "\"\"\""
   ]
  },
  {
   "cell_type": "code",
   "execution_count": 40,
   "metadata": {},
   "outputs": [
    {
     "data": {
      "text/plain": [
       "0.9555213310345743"
      ]
     },
     "execution_count": 40,
     "metadata": {},
     "output_type": "execute_result"
    }
   ],
   "source": [
    "from sklearn.metrics import precision_score\n",
    "precision_score(y_test_mnist,bag_clf.predict(x_test_mnist),average=\"weighted\")"
   ]
  },
  {
   "cell_type": "markdown",
   "metadata": {},
   "source": [
    "<p></p>\n",
    "<span style=\"color:green;font-size:x-large\">Hyperparameters vs. model parameters</span>\n",
    "<p></p>\n",
    "<li>In machine learning, a <span style=\"color:blue\">model parameter</span> is something that is estimated from the data by the model. These are what we're looking for when we train a model. For example, the coefficients of a regression equation (or the weights in a neural network) are model parameters. The split values in a decision tree are another example of a model parameters</li>\n",
    "<li>In our bagging model, we generated 10 trees using 80% of the features and 80% of the data (with replacement). These parameters are external to the model. I.e., they cannot be estimated from the data but must be tuned externally</li>\n",
    "<li>Parameters that are used to tune the learning model are known as <span style=\"color:blue\">hyperparameters</span></li>\n",
    "<li>Hyperparameter tuning is an important part (art!) in ML</li>\n"
   ]
  },
  {
   "cell_type": "markdown",
   "metadata": {},
   "source": [
    "<span style=\"color:green;font-size:x-large\">Hyperparameter estimation through grid search</span>\n",
    "<p></p>\n",
    "<li>The process of figuring out the right combination of hyperparameters is known as <span style=\"color:blue\">hyperparameter tuning</span></li>\n",
    "<li>To avoid the danger of overfitting, tuning is usually done by running many different combinations of hyperparameter values in a cross validation framework</li>\n",
    "<li>sklearn provides <a href=\"https://scikit-learn.org/stable/modules/generated/sklearn.model_selection.GridSearchCV.html\">GridSearcCV</a> to search through the hyperparameter space</li>\n"
   ]
  },
  {
   "cell_type": "raw",
   "metadata": {},
   "source": [
    "%%time\n",
    "from sklearn.model_selection import GridSearchCV\n",
    "parameters = { #Parameters are for the random forest classifier model\n",
    "     'n_estimators':(10, 20, 40), #the number of trees\n",
    "     'max_samples': (.6, .8), \n",
    "    'max_features': (.6, .8)\n",
    "    #'min_samples_leaf':(10,20,30),\n",
    "    #'min_samples_split' : (40,50,60),\n",
    "}\n",
    "\n",
    "#For grid search, we'll use 3 fold CV, and use all available processors iRandomForestClassifierrallel (n_jobs=-1)\n",
    "gs_clf = GridSearchCV(RandomForestClassifier(),parameters,cv=7,n_jobs=-1,verbose=3)\n",
    "gs_clf.fit(x_train_mnist, np.ravel(y_train_mnist))\n",
    "gs_clf.best_score_, gs_clf.best_params_ #Best score is the mean CV score of the best estimator (model)"
   ]
  },
  {
   "cell_type": "markdown",
   "metadata": {},
   "source": [
    "<span style=\"color:green;font-size:x-large\">Gridsearch output</span>\n",
    "<li>Note the time for each cv run. As the number of estimators go up, the time goes up</li>\n",
    "<li>Total time on my machine: 16 minutes</li>\n",
    "<pre>\n",
    "Fitting 7 folds for each of 12 candidates, totalling 84 fits\n",
    "[CV 1/7] END max_features=0.6, max_samples=0.6, n_estimators=10;, score=0.940 total time=  25.0s\n",
    "[CV 4/7] END max_features=0.6, max_samples=0.6, n_estimators=20;, score=0.956 total time=  54.2s\n",
    "/opt/anaconda3/lib/python3.9/site-packages/joblib/externals/loky/process_executor.py:700: UserWarning: A worker stopped while some jobs were given to the executor. This can be caused by a too short worker timeout or by a memory leak.\n",
    "  warnings.warn(\n",
    "[CV 2/7] END max_features=0.6, max_samples=0.6, n_estimators=10;, score=0.937 total time=  24.9s\n",
    "[CV 5/7] END max_features=0.6, max_samples=0.6, n_estimators=20;, score=0.950 total time=  51.8s\n",
    "[CV 3/7] END max_features=0.6, max_samples=0.6, n_estimators=10;, score=0.934 total time=  25.4s\n",
    "[CV 6/7] END max_features=0.6, max_samples=0.6, n_estimators=20;, score=0.957 total time=  51.0s\n",
    "[CV 4/7] END max_features=0.6, max_samples=0.6, n_estimators=10;, score=0.935 total time=  25.8s\n",
    "[CV 7/7] END max_features=0.6, max_samples=0.6, n_estimators=20;, score=0.952 total time=  52.1s\n",
    "[CV 5/7] END max_features=0.6, max_samples=0.6, n_estimators=10;, score=0.936 total time=  28.1s\n",
    "[CV 1/7] END max_features=0.6, max_samples=0.6, n_estimators=40;, score=0.955 total time= 1.8min\n",
    "[CV 6/7] END max_features=0.6, max_samples=0.6, n_estimators=10;, score=0.943 total time=  28.4s\n",
    "[CV 2/7] END max_features=0.6, max_samples=0.6, n_estimators=40;, score=0.954 total time= 1.8min\n",
    "[CV 7/7] END max_features=0.6, max_samples=0.6, n_estimators=10;, score=0.940 total time=  28.7s\n",
    "[CV 3/7] END max_features=0.6, max_samples=0.6, n_estimators=40;, score=0.950 total time= 1.8min\n",
    "[CV 1/7] END max_features=0.6, max_samples=0.8, n_estimators=10;, score=0.939 total time=  43.8s\n",
    "[CV 4/7] END max_features=0.6, max_samples=0.8, n_estimators=10;, score=0.940 total time=  37.9s\n",
    "[CV 3/7] END max_features=0.6, max_samples=0.8, n_estimators=10;, score=0.940 total time=  35.5s\n",
    "[CV 5/7] END max_features=0.6, max_samples=0.8, n_estimators=10;, score=0.942 total time=  34.8s\n",
    "[CV 2/7] END max_features=0.6, max_samples=0.6, n_estimators=20;, score=0.950 total time=  51.7s\n",
    "[CV 5/7] END max_features=0.6, max_samples=0.6, n_estimators=40;, score=0.954 total time= 1.8min\n",
    "[CV 3/7] END max_features=0.6, max_samples=0.6, n_estimators=20;, score=0.943 total time=  51.7s\n",
    "[CV 6/7] END max_features=0.6, max_samples=0.6, n_estimators=40;, score=0.958 total time= 1.7min\n",
    "[CV 2/7] END max_features=0.6, max_samples=0.8, n_estimators=10;, score=0.940 total time=  42.7s\n",
    "[CV 6/7] END max_features=0.6, max_samples=0.8, n_estimators=10;, score=0.943 total time=  35.9s\n",
    "[CV 1/7] END max_features=0.6, max_samples=0.6, n_estimators=20;, score=0.950 total time=  56.1s\n",
    "[CV 4/7] END max_features=0.6, max_samples=0.6, n_estimators=40;, score=0.955 total time= 1.8min\n",
    "[CV 4/7] END max_features=0.6, max_samples=0.8, n_estimators=20;, score=0.954 total time= 1.1min\n",
    "[CV 5/7] END max_features=0.6, max_samples=0.8, n_estimators=20;, score=0.950 total time= 1.1min\n",
    "[CV 1/7] END max_features=0.8, max_samples=0.6, n_estimators=10;, score=0.939 total time=  50.2s\n",
    "[CV 6/7] END max_features=0.6, max_samples=0.8, n_estimators=20;, score=0.953 total time= 1.1min\n",
    "[CV 2/7] END max_features=0.8, max_samples=0.6, n_estimators=10;, score=0.931 total time=  49.8s\n",
    "[CV 7/7] END max_features=0.6, max_samples=0.8, n_estimators=20;, score=0.956 total time= 1.3min\n",
    "[CV 3/7] END max_features=0.8, max_samples=0.6, n_estimators=10;, score=0.929 total time=  45.5s\n",
    "[CV 7/7] END max_features=0.6, max_samples=0.8, n_estimators=10;, score=0.944 total time=  38.9s\n",
    "[CV 2/7] END max_features=0.6, max_samples=0.8, n_estimators=40;, score=0.956 total time= 2.3min\n",
    "[CV 7/7] END max_features=0.6, max_samples=0.6, n_estimators=40;, score=0.958 total time= 1.9min\n",
    "[CV 3/7] END max_features=0.6, max_samples=0.8, n_estimators=40;, score=0.952 total time= 2.4min\n",
    "[CV 1/7] END max_features=0.6, max_samples=0.8, n_estimators=20;, score=0.954 total time= 1.1min\n",
    "[CV 4/7] END max_features=0.6, max_samples=0.8, n_estimators=40;, score=0.958 total time= 2.3min\n",
    "[CV 2/7] END max_features=0.6, max_samples=0.8, n_estimators=20;, score=0.953 total time= 1.1min\n",
    "[CV 5/7] END max_features=0.6, max_samples=0.8, n_estimators=40;, score=0.955 total time= 2.3min\n",
    "[CV 3/7] END max_features=0.6, max_samples=0.8, n_estimators=20;, score=0.947 total time= 1.1min\n",
    "[CV 6/7] END max_features=0.6, max_samples=0.8, n_estimators=40;, score=0.959 total time= 2.2min\n",
    "[CV 1/7] END max_features=0.6, max_samples=0.8, n_estimators=40;, score=0.960 total time= 2.3min\n",
    "[CV 1/7] END max_features=0.8, max_samples=0.6, n_estimators=20;, score=0.948 total time= 1.2min\n",
    "[CV 4/7] END max_features=0.8, max_samples=0.6, n_estimators=10;, score=0.936 total time=  38.1s\n",
    "[CV 3/7] END max_features=0.8, max_samples=0.6, n_estimators=20;, score=0.938 total time= 1.3min\n",
    "[CV 5/7] END max_features=0.8, max_samples=0.6, n_estimators=10;, score=0.940 total time=  42.1s\n",
    "[CV 4/7] END max_features=0.8, max_samples=0.6, n_estimators=20;, score=0.946 total time= 1.2min\n",
    "[CV 6/7] END max_features=0.8, max_samples=0.6, n_estimators=10;, score=0.939 total time=  41.6s\n",
    "[CV 6/7] END max_features=0.8, max_samples=0.6, n_estimators=20;, score=0.949 total time= 1.2min\n",
    "[CV 5/7] END max_features=0.8, max_samples=0.6, n_estimators=20;, score=0.948 total time= 1.2min\n",
    "[CV 1/7] END max_features=0.8, max_samples=0.8, n_estimators=10;, score=0.942 total time=  46.1s\n",
    "[CV 7/7] END max_features=0.8, max_samples=0.6, n_estimators=20;, score=0.949 total time= 1.2min\n",
    "[CV 3/7] END max_features=0.8, max_samples=0.8, n_estimators=10;, score=0.934 total time=  58.6s\n",
    "[CV 7/7] END max_features=0.6, max_samples=0.8, n_estimators=40;, score=0.957 total time= 2.2min\n",
    "[CV 3/7] END max_features=0.8, max_samples=0.6, n_estimators=40;, score=0.946 total time= 2.5min\n",
    "[CV 7/7] END max_features=0.8, max_samples=0.6, n_estimators=10;, score=0.940 total time=  38.0s\n",
    "[CV 1/7] END max_features=0.8, max_samples=0.6, n_estimators=40;, score=0.953 total time= 2.4min\n",
    "[CV 7/7] END max_features=0.8, max_samples=0.8, n_estimators=10;, score=0.936 total time=  47.1s\n",
    "[CV 2/7] END max_features=0.8, max_samples=0.6, n_estimators=40;, score=0.948 total time= 2.5min\n",
    "[CV 1/7] END max_features=0.8, max_samples=0.8, n_estimators=20;, score=0.948 total time= 1.5min\n",
    "[CV 4/7] END max_features=0.8, max_samples=0.8, n_estimators=10;, score=0.938 total time=  51.2s\n",
    "[CV 3/7] END max_features=0.8, max_samples=0.8, n_estimators=20;, score=0.945 total time= 1.5min\n",
    "[CV 2/7] END max_features=0.8, max_samples=0.8, n_estimators=10;, score=0.930 total time=  58.6s\n",
    "[CV 5/7] END max_features=0.8, max_samples=0.8, n_estimators=10;, score=0.936 total time=  47.5s\n",
    "[CV 4/7] END max_features=0.8, max_samples=0.8, n_estimators=20;, score=0.948 total time= 1.5min\n",
    "[CV 4/7] END max_features=0.8, max_samples=0.6, n_estimators=40;, score=0.951 total time= 2.4min\n",
    "[CV 5/7] END max_features=0.8, max_samples=0.8, n_estimators=20;, score=0.949 total time= 1.5min\n",
    "[CV 2/7] END max_features=0.8, max_samples=0.6, n_estimators=20;, score=0.947 total time= 1.2min\n",
    "[CV 5/7] END max_features=0.8, max_samples=0.6, n_estimators=40;, score=0.954 total time= 2.4min\n",
    "[CV 6/7] END max_features=0.8, max_samples=0.8, n_estimators=20;, score=0.952 total time= 1.5min\n",
    "[CV 6/7] END max_features=0.8, max_samples=0.8, n_estimators=10;, score=0.943 total time=  53.4s\n",
    "[CV 7/7] END max_features=0.8, max_samples=0.8, n_estimators=20;, score=0.952 total time= 1.5min\n",
    "[CV 6/7] END max_features=0.8, max_samples=0.6, n_estimators=40;, score=0.955 total time= 2.4min\n",
    "[CV 2/7] END max_features=0.8, max_samples=0.8, n_estimators=40;, score=0.950 total time= 3.0min\n",
    "[CV 7/7] END max_features=0.8, max_samples=0.6, n_estimators=40;, score=0.956 total time= 2.4min\n",
    "[CV 3/7] END max_features=0.8, max_samples=0.8, n_estimators=40;, score=0.949 total time= 2.9min\n",
    "[CV 2/7] END max_features=0.8, max_samples=0.8, n_estimators=20;, score=0.947 total time= 1.5min\n",
    "[CV 5/7] END max_features=0.8, max_samples=0.8, n_estimators=40;, score=0.954 total time= 2.7min\n",
    "CPU times: user 4min 58s, sys: 1min 1s, total: 5min 59s\n",
    "Wall time: 16min\n",
    "(0.9568163265306123,\n",
    " {'max_features': 0.6, 'max_samples': 0.8, 'n_estimators': 40})\n",
    "</pre>"
   ]
  },
  {
   "cell_type": "raw",
   "metadata": {},
   "source": [
    "gs_clf.best_score_, gs_clf.best_params_ #Best score is the mean CV score of the best estimator (model)\n",
    "\n",
    "\"\"\"\n",
    "(0.9568163265306123,\n",
    " {'max_features': 0.6, 'max_samples': 0.8, 'n_estimators': 40})\n",
    "\"\"\""
   ]
  },
  {
   "cell_type": "markdown",
   "metadata": {},
   "source": [
    "<span style=\"color:green;font-size:xx-large\">Examine the results</span>\n",
    "<p></p>\n",
    "<li>The cv_results_ attribute returns a dictionary of useful results</li>\n",
    "<li>Each row corresponds to a parameter combination (12 in our example)</li>\n",
    "<li>Columns tell us the results of each cross validation fold on the test fold</li>\n",
    "<li>By looking at the results and the parameter shift as the rank increases, we can get some idea of what to explore next</li>"
   ]
  },
  {
   "cell_type": "raw",
   "metadata": {},
   "source": [
    "import pandas as pd\n",
    "pd.DataFrame(gs_clf.cv_results_)"
   ]
  },
  {
   "cell_type": "markdown",
   "metadata": {},
   "source": [
    "\n",
    "\n",
    "<pre>\n",
    "\tmean_fit_time\tstd_fit_time\tmean_score_time\tstd_score_time\tparam_max_features\tparam_max_samples\tparam_n_estimators\tparams\tsplit0_test_score\tsplit1_test_score\tsplit2_test_score\tsplit3_test_score\tsplit4_test_score\tsplit5_test_score\tsplit6_test_score\tmean_test_score\tstd_test_score\trank_test_score\n",
    "0\t26.436759\t1.570686\t0.180350\t0.017108\t0.6\t0.6\t10\t{'max_features': 0.6, 'max_samples': 0.6, 'n_e...\t0.939714\t0.936857\t0.934429\t0.935143\t0.936000\t0.943143\t0.940000\t0.937898\t0.002916\t10\n",
    "1\t52.470220\t1.680127\t0.203138\t0.028740\t0.6\t0.6\t20\t{'max_features': 0.6, 'max_samples': 0.6, 'n_e...\t0.950429\t0.950000\t0.943000\t0.955571\t0.950000\t0.957286\t0.951857\t0.951163\t0.004264\t6\n",
    "2\t106.841716\t2.929984\t0.238757\t0.019672\t0.6\t0.6\t40\t{'max_features': 0.6, 'max_samples': 0.6, 'n_e...\t0.955000\t0.953714\t0.949714\t0.954857\t0.953714\t0.958143\t0.958286\t0.954776\t0.002715\t2\n",
    "3\t38.270749\t3.289352\t0.214992\t0.045783\t0.6\t0.8\t10\t{'max_features': 0.6, 'max_samples': 0.8, 'n_e...\t0.938571\t0.939857\t0.939857\t0.940143\t0.942143\t0.943286\t0.944286\t0.941163\t0.001941\t9\n",
    "4\t67.845399\t2.904584\t0.217831\t0.039327\t0.6\t0.8\t20\t{'max_features': 0.6, 'max_samples': 0.8, 'n_e...\t0.954143\t0.952857\t0.946857\t0.953571\t0.950286\t0.953429\t0.956286\t0.952490\t0.002826\t4\n",
    "5\t137.847501\t3.146549\t0.265167\t0.034821\t0.6\t0.8\t40\t{'max_features': 0.6, 'max_samples': 0.8, 'n_e...\t0.960429\t0.956143\t0.951571\t0.957714\t0.955143\t0.959286\t0.957429\t0.956816\t0.002702\t1\n",
    "6\t43.405983\t4.654799\t0.214100\t0.039762\t0.8\t0.6\t10\t{'max_features': 0.8, 'max_samples': 0.6, 'n_e...\t0.939000\t0.931429\t0.929286\t0.935571\t0.939857\t0.938857\t0.940143\t0.936306\t0.004048\t12\n",
    "7\t73.466744\t1.608597\t0.232166\t0.025948\t0.8\t0.6\t20\t{'max_features': 0.8, 'max_samples': 0.6, 'n_e...\t0.948429\t0.947429\t0.938143\t0.945857\t0.948429\t0.948571\t0.949000\t0.946551\t0.003567\t8\n",
    "8\t144.541655\t2.826865\t0.226560\t0.031848\t0.8\t0.6\t40\t{'max_features': 0.8, 'max_samples': 0.6, 'n_e...\t0.952571\t0.948286\t0.946286\t0.951429\t0.953571\t0.955143\t0.955714\t0.951857\t0.003232\t5\n",
    "9\t51.593822\t4.903039\t0.185936\t0.019632\t0.8\t0.8\t10\t{'max_features': 0.8, 'max_samples': 0.8, 'n_e...\t0.941571\t0.930000\t0.933857\t0.937714\t0.936286\t0.943286\t0.936000\t0.936959\t0.004163\t11\n",
    "10\t89.134779\t1.640616\t0.215147\t0.041693\t0.8\t0.8\t20\t{'max_features': 0.8, 'max_samples': 0.8, 'n_e...\t0.948143\t0.947000\t0.944571\t0.948143\t0.948714\t0.951857\t0.952143\t0.948653\t0.002460\t7\n",
    "11\t166.907229\t8.912953\t0.179501\t0.005154\t0.8\t0.8\t40\t{'max_features': 0.8, 'max_samples': 0.8, 'n_e...\t0.956857\t0.950429\t0.949286\t0.955000\t0.953571\t0.953143\t0.956286\t0.953510\t0.002635\t3\n",
    "</pre>"
   ]
  },
  {
   "cell_type": "markdown",
   "metadata": {},
   "source": [
    "<span style=\"color:green;font-size:x-large\">Evaluating the best model</span>\n",
    "<p></p>\n",
    "<li>The gridsearch best model used cross validation on the training dataset</li>\n",
    "<li>We can run the best model on the entire training dataset and test it against the testing dataset</li>"
   ]
  },
  {
   "cell_type": "raw",
   "metadata": {},
   "source": [
    "%%time\n",
    "b_model = RandomForestClassifier(n_estimators=40,max_samples=0.8,\n",
    "                                max_features=0.6)\n",
    "b_model.fit(x_train_mnist,np.ravel(y_train_mnist))\n",
    "\n",
    "#Accuracy\n",
    "print(\"train accuracy:\", b_model.score(x_train_mnist,y_train_mnist))\n",
    "print(\"test accuracy :\", b_model.score(x_test_mnist,y_test_mnist))\n",
    "\n",
    "#Precision\n",
    "from sklearn.metrics import precision_score\n",
    "precision_score(y_test_mnist,b_model.predict(x_test_mnist),average=\"weighted\")\n",
    "\n",
    "\n",
    "#RESULTS:\n",
    "#train accuracy: 0.9995714285714286\n",
    "#test accuracy : 0.9619047619047619\n",
    "\n",
    "#precision: 0.9618893014040635"
   ]
  },
  {
   "cell_type": "markdown",
   "metadata": {},
   "source": [
    "<br><br><br>\n",
    "<span style=\"color:red;font-size:50px\">Gradient Boosting</span>\n",
    "<br><br>\n"
   ]
  },
  {
   "cell_type": "markdown",
   "metadata": {},
   "source": [
    "In gradient boosting, the algorithm starts with a randomly generated tree that predicts the y values and then iteratively generates trees that predict the error "
   ]
  },
  {
   "cell_type": "markdown",
   "metadata": {},
   "source": [
    "A simplistic explanation is as follows:\n",
    "<li>set metaparameters (num features and sample size)</li>\n",
    "<li>build a tree (using the feature subset and sample subset)</li>\n",
    "<li>for that tree, compute the error for each case in the sample (or for another random sample)</li>\n",
    "<li>we now have data in the format (independent features, prediction error)</li>\n",
    "<li>build a tree that predicts the prediction error (after applying a regularization factor to reduce overfitting)</li>\n",
    "<li>combine the original tree and the error predicting tree (after applying a second \"error correcting factor\"</li>\n",
    "<li>this combination gives us prediction model 1</li>\n",
    "<li>recalculate errors and build a new error prediction tree</li>\n",
    "<li>combine with model1 to give model 2</li>\n",
    "<li>Do this for n iterations</li>\n"
   ]
  },
  {
   "cell_type": "markdown",
   "metadata": {},
   "source": [
    "<img src=\"gradient boosting.png\">"
   ]
  },
  {
   "cell_type": "markdown",
   "metadata": {},
   "source": [
    "<li>Gradient boosting is computationally expensive but, in most cases, gives better results</li>"
   ]
  },
  {
   "cell_type": "raw",
   "metadata": {},
   "source": [
    "%%time\n",
    "from sklearn.ensemble import GradientBoostingClassifier\n",
    "\n",
    "g_clf = GradientBoostingClassifier(n_estimators=40,\n",
    "                                  max_features=0.8,\n",
    "                                  subsample=0.6)\n",
    "\n",
    "g_clf.fit(x_train_mnist, np.ravel(y_train_mnist))"
   ]
  },
  {
   "cell_type": "raw",
   "metadata": {},
   "source": [
    "#Accuracy\n",
    "print(\"train accuracy:\", g_clf.score(x_train_mnist,y_train_mnist))\n",
    "print(\"test accuracy :\", g_clf.score(x_test_mnist,y_test_mnist))\n",
    "\n",
    "#Precision\n",
    "from sklearn.metrics import precision_score\n",
    "precision_score(y_test_mnist,g_clf.predict(x_test_mnist),average=\"weighted\")\n",
    "\n",
    "#train accuracy: 0.9197551020408163\n",
    "#test accuracy : 0.9138571428571428\n",
    "#precision: 0.9140743962102942"
   ]
  },
  {
   "cell_type": "raw",
   "metadata": {},
   "source": [
    "%%time\n",
    "from sklearn.ensemble import GradientBoostingClassifier\n",
    "from sklearn.model_selection import GridSearchCV\n",
    "parameters = {\n",
    "     'n_estimators':(40, 60), #the number of trees\n",
    "     'subsample':(.4,.6),\n",
    "     'max_features':(0.7,0.8,0.9)\n",
    "     \n",
    "}\n",
    "\n",
    "model = GridSearchCV(GradientBoostingClassifier(),parameters,cv=7,n_jobs=-1)\n",
    "model.fit(x_train_mnist, np.ravel(y_train_mnist))\n",
    "model.best_score_, model.best_params_\n",
    "\n",
    "\"\"\"\n",
    "RESULT\n",
    "(0.9259795918367347,\n",
    " {'max_features': 0.8, 'n_estimators': 60, 'subsample': 0.6})\n",
    " \"\"\""
   ]
  },
  {
   "cell_type": "raw",
   "metadata": {},
   "source": [
    "%%time\n",
    "from sklearn.ensemble import GradientBoostingClassifier\n",
    "\n",
    "b_g_clf = GradientBoostingClassifier(n_estimators=60,\n",
    "                                  max_features=0.8,\n",
    "                                  subsample=0.6)\n",
    "\n",
    "b_g_clf.fit(x_train_mnist, np.ravel(y_train_mnist))\n",
    "\n",
    "\"\"\"TIME\n",
    "CPU times: user 5min 56s, sys: 266 ms, total: 5min 56s\n",
    "Wall time: 5min 56s\n",
    "\"\"\""
   ]
  },
  {
   "cell_type": "raw",
   "metadata": {},
   "source": [
    "#Accuracy\n",
    "print(\"train accuracy:\", b_g_clf.score(x_train_mnist,y_train_mnist))\n",
    "print(\"test accuracy :\", b_g_clf.score(x_test_mnist,y_test_mnist))\n",
    "\n",
    "#Precision\n",
    "from sklearn.metrics import precision_score\n",
    "precision_score(y_test_mnist,b_g_clf.predict(x_test_mnist),average=\"weighted\")\n",
    "\n",
    "\"\"\"\n",
    "RESULT\n",
    "train accuracy: 0.9384897959183673\n",
    "test accuracy : 0.9284761904761905\n",
    "\n",
    "\n",
    "precision: 0.9285920163859621\n",
    "\"\"\""
   ]
  },
  {
   "cell_type": "markdown",
   "metadata": {},
   "source": [
    "<span style=\"color:green;font-size:xx-large\">Feature importance</span>\n",
    "<p></p>\n",
    "<li>Since ensemble methods are picking different features in different trees, they can provide us with an estimate of feature importance</li>\n",
    "<li>For each feature, the model calculates by how much entropy decreases (net across levels) by selecting it</li>"
   ]
  },
  {
   "cell_type": "markdown",
   "metadata": {},
   "source": [
    "<li>the digit recognition features are not informative so we'll use our wine example to examine feature importance</li>"
   ]
  },
  {
   "cell_type": "code",
   "execution_count": 54,
   "metadata": {},
   "outputs": [],
   "source": [
    "url = \"http://archive.ics.uci.edu/ml/machine-learning-databases/wine-quality/winequality-red.csv\"\n",
    "import pandas as pd\n",
    "from pandas import DataFrame\n",
    "w_df = pd.read_csv(url,header=0,sep=';')\n"
   ]
  },
  {
   "cell_type": "code",
   "execution_count": 55,
   "metadata": {},
   "outputs": [],
   "source": [
    "from sklearn.model_selection import train_test_split\n",
    "train, test = train_test_split(w_df, test_size = 0.3)\n",
    "x_train_wine = train.iloc[0:,0:11]\n",
    "y_train_wine = train[['quality']]\n",
    "x_test_wine = test.iloc[0:,0:11]\n",
    "y_test_wine = test[['quality']]\n",
    "\n",
    "\n"
   ]
  },
  {
   "cell_type": "code",
   "execution_count": 56,
   "metadata": {},
   "outputs": [
    {
     "data": {
      "text/html": [
       "<style>#sk-container-id-10 {color: black;}#sk-container-id-10 pre{padding: 0;}#sk-container-id-10 div.sk-toggleable {background-color: white;}#sk-container-id-10 label.sk-toggleable__label {cursor: pointer;display: block;width: 100%;margin-bottom: 0;padding: 0.3em;box-sizing: border-box;text-align: center;}#sk-container-id-10 label.sk-toggleable__label-arrow:before {content: \"▸\";float: left;margin-right: 0.25em;color: #696969;}#sk-container-id-10 label.sk-toggleable__label-arrow:hover:before {color: black;}#sk-container-id-10 div.sk-estimator:hover label.sk-toggleable__label-arrow:before {color: black;}#sk-container-id-10 div.sk-toggleable__content {max-height: 0;max-width: 0;overflow: hidden;text-align: left;background-color: #f0f8ff;}#sk-container-id-10 div.sk-toggleable__content pre {margin: 0.2em;color: black;border-radius: 0.25em;background-color: #f0f8ff;}#sk-container-id-10 input.sk-toggleable__control:checked~div.sk-toggleable__content {max-height: 200px;max-width: 100%;overflow: auto;}#sk-container-id-10 input.sk-toggleable__control:checked~label.sk-toggleable__label-arrow:before {content: \"▾\";}#sk-container-id-10 div.sk-estimator input.sk-toggleable__control:checked~label.sk-toggleable__label {background-color: #d4ebff;}#sk-container-id-10 div.sk-label input.sk-toggleable__control:checked~label.sk-toggleable__label {background-color: #d4ebff;}#sk-container-id-10 input.sk-hidden--visually {border: 0;clip: rect(1px 1px 1px 1px);clip: rect(1px, 1px, 1px, 1px);height: 1px;margin: -1px;overflow: hidden;padding: 0;position: absolute;width: 1px;}#sk-container-id-10 div.sk-estimator {font-family: monospace;background-color: #f0f8ff;border: 1px dotted black;border-radius: 0.25em;box-sizing: border-box;margin-bottom: 0.5em;}#sk-container-id-10 div.sk-estimator:hover {background-color: #d4ebff;}#sk-container-id-10 div.sk-parallel-item::after {content: \"\";width: 100%;border-bottom: 1px solid gray;flex-grow: 1;}#sk-container-id-10 div.sk-label:hover label.sk-toggleable__label {background-color: #d4ebff;}#sk-container-id-10 div.sk-serial::before {content: \"\";position: absolute;border-left: 1px solid gray;box-sizing: border-box;top: 0;bottom: 0;left: 50%;z-index: 0;}#sk-container-id-10 div.sk-serial {display: flex;flex-direction: column;align-items: center;background-color: white;padding-right: 0.2em;padding-left: 0.2em;position: relative;}#sk-container-id-10 div.sk-item {position: relative;z-index: 1;}#sk-container-id-10 div.sk-parallel {display: flex;align-items: stretch;justify-content: center;background-color: white;position: relative;}#sk-container-id-10 div.sk-item::before, #sk-container-id-10 div.sk-parallel-item::before {content: \"\";position: absolute;border-left: 1px solid gray;box-sizing: border-box;top: 0;bottom: 0;left: 50%;z-index: -1;}#sk-container-id-10 div.sk-parallel-item {display: flex;flex-direction: column;z-index: 1;position: relative;background-color: white;}#sk-container-id-10 div.sk-parallel-item:first-child::after {align-self: flex-end;width: 50%;}#sk-container-id-10 div.sk-parallel-item:last-child::after {align-self: flex-start;width: 50%;}#sk-container-id-10 div.sk-parallel-item:only-child::after {width: 0;}#sk-container-id-10 div.sk-dashed-wrapped {border: 1px dashed gray;margin: 0 0.4em 0.5em 0.4em;box-sizing: border-box;padding-bottom: 0.4em;background-color: white;}#sk-container-id-10 div.sk-label label {font-family: monospace;font-weight: bold;display: inline-block;line-height: 1.2em;}#sk-container-id-10 div.sk-label-container {text-align: center;}#sk-container-id-10 div.sk-container {/* jupyter's `normalize.less` sets `[hidden] { display: none; }` but bootstrap.min.css set `[hidden] { display: none !important; }` so we also need the `!important` here to be able to override the default hidden behavior on the sphinx rendered scikit-learn.org. See: https://github.com/scikit-learn/scikit-learn/issues/21755 */display: inline-block !important;position: relative;}#sk-container-id-10 div.sk-text-repr-fallback {display: none;}</style><div id=\"sk-container-id-10\" class=\"sk-top-container\"><div class=\"sk-text-repr-fallback\"><pre>RandomForestRegressor(max_depth=5)</pre><b>In a Jupyter environment, please rerun this cell to show the HTML representation or trust the notebook. <br />On GitHub, the HTML representation is unable to render, please try loading this page with nbviewer.org.</b></div><div class=\"sk-container\" hidden><div class=\"sk-item\"><div class=\"sk-estimator sk-toggleable\"><input class=\"sk-toggleable__control sk-hidden--visually\" id=\"sk-estimator-id-10\" type=\"checkbox\" checked><label for=\"sk-estimator-id-10\" class=\"sk-toggleable__label sk-toggleable__label-arrow\">RandomForestRegressor</label><div class=\"sk-toggleable__content\"><pre>RandomForestRegressor(max_depth=5)</pre></div></div></div></div></div>"
      ],
      "text/plain": [
       "RandomForestRegressor(max_depth=5)"
      ]
     },
     "execution_count": 56,
     "metadata": {},
     "output_type": "execute_result"
    }
   ],
   "source": [
    "from sklearn.ensemble import RandomForestRegressor\n",
    "rf_model = RandomForestRegressor(max_depth=5)\n",
    "rf_model.fit(x_train_wine,np.ravel(y_train_wine))"
   ]
  },
  {
   "cell_type": "code",
   "execution_count": 57,
   "metadata": {},
   "outputs": [
    {
     "data": {
      "text/plain": [
       "0.549257426450366"
      ]
     },
     "execution_count": 57,
     "metadata": {},
     "output_type": "execute_result"
    }
   ],
   "source": [
    "rf_model.score(x_train_wine,y_train_wine)"
   ]
  },
  {
   "cell_type": "code",
   "execution_count": 58,
   "metadata": {},
   "outputs": [
    {
     "data": {
      "text/plain": [
       "0.42185133251450835"
      ]
     },
     "execution_count": 58,
     "metadata": {},
     "output_type": "execute_result"
    }
   ],
   "source": [
    "rf_model.score(x_test_wine,y_test_wine)"
   ]
  },
  {
   "cell_type": "markdown",
   "metadata": {},
   "source": [
    "<span style=\"color:green;font-size:large\">plotting relative importance of features</span>"
   ]
  },
  {
   "cell_type": "code",
   "execution_count": 59,
   "metadata": {},
   "outputs": [
    {
     "data": {
      "text/plain": [
       "array([0.03, 0.14, 0.02, 0.02, 0.03, 0.03, 0.06, 0.03, 0.03, 0.20, 0.42])"
      ]
     },
     "execution_count": 59,
     "metadata": {},
     "output_type": "execute_result"
    }
   ],
   "source": [
    "rf_model.feature_importances_"
   ]
  },
  {
   "cell_type": "code",
   "execution_count": 60,
   "metadata": {},
   "outputs": [
    {
     "data": {
      "text/plain": [
       "Text(0.5, 0, 'Relative Importance')"
      ]
     },
     "execution_count": 60,
     "metadata": {},
     "output_type": "execute_result"
    },
    {
     "data": {
      "image/png": "[encoded data removed]",
      "text/plain": [
       "<Figure size 864x864 with 1 Axes>"
      ]
     },
     "metadata": {
      "needs_background": "light"
     },
     "output_type": "display_data"
    }
   ],
   "source": [
    "import matplotlib.pyplot as plt\n",
    "%matplotlib inline\n",
    "labels = x_train_wine.columns\n",
    "importances = rf_model.feature_importances_\n",
    "indices = np.argsort(importances)\n",
    "plt.figure(figsize=(12,12))\n",
    "plt.title('Feature Importances')\n",
    "plt.barh(range(len(indices)), importances[indices],  color='b', align='center')\n",
    "plt.yticks(range(len(indices)),labels[indices])\n",
    "\n",
    "plt.xlabel('Relative Importance')\n",
    "\n"
   ]
  },
  {
   "cell_type": "code",
   "execution_count": null,
   "metadata": {},
   "outputs": [],
   "source": []
  }
 ],
 "metadata": {
  "anaconda-cloud": {},
  "kernelspec": {
   "display_name": "Python 3 (ipykernel)",
   "language": "python",
   "name": "python3"
  },
  "language_info": {
   "codemirror_mode": {
    "name": "ipython",
    "version": 3
   },
   "file_extension": ".py",
   "mimetype": "text/x-python",
   "name": "python",
   "nbconvert_exporter": "python",
   "pygments_lexer": "ipython3",
   "version": "3.9.7"
  },
  "toc": {
   "base_numbering": 1,
   "nav_menu": {},
   "number_sections": true,
   "sideBar": true,
   "skip_h1_title": false,
   "title_cell": "Table of Contents",
   "title_sidebar": "Contents",
   "toc_cell": false,
   "toc_position": {},
   "toc_section_display": true,
   "toc_window_display": false
  }
 },
 "nbformat": 4,
 "nbformat_minor": 1
}
