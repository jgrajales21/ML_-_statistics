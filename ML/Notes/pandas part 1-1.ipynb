{
 "cells": [
  {
   "cell_type": "markdown",
   "metadata": {},
   "source": [
    "<h1>Pandas</h1>"
   ]
  },
  {
   "cell_type": "markdown",
   "metadata": {},
   "source": [
    "<li>Integrated data manipulation and analysis capabilities\n",
    "<li>Integration with data visualization libraries\n",
    "<li>Integration with machine learning libraries\n",
    "<li>Built in time-series capabilities (Pandas was originally designed for financial time series data)\n",
    "<li>Optimized for speed\n",
    "<li>Built-in support for grabbing data from multiple sources csv, xls, html tables, yahoo, worldbank, FRED\n",
    "<li>Integrated data manipulation support (messy data, missing data, feature construction)\n",
    "<li><b>End to end support for data manipulation, data visualization, data analysis, and presenting results</b>"
   ]
  },
  {
   "cell_type": "markdown",
   "metadata": {},
   "source": [
    "<h3>Getting pandas</h3>\n",
    "<li>Included with anaconda python</li>\n",
    "<li>But upgrade to the latest version</li>"
   ]
  },
  {
   "cell_type": "code",
   "execution_count": null,
   "metadata": {},
   "outputs": [],
   "source": [
    "import numpy as np\n",
    "np.__version__"
   ]
  },
  {
   "cell_type": "code",
   "execution_count": null,
   "metadata": {},
   "outputs": [],
   "source": [
    "import pandas as pd\n",
    "pd.__version__ #2.1.0"
   ]
  },
  {
   "cell_type": "markdown",
   "metadata": {},
   "source": [
    "<h4>Uncomment the following box and run to ensure all libraries are updated</h4>\n",
    "<li><b>Important</b>: Restart kernel after upgrading a library</li>"
   ]
  },
  {
   "cell_type": "code",
   "execution_count": null,
   "metadata": {},
   "outputs": [],
   "source": [
    "\"\"\"\n",
    "!pip install pandas --upgrade\n",
    "!pip install numpy --upgrade\n",
    "!pip install numexpr --upgrade\n",
    "!pip install bottleneck --upgrade\n",
    "!pip install matplotlib --upgrade\n",
    "\"\"\""
   ]
  },
  {
   "cell_type": "markdown",
   "metadata": {},
   "source": [
    "<h3>Imports</h3>\n",
    "<li>pandas and numpy</li>\n",
    "<li>also matplotlib</li>"
   ]
  },
  {
   "cell_type": "code",
   "execution_count": 5,
   "metadata": {},
   "outputs": [],
   "source": [
    "import pandas as pd\n",
    "import numpy as np\n",
    "import matplotlib.pyplot as plt"
   ]
  },
  {
   "cell_type": "markdown",
   "metadata": {},
   "source": [
    "<h3>Documentation</h3>\n",
    "<li><a href=\"https://pandas.pydata.org/pandas-docs/stable/\">pandas</a></li>\n",
    "<li><a href=\"https://matplotlib.org/users/index.html\">matplotlib</a></li>"
   ]
  },
  {
   "cell_type": "markdown",
   "metadata": {},
   "source": [
    "<h3>Pandas organizes data into two data objects</h3>\n",
    "<li>Series: A one dimensional array object\n",
    "<li>DataFrame: A two dimensional <b>table</b> object\n",
    "<ul>\n",
    "    <li>Each column in a dataframe corresponds to a named series</li>\n",
    "    <li>Rows in a dataframe, that are <b>indexed</b></li>\n",
    "    <li>Data can be accessed using row data index values and column data names (rather than integer indexes)</li>\n",
    "    \n",
    "</ul>"
   ]
  },
  {
   "cell_type": "markdown",
   "metadata": {},
   "source": [
    "<h1>DataFrames</h1>\n",
    "<li><b>The most important data structure in python!</b></li>\n",
    "<li>2-Dimensional structure\n",
    "<li>Columns can contain data of different types (like an Excel spreadsheet)\n",
    "<li>Can contain an index (or indices)\n",
    "<li>Columns (and indices) can be named\n"
   ]
  },
  {
   "cell_type": "markdown",
   "metadata": {},
   "source": [
    "<h3>Constructing a dataframe</h3>\n",
    "<li>Note that pandas automatically gives the data an index and names columns</li>\n",
    "<li>But, of course, you can specify them as well</li>"
   ]
  },
  {
   "cell_type": "code",
   "execution_count": 6,
   "metadata": {},
   "outputs": [
    {
     "data": {
      "text/html": [
       "<div>\n",
       "<style scoped>\n",
       "    .dataframe tbody tr th:only-of-type {\n",
       "        vertical-align: middle;\n",
       "    }\n",
       "\n",
       "    .dataframe tbody tr th {\n",
       "        vertical-align: top;\n",
       "    }\n",
       "\n",
       "    .dataframe thead th {\n",
       "        text-align: right;\n",
       "    }\n",
       "</style>\n",
       "<table border=\"1\" class=\"dataframe\">\n",
       "  <thead>\n",
       "    <tr style=\"text-align: right;\">\n",
       "      <th></th>\n",
       "      <th>0</th>\n",
       "      <th>1</th>\n",
       "      <th>2</th>\n",
       "      <th>3</th>\n",
       "    </tr>\n",
       "  </thead>\n",
       "  <tbody>\n",
       "    <tr>\n",
       "      <th>0</th>\n",
       "      <td>Rao</td>\n",
       "      <td>Tucson</td>\n",
       "      <td>33422.12</td>\n",
       "      <td>27127.22</td>\n",
       "    </tr>\n",
       "    <tr>\n",
       "      <th>1</th>\n",
       "      <td>Montalbano</td>\n",
       "      <td>Chicago</td>\n",
       "      <td>45233.27</td>\n",
       "      <td>41322.13</td>\n",
       "    </tr>\n",
       "    <tr>\n",
       "      <th>2</th>\n",
       "      <td>Zhang</td>\n",
       "      <td>Miami</td>\n",
       "      <td>36234.22</td>\n",
       "      <td>39123.45</td>\n",
       "    </tr>\n",
       "    <tr>\n",
       "      <th>3</th>\n",
       "      <td>Brown</td>\n",
       "      <td>New York</td>\n",
       "      <td>57322.83</td>\n",
       "      <td>41486.28</td>\n",
       "    </tr>\n",
       "    <tr>\n",
       "      <th>4</th>\n",
       "      <td>Achebe</td>\n",
       "      <td>Los Angeles</td>\n",
       "      <td>23490.81</td>\n",
       "      <td>22540.36</td>\n",
       "    </tr>\n",
       "  </tbody>\n",
       "</table>\n",
       "</div>"
      ],
      "text/plain": [
       "            0            1         2         3\n",
       "0         Rao       Tucson  33422.12  27127.22\n",
       "1  Montalbano      Chicago  45233.27  41322.13\n",
       "2       Zhang        Miami  36234.22  39123.45\n",
       "3       Brown     New York  57322.83  41486.28\n",
       "4      Achebe  Los Angeles  23490.81  22540.36"
      ]
     },
     "execution_count": 6,
     "metadata": {},
     "output_type": "execute_result"
    }
   ],
   "source": [
    "df = pd.DataFrame([[\"Rao\",\"Tucson\",33422.12,27127.22],\n",
    "                   [\"Montalbano\",\"Chicago\",45233.27,41322.13],\n",
    "                   [\"Zhang\",\"Miami\",36234.22,39123.45],\n",
    "                   [\"Brown\",\"New York\",57322.83,41486.28],\n",
    "                   [\"Achebe\",\"Los Angeles\",23490.81,22540.36]])\n",
    "\n",
    "df"
   ]
  },
  {
   "cell_type": "code",
   "execution_count": 2,
   "metadata": {},
   "outputs": [
    {
     "data": {
      "text/html": [
       "<div>\n",
       "<style scoped>\n",
       "    .dataframe tbody tr th:only-of-type {\n",
       "        vertical-align: middle;\n",
       "    }\n",
       "\n",
       "    .dataframe tbody tr th {\n",
       "        vertical-align: top;\n",
       "    }\n",
       "\n",
       "    .dataframe thead th {\n",
       "        text-align: right;\n",
       "    }\n",
       "</style>\n",
       "<table border=\"1\" class=\"dataframe\">\n",
       "  <thead>\n",
       "    <tr style=\"text-align: right;\">\n",
       "      <th></th>\n",
       "      <th>Manager</th>\n",
       "      <th>City</th>\n",
       "      <th>Revenue</th>\n",
       "      <th>Expenses</th>\n",
       "    </tr>\n",
       "  </thead>\n",
       "  <tbody>\n",
       "    <tr>\n",
       "      <th>SouthWest</th>\n",
       "      <td>Rao</td>\n",
       "      <td>Tucson</td>\n",
       "      <td>33422.12</td>\n",
       "      <td>27127.22</td>\n",
       "    </tr>\n",
       "    <tr>\n",
       "      <th>Central</th>\n",
       "      <td>Montalbano</td>\n",
       "      <td>Chicago</td>\n",
       "      <td>45233.27</td>\n",
       "      <td>41322.13</td>\n",
       "    </tr>\n",
       "    <tr>\n",
       "      <th>South</th>\n",
       "      <td>Zhang</td>\n",
       "      <td>Miami</td>\n",
       "      <td>36234.22</td>\n",
       "      <td>39123.45</td>\n",
       "    </tr>\n",
       "    <tr>\n",
       "      <th>East</th>\n",
       "      <td>Brown</td>\n",
       "      <td>New York</td>\n",
       "      <td>57322.83</td>\n",
       "      <td>41486.28</td>\n",
       "    </tr>\n",
       "    <tr>\n",
       "      <th>West</th>\n",
       "      <td>Achebe</td>\n",
       "      <td>Los Angeles</td>\n",
       "      <td>23490.81</td>\n",
       "      <td>22540.36</td>\n",
       "    </tr>\n",
       "  </tbody>\n",
       "</table>\n",
       "</div>"
      ],
      "text/plain": [
       "              Manager         City   Revenue  Expenses\n",
       "SouthWest         Rao       Tucson  33422.12  27127.22\n",
       "Central    Montalbano      Chicago  45233.27  41322.13\n",
       "South           Zhang        Miami  36234.22  39123.45\n",
       "East            Brown     New York  57322.83  41486.28\n",
       "West           Achebe  Los Angeles  23490.81  22540.36"
      ]
     },
     "execution_count": 2,
     "metadata": {},
     "output_type": "execute_result"
    }
   ],
   "source": [
    "import pandas as pd\n",
    "df = pd.DataFrame([[\"Rao\",\"Tucson\",33422.12,27127.22],\n",
    "                   [\"Montalbano\",\"Chicago\",45233.27,41322.13],\n",
    "                   [\"Zhang\",\"Miami\",36234.22,39123.45],\n",
    "                   [\"Brown\",\"New York\",57322.83,41486.28],\n",
    "                   [\"Achebe\",\"Los Angeles\",23490.81,22540.36]],\n",
    "                  columns=[\"Manager\",\"City\",\"Revenue\",\"Expenses\"],\n",
    "                 index=[\"SouthWest\",\"Central\",\"South\",\"East\",\"West\"])\n",
    "\n",
    "df"
   ]
  },
  {
   "cell_type": "markdown",
   "metadata": {},
   "source": [
    "<h4>Pandas dataframes work like dictionaries</h4>\n",
    "<li>Column names can be used to access columnar data</li>\n",
    "<li>The accessed column is returned as a <b>pandas series</b></li>"
   ]
  },
  {
   "cell_type": "code",
   "execution_count": 4,
   "metadata": {},
   "outputs": [
    {
     "data": {
      "text/plain": [
       "SouthWest           Rao\n",
       "Central      Montalbano\n",
       "South             Zhang\n",
       "East              Brown\n",
       "West             Achebe\n",
       "Name: Manager, dtype: object"
      ]
     },
     "execution_count": 4,
     "metadata": {},
     "output_type": "execute_result"
    }
   ],
   "source": [
    "df['Manager']"
   ]
  },
  {
   "cell_type": "code",
   "execution_count": null,
   "metadata": {},
   "outputs": [],
   "source": [
    "type(df)"
   ]
  },
  {
   "cell_type": "code",
   "execution_count": 5,
   "metadata": {},
   "outputs": [
    {
     "data": {
      "text/plain": [
       "pandas.core.series.Series"
      ]
     },
     "execution_count": 5,
     "metadata": {},
     "output_type": "execute_result"
    }
   ],
   "source": [
    "type(df[\"Revenue\"])"
   ]
  },
  {
   "cell_type": "code",
   "execution_count": 7,
   "metadata": {},
   "outputs": [
    {
     "data": {
      "text/plain": [
       "SouthWest    33422.12\n",
       "Central      45233.27\n",
       "South        36234.22\n",
       "East         57322.83\n",
       "West         23490.81\n",
       "Name: Revenue, dtype: float64"
      ]
     },
     "execution_count": 7,
     "metadata": {},
     "output_type": "execute_result"
    }
   ],
   "source": [
    "#OR\n",
    "revenue = df.Revenue\n",
    "revenue"
   ]
  },
  {
   "cell_type": "code",
   "execution_count": 8,
   "metadata": {},
   "outputs": [
    {
     "data": {
      "text/plain": [
       "195703.25"
      ]
     },
     "execution_count": 8,
     "metadata": {},
     "output_type": "execute_result"
    }
   ],
   "source": [
    "revenue.sum()"
   ]
  },
  {
   "cell_type": "markdown",
   "metadata": {},
   "source": [
    "<h3>Series are indexed</h3>\n",
    "<li>Every series contains an index and the values associated with each index item\n",
    "<li>Series items can be accessed:\n",
    "    <ol>\n",
    "        <li>using the row number in a list or numpy like way</li>\n",
    "        <li>using the row number with the iloc attribute</li>\n",
    "        <li>using the index to get at the corresponding value</li>\n",
    "    </ol>\n",
    "<li>Think of a Series as a sequence of (key,value) pairs. The key is the index.\n",
    "<li>Index items must be immutable (unique)"
   ]
  },
  {
   "cell_type": "code",
   "execution_count": 9,
   "metadata": {},
   "outputs": [
    {
     "data": {
      "text/html": [
       "<div>\n",
       "<style scoped>\n",
       "    .dataframe tbody tr th:only-of-type {\n",
       "        vertical-align: middle;\n",
       "    }\n",
       "\n",
       "    .dataframe tbody tr th {\n",
       "        vertical-align: top;\n",
       "    }\n",
       "\n",
       "    .dataframe thead th {\n",
       "        text-align: right;\n",
       "    }\n",
       "</style>\n",
       "<table border=\"1\" class=\"dataframe\">\n",
       "  <thead>\n",
       "    <tr style=\"text-align: right;\">\n",
       "      <th></th>\n",
       "      <th>Manager</th>\n",
       "      <th>City</th>\n",
       "      <th>Revenue</th>\n",
       "      <th>Expenses</th>\n",
       "    </tr>\n",
       "  </thead>\n",
       "  <tbody>\n",
       "    <tr>\n",
       "      <th>SouthWest</th>\n",
       "      <td>Rao</td>\n",
       "      <td>Tucson</td>\n",
       "      <td>33422.12</td>\n",
       "      <td>27127.22</td>\n",
       "    </tr>\n",
       "    <tr>\n",
       "      <th>Central</th>\n",
       "      <td>Montalbano</td>\n",
       "      <td>Chicago</td>\n",
       "      <td>45233.27</td>\n",
       "      <td>41322.13</td>\n",
       "    </tr>\n",
       "    <tr>\n",
       "      <th>South</th>\n",
       "      <td>Zhang</td>\n",
       "      <td>Miami</td>\n",
       "      <td>36234.22</td>\n",
       "      <td>39123.45</td>\n",
       "    </tr>\n",
       "    <tr>\n",
       "      <th>East</th>\n",
       "      <td>Brown</td>\n",
       "      <td>New York</td>\n",
       "      <td>57322.83</td>\n",
       "      <td>41486.28</td>\n",
       "    </tr>\n",
       "    <tr>\n",
       "      <th>West</th>\n",
       "      <td>Achebe</td>\n",
       "      <td>Los Angeles</td>\n",
       "      <td>23490.81</td>\n",
       "      <td>22540.36</td>\n",
       "    </tr>\n",
       "  </tbody>\n",
       "</table>\n",
       "</div>"
      ],
      "text/plain": [
       "              Manager         City   Revenue  Expenses\n",
       "SouthWest         Rao       Tucson  33422.12  27127.22\n",
       "Central    Montalbano      Chicago  45233.27  41322.13\n",
       "South           Zhang        Miami  36234.22  39123.45\n",
       "East            Brown     New York  57322.83  41486.28\n",
       "West           Achebe  Los Angeles  23490.81  22540.36"
      ]
     },
     "execution_count": 9,
     "metadata": {},
     "output_type": "execute_result"
    }
   ],
   "source": [
    "df"
   ]
  },
  {
   "cell_type": "code",
   "execution_count": 11,
   "metadata": {},
   "outputs": [
    {
     "data": {
      "text/plain": [
       "pandas.core.series.Series"
      ]
     },
     "execution_count": 11,
     "metadata": {},
     "output_type": "execute_result"
    }
   ],
   "source": [
    "\n",
    "type(df[\"Revenue\"])"
   ]
  },
  {
   "cell_type": "code",
   "execution_count": 12,
   "metadata": {},
   "outputs": [
    {
     "data": {
      "text/plain": [
       "SouthWest    33422.12\n",
       "Central      45233.27\n",
       "South        36234.22\n",
       "East         57322.83\n",
       "West         23490.81\n",
       "Name: Revenue, dtype: float64"
      ]
     },
     "execution_count": 12,
     "metadata": {},
     "output_type": "execute_result"
    }
   ],
   "source": [
    "df.Revenue"
   ]
  },
  {
   "cell_type": "code",
   "execution_count": 14,
   "metadata": {},
   "outputs": [
    {
     "name": "stdout",
     "output_type": "stream",
     "text": [
      "23490.81\n",
      "23490.81\n"
     ]
    }
   ],
   "source": [
    "print(revenue[\"West\"])\n",
    "print(revenue.iloc[4])\n"
   ]
  },
  {
   "cell_type": "markdown",
   "metadata": {},
   "source": [
    "<h3>Dataframes: Selecting rows</h3>\n",
    "<li>rows can be selected using the index df.loc[index_value]\n",
    "<li>or using row number df.iloc[row_number]\n",
    "<li>Note that both methods use dictionary like indexing!"
   ]
  },
  {
   "cell_type": "code",
   "execution_count": 20,
   "metadata": {},
   "outputs": [
    {
     "data": {
      "text/html": [
       "<div>\n",
       "<style scoped>\n",
       "    .dataframe tbody tr th:only-of-type {\n",
       "        vertical-align: middle;\n",
       "    }\n",
       "\n",
       "    .dataframe tbody tr th {\n",
       "        vertical-align: top;\n",
       "    }\n",
       "\n",
       "    .dataframe thead th {\n",
       "        text-align: right;\n",
       "    }\n",
       "</style>\n",
       "<table border=\"1\" class=\"dataframe\">\n",
       "  <thead>\n",
       "    <tr style=\"text-align: right;\">\n",
       "      <th></th>\n",
       "      <th>Manager</th>\n",
       "      <th>City</th>\n",
       "      <th>Revenue</th>\n",
       "      <th>Expenses</th>\n",
       "    </tr>\n",
       "  </thead>\n",
       "  <tbody>\n",
       "    <tr>\n",
       "      <th>SouthWest</th>\n",
       "      <td>Rao</td>\n",
       "      <td>Tucson</td>\n",
       "      <td>33422.12</td>\n",
       "      <td>27127.22</td>\n",
       "    </tr>\n",
       "    <tr>\n",
       "      <th>Central</th>\n",
       "      <td>Montalbano</td>\n",
       "      <td>Chicago</td>\n",
       "      <td>45233.27</td>\n",
       "      <td>41322.13</td>\n",
       "    </tr>\n",
       "    <tr>\n",
       "      <th>South</th>\n",
       "      <td>Zhang</td>\n",
       "      <td>Miami</td>\n",
       "      <td>36234.22</td>\n",
       "      <td>39123.45</td>\n",
       "    </tr>\n",
       "    <tr>\n",
       "      <th>East</th>\n",
       "      <td>Brown</td>\n",
       "      <td>New York</td>\n",
       "      <td>57322.83</td>\n",
       "      <td>41486.28</td>\n",
       "    </tr>\n",
       "    <tr>\n",
       "      <th>West</th>\n",
       "      <td>Achebe</td>\n",
       "      <td>Los Angeles</td>\n",
       "      <td>23490.81</td>\n",
       "      <td>22540.36</td>\n",
       "    </tr>\n",
       "  </tbody>\n",
       "</table>\n",
       "</div>"
      ],
      "text/plain": [
       "              Manager         City   Revenue  Expenses\n",
       "SouthWest         Rao       Tucson  33422.12  27127.22\n",
       "Central    Montalbano      Chicago  45233.27  41322.13\n",
       "South           Zhang        Miami  36234.22  39123.45\n",
       "East            Brown     New York  57322.83  41486.28\n",
       "West           Achebe  Los Angeles  23490.81  22540.36"
      ]
     },
     "execution_count": 20,
     "metadata": {},
     "output_type": "execute_result"
    }
   ],
   "source": [
    "df"
   ]
  },
  {
   "cell_type": "code",
   "execution_count": 3,
   "metadata": {},
   "outputs": [
    {
     "data": {
      "text/html": [
       "<div>\n",
       "<style scoped>\n",
       "    .dataframe tbody tr th:only-of-type {\n",
       "        vertical-align: middle;\n",
       "    }\n",
       "\n",
       "    .dataframe tbody tr th {\n",
       "        vertical-align: top;\n",
       "    }\n",
       "\n",
       "    .dataframe thead th {\n",
       "        text-align: right;\n",
       "    }\n",
       "</style>\n",
       "<table border=\"1\" class=\"dataframe\">\n",
       "  <thead>\n",
       "    <tr style=\"text-align: right;\">\n",
       "      <th></th>\n",
       "      <th>Manager</th>\n",
       "    </tr>\n",
       "  </thead>\n",
       "  <tbody>\n",
       "    <tr>\n",
       "      <th>SouthWest</th>\n",
       "      <td>Rao</td>\n",
       "    </tr>\n",
       "    <tr>\n",
       "      <th>Central</th>\n",
       "      <td>Montalbano</td>\n",
       "    </tr>\n",
       "    <tr>\n",
       "      <th>South</th>\n",
       "      <td>Zhang</td>\n",
       "    </tr>\n",
       "    <tr>\n",
       "      <th>East</th>\n",
       "      <td>Brown</td>\n",
       "    </tr>\n",
       "    <tr>\n",
       "      <th>West</th>\n",
       "      <td>Achebe</td>\n",
       "    </tr>\n",
       "  </tbody>\n",
       "</table>\n",
       "</div>"
      ],
      "text/plain": [
       "              Manager\n",
       "SouthWest         Rao\n",
       "Central    Montalbano\n",
       "South           Zhang\n",
       "East            Brown\n",
       "West           Achebe"
      ]
     },
     "execution_count": 3,
     "metadata": {},
     "output_type": "execute_result"
    }
   ],
   "source": [
    "pd.DataFrame(df['Manager'])"
   ]
  },
  {
   "cell_type": "code",
   "execution_count": 8,
   "metadata": {},
   "outputs": [
    {
     "ename": "KeyError",
     "evalue": "'East'",
     "output_type": "error",
     "traceback": [
      "\u001b[0;31m---------------------------------------------------------------------------\u001b[0m",
      "\u001b[0;31mKeyError\u001b[0m                                  Traceback (most recent call last)",
      "File \u001b[0;32m~/opt/anaconda3/lib/python3.9/site-packages/pandas/core/indexes/base.py:3790\u001b[0m, in \u001b[0;36mIndex.get_loc\u001b[0;34m(self, key)\u001b[0m\n\u001b[1;32m   3789\u001b[0m \u001b[39mtry\u001b[39;00m:\n\u001b[0;32m-> 3790\u001b[0m     \u001b[39mreturn\u001b[39;00m \u001b[39mself\u001b[39;49m\u001b[39m.\u001b[39;49m_engine\u001b[39m.\u001b[39;49mget_loc(casted_key)\n\u001b[1;32m   3791\u001b[0m \u001b[39mexcept\u001b[39;00m \u001b[39mKeyError\u001b[39;00m \u001b[39mas\u001b[39;00m err:\n",
      "File \u001b[0;32mindex.pyx:152\u001b[0m, in \u001b[0;36mpandas._libs.index.IndexEngine.get_loc\u001b[0;34m()\u001b[0m\n",
      "File \u001b[0;32mindex.pyx:181\u001b[0m, in \u001b[0;36mpandas._libs.index.IndexEngine.get_loc\u001b[0;34m()\u001b[0m\n",
      "File \u001b[0;32mpandas/_libs/hashtable_class_helper.pxi:7080\u001b[0m, in \u001b[0;36mpandas._libs.hashtable.PyObjectHashTable.get_item\u001b[0;34m()\u001b[0m\n",
      "File \u001b[0;32mpandas/_libs/hashtable_class_helper.pxi:7088\u001b[0m, in \u001b[0;36mpandas._libs.hashtable.PyObjectHashTable.get_item\u001b[0;34m()\u001b[0m\n",
      "\u001b[0;31mKeyError\u001b[0m: 'East'",
      "\nThe above exception was the direct cause of the following exception:\n",
      "\u001b[0;31mKeyError\u001b[0m                                  Traceback (most recent call last)",
      "\u001b[1;32m/Users/joshuagrajales/Desktop/ore4212/pandas part 1-1.ipynb Cell 29\u001b[0m line \u001b[0;36m<cell line: 1>\u001b[0;34m()\u001b[0m\n\u001b[0;32m----> <a href='vscode-notebook-cell:/Users/joshuagrajales/Desktop/ore4212/pandas%20part%201-1.ipynb#X40sZmlsZQ%3D%3D?line=0'>1</a>\u001b[0m df[\u001b[39m'\u001b[39;49m\u001b[39mEast\u001b[39;49m\u001b[39m'\u001b[39;49m] \u001b[39m#WILL NOT WORK!!\u001b[39;00m\n\u001b[1;32m      <a href='vscode-notebook-cell:/Users/joshuagrajales/Desktop/ore4212/pandas%20part%201-1.ipynb#X40sZmlsZQ%3D%3D?line=1'>2</a>\u001b[0m df\u001b[39m.\u001b[39mloc[\u001b[39m'\u001b[39m\u001b[39mEast\u001b[39m\u001b[39m'\u001b[39m]\n",
      "File \u001b[0;32m~/opt/anaconda3/lib/python3.9/site-packages/pandas/core/frame.py:3896\u001b[0m, in \u001b[0;36mDataFrame.__getitem__\u001b[0;34m(self, key)\u001b[0m\n\u001b[1;32m   3894\u001b[0m \u001b[39mif\u001b[39;00m \u001b[39mself\u001b[39m\u001b[39m.\u001b[39mcolumns\u001b[39m.\u001b[39mnlevels \u001b[39m>\u001b[39m \u001b[39m1\u001b[39m:\n\u001b[1;32m   3895\u001b[0m     \u001b[39mreturn\u001b[39;00m \u001b[39mself\u001b[39m\u001b[39m.\u001b[39m_getitem_multilevel(key)\n\u001b[0;32m-> 3896\u001b[0m indexer \u001b[39m=\u001b[39m \u001b[39mself\u001b[39;49m\u001b[39m.\u001b[39;49mcolumns\u001b[39m.\u001b[39;49mget_loc(key)\n\u001b[1;32m   3897\u001b[0m \u001b[39mif\u001b[39;00m is_integer(indexer):\n\u001b[1;32m   3898\u001b[0m     indexer \u001b[39m=\u001b[39m [indexer]\n",
      "File \u001b[0;32m~/opt/anaconda3/lib/python3.9/site-packages/pandas/core/indexes/base.py:3797\u001b[0m, in \u001b[0;36mIndex.get_loc\u001b[0;34m(self, key)\u001b[0m\n\u001b[1;32m   3792\u001b[0m     \u001b[39mif\u001b[39;00m \u001b[39misinstance\u001b[39m(casted_key, \u001b[39mslice\u001b[39m) \u001b[39mor\u001b[39;00m (\n\u001b[1;32m   3793\u001b[0m         \u001b[39misinstance\u001b[39m(casted_key, abc\u001b[39m.\u001b[39mIterable)\n\u001b[1;32m   3794\u001b[0m         \u001b[39mand\u001b[39;00m \u001b[39many\u001b[39m(\u001b[39misinstance\u001b[39m(x, \u001b[39mslice\u001b[39m) \u001b[39mfor\u001b[39;00m x \u001b[39min\u001b[39;00m casted_key)\n\u001b[1;32m   3795\u001b[0m     ):\n\u001b[1;32m   3796\u001b[0m         \u001b[39mraise\u001b[39;00m InvalidIndexError(key)\n\u001b[0;32m-> 3797\u001b[0m     \u001b[39mraise\u001b[39;00m \u001b[39mKeyError\u001b[39;00m(key) \u001b[39mfrom\u001b[39;00m \u001b[39merr\u001b[39;00m\n\u001b[1;32m   3798\u001b[0m \u001b[39mexcept\u001b[39;00m \u001b[39mTypeError\u001b[39;00m:\n\u001b[1;32m   3799\u001b[0m     \u001b[39m# If we have a listlike key, _check_indexing_error will raise\u001b[39;00m\n\u001b[1;32m   3800\u001b[0m     \u001b[39m#  InvalidIndexError. Otherwise we fall through and re-raise\u001b[39;00m\n\u001b[1;32m   3801\u001b[0m     \u001b[39m#  the TypeError.\u001b[39;00m\n\u001b[1;32m   3802\u001b[0m     \u001b[39mself\u001b[39m\u001b[39m.\u001b[39m_check_indexing_error(key)\n",
      "\u001b[0;31mKeyError\u001b[0m: 'East'"
     ]
    }
   ],
   "source": [
    "df['East'] #WILL NOT WORK!!\n",
    "df.loc['East'] #This will workz\n"
   ]
  },
  {
   "cell_type": "code",
   "execution_count": 9,
   "metadata": {},
   "outputs": [
    {
     "data": {
      "text/plain": [
       "Manager        Brown\n",
       "City        New York\n",
       "Revenue     57322.83\n",
       "Expenses    41486.28\n",
       "Name: East, dtype: object"
      ]
     },
     "execution_count": 9,
     "metadata": {},
     "output_type": "execute_result"
    }
   ],
   "source": [
    "x= df.loc[\"East\"]\n",
    "x"
   ]
  },
  {
   "cell_type": "code",
   "execution_count": 11,
   "metadata": {},
   "outputs": [
    {
     "data": {
      "text/plain": [
       "'Brown'"
      ]
     },
     "execution_count": 11,
     "metadata": {},
     "output_type": "execute_result"
    }
   ],
   "source": [
    "x.iloc[0]"
   ]
  },
  {
   "cell_type": "code",
   "execution_count": 10,
   "metadata": {},
   "outputs": [
    {
     "data": {
      "text/html": [
       "<div>\n",
       "<style scoped>\n",
       "    .dataframe tbody tr th:only-of-type {\n",
       "        vertical-align: middle;\n",
       "    }\n",
       "\n",
       "    .dataframe tbody tr th {\n",
       "        vertical-align: top;\n",
       "    }\n",
       "\n",
       "    .dataframe thead th {\n",
       "        text-align: right;\n",
       "    }\n",
       "</style>\n",
       "<table border=\"1\" class=\"dataframe\">\n",
       "  <thead>\n",
       "    <tr style=\"text-align: right;\">\n",
       "      <th></th>\n",
       "      <th>East</th>\n",
       "    </tr>\n",
       "  </thead>\n",
       "  <tbody>\n",
       "    <tr>\n",
       "      <th>Manager</th>\n",
       "      <td>Brown</td>\n",
       "    </tr>\n",
       "    <tr>\n",
       "      <th>City</th>\n",
       "      <td>New York</td>\n",
       "    </tr>\n",
       "    <tr>\n",
       "      <th>Revenue</th>\n",
       "      <td>57322.83</td>\n",
       "    </tr>\n",
       "    <tr>\n",
       "      <th>Expenses</th>\n",
       "      <td>41486.28</td>\n",
       "    </tr>\n",
       "  </tbody>\n",
       "</table>\n",
       "</div>"
      ],
      "text/plain": [
       "              East\n",
       "Manager      Brown\n",
       "City      New York\n",
       "Revenue   57322.83\n",
       "Expenses  41486.28"
      ]
     },
     "execution_count": 10,
     "metadata": {},
     "output_type": "execute_result"
    }
   ],
   "source": [
    "pd.DataFrame(x)"
   ]
  },
  {
   "cell_type": "code",
   "execution_count": 18,
   "metadata": {},
   "outputs": [
    {
     "data": {
      "text/plain": [
       "'New York'"
      ]
     },
     "execution_count": 18,
     "metadata": {},
     "output_type": "execute_result"
    }
   ],
   "source": [
    "x[\"City\"]"
   ]
  },
  {
   "cell_type": "markdown",
   "metadata": {},
   "source": [
    "<h3>Dataframes: Selecting cells</h3>\n",
    "<li>rows can be selected using the index df.loc[index_value]\n",
    "<li>Columns can be selected using dictionary style indexing\n",
    "<li>Use a combination of the two to zero in on an individual cell\n",
    "<li>Or extract a series and use the series index to grab a value"
   ]
  },
  {
   "cell_type": "code",
   "execution_count": 12,
   "metadata": {},
   "outputs": [
    {
     "data": {
      "text/html": [
       "<div>\n",
       "<style scoped>\n",
       "    .dataframe tbody tr th:only-of-type {\n",
       "        vertical-align: middle;\n",
       "    }\n",
       "\n",
       "    .dataframe tbody tr th {\n",
       "        vertical-align: top;\n",
       "    }\n",
       "\n",
       "    .dataframe thead th {\n",
       "        text-align: right;\n",
       "    }\n",
       "</style>\n",
       "<table border=\"1\" class=\"dataframe\">\n",
       "  <thead>\n",
       "    <tr style=\"text-align: right;\">\n",
       "      <th></th>\n",
       "      <th>Manager</th>\n",
       "      <th>City</th>\n",
       "      <th>Revenue</th>\n",
       "      <th>Expenses</th>\n",
       "    </tr>\n",
       "  </thead>\n",
       "  <tbody>\n",
       "    <tr>\n",
       "      <th>SouthWest</th>\n",
       "      <td>Rao</td>\n",
       "      <td>Tucson</td>\n",
       "      <td>33422.12</td>\n",
       "      <td>27127.22</td>\n",
       "    </tr>\n",
       "    <tr>\n",
       "      <th>Central</th>\n",
       "      <td>Montalbano</td>\n",
       "      <td>Chicago</td>\n",
       "      <td>45233.27</td>\n",
       "      <td>41322.13</td>\n",
       "    </tr>\n",
       "    <tr>\n",
       "      <th>South</th>\n",
       "      <td>Zhang</td>\n",
       "      <td>Miami</td>\n",
       "      <td>36234.22</td>\n",
       "      <td>39123.45</td>\n",
       "    </tr>\n",
       "    <tr>\n",
       "      <th>East</th>\n",
       "      <td>Brown</td>\n",
       "      <td>New York</td>\n",
       "      <td>57322.83</td>\n",
       "      <td>41486.28</td>\n",
       "    </tr>\n",
       "    <tr>\n",
       "      <th>West</th>\n",
       "      <td>Achebe</td>\n",
       "      <td>Los Angeles</td>\n",
       "      <td>23490.81</td>\n",
       "      <td>22540.36</td>\n",
       "    </tr>\n",
       "  </tbody>\n",
       "</table>\n",
       "</div>"
      ],
      "text/plain": [
       "              Manager         City   Revenue  Expenses\n",
       "SouthWest         Rao       Tucson  33422.12  27127.22\n",
       "Central    Montalbano      Chicago  45233.27  41322.13\n",
       "South           Zhang        Miami  36234.22  39123.45\n",
       "East            Brown     New York  57322.83  41486.28\n",
       "West           Achebe  Los Angeles  23490.81  22540.36"
      ]
     },
     "execution_count": 12,
     "metadata": {},
     "output_type": "execute_result"
    }
   ],
   "source": [
    "df"
   ]
  },
  {
   "cell_type": "code",
   "execution_count": 17,
   "metadata": {},
   "outputs": [
    {
     "ename": "KeyError",
     "evalue": "'East'",
     "output_type": "error",
     "traceback": [
      "\u001b[0;31m---------------------------------------------------------------------------\u001b[0m",
      "\u001b[0;31mKeyError\u001b[0m                                  Traceback (most recent call last)",
      "File \u001b[0;32m~/opt/anaconda3/lib/python3.9/site-packages/pandas/core/indexes/base.py:3790\u001b[0m, in \u001b[0;36mIndex.get_loc\u001b[0;34m(self, key)\u001b[0m\n\u001b[1;32m   3789\u001b[0m \u001b[39mtry\u001b[39;00m:\n\u001b[0;32m-> 3790\u001b[0m     \u001b[39mreturn\u001b[39;00m \u001b[39mself\u001b[39;49m\u001b[39m.\u001b[39;49m_engine\u001b[39m.\u001b[39;49mget_loc(casted_key)\n\u001b[1;32m   3791\u001b[0m \u001b[39mexcept\u001b[39;00m \u001b[39mKeyError\u001b[39;00m \u001b[39mas\u001b[39;00m err:\n",
      "File \u001b[0;32mindex.pyx:152\u001b[0m, in \u001b[0;36mpandas._libs.index.IndexEngine.get_loc\u001b[0;34m()\u001b[0m\n",
      "File \u001b[0;32mindex.pyx:181\u001b[0m, in \u001b[0;36mpandas._libs.index.IndexEngine.get_loc\u001b[0;34m()\u001b[0m\n",
      "File \u001b[0;32mpandas/_libs/hashtable_class_helper.pxi:7080\u001b[0m, in \u001b[0;36mpandas._libs.hashtable.PyObjectHashTable.get_item\u001b[0;34m()\u001b[0m\n",
      "File \u001b[0;32mpandas/_libs/hashtable_class_helper.pxi:7088\u001b[0m, in \u001b[0;36mpandas._libs.hashtable.PyObjectHashTable.get_item\u001b[0;34m()\u001b[0m\n",
      "\u001b[0;31mKeyError\u001b[0m: 'East'",
      "\nThe above exception was the direct cause of the following exception:\n",
      "\u001b[0;31mKeyError\u001b[0m                                  Traceback (most recent call last)",
      "\u001b[1;32m/Users/joshuagrajales/Desktop/ore4212/pandas part 1-1.ipynb Cell 36\u001b[0m line \u001b[0;36m<cell line: 1>\u001b[0;34m()\u001b[0m\n\u001b[0;32m----> <a href='vscode-notebook-cell:/Users/joshuagrajales/Desktop/ore4212/pandas%20part%201-1.ipynb#Y221sZmlsZQ%3D%3D?line=0'>1</a>\u001b[0m df[\u001b[39m'\u001b[39;49m\u001b[39mEast\u001b[39;49m\u001b[39m'\u001b[39;49m]\n",
      "File \u001b[0;32m~/opt/anaconda3/lib/python3.9/site-packages/pandas/core/frame.py:3896\u001b[0m, in \u001b[0;36mDataFrame.__getitem__\u001b[0;34m(self, key)\u001b[0m\n\u001b[1;32m   3894\u001b[0m \u001b[39mif\u001b[39;00m \u001b[39mself\u001b[39m\u001b[39m.\u001b[39mcolumns\u001b[39m.\u001b[39mnlevels \u001b[39m>\u001b[39m \u001b[39m1\u001b[39m:\n\u001b[1;32m   3895\u001b[0m     \u001b[39mreturn\u001b[39;00m \u001b[39mself\u001b[39m\u001b[39m.\u001b[39m_getitem_multilevel(key)\n\u001b[0;32m-> 3896\u001b[0m indexer \u001b[39m=\u001b[39m \u001b[39mself\u001b[39;49m\u001b[39m.\u001b[39;49mcolumns\u001b[39m.\u001b[39;49mget_loc(key)\n\u001b[1;32m   3897\u001b[0m \u001b[39mif\u001b[39;00m is_integer(indexer):\n\u001b[1;32m   3898\u001b[0m     indexer \u001b[39m=\u001b[39m [indexer]\n",
      "File \u001b[0;32m~/opt/anaconda3/lib/python3.9/site-packages/pandas/core/indexes/base.py:3797\u001b[0m, in \u001b[0;36mIndex.get_loc\u001b[0;34m(self, key)\u001b[0m\n\u001b[1;32m   3792\u001b[0m     \u001b[39mif\u001b[39;00m \u001b[39misinstance\u001b[39m(casted_key, \u001b[39mslice\u001b[39m) \u001b[39mor\u001b[39;00m (\n\u001b[1;32m   3793\u001b[0m         \u001b[39misinstance\u001b[39m(casted_key, abc\u001b[39m.\u001b[39mIterable)\n\u001b[1;32m   3794\u001b[0m         \u001b[39mand\u001b[39;00m \u001b[39many\u001b[39m(\u001b[39misinstance\u001b[39m(x, \u001b[39mslice\u001b[39m) \u001b[39mfor\u001b[39;00m x \u001b[39min\u001b[39;00m casted_key)\n\u001b[1;32m   3795\u001b[0m     ):\n\u001b[1;32m   3796\u001b[0m         \u001b[39mraise\u001b[39;00m InvalidIndexError(key)\n\u001b[0;32m-> 3797\u001b[0m     \u001b[39mraise\u001b[39;00m \u001b[39mKeyError\u001b[39;00m(key) \u001b[39mfrom\u001b[39;00m \u001b[39merr\u001b[39;00m\n\u001b[1;32m   3798\u001b[0m \u001b[39mexcept\u001b[39;00m \u001b[39mTypeError\u001b[39;00m:\n\u001b[1;32m   3799\u001b[0m     \u001b[39m# If we have a listlike key, _check_indexing_error will raise\u001b[39;00m\n\u001b[1;32m   3800\u001b[0m     \u001b[39m#  InvalidIndexError. Otherwise we fall through and re-raise\u001b[39;00m\n\u001b[1;32m   3801\u001b[0m     \u001b[39m#  the TypeError.\u001b[39;00m\n\u001b[1;32m   3802\u001b[0m     \u001b[39mself\u001b[39m\u001b[39m.\u001b[39m_check_indexing_error(key)\n",
      "\u001b[0;31mKeyError\u001b[0m: 'East'"
     ]
    }
   ],
   "source": [
    "df['East']"
   ]
  },
  {
   "cell_type": "code",
   "execution_count": 15,
   "metadata": {},
   "outputs": [
    {
     "data": {
      "text/plain": [
       "'New York'"
      ]
     },
     "execution_count": 15,
     "metadata": {},
     "output_type": "execute_result"
    }
   ],
   "source": [
    "df.loc['East']['City']"
   ]
  },
  {
   "cell_type": "code",
   "execution_count": 14,
   "metadata": {},
   "outputs": [
    {
     "data": {
      "text/plain": [
       "'New York'"
      ]
     },
     "execution_count": 14,
     "metadata": {},
     "output_type": "execute_result"
    }
   ],
   "source": [
    "df['City']['East']"
   ]
  },
  {
   "cell_type": "code",
   "execution_count": 16,
   "metadata": {},
   "outputs": [
    {
     "data": {
      "text/plain": [
       "SouthWest         Tucson\n",
       "Central          Chicago\n",
       "South              Miami\n",
       "East            New York\n",
       "West         Los Angeles\n",
       "Name: City, dtype: object"
      ]
     },
     "execution_count": 16,
     "metadata": {},
     "output_type": "execute_result"
    }
   ],
   "source": [
    "df['City']"
   ]
  },
  {
   "cell_type": "markdown",
   "metadata": {},
   "source": [
    "<h2>Add a new column to a DataFrame</h2>\n",
    "<li>Similar to adding a key to a dictionary</li>\n",
    "<li>A df is mutable so assignment works as expected</li>\n",
    "<li><b>Columns can also be created as a result of an elementwise operation</b></li>"
   ]
  },
  {
   "cell_type": "code",
   "execution_count": 23,
   "metadata": {},
   "outputs": [
    {
     "data": {
      "text/plain": [
       "SouthWest     6294.90\n",
       "Central       3911.14\n",
       "South        -2889.23\n",
       "East         15836.55\n",
       "West           950.45\n",
       "dtype: float64"
      ]
     },
     "execution_count": 23,
     "metadata": {},
     "output_type": "execute_result"
    }
   ],
   "source": [
    "df[\"Revenue\"] - df[\"Expenses\"]"
   ]
  },
  {
   "cell_type": "code",
   "execution_count": 22,
   "metadata": {},
   "outputs": [
    {
     "data": {
      "text/html": [
       "<div>\n",
       "<style scoped>\n",
       "    .dataframe tbody tr th:only-of-type {\n",
       "        vertical-align: middle;\n",
       "    }\n",
       "\n",
       "    .dataframe tbody tr th {\n",
       "        vertical-align: top;\n",
       "    }\n",
       "\n",
       "    .dataframe thead th {\n",
       "        text-align: right;\n",
       "    }\n",
       "</style>\n",
       "<table border=\"1\" class=\"dataframe\">\n",
       "  <thead>\n",
       "    <tr style=\"text-align: right;\">\n",
       "      <th></th>\n",
       "      <th>Manager</th>\n",
       "      <th>City</th>\n",
       "      <th>Revenue</th>\n",
       "      <th>Expenses</th>\n",
       "      <th>Profit</th>\n",
       "    </tr>\n",
       "  </thead>\n",
       "  <tbody>\n",
       "    <tr>\n",
       "      <th>SouthWest</th>\n",
       "      <td>Rao</td>\n",
       "      <td>Tucson</td>\n",
       "      <td>33422.12</td>\n",
       "      <td>27127.22</td>\n",
       "      <td>6294.90</td>\n",
       "    </tr>\n",
       "    <tr>\n",
       "      <th>Central</th>\n",
       "      <td>Montalbano</td>\n",
       "      <td>Chicago</td>\n",
       "      <td>45233.27</td>\n",
       "      <td>41322.13</td>\n",
       "      <td>3911.14</td>\n",
       "    </tr>\n",
       "    <tr>\n",
       "      <th>South</th>\n",
       "      <td>Zhang</td>\n",
       "      <td>Miami</td>\n",
       "      <td>36234.22</td>\n",
       "      <td>39123.45</td>\n",
       "      <td>-2889.23</td>\n",
       "    </tr>\n",
       "    <tr>\n",
       "      <th>East</th>\n",
       "      <td>Brown</td>\n",
       "      <td>New York</td>\n",
       "      <td>57322.83</td>\n",
       "      <td>41486.28</td>\n",
       "      <td>15836.55</td>\n",
       "    </tr>\n",
       "    <tr>\n",
       "      <th>West</th>\n",
       "      <td>Achebe</td>\n",
       "      <td>Los Angeles</td>\n",
       "      <td>23490.81</td>\n",
       "      <td>22540.36</td>\n",
       "      <td>950.45</td>\n",
       "    </tr>\n",
       "  </tbody>\n",
       "</table>\n",
       "</div>"
      ],
      "text/plain": [
       "              Manager         City   Revenue  Expenses    Profit\n",
       "SouthWest         Rao       Tucson  33422.12  27127.22   6294.90\n",
       "Central    Montalbano      Chicago  45233.27  41322.13   3911.14\n",
       "South           Zhang        Miami  36234.22  39123.45  -2889.23\n",
       "East            Brown     New York  57322.83  41486.28  15836.55\n",
       "West           Achebe  Los Angeles  23490.81  22540.36    950.45"
      ]
     },
     "execution_count": 22,
     "metadata": {},
     "output_type": "execute_result"
    }
   ],
   "source": [
    "df[\"Profit\"] = df[\"Revenue\"] - df[\"Expenses\"]\n",
    "df"
   ]
  },
  {
   "cell_type": "markdown",
   "metadata": {},
   "source": [
    "<h4>Selecting multiple columns</h4>\n",
    "<li>Use a <b>list</b> containing the names of the desired rows</li>\n",
    "<li>A copy of the dataframe is returned</li>\n",
    "<li>Changes will not be reflected in the original dataframe</li>"
   ]
  },
  {
   "cell_type": "code",
   "execution_count": 24,
   "metadata": {},
   "outputs": [
    {
     "data": {
      "text/html": [
       "<div>\n",
       "<style scoped>\n",
       "    .dataframe tbody tr th:only-of-type {\n",
       "        vertical-align: middle;\n",
       "    }\n",
       "\n",
       "    .dataframe tbody tr th {\n",
       "        vertical-align: top;\n",
       "    }\n",
       "\n",
       "    .dataframe thead th {\n",
       "        text-align: right;\n",
       "    }\n",
       "</style>\n",
       "<table border=\"1\" class=\"dataframe\">\n",
       "  <thead>\n",
       "    <tr style=\"text-align: right;\">\n",
       "      <th></th>\n",
       "      <th>Revenue</th>\n",
       "      <th>Expenses</th>\n",
       "    </tr>\n",
       "  </thead>\n",
       "  <tbody>\n",
       "    <tr>\n",
       "      <th>SouthWest</th>\n",
       "      <td>33422.12</td>\n",
       "      <td>27127.22</td>\n",
       "    </tr>\n",
       "    <tr>\n",
       "      <th>Central</th>\n",
       "      <td>45233.27</td>\n",
       "      <td>41322.13</td>\n",
       "    </tr>\n",
       "    <tr>\n",
       "      <th>South</th>\n",
       "      <td>36234.22</td>\n",
       "      <td>39123.45</td>\n",
       "    </tr>\n",
       "    <tr>\n",
       "      <th>East</th>\n",
       "      <td>57322.83</td>\n",
       "      <td>41486.28</td>\n",
       "    </tr>\n",
       "    <tr>\n",
       "      <th>West</th>\n",
       "      <td>23490.81</td>\n",
       "      <td>22540.36</td>\n",
       "    </tr>\n",
       "  </tbody>\n",
       "</table>\n",
       "</div>"
      ],
      "text/plain": [
       "            Revenue  Expenses\n",
       "SouthWest  33422.12  27127.22\n",
       "Central    45233.27  41322.13\n",
       "South      36234.22  39123.45\n",
       "East       57322.83  41486.28\n",
       "West       23490.81  22540.36"
      ]
     },
     "execution_count": 24,
     "metadata": {},
     "output_type": "execute_result"
    }
   ],
   "source": [
    "df[['Revenue','Expenses']]"
   ]
  },
  {
   "cell_type": "markdown",
   "metadata": {},
   "source": [
    "<h4>Creating a new column using np.where</h4>\n",
    "<li>Identify regions where the profit is positive</li>\n",
    "<li>we'll transpose the dataframe first</li>\n",
    "<li>And then use np.where to add a Column</li>"
   ]
  },
  {
   "cell_type": "code",
   "execution_count": null,
   "metadata": {},
   "outputs": [],
   "source": [
    "df"
   ]
  },
  {
   "cell_type": "code",
   "execution_count": 25,
   "metadata": {},
   "outputs": [
    {
     "data": {
      "text/plain": [
       "array(['Profit', 'Profit', 'Loss', 'Profit', 'Profit'], dtype='<U6')"
      ]
     },
     "execution_count": 25,
     "metadata": {},
     "output_type": "execute_result"
    }
   ],
   "source": [
    "np.where(df[\"Profit\"]>=0,\"Profit\",\"Loss\")"
   ]
  },
  {
   "cell_type": "code",
   "execution_count": 26,
   "metadata": {},
   "outputs": [
    {
     "data": {
      "text/html": [
       "<div>\n",
       "<style scoped>\n",
       "    .dataframe tbody tr th:only-of-type {\n",
       "        vertical-align: middle;\n",
       "    }\n",
       "\n",
       "    .dataframe tbody tr th {\n",
       "        vertical-align: top;\n",
       "    }\n",
       "\n",
       "    .dataframe thead th {\n",
       "        text-align: right;\n",
       "    }\n",
       "</style>\n",
       "<table border=\"1\" class=\"dataframe\">\n",
       "  <thead>\n",
       "    <tr style=\"text-align: right;\">\n",
       "      <th></th>\n",
       "      <th>Manager</th>\n",
       "      <th>City</th>\n",
       "      <th>Revenue</th>\n",
       "      <th>Expenses</th>\n",
       "      <th>Profit</th>\n",
       "      <th>P/L Flag</th>\n",
       "    </tr>\n",
       "  </thead>\n",
       "  <tbody>\n",
       "    <tr>\n",
       "      <th>SouthWest</th>\n",
       "      <td>Rao</td>\n",
       "      <td>Tucson</td>\n",
       "      <td>33422.12</td>\n",
       "      <td>27127.22</td>\n",
       "      <td>6294.90</td>\n",
       "      <td>Profit</td>\n",
       "    </tr>\n",
       "    <tr>\n",
       "      <th>Central</th>\n",
       "      <td>Montalbano</td>\n",
       "      <td>Chicago</td>\n",
       "      <td>45233.27</td>\n",
       "      <td>41322.13</td>\n",
       "      <td>3911.14</td>\n",
       "      <td>Profit</td>\n",
       "    </tr>\n",
       "    <tr>\n",
       "      <th>South</th>\n",
       "      <td>Zhang</td>\n",
       "      <td>Miami</td>\n",
       "      <td>36234.22</td>\n",
       "      <td>39123.45</td>\n",
       "      <td>-2889.23</td>\n",
       "      <td>Loss</td>\n",
       "    </tr>\n",
       "    <tr>\n",
       "      <th>East</th>\n",
       "      <td>Brown</td>\n",
       "      <td>New York</td>\n",
       "      <td>57322.83</td>\n",
       "      <td>41486.28</td>\n",
       "      <td>15836.55</td>\n",
       "      <td>Profit</td>\n",
       "    </tr>\n",
       "    <tr>\n",
       "      <th>West</th>\n",
       "      <td>Achebe</td>\n",
       "      <td>Los Angeles</td>\n",
       "      <td>23490.81</td>\n",
       "      <td>22540.36</td>\n",
       "      <td>950.45</td>\n",
       "      <td>Profit</td>\n",
       "    </tr>\n",
       "  </tbody>\n",
       "</table>\n",
       "</div>"
      ],
      "text/plain": [
       "              Manager         City   Revenue  Expenses    Profit P/L Flag\n",
       "SouthWest         Rao       Tucson  33422.12  27127.22   6294.90   Profit\n",
       "Central    Montalbano      Chicago  45233.27  41322.13   3911.14   Profit\n",
       "South           Zhang        Miami  36234.22  39123.45  -2889.23     Loss\n",
       "East            Brown     New York  57322.83  41486.28  15836.55   Profit\n",
       "West           Achebe  Los Angeles  23490.81  22540.36    950.45   Profit"
      ]
     },
     "execution_count": 26,
     "metadata": {},
     "output_type": "execute_result"
    }
   ],
   "source": [
    "df[\"P/L Flag\"] = np.where(df[\"Profit\"]>=0,\"Profit\",\"Loss\")\n",
    "df"
   ]
  },
  {
   "cell_type": "markdown",
   "metadata": {},
   "source": [
    "<h1>Grouping data in Pandas</h1>\n",
    "<li>Pandas allows grouping by value as well as grouping by functions</li>\n",
    "<li>The <span style=\"color:blue\">groupby</span> function specifies the parameters for grouping data</li>\n",
    "<li>groupby returns a groupby object that, roughly speaking, contains the groupings</li>\n",
    "<li>grouping parameters can be functions or columns</li>"
   ]
  },
  {
   "cell_type": "markdown",
   "metadata": {},
   "source": [
    "<li>Create a sample dataframe</li>\n",
    "<li>note the use of <span style=\"color:blue\">transpose</span>; <span style=\"color:blue\">set_index</span>; and <span style=\"color:blue\">columns</span>"
   ]
  },
  {
   "cell_type": "code",
   "execution_count": 5,
   "metadata": {},
   "outputs": [
    {
     "name": "stdout",
     "output_type": "stream",
     "text": [
      "<class 'pandas.core.frame.DataFrame'>\n",
      "Index: 12 entries, 100 to 111\n",
      "Data columns (total 5 columns):\n",
      " #   Column      Non-Null Count  Dtype  \n",
      "---  ------      --------------  -----  \n",
      " 0   name        12 non-null     object \n",
      " 1   department  12 non-null     object \n",
      " 2   city        12 non-null     object \n",
      " 3   salary      12 non-null     float64\n",
      " 4   bonus       12 non-null     float64\n",
      "dtypes: float64(2), object(3)\n",
      "memory usage: 576.0+ bytes\n"
     ]
    }
   ],
   "source": [
    "import pandas as pd\n",
    "import numpy as np\n",
    "emp_id = np.array([100,101,102,103,104,105,106,107,108,109,110,111])\n",
    "names = np.array(['Bill','Ludovica','Qing','Savitri','Giovanni',\"Birgit\",\n",
    "                  \"Bercù\",\"Elodie\",\"Gurumul\",\"Kwame\",\"Rosa\",\"João\"])\n",
    "bonus = np.array([232300.56,478123.45,3891.24,98012.36,52123.50,0,\n",
    "                  321000.23,37345.22,121200,59621.33,94123.5,45123.2])\n",
    "department = np.array(['1','2','1','2','1','1','1','2',\"1\",\"2\",\"1\",\"1\"])\n",
    "city = np.array([\"New York\",\"Catania\",\"Paris\",\"New York\",\"Sydney\",\"Sydney\",\n",
    "                 \"Paris\",\"New York\",\"Sydney\",\"Paris\",\"New York\",\"Paris\"])\n",
    "salary = np.array([455000,722321,95223,135000,132033,700000,832123,\n",
    "                   78123.11,13243.32,456122.17,912321.22,31123])\n",
    "columns=[\"name\",\"department\",\"city\",\"salary\",\"bonus\"]\n",
    "\n",
    "\n",
    "df = pd.DataFrame([names,department,city,salary,bonus]).transpose().set_index(emp_id)\n",
    "\n",
    "\n",
    "df.columns = columns\n",
    "\n",
    "df['salary'] =df['salary'].astype('float64')\n",
    "df['bonus'] =df['bonus'].astype('float64')\n",
    "\n",
    "\n",
    "df.info()\n"
   ]
  },
  {
   "cell_type": "code",
   "execution_count": 22,
   "metadata": {},
   "outputs": [
    {
     "data": {
      "text/html": [
       "<div>\n",
       "<style scoped>\n",
       "    .dataframe tbody tr th:only-of-type {\n",
       "        vertical-align: middle;\n",
       "    }\n",
       "\n",
       "    .dataframe tbody tr th {\n",
       "        vertical-align: top;\n",
       "    }\n",
       "\n",
       "    .dataframe thead th {\n",
       "        text-align: right;\n",
       "    }\n",
       "</style>\n",
       "<table border=\"1\" class=\"dataframe\">\n",
       "  <thead>\n",
       "    <tr style=\"text-align: right;\">\n",
       "      <th></th>\n",
       "      <th>0</th>\n",
       "      <th>1</th>\n",
       "      <th>2</th>\n",
       "      <th>3</th>\n",
       "      <th>4</th>\n",
       "      <th>5</th>\n",
       "      <th>6</th>\n",
       "      <th>7</th>\n",
       "      <th>8</th>\n",
       "      <th>9</th>\n",
       "      <th>10</th>\n",
       "      <th>11</th>\n",
       "    </tr>\n",
       "  </thead>\n",
       "  <tbody>\n",
       "    <tr>\n",
       "      <th>0</th>\n",
       "      <td>Bill</td>\n",
       "      <td>Ludovica</td>\n",
       "      <td>Qing</td>\n",
       "      <td>Savitri</td>\n",
       "      <td>Giovanni</td>\n",
       "      <td>Birgit</td>\n",
       "      <td>Bercù</td>\n",
       "      <td>Elodie</td>\n",
       "      <td>Gurumul</td>\n",
       "      <td>Kwame</td>\n",
       "      <td>Rosa</td>\n",
       "      <td>João</td>\n",
       "    </tr>\n",
       "    <tr>\n",
       "      <th>1</th>\n",
       "      <td>1</td>\n",
       "      <td>2</td>\n",
       "      <td>1</td>\n",
       "      <td>2</td>\n",
       "      <td>1</td>\n",
       "      <td>1</td>\n",
       "      <td>1</td>\n",
       "      <td>2</td>\n",
       "      <td>1</td>\n",
       "      <td>2</td>\n",
       "      <td>1</td>\n",
       "      <td>1</td>\n",
       "    </tr>\n",
       "    <tr>\n",
       "      <th>2</th>\n",
       "      <td>New York</td>\n",
       "      <td>Catania</td>\n",
       "      <td>Paris</td>\n",
       "      <td>New York</td>\n",
       "      <td>Sydney</td>\n",
       "      <td>Sydney</td>\n",
       "      <td>Paris</td>\n",
       "      <td>New York</td>\n",
       "      <td>Sydney</td>\n",
       "      <td>Paris</td>\n",
       "      <td>New York</td>\n",
       "      <td>Paris</td>\n",
       "    </tr>\n",
       "    <tr>\n",
       "      <th>3</th>\n",
       "      <td>455000.0</td>\n",
       "      <td>722321.0</td>\n",
       "      <td>95223.0</td>\n",
       "      <td>135000.0</td>\n",
       "      <td>132033.0</td>\n",
       "      <td>700000.0</td>\n",
       "      <td>832123.0</td>\n",
       "      <td>78123.11</td>\n",
       "      <td>13243.32</td>\n",
       "      <td>456122.17</td>\n",
       "      <td>912321.22</td>\n",
       "      <td>31123.0</td>\n",
       "    </tr>\n",
       "    <tr>\n",
       "      <th>4</th>\n",
       "      <td>232300.56</td>\n",
       "      <td>478123.45</td>\n",
       "      <td>3891.24</td>\n",
       "      <td>98012.36</td>\n",
       "      <td>52123.5</td>\n",
       "      <td>0.0</td>\n",
       "      <td>321000.23</td>\n",
       "      <td>37345.22</td>\n",
       "      <td>121200.0</td>\n",
       "      <td>59621.33</td>\n",
       "      <td>94123.5</td>\n",
       "      <td>45123.2</td>\n",
       "    </tr>\n",
       "  </tbody>\n",
       "</table>\n",
       "</div>"
      ],
      "text/plain": [
       "          0          1        2         3         4         5          6   \\\n",
       "0       Bill   Ludovica     Qing   Savitri  Giovanni    Birgit      Bercù   \n",
       "1          1          2        1         2         1         1          1   \n",
       "2   New York    Catania    Paris  New York    Sydney    Sydney      Paris   \n",
       "3   455000.0   722321.0  95223.0  135000.0  132033.0  700000.0   832123.0   \n",
       "4  232300.56  478123.45  3891.24  98012.36   52123.5       0.0  321000.23   \n",
       "\n",
       "         7         8          9          10       11  \n",
       "0    Elodie   Gurumul      Kwame       Rosa     João  \n",
       "1         2         1          2          1        1  \n",
       "2  New York    Sydney      Paris   New York    Paris  \n",
       "3  78123.11  13243.32  456122.17  912321.22  31123.0  \n",
       "4  37345.22  121200.0   59621.33    94123.5  45123.2  "
      ]
     },
     "execution_count": 22,
     "metadata": {},
     "output_type": "execute_result"
    }
   ],
   "source": [
    "pd.DataFrame([names,department,city,salary,bonus])"
   ]
  },
  {
   "cell_type": "code",
   "execution_count": 23,
   "metadata": {},
   "outputs": [
    {
     "data": {
      "text/html": [
       "<div>\n",
       "<style scoped>\n",
       "    .dataframe tbody tr th:only-of-type {\n",
       "        vertical-align: middle;\n",
       "    }\n",
       "\n",
       "    .dataframe tbody tr th {\n",
       "        vertical-align: top;\n",
       "    }\n",
       "\n",
       "    .dataframe thead th {\n",
       "        text-align: right;\n",
       "    }\n",
       "</style>\n",
       "<table border=\"1\" class=\"dataframe\">\n",
       "  <thead>\n",
       "    <tr style=\"text-align: right;\">\n",
       "      <th></th>\n",
       "      <th>0</th>\n",
       "      <th>1</th>\n",
       "      <th>2</th>\n",
       "      <th>3</th>\n",
       "      <th>4</th>\n",
       "    </tr>\n",
       "  </thead>\n",
       "  <tbody>\n",
       "    <tr>\n",
       "      <th>0</th>\n",
       "      <td>Bill</td>\n",
       "      <td>1</td>\n",
       "      <td>New York</td>\n",
       "      <td>455000.0</td>\n",
       "      <td>232300.56</td>\n",
       "    </tr>\n",
       "    <tr>\n",
       "      <th>1</th>\n",
       "      <td>Ludovica</td>\n",
       "      <td>2</td>\n",
       "      <td>Catania</td>\n",
       "      <td>722321.0</td>\n",
       "      <td>478123.45</td>\n",
       "    </tr>\n",
       "    <tr>\n",
       "      <th>2</th>\n",
       "      <td>Qing</td>\n",
       "      <td>1</td>\n",
       "      <td>Paris</td>\n",
       "      <td>95223.0</td>\n",
       "      <td>3891.24</td>\n",
       "    </tr>\n",
       "    <tr>\n",
       "      <th>3</th>\n",
       "      <td>Savitri</td>\n",
       "      <td>2</td>\n",
       "      <td>New York</td>\n",
       "      <td>135000.0</td>\n",
       "      <td>98012.36</td>\n",
       "    </tr>\n",
       "    <tr>\n",
       "      <th>4</th>\n",
       "      <td>Giovanni</td>\n",
       "      <td>1</td>\n",
       "      <td>Sydney</td>\n",
       "      <td>132033.0</td>\n",
       "      <td>52123.5</td>\n",
       "    </tr>\n",
       "    <tr>\n",
       "      <th>5</th>\n",
       "      <td>Birgit</td>\n",
       "      <td>1</td>\n",
       "      <td>Sydney</td>\n",
       "      <td>700000.0</td>\n",
       "      <td>0.0</td>\n",
       "    </tr>\n",
       "    <tr>\n",
       "      <th>6</th>\n",
       "      <td>Bercù</td>\n",
       "      <td>1</td>\n",
       "      <td>Paris</td>\n",
       "      <td>832123.0</td>\n",
       "      <td>321000.23</td>\n",
       "    </tr>\n",
       "    <tr>\n",
       "      <th>7</th>\n",
       "      <td>Elodie</td>\n",
       "      <td>2</td>\n",
       "      <td>New York</td>\n",
       "      <td>78123.11</td>\n",
       "      <td>37345.22</td>\n",
       "    </tr>\n",
       "    <tr>\n",
       "      <th>8</th>\n",
       "      <td>Gurumul</td>\n",
       "      <td>1</td>\n",
       "      <td>Sydney</td>\n",
       "      <td>13243.32</td>\n",
       "      <td>121200.0</td>\n",
       "    </tr>\n",
       "    <tr>\n",
       "      <th>9</th>\n",
       "      <td>Kwame</td>\n",
       "      <td>2</td>\n",
       "      <td>Paris</td>\n",
       "      <td>456122.17</td>\n",
       "      <td>59621.33</td>\n",
       "    </tr>\n",
       "    <tr>\n",
       "      <th>10</th>\n",
       "      <td>Rosa</td>\n",
       "      <td>1</td>\n",
       "      <td>New York</td>\n",
       "      <td>912321.22</td>\n",
       "      <td>94123.5</td>\n",
       "    </tr>\n",
       "    <tr>\n",
       "      <th>11</th>\n",
       "      <td>João</td>\n",
       "      <td>1</td>\n",
       "      <td>Paris</td>\n",
       "      <td>31123.0</td>\n",
       "      <td>45123.2</td>\n",
       "    </tr>\n",
       "  </tbody>\n",
       "</table>\n",
       "</div>"
      ],
      "text/plain": [
       "           0  1         2          3          4\n",
       "0       Bill  1  New York   455000.0  232300.56\n",
       "1   Ludovica  2   Catania   722321.0  478123.45\n",
       "2       Qing  1     Paris    95223.0    3891.24\n",
       "3    Savitri  2  New York   135000.0   98012.36\n",
       "4   Giovanni  1    Sydney   132033.0    52123.5\n",
       "5     Birgit  1    Sydney   700000.0        0.0\n",
       "6      Bercù  1     Paris   832123.0  321000.23\n",
       "7     Elodie  2  New York   78123.11   37345.22\n",
       "8    Gurumul  1    Sydney   13243.32   121200.0\n",
       "9      Kwame  2     Paris  456122.17   59621.33\n",
       "10      Rosa  1  New York  912321.22    94123.5\n",
       "11      João  1     Paris    31123.0    45123.2"
      ]
     },
     "execution_count": 23,
     "metadata": {},
     "output_type": "execute_result"
    }
   ],
   "source": [
    "pd.DataFrame([names,department,city,salary,bonus]).transpose()"
   ]
  },
  {
   "cell_type": "code",
   "execution_count": 35,
   "metadata": {},
   "outputs": [
    {
     "data": {
      "text/html": [
       "<div>\n",
       "<style scoped>\n",
       "    .dataframe tbody tr th:only-of-type {\n",
       "        vertical-align: middle;\n",
       "    }\n",
       "\n",
       "    .dataframe tbody tr th {\n",
       "        vertical-align: top;\n",
       "    }\n",
       "\n",
       "    .dataframe thead th {\n",
       "        text-align: right;\n",
       "    }\n",
       "</style>\n",
       "<table border=\"1\" class=\"dataframe\">\n",
       "  <thead>\n",
       "    <tr style=\"text-align: right;\">\n",
       "      <th></th>\n",
       "      <th>name</th>\n",
       "      <th>department</th>\n",
       "      <th>city</th>\n",
       "      <th>salary</th>\n",
       "      <th>bonus</th>\n",
       "    </tr>\n",
       "  </thead>\n",
       "  <tbody>\n",
       "    <tr>\n",
       "      <th>100</th>\n",
       "      <td>Bill</td>\n",
       "      <td>1</td>\n",
       "      <td>New York</td>\n",
       "      <td>455000.0</td>\n",
       "      <td>232300.56</td>\n",
       "    </tr>\n",
       "    <tr>\n",
       "      <th>101</th>\n",
       "      <td>Ludovica</td>\n",
       "      <td>2</td>\n",
       "      <td>Catania</td>\n",
       "      <td>722321.0</td>\n",
       "      <td>478123.45</td>\n",
       "    </tr>\n",
       "    <tr>\n",
       "      <th>102</th>\n",
       "      <td>Qing</td>\n",
       "      <td>1</td>\n",
       "      <td>Paris</td>\n",
       "      <td>95223.0</td>\n",
       "      <td>3891.24</td>\n",
       "    </tr>\n",
       "    <tr>\n",
       "      <th>103</th>\n",
       "      <td>Savitri</td>\n",
       "      <td>2</td>\n",
       "      <td>New York</td>\n",
       "      <td>135000.0</td>\n",
       "      <td>98012.36</td>\n",
       "    </tr>\n",
       "    <tr>\n",
       "      <th>104</th>\n",
       "      <td>Giovanni</td>\n",
       "      <td>1</td>\n",
       "      <td>Sydney</td>\n",
       "      <td>132033.0</td>\n",
       "      <td>52123.5</td>\n",
       "    </tr>\n",
       "    <tr>\n",
       "      <th>105</th>\n",
       "      <td>Birgit</td>\n",
       "      <td>1</td>\n",
       "      <td>Sydney</td>\n",
       "      <td>700000.0</td>\n",
       "      <td>0.0</td>\n",
       "    </tr>\n",
       "    <tr>\n",
       "      <th>106</th>\n",
       "      <td>Bercù</td>\n",
       "      <td>1</td>\n",
       "      <td>Paris</td>\n",
       "      <td>832123.0</td>\n",
       "      <td>321000.23</td>\n",
       "    </tr>\n",
       "    <tr>\n",
       "      <th>107</th>\n",
       "      <td>Elodie</td>\n",
       "      <td>2</td>\n",
       "      <td>New York</td>\n",
       "      <td>78123.11</td>\n",
       "      <td>37345.22</td>\n",
       "    </tr>\n",
       "    <tr>\n",
       "      <th>108</th>\n",
       "      <td>Gurumul</td>\n",
       "      <td>1</td>\n",
       "      <td>Sydney</td>\n",
       "      <td>13243.32</td>\n",
       "      <td>121200.0</td>\n",
       "    </tr>\n",
       "    <tr>\n",
       "      <th>109</th>\n",
       "      <td>Kwame</td>\n",
       "      <td>2</td>\n",
       "      <td>Paris</td>\n",
       "      <td>456122.17</td>\n",
       "      <td>59621.33</td>\n",
       "    </tr>\n",
       "    <tr>\n",
       "      <th>110</th>\n",
       "      <td>Rosa</td>\n",
       "      <td>1</td>\n",
       "      <td>New York</td>\n",
       "      <td>912321.22</td>\n",
       "      <td>94123.5</td>\n",
       "    </tr>\n",
       "    <tr>\n",
       "      <th>111</th>\n",
       "      <td>João</td>\n",
       "      <td>1</td>\n",
       "      <td>Paris</td>\n",
       "      <td>31123.0</td>\n",
       "      <td>45123.2</td>\n",
       "    </tr>\n",
       "  </tbody>\n",
       "</table>\n",
       "</div>"
      ],
      "text/plain": [
       "         name department      city     salary      bonus\n",
       "100      Bill          1  New York   455000.0  232300.56\n",
       "101  Ludovica          2   Catania   722321.0  478123.45\n",
       "102      Qing          1     Paris    95223.0    3891.24\n",
       "103   Savitri          2  New York   135000.0   98012.36\n",
       "104  Giovanni          1    Sydney   132033.0    52123.5\n",
       "105    Birgit          1    Sydney   700000.0        0.0\n",
       "106     Bercù          1     Paris   832123.0  321000.23\n",
       "107    Elodie          2  New York   78123.11   37345.22\n",
       "108   Gurumul          1    Sydney   13243.32   121200.0\n",
       "109     Kwame          2     Paris  456122.17   59621.33\n",
       "110      Rosa          1  New York  912321.22    94123.5\n",
       "111      João          1     Paris    31123.0    45123.2"
      ]
     },
     "execution_count": 35,
     "metadata": {},
     "output_type": "execute_result"
    }
   ],
   "source": [
    "df = pd.DataFrame([names,department,city,salary,bonus]).transpose().set_index(emp_id)\n",
    "\n",
    "df.columns=columns\n",
    "df"
   ]
  },
  {
   "cell_type": "code",
   "execution_count": 37,
   "metadata": {},
   "outputs": [
    {
     "name": "stdout",
     "output_type": "stream",
     "text": [
      "<class 'pandas.core.frame.DataFrame'>\n",
      "Index: 12 entries, 100 to 111\n",
      "Data columns (total 5 columns):\n",
      " #   Column      Non-Null Count  Dtype \n",
      "---  ------      --------------  ----- \n",
      " 0   name        12 non-null     object\n",
      " 1   department  12 non-null     object\n",
      " 2   city        12 non-null     object\n",
      " 3   salary      12 non-null     object\n",
      " 4   bonus       12 non-null     object\n",
      "dtypes: object(5)\n",
      "memory usage: 576.0+ bytes\n"
     ]
    }
   ],
   "source": [
    "df.info()"
   ]
  },
  {
   "cell_type": "code",
   "execution_count": 38,
   "metadata": {},
   "outputs": [
    {
     "data": {
      "text/html": [
       "<div>\n",
       "<style scoped>\n",
       "    .dataframe tbody tr th:only-of-type {\n",
       "        vertical-align: middle;\n",
       "    }\n",
       "\n",
       "    .dataframe tbody tr th {\n",
       "        vertical-align: top;\n",
       "    }\n",
       "\n",
       "    .dataframe thead th {\n",
       "        text-align: right;\n",
       "    }\n",
       "</style>\n",
       "<table border=\"1\" class=\"dataframe\">\n",
       "  <thead>\n",
       "    <tr style=\"text-align: right;\">\n",
       "      <th></th>\n",
       "      <th>name</th>\n",
       "      <th>department</th>\n",
       "      <th>city</th>\n",
       "      <th>salary</th>\n",
       "      <th>bonus</th>\n",
       "    </tr>\n",
       "  </thead>\n",
       "  <tbody>\n",
       "    <tr>\n",
       "      <th>100</th>\n",
       "      <td>Bill</td>\n",
       "      <td>1</td>\n",
       "      <td>New York</td>\n",
       "      <td>455000.0</td>\n",
       "      <td>232300.56</td>\n",
       "    </tr>\n",
       "    <tr>\n",
       "      <th>101</th>\n",
       "      <td>Ludovica</td>\n",
       "      <td>2</td>\n",
       "      <td>Catania</td>\n",
       "      <td>722321.0</td>\n",
       "      <td>478123.45</td>\n",
       "    </tr>\n",
       "    <tr>\n",
       "      <th>102</th>\n",
       "      <td>Qing</td>\n",
       "      <td>1</td>\n",
       "      <td>Paris</td>\n",
       "      <td>95223.0</td>\n",
       "      <td>3891.24</td>\n",
       "    </tr>\n",
       "    <tr>\n",
       "      <th>103</th>\n",
       "      <td>Savitri</td>\n",
       "      <td>2</td>\n",
       "      <td>New York</td>\n",
       "      <td>135000.0</td>\n",
       "      <td>98012.36</td>\n",
       "    </tr>\n",
       "    <tr>\n",
       "      <th>104</th>\n",
       "      <td>Giovanni</td>\n",
       "      <td>1</td>\n",
       "      <td>Sydney</td>\n",
       "      <td>132033.0</td>\n",
       "      <td>52123.5</td>\n",
       "    </tr>\n",
       "    <tr>\n",
       "      <th>105</th>\n",
       "      <td>Birgit</td>\n",
       "      <td>1</td>\n",
       "      <td>Sydney</td>\n",
       "      <td>700000.0</td>\n",
       "      <td>0.0</td>\n",
       "    </tr>\n",
       "    <tr>\n",
       "      <th>106</th>\n",
       "      <td>Bercù</td>\n",
       "      <td>1</td>\n",
       "      <td>Paris</td>\n",
       "      <td>832123.0</td>\n",
       "      <td>321000.23</td>\n",
       "    </tr>\n",
       "    <tr>\n",
       "      <th>107</th>\n",
       "      <td>Elodie</td>\n",
       "      <td>2</td>\n",
       "      <td>New York</td>\n",
       "      <td>78123.11</td>\n",
       "      <td>37345.22</td>\n",
       "    </tr>\n",
       "    <tr>\n",
       "      <th>108</th>\n",
       "      <td>Gurumul</td>\n",
       "      <td>1</td>\n",
       "      <td>Sydney</td>\n",
       "      <td>13243.32</td>\n",
       "      <td>121200.0</td>\n",
       "    </tr>\n",
       "    <tr>\n",
       "      <th>109</th>\n",
       "      <td>Kwame</td>\n",
       "      <td>2</td>\n",
       "      <td>Paris</td>\n",
       "      <td>456122.17</td>\n",
       "      <td>59621.33</td>\n",
       "    </tr>\n",
       "    <tr>\n",
       "      <th>110</th>\n",
       "      <td>Rosa</td>\n",
       "      <td>1</td>\n",
       "      <td>New York</td>\n",
       "      <td>912321.22</td>\n",
       "      <td>94123.5</td>\n",
       "    </tr>\n",
       "    <tr>\n",
       "      <th>111</th>\n",
       "      <td>João</td>\n",
       "      <td>1</td>\n",
       "      <td>Paris</td>\n",
       "      <td>31123.0</td>\n",
       "      <td>45123.2</td>\n",
       "    </tr>\n",
       "  </tbody>\n",
       "</table>\n",
       "</div>"
      ],
      "text/plain": [
       "         name department      city     salary      bonus\n",
       "100      Bill          1  New York   455000.0  232300.56\n",
       "101  Ludovica          2   Catania   722321.0  478123.45\n",
       "102      Qing          1     Paris    95223.0    3891.24\n",
       "103   Savitri          2  New York   135000.0   98012.36\n",
       "104  Giovanni          1    Sydney   132033.0    52123.5\n",
       "105    Birgit          1    Sydney   700000.0        0.0\n",
       "106     Bercù          1     Paris   832123.0  321000.23\n",
       "107    Elodie          2  New York   78123.11   37345.22\n",
       "108   Gurumul          1    Sydney   13243.32   121200.0\n",
       "109     Kwame          2     Paris  456122.17   59621.33\n",
       "110      Rosa          1  New York  912321.22    94123.5\n",
       "111      João          1     Paris    31123.0    45123.2"
      ]
     },
     "execution_count": 38,
     "metadata": {},
     "output_type": "execute_result"
    }
   ],
   "source": [
    "df"
   ]
  },
  {
   "cell_type": "markdown",
   "metadata": {},
   "source": [
    "<h2>group the data by department </h2>\n",
    "<li>Notice the use of elementwise operations as in numpy arrays</li>\n",
    "<li><span style=\"font-size:large\">for loops = BAD PRACTICE!</span></li>\n",
    "<li>Then apply aggregate functions (size, mean, sum) on the groups</li>"
   ]
  },
  {
   "cell_type": "code",
   "execution_count": 28,
   "metadata": {},
   "outputs": [
    {
     "data": {
      "text/plain": [
       "<pandas.core.groupby.generic.DataFrameGroupBy object at 0x7feceb180a90>"
      ]
     },
     "execution_count": 28,
     "metadata": {},
     "output_type": "execute_result"
    }
   ],
   "source": [
    "department_groups = df.groupby(['department']) \n",
    "#Returns a groupby object that contains groupings\n",
    "department_groups"
   ]
  },
  {
   "cell_type": "code",
   "execution_count": 25,
   "metadata": {},
   "outputs": [
    {
     "data": {
      "text/plain": [
       "department\n",
       "1    8\n",
       "2    4\n",
       "dtype: int64"
      ]
     },
     "execution_count": 25,
     "metadata": {},
     "output_type": "execute_result"
    }
   ],
   "source": [
    "department_groups.size()"
   ]
  },
  {
   "cell_type": "markdown",
   "metadata": {},
   "source": [
    "<li>Which department is better paid </li>\n"
   ]
  },
  {
   "cell_type": "code",
   "execution_count": 27,
   "metadata": {},
   "outputs": [
    {
     "data": {
      "text/html": [
       "<div>\n",
       "<style scoped>\n",
       "    .dataframe tbody tr th:only-of-type {\n",
       "        vertical-align: middle;\n",
       "    }\n",
       "\n",
       "    .dataframe tbody tr th {\n",
       "        vertical-align: top;\n",
       "    }\n",
       "\n",
       "    .dataframe thead th {\n",
       "        text-align: right;\n",
       "    }\n",
       "</style>\n",
       "<table border=\"1\" class=\"dataframe\">\n",
       "  <thead>\n",
       "    <tr style=\"text-align: right;\">\n",
       "      <th></th>\n",
       "      <th>salary</th>\n",
       "      <th>bonus</th>\n",
       "    </tr>\n",
       "    <tr>\n",
       "      <th>department</th>\n",
       "      <th></th>\n",
       "      <th></th>\n",
       "    </tr>\n",
       "  </thead>\n",
       "  <tbody>\n",
       "    <tr>\n",
       "      <th>1</th>\n",
       "      <td>396383.3175</td>\n",
       "      <td>108720.27875</td>\n",
       "    </tr>\n",
       "    <tr>\n",
       "      <th>2</th>\n",
       "      <td>347891.5700</td>\n",
       "      <td>168275.59000</td>\n",
       "    </tr>\n",
       "  </tbody>\n",
       "</table>\n",
       "</div>"
      ],
      "text/plain": [
       "                 salary         bonus\n",
       "department                           \n",
       "1           396383.3175  108720.27875\n",
       "2           347891.5700  168275.59000"
      ]
     },
     "execution_count": 27,
     "metadata": {},
     "output_type": "execute_result"
    }
   ],
   "source": [
    "department_groups.mean(numeric_only=True)"
   ]
  },
  {
   "cell_type": "code",
   "execution_count": 46,
   "metadata": {},
   "outputs": [
    {
     "data": {
      "text/plain": [
       "department\n",
       "1    505103.59625\n",
       "2    516167.16000\n",
       "dtype: float64"
      ]
     },
     "execution_count": 46,
     "metadata": {},
     "output_type": "execute_result"
    }
   ],
   "source": [
    "department_groups['salary'].mean() + department_groups['bonus'].mean()"
   ]
  },
  {
   "cell_type": "markdown",
   "metadata": {},
   "source": [
    "<li>Which department makes more in bonus as a pct of their compensation?</li>"
   ]
  },
  {
   "cell_type": "code",
   "execution_count": null,
   "metadata": {},
   "outputs": [],
   "source": [
    "department_groups['bonus'].mean()"
   ]
  },
  {
   "cell_type": "code",
   "execution_count": null,
   "metadata": {},
   "outputs": [],
   "source": [
    "\n",
    "department_groups['bonus'].mean() / department_groups['salary'].mean()"
   ]
  },
  {
   "cell_type": "markdown",
   "metadata": {},
   "source": [
    "<h2>multi-level grouping</h2>\n",
    "<li>include columns in the group order</li>\n",
    "<li>Does relative department compensation differ by city? Group first by city and then, within each city, by department</li>"
   ]
  },
  {
   "cell_type": "code",
   "execution_count": null,
   "metadata": {},
   "outputs": [],
   "source": [
    "df"
   ]
  },
  {
   "cell_type": "code",
   "execution_count": 47,
   "metadata": {},
   "outputs": [
    {
     "data": {
      "text/plain": [
       "city      department\n",
       "Catania   2             1.200444e+06\n",
       "New York  1             8.468726e+05\n",
       "          2             1.742403e+05\n",
       "Paris     1             4.428279e+05\n",
       "          2             5.157435e+05\n",
       "Sydney    1             3.395333e+05\n",
       "dtype: float64"
      ]
     },
     "execution_count": 47,
     "metadata": {},
     "output_type": "execute_result"
    }
   ],
   "source": [
    "city_dept_group = df.groupby(['city','department'])\n",
    "cdg = city_dept_group['salary'].mean() + city_dept_group['bonus'].mean()\n",
    "cdg"
   ]
  },
  {
   "cell_type": "markdown",
   "metadata": {},
   "source": [
    "<h4>formatting print</h4>\n",
    "<li>format decimal numbers to two decimal places (and avoid seeing exponent form output!)</li>\n",
    "<li>use <span style=\"color:blue\">pd.options.display.float_format</span></li>\n",
    "<li><a href=\"https://pandas.pydata.org/pandas-docs/stable/user_guide/options.html\">other display settings and options</a></li>"
   ]
  },
  {
   "cell_type": "code",
   "execution_count": 48,
   "metadata": {},
   "outputs": [
    {
     "name": "stdout",
     "output_type": "stream",
     "text": [
      "city      department\n",
      "Catania   2            1,200,444.45\n",
      "New York  1              846,872.64\n",
      "          2              174,240.35\n",
      "Paris     1              442,827.89\n",
      "          2              515,743.50\n",
      "Sydney    1              339,533.27\n",
      "dtype: float64\n"
     ]
    }
   ],
   "source": [
    "pd.options.display.float_format = '{:,.2f}'.format\n",
    "print(city_dept_group['salary'].mean() + city_dept_group['bonus'].mean())"
   ]
  },
  {
   "cell_type": "markdown",
   "metadata": {},
   "source": [
    "<h2>Custom grouping function</h2>\n",
    "<li>We've looked at grouping by column values, but we can also group by a custom grouping function</li>\n",
    "<li>Divide the employees into \"High Bonus\" (more than 20% of salary as bonus) and \"Low Bonus\"</li>\n"
   ]
  },
  {
   "cell_type": "markdown",
   "metadata": {},
   "source": [
    "<li>We need to write a function that takes a dataframe, a row index, and the salary and bonus columns as arguments\n",
    "<li>The four arguments together will point to <span style=\"color:blue\">two values</span> in the dataframe\n",
    "<li>And we can apply a test to these values to see which group the row belongs\n",
    "<li>And return the group label"
   ]
  },
  {
   "cell_type": "code",
   "execution_count": 49,
   "metadata": {},
   "outputs": [],
   "source": [
    "def ratio_group(df,index,threshold):\n",
    "    try:\n",
    "        if df.loc[index]['bonus']/df.loc[index]['salary'] > threshold:\n",
    "            return \"High Bonus\"\n",
    "    except:\n",
    "        pass\n",
    "    return \"Low Bonus\""
   ]
  },
  {
   "cell_type": "code",
   "execution_count": 77,
   "metadata": {},
   "outputs": [
    {
     "data": {
      "text/html": [
       "<div>\n",
       "<style scoped>\n",
       "    .dataframe tbody tr th:only-of-type {\n",
       "        vertical-align: middle;\n",
       "    }\n",
       "\n",
       "    .dataframe tbody tr th {\n",
       "        vertical-align: top;\n",
       "    }\n",
       "\n",
       "    .dataframe thead th {\n",
       "        text-align: right;\n",
       "    }\n",
       "</style>\n",
       "<table border=\"1\" class=\"dataframe\">\n",
       "  <thead>\n",
       "    <tr style=\"text-align: right;\">\n",
       "      <th></th>\n",
       "      <th>name</th>\n",
       "      <th>department</th>\n",
       "      <th>city</th>\n",
       "      <th>salary</th>\n",
       "      <th>bonus</th>\n",
       "    </tr>\n",
       "  </thead>\n",
       "  <tbody>\n",
       "    <tr>\n",
       "      <th>100</th>\n",
       "      <td>Bill</td>\n",
       "      <td>1</td>\n",
       "      <td>New York</td>\n",
       "      <td>455,000.00</td>\n",
       "      <td>232,300.56</td>\n",
       "    </tr>\n",
       "    <tr>\n",
       "      <th>101</th>\n",
       "      <td>Ludovica</td>\n",
       "      <td>2</td>\n",
       "      <td>Catania</td>\n",
       "      <td>722,321.00</td>\n",
       "      <td>478,123.45</td>\n",
       "    </tr>\n",
       "    <tr>\n",
       "      <th>102</th>\n",
       "      <td>Qing</td>\n",
       "      <td>1</td>\n",
       "      <td>Paris</td>\n",
       "      <td>95,223.00</td>\n",
       "      <td>3,891.24</td>\n",
       "    </tr>\n",
       "    <tr>\n",
       "      <th>103</th>\n",
       "      <td>Savitri</td>\n",
       "      <td>2</td>\n",
       "      <td>New York</td>\n",
       "      <td>135,000.00</td>\n",
       "      <td>98,012.36</td>\n",
       "    </tr>\n",
       "    <tr>\n",
       "      <th>104</th>\n",
       "      <td>Giovanni</td>\n",
       "      <td>1</td>\n",
       "      <td>Sydney</td>\n",
       "      <td>132,033.00</td>\n",
       "      <td>52,123.50</td>\n",
       "    </tr>\n",
       "    <tr>\n",
       "      <th>105</th>\n",
       "      <td>Birgit</td>\n",
       "      <td>1</td>\n",
       "      <td>Sydney</td>\n",
       "      <td>700,000.00</td>\n",
       "      <td>0.00</td>\n",
       "    </tr>\n",
       "    <tr>\n",
       "      <th>106</th>\n",
       "      <td>Bercù</td>\n",
       "      <td>1</td>\n",
       "      <td>Paris</td>\n",
       "      <td>832,123.00</td>\n",
       "      <td>321,000.23</td>\n",
       "    </tr>\n",
       "    <tr>\n",
       "      <th>107</th>\n",
       "      <td>Elodie</td>\n",
       "      <td>2</td>\n",
       "      <td>New York</td>\n",
       "      <td>78,123.11</td>\n",
       "      <td>37,345.22</td>\n",
       "    </tr>\n",
       "    <tr>\n",
       "      <th>108</th>\n",
       "      <td>Gurumul</td>\n",
       "      <td>1</td>\n",
       "      <td>Sydney</td>\n",
       "      <td>13,243.32</td>\n",
       "      <td>121,200.00</td>\n",
       "    </tr>\n",
       "    <tr>\n",
       "      <th>109</th>\n",
       "      <td>Kwame</td>\n",
       "      <td>2</td>\n",
       "      <td>Paris</td>\n",
       "      <td>456,122.17</td>\n",
       "      <td>59,621.33</td>\n",
       "    </tr>\n",
       "    <tr>\n",
       "      <th>110</th>\n",
       "      <td>Rosa</td>\n",
       "      <td>1</td>\n",
       "      <td>New York</td>\n",
       "      <td>912,321.22</td>\n",
       "      <td>94,123.50</td>\n",
       "    </tr>\n",
       "    <tr>\n",
       "      <th>111</th>\n",
       "      <td>João</td>\n",
       "      <td>1</td>\n",
       "      <td>Paris</td>\n",
       "      <td>31,123.00</td>\n",
       "      <td>45,123.20</td>\n",
       "    </tr>\n",
       "  </tbody>\n",
       "</table>\n",
       "</div>"
      ],
      "text/plain": [
       "         name department      city     salary      bonus\n",
       "100      Bill          1  New York 455,000.00 232,300.56\n",
       "101  Ludovica          2   Catania 722,321.00 478,123.45\n",
       "102      Qing          1     Paris  95,223.00   3,891.24\n",
       "103   Savitri          2  New York 135,000.00  98,012.36\n",
       "104  Giovanni          1    Sydney 132,033.00  52,123.50\n",
       "105    Birgit          1    Sydney 700,000.00       0.00\n",
       "106     Bercù          1     Paris 832,123.00 321,000.23\n",
       "107    Elodie          2  New York  78,123.11  37,345.22\n",
       "108   Gurumul          1    Sydney  13,243.32 121,200.00\n",
       "109     Kwame          2     Paris 456,122.17  59,621.33\n",
       "110      Rosa          1  New York 912,321.22  94,123.50\n",
       "111      João          1     Paris  31,123.00  45,123.20"
      ]
     },
     "execution_count": 77,
     "metadata": {},
     "output_type": "execute_result"
    }
   ],
   "source": [
    "df"
   ]
  },
  {
   "cell_type": "code",
   "execution_count": 51,
   "metadata": {},
   "outputs": [
    {
     "data": {
      "text/plain": [
       "'High Bonus'"
      ]
     },
     "execution_count": 51,
     "metadata": {},
     "output_type": "execute_result"
    }
   ],
   "source": [
    "ratio_group(df,107,0.2)"
   ]
  },
  {
   "cell_type": "markdown",
   "metadata": {},
   "source": [
    "<h2>Digression: Lambda functions</h2>\n",
    "<li>lambda functions are anonymous functions, created on the fly, and typically meant to be used once</li>\n",
    "<li>since they are unnamed, they are not callable but are meant to be used in context</li>\n",
    "<li>but, since python functions are first order functions, you can assign a name to the function using =</li>\n"
   ]
  },
  {
   "cell_type": "code",
   "execution_count": 52,
   "metadata": {},
   "outputs": [
    {
     "data": {
      "text/plain": [
       "1089"
      ]
     },
     "execution_count": 52,
     "metadata": {},
     "output_type": "execute_result"
    }
   ],
   "source": [
    "def square(x):\n",
    "    return x*x\n",
    "square(33)"
   ]
  },
  {
   "cell_type": "code",
   "execution_count": 54,
   "metadata": {},
   "outputs": [
    {
     "data": {
      "text/plain": [
       "<function __main__.<lambda>(x)>"
      ]
     },
     "execution_count": 54,
     "metadata": {},
     "output_type": "execute_result"
    }
   ],
   "source": [
    "lambda x: x*x"
   ]
  },
  {
   "cell_type": "code",
   "execution_count": 53,
   "metadata": {},
   "outputs": [
    {
     "data": {
      "text/plain": [
       "1089"
      ]
     },
     "execution_count": 53,
     "metadata": {},
     "output_type": "execute_result"
    }
   ],
   "source": [
    "#Single use example. This function will not be available for future use\n",
    "(lambda x: x*x)(33)"
   ]
  },
  {
   "cell_type": "code",
   "execution_count": null,
   "metadata": {},
   "outputs": [],
   "source": [
    "#Multiple use example. This function will be callable in the future\n",
    "square = lambda x: x*x\n",
    "square(33)"
   ]
  },
  {
   "cell_type": "code",
   "execution_count": 55,
   "metadata": {},
   "outputs": [
    {
     "data": {
      "text/plain": [
       "6"
      ]
     },
     "execution_count": 55,
     "metadata": {},
     "output_type": "execute_result"
    }
   ],
   "source": [
    "(lambda x,y: x*y)(3,2)"
   ]
  },
  {
   "cell_type": "markdown",
   "metadata": {},
   "source": [
    "<li>lambda functions are most often used when they are an argument to another function</li>\n",
    "<li>most basic example of use: defining a sort order when sorting</li>\n",
    "<li>A list containing student names and scores</li>\n",
    "<li>sort by scores</li>\n",
    "<li>sort functions (also min, max) have a key argument that contains the function used for comparing pairs of elements</li>\n",
    "    "
   ]
  },
  {
   "cell_type": "code",
   "execution_count": 56,
   "metadata": {},
   "outputs": [],
   "source": [
    "grades = [(\"Jack\",27),(\"Jack\",83),(\"Jill\",94),(\"Qing\",73),(\"Birgit\",73),(\"Parsifal\",99),(\"Birgit\",24)]\n",
    "simple_sort = sorted(grades) #Sorts in order of elements (name, score)\n",
    "score_sort = sorted(grades,key=lambda x: x[1]) #Sorts ONLY by second argument"
   ]
  },
  {
   "cell_type": "code",
   "execution_count": 57,
   "metadata": {},
   "outputs": [
    {
     "data": {
      "text/plain": [
       "[('Birgit', 24),\n",
       " ('Birgit', 73),\n",
       " ('Jack', 27),\n",
       " ('Jack', 83),\n",
       " ('Jill', 94),\n",
       " ('Parsifal', 99),\n",
       " ('Qing', 73)]"
      ]
     },
     "execution_count": 57,
     "metadata": {},
     "output_type": "execute_result"
    }
   ],
   "source": [
    "simple_sort"
   ]
  },
  {
   "cell_type": "code",
   "execution_count": 58,
   "metadata": {},
   "outputs": [
    {
     "name": "stdout",
     "output_type": "stream",
     "text": [
      "[('Jack', 27), ('Jack', 83), ('Jill', 94), ('Qing', 73), ('Birgit', 73), ('Parsifal', 99), ('Birgit', 24)]\n"
     ]
    },
    {
     "data": {
      "text/plain": [
       "[('Birgit', 24),\n",
       " ('Jack', 27),\n",
       " ('Qing', 73),\n",
       " ('Birgit', 73),\n",
       " ('Jack', 83),\n",
       " ('Jill', 94),\n",
       " ('Parsifal', 99)]"
      ]
     },
     "execution_count": 58,
     "metadata": {},
     "output_type": "execute_result"
    }
   ],
   "source": [
    "print(grades)\n",
    "score_sort"
   ]
  },
  {
   "cell_type": "code",
   "execution_count": 60,
   "metadata": {},
   "outputs": [
    {
     "data": {
      "text/plain": [
       "[('Birgit', 73),\n",
       " ('Birgit', 24),\n",
       " ('Jack', 27),\n",
       " ('Jack', 83),\n",
       " ('Jill', 94),\n",
       " ('Parsifal', 99),\n",
       " ('Qing', 73)]"
      ]
     },
     "execution_count": 60,
     "metadata": {},
     "output_type": "execute_result"
    }
   ],
   "source": [
    "name_sort = sorted(grades,key=lambda x: x[0])\n",
    "name_sort"
   ]
  },
  {
   "cell_type": "markdown",
   "metadata": {},
   "source": [
    "<li>the lambda function takes one argument (x)</li>\n",
    "<li>each x value corresponds to a tuple (name,score)</li>\n",
    "<li>and returns  the second value in the tuple, the score</li>\n",
    "<li>and sort uses these values to order the elements</li>\n",
    "\n",
    "<li>We can give the function a name using an assignment statement</li>"
   ]
  },
  {
   "cell_type": "markdown",
   "metadata": {},
   "source": [
    "<li>lambda functions can have only one expression and they return whatever the expression returns</li>\n",
    "<li>the if .. else .. structure in a lambda function is in the form of an \"expression if\"</li>\n",
    "<li>multiple arguments are separated by a comma</li>\n",
    "\n"
   ]
  },
  {
   "cell_type": "code",
   "execution_count": 62,
   "metadata": {},
   "outputs": [
    {
     "data": {
      "text/plain": [
       "4"
      ]
     },
     "execution_count": 62,
     "metadata": {},
     "output_type": "execute_result"
    }
   ],
   "source": [
    "(lambda x,y,z: x if x > y else y if y > z else z) (4,2,3)"
   ]
  },
  {
   "cell_type": "markdown",
   "metadata": {},
   "source": [
    "<h3>Expression if</h3>\n",
    "<li>An ordinary if statement returns nothing. An expression if returns a value</li>"
   ]
  },
  {
   "cell_type": "code",
   "execution_count": null,
   "metadata": {},
   "outputs": [],
   "source": [
    "x=5\n",
    "if x<10:\n",
    "    y = x\n",
    "else:\n",
    "    y = 200"
   ]
  },
  {
   "cell_type": "code",
   "execution_count": 61,
   "metadata": {},
   "outputs": [
    {
     "data": {
      "text/plain": [
       "5"
      ]
     },
     "execution_count": 61,
     "metadata": {},
     "output_type": "execute_result"
    }
   ],
   "source": [
    "x=5\n",
    "y = x if x<10 else 200\n",
    "y\n",
    "\n",
    "\"\"\"\n",
    "x=5\n",
    "if x<10:\n",
    "   y = x\n",
    "else:\n",
    "   y = 200\n",
    "\"\"\"\n",
    "y"
   ]
  },
  {
   "cell_type": "markdown",
   "metadata": {},
   "source": [
    "<h3>Try this!</h3>\n",
    "The following cell contains a function isSorted(l) which returns True if list l is sorted in ascending order and False otherwise.\n",
    "\n",
    "Modify this function to add a second argument, a function that compares two values and returns True if some condition is met and False otherwise. isSorted should return True if every pair of consecutive elements in the list satisfies that condition"
   ]
  },
  {
   "cell_type": "code",
   "execution_count": 67,
   "metadata": {},
   "outputs": [
    {
     "data": {
      "text/plain": [
       "True"
      ]
     },
     "execution_count": 67,
     "metadata": {},
     "output_type": "execute_result"
    }
   ],
   "source": [
    "def isSorted(a_list):\n",
    "    for i in range(1,len(a_list)):\n",
    "        if not a_list[i-1]<a_list[i]:\n",
    "            return False\n",
    "    return True\n",
    "\n",
    "x = [1,2,3,4,5]\n",
    "x=[1]\n",
    "isSorted(x)"
   ]
  },
  {
   "cell_type": "code",
   "execution_count": 76,
   "metadata": {},
   "outputs": [
    {
     "data": {
      "text/plain": [
       "False"
      ]
     },
     "execution_count": 76,
     "metadata": {},
     "output_type": "execute_result"
    }
   ],
   "source": [
    "def isSorted(a_list,p):\n",
    "    for i in range(1,len(a_list)):\n",
    "        if not p(a_list[i-1],a_list[i]):\n",
    "            return False\n",
    "    return True\n",
    "\n",
    "x = [1,2,2,4,5]\n",
    "x = [1,2,4,15,256]\n",
    "isSorted(x,lambda x,y : x*x<=y)"
   ]
  },
  {
   "cell_type": "code",
   "execution_count": null,
   "metadata": {},
   "outputs": [],
   "source": [
    "def isSorted(a_list,p):\n",
    "    "
   ]
  },
  {
   "cell_type": "code",
   "execution_count": null,
   "metadata": {},
   "outputs": [],
   "source": [
    "isSorted([1,2,4,16,257],lambda )"
   ]
  },
  {
   "cell_type": "code",
   "execution_count": null,
   "metadata": {},
   "outputs": [],
   "source": []
  },
  {
   "cell_type": "code",
   "execution_count": null,
   "metadata": {},
   "outputs": [],
   "source": []
  },
  {
   "cell_type": "code",
   "execution_count": null,
   "metadata": {},
   "outputs": [],
   "source": []
  },
  {
   "cell_type": "code",
   "execution_count": null,
   "metadata": {},
   "outputs": [],
   "source": []
  },
  {
   "cell_type": "code",
   "execution_count": null,
   "metadata": {},
   "outputs": [],
   "source": []
  },
  {
   "cell_type": "code",
   "execution_count": null,
   "metadata": {},
   "outputs": [],
   "source": []
  },
  {
   "cell_type": "code",
   "execution_count": null,
   "metadata": {},
   "outputs": [],
   "source": []
  },
  {
   "cell_type": "code",
   "execution_count": null,
   "metadata": {},
   "outputs": [],
   "source": []
  },
  {
   "cell_type": "code",
   "execution_count": null,
   "metadata": {},
   "outputs": [],
   "source": [
    "def isSorted(l,p):\n",
    "    for i in range(1,len(l)):\n",
    "        if not p(l[i-1],l[i]):\n",
    "            return False\n",
    "    return True\n",
    "\n",
    "l = [1,2,3,4,5]\n",
    "isSorted(l,lambda a,b: a<b)"
   ]
  },
  {
   "cell_type": "code",
   "execution_count": null,
   "metadata": {},
   "outputs": [],
   "source": [
    "l2 = [1,2,4,16,256]\n",
    "isSorted(l2,lambda a,b: a*a<=b)"
   ]
  },
  {
   "cell_type": "markdown",
   "metadata": {},
   "source": [
    "<h3>Grouping using lambda functions</h3>\n",
    "<li>Finally, we'll pass the function to groupby using a lambda function\n",
    "<li>It will use the values returned by the function to group the data\n",
    "<li>Then we can get group level statistics"
   ]
  },
  {
   "cell_type": "code",
   "execution_count": 79,
   "metadata": {},
   "outputs": [
    {
     "data": {
      "text/html": [
       "<div>\n",
       "<style scoped>\n",
       "    .dataframe tbody tr th:only-of-type {\n",
       "        vertical-align: middle;\n",
       "    }\n",
       "\n",
       "    .dataframe tbody tr th {\n",
       "        vertical-align: top;\n",
       "    }\n",
       "\n",
       "    .dataframe thead th {\n",
       "        text-align: right;\n",
       "    }\n",
       "</style>\n",
       "<table border=\"1\" class=\"dataframe\">\n",
       "  <thead>\n",
       "    <tr style=\"text-align: right;\">\n",
       "      <th></th>\n",
       "      <th>name</th>\n",
       "      <th>department</th>\n",
       "      <th>city</th>\n",
       "      <th>salary</th>\n",
       "      <th>bonus</th>\n",
       "    </tr>\n",
       "  </thead>\n",
       "  <tbody>\n",
       "    <tr>\n",
       "      <th>100</th>\n",
       "      <td>Bill</td>\n",
       "      <td>1</td>\n",
       "      <td>New York</td>\n",
       "      <td>455,000.00</td>\n",
       "      <td>232,300.56</td>\n",
       "    </tr>\n",
       "    <tr>\n",
       "      <th>101</th>\n",
       "      <td>Ludovica</td>\n",
       "      <td>2</td>\n",
       "      <td>Catania</td>\n",
       "      <td>722,321.00</td>\n",
       "      <td>478,123.45</td>\n",
       "    </tr>\n",
       "    <tr>\n",
       "      <th>102</th>\n",
       "      <td>Qing</td>\n",
       "      <td>1</td>\n",
       "      <td>Paris</td>\n",
       "      <td>95,223.00</td>\n",
       "      <td>3,891.24</td>\n",
       "    </tr>\n",
       "    <tr>\n",
       "      <th>103</th>\n",
       "      <td>Savitri</td>\n",
       "      <td>2</td>\n",
       "      <td>New York</td>\n",
       "      <td>135,000.00</td>\n",
       "      <td>98,012.36</td>\n",
       "    </tr>\n",
       "    <tr>\n",
       "      <th>104</th>\n",
       "      <td>Giovanni</td>\n",
       "      <td>1</td>\n",
       "      <td>Sydney</td>\n",
       "      <td>132,033.00</td>\n",
       "      <td>52,123.50</td>\n",
       "    </tr>\n",
       "    <tr>\n",
       "      <th>105</th>\n",
       "      <td>Birgit</td>\n",
       "      <td>1</td>\n",
       "      <td>Sydney</td>\n",
       "      <td>700,000.00</td>\n",
       "      <td>0.00</td>\n",
       "    </tr>\n",
       "    <tr>\n",
       "      <th>106</th>\n",
       "      <td>Bercù</td>\n",
       "      <td>1</td>\n",
       "      <td>Paris</td>\n",
       "      <td>832,123.00</td>\n",
       "      <td>321,000.23</td>\n",
       "    </tr>\n",
       "    <tr>\n",
       "      <th>107</th>\n",
       "      <td>Elodie</td>\n",
       "      <td>2</td>\n",
       "      <td>New York</td>\n",
       "      <td>78,123.11</td>\n",
       "      <td>37,345.22</td>\n",
       "    </tr>\n",
       "    <tr>\n",
       "      <th>108</th>\n",
       "      <td>Gurumul</td>\n",
       "      <td>1</td>\n",
       "      <td>Sydney</td>\n",
       "      <td>13,243.32</td>\n",
       "      <td>121,200.00</td>\n",
       "    </tr>\n",
       "    <tr>\n",
       "      <th>109</th>\n",
       "      <td>Kwame</td>\n",
       "      <td>2</td>\n",
       "      <td>Paris</td>\n",
       "      <td>456,122.17</td>\n",
       "      <td>59,621.33</td>\n",
       "    </tr>\n",
       "    <tr>\n",
       "      <th>110</th>\n",
       "      <td>Rosa</td>\n",
       "      <td>1</td>\n",
       "      <td>New York</td>\n",
       "      <td>912,321.22</td>\n",
       "      <td>94,123.50</td>\n",
       "    </tr>\n",
       "    <tr>\n",
       "      <th>111</th>\n",
       "      <td>João</td>\n",
       "      <td>1</td>\n",
       "      <td>Paris</td>\n",
       "      <td>31,123.00</td>\n",
       "      <td>45,123.20</td>\n",
       "    </tr>\n",
       "  </tbody>\n",
       "</table>\n",
       "</div>"
      ],
      "text/plain": [
       "         name department      city     salary      bonus\n",
       "100      Bill          1  New York 455,000.00 232,300.56\n",
       "101  Ludovica          2   Catania 722,321.00 478,123.45\n",
       "102      Qing          1     Paris  95,223.00   3,891.24\n",
       "103   Savitri          2  New York 135,000.00  98,012.36\n",
       "104  Giovanni          1    Sydney 132,033.00  52,123.50\n",
       "105    Birgit          1    Sydney 700,000.00       0.00\n",
       "106     Bercù          1     Paris 832,123.00 321,000.23\n",
       "107    Elodie          2  New York  78,123.11  37,345.22\n",
       "108   Gurumul          1    Sydney  13,243.32 121,200.00\n",
       "109     Kwame          2     Paris 456,122.17  59,621.33\n",
       "110      Rosa          1  New York 912,321.22  94,123.50\n",
       "111      João          1     Paris  31,123.00  45,123.20"
      ]
     },
     "execution_count": 79,
     "metadata": {},
     "output_type": "execute_result"
    }
   ],
   "source": [
    "df"
   ]
  },
  {
   "cell_type": "code",
   "execution_count": 80,
   "metadata": {},
   "outputs": [
    {
     "data": {
      "text/plain": [
       "'Low Bonus'"
      ]
     },
     "execution_count": 80,
     "metadata": {},
     "output_type": "execute_result"
    }
   ],
   "source": [
    "def ratio_group(df,index,threshold):\n",
    "    try:\n",
    "        if df.loc[index]['bonus']/df.loc[index]['salary'] > threshold:\n",
    "            return \"High Bonus\"\n",
    "    except:\n",
    "        pass\n",
    "    return \"Low Bonus\"\n",
    "\n",
    "ratio_group(df,102,0.2)"
   ]
  },
  {
   "cell_type": "code",
   "execution_count": 81,
   "metadata": {},
   "outputs": [
    {
     "name": "stdout",
     "output_type": "stream",
     "text": [
      "High Bonus    5\n",
      "Low Bonus     7\n",
      "dtype: int64\n",
      "               salary      bonus\n",
      "High Bonus 271,337.46 194,951.91\n",
      "Low Bonus  457,992.21  81,157.86\n",
      "               salary      bonus\n",
      "High Bonus 308,229.44 172,384.97\n",
      "Low Bonus  362,195.02 110,661.32\n"
     ]
    }
   ],
   "source": [
    "# this is the equivalent of first creating a new column with high bonus and low bonus assignments\n",
    "# (this can be doen with the apply function) and then group by the column made by the apply function\n",
    "groups = df.groupby(lambda x: ratio_group(df,x,0.5))\n",
    "print(groups.size())\n",
    "print(groups.mean(numeric_only=True))\n",
    "print(groups.std(numeric_only=True))"
   ]
  },
  {
   "cell_type": "markdown",
   "metadata": {},
   "source": [
    "<h2>In-class problem</h2>\n",
    "<li>For our employee example, write a grouping function that groups the data into a two groups</li>\n",
    "<li>The \"living well\" group has a total income > 600,000 after adjusting for the cost of living</li>\n",
    "<li>The \"living hand to mouth\" group has a total income <= 600000 after adjusting for the cost of living</li>\n",
    "<li>The cost of living index is in a dictionary \"cost_of_living_index. Just divide the total income (salary + bonus) by the corresponding cost of living for the city the employee lives in to get the adjusted value</li>\n",
    "<li>How many employees are \"living well\" and how many are \"living hand to mouth\"</li>\n",
    "<li>What is the average income of the \"living well\" employees and that of the \"living hand to mouth\" employees</li>\n",
    "\n",
    "For the sizes and the means, you should get:\n",
    "\n",
    "<pre>\n",
    "lives hand to mouth    8\n",
    "lives well             4\n",
    "dtype: int64\n",
    "\n",
    "\n",
    "lives hand to mouth     255,685.63\n",
    "lives well            1,015,003.10\n",
    "dtype: float64\n",
    "</pre>"
   ]
  },
  {
   "cell_type": "code",
   "execution_count": 82,
   "metadata": {},
   "outputs": [
    {
     "name": "stdout",
     "output_type": "stream",
     "text": [
      "<class 'pandas.core.frame.DataFrame'>\n",
      "Index: 12 entries, 100 to 111\n",
      "Data columns (total 5 columns):\n",
      " #   Column      Non-Null Count  Dtype  \n",
      "---  ------      --------------  -----  \n",
      " 0   name        12 non-null     object \n",
      " 1   department  12 non-null     object \n",
      " 2   city        12 non-null     object \n",
      " 3   salary      12 non-null     float64\n",
      " 4   bonus       12 non-null     float64\n",
      "dtypes: float64(2), object(3)\n",
      "memory usage: 576.0+ bytes\n"
     ]
    }
   ],
   "source": [
    "import pandas as pd\n",
    "import numpy as np\n",
    "emp_id = np.array([100,101,102,103,104,105,106,107,108,109,110,111])\n",
    "names = np.array(['Bill','Ludovica','Qing','Savitri','Giovanni',\"Birgit\",\n",
    "                  \"Bercù\",\"Elodie\",\"Gurumul\",\"Kwame\",\"Rosa\",\"João\"])\n",
    "bonus = np.array([232300.56,478123.45,3891.24,98012.36,52123.50,0,\n",
    "                  321000.23,37345.22,121200,59621.33,94123.5,45123.2])\n",
    "department = np.array(['1','2','1','2','1','1','1','2',\"1\",\"2\",\"1\",\"1\"])\n",
    "city = np.array([\"New York\",\"Catania\",\"Paris\",\"New York\",\"Sydney\",\"Sydney\",\n",
    "                 \"Paris\",\"New York\",\"Sydney\",\"Paris\",\"New York\",\"Paris\"])\n",
    "salary = np.array([455000,722321,95223,135000,132033,700000,832123,\n",
    "                   78123.11,13243.32,456122.17,912321.22,31123])\n",
    "\n",
    "cost_of_living_index = {\"New York\":1.25,\n",
    "                        \"Catania\":0.8,\n",
    "                        \"Paris\": 1.1,\n",
    "                        \"Sydney\":0.9}\n",
    "\n",
    "columns=[\"name\",\"department\",\"city\",\"salary\",\"bonus\"]\n",
    "\n",
    "\n",
    "df = pd.DataFrame([names,department,city,salary,bonus]).transpose().set_index(emp_id)\n",
    "\n",
    "\n",
    "df.columns = columns\n",
    "\n",
    "df['salary'] =df['salary'].astype('float64')\n",
    "df['bonus'] =df['bonus'].astype('float64')\n",
    "\n",
    "\n",
    "df.info()\n"
   ]
  },
  {
   "cell_type": "code",
   "execution_count": null,
   "metadata": {},
   "outputs": [],
   "source": [
    "def grouping_function(df,index,cost_of_living_index):\n",
    "    row = df.loc[index]\n",
    "    city = row.city\n",
    "    c_o_l_index = cost_of_living_index[city]\n",
    "    compensation = row.salary + row.bonus\n",
    "    adjusted_comp = compensation/c_o_l_index\n",
    "    if adjusted_comp > 600000:\n",
    "        return \"Living well\"\n",
    "    \n",
    "    return \"Living hand to mouth\"\n",
    "grouping_function(df,106,cost_of_living_index)\n",
    "\n",
    "\n",
    "groups = df.groupby(lambda x: grouping_function(df,x,cost_of_living_index))\n",
    "\n",
    "#Number of people in each group\n",
    "groups.size()"
   ]
  },
  {
   "cell_type": "code",
   "execution_count": null,
   "metadata": {},
   "outputs": [],
   "source": [
    "#Average income in each group\n",
    "groups.salary.mean() + groups.bonus.mean()"
   ]
  },
  {
   "cell_type": "code",
   "execution_count": null,
   "metadata": {},
   "outputs": [],
   "source": []
  }
 ],
 "metadata": {
  "kernelspec": {
   "display_name": "Python 3 (ipykernel)",
   "language": "python",
   "name": "python3"
  },
  "language_info": {
   "codemirror_mode": {
    "name": "ipython",
    "version": 3
   },
   "file_extension": ".py",
   "mimetype": "text/x-python",
   "name": "python",
   "nbconvert_exporter": "python",
   "pygments_lexer": "ipython3",
   "version": "3.9.12"
  },
  "toc": {
   "base_numbering": 1,
   "nav_menu": {},
   "number_sections": true,
   "sideBar": true,
   "skip_h1_title": false,
   "title_cell": "Table of Contents",
   "title_sidebar": "Contents",
   "toc_cell": false,
   "toc_position": {},
   "toc_section_display": true,
   "toc_window_display": false
  }
 },
 "nbformat": 4,
 "nbformat_minor": 2
}
