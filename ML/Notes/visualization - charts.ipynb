{
 "cells": [
  {
   "cell_type": "markdown",
   "metadata": {},
   "source": [
    "<br><br><br><br>\n",
    "<h2 style=\"color:red;font-size:40px\">Charts and graphs</h2>\n",
    "<br><br>\n",
    "<li><span style=\"color:green\">matplotlib </span>Python's integrated plotting library</li>\n",
    "<li><span style=\"color:green\">bokeh </span>Interactive plotting library</li>\n"
   ]
  },
  {
   "cell_type": "markdown",
   "metadata": {},
   "source": [
    "<br><br><br><br>\n",
    "<span style=\"color:blue;font-size:large\">matplotlib</span>\n",
    "<li><a href=\"https://matplotlib.org\">https://matplotlib.org</a></li>\n",
    "<li>easy to use and tight coupling with pandas</li>\n"
   ]
  },
  {
   "cell_type": "markdown",
   "metadata": {},
   "source": [
    "<br><br><br><br>\n",
    "<span style=\"color:blue;font-size:large\">bokeh</span>\n",
    "<li><a href=\"https://docs.bokeh.org/en/latest/\">https://docs.bokeh.org/en/latest/</a></li>\n",
    "<li>interactive plotting, growing mapping functionality, presentation ready graphs</li>\n",
    "<li>requires a bit more work</li>\n"
   ]
  },
  {
   "cell_type": "markdown",
   "metadata": {},
   "source": [
    "<br><br><br><br>\n",
    "<span style=\"color:blue;font-size:large\">What kinds of visuals are possible</span>\n",
    "<li>Tons and tons</li>\n",
    "<li>Best approach: think of how you want to show your data or results and then google till you find the right way to do it</li>\n",
    "<li><b>Almost anything is possible!</b></li>"
   ]
  },
  {
   "cell_type": "markdown",
   "metadata": {},
   "source": [
    "<br><br><br><br>\n",
    "<span style=\"color:green;font-size:xx-large\">setup</span>\n",
    "<br><br>\n",
    "\n",
    "<li>!pip install bokeh</li>\n",
    "<li>OR</li>\n",
    "<li>!conda install --yes bokeh</li>\n",
    "<li>matplotlib comes pre-installed with anaconda</li>\n",
    "<li>In the notebook, select \"File --> Trust notebook\" from the menubar. Your graphs will be available when you reopen the notebook"
   ]
  },
  {
   "cell_type": "code",
   "execution_count": 1,
   "metadata": {},
   "outputs": [
    {
     "name": "stdout",
     "output_type": "stream",
     "text": [
      "Requirement already satisfied: bokeh in /Users/joshuagrajales/opt/anaconda3/lib/python3.9/site-packages (3.2.2)\n",
      "Requirement already satisfied: pillow>=7.1.0 in /Users/joshuagrajales/opt/anaconda3/lib/python3.9/site-packages (from bokeh) (9.0.1)\n",
      "Requirement already satisfied: packaging>=16.8 in /Users/joshuagrajales/opt/anaconda3/lib/python3.9/site-packages (from bokeh) (23.1)\n",
      "Requirement already satisfied: xyzservices>=2021.09.1 in /Users/joshuagrajales/opt/anaconda3/lib/python3.9/site-packages (from bokeh) (2023.7.0)\n",
      "Requirement already satisfied: contourpy>=1 in /Users/joshuagrajales/opt/anaconda3/lib/python3.9/site-packages (from bokeh) (1.1.1)\n",
      "Requirement already satisfied: tornado>=5.1 in /Users/joshuagrajales/opt/anaconda3/lib/python3.9/site-packages (from bokeh) (6.1)\n",
      "Requirement already satisfied: pandas>=1.2 in /Users/joshuagrajales/opt/anaconda3/lib/python3.9/site-packages (from bokeh) (2.1.0)\n",
      "Requirement already satisfied: numpy>=1.16 in /Users/joshuagrajales/opt/anaconda3/lib/python3.9/site-packages (from bokeh) (1.26.0)\n",
      "Requirement already satisfied: PyYAML>=3.10 in /Users/joshuagrajales/opt/anaconda3/lib/python3.9/site-packages (from bokeh) (6.0)\n",
      "Requirement already satisfied: Jinja2>=2.9 in /Users/joshuagrajales/opt/anaconda3/lib/python3.9/site-packages (from bokeh) (2.11.3)\n",
      "Requirement already satisfied: MarkupSafe>=0.23 in /Users/joshuagrajales/opt/anaconda3/lib/python3.9/site-packages (from Jinja2>=2.9->bokeh) (2.0.1)\n",
      "Requirement already satisfied: pytz>=2020.1 in /Users/joshuagrajales/opt/anaconda3/lib/python3.9/site-packages (from pandas>=1.2->bokeh) (2023.3.post1)\n",
      "Requirement already satisfied: tzdata>=2022.1 in /Users/joshuagrajales/opt/anaconda3/lib/python3.9/site-packages (from pandas>=1.2->bokeh) (2023.3)\n",
      "Requirement already satisfied: python-dateutil>=2.8.2 in /Users/joshuagrajales/opt/anaconda3/lib/python3.9/site-packages (from pandas>=1.2->bokeh) (2.8.2)\n",
      "Requirement already satisfied: six>=1.5 in /Users/joshuagrajales/opt/anaconda3/lib/python3.9/site-packages (from python-dateutil>=2.8.2->pandas>=1.2->bokeh) (1.16.0)\n"
     ]
    }
   ],
   "source": [
    "!pip install bokeh --upgrade"
   ]
  },
  {
   "cell_type": "code",
   "execution_count": 5,
   "metadata": {},
   "outputs": [
    {
     "data": {
      "text/plain": [
       "'3.2.2'"
      ]
     },
     "execution_count": 5,
     "metadata": {},
     "output_type": "execute_result"
    }
   ],
   "source": [
    "import bokeh\n",
    "bokeh.__version__"
   ]
  },
  {
   "cell_type": "markdown",
   "metadata": {},
   "source": [
    "<br><br><br><br>\n",
    "<span style=\"color:green;font-size:50px\">Interactive charts with bokeh</span>\n",
    "<br><br>"
   ]
  },
  {
   "cell_type": "markdown",
   "metadata": {},
   "source": [
    "<br><br><br><br>\n",
    "<span style=\"color:blue;font-size:large\">bokeh</span>\n",
    "<li>import libraries</li>\n",
    "<li>run output_notebook() to display charts inline</li>\n",
    "<li>output_notebook() should say \"BokehJS 3.2.2 successfully loaded.\" (or something went wrong!)</li>"
   ]
  },
  {
   "cell_type": "code",
   "execution_count": 1,
   "metadata": {},
   "outputs": [],
   "source": [
    "#output_notebook for inline charts in a notebook\n",
    "#show to show a chart\n",
    "from bokeh.io import output_notebook, show # these allo0w us to have plots in cells and not in the outputs(?)\n",
    "from bokeh.plotting import figure # we add things to the base figure"
   ]
  },
  {
   "cell_type": "code",
   "execution_count": 2,
   "metadata": {},
   "outputs": [
    {
     "data": {
      "text/html": [
       "<style>\n",
       "        .bk-notebook-logo {\n",
       "            display: block;\n",
       "            width: 20px;\n",
       "            height: 20px;\n",
       "            background-image: url(data:image/png;base64,iVBORw0KGgoAAAANSUhEUgAAABQAAAAUCAYAAACNiR0NAAAABHNCSVQICAgIfAhkiAAAAAlwSFlzAAALEgAACxIB0t1+/AAAABx0RVh0U29mdHdhcmUAQWRvYmUgRmlyZXdvcmtzIENTNui8sowAAAOkSURBVDiNjZRtaJVlGMd/1/08zzln5zjP1LWcU9N0NkN8m2CYjpgQYQXqSs0I84OLIC0hkEKoPtiH3gmKoiJDU7QpLgoLjLIQCpEsNJ1vqUOdO7ppbuec5+V+rj4ctwzd8IIbbi6u+8f1539dt3A78eXC7QizUF7gyV1fD1Yqg4JWz84yffhm0qkFqBogB9rM8tZdtwVsPUhWhGcFJngGeWrPzHm5oaMmkfEg1usvLFyc8jLRqDOMru7AyC8saQr7GG7f5fvDeH7Ej8CM66nIF+8yngt6HWaKh7k49Soy9nXurCi1o3qUbS3zWfrYeQDTB/Qj6kX6Ybhw4B+bOYoLKCC9H3Nu/leUTZ1JdRWkkn2ldcCamzrcf47KKXdAJllSlxAOkRgyHsGC/zRday5Qld9DyoM4/q/rUoy/CXh3jzOu3bHUVZeU+DEn8FInkPBFlu3+nW3Nw0mk6vCDiWg8CeJaxEwuHS3+z5RgY+YBR6V1Z1nxSOfoaPa4LASWxxdNp+VWTk7+4vzaou8v8PN+xo+KY2xsw6une2frhw05CTYOmQvsEhjhWjn0bmXPjpE1+kplmmkP3suftwTubK9Vq22qKmrBhpY4jvd5afdRA3wGjFAgcnTK2s4hY0/GPNIb0nErGMCRxWOOX64Z8RAC4oCXdklmEvcL8o0BfkNK4lUg9HTl+oPlQxdNo3Mg4Nv175e/1LDGzZen30MEjRUtmXSfiTVu1kK8W4txyV6BMKlbgk3lMwYCiusNy9fVfvvwMxv8Ynl6vxoByANLTWplvuj/nF9m2+PDtt1eiHPBr1oIfhCChQMBw6Aw0UulqTKZdfVvfG7VcfIqLG9bcldL/+pdWTLxLUy8Qq38heUIjh4XlzZxzQm19lLFlr8vdQ97rjZVOLf8nclzckbcD4wxXMidpX30sFd37Fv/GtwwhzhxGVAprjbg0gCAEeIgwCZyTV2Z1REEW8O4py0wsjeloKoMr6iCY6dP92H6Vw/oTyICIthibxjm/DfN9lVz8IqtqKYLUXfoKVMVQVVJOElGjrnnUt9T9wbgp8AyYKaGlqingHZU/uG2NTZSVqwHQTWkx9hxjkpWDaCg6Ckj5qebgBVbT3V3NNXMSiWSDdGV3hrtzla7J+duwPOToIg42ChPQOQjspnSlp1V+Gjdged7+8UN5CRAV7a5EdFNwCjEaBR27b3W890TE7g24NAP/mMDXRWrGoFPQI9ls/MWO2dWFAar/xcOIImbbpA3zgAAAABJRU5ErkJggg==);\n",
       "        }\n",
       "    </style>\n",
       "    <div>\n",
       "        <a href=\"https://bokeh.org\" target=\"_blank\" class=\"bk-notebook-logo\"></a>\n",
       "        <span id=\"daac0167-4d3e-4fe1-84be-84a8ea4aaa15\">Loading BokehJS ...</span>\n",
       "    </div>\n"
      ]
     },
     "metadata": {},
     "output_type": "display_data"
    },
    {
     "data": {
      "application/javascript": "(function(root) {\n  function now() {\n    return new Date();\n  }\n\n  const force = true;\n\n  if (typeof root._bokeh_onload_callbacks === \"undefined\" || force === true) {\n    root._bokeh_onload_callbacks = [];\n    root._bokeh_is_loading = undefined;\n  }\n\nconst JS_MIME_TYPE = 'application/javascript';\n  const HTML_MIME_TYPE = 'text/html';\n  const EXEC_MIME_TYPE = 'application/vnd.bokehjs_exec.v0+json';\n  const CLASS_NAME = 'output_bokeh rendered_html';\n\n  /**\n   * Render data to the DOM node\n   */\n  function render(props, node) {\n    const script = document.createElement(\"script\");\n    node.appendChild(script);\n  }\n\n  /**\n   * Handle when an output is cleared or removed\n   */\n  function handleClearOutput(event, handle) {\n    const cell = handle.cell;\n\n    const id = cell.output_area._bokeh_element_id;\n    const server_id = cell.output_area._bokeh_server_id;\n    // Clean up Bokeh references\n    if (id != null && id in Bokeh.index) {\n      Bokeh.index[id].model.document.clear();\n      delete Bokeh.index[id];\n    }\n\n    if (server_id !== undefined) {\n      // Clean up Bokeh references\n      const cmd_clean = \"from bokeh.io.state import curstate; print(curstate().uuid_to_server['\" + server_id + \"'].get_sessions()[0].document.roots[0]._id)\";\n      cell.notebook.kernel.execute(cmd_clean, {\n        iopub: {\n          output: function(msg) {\n            const id = msg.content.text.trim();\n            if (id in Bokeh.index) {\n              Bokeh.index[id].model.document.clear();\n              delete Bokeh.index[id];\n            }\n          }\n        }\n      });\n      // Destroy server and session\n      const cmd_destroy = \"import bokeh.io.notebook as ion; ion.destroy_server('\" + server_id + \"')\";\n      cell.notebook.kernel.execute(cmd_destroy);\n    }\n  }\n\n  /**\n   * Handle when a new output is added\n   */\n  function handleAddOutput(event, handle) {\n    const output_area = handle.output_area;\n    const output = handle.output;\n\n    // limit handleAddOutput to display_data with EXEC_MIME_TYPE content only\n    if ((output.output_type != \"display_data\") || (!Object.prototype.hasOwnProperty.call(output.data, EXEC_MIME_TYPE))) {\n      return\n    }\n\n    const toinsert = output_area.element.find(\".\" + CLASS_NAME.split(' ')[0]);\n\n    if (output.metadata[EXEC_MIME_TYPE][\"id\"] !== undefined) {\n      toinsert[toinsert.length - 1].firstChild.textContent = output.data[JS_MIME_TYPE];\n      // store reference to embed id on output_area\n      output_area._bokeh_element_id = output.metadata[EXEC_MIME_TYPE][\"id\"];\n    }\n    if (output.metadata[EXEC_MIME_TYPE][\"server_id\"] !== undefined) {\n      const bk_div = document.createElement(\"div\");\n      bk_div.innerHTML = output.data[HTML_MIME_TYPE];\n      const script_attrs = bk_div.children[0].attributes;\n      for (let i = 0; i < script_attrs.length; i++) {\n        toinsert[toinsert.length - 1].firstChild.setAttribute(script_attrs[i].name, script_attrs[i].value);\n        toinsert[toinsert.length - 1].firstChild.textContent = bk_div.children[0].textContent\n      }\n      // store reference to server id on output_area\n      output_area._bokeh_server_id = output.metadata[EXEC_MIME_TYPE][\"server_id\"];\n    }\n  }\n\n  function register_renderer(events, OutputArea) {\n\n    function append_mime(data, metadata, element) {\n      // create a DOM node to render to\n      const toinsert = this.create_output_subarea(\n        metadata,\n        CLASS_NAME,\n        EXEC_MIME_TYPE\n      );\n      this.keyboard_manager.register_events(toinsert);\n      // Render to node\n      const props = {data: data, metadata: metadata[EXEC_MIME_TYPE]};\n      render(props, toinsert[toinsert.length - 1]);\n      element.append(toinsert);\n      return toinsert\n    }\n\n    /* Handle when an output is cleared or removed */\n    events.on('clear_output.CodeCell', handleClearOutput);\n    events.on('delete.Cell', handleClearOutput);\n\n    /* Handle when a new output is added */\n    events.on('output_added.OutputArea', handleAddOutput);\n\n    /**\n     * Register the mime type and append_mime function with output_area\n     */\n    OutputArea.prototype.register_mime_type(EXEC_MIME_TYPE, append_mime, {\n      /* Is output safe? */\n      safe: true,\n      /* Index of renderer in `output_area.display_order` */\n      index: 0\n    });\n  }\n\n  // register the mime type if in Jupyter Notebook environment and previously unregistered\n  if (root.Jupyter !== undefined) {\n    const events = require('base/js/events');\n    const OutputArea = require('notebook/js/outputarea').OutputArea;\n\n    if (OutputArea.prototype.mime_types().indexOf(EXEC_MIME_TYPE) == -1) {\n      register_renderer(events, OutputArea);\n    }\n  }\n  if (typeof (root._bokeh_timeout) === \"undefined\" || force === true) {\n    root._bokeh_timeout = Date.now() + 5000;\n    root._bokeh_failed_load = false;\n  }\n\n  const NB_LOAD_WARNING = {'data': {'text/html':\n     \"<div style='background-color: #fdd'>\\n\"+\n     \"<p>\\n\"+\n     \"BokehJS does not appear to have successfully loaded. If loading BokehJS from CDN, this \\n\"+\n     \"may be due to a slow or bad network connection. Possible fixes:\\n\"+\n     \"</p>\\n\"+\n     \"<ul>\\n\"+\n     \"<li>re-rerun `output_notebook()` to attempt to load from CDN again, or</li>\\n\"+\n     \"<li>use INLINE resources instead, as so:</li>\\n\"+\n     \"</ul>\\n\"+\n     \"<code>\\n\"+\n     \"from bokeh.resources import INLINE\\n\"+\n     \"output_notebook(resources=INLINE)\\n\"+\n     \"</code>\\n\"+\n     \"</div>\"}};\n\n  function display_loaded() {\n    const el = document.getElementById(\"daac0167-4d3e-4fe1-84be-84a8ea4aaa15\");\n    if (el != null) {\n      el.textContent = \"BokehJS is loading...\";\n    }\n    if (root.Bokeh !== undefined) {\n      if (el != null) {\n        el.textContent = \"BokehJS \" + root.Bokeh.version + \" successfully loaded.\";\n      }\n    } else if (Date.now() < root._bokeh_timeout) {\n      setTimeout(display_loaded, 100)\n    }\n  }\n\n  function run_callbacks() {\n    try {\n      root._bokeh_onload_callbacks.forEach(function(callback) {\n        if (callback != null)\n          callback();\n      });\n    } finally {\n      delete root._bokeh_onload_callbacks\n    }\n    console.debug(\"Bokeh: all callbacks have finished\");\n  }\n\n  function load_libs(css_urls, js_urls, callback) {\n    if (css_urls == null) css_urls = [];\n    if (js_urls == null) js_urls = [];\n\n    root._bokeh_onload_callbacks.push(callback);\n    if (root._bokeh_is_loading > 0) {\n      console.debug(\"Bokeh: BokehJS is being loaded, scheduling callback at\", now());\n      return null;\n    }\n    if (js_urls == null || js_urls.length === 0) {\n      run_callbacks();\n      return null;\n    }\n    console.debug(\"Bokeh: BokehJS not loaded, scheduling load and callback at\", now());\n    root._bokeh_is_loading = css_urls.length + js_urls.length;\n\n    function on_load() {\n      root._bokeh_is_loading--;\n      if (root._bokeh_is_loading === 0) {\n        console.debug(\"Bokeh: all BokehJS libraries/stylesheets loaded\");\n        run_callbacks()\n      }\n    }\n\n    function on_error(url) {\n      console.error(\"failed to load \" + url);\n    }\n\n    for (let i = 0; i < css_urls.length; i++) {\n      const url = css_urls[i];\n      const element = document.createElement(\"link\");\n      element.onload = on_load;\n      element.onerror = on_error.bind(null, url);\n      element.rel = \"stylesheet\";\n      element.type = \"text/css\";\n      element.href = url;\n      console.debug(\"Bokeh: injecting link tag for BokehJS stylesheet: \", url);\n      document.body.appendChild(element);\n    }\n\n    for (let i = 0; i < js_urls.length; i++) {\n      const url = js_urls[i];\n      const element = document.createElement('script');\n      element.onload = on_load;\n      element.onerror = on_error.bind(null, url);\n      element.async = false;\n      element.src = url;\n      console.debug(\"Bokeh: injecting script tag for BokehJS library: \", url);\n      document.head.appendChild(element);\n    }\n  };\n\n  function inject_raw_css(css) {\n    const element = document.createElement(\"style\");\n    element.appendChild(document.createTextNode(css));\n    document.body.appendChild(element);\n  }\n\n  const js_urls = [\"https://cdn.bokeh.org/bokeh/release/bokeh-3.2.2.min.js\", \"https://cdn.bokeh.org/bokeh/release/bokeh-gl-3.2.2.min.js\", \"https://cdn.bokeh.org/bokeh/release/bokeh-widgets-3.2.2.min.js\", \"https://cdn.bokeh.org/bokeh/release/bokeh-tables-3.2.2.min.js\", \"https://cdn.bokeh.org/bokeh/release/bokeh-mathjax-3.2.2.min.js\"];\n  const css_urls = [];\n\n  const inline_js = [    function(Bokeh) {\n      Bokeh.set_log_level(\"info\");\n    },\nfunction(Bokeh) {\n    }\n  ];\n\n  function run_inline_js() {\n    if (root.Bokeh !== undefined || force === true) {\n          for (let i = 0; i < inline_js.length; i++) {\n      inline_js[i].call(root, root.Bokeh);\n    }\nif (force === true) {\n        display_loaded();\n      }} else if (Date.now() < root._bokeh_timeout) {\n      setTimeout(run_inline_js, 100);\n    } else if (!root._bokeh_failed_load) {\n      console.log(\"Bokeh: BokehJS failed to load within specified timeout.\");\n      root._bokeh_failed_load = true;\n    } else if (force !== true) {\n      const cell = $(document.getElementById(\"daac0167-4d3e-4fe1-84be-84a8ea4aaa15\")).parents('.cell').data().cell;\n      cell.output_area.append_execute_result(NB_LOAD_WARNING)\n    }\n  }\n\n  if (root._bokeh_is_loading === 0) {\n    console.debug(\"Bokeh: BokehJS loaded, going straight to plotting\");\n    run_inline_js();\n  } else {\n    load_libs(css_urls, js_urls, function() {\n      console.debug(\"Bokeh: BokehJS plotting callback run at\", now());\n      run_inline_js();\n    });\n  }\n}(window));",
      "application/vnd.bokehjs_load.v0+json": ""
     },
     "metadata": {},
     "output_type": "display_data"
    }
   ],
   "source": [
    "output_notebook()"
   ]
  },
  {
   "cell_type": "markdown",
   "metadata": {},
   "source": [
    "<br><br><br><br>\n",
    "<span style=\"color:blue;font-size:large\">Construct a figure</span>\n",
    "<li>specify labels</li>\n",
    "<li>specify legend</li>\n",
    "<li>give a title</li>"
   ]
  },
  {
   "cell_type": "markdown",
   "metadata": {},
   "source": [
    "<br><br><br><br>\n",
    "<span style=\"color:blue;font-size:large\">A simple single line plot</span>\n",
    "<li>first create a figure object</li>\n",
    "<li>create a line object in the figure object</li>\n",
    "<li>the line object must contain both axes! Bokeh does not make good use of pandas series</li>\n",
    "<li>then show the figure\n"
   ]
  },
  {
   "cell_type": "markdown",
   "metadata": {},
   "source": [
    "<h3 style=\"color:blue\">The data</h3>\n",
    "<li>The NYC 311 data subset that we used for maps</li>"
   ]
  },
  {
   "cell_type": "code",
   "execution_count": 3,
   "metadata": {},
   "outputs": [
    {
     "name": "stdout",
     "output_type": "stream",
     "text": [
      "<class 'pandas.core.frame.DataFrame'>\n",
      "RangeIndex: 18338326 entries, 0 to 18338325\n",
      "Data columns (total 8 columns):\n",
      " #   Column           Non-Null Count     Dtype         \n",
      "---  ------           --------------     -----         \n",
      " 0   Created Date     18338326 non-null  datetime64[ns]\n",
      " 1   Closed Date      18338326 non-null  datetime64[ns]\n",
      " 2   Agency           18338326 non-null  object        \n",
      " 3   Incident Zip     18338326 non-null  int64         \n",
      " 4   Borough          18338326 non-null  object        \n",
      " 5   Latitude         18338326 non-null  float64       \n",
      " 6   Longitude        18338326 non-null  float64       \n",
      " 7   processing_days  18338326 non-null  float64       \n",
      "dtypes: datetime64[ns](2), float64(3), int64(1), object(2)\n",
      "memory usage: 1.1+ GB\n"
     ]
    }
   ],
   "source": [
    "import pandas as pd\n",
    "df = pd.read_csv(\"nyc_311_2023_data.csv\")\n",
    "df['Created Date'] = pd.to_datetime(df['Created Date'],format=\"%Y-%m-%d %H:%M:%S\")\n",
    "df['Closed Date'] = pd.to_datetime(df['Closed Date'],format=\"%Y-%m-%d %H:%M:%S\")\n",
    "df.info(show_counts=True)"
   ]
  },
  {
   "cell_type": "markdown",
   "metadata": {},
   "source": [
    "<h3>Calculate mean processing time by month and day of week</h3>\n",
    "<li>Pandas <b>Grouper</b> constructs a groupby instruction for groupby</li>\n",
    "<li>Useful when dealing with timeseries data</li>\n",
    "<li>https://pandas.pydata.org/docs/reference/api/pandas.Grouper.html</li>"
   ]
  },
  {
   "cell_type": "code",
   "execution_count": 9,
   "metadata": {},
   "outputs": [],
   "source": [
    "import pandas as pd\n",
    "# grouper allows to handle timeseries data --> its the pandas equivalent of resample in yfinance\n",
    "# below we are resampling by month \n",
    "month_groups = df.groupby(pd.Grouper(freq='M',key=\"Created Date\"))\n",
    "months_mean = month_groups.mean(numeric_only=True)['processing_days']\n"
   ]
  },
  {
   "cell_type": "code",
   "execution_count": 10,
   "metadata": {},
   "outputs": [
    {
     "data": {
      "text/plain": [
       "Created Date\n",
       "2015-01-31    16.153866\n",
       "2015-02-28    14.000722\n",
       "2015-03-31    17.050071\n",
       "2015-04-30    19.559423\n",
       "2015-05-31    21.806223\n",
       "                ...    \n",
       "2023-04-30     4.099683\n",
       "2023-05-31     3.690137\n",
       "2023-06-30     3.074180\n",
       "2023-07-31     2.675771\n",
       "2023-08-31     1.318601\n",
       "Freq: M, Name: processing_days, Length: 104, dtype: float64"
      ]
     },
     "execution_count": 10,
     "metadata": {},
     "output_type": "execute_result"
    }
   ],
   "source": [
    "months_mean"
   ]
  },
  {
   "cell_type": "code",
   "execution_count": 11,
   "metadata": {},
   "outputs": [
    {
     "data": {
      "text/plain": [
       "Created Date\n",
       "0    13.580642\n",
       "1    14.364547\n",
       "2    14.680310\n",
       "3    14.157120\n",
       "4    13.133037\n",
       "5     7.884347\n",
       "6     6.833155\n",
       "Name: processing_days, dtype: float64"
      ]
     },
     "execution_count": 11,
     "metadata": {},
     "output_type": "execute_result"
    }
   ],
   "source": [
    "# access the datetime library and apply the day of the week function on the created date column \n",
    "day_of_week_groups = df.groupby(df[\"Created Date\"].dt.dayofweek)\n",
    "day_of_week_mean = day_of_week_groups.mean(numeric_only=True)['processing_days']\n",
    "day_of_week_mean"
   ]
  },
  {
   "cell_type": "markdown",
   "metadata": {},
   "source": [
    "<h3>Graph month means and day of week means</h3>"
   ]
  },
  {
   "cell_type": "code",
   "execution_count": 12,
   "metadata": {},
   "outputs": [
    {
     "data": {
      "text/plain": [
       "pandas.core.series.Series"
      ]
     },
     "execution_count": 12,
     "metadata": {},
     "output_type": "execute_result"
    }
   ],
   "source": [
    "type(months_mean)"
   ]
  },
  {
   "cell_type": "code",
   "execution_count": 13,
   "metadata": {},
   "outputs": [
    {
     "data": {
      "text/html": [
       "\n",
       "  <div id=\"b23d7ef8-9850-45ae-ab0f-44d12a4160fe\" data-root-id=\"p1001\" style=\"display: contents;\"></div>\n"
      ]
     },
     "metadata": {},
     "output_type": "display_data"
    },
    {
     "data": {
      "application/javascript": "(function(root) {\n  function embed_document(root) {\n  const docs_json = {\"dbee16fe-d261-4249-93df-609016d561f5\":{\"version\":\"3.2.2\",\"title\":\"Bokeh Application\",\"roots\":[{\"type\":\"object\",\"name\":\"Figure\",\"id\":\"p1001\",\"attributes\":{\"x_range\":{\"type\":\"object\",\"name\":\"DataRange1d\",\"id\":\"p1002\"},\"y_range\":{\"type\":\"object\",\"name\":\"DataRange1d\",\"id\":\"p1003\"},\"x_scale\":{\"type\":\"object\",\"name\":\"LinearScale\",\"id\":\"p1011\"},\"y_scale\":{\"type\":\"object\",\"name\":\"LinearScale\",\"id\":\"p1012\"},\"title\":{\"type\":\"object\",\"name\":\"Title\",\"id\":\"p1004\",\"attributes\":{\"text\":\"Monthly Processing Time Averages\"}},\"renderers\":[{\"type\":\"object\",\"name\":\"GlyphRenderer\",\"id\":\"p1036\",\"attributes\":{\"data_source\":{\"type\":\"object\",\"name\":\"ColumnDataSource\",\"id\":\"p1030\",\"attributes\":{\"selected\":{\"type\":\"object\",\"name\":\"Selection\",\"id\":\"p1031\",\"attributes\":{\"indices\":[],\"line_indices\":[]}},\"selection_policy\":{\"type\":\"object\",\"name\":\"UnionRenderers\",\"id\":\"p1032\"},\"data\":{\"type\":\"map\",\"entries\":[[\"x\",{\"type\":\"ndarray\",\"array\":{\"type\":\"bytes\",\"data\":\"AACAl9SzdEIAAIC417x0QgAAwArSxnRCAABA93nQdEIAAIBJdNp0QgAAADYc5HRCAABAiBbudEIAAIDaEPh0QgAAAMe4AXVCAABAGbMLdUIAAMAFWxV1QgAAAFhVH3VCAABAqk8pdUIAAAAxpTJ1QgAAQIOfPHVCAADAb0dGdUIAAADCQVB1QgAAgK7pWXVCAADAAORjdUIAAABT3m11QgAAgD+Gd3VCAADAkYCBdUIAAEB+KIt1QgAAgNAilXVCAADAIh2fdUIAAMBDIKh1QgAAAJYasnVCAACAgsK7dUIAAMDUvMV1QgAAQMFkz3VCAACAE1/ZdUIAAMBlWeN1QgAAQFIB7XVCAACApPv2dUIAAACRowB2QgAAQOOdCnZCAACANZgUdkIAAIBWmx12QgAAwKiVJ3ZCAABAlT0xdkIAAIDnNzt2QgAAANTfRHZCAABAJtpOdkIAAIB41Fh2QgAAAGV8YnZCAABAt3ZsdkIAAMCjHnZ2QgAAAPYYgHZCAABASBOKdkIAAEBpFpN2QgAAgLsQnXZCAAAAqLimdkIAAED6srB2QgAAwOZaunZCAAAAOVXEdkIAAECLT852QgAAwHf313ZCAAAAyvHhdkIAAIC2met2QgAAwAiU9XZCAAAAW47/dkIAAMDh4wh3QgAAADTeEndCAACAIIYcd0IAAMBygCZ3QgAAQF8oMHdCAACAsSI6d0IAAMADHUR3QgAAQPDETXdCAACAQr9Xd0IAAAAvZ2F3QgAAQIFha3dCAACA01t1d0IAAID0Xn53QgAAwEZZiHdCAABAMwGSd0IAAICF+5t3QgAAAHKjpXdCAABAxJ2vd0IAAIAWmLl3QgAAAANAw3dCAABAVTrNd0IAAMBB4tZ3QgAAAJTc4HdCAABA5tbqd0IAAEAH2vN3QgAAgFnU/XdCAAAARnwHeEIAAECYdhF4QgAAwIQeG3hCAAAA1xgleEIAAEApEy94QgAAwBW7OHhCAAAAaLVCeEIAAIBUXUx4QgAAwKZXVnhCAAAA+VFgeEIAAAAaVWl4QgAAQGxPc3hCAADAWPd8eEIAAACr8YZ4QgAAgJeZkHhCAADA6ZOaeEIAAAA8jqR4Qg==\"},\"shape\":[104],\"dtype\":\"float64\",\"order\":\"little\"}],[\"y\",{\"type\":\"ndarray\",\"array\":{\"type\":\"bytes\",\"data\":\"uoR+ymMnMEBrZ6uuXgAsQJpHG3PRDDFAMHJkWDaPM0D7gTqjZM41QE0itF+wVjlAegdC7gXqNkD6JAzdatIzQCLbMGGe+DZA1/2GK3MiNEBfY9YA0zcxQCuAtSxB3DBAzQn+AGdTMEBgK+37BeIxQAFPsGVo+jJA9MUTetXLM0A3xYZh59UzQIvd6x2IkTRAdE0fK/tqMkB2srEejSoxQFOt3DbSVDBArwF67zi7LkDgPlGOnRowQKwEB/8yIS1Aw3MYXC2RKUAGPrXCO50rQJiVv4Cy0idAt6TyZJL5KECa6gbldCktQGFxSf3/JSxANl3pLSj9LUCOrWBxgAAsQHmUhmubACdANF678U4xLkCKFUGEomIrQIFW+GCj9StAOVZIWH/pJkBKlVUXzMEkQLtm15WMNSlA0Tu0MCoIJ0A90DJLs6MmQEEpQLbI3ylA/i3yQUiuMUALNyukPH43QGWlsOMVKzFALxvNC4EZL0DIcpcAaCowQEah9H/4fChAFar8crdMKUByEb1+8CQoQE7QFA7ggihAv/qRVdTaL0CbKwBhpBUxQE2lIagYYTJAaw14FpiGLEDd3CrArHgyQKk2ix653i5AXH3qL8uQKUCibHJBh2EiQLfdcc0yjSlAJvbHgKUdMkBcLkmMP10oQE6NearQUilA1BVgr/jBJECmj9RcMrshQI8xCCKWGSFAg1N0XHdRKEAa2d+lc5QpQLv1oPpJSCJAnqe5X2EeI0DLTDyanvYhQBj8TBkd7h9Aqe7ruF3UHkDz46dYpBEdQKaL91aicB5A5yrlaC2iH0CpisVOwoEgQIAIev3JiiFAxvoK/uB4I0A8SrpIPD8kQH3j61mCUSNAfbMlyftpJED9v5RInekmQD3at1yzCSNAJYjXatBPIkDGCJkZYxotQNlRWLmHKCRA1TV6HCzoH0D54hgeVpIgQPqvrT0TUyFAEF+rMXKUHEBuOAHDj44hQHcd3x1/UBxAYqB9isTuH0B0cyONrN8gQGkrcPwZwiFA3tP7R8P6GUACn+Ww+scWQBFYwRz5KBNAN1ZBRRNmEEDKr9VOZoUNQPAMQZ7rlwhAm+gZ1PpnBUAGbjI1/Rj1Pw==\"},\"shape\":[104],\"dtype\":\"float64\",\"order\":\"little\"}]]}}},\"view\":{\"type\":\"object\",\"name\":\"CDSView\",\"id\":\"p1037\",\"attributes\":{\"filter\":{\"type\":\"object\",\"name\":\"AllIndices\",\"id\":\"p1038\"}}},\"glyph\":{\"type\":\"object\",\"name\":\"Line\",\"id\":\"p1033\",\"attributes\":{\"x\":{\"type\":\"field\",\"field\":\"x\"},\"y\":{\"type\":\"field\",\"field\":\"y\"},\"line_color\":\"red\",\"line_width\":8}},\"nonselection_glyph\":{\"type\":\"object\",\"name\":\"Line\",\"id\":\"p1034\",\"attributes\":{\"x\":{\"type\":\"field\",\"field\":\"x\"},\"y\":{\"type\":\"field\",\"field\":\"y\"},\"line_color\":\"red\",\"line_alpha\":0.1,\"line_width\":8}},\"muted_glyph\":{\"type\":\"object\",\"name\":\"Line\",\"id\":\"p1035\",\"attributes\":{\"x\":{\"type\":\"field\",\"field\":\"x\"},\"y\":{\"type\":\"field\",\"field\":\"y\"},\"line_color\":\"red\",\"line_alpha\":0.2,\"line_width\":8}}}}],\"toolbar\":{\"type\":\"object\",\"name\":\"Toolbar\",\"id\":\"p1010\",\"attributes\":{\"tools\":[{\"type\":\"object\",\"name\":\"PanTool\",\"id\":\"p1023\"},{\"type\":\"object\",\"name\":\"WheelZoomTool\",\"id\":\"p1024\"},{\"type\":\"object\",\"name\":\"BoxZoomTool\",\"id\":\"p1025\",\"attributes\":{\"overlay\":{\"type\":\"object\",\"name\":\"BoxAnnotation\",\"id\":\"p1026\",\"attributes\":{\"syncable\":false,\"level\":\"overlay\",\"visible\":false,\"left_units\":\"canvas\",\"right_units\":\"canvas\",\"bottom_units\":\"canvas\",\"top_units\":\"canvas\",\"line_color\":\"black\",\"line_alpha\":1.0,\"line_width\":2,\"line_dash\":[4,4],\"fill_color\":\"lightgrey\",\"fill_alpha\":0.5}}}},{\"type\":\"object\",\"name\":\"SaveTool\",\"id\":\"p1027\"},{\"type\":\"object\",\"name\":\"ResetTool\",\"id\":\"p1028\"},{\"type\":\"object\",\"name\":\"HelpTool\",\"id\":\"p1029\"}]}},\"left\":[{\"type\":\"object\",\"name\":\"LinearAxis\",\"id\":\"p1018\",\"attributes\":{\"ticker\":{\"type\":\"object\",\"name\":\"BasicTicker\",\"id\":\"p1019\",\"attributes\":{\"mantissas\":[1,2,5]}},\"formatter\":{\"type\":\"object\",\"name\":\"BasicTickFormatter\",\"id\":\"p1020\"},\"axis_label\":\"Processing Time\",\"major_label_policy\":{\"type\":\"object\",\"name\":\"AllLabels\",\"id\":\"p1021\"}}}],\"below\":[{\"type\":\"object\",\"name\":\"LinearAxis\",\"id\":\"p1013\",\"attributes\":{\"ticker\":{\"type\":\"object\",\"name\":\"BasicTicker\",\"id\":\"p1014\",\"attributes\":{\"mantissas\":[1,2,5]}},\"formatter\":{\"type\":\"object\",\"name\":\"BasicTickFormatter\",\"id\":\"p1015\"},\"axis_label\":\"Month\",\"major_label_policy\":{\"type\":\"object\",\"name\":\"AllLabels\",\"id\":\"p1016\"}}}],\"center\":[{\"type\":\"object\",\"name\":\"Grid\",\"id\":\"p1017\",\"attributes\":{\"axis\":{\"id\":\"p1013\"}}},{\"type\":\"object\",\"name\":\"Grid\",\"id\":\"p1022\",\"attributes\":{\"dimension\":1,\"axis\":{\"id\":\"p1018\"}}}]}}]}};\n  const render_items = [{\"docid\":\"dbee16fe-d261-4249-93df-609016d561f5\",\"roots\":{\"p1001\":\"b23d7ef8-9850-45ae-ab0f-44d12a4160fe\"},\"root_ids\":[\"p1001\"]}];\n  root.Bokeh.embed.embed_items_notebook(docs_json, render_items);\n  }\n  if (root.Bokeh !== undefined) {\n    embed_document(root);\n  } else {\n    let attempts = 0;\n    const timer = setInterval(function(root) {\n      if (root.Bokeh !== undefined) {\n        clearInterval(timer);\n        embed_document(root);\n      } else {\n        attempts++;\n        if (attempts > 100) {\n          clearInterval(timer);\n          console.log(\"Bokeh: ERROR: Unable to run BokehJS code because BokehJS library is missing\");\n        }\n      }\n    }, 10, root)\n  }\n})(window);",
      "application/vnd.bokehjs_exec.v0+json": ""
     },
     "metadata": {
      "application/vnd.bokehjs_exec.v0+json": {
       "id": "p1001"
      }
     },
     "output_type": "display_data"
    }
   ],
   "source": [
    "# create the plot here\n",
    "# create the figure object and assign the labels \n",
    "p = figure(title=\"Monthly Processing Time Averages\", x_axis_label='Month', y_axis_label='Processing Time')\n",
    "# pass the data, make the x data the date and the y data the months mean \n",
    "p.line(months_mean.index,months_mean,line_width=8,line_color=\"red\")\n",
    "# display the result \n",
    "show(p)"
   ]
  },
  {
   "cell_type": "markdown",
   "metadata": {},
   "source": [
    "<li>bokeh treats ticks as discrete points and doesn't automatically draw a continuous line</li>\n",
    "<li>we need three steps for a basic graph rather than one (more complicated than matplotlib)</li>\n",
    "<li>but we get some nice interactive features along with the graph</li>\n",
    "<li>we'll need to do some more customization</li>"
   ]
  },
  {
   "cell_type": "markdown",
   "metadata": {},
   "source": [
    "<li>bokeh can handle time nicely. Convert x-axis into time</li>\n",
    "<li>tell bokeh that the x-axis is of datetime type. bokeh will assume it is continuous</li>\n",
    "<li>add gizmos to make the graph look nice</li>"
   ]
  },
  {
   "cell_type": "code",
   "execution_count": 14,
   "metadata": {},
   "outputs": [
    {
     "data": {
      "text/plain": [
       "DatetimeIndex(['2015-01-31', '2015-02-28', '2015-03-31', '2015-04-30',\n",
       "               '2015-05-31', '2015-06-30', '2015-07-31', '2015-08-31',\n",
       "               '2015-09-30', '2015-10-31',\n",
       "               ...\n",
       "               '2022-11-30', '2022-12-31', '2023-01-31', '2023-02-28',\n",
       "               '2023-03-31', '2023-04-30', '2023-05-31', '2023-06-30',\n",
       "               '2023-07-31', '2023-08-31'],\n",
       "              dtype='datetime64[ns]', name='Created Date', length=104, freq='M')"
      ]
     },
     "execution_count": 14,
     "metadata": {},
     "output_type": "execute_result"
    }
   ],
   "source": [
    "months_mean.index"
   ]
  },
  {
   "cell_type": "code",
   "execution_count": 15,
   "metadata": {},
   "outputs": [
    {
     "data": {
      "text/html": [
       "\n",
       "  <div id=\"e0aa4d04-1b31-426d-a294-3b8160cb5300\" data-root-id=\"p1041\" style=\"display: contents;\"></div>\n"
      ]
     },
     "metadata": {},
     "output_type": "display_data"
    },
    {
     "data": {
      "application/javascript": "(function(root) {\n  function embed_document(root) {\n  const docs_json = {\"c7b21135-e223-473a-967b-0f4805d97bc4\":{\"version\":\"3.2.2\",\"title\":\"Bokeh Application\",\"roots\":[{\"type\":\"object\",\"name\":\"Figure\",\"id\":\"p1041\",\"attributes\":{\"height\":400,\"x_range\":{\"type\":\"object\",\"name\":\"DataRange1d\",\"id\":\"p1042\"},\"y_range\":{\"type\":\"object\",\"name\":\"DataRange1d\",\"id\":\"p1043\"},\"x_scale\":{\"type\":\"object\",\"name\":\"LinearScale\",\"id\":\"p1051\"},\"y_scale\":{\"type\":\"object\",\"name\":\"LinearScale\",\"id\":\"p1052\"},\"title\":{\"type\":\"object\",\"name\":\"Title\",\"id\":\"p1044\",\"attributes\":{\"text\":\"Mean Processing Time (monthly)\"}},\"renderers\":[{\"type\":\"object\",\"name\":\"GlyphRenderer\",\"id\":\"p1088\",\"attributes\":{\"data_source\":{\"type\":\"object\",\"name\":\"ColumnDataSource\",\"id\":\"p1082\",\"attributes\":{\"selected\":{\"type\":\"object\",\"name\":\"Selection\",\"id\":\"p1083\",\"attributes\":{\"indices\":[],\"line_indices\":[]}},\"selection_policy\":{\"type\":\"object\",\"name\":\"UnionRenderers\",\"id\":\"p1084\"},\"data\":{\"type\":\"map\",\"entries\":[[\"x\",{\"type\":\"ndarray\",\"array\":{\"type\":\"bytes\",\"data\":\"AACAl9SzdEIAAIC417x0QgAAwArSxnRCAABA93nQdEIAAIBJdNp0QgAAADYc5HRCAABAiBbudEIAAIDaEPh0QgAAAMe4AXVCAABAGbMLdUIAAMAFWxV1QgAAAFhVH3VCAABAqk8pdUIAAAAxpTJ1QgAAQIOfPHVCAADAb0dGdUIAAADCQVB1QgAAgK7pWXVCAADAAORjdUIAAABT3m11QgAAgD+Gd3VCAADAkYCBdUIAAEB+KIt1QgAAgNAilXVCAADAIh2fdUIAAMBDIKh1QgAAAJYasnVCAACAgsK7dUIAAMDUvMV1QgAAQMFkz3VCAACAE1/ZdUIAAMBlWeN1QgAAQFIB7XVCAACApPv2dUIAAACRowB2QgAAQOOdCnZCAACANZgUdkIAAIBWmx12QgAAwKiVJ3ZCAABAlT0xdkIAAIDnNzt2QgAAANTfRHZCAABAJtpOdkIAAIB41Fh2QgAAAGV8YnZCAABAt3ZsdkIAAMCjHnZ2QgAAAPYYgHZCAABASBOKdkIAAEBpFpN2QgAAgLsQnXZCAAAAqLimdkIAAED6srB2QgAAwOZaunZCAAAAOVXEdkIAAECLT852QgAAwHf313ZCAAAAyvHhdkIAAIC2met2QgAAwAiU9XZCAAAAW47/dkIAAMDh4wh3QgAAADTeEndCAACAIIYcd0IAAMBygCZ3QgAAQF8oMHdCAACAsSI6d0IAAMADHUR3QgAAQPDETXdCAACAQr9Xd0IAAAAvZ2F3QgAAQIFha3dCAACA01t1d0IAAID0Xn53QgAAwEZZiHdCAABAMwGSd0IAAICF+5t3QgAAAHKjpXdCAABAxJ2vd0IAAIAWmLl3QgAAAANAw3dCAABAVTrNd0IAAMBB4tZ3QgAAAJTc4HdCAABA5tbqd0IAAEAH2vN3QgAAgFnU/XdCAAAARnwHeEIAAECYdhF4QgAAwIQeG3hCAAAA1xgleEIAAEApEy94QgAAwBW7OHhCAAAAaLVCeEIAAIBUXUx4QgAAwKZXVnhCAAAA+VFgeEIAAAAaVWl4QgAAQGxPc3hCAADAWPd8eEIAAACr8YZ4QgAAgJeZkHhCAADA6ZOaeEIAAAA8jqR4Qg==\"},\"shape\":[104],\"dtype\":\"float64\",\"order\":\"little\"}],[\"y\",{\"type\":\"ndarray\",\"array\":{\"type\":\"bytes\",\"data\":\"uoR+ymMnMEBrZ6uuXgAsQJpHG3PRDDFAMHJkWDaPM0D7gTqjZM41QE0itF+wVjlAegdC7gXqNkD6JAzdatIzQCLbMGGe+DZA1/2GK3MiNEBfY9YA0zcxQCuAtSxB3DBAzQn+AGdTMEBgK+37BeIxQAFPsGVo+jJA9MUTetXLM0A3xYZh59UzQIvd6x2IkTRAdE0fK/tqMkB2srEejSoxQFOt3DbSVDBArwF67zi7LkDgPlGOnRowQKwEB/8yIS1Aw3MYXC2RKUAGPrXCO50rQJiVv4Cy0idAt6TyZJL5KECa6gbldCktQGFxSf3/JSxANl3pLSj9LUCOrWBxgAAsQHmUhmubACdANF678U4xLkCKFUGEomIrQIFW+GCj9StAOVZIWH/pJkBKlVUXzMEkQLtm15WMNSlA0Tu0MCoIJ0A90DJLs6MmQEEpQLbI3ylA/i3yQUiuMUALNyukPH43QGWlsOMVKzFALxvNC4EZL0DIcpcAaCowQEah9H/4fChAFar8crdMKUByEb1+8CQoQE7QFA7ggihAv/qRVdTaL0CbKwBhpBUxQE2lIagYYTJAaw14FpiGLEDd3CrArHgyQKk2ix653i5AXH3qL8uQKUCibHJBh2EiQLfdcc0yjSlAJvbHgKUdMkBcLkmMP10oQE6NearQUilA1BVgr/jBJECmj9RcMrshQI8xCCKWGSFAg1N0XHdRKEAa2d+lc5QpQLv1oPpJSCJAnqe5X2EeI0DLTDyanvYhQBj8TBkd7h9Aqe7ruF3UHkDz46dYpBEdQKaL91aicB5A5yrlaC2iH0CpisVOwoEgQIAIev3JiiFAxvoK/uB4I0A8SrpIPD8kQH3j61mCUSNAfbMlyftpJED9v5RInekmQD3at1yzCSNAJYjXatBPIkDGCJkZYxotQNlRWLmHKCRA1TV6HCzoH0D54hgeVpIgQPqvrT0TUyFAEF+rMXKUHEBuOAHDj44hQHcd3x1/UBxAYqB9isTuH0B0cyONrN8gQGkrcPwZwiFA3tP7R8P6GUACn+Ww+scWQBFYwRz5KBNAN1ZBRRNmEEDKr9VOZoUNQPAMQZ7rlwhAm+gZ1PpnBUAGbjI1/Rj1Pw==\"},\"shape\":[104],\"dtype\":\"float64\",\"order\":\"little\"}]]}}},\"view\":{\"type\":\"object\",\"name\":\"CDSView\",\"id\":\"p1089\",\"attributes\":{\"filter\":{\"type\":\"object\",\"name\":\"AllIndices\",\"id\":\"p1090\"}}},\"glyph\":{\"type\":\"object\",\"name\":\"Line\",\"id\":\"p1085\",\"attributes\":{\"x\":{\"type\":\"field\",\"field\":\"x\"},\"y\":{\"type\":\"field\",\"field\":\"y\"},\"line_color\":\"red\",\"line_width\":8}},\"nonselection_glyph\":{\"type\":\"object\",\"name\":\"Line\",\"id\":\"p1086\",\"attributes\":{\"x\":{\"type\":\"field\",\"field\":\"x\"},\"y\":{\"type\":\"field\",\"field\":\"y\"},\"line_color\":\"red\",\"line_alpha\":0.1,\"line_width\":8}},\"muted_glyph\":{\"type\":\"object\",\"name\":\"Line\",\"id\":\"p1087\",\"attributes\":{\"x\":{\"type\":\"field\",\"field\":\"x\"},\"y\":{\"type\":\"field\",\"field\":\"y\"},\"line_color\":\"red\",\"line_alpha\":0.2,\"line_width\":8}}}}],\"toolbar\":{\"type\":\"object\",\"name\":\"Toolbar\",\"id\":\"p1050\",\"attributes\":{\"tools\":[{\"type\":\"object\",\"name\":\"PanTool\",\"id\":\"p1075\"},{\"type\":\"object\",\"name\":\"WheelZoomTool\",\"id\":\"p1076\"},{\"type\":\"object\",\"name\":\"BoxZoomTool\",\"id\":\"p1077\",\"attributes\":{\"overlay\":{\"type\":\"object\",\"name\":\"BoxAnnotation\",\"id\":\"p1078\",\"attributes\":{\"syncable\":false,\"level\":\"overlay\",\"visible\":false,\"left_units\":\"canvas\",\"right_units\":\"canvas\",\"bottom_units\":\"canvas\",\"top_units\":\"canvas\",\"line_color\":\"black\",\"line_alpha\":1.0,\"line_width\":2,\"line_dash\":[4,4],\"fill_color\":\"lightgrey\",\"fill_alpha\":0.5}}}},{\"type\":\"object\",\"name\":\"SaveTool\",\"id\":\"p1079\"},{\"type\":\"object\",\"name\":\"ResetTool\",\"id\":\"p1080\"},{\"type\":\"object\",\"name\":\"HelpTool\",\"id\":\"p1081\"}]}},\"left\":[{\"type\":\"object\",\"name\":\"LinearAxis\",\"id\":\"p1070\",\"attributes\":{\"ticker\":{\"type\":\"object\",\"name\":\"BasicTicker\",\"id\":\"p1071\",\"attributes\":{\"mantissas\":[1,2,5]}},\"formatter\":{\"type\":\"object\",\"name\":\"BasicTickFormatter\",\"id\":\"p1072\"},\"axis_label\":\"time\",\"major_label_policy\":{\"type\":\"object\",\"name\":\"AllLabels\",\"id\":\"p1073\"}}}],\"below\":[{\"type\":\"object\",\"name\":\"DatetimeAxis\",\"id\":\"p1053\",\"attributes\":{\"ticker\":{\"type\":\"object\",\"name\":\"DatetimeTicker\",\"id\":\"p1054\",\"attributes\":{\"num_minor_ticks\":5,\"tickers\":[{\"type\":\"object\",\"name\":\"AdaptiveTicker\",\"id\":\"p1055\",\"attributes\":{\"num_minor_ticks\":0,\"mantissas\":[1,2,5],\"max_interval\":500.0}},{\"type\":\"object\",\"name\":\"AdaptiveTicker\",\"id\":\"p1056\",\"attributes\":{\"num_minor_ticks\":0,\"base\":60,\"mantissas\":[1,2,5,10,15,20,30],\"min_interval\":1000.0,\"max_interval\":1800000.0}},{\"type\":\"object\",\"name\":\"AdaptiveTicker\",\"id\":\"p1057\",\"attributes\":{\"num_minor_ticks\":0,\"base\":24,\"mantissas\":[1,2,4,6,8,12],\"min_interval\":3600000.0,\"max_interval\":43200000.0}},{\"type\":\"object\",\"name\":\"DaysTicker\",\"id\":\"p1058\",\"attributes\":{\"days\":[1,2,3,4,5,6,7,8,9,10,11,12,13,14,15,16,17,18,19,20,21,22,23,24,25,26,27,28,29,30,31]}},{\"type\":\"object\",\"name\":\"DaysTicker\",\"id\":\"p1059\",\"attributes\":{\"days\":[1,4,7,10,13,16,19,22,25,28]}},{\"type\":\"object\",\"name\":\"DaysTicker\",\"id\":\"p1060\",\"attributes\":{\"days\":[1,8,15,22]}},{\"type\":\"object\",\"name\":\"DaysTicker\",\"id\":\"p1061\",\"attributes\":{\"days\":[1,15]}},{\"type\":\"object\",\"name\":\"MonthsTicker\",\"id\":\"p1062\",\"attributes\":{\"months\":[0,1,2,3,4,5,6,7,8,9,10,11]}},{\"type\":\"object\",\"name\":\"MonthsTicker\",\"id\":\"p1063\",\"attributes\":{\"months\":[0,2,4,6,8,10]}},{\"type\":\"object\",\"name\":\"MonthsTicker\",\"id\":\"p1064\",\"attributes\":{\"months\":[0,4,8]}},{\"type\":\"object\",\"name\":\"MonthsTicker\",\"id\":\"p1065\",\"attributes\":{\"months\":[0,6]}},{\"type\":\"object\",\"name\":\"YearsTicker\",\"id\":\"p1066\"}]}},\"formatter\":{\"type\":\"object\",\"name\":\"DatetimeTickFormatter\",\"id\":\"p1067\"},\"axis_label\":\"months\",\"major_label_policy\":{\"type\":\"object\",\"name\":\"AllLabels\",\"id\":\"p1068\"}}}],\"center\":[{\"type\":\"object\",\"name\":\"Grid\",\"id\":\"p1069\",\"attributes\":{\"axis\":{\"id\":\"p1053\"}}},{\"type\":\"object\",\"name\":\"Grid\",\"id\":\"p1074\",\"attributes\":{\"dimension\":1,\"axis\":{\"id\":\"p1070\"}}},{\"type\":\"object\",\"name\":\"Legend\",\"id\":\"p1091\",\"attributes\":{\"items\":[{\"type\":\"object\",\"name\":\"LegendItem\",\"id\":\"p1092\",\"attributes\":{\"label\":{\"type\":\"value\",\"value\":\"monthly mean\"},\"renderers\":[{\"id\":\"p1088\"}]}}]}}]}}]}};\n  const render_items = [{\"docid\":\"c7b21135-e223-473a-967b-0f4805d97bc4\",\"roots\":{\"p1041\":\"e0aa4d04-1b31-426d-a294-3b8160cb5300\"},\"root_ids\":[\"p1041\"]}];\n  root.Bokeh.embed.embed_items_notebook(docs_json, render_items);\n  }\n  if (root.Bokeh !== undefined) {\n    embed_document(root);\n  } else {\n    let attempts = 0;\n    const timer = setInterval(function(root) {\n      if (root.Bokeh !== undefined) {\n        clearInterval(timer);\n        embed_document(root);\n      } else {\n        attempts++;\n        if (attempts > 100) {\n          clearInterval(timer);\n          console.log(\"Bokeh: ERROR: Unable to run BokehJS code because BokehJS library is missing\");\n        }\n      }\n    }, 10, root)\n  }\n})(window);",
      "application/vnd.bokehjs_exec.v0+json": ""
     },
     "metadata": {
      "application/vnd.bokehjs_exec.v0+json": {
       "id": "p1041"
      }
     },
     "output_type": "display_data"
    }
   ],
   "source": [
    "# we want the x-axis to represent years over time but we need to specify that when creating the figure \n",
    "import pandas as pd\n",
    "p = figure(title=\"Mean Processing Time (monthly)\",width=600, height=400,\n",
    "          x_axis_label = \"months\",y_axis_label = \"time\",x_axis_type=\"datetime\")\n",
    "\n",
    "p.line(months_mean.index,#pd.to_datetime(months_mean.index,format=\"%Y%m\"), \n",
    "       months_mean,\n",
    "       legend_label=\"monthly mean\",\n",
    "      line_color = \"red\",\n",
    "      line_width = 8)\n",
    "\n",
    "show(p)"
   ]
  },
  {
   "cell_type": "markdown",
   "metadata": {},
   "source": [
    "<br><br><br><br>\n",
    "<span style=\"color:blue;font-size:large\">tools</span>\n",
    "<li>bokeh provides a number of interactive tools</li>\n",
    "<li>in the above two graphs, we let it pick the tools (defaults), but we can control the tools list</li>\n",
    "<li><a href=\"https://docs.bokeh.org/en/latest/docs/reference/models/tools.html\">tool configuration</a>"
   ]
  },
  {
   "cell_type": "code",
   "execution_count": 16,
   "metadata": {},
   "outputs": [
    {
     "data": {
      "text/html": [
       "\n",
       "  <div id=\"fb588570-d527-4b38-8e56-e5638ad90773\" data-root-id=\"p1095\" style=\"display: contents;\"></div>\n"
      ]
     },
     "metadata": {},
     "output_type": "display_data"
    },
    {
     "data": {
      "application/javascript": "(function(root) {\n  function embed_document(root) {\n  const docs_json = {\"c29e8976-7d08-4c9b-8f8c-9d1cfda87db7\":{\"version\":\"3.2.2\",\"title\":\"Bokeh Application\",\"roots\":[{\"type\":\"object\",\"name\":\"Figure\",\"id\":\"p1095\",\"attributes\":{\"height\":400,\"x_range\":{\"type\":\"object\",\"name\":\"DataRange1d\",\"id\":\"p1096\"},\"y_range\":{\"type\":\"object\",\"name\":\"DataRange1d\",\"id\":\"p1097\"},\"x_scale\":{\"type\":\"object\",\"name\":\"LinearScale\",\"id\":\"p1105\"},\"y_scale\":{\"type\":\"object\",\"name\":\"LinearScale\",\"id\":\"p1106\"},\"title\":{\"type\":\"object\",\"name\":\"Title\",\"id\":\"p1098\",\"attributes\":{\"text\":\"Mean Processing Time (monthly)\"}},\"renderers\":[{\"type\":\"object\",\"name\":\"GlyphRenderer\",\"id\":\"p1141\",\"attributes\":{\"data_source\":{\"type\":\"object\",\"name\":\"ColumnDataSource\",\"id\":\"p1135\",\"attributes\":{\"selected\":{\"type\":\"object\",\"name\":\"Selection\",\"id\":\"p1136\",\"attributes\":{\"indices\":[],\"line_indices\":[]}},\"selection_policy\":{\"type\":\"object\",\"name\":\"UnionRenderers\",\"id\":\"p1137\"},\"data\":{\"type\":\"map\",\"entries\":[[\"x\",{\"type\":\"ndarray\",\"array\":{\"type\":\"bytes\",\"data\":\"AACAl9SzdEIAAIC417x0QgAAwArSxnRCAABA93nQdEIAAIBJdNp0QgAAADYc5HRCAABAiBbudEIAAIDaEPh0QgAAAMe4AXVCAABAGbMLdUIAAMAFWxV1QgAAAFhVH3VCAABAqk8pdUIAAAAxpTJ1QgAAQIOfPHVCAADAb0dGdUIAAADCQVB1QgAAgK7pWXVCAADAAORjdUIAAABT3m11QgAAgD+Gd3VCAADAkYCBdUIAAEB+KIt1QgAAgNAilXVCAADAIh2fdUIAAMBDIKh1QgAAAJYasnVCAACAgsK7dUIAAMDUvMV1QgAAQMFkz3VCAACAE1/ZdUIAAMBlWeN1QgAAQFIB7XVCAACApPv2dUIAAACRowB2QgAAQOOdCnZCAACANZgUdkIAAIBWmx12QgAAwKiVJ3ZCAABAlT0xdkIAAIDnNzt2QgAAANTfRHZCAABAJtpOdkIAAIB41Fh2QgAAAGV8YnZCAABAt3ZsdkIAAMCjHnZ2QgAAAPYYgHZCAABASBOKdkIAAEBpFpN2QgAAgLsQnXZCAAAAqLimdkIAAED6srB2QgAAwOZaunZCAAAAOVXEdkIAAECLT852QgAAwHf313ZCAAAAyvHhdkIAAIC2met2QgAAwAiU9XZCAAAAW47/dkIAAMDh4wh3QgAAADTeEndCAACAIIYcd0IAAMBygCZ3QgAAQF8oMHdCAACAsSI6d0IAAMADHUR3QgAAQPDETXdCAACAQr9Xd0IAAAAvZ2F3QgAAQIFha3dCAACA01t1d0IAAID0Xn53QgAAwEZZiHdCAABAMwGSd0IAAICF+5t3QgAAAHKjpXdCAABAxJ2vd0IAAIAWmLl3QgAAAANAw3dCAABAVTrNd0IAAMBB4tZ3QgAAAJTc4HdCAABA5tbqd0IAAEAH2vN3QgAAgFnU/XdCAAAARnwHeEIAAECYdhF4QgAAwIQeG3hCAAAA1xgleEIAAEApEy94QgAAwBW7OHhCAAAAaLVCeEIAAIBUXUx4QgAAwKZXVnhCAAAA+VFgeEIAAAAaVWl4QgAAQGxPc3hCAADAWPd8eEIAAACr8YZ4QgAAgJeZkHhCAADA6ZOaeEIAAAA8jqR4Qg==\"},\"shape\":[104],\"dtype\":\"float64\",\"order\":\"little\"}],[\"y\",{\"type\":\"ndarray\",\"array\":{\"type\":\"bytes\",\"data\":\"uoR+ymMnMEBrZ6uuXgAsQJpHG3PRDDFAMHJkWDaPM0D7gTqjZM41QE0itF+wVjlAegdC7gXqNkD6JAzdatIzQCLbMGGe+DZA1/2GK3MiNEBfY9YA0zcxQCuAtSxB3DBAzQn+AGdTMEBgK+37BeIxQAFPsGVo+jJA9MUTetXLM0A3xYZh59UzQIvd6x2IkTRAdE0fK/tqMkB2srEejSoxQFOt3DbSVDBArwF67zi7LkDgPlGOnRowQKwEB/8yIS1Aw3MYXC2RKUAGPrXCO50rQJiVv4Cy0idAt6TyZJL5KECa6gbldCktQGFxSf3/JSxANl3pLSj9LUCOrWBxgAAsQHmUhmubACdANF678U4xLkCKFUGEomIrQIFW+GCj9StAOVZIWH/pJkBKlVUXzMEkQLtm15WMNSlA0Tu0MCoIJ0A90DJLs6MmQEEpQLbI3ylA/i3yQUiuMUALNyukPH43QGWlsOMVKzFALxvNC4EZL0DIcpcAaCowQEah9H/4fChAFar8crdMKUByEb1+8CQoQE7QFA7ggihAv/qRVdTaL0CbKwBhpBUxQE2lIagYYTJAaw14FpiGLEDd3CrArHgyQKk2ix653i5AXH3qL8uQKUCibHJBh2EiQLfdcc0yjSlAJvbHgKUdMkBcLkmMP10oQE6NearQUilA1BVgr/jBJECmj9RcMrshQI8xCCKWGSFAg1N0XHdRKEAa2d+lc5QpQLv1oPpJSCJAnqe5X2EeI0DLTDyanvYhQBj8TBkd7h9Aqe7ruF3UHkDz46dYpBEdQKaL91aicB5A5yrlaC2iH0CpisVOwoEgQIAIev3JiiFAxvoK/uB4I0A8SrpIPD8kQH3j61mCUSNAfbMlyftpJED9v5RInekmQD3at1yzCSNAJYjXatBPIkDGCJkZYxotQNlRWLmHKCRA1TV6HCzoH0D54hgeVpIgQPqvrT0TUyFAEF+rMXKUHEBuOAHDj44hQHcd3x1/UBxAYqB9isTuH0B0cyONrN8gQGkrcPwZwiFA3tP7R8P6GUACn+Ww+scWQBFYwRz5KBNAN1ZBRRNmEEDKr9VOZoUNQPAMQZ7rlwhAm+gZ1PpnBUAGbjI1/Rj1Pw==\"},\"shape\":[104],\"dtype\":\"float64\",\"order\":\"little\"}]]}}},\"view\":{\"type\":\"object\",\"name\":\"CDSView\",\"id\":\"p1142\",\"attributes\":{\"filter\":{\"type\":\"object\",\"name\":\"AllIndices\",\"id\":\"p1143\"}}},\"glyph\":{\"type\":\"object\",\"name\":\"Line\",\"id\":\"p1138\",\"attributes\":{\"x\":{\"type\":\"field\",\"field\":\"x\"},\"y\":{\"type\":\"field\",\"field\":\"y\"},\"line_color\":\"red\",\"line_width\":2}},\"nonselection_glyph\":{\"type\":\"object\",\"name\":\"Line\",\"id\":\"p1139\",\"attributes\":{\"x\":{\"type\":\"field\",\"field\":\"x\"},\"y\":{\"type\":\"field\",\"field\":\"y\"},\"line_color\":\"red\",\"line_alpha\":0.1,\"line_width\":2}},\"muted_glyph\":{\"type\":\"object\",\"name\":\"Line\",\"id\":\"p1140\",\"attributes\":{\"x\":{\"type\":\"field\",\"field\":\"x\"},\"y\":{\"type\":\"field\",\"field\":\"y\"},\"line_color\":\"red\",\"line_alpha\":0.2,\"line_width\":2}}}}],\"toolbar\":{\"type\":\"object\",\"name\":\"Toolbar\",\"id\":\"p1104\",\"attributes\":{\"tools\":[{\"type\":\"object\",\"name\":\"PanTool\",\"id\":\"p1129\"},{\"type\":\"object\",\"name\":\"BoxZoomTool\",\"id\":\"p1130\",\"attributes\":{\"overlay\":{\"type\":\"object\",\"name\":\"BoxAnnotation\",\"id\":\"p1131\",\"attributes\":{\"syncable\":false,\"level\":\"overlay\",\"visible\":false,\"left_units\":\"canvas\",\"right_units\":\"canvas\",\"bottom_units\":\"canvas\",\"top_units\":\"canvas\",\"line_color\":\"black\",\"line_alpha\":1.0,\"line_width\":2,\"line_dash\":[4,4],\"fill_color\":\"lightgrey\",\"fill_alpha\":0.5}}}},{\"type\":\"object\",\"name\":\"CrosshairTool\",\"id\":\"p1132\"},{\"type\":\"object\",\"name\":\"ResetTool\",\"id\":\"p1133\"},{\"type\":\"object\",\"name\":\"SaveTool\",\"id\":\"p1134\"}]}},\"left\":[{\"type\":\"object\",\"name\":\"LinearAxis\",\"id\":\"p1124\",\"attributes\":{\"ticker\":{\"type\":\"object\",\"name\":\"BasicTicker\",\"id\":\"p1125\",\"attributes\":{\"mantissas\":[1,2,5]}},\"formatter\":{\"type\":\"object\",\"name\":\"BasicTickFormatter\",\"id\":\"p1126\"},\"axis_label\":\"time\",\"major_label_policy\":{\"type\":\"object\",\"name\":\"AllLabels\",\"id\":\"p1127\"}}}],\"below\":[{\"type\":\"object\",\"name\":\"DatetimeAxis\",\"id\":\"p1107\",\"attributes\":{\"ticker\":{\"type\":\"object\",\"name\":\"DatetimeTicker\",\"id\":\"p1108\",\"attributes\":{\"num_minor_ticks\":5,\"tickers\":[{\"type\":\"object\",\"name\":\"AdaptiveTicker\",\"id\":\"p1109\",\"attributes\":{\"num_minor_ticks\":0,\"mantissas\":[1,2,5],\"max_interval\":500.0}},{\"type\":\"object\",\"name\":\"AdaptiveTicker\",\"id\":\"p1110\",\"attributes\":{\"num_minor_ticks\":0,\"base\":60,\"mantissas\":[1,2,5,10,15,20,30],\"min_interval\":1000.0,\"max_interval\":1800000.0}},{\"type\":\"object\",\"name\":\"AdaptiveTicker\",\"id\":\"p1111\",\"attributes\":{\"num_minor_ticks\":0,\"base\":24,\"mantissas\":[1,2,4,6,8,12],\"min_interval\":3600000.0,\"max_interval\":43200000.0}},{\"type\":\"object\",\"name\":\"DaysTicker\",\"id\":\"p1112\",\"attributes\":{\"days\":[1,2,3,4,5,6,7,8,9,10,11,12,13,14,15,16,17,18,19,20,21,22,23,24,25,26,27,28,29,30,31]}},{\"type\":\"object\",\"name\":\"DaysTicker\",\"id\":\"p1113\",\"attributes\":{\"days\":[1,4,7,10,13,16,19,22,25,28]}},{\"type\":\"object\",\"name\":\"DaysTicker\",\"id\":\"p1114\",\"attributes\":{\"days\":[1,8,15,22]}},{\"type\":\"object\",\"name\":\"DaysTicker\",\"id\":\"p1115\",\"attributes\":{\"days\":[1,15]}},{\"type\":\"object\",\"name\":\"MonthsTicker\",\"id\":\"p1116\",\"attributes\":{\"months\":[0,1,2,3,4,5,6,7,8,9,10,11]}},{\"type\":\"object\",\"name\":\"MonthsTicker\",\"id\":\"p1117\",\"attributes\":{\"months\":[0,2,4,6,8,10]}},{\"type\":\"object\",\"name\":\"MonthsTicker\",\"id\":\"p1118\",\"attributes\":{\"months\":[0,4,8]}},{\"type\":\"object\",\"name\":\"MonthsTicker\",\"id\":\"p1119\",\"attributes\":{\"months\":[0,6]}},{\"type\":\"object\",\"name\":\"YearsTicker\",\"id\":\"p1120\"}]}},\"formatter\":{\"type\":\"object\",\"name\":\"DatetimeTickFormatter\",\"id\":\"p1121\"},\"axis_label\":\"months\",\"major_label_policy\":{\"type\":\"object\",\"name\":\"AllLabels\",\"id\":\"p1122\"}}}],\"center\":[{\"type\":\"object\",\"name\":\"Grid\",\"id\":\"p1123\",\"attributes\":{\"axis\":{\"id\":\"p1107\"}}},{\"type\":\"object\",\"name\":\"Grid\",\"id\":\"p1128\",\"attributes\":{\"dimension\":1,\"axis\":{\"id\":\"p1124\"}}},{\"type\":\"object\",\"name\":\"Legend\",\"id\":\"p1144\",\"attributes\":{\"items\":[{\"type\":\"object\",\"name\":\"LegendItem\",\"id\":\"p1145\",\"attributes\":{\"label\":{\"type\":\"value\",\"value\":\"monthly mean\"},\"renderers\":[{\"id\":\"p1141\"}]}}]}}]}}]}};\n  const render_items = [{\"docid\":\"c29e8976-7d08-4c9b-8f8c-9d1cfda87db7\",\"roots\":{\"p1095\":\"fb588570-d527-4b38-8e56-e5638ad90773\"},\"root_ids\":[\"p1095\"]}];\n  root.Bokeh.embed.embed_items_notebook(docs_json, render_items);\n  }\n  if (root.Bokeh !== undefined) {\n    embed_document(root);\n  } else {\n    let attempts = 0;\n    const timer = setInterval(function(root) {\n      if (root.Bokeh !== undefined) {\n        clearInterval(timer);\n        embed_document(root);\n      } else {\n        attempts++;\n        if (attempts > 100) {\n          clearInterval(timer);\n          console.log(\"Bokeh: ERROR: Unable to run BokehJS code because BokehJS library is missing\");\n        }\n      }\n    }, 10, root)\n  }\n})(window);",
      "application/vnd.bokehjs_exec.v0+json": ""
     },
     "metadata": {
      "application/vnd.bokehjs_exec.v0+json": {
       "id": "p1095"
      }
     },
     "output_type": "display_data"
    }
   ],
   "source": [
    "import pandas as pd\n",
    "# we can also use the crosshair tool, specify the tools argument in the figure object\n",
    "p = figure(title=\"Mean Processing Time (monthly)\",width=600, height=400,\n",
    "          x_axis_label = \"months\",y_axis_label = \"time\",x_axis_type=\"datetime\",\n",
    "          tools=\"pan,box_zoom, crosshair,reset, save\")\n",
    "\n",
    "p.line(pd.to_datetime(months_mean.index,format=\"%Y%m\"), \n",
    "       months_mean,\n",
    "       legend_label=\"monthly mean\",\n",
    "      line_color = \"red\",\n",
    "      line_width = 2)\n",
    "\n",
    "show(p)\n",
    "\n"
   ]
  },
  {
   "cell_type": "markdown",
   "metadata": {},
   "source": [
    "<br><br><br><br>\n",
    "<span style=\"color:blue;font-size:large\">The bar chart</span>\n",
    "<li><a href=\"https://docs.bokeh.org/en/latest/docs/reference/models/glyphs/vbar.html\">vbar</a> for vertical bars (hbar for horizontal bars)</li>\n",
    "<li>x axis labels need to be of type string</li>\n",
    "<li>We can convert the day numbers to str or just create the label list</li>\n"
   ]
  },
  {
   "cell_type": "code",
   "execution_count": 17,
   "metadata": {},
   "outputs": [
    {
     "data": {
      "text/plain": [
       "Created Date\n",
       "0    13.580642\n",
       "1    14.364547\n",
       "2    14.680310\n",
       "3    14.157120\n",
       "4    13.133037\n",
       "5     7.884347\n",
       "6     6.833155\n",
       "Name: processing_days, dtype: float64"
      ]
     },
     "execution_count": 17,
     "metadata": {},
     "output_type": "execute_result"
    }
   ],
   "source": [
    "day_of_week_mean"
   ]
  },
  {
   "cell_type": "code",
   "execution_count": 18,
   "metadata": {
    "scrolled": true
   },
   "outputs": [
    {
     "data": {
      "text/html": [
       "\n",
       "  <div id=\"b422e34a-3272-4418-a255-43863f41d0a6\" data-root-id=\"p1148\" style=\"display: contents;\"></div>\n"
      ]
     },
     "metadata": {},
     "output_type": "display_data"
    },
    {
     "data": {
      "application/javascript": "(function(root) {\n  function embed_document(root) {\n  const docs_json = {\"911fc8f4-b360-4740-a053-dba2af7bd415\":{\"version\":\"3.2.2\",\"title\":\"Bokeh Application\",\"roots\":[{\"type\":\"object\",\"name\":\"Figure\",\"id\":\"p1148\",\"attributes\":{\"height\":300,\"x_range\":{\"type\":\"object\",\"name\":\"FactorRange\",\"id\":\"p1157\",\"attributes\":{\"factors\":[\"Monday\",\"Tuesday\",\"Wednesday\",\"Thursday\",\"Friday\",\"Saturday\",\"Sunday\"]}},\"y_range\":{\"type\":\"object\",\"name\":\"Range1d\",\"id\":\"p1158\",\"attributes\":{\"end\":20}},\"x_scale\":{\"type\":\"object\",\"name\":\"CategoricalScale\",\"id\":\"p1159\"},\"y_scale\":{\"type\":\"object\",\"name\":\"LinearScale\",\"id\":\"p1160\"},\"title\":{\"type\":\"object\",\"name\":\"Title\",\"id\":\"p1155\"},\"renderers\":[{\"type\":\"object\",\"name\":\"GlyphRenderer\",\"id\":\"p1184\",\"attributes\":{\"data_source\":{\"type\":\"object\",\"name\":\"ColumnDataSource\",\"id\":\"p1178\",\"attributes\":{\"selected\":{\"type\":\"object\",\"name\":\"Selection\",\"id\":\"p1179\",\"attributes\":{\"indices\":[],\"line_indices\":[]}},\"selection_policy\":{\"type\":\"object\",\"name\":\"UnionRenderers\",\"id\":\"p1180\"},\"data\":{\"type\":\"map\",\"entries\":[[\"x\",[\"Monday\",\"Tuesday\",\"Wednesday\",\"Thursday\",\"Friday\",\"Saturday\",\"Sunday\"]],[\"top\",{\"type\":\"ndarray\",\"array\":{\"type\":\"bytes\",\"data\":\"UpF670kpK0CEQgvZpbosQAO06Z5RXC1Au38rEnJQLEC6psFdHUQqQKR2xDmSiR9AoDqEsyZVG0A=\"},\"shape\":[7],\"dtype\":\"float64\",\"order\":\"little\"}]]}}},\"view\":{\"type\":\"object\",\"name\":\"CDSView\",\"id\":\"p1185\",\"attributes\":{\"filter\":{\"type\":\"object\",\"name\":\"AllIndices\",\"id\":\"p1186\"}}},\"glyph\":{\"type\":\"object\",\"name\":\"VBar\",\"id\":\"p1181\",\"attributes\":{\"x\":{\"type\":\"field\",\"field\":\"x\"},\"width\":{\"type\":\"value\",\"value\":0.5},\"top\":{\"type\":\"field\",\"field\":\"top\"},\"line_color\":{\"type\":\"value\",\"value\":\"green\"},\"fill_color\":{\"type\":\"value\",\"value\":\"green\"},\"hatch_color\":{\"type\":\"value\",\"value\":\"green\"}}},\"nonselection_glyph\":{\"type\":\"object\",\"name\":\"VBar\",\"id\":\"p1182\",\"attributes\":{\"x\":{\"type\":\"field\",\"field\":\"x\"},\"width\":{\"type\":\"value\",\"value\":0.5},\"top\":{\"type\":\"field\",\"field\":\"top\"},\"line_color\":{\"type\":\"value\",\"value\":\"green\"},\"line_alpha\":{\"type\":\"value\",\"value\":0.1},\"fill_color\":{\"type\":\"value\",\"value\":\"green\"},\"fill_alpha\":{\"type\":\"value\",\"value\":0.1},\"hatch_color\":{\"type\":\"value\",\"value\":\"green\"},\"hatch_alpha\":{\"type\":\"value\",\"value\":0.1}}},\"muted_glyph\":{\"type\":\"object\",\"name\":\"VBar\",\"id\":\"p1183\",\"attributes\":{\"x\":{\"type\":\"field\",\"field\":\"x\"},\"width\":{\"type\":\"value\",\"value\":0.5},\"top\":{\"type\":\"field\",\"field\":\"top\"},\"line_color\":{\"type\":\"value\",\"value\":\"green\"},\"line_alpha\":{\"type\":\"value\",\"value\":0.2},\"fill_color\":{\"type\":\"value\",\"value\":\"green\"},\"fill_alpha\":{\"type\":\"value\",\"value\":0.2},\"hatch_color\":{\"type\":\"value\",\"value\":\"green\"},\"hatch_alpha\":{\"type\":\"value\",\"value\":0.2}}}}}],\"toolbar\":{\"type\":\"object\",\"name\":\"Toolbar\",\"id\":\"p1156\",\"attributes\":{\"tools\":[{\"type\":\"object\",\"name\":\"PanTool\",\"id\":\"p1171\"},{\"type\":\"object\",\"name\":\"WheelZoomTool\",\"id\":\"p1172\"},{\"type\":\"object\",\"name\":\"BoxZoomTool\",\"id\":\"p1173\",\"attributes\":{\"overlay\":{\"type\":\"object\",\"name\":\"BoxAnnotation\",\"id\":\"p1174\",\"attributes\":{\"syncable\":false,\"level\":\"overlay\",\"visible\":false,\"left_units\":\"canvas\",\"right_units\":\"canvas\",\"bottom_units\":\"canvas\",\"top_units\":\"canvas\",\"line_color\":\"black\",\"line_alpha\":1.0,\"line_width\":2,\"line_dash\":[4,4],\"fill_color\":\"lightgrey\",\"fill_alpha\":0.5}}}},{\"type\":\"object\",\"name\":\"SaveTool\",\"id\":\"p1175\"},{\"type\":\"object\",\"name\":\"ResetTool\",\"id\":\"p1176\"},{\"type\":\"object\",\"name\":\"HelpTool\",\"id\":\"p1177\"}]}},\"left\":[{\"type\":\"object\",\"name\":\"LinearAxis\",\"id\":\"p1166\",\"attributes\":{\"ticker\":{\"type\":\"object\",\"name\":\"BasicTicker\",\"id\":\"p1167\",\"attributes\":{\"mantissas\":[1,2,5]}},\"formatter\":{\"type\":\"object\",\"name\":\"BasicTickFormatter\",\"id\":\"p1168\"},\"major_label_policy\":{\"type\":\"object\",\"name\":\"AllLabels\",\"id\":\"p1169\"}}}],\"below\":[{\"type\":\"object\",\"name\":\"CategoricalAxis\",\"id\":\"p1161\",\"attributes\":{\"ticker\":{\"type\":\"object\",\"name\":\"CategoricalTicker\",\"id\":\"p1162\"},\"formatter\":{\"type\":\"object\",\"name\":\"CategoricalTickFormatter\",\"id\":\"p1163\"},\"major_label_policy\":{\"type\":\"object\",\"name\":\"AllLabels\",\"id\":\"p1164\"}}}],\"center\":[{\"type\":\"object\",\"name\":\"Grid\",\"id\":\"p1165\",\"attributes\":{\"axis\":{\"id\":\"p1161\"}}},{\"type\":\"object\",\"name\":\"Grid\",\"id\":\"p1170\",\"attributes\":{\"dimension\":1,\"axis\":{\"id\":\"p1166\"}}},{\"type\":\"object\",\"name\":\"Legend\",\"id\":\"p1187\",\"attributes\":{\"items\":[{\"type\":\"object\",\"name\":\"LegendItem\",\"id\":\"p1188\",\"attributes\":{\"label\":{\"type\":\"value\",\"value\":\"means\"},\"renderers\":[{\"id\":\"p1184\"}]}}]}}]}}]}};\n  const render_items = [{\"docid\":\"911fc8f4-b360-4740-a053-dba2af7bd415\",\"roots\":{\"p1148\":\"b422e34a-3272-4418-a255-43863f41d0a6\"},\"root_ids\":[\"p1148\"]}];\n  root.Bokeh.embed.embed_items_notebook(docs_json, render_items);\n  }\n  if (root.Bokeh !== undefined) {\n    embed_document(root);\n  } else {\n    let attempts = 0;\n    const timer = setInterval(function(root) {\n      if (root.Bokeh !== undefined) {\n        clearInterval(timer);\n        embed_document(root);\n      } else {\n        attempts++;\n        if (attempts > 100) {\n          clearInterval(timer);\n          console.log(\"Bokeh: ERROR: Unable to run BokehJS code because BokehJS library is missing\");\n        }\n      }\n    }, 10, root)\n  }\n})(window);",
      "application/vnd.bokehjs_exec.v0+json": ""
     },
     "metadata": {
      "application/vnd.bokehjs_exec.v0+json": {
       "id": "p1148"
      }
     },
     "output_type": "display_data"
    }
   ],
   "source": [
    "number_labels = [str(day) for day in day_of_week_mean.index] #But we'll use text_labels\n",
    "text_labels = [\"Monday\",\"Tuesday\",\"Wednesday\",\"Thursday\",\"Friday\",\"Saturday\",\"Sunday\"]\n",
    "value = day_of_week_mean\n",
    "\n",
    "p = figure(x_range=text_labels, y_range=(0, 20),width=600, height=300)\n",
    "\n",
    "p.vbar(x=text_labels, top=value , width=0.5, color = \"green\",legend_label=\"means\")\n",
    "\n",
    "show(p)\n"
   ]
  },
  {
   "cell_type": "markdown",
   "metadata": {},
   "source": [
    "<br><br><br><br>\n",
    "<span style=\"color:blue;font-size:large\">Grid plots in bokeh</span>\n",
    "<li>define each figure separately</li>\n",
    "<li>use gridplot to create a grid</li>\n",
    "<li>gridplot takes a matrix of plots as its input</li>"
   ]
  },
  {
   "cell_type": "code",
   "execution_count": 19,
   "metadata": {},
   "outputs": [
    {
     "data": {
      "text/html": [
       "\n",
       "  <div id=\"c80c50ed-d08e-4227-a88c-0f7a71c36965\" data-root-id=\"p1287\" style=\"display: contents;\"></div>\n"
      ]
     },
     "metadata": {},
     "output_type": "display_data"
    },
    {
     "data": {
      "application/javascript": "(function(root) {\n  function embed_document(root) {\n  const docs_json = {\"8c9ad0f2-44f4-4046-b058-c4bf3fd07cf8\":{\"version\":\"3.2.2\",\"title\":\"Bokeh Application\",\"roots\":[{\"type\":\"object\",\"name\":\"GridPlot\",\"id\":\"p1287\",\"attributes\":{\"rows\":null,\"cols\":null,\"sizing_mode\":\"scale_both\",\"toolbar\":{\"type\":\"object\",\"name\":\"Toolbar\",\"id\":\"p1286\",\"attributes\":{\"tools\":[{\"type\":\"object\",\"name\":\"ToolProxy\",\"id\":\"p1282\",\"attributes\":{\"tools\":[{\"type\":\"object\",\"name\":\"PanTool\",\"id\":\"p1224\"},{\"type\":\"object\",\"name\":\"PanTool\",\"id\":\"p1264\"}]}},{\"type\":\"object\",\"name\":\"ToolProxy\",\"id\":\"p1283\",\"attributes\":{\"tools\":[{\"type\":\"object\",\"name\":\"BoxZoomTool\",\"id\":\"p1225\",\"attributes\":{\"overlay\":{\"type\":\"object\",\"name\":\"BoxAnnotation\",\"id\":\"p1226\",\"attributes\":{\"syncable\":false,\"level\":\"overlay\",\"visible\":false,\"left_units\":\"canvas\",\"right_units\":\"canvas\",\"bottom_units\":\"canvas\",\"top_units\":\"canvas\",\"line_color\":\"black\",\"line_alpha\":1.0,\"line_width\":2,\"line_dash\":[4,4],\"fill_color\":\"lightgrey\",\"fill_alpha\":0.5}}}},{\"type\":\"object\",\"name\":\"BoxZoomTool\",\"id\":\"p1266\",\"attributes\":{\"overlay\":{\"type\":\"object\",\"name\":\"BoxAnnotation\",\"id\":\"p1267\",\"attributes\":{\"syncable\":false,\"level\":\"overlay\",\"visible\":false,\"left_units\":\"canvas\",\"right_units\":\"canvas\",\"bottom_units\":\"canvas\",\"top_units\":\"canvas\",\"line_color\":\"black\",\"line_alpha\":1.0,\"line_width\":2,\"line_dash\":[4,4],\"fill_color\":\"lightgrey\",\"fill_alpha\":0.5}}}}]}},{\"type\":\"object\",\"name\":\"CrosshairTool\",\"id\":\"p1227\"},{\"type\":\"object\",\"name\":\"ToolProxy\",\"id\":\"p1284\",\"attributes\":{\"tools\":[{\"type\":\"object\",\"name\":\"ResetTool\",\"id\":\"p1228\"},{\"type\":\"object\",\"name\":\"ResetTool\",\"id\":\"p1269\"}]}},{\"type\":\"object\",\"name\":\"SaveTool\",\"id\":\"p1285\"},{\"type\":\"object\",\"name\":\"WheelZoomTool\",\"id\":\"p1265\"},{\"type\":\"object\",\"name\":\"HelpTool\",\"id\":\"p1270\"}]}},\"children\":[[{\"type\":\"object\",\"name\":\"Figure\",\"id\":\"p1190\",\"attributes\":{\"height\":400,\"sizing_mode\":\"scale_both\",\"x_range\":{\"type\":\"object\",\"name\":\"DataRange1d\",\"id\":\"p1191\"},\"y_range\":{\"type\":\"object\",\"name\":\"DataRange1d\",\"id\":\"p1192\"},\"x_scale\":{\"type\":\"object\",\"name\":\"LinearScale\",\"id\":\"p1200\"},\"y_scale\":{\"type\":\"object\",\"name\":\"LinearScale\",\"id\":\"p1201\"},\"title\":{\"type\":\"object\",\"name\":\"Title\",\"id\":\"p1193\",\"attributes\":{\"text\":\"Mean Processing Time (monthly)\"}},\"renderers\":[{\"type\":\"object\",\"name\":\"GlyphRenderer\",\"id\":\"p1236\",\"attributes\":{\"data_source\":{\"type\":\"object\",\"name\":\"ColumnDataSource\",\"id\":\"p1230\",\"attributes\":{\"selected\":{\"type\":\"object\",\"name\":\"Selection\",\"id\":\"p1231\",\"attributes\":{\"indices\":[],\"line_indices\":[]}},\"selection_policy\":{\"type\":\"object\",\"name\":\"UnionRenderers\",\"id\":\"p1232\"},\"data\":{\"type\":\"map\",\"entries\":[[\"x\",{\"type\":\"ndarray\",\"array\":{\"type\":\"bytes\",\"data\":\"AACAl9SzdEIAAIC417x0QgAAwArSxnRCAABA93nQdEIAAIBJdNp0QgAAADYc5HRCAABAiBbudEIAAIDaEPh0QgAAAMe4AXVCAABAGbMLdUIAAMAFWxV1QgAAAFhVH3VCAABAqk8pdUIAAAAxpTJ1QgAAQIOfPHVCAADAb0dGdUIAAADCQVB1QgAAgK7pWXVCAADAAORjdUIAAABT3m11QgAAgD+Gd3VCAADAkYCBdUIAAEB+KIt1QgAAgNAilXVCAADAIh2fdUIAAMBDIKh1QgAAAJYasnVCAACAgsK7dUIAAMDUvMV1QgAAQMFkz3VCAACAE1/ZdUIAAMBlWeN1QgAAQFIB7XVCAACApPv2dUIAAACRowB2QgAAQOOdCnZCAACANZgUdkIAAIBWmx12QgAAwKiVJ3ZCAABAlT0xdkIAAIDnNzt2QgAAANTfRHZCAABAJtpOdkIAAIB41Fh2QgAAAGV8YnZCAABAt3ZsdkIAAMCjHnZ2QgAAAPYYgHZCAABASBOKdkIAAEBpFpN2QgAAgLsQnXZCAAAAqLimdkIAAED6srB2QgAAwOZaunZCAAAAOVXEdkIAAECLT852QgAAwHf313ZCAAAAyvHhdkIAAIC2met2QgAAwAiU9XZCAAAAW47/dkIAAMDh4wh3QgAAADTeEndCAACAIIYcd0IAAMBygCZ3QgAAQF8oMHdCAACAsSI6d0IAAMADHUR3QgAAQPDETXdCAACAQr9Xd0IAAAAvZ2F3QgAAQIFha3dCAACA01t1d0IAAID0Xn53QgAAwEZZiHdCAABAMwGSd0IAAICF+5t3QgAAAHKjpXdCAABAxJ2vd0IAAIAWmLl3QgAAAANAw3dCAABAVTrNd0IAAMBB4tZ3QgAAAJTc4HdCAABA5tbqd0IAAEAH2vN3QgAAgFnU/XdCAAAARnwHeEIAAECYdhF4QgAAwIQeG3hCAAAA1xgleEIAAEApEy94QgAAwBW7OHhCAAAAaLVCeEIAAIBUXUx4QgAAwKZXVnhCAAAA+VFgeEIAAAAaVWl4QgAAQGxPc3hCAADAWPd8eEIAAACr8YZ4QgAAgJeZkHhCAADA6ZOaeEIAAAA8jqR4Qg==\"},\"shape\":[104],\"dtype\":\"float64\",\"order\":\"little\"}],[\"y\",{\"type\":\"ndarray\",\"array\":{\"type\":\"bytes\",\"data\":\"uoR+ymMnMEBrZ6uuXgAsQJpHG3PRDDFAMHJkWDaPM0D7gTqjZM41QE0itF+wVjlAegdC7gXqNkD6JAzdatIzQCLbMGGe+DZA1/2GK3MiNEBfY9YA0zcxQCuAtSxB3DBAzQn+AGdTMEBgK+37BeIxQAFPsGVo+jJA9MUTetXLM0A3xYZh59UzQIvd6x2IkTRAdE0fK/tqMkB2srEejSoxQFOt3DbSVDBArwF67zi7LkDgPlGOnRowQKwEB/8yIS1Aw3MYXC2RKUAGPrXCO50rQJiVv4Cy0idAt6TyZJL5KECa6gbldCktQGFxSf3/JSxANl3pLSj9LUCOrWBxgAAsQHmUhmubACdANF678U4xLkCKFUGEomIrQIFW+GCj9StAOVZIWH/pJkBKlVUXzMEkQLtm15WMNSlA0Tu0MCoIJ0A90DJLs6MmQEEpQLbI3ylA/i3yQUiuMUALNyukPH43QGWlsOMVKzFALxvNC4EZL0DIcpcAaCowQEah9H/4fChAFar8crdMKUByEb1+8CQoQE7QFA7ggihAv/qRVdTaL0CbKwBhpBUxQE2lIagYYTJAaw14FpiGLEDd3CrArHgyQKk2ix653i5AXH3qL8uQKUCibHJBh2EiQLfdcc0yjSlAJvbHgKUdMkBcLkmMP10oQE6NearQUilA1BVgr/jBJECmj9RcMrshQI8xCCKWGSFAg1N0XHdRKEAa2d+lc5QpQLv1oPpJSCJAnqe5X2EeI0DLTDyanvYhQBj8TBkd7h9Aqe7ruF3UHkDz46dYpBEdQKaL91aicB5A5yrlaC2iH0CpisVOwoEgQIAIev3JiiFAxvoK/uB4I0A8SrpIPD8kQH3j61mCUSNAfbMlyftpJED9v5RInekmQD3at1yzCSNAJYjXatBPIkDGCJkZYxotQNlRWLmHKCRA1TV6HCzoH0D54hgeVpIgQPqvrT0TUyFAEF+rMXKUHEBuOAHDj44hQHcd3x1/UBxAYqB9isTuH0B0cyONrN8gQGkrcPwZwiFA3tP7R8P6GUACn+Ww+scWQBFYwRz5KBNAN1ZBRRNmEEDKr9VOZoUNQPAMQZ7rlwhAm+gZ1PpnBUAGbjI1/Rj1Pw==\"},\"shape\":[104],\"dtype\":\"float64\",\"order\":\"little\"}]]}}},\"view\":{\"type\":\"object\",\"name\":\"CDSView\",\"id\":\"p1237\",\"attributes\":{\"filter\":{\"type\":\"object\",\"name\":\"AllIndices\",\"id\":\"p1238\"}}},\"glyph\":{\"type\":\"object\",\"name\":\"Line\",\"id\":\"p1233\",\"attributes\":{\"x\":{\"type\":\"field\",\"field\":\"x\"},\"y\":{\"type\":\"field\",\"field\":\"y\"},\"line_color\":\"red\",\"line_width\":8}},\"nonselection_glyph\":{\"type\":\"object\",\"name\":\"Line\",\"id\":\"p1234\",\"attributes\":{\"x\":{\"type\":\"field\",\"field\":\"x\"},\"y\":{\"type\":\"field\",\"field\":\"y\"},\"line_color\":\"red\",\"line_alpha\":0.1,\"line_width\":8}},\"muted_glyph\":{\"type\":\"object\",\"name\":\"Line\",\"id\":\"p1235\",\"attributes\":{\"x\":{\"type\":\"field\",\"field\":\"x\"},\"y\":{\"type\":\"field\",\"field\":\"y\"},\"line_color\":\"red\",\"line_alpha\":0.2,\"line_width\":8}}}}],\"toolbar\":{\"type\":\"object\",\"name\":\"Toolbar\",\"id\":\"p1199\",\"attributes\":{\"tools\":[{\"id\":\"p1224\"},{\"id\":\"p1225\"},{\"id\":\"p1227\"},{\"id\":\"p1228\"},{\"type\":\"object\",\"name\":\"SaveTool\",\"id\":\"p1229\"}]}},\"toolbar_location\":null,\"left\":[{\"type\":\"object\",\"name\":\"LinearAxis\",\"id\":\"p1219\",\"attributes\":{\"ticker\":{\"type\":\"object\",\"name\":\"BasicTicker\",\"id\":\"p1220\",\"attributes\":{\"mantissas\":[1,2,5]}},\"formatter\":{\"type\":\"object\",\"name\":\"BasicTickFormatter\",\"id\":\"p1221\"},\"axis_label\":\"time\",\"major_label_policy\":{\"type\":\"object\",\"name\":\"AllLabels\",\"id\":\"p1222\"}}}],\"below\":[{\"type\":\"object\",\"name\":\"DatetimeAxis\",\"id\":\"p1202\",\"attributes\":{\"ticker\":{\"type\":\"object\",\"name\":\"DatetimeTicker\",\"id\":\"p1203\",\"attributes\":{\"num_minor_ticks\":5,\"tickers\":[{\"type\":\"object\",\"name\":\"AdaptiveTicker\",\"id\":\"p1204\",\"attributes\":{\"num_minor_ticks\":0,\"mantissas\":[1,2,5],\"max_interval\":500.0}},{\"type\":\"object\",\"name\":\"AdaptiveTicker\",\"id\":\"p1205\",\"attributes\":{\"num_minor_ticks\":0,\"base\":60,\"mantissas\":[1,2,5,10,15,20,30],\"min_interval\":1000.0,\"max_interval\":1800000.0}},{\"type\":\"object\",\"name\":\"AdaptiveTicker\",\"id\":\"p1206\",\"attributes\":{\"num_minor_ticks\":0,\"base\":24,\"mantissas\":[1,2,4,6,8,12],\"min_interval\":3600000.0,\"max_interval\":43200000.0}},{\"type\":\"object\",\"name\":\"DaysTicker\",\"id\":\"p1207\",\"attributes\":{\"days\":[1,2,3,4,5,6,7,8,9,10,11,12,13,14,15,16,17,18,19,20,21,22,23,24,25,26,27,28,29,30,31]}},{\"type\":\"object\",\"name\":\"DaysTicker\",\"id\":\"p1208\",\"attributes\":{\"days\":[1,4,7,10,13,16,19,22,25,28]}},{\"type\":\"object\",\"name\":\"DaysTicker\",\"id\":\"p1209\",\"attributes\":{\"days\":[1,8,15,22]}},{\"type\":\"object\",\"name\":\"DaysTicker\",\"id\":\"p1210\",\"attributes\":{\"days\":[1,15]}},{\"type\":\"object\",\"name\":\"MonthsTicker\",\"id\":\"p1211\",\"attributes\":{\"months\":[0,1,2,3,4,5,6,7,8,9,10,11]}},{\"type\":\"object\",\"name\":\"MonthsTicker\",\"id\":\"p1212\",\"attributes\":{\"months\":[0,2,4,6,8,10]}},{\"type\":\"object\",\"name\":\"MonthsTicker\",\"id\":\"p1213\",\"attributes\":{\"months\":[0,4,8]}},{\"type\":\"object\",\"name\":\"MonthsTicker\",\"id\":\"p1214\",\"attributes\":{\"months\":[0,6]}},{\"type\":\"object\",\"name\":\"YearsTicker\",\"id\":\"p1215\"}]}},\"formatter\":{\"type\":\"object\",\"name\":\"DatetimeTickFormatter\",\"id\":\"p1216\"},\"axis_label\":\"months\",\"major_label_policy\":{\"type\":\"object\",\"name\":\"AllLabels\",\"id\":\"p1217\"}}}],\"center\":[{\"type\":\"object\",\"name\":\"Grid\",\"id\":\"p1218\",\"attributes\":{\"axis\":{\"id\":\"p1202\"}}},{\"type\":\"object\",\"name\":\"Grid\",\"id\":\"p1223\",\"attributes\":{\"dimension\":1,\"axis\":{\"id\":\"p1219\"}}},{\"type\":\"object\",\"name\":\"Legend\",\"id\":\"p1239\",\"attributes\":{\"items\":[{\"type\":\"object\",\"name\":\"LegendItem\",\"id\":\"p1240\",\"attributes\":{\"label\":{\"type\":\"value\",\"value\":\"monthly mean\"},\"renderers\":[{\"id\":\"p1236\"}]}}]}}]}},0,0],[{\"type\":\"object\",\"name\":\"Figure\",\"id\":\"p1241\",\"attributes\":{\"height\":400,\"sizing_mode\":\"scale_both\",\"x_range\":{\"type\":\"object\",\"name\":\"FactorRange\",\"id\":\"p1250\",\"attributes\":{\"factors\":[\"Mon\",\"Tues\",\"Wed\",\"Thurs\",\"Fri\",\"Sat\",\"Sun\"]}},\"y_range\":{\"type\":\"object\",\"name\":\"Range1d\",\"id\":\"p1251\",\"attributes\":{\"end\":25}},\"x_scale\":{\"type\":\"object\",\"name\":\"CategoricalScale\",\"id\":\"p1252\"},\"y_scale\":{\"type\":\"object\",\"name\":\"LinearScale\",\"id\":\"p1253\"},\"title\":{\"type\":\"object\",\"name\":\"Title\",\"id\":\"p1248\"},\"renderers\":[{\"type\":\"object\",\"name\":\"GlyphRenderer\",\"id\":\"p1277\",\"attributes\":{\"data_source\":{\"type\":\"object\",\"name\":\"ColumnDataSource\",\"id\":\"p1271\",\"attributes\":{\"selected\":{\"type\":\"object\",\"name\":\"Selection\",\"id\":\"p1272\",\"attributes\":{\"indices\":[],\"line_indices\":[]}},\"selection_policy\":{\"type\":\"object\",\"name\":\"UnionRenderers\",\"id\":\"p1273\"},\"data\":{\"type\":\"map\",\"entries\":[[\"x\",[\"Mon\",\"Tues\",\"Wed\",\"Thurs\",\"Fri\",\"Sat\",\"Sun\"]],[\"top\",{\"type\":\"ndarray\",\"array\":{\"type\":\"bytes\",\"data\":\"UpF670kpK0CEQgvZpbosQAO06Z5RXC1Au38rEnJQLEC6psFdHUQqQKR2xDmSiR9AoDqEsyZVG0A=\"},\"shape\":[7],\"dtype\":\"float64\",\"order\":\"little\"}]]}}},\"view\":{\"type\":\"object\",\"name\":\"CDSView\",\"id\":\"p1278\",\"attributes\":{\"filter\":{\"type\":\"object\",\"name\":\"AllIndices\",\"id\":\"p1279\"}}},\"glyph\":{\"type\":\"object\",\"name\":\"VBar\",\"id\":\"p1274\",\"attributes\":{\"x\":{\"type\":\"field\",\"field\":\"x\"},\"width\":{\"type\":\"value\",\"value\":0.5},\"top\":{\"type\":\"field\",\"field\":\"top\"},\"line_color\":{\"type\":\"value\",\"value\":\"cyan\"},\"fill_color\":{\"type\":\"value\",\"value\":\"cyan\"},\"hatch_color\":{\"type\":\"value\",\"value\":\"cyan\"}}},\"nonselection_glyph\":{\"type\":\"object\",\"name\":\"VBar\",\"id\":\"p1275\",\"attributes\":{\"x\":{\"type\":\"field\",\"field\":\"x\"},\"width\":{\"type\":\"value\",\"value\":0.5},\"top\":{\"type\":\"field\",\"field\":\"top\"},\"line_color\":{\"type\":\"value\",\"value\":\"cyan\"},\"line_alpha\":{\"type\":\"value\",\"value\":0.1},\"fill_color\":{\"type\":\"value\",\"value\":\"cyan\"},\"fill_alpha\":{\"type\":\"value\",\"value\":0.1},\"hatch_color\":{\"type\":\"value\",\"value\":\"cyan\"},\"hatch_alpha\":{\"type\":\"value\",\"value\":0.1}}},\"muted_glyph\":{\"type\":\"object\",\"name\":\"VBar\",\"id\":\"p1276\",\"attributes\":{\"x\":{\"type\":\"field\",\"field\":\"x\"},\"width\":{\"type\":\"value\",\"value\":0.5},\"top\":{\"type\":\"field\",\"field\":\"top\"},\"line_color\":{\"type\":\"value\",\"value\":\"cyan\"},\"line_alpha\":{\"type\":\"value\",\"value\":0.2},\"fill_color\":{\"type\":\"value\",\"value\":\"cyan\"},\"fill_alpha\":{\"type\":\"value\",\"value\":0.2},\"hatch_color\":{\"type\":\"value\",\"value\":\"cyan\"},\"hatch_alpha\":{\"type\":\"value\",\"value\":0.2}}}}}],\"toolbar\":{\"type\":\"object\",\"name\":\"Toolbar\",\"id\":\"p1249\",\"attributes\":{\"tools\":[{\"id\":\"p1264\"},{\"id\":\"p1265\"},{\"id\":\"p1266\"},{\"type\":\"object\",\"name\":\"SaveTool\",\"id\":\"p1268\"},{\"id\":\"p1269\"},{\"id\":\"p1270\"}]}},\"toolbar_location\":null,\"left\":[{\"type\":\"object\",\"name\":\"LinearAxis\",\"id\":\"p1259\",\"attributes\":{\"ticker\":{\"type\":\"object\",\"name\":\"BasicTicker\",\"id\":\"p1260\",\"attributes\":{\"mantissas\":[1,2,5]}},\"formatter\":{\"type\":\"object\",\"name\":\"BasicTickFormatter\",\"id\":\"p1261\"},\"major_label_policy\":{\"type\":\"object\",\"name\":\"AllLabels\",\"id\":\"p1262\"}}}],\"below\":[{\"type\":\"object\",\"name\":\"CategoricalAxis\",\"id\":\"p1254\",\"attributes\":{\"ticker\":{\"type\":\"object\",\"name\":\"CategoricalTicker\",\"id\":\"p1255\"},\"formatter\":{\"type\":\"object\",\"name\":\"CategoricalTickFormatter\",\"id\":\"p1256\"},\"major_label_policy\":{\"type\":\"object\",\"name\":\"AllLabels\",\"id\":\"p1257\"}}}],\"center\":[{\"type\":\"object\",\"name\":\"Grid\",\"id\":\"p1258\",\"attributes\":{\"axis\":{\"id\":\"p1254\"}}},{\"type\":\"object\",\"name\":\"Grid\",\"id\":\"p1263\",\"attributes\":{\"dimension\":1,\"axis\":{\"id\":\"p1259\"}}},{\"type\":\"object\",\"name\":\"Legend\",\"id\":\"p1280\",\"attributes\":{\"items\":[{\"type\":\"object\",\"name\":\"LegendItem\",\"id\":\"p1281\",\"attributes\":{\"label\":{\"type\":\"value\",\"value\":\"means\"},\"renderers\":[{\"id\":\"p1277\"}]}}]}}]}},0,1]]}}]}};\n  const render_items = [{\"docid\":\"8c9ad0f2-44f4-4046-b058-c4bf3fd07cf8\",\"roots\":{\"p1287\":\"c80c50ed-d08e-4227-a88c-0f7a71c36965\"},\"root_ids\":[\"p1287\"]}];\n  root.Bokeh.embed.embed_items_notebook(docs_json, render_items);\n  }\n  if (root.Bokeh !== undefined) {\n    embed_document(root);\n  } else {\n    let attempts = 0;\n    const timer = setInterval(function(root) {\n      if (root.Bokeh !== undefined) {\n        clearInterval(timer);\n        embed_document(root);\n      } else {\n        attempts++;\n        if (attempts > 100) {\n          clearInterval(timer);\n          console.log(\"Bokeh: ERROR: Unable to run BokehJS code because BokehJS library is missing\");\n        }\n      }\n    }, 10, root)\n  }\n})(window);",
      "application/vnd.bokehjs_exec.v0+json": ""
     },
     "metadata": {
      "application/vnd.bokehjs_exec.v0+json": {
       "id": "p1287"
      }
     },
     "output_type": "display_data"
    }
   ],
   "source": [
    "from bokeh.io import output_notebook, show\n",
    "from bokeh.layouts import gridplot\n",
    "from bokeh.plotting import figure\n",
    "import pandas as pd\n",
    "\n",
    "\n",
    "p1 = figure(title=\"Mean Processing Time (monthly)\",width=600, height=400,\n",
    "          x_axis_label = \"months\",y_axis_label = \"time\",x_axis_type=\"datetime\",\n",
    "          tools=\"pan,box_zoom, crosshair,reset, save\")\n",
    "\n",
    "p1.line(pd.to_datetime(months_mean.index,format=\"%Y%m\"), \n",
    "       months_mean,\n",
    "       legend_label=\"monthly mean\",\n",
    "      line_color = \"red\",\n",
    "      line_width = 8)\n",
    "\n",
    "\n",
    "\n",
    "text_labels = [\"Mon\",\"Tues\",\"Wed\",\"Thurs\",\"Fri\",\"Sat\",\"Sun\"]\n",
    "values = day_of_week_mean\n",
    "\n",
    "p2 = figure(x_range=text_labels, y_range=(0, 25),width=600, height=400)\n",
    "\n",
    "p2.vbar(x=text_labels, top=values , width=0.5, color = \"cyan\",legend_label=\"means\")\n",
    "\n",
    "\n",
    "\n",
    "# if we want to show multiple plots together then we need to make a gridplot object \n",
    "grid = gridplot([[p1,p2]],sizing_mode=\"scale_both\",merge_tools=True)\n",
    "\n",
    "\n",
    "# display the grid (the bokeh equivalent of subplot sin matplotlib)\n",
    "show(grid)\n",
    "\n",
    "\n",
    "\n"
   ]
  },
  {
   "cell_type": "markdown",
   "metadata": {},
   "source": [
    "<h2>Pie charts</h2>\n",
    "<span style=\"color:blue;font-size:large\">Breakdown of complaints by Borough</span>\n",
    "<li>We might be interested in seeing if there are differences in complaint percent across boroughs</li>\n",
    "<li>Let's make a set of 5 piecharts, one for each borough, that shows the relative number of complaints by agency</li>"
   ]
  },
  {
   "cell_type": "markdown",
   "metadata": {},
   "source": [
    "<li>Group the data by borough and then, within each borough, by agency, and get the size of each group</li>\n"
   ]
  },
  {
   "cell_type": "code",
   "execution_count": 20,
   "metadata": {},
   "outputs": [
    {
     "data": {
      "text/plain": [
       "Borough        Agency                                      \n",
       "BRONX          3-1-1                                              133\n",
       "               DCA                                               4364\n",
       "               DCWP                                               108\n",
       "               DEP                                              90332\n",
       "               DEPARTMENT OF CONSUMER AND WORKER PROTECTION        14\n",
       "                                                                ...  \n",
       "STATEN ISLAND  NYCEM                                                1\n",
       "               NYPD                                            265545\n",
       "               OSE                                               2843\n",
       "               OTI                                                  3\n",
       "               TLC                                                433\n",
       "Length: 116, dtype: int64"
      ]
     },
     "execution_count": 20,
     "metadata": {},
     "output_type": "execute_result"
    }
   ],
   "source": [
    "df.groupby(['Borough','Agency']).size()"
   ]
  },
  {
   "cell_type": "markdown",
   "metadata": {},
   "source": [
    "<li>this gives us a series with a two-layered index</li>\n",
    "<li>the <a href=\"https://pandas.pydata.org/docs/reference/api/pandas.DataFrame.unstack.html\">unstack</a> function takes a two layered index and converts it into a dataframe</li>\n",
    "<li>the outer index is the index of the new dataframe</li>\n",
    "<li>the inner index becomes the columns of the new dataframe</li>\n",
    "<li>We need to remove the agencies with a NaN in the data (FDNY)</li>"
   ]
  },
  {
   "cell_type": "code",
   "execution_count": 21,
   "metadata": {},
   "outputs": [
    {
     "data": {
      "text/plain": [
       "Index(['3-1-1', 'DCA', 'DCWP', 'DEP',\n",
       "       'DEPARTMENT OF CONSUMER AND WORKER PROTECTION', 'DFTA', 'DHS', 'DOB',\n",
       "       'DOE', 'DOF', 'DOHMH', 'DOITT', 'DOT', 'DPR', 'DSNY', 'EDC', 'FDNY',\n",
       "       'HPD', 'NYC311-PRD', 'NYCEM', 'NYPD', 'OSE', 'OTI', 'TLC'],\n",
       "      dtype='object', name='Agency')"
      ]
     },
     "execution_count": 21,
     "metadata": {},
     "output_type": "execute_result"
    }
   ],
   "source": [
    "df.groupby(['Borough','Agency']).size().unstack().columns"
   ]
  },
  {
   "cell_type": "code",
   "execution_count": 4,
   "metadata": {},
   "outputs": [
    {
     "data": {
      "text/html": [
       "<div>\n",
       "<style scoped>\n",
       "    .dataframe tbody tr th:only-of-type {\n",
       "        vertical-align: middle;\n",
       "    }\n",
       "\n",
       "    .dataframe tbody tr th {\n",
       "        vertical-align: top;\n",
       "    }\n",
       "\n",
       "    .dataframe thead th {\n",
       "        text-align: right;\n",
       "    }\n",
       "</style>\n",
       "<table border=\"1\" class=\"dataframe\">\n",
       "  <thead>\n",
       "    <tr style=\"text-align: right;\">\n",
       "      <th></th>\n",
       "      <th>Created Date</th>\n",
       "      <th>Closed Date</th>\n",
       "      <th>Agency</th>\n",
       "      <th>Incident Zip</th>\n",
       "      <th>Borough</th>\n",
       "      <th>Latitude</th>\n",
       "      <th>Longitude</th>\n",
       "      <th>processing_days</th>\n",
       "    </tr>\n",
       "  </thead>\n",
       "  <tbody>\n",
       "    <tr>\n",
       "      <th>0</th>\n",
       "      <td>2022-06-01 15:40:25</td>\n",
       "      <td>2022-06-02 19:15:43</td>\n",
       "      <td>HPD</td>\n",
       "      <td>10034</td>\n",
       "      <td>MANHATTAN</td>\n",
       "      <td>40.864261</td>\n",
       "      <td>-73.920824</td>\n",
       "      <td>1.149514</td>\n",
       "    </tr>\n",
       "    <tr>\n",
       "      <th>1</th>\n",
       "      <td>2022-06-01 07:14:24</td>\n",
       "      <td>2022-06-02 08:59:05</td>\n",
       "      <td>HPD</td>\n",
       "      <td>10453</td>\n",
       "      <td>BRONX</td>\n",
       "      <td>40.857910</td>\n",
       "      <td>-73.907076</td>\n",
       "      <td>1.072697</td>\n",
       "    </tr>\n",
       "    <tr>\n",
       "      <th>2</th>\n",
       "      <td>2022-06-01 16:55:37</td>\n",
       "      <td>2022-06-02 15:38:38</td>\n",
       "      <td>HPD</td>\n",
       "      <td>11226</td>\n",
       "      <td>BROOKLYN</td>\n",
       "      <td>40.637296</td>\n",
       "      <td>-73.959624</td>\n",
       "      <td>0.946539</td>\n",
       "    </tr>\n",
       "    <tr>\n",
       "      <th>3</th>\n",
       "      <td>2022-06-01 15:02:59</td>\n",
       "      <td>2022-06-09 12:01:55</td>\n",
       "      <td>HPD</td>\n",
       "      <td>10032</td>\n",
       "      <td>MANHATTAN</td>\n",
       "      <td>40.829582</td>\n",
       "      <td>-73.940710</td>\n",
       "      <td>7.874259</td>\n",
       "    </tr>\n",
       "    <tr>\n",
       "      <th>4</th>\n",
       "      <td>2022-06-01 17:16:56</td>\n",
       "      <td>2022-06-15 18:24:13</td>\n",
       "      <td>HPD</td>\n",
       "      <td>10031</td>\n",
       "      <td>MANHATTAN</td>\n",
       "      <td>40.826519</td>\n",
       "      <td>-73.952445</td>\n",
       "      <td>14.046725</td>\n",
       "    </tr>\n",
       "    <tr>\n",
       "      <th>...</th>\n",
       "      <td>...</td>\n",
       "      <td>...</td>\n",
       "      <td>...</td>\n",
       "      <td>...</td>\n",
       "      <td>...</td>\n",
       "      <td>...</td>\n",
       "      <td>...</td>\n",
       "      <td>...</td>\n",
       "    </tr>\n",
       "    <tr>\n",
       "      <th>18338321</th>\n",
       "      <td>2022-06-01 16:08:15</td>\n",
       "      <td>2022-06-16 06:01:24</td>\n",
       "      <td>HPD</td>\n",
       "      <td>11223</td>\n",
       "      <td>BROOKLYN</td>\n",
       "      <td>40.585740</td>\n",
       "      <td>-73.967828</td>\n",
       "      <td>14.578576</td>\n",
       "    </tr>\n",
       "    <tr>\n",
       "      <th>18338322</th>\n",
       "      <td>2022-06-01 14:22:07</td>\n",
       "      <td>2022-06-12 02:04:14</td>\n",
       "      <td>HPD</td>\n",
       "      <td>11212</td>\n",
       "      <td>BROOKLYN</td>\n",
       "      <td>40.657274</td>\n",
       "      <td>-73.921019</td>\n",
       "      <td>10.487581</td>\n",
       "    </tr>\n",
       "    <tr>\n",
       "      <th>18338323</th>\n",
       "      <td>2022-06-01 14:31:06</td>\n",
       "      <td>2022-06-19 17:31:54</td>\n",
       "      <td>HPD</td>\n",
       "      <td>11105</td>\n",
       "      <td>QUEENS</td>\n",
       "      <td>40.777195</td>\n",
       "      <td>-73.909416</td>\n",
       "      <td>18.125556</td>\n",
       "    </tr>\n",
       "    <tr>\n",
       "      <th>18338324</th>\n",
       "      <td>2022-06-01 18:31:01</td>\n",
       "      <td>2022-06-17 20:45:45</td>\n",
       "      <td>HPD</td>\n",
       "      <td>10456</td>\n",
       "      <td>BRONX</td>\n",
       "      <td>40.833941</td>\n",
       "      <td>-73.910644</td>\n",
       "      <td>16.093565</td>\n",
       "    </tr>\n",
       "    <tr>\n",
       "      <th>18338325</th>\n",
       "      <td>2022-06-01 16:58:53</td>\n",
       "      <td>2022-06-02 16:10:26</td>\n",
       "      <td>HPD</td>\n",
       "      <td>11216</td>\n",
       "      <td>BROOKLYN</td>\n",
       "      <td>40.683458</td>\n",
       "      <td>-73.941024</td>\n",
       "      <td>0.966354</td>\n",
       "    </tr>\n",
       "  </tbody>\n",
       "</table>\n",
       "<p>18338326 rows × 8 columns</p>\n",
       "</div>"
      ],
      "text/plain": [
       "                Created Date         Closed Date Agency  Incident Zip  \\\n",
       "0        2022-06-01 15:40:25 2022-06-02 19:15:43    HPD         10034   \n",
       "1        2022-06-01 07:14:24 2022-06-02 08:59:05    HPD         10453   \n",
       "2        2022-06-01 16:55:37 2022-06-02 15:38:38    HPD         11226   \n",
       "3        2022-06-01 15:02:59 2022-06-09 12:01:55    HPD         10032   \n",
       "4        2022-06-01 17:16:56 2022-06-15 18:24:13    HPD         10031   \n",
       "...                      ...                 ...    ...           ...   \n",
       "18338321 2022-06-01 16:08:15 2022-06-16 06:01:24    HPD         11223   \n",
       "18338322 2022-06-01 14:22:07 2022-06-12 02:04:14    HPD         11212   \n",
       "18338323 2022-06-01 14:31:06 2022-06-19 17:31:54    HPD         11105   \n",
       "18338324 2022-06-01 18:31:01 2022-06-17 20:45:45    HPD         10456   \n",
       "18338325 2022-06-01 16:58:53 2022-06-02 16:10:26    HPD         11216   \n",
       "\n",
       "            Borough   Latitude  Longitude  processing_days  \n",
       "0         MANHATTAN  40.864261 -73.920824         1.149514  \n",
       "1             BRONX  40.857910 -73.907076         1.072697  \n",
       "2          BROOKLYN  40.637296 -73.959624         0.946539  \n",
       "3         MANHATTAN  40.829582 -73.940710         7.874259  \n",
       "4         MANHATTAN  40.826519 -73.952445        14.046725  \n",
       "...             ...        ...        ...              ...  \n",
       "18338321   BROOKLYN  40.585740 -73.967828        14.578576  \n",
       "18338322   BROOKLYN  40.657274 -73.921019        10.487581  \n",
       "18338323     QUEENS  40.777195 -73.909416        18.125556  \n",
       "18338324      BRONX  40.833941 -73.910644        16.093565  \n",
       "18338325   BROOKLYN  40.683458 -73.941024         0.966354  \n",
       "\n",
       "[18338326 rows x 8 columns]"
      ]
     },
     "execution_count": 4,
     "metadata": {},
     "output_type": "execute_result"
    }
   ],
   "source": [
    "df"
   ]
  },
  {
   "cell_type": "code",
   "execution_count": 22,
   "metadata": {},
   "outputs": [
    {
     "data": {
      "text/html": [
       "<div>\n",
       "<style scoped>\n",
       "    .dataframe tbody tr th:only-of-type {\n",
       "        vertical-align: middle;\n",
       "    }\n",
       "\n",
       "    .dataframe tbody tr th {\n",
       "        vertical-align: top;\n",
       "    }\n",
       "\n",
       "    .dataframe thead th {\n",
       "        text-align: right;\n",
       "    }\n",
       "</style>\n",
       "<table border=\"1\" class=\"dataframe\">\n",
       "  <thead>\n",
       "    <tr style=\"text-align: right;\">\n",
       "      <th>Agency</th>\n",
       "      <th>3-1-1</th>\n",
       "      <th>DCA</th>\n",
       "      <th>DCWP</th>\n",
       "      <th>DEP</th>\n",
       "      <th>DEPARTMENT OF CONSUMER AND WORKER PROTECTION</th>\n",
       "      <th>DFTA</th>\n",
       "      <th>DHS</th>\n",
       "      <th>DOB</th>\n",
       "      <th>DOE</th>\n",
       "      <th>DOF</th>\n",
       "      <th>...</th>\n",
       "      <th>DPR</th>\n",
       "      <th>DSNY</th>\n",
       "      <th>EDC</th>\n",
       "      <th>HPD</th>\n",
       "      <th>NYC311-PRD</th>\n",
       "      <th>NYCEM</th>\n",
       "      <th>NYPD</th>\n",
       "      <th>OSE</th>\n",
       "      <th>OTI</th>\n",
       "      <th>TLC</th>\n",
       "    </tr>\n",
       "    <tr>\n",
       "      <th>Borough</th>\n",
       "      <th></th>\n",
       "      <th></th>\n",
       "      <th></th>\n",
       "      <th></th>\n",
       "      <th></th>\n",
       "      <th></th>\n",
       "      <th></th>\n",
       "      <th></th>\n",
       "      <th></th>\n",
       "      <th></th>\n",
       "      <th></th>\n",
       "      <th></th>\n",
       "      <th></th>\n",
       "      <th></th>\n",
       "      <th></th>\n",
       "      <th></th>\n",
       "      <th></th>\n",
       "      <th></th>\n",
       "      <th></th>\n",
       "      <th></th>\n",
       "      <th></th>\n",
       "    </tr>\n",
       "  </thead>\n",
       "  <tbody>\n",
       "    <tr>\n",
       "      <th>BRONX</th>\n",
       "      <td>133.0</td>\n",
       "      <td>4364.0</td>\n",
       "      <td>108.0</td>\n",
       "      <td>90332.0</td>\n",
       "      <td>14.0</td>\n",
       "      <td>25.0</td>\n",
       "      <td>5493.0</td>\n",
       "      <td>91477.0</td>\n",
       "      <td>2710.0</td>\n",
       "      <td>1886.0</td>\n",
       "      <td>...</td>\n",
       "      <td>55496.0</td>\n",
       "      <td>262624.0</td>\n",
       "      <td>114.0</td>\n",
       "      <td>1090789.0</td>\n",
       "      <td>70.0</td>\n",
       "      <td>4.0</td>\n",
       "      <td>1805040.0</td>\n",
       "      <td>5895.0</td>\n",
       "      <td>10.0</td>\n",
       "      <td>3302.0</td>\n",
       "    </tr>\n",
       "    <tr>\n",
       "      <th>BROOKLYN</th>\n",
       "      <td>218.0</td>\n",
       "      <td>7136.0</td>\n",
       "      <td>189.0</td>\n",
       "      <td>162373.0</td>\n",
       "      <td>23.0</td>\n",
       "      <td>41.0</td>\n",
       "      <td>21018.0</td>\n",
       "      <td>224412.0</td>\n",
       "      <td>3195.0</td>\n",
       "      <td>3709.0</td>\n",
       "      <td>...</td>\n",
       "      <td>176396.0</td>\n",
       "      <td>991926.0</td>\n",
       "      <td>1361.0</td>\n",
       "      <td>1019280.0</td>\n",
       "      <td>228.0</td>\n",
       "      <td>10.0</td>\n",
       "      <td>2511017.0</td>\n",
       "      <td>17608.0</td>\n",
       "      <td>19.0</td>\n",
       "      <td>11203.0</td>\n",
       "    </tr>\n",
       "    <tr>\n",
       "      <th>MANHATTAN</th>\n",
       "      <td>205.0</td>\n",
       "      <td>6221.0</td>\n",
       "      <td>197.0</td>\n",
       "      <td>143625.0</td>\n",
       "      <td>23.0</td>\n",
       "      <td>39.0</td>\n",
       "      <td>91913.0</td>\n",
       "      <td>149428.0</td>\n",
       "      <td>3064.0</td>\n",
       "      <td>2647.0</td>\n",
       "      <td>...</td>\n",
       "      <td>62919.0</td>\n",
       "      <td>301838.0</td>\n",
       "      <td>9793.0</td>\n",
       "      <td>721769.0</td>\n",
       "      <td>64.0</td>\n",
       "      <td>3.0</td>\n",
       "      <td>1636566.0</td>\n",
       "      <td>17169.0</td>\n",
       "      <td>39.0</td>\n",
       "      <td>40310.0</td>\n",
       "    </tr>\n",
       "    <tr>\n",
       "      <th>QUEENS</th>\n",
       "      <td>165.0</td>\n",
       "      <td>6715.0</td>\n",
       "      <td>185.0</td>\n",
       "      <td>146276.0</td>\n",
       "      <td>32.0</td>\n",
       "      <td>18.0</td>\n",
       "      <td>11379.0</td>\n",
       "      <td>167851.0</td>\n",
       "      <td>2645.0</td>\n",
       "      <td>3850.0</td>\n",
       "      <td>...</td>\n",
       "      <td>186730.0</td>\n",
       "      <td>831807.0</td>\n",
       "      <td>2254.0</td>\n",
       "      <td>387853.0</td>\n",
       "      <td>290.0</td>\n",
       "      <td>25.0</td>\n",
       "      <td>2157606.0</td>\n",
       "      <td>13999.0</td>\n",
       "      <td>24.0</td>\n",
       "      <td>10934.0</td>\n",
       "    </tr>\n",
       "    <tr>\n",
       "      <th>STATEN ISLAND</th>\n",
       "      <td>29.0</td>\n",
       "      <td>963.0</td>\n",
       "      <td>24.0</td>\n",
       "      <td>46545.0</td>\n",
       "      <td>2.0</td>\n",
       "      <td>6.0</td>\n",
       "      <td>1070.0</td>\n",
       "      <td>30438.0</td>\n",
       "      <td>620.0</td>\n",
       "      <td>1375.0</td>\n",
       "      <td>...</td>\n",
       "      <td>56593.0</td>\n",
       "      <td>291424.0</td>\n",
       "      <td>86.0</td>\n",
       "      <td>56085.0</td>\n",
       "      <td>66.0</td>\n",
       "      <td>1.0</td>\n",
       "      <td>265545.0</td>\n",
       "      <td>2843.0</td>\n",
       "      <td>3.0</td>\n",
       "      <td>433.0</td>\n",
       "    </tr>\n",
       "  </tbody>\n",
       "</table>\n",
       "<p>5 rows × 23 columns</p>\n",
       "</div>"
      ],
      "text/plain": [
       "Agency         3-1-1     DCA   DCWP       DEP  \\\n",
       "Borough                                         \n",
       "BRONX          133.0  4364.0  108.0   90332.0   \n",
       "BROOKLYN       218.0  7136.0  189.0  162373.0   \n",
       "MANHATTAN      205.0  6221.0  197.0  143625.0   \n",
       "QUEENS         165.0  6715.0  185.0  146276.0   \n",
       "STATEN ISLAND   29.0   963.0   24.0   46545.0   \n",
       "\n",
       "Agency         DEPARTMENT OF CONSUMER AND WORKER PROTECTION  DFTA      DHS  \\\n",
       "Borough                                                                      \n",
       "BRONX                                                  14.0  25.0   5493.0   \n",
       "BROOKLYN                                               23.0  41.0  21018.0   \n",
       "MANHATTAN                                              23.0  39.0  91913.0   \n",
       "QUEENS                                                 32.0  18.0  11379.0   \n",
       "STATEN ISLAND                                           2.0   6.0   1070.0   \n",
       "\n",
       "Agency              DOB     DOE     DOF  ...       DPR      DSNY     EDC  \\\n",
       "Borough                                  ...                               \n",
       "BRONX           91477.0  2710.0  1886.0  ...   55496.0  262624.0   114.0   \n",
       "BROOKLYN       224412.0  3195.0  3709.0  ...  176396.0  991926.0  1361.0   \n",
       "MANHATTAN      149428.0  3064.0  2647.0  ...   62919.0  301838.0  9793.0   \n",
       "QUEENS         167851.0  2645.0  3850.0  ...  186730.0  831807.0  2254.0   \n",
       "STATEN ISLAND   30438.0   620.0  1375.0  ...   56593.0  291424.0    86.0   \n",
       "\n",
       "Agency               HPD  NYC311-PRD  NYCEM       NYPD      OSE   OTI      TLC  \n",
       "Borough                                                                         \n",
       "BRONX          1090789.0        70.0    4.0  1805040.0   5895.0  10.0   3302.0  \n",
       "BROOKLYN       1019280.0       228.0   10.0  2511017.0  17608.0  19.0  11203.0  \n",
       "MANHATTAN       721769.0        64.0    3.0  1636566.0  17169.0  39.0  40310.0  \n",
       "QUEENS          387853.0       290.0   25.0  2157606.0  13999.0  24.0  10934.0  \n",
       "STATEN ISLAND    56085.0        66.0    1.0   265545.0   2843.0   3.0    433.0  \n",
       "\n",
       "[5 rows x 23 columns]"
      ]
     },
     "execution_count": 22,
     "metadata": {},
     "output_type": "execute_result"
    }
   ],
   "source": [
    "#dropna(axis=1) drops any column that has a nan in it\n",
    "size_df = df.groupby(['Borough','Agency']).size().unstack().dropna(axis=1)\n",
    "size_df"
   ]
  },
  {
   "cell_type": "markdown",
   "metadata": {},
   "source": [
    "<li>each row of the df will correspond to one piechart and we will have 5 piecharts in all</li>"
   ]
  },
  {
   "cell_type": "markdown",
   "metadata": {},
   "source": [
    "<br><br><br><br>\n",
    "<span style=\"color:blue;font-size:large\">The pie chart</span>\n",
    "<li>Drawing a piechart involves specifying each slice of the pie</li>\n",
    "<li>The <span style=\"color:blue\">color</span> of the slices is defined by importing a <a href=\"https://docs.bokeh.org/en/latest/docs/reference/palettes.html\">color palette</a></li>\n",
    "<li>Since there are 23 agencies, we need a color palette with at least 23 colors. Bokeh's large palettes are probably the best. We'll pick random colors from Turbo256's 0..255 range of colors</li>\n",
    "<li>We need to use a <a href=\"https://docs.bokeh.org/en/latest/docs/user_guide/basic/data.html\">ColumnDataSource</a> object to store the data:</li>\n",
    "<ul>\n",
    "    <li>The data repository for a bokeh chart</li>\n",
    "    <li>Bokeh can directly reference named columns in this source</li>\n",
    "    <li>Think of it as a dedicated table that bokeh understands</li>\n",
    "</ul>\n",
    "<li><a href=\"https://docs.bokeh.org/en/latest/docs/user_guide/basic/annotations.html\">LabelSet</a>: the set of labels that we want to display. For the piechart, these will be the fraction of cases that are associated with an agency</li>\n",
    "\n"
   ]
  },
  {
   "cell_type": "code",
   "execution_count": 23,
   "metadata": {},
   "outputs": [
    {
     "data": {
      "text/html": [
       "<div>\n",
       "<style scoped>\n",
       "    .dataframe tbody tr th:only-of-type {\n",
       "        vertical-align: middle;\n",
       "    }\n",
       "\n",
       "    .dataframe tbody tr th {\n",
       "        vertical-align: top;\n",
       "    }\n",
       "\n",
       "    .dataframe thead th {\n",
       "        text-align: right;\n",
       "    }\n",
       "</style>\n",
       "<table border=\"1\" class=\"dataframe\">\n",
       "  <thead>\n",
       "    <tr style=\"text-align: right;\">\n",
       "      <th>Agency</th>\n",
       "      <th>3-1-1</th>\n",
       "      <th>DCA</th>\n",
       "      <th>DCWP</th>\n",
       "      <th>DEP</th>\n",
       "      <th>DEPARTMENT OF CONSUMER AND WORKER PROTECTION</th>\n",
       "      <th>DFTA</th>\n",
       "      <th>DHS</th>\n",
       "      <th>DOB</th>\n",
       "      <th>DOE</th>\n",
       "      <th>DOF</th>\n",
       "      <th>...</th>\n",
       "      <th>DPR</th>\n",
       "      <th>DSNY</th>\n",
       "      <th>EDC</th>\n",
       "      <th>HPD</th>\n",
       "      <th>NYC311-PRD</th>\n",
       "      <th>NYCEM</th>\n",
       "      <th>NYPD</th>\n",
       "      <th>OSE</th>\n",
       "      <th>OTI</th>\n",
       "      <th>TLC</th>\n",
       "    </tr>\n",
       "    <tr>\n",
       "      <th>Borough</th>\n",
       "      <th></th>\n",
       "      <th></th>\n",
       "      <th></th>\n",
       "      <th></th>\n",
       "      <th></th>\n",
       "      <th></th>\n",
       "      <th></th>\n",
       "      <th></th>\n",
       "      <th></th>\n",
       "      <th></th>\n",
       "      <th></th>\n",
       "      <th></th>\n",
       "      <th></th>\n",
       "      <th></th>\n",
       "      <th></th>\n",
       "      <th></th>\n",
       "      <th></th>\n",
       "      <th></th>\n",
       "      <th></th>\n",
       "      <th></th>\n",
       "      <th></th>\n",
       "    </tr>\n",
       "  </thead>\n",
       "  <tbody>\n",
       "    <tr>\n",
       "      <th>BRONX</th>\n",
       "      <td>133.0</td>\n",
       "      <td>4364.0</td>\n",
       "      <td>108.0</td>\n",
       "      <td>90332.0</td>\n",
       "      <td>14.0</td>\n",
       "      <td>25.0</td>\n",
       "      <td>5493.0</td>\n",
       "      <td>91477.0</td>\n",
       "      <td>2710.0</td>\n",
       "      <td>1886.0</td>\n",
       "      <td>...</td>\n",
       "      <td>55496.0</td>\n",
       "      <td>262624.0</td>\n",
       "      <td>114.0</td>\n",
       "      <td>1090789.0</td>\n",
       "      <td>70.0</td>\n",
       "      <td>4.0</td>\n",
       "      <td>1805040.0</td>\n",
       "      <td>5895.0</td>\n",
       "      <td>10.0</td>\n",
       "      <td>3302.0</td>\n",
       "    </tr>\n",
       "    <tr>\n",
       "      <th>BROOKLYN</th>\n",
       "      <td>218.0</td>\n",
       "      <td>7136.0</td>\n",
       "      <td>189.0</td>\n",
       "      <td>162373.0</td>\n",
       "      <td>23.0</td>\n",
       "      <td>41.0</td>\n",
       "      <td>21018.0</td>\n",
       "      <td>224412.0</td>\n",
       "      <td>3195.0</td>\n",
       "      <td>3709.0</td>\n",
       "      <td>...</td>\n",
       "      <td>176396.0</td>\n",
       "      <td>991926.0</td>\n",
       "      <td>1361.0</td>\n",
       "      <td>1019280.0</td>\n",
       "      <td>228.0</td>\n",
       "      <td>10.0</td>\n",
       "      <td>2511017.0</td>\n",
       "      <td>17608.0</td>\n",
       "      <td>19.0</td>\n",
       "      <td>11203.0</td>\n",
       "    </tr>\n",
       "    <tr>\n",
       "      <th>MANHATTAN</th>\n",
       "      <td>205.0</td>\n",
       "      <td>6221.0</td>\n",
       "      <td>197.0</td>\n",
       "      <td>143625.0</td>\n",
       "      <td>23.0</td>\n",
       "      <td>39.0</td>\n",
       "      <td>91913.0</td>\n",
       "      <td>149428.0</td>\n",
       "      <td>3064.0</td>\n",
       "      <td>2647.0</td>\n",
       "      <td>...</td>\n",
       "      <td>62919.0</td>\n",
       "      <td>301838.0</td>\n",
       "      <td>9793.0</td>\n",
       "      <td>721769.0</td>\n",
       "      <td>64.0</td>\n",
       "      <td>3.0</td>\n",
       "      <td>1636566.0</td>\n",
       "      <td>17169.0</td>\n",
       "      <td>39.0</td>\n",
       "      <td>40310.0</td>\n",
       "    </tr>\n",
       "    <tr>\n",
       "      <th>QUEENS</th>\n",
       "      <td>165.0</td>\n",
       "      <td>6715.0</td>\n",
       "      <td>185.0</td>\n",
       "      <td>146276.0</td>\n",
       "      <td>32.0</td>\n",
       "      <td>18.0</td>\n",
       "      <td>11379.0</td>\n",
       "      <td>167851.0</td>\n",
       "      <td>2645.0</td>\n",
       "      <td>3850.0</td>\n",
       "      <td>...</td>\n",
       "      <td>186730.0</td>\n",
       "      <td>831807.0</td>\n",
       "      <td>2254.0</td>\n",
       "      <td>387853.0</td>\n",
       "      <td>290.0</td>\n",
       "      <td>25.0</td>\n",
       "      <td>2157606.0</td>\n",
       "      <td>13999.0</td>\n",
       "      <td>24.0</td>\n",
       "      <td>10934.0</td>\n",
       "    </tr>\n",
       "    <tr>\n",
       "      <th>STATEN ISLAND</th>\n",
       "      <td>29.0</td>\n",
       "      <td>963.0</td>\n",
       "      <td>24.0</td>\n",
       "      <td>46545.0</td>\n",
       "      <td>2.0</td>\n",
       "      <td>6.0</td>\n",
       "      <td>1070.0</td>\n",
       "      <td>30438.0</td>\n",
       "      <td>620.0</td>\n",
       "      <td>1375.0</td>\n",
       "      <td>...</td>\n",
       "      <td>56593.0</td>\n",
       "      <td>291424.0</td>\n",
       "      <td>86.0</td>\n",
       "      <td>56085.0</td>\n",
       "      <td>66.0</td>\n",
       "      <td>1.0</td>\n",
       "      <td>265545.0</td>\n",
       "      <td>2843.0</td>\n",
       "      <td>3.0</td>\n",
       "      <td>433.0</td>\n",
       "    </tr>\n",
       "  </tbody>\n",
       "</table>\n",
       "<p>5 rows × 23 columns</p>\n",
       "</div>"
      ],
      "text/plain": [
       "Agency         3-1-1     DCA   DCWP       DEP  \\\n",
       "Borough                                         \n",
       "BRONX          133.0  4364.0  108.0   90332.0   \n",
       "BROOKLYN       218.0  7136.0  189.0  162373.0   \n",
       "MANHATTAN      205.0  6221.0  197.0  143625.0   \n",
       "QUEENS         165.0  6715.0  185.0  146276.0   \n",
       "STATEN ISLAND   29.0   963.0   24.0   46545.0   \n",
       "\n",
       "Agency         DEPARTMENT OF CONSUMER AND WORKER PROTECTION  DFTA      DHS  \\\n",
       "Borough                                                                      \n",
       "BRONX                                                  14.0  25.0   5493.0   \n",
       "BROOKLYN                                               23.0  41.0  21018.0   \n",
       "MANHATTAN                                              23.0  39.0  91913.0   \n",
       "QUEENS                                                 32.0  18.0  11379.0   \n",
       "STATEN ISLAND                                           2.0   6.0   1070.0   \n",
       "\n",
       "Agency              DOB     DOE     DOF  ...       DPR      DSNY     EDC  \\\n",
       "Borough                                  ...                               \n",
       "BRONX           91477.0  2710.0  1886.0  ...   55496.0  262624.0   114.0   \n",
       "BROOKLYN       224412.0  3195.0  3709.0  ...  176396.0  991926.0  1361.0   \n",
       "MANHATTAN      149428.0  3064.0  2647.0  ...   62919.0  301838.0  9793.0   \n",
       "QUEENS         167851.0  2645.0  3850.0  ...  186730.0  831807.0  2254.0   \n",
       "STATEN ISLAND   30438.0   620.0  1375.0  ...   56593.0  291424.0    86.0   \n",
       "\n",
       "Agency               HPD  NYC311-PRD  NYCEM       NYPD      OSE   OTI      TLC  \n",
       "Borough                                                                         \n",
       "BRONX          1090789.0        70.0    4.0  1805040.0   5895.0  10.0   3302.0  \n",
       "BROOKLYN       1019280.0       228.0   10.0  2511017.0  17608.0  19.0  11203.0  \n",
       "MANHATTAN       721769.0        64.0    3.0  1636566.0  17169.0  39.0  40310.0  \n",
       "QUEENS          387853.0       290.0   25.0  2157606.0  13999.0  24.0  10934.0  \n",
       "STATEN ISLAND    56085.0        66.0    1.0   265545.0   2843.0   3.0    433.0  \n",
       "\n",
       "[5 rows x 23 columns]"
      ]
     },
     "execution_count": 23,
     "metadata": {},
     "output_type": "execute_result"
    }
   ],
   "source": [
    "size_df"
   ]
  },
  {
   "cell_type": "code",
   "execution_count": 24,
   "metadata": {},
   "outputs": [
    {
     "name": "stdout",
     "output_type": "stream",
     "text": [
      "Agency\n",
      "3-1-1                                               133.0\n",
      "DCA                                                4364.0\n",
      "DCWP                                                108.0\n",
      "DEP                                               90332.0\n",
      "DEPARTMENT OF CONSUMER AND WORKER PROTECTION         14.0\n",
      "DFTA                                                 25.0\n",
      "DHS                                                5493.0\n",
      "DOB                                               91477.0\n",
      "DOE                                                2710.0\n",
      "DOF                                                1886.0\n",
      "DOHMH                                             62894.0\n",
      "DOITT                                               135.0\n",
      "DOT                                              197831.0\n",
      "DPR                                               55496.0\n",
      "DSNY                                             262624.0\n",
      "EDC                                                 114.0\n",
      "HPD                                             1090789.0\n",
      "NYC311-PRD                                           70.0\n",
      "NYCEM                                                 4.0\n",
      "NYPD                                            1805040.0\n",
      "OSE                                                5895.0\n",
      "OTI                                                  10.0\n",
      "TLC                                                3302.0\n",
      "Name: BRONX, dtype: float64\n"
     ]
    },
    {
     "data": {
      "text/html": [
       "<div>\n",
       "<style scoped>\n",
       "    .dataframe tbody tr th:only-of-type {\n",
       "        vertical-align: middle;\n",
       "    }\n",
       "\n",
       "    .dataframe tbody tr th {\n",
       "        vertical-align: top;\n",
       "    }\n",
       "\n",
       "    .dataframe thead th {\n",
       "        text-align: right;\n",
       "    }\n",
       "</style>\n",
       "<table border=\"1\" class=\"dataframe\">\n",
       "  <thead>\n",
       "    <tr style=\"text-align: right;\">\n",
       "      <th></th>\n",
       "      <th>Agency</th>\n",
       "      <th>value</th>\n",
       "    </tr>\n",
       "  </thead>\n",
       "  <tbody>\n",
       "    <tr>\n",
       "      <th>0</th>\n",
       "      <td>3-1-1</td>\n",
       "      <td>133.0</td>\n",
       "    </tr>\n",
       "    <tr>\n",
       "      <th>1</th>\n",
       "      <td>DCA</td>\n",
       "      <td>4364.0</td>\n",
       "    </tr>\n",
       "    <tr>\n",
       "      <th>2</th>\n",
       "      <td>DCWP</td>\n",
       "      <td>108.0</td>\n",
       "    </tr>\n",
       "    <tr>\n",
       "      <th>3</th>\n",
       "      <td>DEP</td>\n",
       "      <td>90332.0</td>\n",
       "    </tr>\n",
       "    <tr>\n",
       "      <th>4</th>\n",
       "      <td>DEPARTMENT OF CONSUMER AND WORKER PROTECTION</td>\n",
       "      <td>14.0</td>\n",
       "    </tr>\n",
       "    <tr>\n",
       "      <th>5</th>\n",
       "      <td>DFTA</td>\n",
       "      <td>25.0</td>\n",
       "    </tr>\n",
       "    <tr>\n",
       "      <th>6</th>\n",
       "      <td>DHS</td>\n",
       "      <td>5493.0</td>\n",
       "    </tr>\n",
       "    <tr>\n",
       "      <th>7</th>\n",
       "      <td>DOB</td>\n",
       "      <td>91477.0</td>\n",
       "    </tr>\n",
       "    <tr>\n",
       "      <th>8</th>\n",
       "      <td>DOE</td>\n",
       "      <td>2710.0</td>\n",
       "    </tr>\n",
       "    <tr>\n",
       "      <th>9</th>\n",
       "      <td>DOF</td>\n",
       "      <td>1886.0</td>\n",
       "    </tr>\n",
       "    <tr>\n",
       "      <th>10</th>\n",
       "      <td>DOHMH</td>\n",
       "      <td>62894.0</td>\n",
       "    </tr>\n",
       "    <tr>\n",
       "      <th>11</th>\n",
       "      <td>DOITT</td>\n",
       "      <td>135.0</td>\n",
       "    </tr>\n",
       "    <tr>\n",
       "      <th>12</th>\n",
       "      <td>DOT</td>\n",
       "      <td>197831.0</td>\n",
       "    </tr>\n",
       "    <tr>\n",
       "      <th>13</th>\n",
       "      <td>DPR</td>\n",
       "      <td>55496.0</td>\n",
       "    </tr>\n",
       "    <tr>\n",
       "      <th>14</th>\n",
       "      <td>DSNY</td>\n",
       "      <td>262624.0</td>\n",
       "    </tr>\n",
       "    <tr>\n",
       "      <th>15</th>\n",
       "      <td>EDC</td>\n",
       "      <td>114.0</td>\n",
       "    </tr>\n",
       "    <tr>\n",
       "      <th>16</th>\n",
       "      <td>HPD</td>\n",
       "      <td>1090789.0</td>\n",
       "    </tr>\n",
       "    <tr>\n",
       "      <th>17</th>\n",
       "      <td>NYC311-PRD</td>\n",
       "      <td>70.0</td>\n",
       "    </tr>\n",
       "    <tr>\n",
       "      <th>18</th>\n",
       "      <td>NYCEM</td>\n",
       "      <td>4.0</td>\n",
       "    </tr>\n",
       "    <tr>\n",
       "      <th>19</th>\n",
       "      <td>NYPD</td>\n",
       "      <td>1805040.0</td>\n",
       "    </tr>\n",
       "    <tr>\n",
       "      <th>20</th>\n",
       "      <td>OSE</td>\n",
       "      <td>5895.0</td>\n",
       "    </tr>\n",
       "    <tr>\n",
       "      <th>21</th>\n",
       "      <td>OTI</td>\n",
       "      <td>10.0</td>\n",
       "    </tr>\n",
       "    <tr>\n",
       "      <th>22</th>\n",
       "      <td>TLC</td>\n",
       "      <td>3302.0</td>\n",
       "    </tr>\n",
       "  </tbody>\n",
       "</table>\n",
       "</div>"
      ],
      "text/plain": [
       "                                          Agency      value\n",
       "0                                          3-1-1      133.0\n",
       "1                                            DCA     4364.0\n",
       "2                                           DCWP      108.0\n",
       "3                                            DEP    90332.0\n",
       "4   DEPARTMENT OF CONSUMER AND WORKER PROTECTION       14.0\n",
       "5                                           DFTA       25.0\n",
       "6                                            DHS     5493.0\n",
       "7                                            DOB    91477.0\n",
       "8                                            DOE     2710.0\n",
       "9                                            DOF     1886.0\n",
       "10                                         DOHMH    62894.0\n",
       "11                                         DOITT      135.0\n",
       "12                                           DOT   197831.0\n",
       "13                                           DPR    55496.0\n",
       "14                                          DSNY   262624.0\n",
       "15                                           EDC      114.0\n",
       "16                                           HPD  1090789.0\n",
       "17                                    NYC311-PRD       70.0\n",
       "18                                         NYCEM        4.0\n",
       "19                                          NYPD  1805040.0\n",
       "20                                           OSE     5895.0\n",
       "21                                           OTI       10.0\n",
       "22                                           TLC     3302.0"
      ]
     },
     "execution_count": 24,
     "metadata": {},
     "output_type": "execute_result"
    }
   ],
   "source": [
    "borough = \"BRONX\"\n",
    "print(size_df.loc[borough])\n",
    "data = size_df.loc[borough].reset_index(name='value') # we move the index into the columns \n",
    "data "
   ]
  },
  {
   "cell_type": "code",
   "execution_count": 6,
   "metadata": {
    "scrolled": true
   },
   "outputs": [
    {
     "ename": "NameError",
     "evalue": "name 'size_df' is not defined",
     "output_type": "error",
     "traceback": [
      "\u001b[0;31m---------------------------------------------------------------------------\u001b[0m",
      "\u001b[0;31mNameError\u001b[0m                                 Traceback (most recent call last)",
      "\u001b[1;32m/Users/joshuagrajales/Desktop/ore4212/visualization - charts.ipynb Cell 45\u001b[0m line \u001b[0;36m<cell line: 11>\u001b[0;34m()\u001b[0m\n\u001b[1;32m      <a href='vscode-notebook-cell:/Users/joshuagrajales/Desktop/ore4212/visualization%20-%20charts.ipynb#X61sZmlsZQ%3D%3D?line=7'>8</a>\u001b[0m borough \u001b[39m=\u001b[39m \u001b[39m\"\u001b[39m\u001b[39mBRONX\u001b[39m\u001b[39m\"\u001b[39m\n\u001b[1;32m     <a href='vscode-notebook-cell:/Users/joshuagrajales/Desktop/ore4212/visualization%20-%20charts.ipynb#X61sZmlsZQ%3D%3D?line=9'>10</a>\u001b[0m \u001b[39m#Create a dataframe with an Agency column and a value column for the borough\u001b[39;00m\n\u001b[0;32m---> <a href='vscode-notebook-cell:/Users/joshuagrajales/Desktop/ore4212/visualization%20-%20charts.ipynb#X61sZmlsZQ%3D%3D?line=10'>11</a>\u001b[0m data \u001b[39m=\u001b[39m size_df\u001b[39m.\u001b[39mloc[borough]\u001b[39m.\u001b[39mreset_index(name\u001b[39m=\u001b[39m\u001b[39m'\u001b[39m\u001b[39mvalue\u001b[39m\u001b[39m'\u001b[39m)\n\u001b[1;32m     <a href='vscode-notebook-cell:/Users/joshuagrajales/Desktop/ore4212/visualization%20-%20charts.ipynb#X61sZmlsZQ%3D%3D?line=12'>13</a>\u001b[0m \u001b[39m#We'll restrict the size of the string for Agencies. One Agency is way too long!\u001b[39;00m\n\u001b[1;32m     <a href='vscode-notebook-cell:/Users/joshuagrajales/Desktop/ore4212/visualization%20-%20charts.ipynb#X61sZmlsZQ%3D%3D?line=13'>14</a>\u001b[0m data[\u001b[39m'\u001b[39m\u001b[39mAgency\u001b[39m\u001b[39m'\u001b[39m] \u001b[39m=\u001b[39m data[\u001b[39m'\u001b[39m\u001b[39mAgency\u001b[39m\u001b[39m'\u001b[39m]\u001b[39m.\u001b[39mstr\u001b[39m.\u001b[39mslice(\u001b[39m0\u001b[39m,\u001b[39m8\u001b[39m)\n",
      "\u001b[0;31mNameError\u001b[0m: name 'size_df' is not defined"
     ]
    }
   ],
   "source": [
    "from math import pi #Need this - a pie chart is a circle\n",
    "import pandas as pd\n",
    "import numpy as np\n",
    "from bokeh.palettes import Turbo256 #The color palette\n",
    "from bokeh.models import LabelSet, ColumnDataSource\n",
    "from bokeh.transform import cumsum #a bokeh function that cumulatively sums the angle column in a column data source\n",
    "\n",
    "borough = \"BRONX\"\n",
    "\n",
    "#Create a dataframe with an Agency column and a value column for the borough\n",
    "data = size_df.loc[borough].reset_index(name='value')\n",
    "\n",
    "#We'll restrict the size of the string for Agencies. One Agency is way too long!\n",
    "data['Agency'] = data['Agency'].str.slice(0,8)\n",
    "\n",
    "#Calculate a percent column (the fraction of cases for each agency)\n",
    "data['pct'] = (data['value']/sum(data['value'])*100).round(2)\n",
    "\n",
    "#Calculate an angle column (the fraction of 360 degrees for each slice)\n",
    "#Note that data['pct'].sum() should be approx 100.0\n",
    "#The angle is calculated in radians. 360degrees = 2*pi (approx 6.28)\n",
    "data['angle'] = data['pct']/(data['pct'].sum()) * 2*pi\n",
    "\n",
    "#Specify the color palette\n",
    "#Use Category20c if you have fewer than 20 wedges\n",
    "#Or Category10c if you have fewer than 10 wedges\n",
    "\n",
    "import random\n",
    "colors = [Turbo256[random.randint(0,255)] for i in range(len(data))]\n",
    "data['colors'] = colors\n",
    "\n",
    "cdsdata = ColumnDataSource(data)\n",
    "#Define a figure object\n",
    "#tooltips maps to the ColumnDataSource object\n",
    "#We haven't created it yet but Agency will map to the Agency column and pct to the pct\n",
    "#And we'll see NYPD; 49.04 when we hover over the NYPD slice in the piechart\n",
    "p = figure(height=500, title=\"Cases by Agency: \" + borough, \n",
    "        tools=\"hover\", tooltips=\"@Agency: @pct\",x_range=(-0.5, 1.0))\n",
    "\n",
    "#Add the definition of each wedge\n",
    "#Each wedge, starting with 0 degrees, will be at the sum of the angles upto that wedge\n",
    "\n",
    "p.wedge(x=0, y=1, radius=0.4, #x,y specifies the location of the center of the pie\n",
    "        start_angle=cumsum('angle', include_zero=True), end_angle=cumsum('angle'), #the start and end angle of each slice\n",
    "        line_color=\"white\", fill_color=\"colors\", legend_field='Agency', source=cdsdata) #source is our data (can be a df or a CDS)\n",
    "\n",
    "#Since there are way too many small slices, we'll only label slices with pct > 5\n",
    "data[\"label_vals\"] = np.where(data[\"pct\"]>=5,data[\"pct\"],0)                              \n",
    "data[\"label_vals\"]=data[\"label_vals\"].astype(str).str.pad(35, side = \"left\") #pad will move the labels out toward the circumference\n",
    "data[\"label_vals\"]=data[\"label_vals\"].apply(lambda x: \"\" if x.strip()==\"0.0\" else x)\n",
    "\n",
    "#LabelSet is the set of labels. Either a value or nothing\n",
    "labels = LabelSet(x=0, y=1, text='label_vals',\n",
    "        angle=cumsum('angle', include_zero=True), source=cdsdata)\n",
    "\n",
    "#Add the labels\n",
    "p.add_layout(labels)\n",
    "\n",
    "\n",
    "p.axis.axis_label=None #Piechart. No axes\n",
    "p.axis.visible=False #We don't want to see the axes\n",
    "p.grid.grid_line_color = None #If you want grid lines, specify a color\n",
    "\n",
    "#Show the chart\n",
    "show(p)\n",
    "\n"
   ]
  },
  {
   "cell_type": "code",
   "execution_count": 28,
   "metadata": {},
   "outputs": [
    {
     "data": {
      "text/html": [
       "<div>\n",
       "<style scoped>\n",
       "    .dataframe tbody tr th:only-of-type {\n",
       "        vertical-align: middle;\n",
       "    }\n",
       "\n",
       "    .dataframe tbody tr th {\n",
       "        vertical-align: top;\n",
       "    }\n",
       "\n",
       "    .dataframe thead th {\n",
       "        text-align: right;\n",
       "    }\n",
       "</style>\n",
       "<table border=\"1\" class=\"dataframe\">\n",
       "  <thead>\n",
       "    <tr style=\"text-align: right;\">\n",
       "      <th></th>\n",
       "      <th>Agency</th>\n",
       "      <th>value</th>\n",
       "      <th>pct</th>\n",
       "      <th>angle</th>\n",
       "      <th>colors</th>\n",
       "      <th>label_vals</th>\n",
       "    </tr>\n",
       "  </thead>\n",
       "  <tbody>\n",
       "    <tr>\n",
       "      <th>0</th>\n",
       "      <td>3-1-1</td>\n",
       "      <td>133.0</td>\n",
       "      <td>0.00</td>\n",
       "      <td>0.000000</td>\n",
       "      <td>#18d5cc</td>\n",
       "      <td></td>\n",
       "    </tr>\n",
       "    <tr>\n",
       "      <th>1</th>\n",
       "      <td>DCA</td>\n",
       "      <td>4364.0</td>\n",
       "      <td>0.12</td>\n",
       "      <td>0.007541</td>\n",
       "      <td>#3d3791</td>\n",
       "      <td></td>\n",
       "    </tr>\n",
       "    <tr>\n",
       "      <th>2</th>\n",
       "      <td>DCWP</td>\n",
       "      <td>108.0</td>\n",
       "      <td>0.00</td>\n",
       "      <td>0.000000</td>\n",
       "      <td>#4678f0</td>\n",
       "      <td></td>\n",
       "    </tr>\n",
       "    <tr>\n",
       "      <th>3</th>\n",
       "      <td>DEP</td>\n",
       "      <td>90332.0</td>\n",
       "      <td>2.45</td>\n",
       "      <td>0.153969</td>\n",
       "      <td>#9d1001</td>\n",
       "      <td></td>\n",
       "    </tr>\n",
       "    <tr>\n",
       "      <th>4</th>\n",
       "      <td>DEPARTME</td>\n",
       "      <td>14.0</td>\n",
       "      <td>0.00</td>\n",
       "      <td>0.000000</td>\n",
       "      <td>#caed33</td>\n",
       "      <td></td>\n",
       "    </tr>\n",
       "    <tr>\n",
       "      <th>5</th>\n",
       "      <td>DFTA</td>\n",
       "      <td>25.0</td>\n",
       "      <td>0.00</td>\n",
       "      <td>0.000000</td>\n",
       "      <td>#3c9dfd</td>\n",
       "      <td></td>\n",
       "    </tr>\n",
       "    <tr>\n",
       "      <th>6</th>\n",
       "      <td>DHS</td>\n",
       "      <td>5493.0</td>\n",
       "      <td>0.15</td>\n",
       "      <td>0.009427</td>\n",
       "      <td>#25c0e6</td>\n",
       "      <td></td>\n",
       "    </tr>\n",
       "    <tr>\n",
       "      <th>7</th>\n",
       "      <td>DOB</td>\n",
       "      <td>91477.0</td>\n",
       "      <td>2.49</td>\n",
       "      <td>0.156483</td>\n",
       "      <td>#4040a1</td>\n",
       "      <td></td>\n",
       "    </tr>\n",
       "    <tr>\n",
       "      <th>8</th>\n",
       "      <td>DOE</td>\n",
       "      <td>2710.0</td>\n",
       "      <td>0.07</td>\n",
       "      <td>0.004399</td>\n",
       "      <td>#bb1f01</td>\n",
       "      <td></td>\n",
       "    </tr>\n",
       "    <tr>\n",
       "      <th>9</th>\n",
       "      <td>DOF</td>\n",
       "      <td>1886.0</td>\n",
       "      <td>0.05</td>\n",
       "      <td>0.003142</td>\n",
       "      <td>#b6f735</td>\n",
       "      <td></td>\n",
       "    </tr>\n",
       "    <tr>\n",
       "      <th>10</th>\n",
       "      <td>DOHMH</td>\n",
       "      <td>62894.0</td>\n",
       "      <td>1.71</td>\n",
       "      <td>0.107464</td>\n",
       "      <td>#ecd139</td>\n",
       "      <td></td>\n",
       "    </tr>\n",
       "    <tr>\n",
       "      <th>11</th>\n",
       "      <td>DOITT</td>\n",
       "      <td>135.0</td>\n",
       "      <td>0.00</td>\n",
       "      <td>0.000000</td>\n",
       "      <td>#7cfe56</td>\n",
       "      <td></td>\n",
       "    </tr>\n",
       "    <tr>\n",
       "      <th>12</th>\n",
       "      <td>DOT</td>\n",
       "      <td>197831.0</td>\n",
       "      <td>5.37</td>\n",
       "      <td>0.337475</td>\n",
       "      <td>#4670e8</td>\n",
       "      <td>5.37</td>\n",
       "    </tr>\n",
       "    <tr>\n",
       "      <th>13</th>\n",
       "      <td>DPR</td>\n",
       "      <td>55496.0</td>\n",
       "      <td>1.51</td>\n",
       "      <td>0.094895</td>\n",
       "      <td>#dde036</td>\n",
       "      <td></td>\n",
       "    </tr>\n",
       "    <tr>\n",
       "      <th>14</th>\n",
       "      <td>DSNY</td>\n",
       "      <td>262624.0</td>\n",
       "      <td>7.14</td>\n",
       "      <td>0.448709</td>\n",
       "      <td>#38a5fb</td>\n",
       "      <td>7.14</td>\n",
       "    </tr>\n",
       "    <tr>\n",
       "      <th>15</th>\n",
       "      <td>EDC</td>\n",
       "      <td>114.0</td>\n",
       "      <td>0.00</td>\n",
       "      <td>0.000000</td>\n",
       "      <td>#2ab9ed</td>\n",
       "      <td></td>\n",
       "    </tr>\n",
       "    <tr>\n",
       "      <th>16</th>\n",
       "      <td>HPD</td>\n",
       "      <td>1090789.0</td>\n",
       "      <td>29.63</td>\n",
       "      <td>1.862080</td>\n",
       "      <td>#61fc6c</td>\n",
       "      <td>29.63</td>\n",
       "    </tr>\n",
       "    <tr>\n",
       "      <th>17</th>\n",
       "      <td>NYC311-P</td>\n",
       "      <td>70.0</td>\n",
       "      <td>0.00</td>\n",
       "      <td>0.000000</td>\n",
       "      <td>#22eba9</td>\n",
       "      <td></td>\n",
       "    </tr>\n",
       "    <tr>\n",
       "      <th>18</th>\n",
       "      <td>NYCEM</td>\n",
       "      <td>4.0</td>\n",
       "      <td>0.00</td>\n",
       "      <td>0.000000</td>\n",
       "      <td>#c72803</td>\n",
       "      <td></td>\n",
       "    </tr>\n",
       "    <tr>\n",
       "      <th>19</th>\n",
       "      <td>NYPD</td>\n",
       "      <td>1805040.0</td>\n",
       "      <td>49.04</td>\n",
       "      <td>3.081890</td>\n",
       "      <td>#23c2e4</td>\n",
       "      <td>49.04</td>\n",
       "    </tr>\n",
       "    <tr>\n",
       "      <th>20</th>\n",
       "      <td>OSE</td>\n",
       "      <td>5895.0</td>\n",
       "      <td>0.16</td>\n",
       "      <td>0.010055</td>\n",
       "      <td>#6dfd62</td>\n",
       "      <td></td>\n",
       "    </tr>\n",
       "    <tr>\n",
       "      <th>21</th>\n",
       "      <td>OTI</td>\n",
       "      <td>10.0</td>\n",
       "      <td>0.00</td>\n",
       "      <td>0.000000</td>\n",
       "      <td>#36215f</td>\n",
       "      <td></td>\n",
       "    </tr>\n",
       "    <tr>\n",
       "      <th>22</th>\n",
       "      <td>TLC</td>\n",
       "      <td>3302.0</td>\n",
       "      <td>0.09</td>\n",
       "      <td>0.005656</td>\n",
       "      <td>#a01101</td>\n",
       "      <td></td>\n",
       "    </tr>\n",
       "  </tbody>\n",
       "</table>\n",
       "</div>"
      ],
      "text/plain": [
       "      Agency      value    pct     angle   colors  \\\n",
       "0      3-1-1      133.0   0.00  0.000000  #18d5cc   \n",
       "1        DCA     4364.0   0.12  0.007541  #3d3791   \n",
       "2       DCWP      108.0   0.00  0.000000  #4678f0   \n",
       "3        DEP    90332.0   2.45  0.153969  #9d1001   \n",
       "4   DEPARTME       14.0   0.00  0.000000  #caed33   \n",
       "5       DFTA       25.0   0.00  0.000000  #3c9dfd   \n",
       "6        DHS     5493.0   0.15  0.009427  #25c0e6   \n",
       "7        DOB    91477.0   2.49  0.156483  #4040a1   \n",
       "8        DOE     2710.0   0.07  0.004399  #bb1f01   \n",
       "9        DOF     1886.0   0.05  0.003142  #b6f735   \n",
       "10     DOHMH    62894.0   1.71  0.107464  #ecd139   \n",
       "11     DOITT      135.0   0.00  0.000000  #7cfe56   \n",
       "12       DOT   197831.0   5.37  0.337475  #4670e8   \n",
       "13       DPR    55496.0   1.51  0.094895  #dde036   \n",
       "14      DSNY   262624.0   7.14  0.448709  #38a5fb   \n",
       "15       EDC      114.0   0.00  0.000000  #2ab9ed   \n",
       "16       HPD  1090789.0  29.63  1.862080  #61fc6c   \n",
       "17  NYC311-P       70.0   0.00  0.000000  #22eba9   \n",
       "18     NYCEM        4.0   0.00  0.000000  #c72803   \n",
       "19      NYPD  1805040.0  49.04  3.081890  #23c2e4   \n",
       "20       OSE     5895.0   0.16  0.010055  #6dfd62   \n",
       "21       OTI       10.0   0.00  0.000000  #36215f   \n",
       "22       TLC     3302.0   0.09  0.005656  #a01101   \n",
       "\n",
       "                             label_vals  \n",
       "0                                        \n",
       "1                                        \n",
       "2                                        \n",
       "3                                        \n",
       "4                                        \n",
       "5                                        \n",
       "6                                        \n",
       "7                                        \n",
       "8                                        \n",
       "9                                        \n",
       "10                                       \n",
       "11                                       \n",
       "12                                 5.37  \n",
       "13                                       \n",
       "14                                 7.14  \n",
       "15                                       \n",
       "16                                29.63  \n",
       "17                                       \n",
       "18                                       \n",
       "19                                49.04  \n",
       "20                                       \n",
       "21                                       \n",
       "22                                       "
      ]
     },
     "execution_count": 28,
     "metadata": {},
     "output_type": "execute_result"
    }
   ],
   "source": [
    "data"
   ]
  },
  {
   "cell_type": "code",
   "execution_count": 26,
   "metadata": {},
   "outputs": [
    {
     "data": {
      "text/html": [
       "<div style=\"display: table;\"><div style=\"display: table-row;\"><div style=\"display: table-cell;\"><b title=\"bokeh.models.sources.ColumnDataSource\">ColumnDataSource</b>(</div><div style=\"display: table-cell;\">id&nbsp;=&nbsp;'p1292', <span id=\"p1342\" style=\"cursor: pointer;\">&hellip;)</span></div></div><div class=\"p1341\" style=\"display: none;\"><div style=\"display: table-cell;\"></div><div style=\"display: table-cell;\">data&nbsp;=&nbsp;{'index': array([ 0,  1,  2,  3,  4,  5,  6,  7,  8,  9, 10, 11, 12, 13, 14, 15, 16,\n",
       "       17, 18, 19, 20, 21, 22]), 'Agency': array(['3-1-1', 'DCA', 'DCWP', 'DEP', 'DEPARTME', 'DFTA', 'DHS', 'DOB',\n",
       "       'DOE', 'DOF', 'DOHMH', 'DOITT', 'DOT', 'DPR', 'DSNY', 'EDC', 'HPD',\n",
       "       'NYC311-P', 'NYCEM', 'NYPD', 'OSE', 'OTI', 'TLC'], dtype=object), 'value': array([1.330000e+02, 4.364000e+03, 1.080000e+02, 9.033200e+04,\n",
       "       1.400000e+01, 2.500000e+01, 5.493000e+03, 9.147700e+04,\n",
       "       2.710000e+03, 1.886000e+03, 6.289400e+04, 1.350000e+02,\n",
       "       1.978310e+05, 5.549600e+04, 2.626240e+05, 1.140000e+02,\n",
       "       1.090789e+06, 7.000000e+01, 4.000000e+00, 1.805040e+06,\n",
       "       5.895000e+03, 1.000000e+01, 3.302000e+03]), 'pct': array([ 0.  ,  0.12,  0.  ,  2.45,  0.  ,  0.  ,  0.15,  2.49,  0.07,\n",
       "        0.05,  1.71,  0.  ,  5.37,  1.51,  7.14,  0.  , 29.63,  0.  ,\n",
       "        0.  , 49.04,  0.16,  0.  ,  0.09]), 'angle': array([0.        , 0.00754133, 0.        , 0.15396883, 0.        ,\n",
       "       0.        , 0.00942666, 0.15648261, 0.00439911, 0.00314222,\n",
       "       0.10746396, 0.        , 0.33747455, 0.09489508, 0.44870917,\n",
       "       0.        , 1.86208022, 0.        , 0.        , 3.08189045,\n",
       "       0.01005511, 0.        , 0.005656  ]), 'colors': array(['#18d5cc', '#3d3791', '#4678f0', '#9d1001', '#caed33', '#3c9dfd',\n",
       "       '#25c0e6', '#4040a1', '#bb1f01', '#b6f735', '#ecd139', '#7cfe56',\n",
       "       '#4670e8', '#dde036', '#38a5fb', '#2ab9ed', '#61fc6c', '#22eba9',\n",
       "       '#c72803', '#23c2e4', '#6dfd62', '#36215f', '#a01101'],\n",
       "      dtype=object)},</div></div><div class=\"p1341\" style=\"display: none;\"><div style=\"display: table-cell;\"></div><div style=\"display: table-cell;\">js_event_callbacks&nbsp;=&nbsp;{},</div></div><div class=\"p1341\" style=\"display: none;\"><div style=\"display: table-cell;\"></div><div style=\"display: table-cell;\">js_property_callbacks&nbsp;=&nbsp;{},</div></div><div class=\"p1341\" style=\"display: none;\"><div style=\"display: table-cell;\"></div><div style=\"display: table-cell;\">name&nbsp;=&nbsp;None,</div></div><div class=\"p1341\" style=\"display: none;\"><div style=\"display: table-cell;\"></div><div style=\"display: table-cell;\">selected&nbsp;=&nbsp;Selection(id='p1293', ...),</div></div><div class=\"p1341\" style=\"display: none;\"><div style=\"display: table-cell;\"></div><div style=\"display: table-cell;\">selection_policy&nbsp;=&nbsp;UnionRenderers(id='p1294', ...),</div></div><div class=\"p1341\" style=\"display: none;\"><div style=\"display: table-cell;\"></div><div style=\"display: table-cell;\">subscribed_events&nbsp;=&nbsp;PropertyValueSet(),</div></div><div class=\"p1341\" style=\"display: none;\"><div style=\"display: table-cell;\"></div><div style=\"display: table-cell;\">syncable&nbsp;=&nbsp;True,</div></div><div class=\"p1341\" style=\"display: none;\"><div style=\"display: table-cell;\"></div><div style=\"display: table-cell;\">tags&nbsp;=&nbsp;[])</div></div></div>\n",
       "<script>\n",
       "(function() {\n",
       "  let expanded = false;\n",
       "  const ellipsis = document.getElementById(\"p1342\");\n",
       "  ellipsis.addEventListener(\"click\", function() {\n",
       "    const rows = document.getElementsByClassName(\"p1341\");\n",
       "    for (let i = 0; i < rows.length; i++) {\n",
       "      const el = rows[i];\n",
       "      el.style.display = expanded ? \"none\" : \"table-row\";\n",
       "    }\n",
       "    ellipsis.innerHTML = expanded ? \"&hellip;)\" : \"&lsaquo;&lsaquo;&lsaquo;\";\n",
       "    expanded = !expanded;\n",
       "  });\n",
       "})();\n",
       "</script>\n"
      ],
      "text/plain": [
       "ColumnDataSource(id='p1292', ...)"
      ]
     },
     "execution_count": 26,
     "metadata": {},
     "output_type": "execute_result"
    }
   ],
   "source": [
    "cdsdata"
   ]
  },
  {
   "cell_type": "code",
   "execution_count": 27,
   "metadata": {},
   "outputs": [
    {
     "data": {
      "text/plain": [
       "{'index': array([ 0,  1,  2,  3,  4,  5,  6,  7,  8,  9, 10, 11, 12, 13, 14, 15, 16,\n",
       "        17, 18, 19, 20, 21, 22]),\n",
       " 'Agency': array(['3-1-1', 'DCA', 'DCWP', 'DEP', 'DEPARTME', 'DFTA', 'DHS', 'DOB',\n",
       "        'DOE', 'DOF', 'DOHMH', 'DOITT', 'DOT', 'DPR', 'DSNY', 'EDC', 'HPD',\n",
       "        'NYC311-P', 'NYCEM', 'NYPD', 'OSE', 'OTI', 'TLC'], dtype=object),\n",
       " 'value': array([1.330000e+02, 4.364000e+03, 1.080000e+02, 9.033200e+04,\n",
       "        1.400000e+01, 2.500000e+01, 5.493000e+03, 9.147700e+04,\n",
       "        2.710000e+03, 1.886000e+03, 6.289400e+04, 1.350000e+02,\n",
       "        1.978310e+05, 5.549600e+04, 2.626240e+05, 1.140000e+02,\n",
       "        1.090789e+06, 7.000000e+01, 4.000000e+00, 1.805040e+06,\n",
       "        5.895000e+03, 1.000000e+01, 3.302000e+03]),\n",
       " 'pct': array([ 0.  ,  0.12,  0.  ,  2.45,  0.  ,  0.  ,  0.15,  2.49,  0.07,\n",
       "         0.05,  1.71,  0.  ,  5.37,  1.51,  7.14,  0.  , 29.63,  0.  ,\n",
       "         0.  , 49.04,  0.16,  0.  ,  0.09]),\n",
       " 'angle': array([0.        , 0.00754133, 0.        , 0.15396883, 0.        ,\n",
       "        0.        , 0.00942666, 0.15648261, 0.00439911, 0.00314222,\n",
       "        0.10746396, 0.        , 0.33747455, 0.09489508, 0.44870917,\n",
       "        0.        , 1.86208022, 0.        , 0.        , 3.08189045,\n",
       "        0.01005511, 0.        , 0.005656  ]),\n",
       " 'colors': array(['#18d5cc', '#3d3791', '#4678f0', '#9d1001', '#caed33', '#3c9dfd',\n",
       "        '#25c0e6', '#4040a1', '#bb1f01', '#b6f735', '#ecd139', '#7cfe56',\n",
       "        '#4670e8', '#dde036', '#38a5fb', '#2ab9ed', '#61fc6c', '#22eba9',\n",
       "        '#c72803', '#23c2e4', '#6dfd62', '#36215f', '#a01101'],\n",
       "       dtype=object)}"
      ]
     },
     "execution_count": 27,
     "metadata": {},
     "output_type": "execute_result"
    }
   ],
   "source": [
    "cdsdata.data"
   ]
  },
  {
   "cell_type": "markdown",
   "metadata": {},
   "source": [
    "<br><br><br><br>\n",
    "<span style=\"color:blue;font-size:large\">Grid plots in bokeh</span>\n",
    "<li>define each figure separately</li>\n",
    "<li>use gridplot to create a grid</li>\n",
    "<li>gridplot takes a matrix of plots as its input</li>"
   ]
  },
  {
   "cell_type": "markdown",
   "metadata": {},
   "source": [
    "<br><br><br><br>\n",
    "<span style=\"color:blue;font-size:large\">Piecharts for all boroughs in a grid</span>\n",
    "<li>pyplot has a \"grid\" feature</li>\n",
    "<li>create grid specifications</li>\n",
    "<li>add charts to each grid cell (they could be of different types)</li>\n",
    "<li>We'll write a function that creates a piechart for each borough</li>"
   ]
  },
  {
   "cell_type": "code",
   "execution_count": 1,
   "metadata": {},
   "outputs": [],
   "source": [
    "def create_bokeh_pi(df,row):\n",
    "    from math import pi #Need this - a pie chart is a circle\n",
    "    import pandas as pd\n",
    "\n",
    "    from bokeh.palettes import Turbo256 #The color palette\n",
    "    from bokeh.models import LabelSet, ColumnDataSource\n",
    "    from bokeh.transform import cumsum #a bokeh function that cumulatively sums the angle column in a column data source\n",
    "    borough = row\n",
    "\n",
    "    #Create a dataframe with an Agency column and a value column for the borough\n",
    "    data = size_df.loc[borough].reset_index(name='value')\n",
    "\n",
    "    #We'll restrict the size of the string for Agencies. One Agency is way too long!\n",
    "    data['Agency'] = data['Agency'].str.slice(0,8)\n",
    "\n",
    "    #Calculate a percent column (the fraction of cases for each agency)\n",
    "    data['pct'] = (data['value']/sum(data['value'])*100).round(2)\n",
    "\n",
    "    #Calculate an angel column (the fraction of 360 degrees for each slice)\n",
    "    data['angle'] = data['pct']/(data['pct'].sum()) * 2*pi\n",
    "\n",
    "    #Specify the color palette\n",
    "    import random\n",
    "    colors = [Turbo256[random.randint(0,255)] for i in range(len(data))]\n",
    "    data['colors'] = colors\n",
    "\n",
    "    cdsdata = ColumnDataSource(data)\n",
    "\n",
    "    #Define a figure object\n",
    "    p = figure(height=350,\n",
    "                title=\"Cases by Agency: \" + borough, \n",
    "                tools=\"hover\", \n",
    "                tooltips=\"@Agency: @pct\", # get data from these columns from the source argument in p.wedge\n",
    "                x_range=(-0.5, 1.0)\n",
    "                )\n",
    "\n",
    "    #Add the definition of each wedge\n",
    "    #Each wedge, starting with 0 degrees, will be at the sum of the angles upto that wedge\n",
    "\n",
    "    p.wedge(x=0, y=1, radius=0.4, #x,y specifies the location of the center of the pie\n",
    "            start_angle=cumsum('angle', include_zero=True), end_angle=cumsum('angle'), #the start and end angle of each slice\n",
    "            line_color=\"white\", fill_color='colors', legend_field='Agency', source=cdsdata,) #source is our data (can be a df or a CDS)\n",
    "            \n",
    "    #Since there are way too many small slices, we'll only label slices with pct > 5\n",
    "    data[\"label_vals\"] = np.where(data[\"pct\"]>5,data[\"pct\"],0)                              \n",
    "    data[\"label_vals\"]=data[\"label_vals\"].astype(str).str.pad(20, side = \"left\") #pad will move the labels out toward the circumference\n",
    "    data[\"label_vals\"]=data[\"label_vals\"].apply(lambda x: \"\" if x.strip()==\"0.0\" else x)\n",
    "\n",
    "    #LabelSet is the set of labels. Either a value or nothing\n",
    "    labels = LabelSet(x=0, y=1, text='label_vals',\n",
    "            angle=cumsum('angle', include_zero=True), source=cdsdata)\n",
    "\n",
    "    #Add the labels\n",
    "    p.add_layout(labels)\n",
    "\n",
    "\n",
    "    p.axis.axis_label=None #Piechart. No axes\n",
    "    p.axis.visible=False #We don't want to see the axes\n",
    "    p.grid.grid_line_color = None #If you want grid lines, specify a color\n",
    "\n",
    "    #Show the chart\n",
    "    return p\n",
    "\n"
   ]
  },
  {
   "cell_type": "code",
   "execution_count": 35,
   "metadata": {},
   "outputs": [
    {
     "data": {
      "text/html": [
       "\n",
       "  <div id=\"d86c348a-33a4-4181-9d80-0f78202c3f93\" data-root-id=\"p1659\" style=\"display: contents;\"></div>\n"
      ]
     },
     "metadata": {},
     "output_type": "display_data"
    },
    {
     "data": {
      "application/javascript": "(function(root) {\n  function embed_document(root) {\n  const docs_json = {\"9ef9b2cd-162b-4d48-a27c-87f2b66d1782\":{\"version\":\"3.2.2\",\"title\":\"Bokeh Application\",\"roots\":[{\"type\":\"object\",\"name\":\"Figure\",\"id\":\"p1659\",\"attributes\":{\"height\":350,\"x_range\":{\"type\":\"object\",\"name\":\"Range1d\",\"id\":\"p1669\",\"attributes\":{\"start\":-0.5}},\"y_range\":{\"type\":\"object\",\"name\":\"DataRange1d\",\"id\":\"p1661\"},\"x_scale\":{\"type\":\"object\",\"name\":\"LinearScale\",\"id\":\"p1670\"},\"y_scale\":{\"type\":\"object\",\"name\":\"LinearScale\",\"id\":\"p1671\"},\"title\":{\"type\":\"object\",\"name\":\"Title\",\"id\":\"p1662\",\"attributes\":{\"text\":\"Cases by Agency: BRONX\"}},\"renderers\":[{\"type\":\"object\",\"name\":\"GlyphRenderer\",\"id\":\"p1691\",\"attributes\":{\"data_source\":{\"type\":\"object\",\"name\":\"ColumnDataSource\",\"id\":\"p1656\",\"attributes\":{\"selected\":{\"type\":\"object\",\"name\":\"Selection\",\"id\":\"p1657\",\"attributes\":{\"indices\":[],\"line_indices\":[]}},\"selection_policy\":{\"type\":\"object\",\"name\":\"UnionRenderers\",\"id\":\"p1658\"},\"data\":{\"type\":\"map\",\"entries\":[[\"index\",{\"type\":\"ndarray\",\"array\":{\"type\":\"bytes\",\"data\":\"AAAAAAEAAAACAAAAAwAAAAQAAAAFAAAABgAAAAcAAAAIAAAACQAAAAoAAAALAAAADAAAAA0AAAAOAAAADwAAABAAAAARAAAAEgAAABMAAAAUAAAAFQAAABYAAAA=\"},\"shape\":[23],\"dtype\":\"int32\",\"order\":\"little\"}],[\"Agency\",{\"type\":\"ndarray\",\"array\":[\"3-1-1\",\"DCA\",\"DCWP\",\"DEP\",\"DEPARTME\",\"DFTA\",\"DHS\",\"DOB\",\"DOE\",\"DOF\",\"DOHMH\",\"DOITT\",\"DOT\",\"DPR\",\"DSNY\",\"EDC\",\"HPD\",\"NYC311-P\",\"NYCEM\",\"NYPD\",\"OSE\",\"OTI\",\"TLC\"],\"shape\":[23],\"dtype\":\"object\",\"order\":\"little\"}],[\"value\",{\"type\":\"ndarray\",\"array\":{\"type\":\"bytes\",\"data\":\"AAAAAACgYEAAAAAAAAyxQAAAAAAAAFtAAAAAAMAN9kAAAAAAAAAsQAAAAAAAADlAAAAAAAB1tUAAAAAAUFX2QAAAAAAALKVAAAAAAAB4nUAAAAAAwLXuQAAAAAAA4GBAAAAAADgmCEEAAAAAABnrQAAAAACABxBBAAAAAACAXEAAAAAA5aQwQQAAAAAAgFFAAAAAAAAAEEAAAAAA8Io7QQAAAAAAB7dAAAAAAAAAJEAAAAAAAMypQA==\"},\"shape\":[23],\"dtype\":\"float64\",\"order\":\"little\"}],[\"pct\",{\"type\":\"ndarray\",\"array\":{\"type\":\"bytes\",\"data\":\"AAAAAAAAAAC4HoXrUbi+PwAAAAAAAAAAmpmZmZmZA0AAAAAAAAAAAAAAAAAAAAAAMzMzMzMzwz/sUbgehesDQOxRuB6F67E/mpmZmZmZqT9cj8L1KFz7PwAAAAAAAAAAexSuR+F6FUApXI/C9Sj4P4/C9ShcjxxAAAAAAAAAAADhehSuR6E9QAAAAAAAAAAAAAAAAAAAAACF61G4HoVIQHsUrkfhesQ/AAAAAAAAAAAK16NwPQq3Pw==\"},\"shape\":[23],\"dtype\":\"float64\",\"order\":\"little\"}],[\"angle\",{\"type\":\"ndarray\",\"array\":{\"type\":\"bytes\",\"data\":\"AAAAAAAAAADQ1xyHqON+PwAAAAAAAAAAshHfMEC1wz8AAAAAAAAAAAAAAAAAAAAA4gZyVElOgz/ys5xHnwfEP+V9e/nMBHI/2rNCG7e9aT82sFUYwoK7PwAAAAAAAAAA5yp51i6Z1T+7We00C0u4P6TQnK2mt9w/AAAAAAAAAAAo56ahFMv9PwAAAAAAAAAAAAAAAAAAAABCsIIutqcIQOGPaK/Fl4Q/AAAAAAAAAADdoVVlvip3Pw==\"},\"shape\":[23],\"dtype\":\"float64\",\"order\":\"little\"}],[\"colors\",{\"type\":\"ndarray\",\"array\":[\"#b41b01\",\"#d73606\",\"#18e1ba\",\"#21c4e1\",\"#c32402\",\"#e6490b\",\"#26bde9\",\"#fda631\",\"#c3f133\",\"#4df97c\",\"#4682f8\",\"#3e9bfe\",\"#424bb5\",\"#46f783\",\"#f7c039\",\"#bef334\",\"#4043a6\",\"#24eca6\",\"#3f98fe\",\"#c0f233\",\"#fd952b\",\"#4291fe\",\"#e84b0c\"],\"shape\":[23],\"dtype\":\"object\",\"order\":\"little\"}]]}}},\"view\":{\"type\":\"object\",\"name\":\"CDSView\",\"id\":\"p1692\",\"attributes\":{\"filter\":{\"type\":\"object\",\"name\":\"AllIndices\",\"id\":\"p1693\"}}},\"glyph\":{\"type\":\"object\",\"name\":\"Wedge\",\"id\":\"p1688\",\"attributes\":{\"x\":{\"type\":\"value\",\"value\":0},\"y\":{\"type\":\"value\",\"value\":1},\"radius\":{\"type\":\"value\",\"value\":0.4},\"start_angle\":{\"type\":\"expr\",\"expr\":{\"type\":\"object\",\"name\":\"CumSum\",\"id\":\"p1683\",\"attributes\":{\"field\":\"angle\",\"include_zero\":true}}},\"end_angle\":{\"type\":\"expr\",\"expr\":{\"type\":\"object\",\"name\":\"CumSum\",\"id\":\"p1684\",\"attributes\":{\"field\":\"angle\"}}},\"line_color\":{\"type\":\"value\",\"value\":\"white\"},\"fill_color\":{\"type\":\"field\",\"field\":\"colors\"}}},\"nonselection_glyph\":{\"type\":\"object\",\"name\":\"Wedge\",\"id\":\"p1689\",\"attributes\":{\"x\":{\"type\":\"value\",\"value\":0},\"y\":{\"type\":\"value\",\"value\":1},\"radius\":{\"type\":\"value\",\"value\":0.4},\"start_angle\":{\"type\":\"expr\",\"expr\":{\"id\":\"p1683\"}},\"end_angle\":{\"type\":\"expr\",\"expr\":{\"id\":\"p1684\"}},\"line_color\":{\"type\":\"value\",\"value\":\"white\"},\"line_alpha\":{\"type\":\"value\",\"value\":0.1},\"fill_color\":{\"type\":\"field\",\"field\":\"colors\"},\"fill_alpha\":{\"type\":\"value\",\"value\":0.1},\"hatch_alpha\":{\"type\":\"value\",\"value\":0.1}}},\"muted_glyph\":{\"type\":\"object\",\"name\":\"Wedge\",\"id\":\"p1690\",\"attributes\":{\"x\":{\"type\":\"value\",\"value\":0},\"y\":{\"type\":\"value\",\"value\":1},\"radius\":{\"type\":\"value\",\"value\":0.4},\"start_angle\":{\"type\":\"expr\",\"expr\":{\"id\":\"p1683\"}},\"end_angle\":{\"type\":\"expr\",\"expr\":{\"id\":\"p1684\"}},\"line_color\":{\"type\":\"value\",\"value\":\"white\"},\"line_alpha\":{\"type\":\"value\",\"value\":0.2},\"fill_color\":{\"type\":\"field\",\"field\":\"colors\"},\"fill_alpha\":{\"type\":\"value\",\"value\":0.2},\"hatch_alpha\":{\"type\":\"value\",\"value\":0.2}}}}}],\"toolbar\":{\"type\":\"object\",\"name\":\"Toolbar\",\"id\":\"p1668\",\"attributes\":{\"tools\":[{\"type\":\"object\",\"name\":\"HoverTool\",\"id\":\"p1682\",\"attributes\":{\"renderers\":\"auto\",\"tooltips\":\"@Agency: @pct\"}}]}},\"left\":[{\"type\":\"object\",\"name\":\"LinearAxis\",\"id\":\"p1677\",\"attributes\":{\"visible\":false,\"ticker\":{\"type\":\"object\",\"name\":\"BasicTicker\",\"id\":\"p1678\",\"attributes\":{\"mantissas\":[1,2,5]}},\"formatter\":{\"type\":\"object\",\"name\":\"BasicTickFormatter\",\"id\":\"p1679\"},\"major_label_policy\":{\"type\":\"object\",\"name\":\"AllLabels\",\"id\":\"p1680\"}}}],\"below\":[{\"type\":\"object\",\"name\":\"LinearAxis\",\"id\":\"p1672\",\"attributes\":{\"visible\":false,\"ticker\":{\"type\":\"object\",\"name\":\"BasicTicker\",\"id\":\"p1673\",\"attributes\":{\"mantissas\":[1,2,5]}},\"formatter\":{\"type\":\"object\",\"name\":\"BasicTickFormatter\",\"id\":\"p1674\"},\"major_label_policy\":{\"type\":\"object\",\"name\":\"AllLabels\",\"id\":\"p1675\"}}}],\"center\":[{\"type\":\"object\",\"name\":\"Grid\",\"id\":\"p1676\",\"attributes\":{\"axis\":{\"id\":\"p1672\"},\"grid_line_color\":null}},{\"type\":\"object\",\"name\":\"Grid\",\"id\":\"p1681\",\"attributes\":{\"dimension\":1,\"axis\":{\"id\":\"p1677\"},\"grid_line_color\":null}},{\"type\":\"object\",\"name\":\"Legend\",\"id\":\"p1694\",\"attributes\":{\"items\":[{\"type\":\"object\",\"name\":\"LegendItem\",\"id\":\"p1695\",\"attributes\":{\"label\":{\"type\":\"field\",\"field\":\"Agency\"},\"renderers\":[{\"id\":\"p1691\"}]}}]}},{\"type\":\"object\",\"name\":\"LabelSet\",\"id\":\"p1697\",\"attributes\":{\"source\":{\"id\":\"p1656\"},\"x\":{\"type\":\"value\",\"value\":0},\"y\":{\"type\":\"value\",\"value\":1},\"text\":{\"type\":\"field\",\"field\":\"label_vals\"},\"angle\":{\"type\":\"expr\",\"expr\":{\"type\":\"object\",\"name\":\"CumSum\",\"id\":\"p1696\",\"attributes\":{\"field\":\"angle\",\"include_zero\":true}}}}}]}}]}};\n  const render_items = [{\"docid\":\"9ef9b2cd-162b-4d48-a27c-87f2b66d1782\",\"roots\":{\"p1659\":\"d86c348a-33a4-4181-9d80-0f78202c3f93\"},\"root_ids\":[\"p1659\"]}];\n  root.Bokeh.embed.embed_items_notebook(docs_json, render_items);\n  }\n  if (root.Bokeh !== undefined) {\n    embed_document(root);\n  } else {\n    let attempts = 0;\n    const timer = setInterval(function(root) {\n      if (root.Bokeh !== undefined) {\n        clearInterval(timer);\n        embed_document(root);\n      } else {\n        attempts++;\n        if (attempts > 100) {\n          clearInterval(timer);\n          console.log(\"Bokeh: ERROR: Unable to run BokehJS code because BokehJS library is missing\");\n        }\n      }\n    }, 10, root)\n  }\n})(window);",
      "application/vnd.bokehjs_exec.v0+json": ""
     },
     "metadata": {
      "application/vnd.bokehjs_exec.v0+json": {
       "id": "p1659"
      }
     },
     "output_type": "display_data"
    }
   ],
   "source": [
    "show(create_bokeh_pi(size_df,\"BRONX\"))"
   ]
  },
  {
   "cell_type": "code",
   "execution_count": 36,
   "metadata": {},
   "outputs": [
    {
     "data": {
      "text/html": [
       "\n",
       "  <div id=\"b73d280e-703f-40b9-b22f-eb99236d2d31\" data-root-id=\"p1932\" style=\"display: contents;\"></div>\n"
      ]
     },
     "metadata": {},
     "output_type": "display_data"
    },
    {
     "data": {
      "application/javascript": "(function(root) {\n  function embed_document(root) {\n  const docs_json = {\"2ad3b7f2-25d1-459f-af95-45bcff0ceb19\":{\"version\":\"3.2.2\",\"title\":\"Bokeh Application\",\"roots\":[{\"type\":\"object\",\"name\":\"GridPlot\",\"id\":\"p1932\",\"attributes\":{\"rows\":null,\"cols\":null,\"sizing_mode\":\"scale_both\",\"toolbar\":{\"type\":\"object\",\"name\":\"Toolbar\",\"id\":\"p1931\",\"attributes\":{\"tools\":[{\"type\":\"object\",\"name\":\"ToolProxy\",\"id\":\"p1930\",\"attributes\":{\"tools\":[{\"type\":\"object\",\"name\":\"HoverTool\",\"id\":\"p1731\",\"attributes\":{\"renderers\":\"auto\",\"tooltips\":\"@Agency: @pct\"}},{\"type\":\"object\",\"name\":\"HoverTool\",\"id\":\"p1776\",\"attributes\":{\"renderers\":\"auto\",\"tooltips\":\"@Agency: @pct\"}},{\"type\":\"object\",\"name\":\"HoverTool\",\"id\":\"p1821\",\"attributes\":{\"renderers\":\"auto\",\"tooltips\":\"@Agency: @pct\"}},{\"type\":\"object\",\"name\":\"HoverTool\",\"id\":\"p1866\",\"attributes\":{\"renderers\":\"auto\",\"tooltips\":\"@Agency: @pct\"}},{\"type\":\"object\",\"name\":\"HoverTool\",\"id\":\"p1911\",\"attributes\":{\"renderers\":\"auto\",\"tooltips\":\"@Agency: @pct\"}}]}}]}},\"children\":[[{\"type\":\"object\",\"name\":\"Figure\",\"id\":\"p1708\",\"attributes\":{\"height\":350,\"sizing_mode\":\"scale_both\",\"x_range\":{\"type\":\"object\",\"name\":\"Range1d\",\"id\":\"p1718\",\"attributes\":{\"start\":-0.5}},\"y_range\":{\"type\":\"object\",\"name\":\"DataRange1d\",\"id\":\"p1710\"},\"x_scale\":{\"type\":\"object\",\"name\":\"LinearScale\",\"id\":\"p1719\"},\"y_scale\":{\"type\":\"object\",\"name\":\"LinearScale\",\"id\":\"p1720\"},\"title\":{\"type\":\"object\",\"name\":\"Title\",\"id\":\"p1711\",\"attributes\":{\"text\":\"Cases by Agency: BRONX\"}},\"renderers\":[{\"type\":\"object\",\"name\":\"GlyphRenderer\",\"id\":\"p1740\",\"attributes\":{\"data_source\":{\"type\":\"object\",\"name\":\"ColumnDataSource\",\"id\":\"p1705\",\"attributes\":{\"selected\":{\"type\":\"object\",\"name\":\"Selection\",\"id\":\"p1706\",\"attributes\":{\"indices\":[],\"line_indices\":[]}},\"selection_policy\":{\"type\":\"object\",\"name\":\"UnionRenderers\",\"id\":\"p1707\"},\"data\":{\"type\":\"map\",\"entries\":[[\"index\",{\"type\":\"ndarray\",\"array\":{\"type\":\"bytes\",\"data\":\"AAAAAAEAAAACAAAAAwAAAAQAAAAFAAAABgAAAAcAAAAIAAAACQAAAAoAAAALAAAADAAAAA0AAAAOAAAADwAAABAAAAARAAAAEgAAABMAAAAUAAAAFQAAABYAAAA=\"},\"shape\":[23],\"dtype\":\"int32\",\"order\":\"little\"}],[\"Agency\",{\"type\":\"ndarray\",\"array\":[\"3-1-1\",\"DCA\",\"DCWP\",\"DEP\",\"DEPARTME\",\"DFTA\",\"DHS\",\"DOB\",\"DOE\",\"DOF\",\"DOHMH\",\"DOITT\",\"DOT\",\"DPR\",\"DSNY\",\"EDC\",\"HPD\",\"NYC311-P\",\"NYCEM\",\"NYPD\",\"OSE\",\"OTI\",\"TLC\"],\"shape\":[23],\"dtype\":\"object\",\"order\":\"little\"}],[\"value\",{\"type\":\"ndarray\",\"array\":{\"type\":\"bytes\",\"data\":\"AAAAAACgYEAAAAAAAAyxQAAAAAAAAFtAAAAAAMAN9kAAAAAAAAAsQAAAAAAAADlAAAAAAAB1tUAAAAAAUFX2QAAAAAAALKVAAAAAAAB4nUAAAAAAwLXuQAAAAAAA4GBAAAAAADgmCEEAAAAAABnrQAAAAACABxBBAAAAAACAXEAAAAAA5aQwQQAAAAAAgFFAAAAAAAAAEEAAAAAA8Io7QQAAAAAAB7dAAAAAAAAAJEAAAAAAAMypQA==\"},\"shape\":[23],\"dtype\":\"float64\",\"order\":\"little\"}],[\"pct\",{\"type\":\"ndarray\",\"array\":{\"type\":\"bytes\",\"data\":\"AAAAAAAAAAC4HoXrUbi+PwAAAAAAAAAAmpmZmZmZA0AAAAAAAAAAAAAAAAAAAAAAMzMzMzMzwz/sUbgehesDQOxRuB6F67E/mpmZmZmZqT9cj8L1KFz7PwAAAAAAAAAAexSuR+F6FUApXI/C9Sj4P4/C9ShcjxxAAAAAAAAAAADhehSuR6E9QAAAAAAAAAAAAAAAAAAAAACF61G4HoVIQHsUrkfhesQ/AAAAAAAAAAAK16NwPQq3Pw==\"},\"shape\":[23],\"dtype\":\"float64\",\"order\":\"little\"}],[\"angle\",{\"type\":\"ndarray\",\"array\":{\"type\":\"bytes\",\"data\":\"AAAAAAAAAADQ1xyHqON+PwAAAAAAAAAAshHfMEC1wz8AAAAAAAAAAAAAAAAAAAAA4gZyVElOgz/ys5xHnwfEP+V9e/nMBHI/2rNCG7e9aT82sFUYwoK7PwAAAAAAAAAA5yp51i6Z1T+7We00C0u4P6TQnK2mt9w/AAAAAAAAAAAo56ahFMv9PwAAAAAAAAAAAAAAAAAAAABCsIIutqcIQOGPaK/Fl4Q/AAAAAAAAAADdoVVlvip3Pw==\"},\"shape\":[23],\"dtype\":\"float64\",\"order\":\"little\"}],[\"colors\",{\"type\":\"ndarray\",\"array\":[\"#fda631\",\"#9efd3e\",\"#38f491\",\"#e3440a\",\"#e7d738\",\"#bb1f01\",\"#78fe59\",\"#f3c63a\",\"#a6fb3a\",\"#8b0901\",\"#f76e1a\",\"#4af880\",\"#438efd\",\"#4040a1\",\"#21c4e1\",\"#1de7b1\",\"#e6490b\",\"#8efe48\",\"#fd952b\",\"#8b0901\",\"#9bfd40\",\"#fcae34\",\"#3c358b\"],\"shape\":[23],\"dtype\":\"object\",\"order\":\"little\"}]]}}},\"view\":{\"type\":\"object\",\"name\":\"CDSView\",\"id\":\"p1741\",\"attributes\":{\"filter\":{\"type\":\"object\",\"name\":\"AllIndices\",\"id\":\"p1742\"}}},\"glyph\":{\"type\":\"object\",\"name\":\"Wedge\",\"id\":\"p1737\",\"attributes\":{\"x\":{\"type\":\"value\",\"value\":0},\"y\":{\"type\":\"value\",\"value\":1},\"radius\":{\"type\":\"value\",\"value\":0.4},\"start_angle\":{\"type\":\"expr\",\"expr\":{\"type\":\"object\",\"name\":\"CumSum\",\"id\":\"p1732\",\"attributes\":{\"field\":\"angle\",\"include_zero\":true}}},\"end_angle\":{\"type\":\"expr\",\"expr\":{\"type\":\"object\",\"name\":\"CumSum\",\"id\":\"p1733\",\"attributes\":{\"field\":\"angle\"}}},\"line_color\":{\"type\":\"value\",\"value\":\"white\"},\"fill_color\":{\"type\":\"field\",\"field\":\"colors\"}}},\"nonselection_glyph\":{\"type\":\"object\",\"name\":\"Wedge\",\"id\":\"p1738\",\"attributes\":{\"x\":{\"type\":\"value\",\"value\":0},\"y\":{\"type\":\"value\",\"value\":1},\"radius\":{\"type\":\"value\",\"value\":0.4},\"start_angle\":{\"type\":\"expr\",\"expr\":{\"id\":\"p1732\"}},\"end_angle\":{\"type\":\"expr\",\"expr\":{\"id\":\"p1733\"}},\"line_color\":{\"type\":\"value\",\"value\":\"white\"},\"line_alpha\":{\"type\":\"value\",\"value\":0.1},\"fill_color\":{\"type\":\"field\",\"field\":\"colors\"},\"fill_alpha\":{\"type\":\"value\",\"value\":0.1},\"hatch_alpha\":{\"type\":\"value\",\"value\":0.1}}},\"muted_glyph\":{\"type\":\"object\",\"name\":\"Wedge\",\"id\":\"p1739\",\"attributes\":{\"x\":{\"type\":\"value\",\"value\":0},\"y\":{\"type\":\"value\",\"value\":1},\"radius\":{\"type\":\"value\",\"value\":0.4},\"start_angle\":{\"type\":\"expr\",\"expr\":{\"id\":\"p1732\"}},\"end_angle\":{\"type\":\"expr\",\"expr\":{\"id\":\"p1733\"}},\"line_color\":{\"type\":\"value\",\"value\":\"white\"},\"line_alpha\":{\"type\":\"value\",\"value\":0.2},\"fill_color\":{\"type\":\"field\",\"field\":\"colors\"},\"fill_alpha\":{\"type\":\"value\",\"value\":0.2},\"hatch_alpha\":{\"type\":\"value\",\"value\":0.2}}}}}],\"toolbar\":{\"type\":\"object\",\"name\":\"Toolbar\",\"id\":\"p1717\",\"attributes\":{\"tools\":[{\"id\":\"p1731\"}]}},\"toolbar_location\":null,\"left\":[{\"type\":\"object\",\"name\":\"LinearAxis\",\"id\":\"p1726\",\"attributes\":{\"visible\":false,\"ticker\":{\"type\":\"object\",\"name\":\"BasicTicker\",\"id\":\"p1727\",\"attributes\":{\"mantissas\":[1,2,5]}},\"formatter\":{\"type\":\"object\",\"name\":\"BasicTickFormatter\",\"id\":\"p1728\"},\"major_label_policy\":{\"type\":\"object\",\"name\":\"AllLabels\",\"id\":\"p1729\"}}}],\"below\":[{\"type\":\"object\",\"name\":\"LinearAxis\",\"id\":\"p1721\",\"attributes\":{\"visible\":false,\"ticker\":{\"type\":\"object\",\"name\":\"BasicTicker\",\"id\":\"p1722\",\"attributes\":{\"mantissas\":[1,2,5]}},\"formatter\":{\"type\":\"object\",\"name\":\"BasicTickFormatter\",\"id\":\"p1723\"},\"major_label_policy\":{\"type\":\"object\",\"name\":\"AllLabels\",\"id\":\"p1724\"}}}],\"center\":[{\"type\":\"object\",\"name\":\"Grid\",\"id\":\"p1725\",\"attributes\":{\"axis\":{\"id\":\"p1721\"},\"grid_line_color\":null}},{\"type\":\"object\",\"name\":\"Grid\",\"id\":\"p1730\",\"attributes\":{\"dimension\":1,\"axis\":{\"id\":\"p1726\"},\"grid_line_color\":null}},{\"type\":\"object\",\"name\":\"Legend\",\"id\":\"p1743\",\"attributes\":{\"items\":[{\"type\":\"object\",\"name\":\"LegendItem\",\"id\":\"p1744\",\"attributes\":{\"label\":{\"type\":\"field\",\"field\":\"Agency\"},\"renderers\":[{\"id\":\"p1740\"}]}}]}},{\"type\":\"object\",\"name\":\"LabelSet\",\"id\":\"p1746\",\"attributes\":{\"source\":{\"id\":\"p1705\"},\"x\":{\"type\":\"value\",\"value\":0},\"y\":{\"type\":\"value\",\"value\":1},\"text\":{\"type\":\"field\",\"field\":\"label_vals\"},\"angle\":{\"type\":\"expr\",\"expr\":{\"type\":\"object\",\"name\":\"CumSum\",\"id\":\"p1745\",\"attributes\":{\"field\":\"angle\",\"include_zero\":true}}}}}]}},0,0],[{\"type\":\"object\",\"name\":\"Figure\",\"id\":\"p1753\",\"attributes\":{\"height\":350,\"sizing_mode\":\"scale_both\",\"x_range\":{\"type\":\"object\",\"name\":\"Range1d\",\"id\":\"p1763\",\"attributes\":{\"start\":-0.5}},\"y_range\":{\"type\":\"object\",\"name\":\"DataRange1d\",\"id\":\"p1755\"},\"x_scale\":{\"type\":\"object\",\"name\":\"LinearScale\",\"id\":\"p1764\"},\"y_scale\":{\"type\":\"object\",\"name\":\"LinearScale\",\"id\":\"p1765\"},\"title\":{\"type\":\"object\",\"name\":\"Title\",\"id\":\"p1756\",\"attributes\":{\"text\":\"Cases by Agency: BROOKLYN\"}},\"renderers\":[{\"type\":\"object\",\"name\":\"GlyphRenderer\",\"id\":\"p1785\",\"attributes\":{\"data_source\":{\"type\":\"object\",\"name\":\"ColumnDataSource\",\"id\":\"p1750\",\"attributes\":{\"selected\":{\"type\":\"object\",\"name\":\"Selection\",\"id\":\"p1751\",\"attributes\":{\"indices\":[],\"line_indices\":[]}},\"selection_policy\":{\"type\":\"object\",\"name\":\"UnionRenderers\",\"id\":\"p1752\"},\"data\":{\"type\":\"map\",\"entries\":[[\"index\",{\"type\":\"ndarray\",\"array\":{\"type\":\"bytes\",\"data\":\"AAAAAAEAAAACAAAAAwAAAAQAAAAFAAAABgAAAAcAAAAIAAAACQAAAAoAAAALAAAADAAAAA0AAAAOAAAADwAAABAAAAARAAAAEgAAABMAAAAUAAAAFQAAABYAAAA=\"},\"shape\":[23],\"dtype\":\"int32\",\"order\":\"little\"}],[\"Agency\",{\"type\":\"ndarray\",\"array\":[\"3-1-1\",\"DCA\",\"DCWP\",\"DEP\",\"DEPARTME\",\"DFTA\",\"DHS\",\"DOB\",\"DOE\",\"DOF\",\"DOHMH\",\"DOITT\",\"DOT\",\"DPR\",\"DSNY\",\"EDC\",\"HPD\",\"NYC311-P\",\"NYCEM\",\"NYPD\",\"OSE\",\"OTI\",\"TLC\"],\"shape\":[23],\"dtype\":\"object\",\"order\":\"little\"}],[\"value\",{\"type\":\"ndarray\",\"array\":{\"type\":\"bytes\",\"data\":\"AAAAAABAa0AAAAAAAOC7QAAAAAAAoGdAAAAAACjSA0EAAAAAAAA3QAAAAAAAgERAAAAAAICG1EAAAAAA4GQLQQAAAAAA9qhAAAAAAAD6rEAAAAAAIP/8QAAAAAAAYG9AAAAAAOwhHEEAAAAAYIgFQQAAAABsRS5BAAAAAABElUAAAAAAIBsvQQAAAAAAgGxAAAAAAAAAJEAAAACAVChDQQAAAAAAMtFAAAAAAAAAM0AAAAAAgOHFQA==\"},\"shape\":[23],\"dtype\":\"float64\",\"order\":\"little\"}],[\"pct\",{\"type\":\"ndarray\",\"array\":{\"type\":\"bytes\",\"data\":\"AAAAAAAAAAC4HoXrUbi+PwAAAAAAAAAApHA9CtejBkAAAAAAAAAAAAAAAAAAAAAArkfhehSu1z9cj8L1KFwPQLgehetRuK4/uB6F61G4rj+PwvUoXI8AQAAAAAAAAAAAFK5H4XoUIECkcD0K16MIQI/C9ShcTzFAexSuR+F6lD9I4XoUrscxQAAAAAAAAAAAAAAAAAAAAABI4XoUrudFQNejcD0K19M/AAAAAAAAAACamZmZmZnJPw==\"},\"shape\":[23],\"dtype\":\"float64\",\"order\":\"little\"}],[\"angle\",{\"type\":\"ndarray\",\"array\":{\"type\":\"bytes\",\"data\":\"AAAAAAAAAADQ1xyHqON+PwAAAAAAAAAADJfoiMfDxj8AAAAAAAAAAAAAAAAAAAAAWubQknzPlz9PHJi0ZojPP9DXHIeo424/0Ncch6jjbj9VjNXYuKbAPwAAAAAAAAAA9hi5Nior4D8azQnXmcbIP5sAIrbHZ/E/4I9or8WXVD/ohohfw+DxPwAAAAAAAAAAAAAAAAAAAABjBq0glQYGQGFL7YEH85M/AAAAAAAAAADYs0Ibt72JPw==\"},\"shape\":[23],\"dtype\":\"float64\",\"order\":\"little\"}],[\"colors\",{\"type\":\"ndarray\",\"array\":[\"#1ad1d2\",\"#f6c23a\",\"#a1fc3d\",\"#25c0e6\",\"#d02f04\",\"#d4e735\",\"#26bde9\",\"#ed550f\",\"#19e3b8\",\"#4678f0\",\"#4668e0\",\"#b91e01\",\"#8b0901\",\"#69fd65\",\"#467af2\",\"#4675ed\",\"#f15d13\",\"#22eba9\",\"#78fe59\",\"#ce2d04\",\"#b1f836\",\"#b9f534\",\"#18e1ba\"],\"shape\":[23],\"dtype\":\"object\",\"order\":\"little\"}]]}}},\"view\":{\"type\":\"object\",\"name\":\"CDSView\",\"id\":\"p1786\",\"attributes\":{\"filter\":{\"type\":\"object\",\"name\":\"AllIndices\",\"id\":\"p1787\"}}},\"glyph\":{\"type\":\"object\",\"name\":\"Wedge\",\"id\":\"p1782\",\"attributes\":{\"x\":{\"type\":\"value\",\"value\":0},\"y\":{\"type\":\"value\",\"value\":1},\"radius\":{\"type\":\"value\",\"value\":0.4},\"start_angle\":{\"type\":\"expr\",\"expr\":{\"type\":\"object\",\"name\":\"CumSum\",\"id\":\"p1777\",\"attributes\":{\"field\":\"angle\",\"include_zero\":true}}},\"end_angle\":{\"type\":\"expr\",\"expr\":{\"type\":\"object\",\"name\":\"CumSum\",\"id\":\"p1778\",\"attributes\":{\"field\":\"angle\"}}},\"line_color\":{\"type\":\"value\",\"value\":\"white\"},\"fill_color\":{\"type\":\"field\",\"field\":\"colors\"}}},\"nonselection_glyph\":{\"type\":\"object\",\"name\":\"Wedge\",\"id\":\"p1783\",\"attributes\":{\"x\":{\"type\":\"value\",\"value\":0},\"y\":{\"type\":\"value\",\"value\":1},\"radius\":{\"type\":\"value\",\"value\":0.4},\"start_angle\":{\"type\":\"expr\",\"expr\":{\"id\":\"p1777\"}},\"end_angle\":{\"type\":\"expr\",\"expr\":{\"id\":\"p1778\"}},\"line_color\":{\"type\":\"value\",\"value\":\"white\"},\"line_alpha\":{\"type\":\"value\",\"value\":0.1},\"fill_color\":{\"type\":\"field\",\"field\":\"colors\"},\"fill_alpha\":{\"type\":\"value\",\"value\":0.1},\"hatch_alpha\":{\"type\":\"value\",\"value\":0.1}}},\"muted_glyph\":{\"type\":\"object\",\"name\":\"Wedge\",\"id\":\"p1784\",\"attributes\":{\"x\":{\"type\":\"value\",\"value\":0},\"y\":{\"type\":\"value\",\"value\":1},\"radius\":{\"type\":\"value\",\"value\":0.4},\"start_angle\":{\"type\":\"expr\",\"expr\":{\"id\":\"p1777\"}},\"end_angle\":{\"type\":\"expr\",\"expr\":{\"id\":\"p1778\"}},\"line_color\":{\"type\":\"value\",\"value\":\"white\"},\"line_alpha\":{\"type\":\"value\",\"value\":0.2},\"fill_color\":{\"type\":\"field\",\"field\":\"colors\"},\"fill_alpha\":{\"type\":\"value\",\"value\":0.2},\"hatch_alpha\":{\"type\":\"value\",\"value\":0.2}}}}}],\"toolbar\":{\"type\":\"object\",\"name\":\"Toolbar\",\"id\":\"p1762\",\"attributes\":{\"tools\":[{\"id\":\"p1776\"}]}},\"toolbar_location\":null,\"left\":[{\"type\":\"object\",\"name\":\"LinearAxis\",\"id\":\"p1771\",\"attributes\":{\"visible\":false,\"ticker\":{\"type\":\"object\",\"name\":\"BasicTicker\",\"id\":\"p1772\",\"attributes\":{\"mantissas\":[1,2,5]}},\"formatter\":{\"type\":\"object\",\"name\":\"BasicTickFormatter\",\"id\":\"p1773\"},\"major_label_policy\":{\"type\":\"object\",\"name\":\"AllLabels\",\"id\":\"p1774\"}}}],\"below\":[{\"type\":\"object\",\"name\":\"LinearAxis\",\"id\":\"p1766\",\"attributes\":{\"visible\":false,\"ticker\":{\"type\":\"object\",\"name\":\"BasicTicker\",\"id\":\"p1767\",\"attributes\":{\"mantissas\":[1,2,5]}},\"formatter\":{\"type\":\"object\",\"name\":\"BasicTickFormatter\",\"id\":\"p1768\"},\"major_label_policy\":{\"type\":\"object\",\"name\":\"AllLabels\",\"id\":\"p1769\"}}}],\"center\":[{\"type\":\"object\",\"name\":\"Grid\",\"id\":\"p1770\",\"attributes\":{\"axis\":{\"id\":\"p1766\"},\"grid_line_color\":null}},{\"type\":\"object\",\"name\":\"Grid\",\"id\":\"p1775\",\"attributes\":{\"dimension\":1,\"axis\":{\"id\":\"p1771\"},\"grid_line_color\":null}},{\"type\":\"object\",\"name\":\"Legend\",\"id\":\"p1788\",\"attributes\":{\"items\":[{\"type\":\"object\",\"name\":\"LegendItem\",\"id\":\"p1789\",\"attributes\":{\"label\":{\"type\":\"field\",\"field\":\"Agency\"},\"renderers\":[{\"id\":\"p1785\"}]}}]}},{\"type\":\"object\",\"name\":\"LabelSet\",\"id\":\"p1791\",\"attributes\":{\"source\":{\"id\":\"p1750\"},\"x\":{\"type\":\"value\",\"value\":0},\"y\":{\"type\":\"value\",\"value\":1},\"text\":{\"type\":\"field\",\"field\":\"label_vals\"},\"angle\":{\"type\":\"expr\",\"expr\":{\"type\":\"object\",\"name\":\"CumSum\",\"id\":\"p1790\",\"attributes\":{\"field\":\"angle\",\"include_zero\":true}}}}}]}},0,1],[{\"type\":\"object\",\"name\":\"Figure\",\"id\":\"p1798\",\"attributes\":{\"height\":350,\"sizing_mode\":\"scale_both\",\"x_range\":{\"type\":\"object\",\"name\":\"Range1d\",\"id\":\"p1808\",\"attributes\":{\"start\":-0.5}},\"y_range\":{\"type\":\"object\",\"name\":\"DataRange1d\",\"id\":\"p1800\"},\"x_scale\":{\"type\":\"object\",\"name\":\"LinearScale\",\"id\":\"p1809\"},\"y_scale\":{\"type\":\"object\",\"name\":\"LinearScale\",\"id\":\"p1810\"},\"title\":{\"type\":\"object\",\"name\":\"Title\",\"id\":\"p1801\",\"attributes\":{\"text\":\"Cases by Agency: MANHATTAN\"}},\"renderers\":[{\"type\":\"object\",\"name\":\"GlyphRenderer\",\"id\":\"p1830\",\"attributes\":{\"data_source\":{\"type\":\"object\",\"name\":\"ColumnDataSource\",\"id\":\"p1795\",\"attributes\":{\"selected\":{\"type\":\"object\",\"name\":\"Selection\",\"id\":\"p1796\",\"attributes\":{\"indices\":[],\"line_indices\":[]}},\"selection_policy\":{\"type\":\"object\",\"name\":\"UnionRenderers\",\"id\":\"p1797\"},\"data\":{\"type\":\"map\",\"entries\":[[\"index\",{\"type\":\"ndarray\",\"array\":{\"type\":\"bytes\",\"data\":\"AAAAAAEAAAACAAAAAwAAAAQAAAAFAAAABgAAAAcAAAAIAAAACQAAAAoAAAALAAAADAAAAA0AAAAOAAAADwAAABAAAAARAAAAEgAAABMAAAAUAAAAFQAAABYAAAA=\"},\"shape\":[23],\"dtype\":\"int32\",\"order\":\"little\"}],[\"Agency\",{\"type\":\"ndarray\",\"array\":[\"3-1-1\",\"DCA\",\"DCWP\",\"DEP\",\"DEPARTME\",\"DFTA\",\"DHS\",\"DOB\",\"DOE\",\"DOF\",\"DOHMH\",\"DOITT\",\"DOT\",\"DPR\",\"DSNY\",\"EDC\",\"HPD\",\"NYC311-P\",\"NYCEM\",\"NYPD\",\"OSE\",\"OTI\",\"TLC\"],\"shape\":[23],\"dtype\":\"object\",\"order\":\"little\"}],[\"value\",{\"type\":\"ndarray\",\"array\":{\"type\":\"bytes\",\"data\":\"AAAAAACgaUAAAAAAAE24QAAAAAAAoGhAAAAAAEiIAUEAAAAAAAA3QAAAAAAAgENAAAAAAJBw9kAAAAAAoD0CQQAAAAAA8KdAAAAAAACupEAAAAAAwG31QAAAAAAAYI5AAAAAACChCkEAAAAA4LjuQAAAAAA4bBJBAAAAAIAgw0AAAAAA0gYmQQAAAAAAAFBAAAAAAAAACEAAAAAA1vg4QQAAAABAxNBAAAAAAACAQ0AAAAAAwK7jQA==\"},\"shape\":[23],\"dtype\":\"float64\",\"order\":\"little\"}],[\"pct\",{\"type\":\"ndarray\",\"array\":{\"type\":\"bytes\",\"data\":\"exSuR+F6hD8K16NwPQrHP3sUrkfheoQ/cT0K16NwEEAAAAAAAAAAAAAAAAAAAAAACtejcD0KBUAfhetRuB4RQArXo3A9Crc/exSuR+F6tD8UrkfhehQEQLgehetRuJ4/9ihcj8L1GEDNzMzMzMz8P0jhehSuRyFA7FG4HoXr0T9mZmZmZqY0QAAAAAAAAAAAAAAAAAAAAAAK16NwPWpHQFyPwvUoXN8/AAAAAAAAAABmZmZmZmbyPw==\"},\"shape\":[23],\"dtype\":\"float64\",\"order\":\"little\"}],[\"angle\",{\"type\":\"ndarray\",\"array\":{\"type\":\"bytes\",\"data\":\"VFuD2jCWRD+/xtP19iiHP1Rbg9owlkQ/0HFoN5CG0D8AAAAAAAAAAAAAAAAAAAAA0/J8MEwmxT9ZzqnWjDXRP7/G0/X2KHc/VFuD2jCWdD+Myj7mQS/EP/4IxUdJ4V4/TxdQigsX2T9vuEizNPO8PxDVXji5XuE/6u8yv2oDkj93slMC8MH0PwAAAAAAAAAAAAAAAAAAAAB7DtT6dokHQNkjmc76hZ8/AAAAAAAAAAANBFLk736yPw==\"},\"shape\":[23],\"dtype\":\"float64\",\"order\":\"little\"}],[\"colors\",{\"type\":\"ndarray\",\"array\":[\"#c0f233\",\"#65fc68\",\"#25c0e6\",\"#db3a07\",\"#f6c23a\",\"#455ed2\",\"#4353c2\",\"#f6c23a\",\"#fdab33\",\"#f76e1a\",\"#455bce\",\"#a61401\",\"#311542\",\"#f0cb3a\",\"#ed550f\",\"#fbb336\",\"#7cfe56\",\"#4666dd\",\"#5dfb6f\",\"#cb2b03\",\"#b1f836\",\"#19d3cf\",\"#a9fb39\"],\"shape\":[23],\"dtype\":\"object\",\"order\":\"little\"}]]}}},\"view\":{\"type\":\"object\",\"name\":\"CDSView\",\"id\":\"p1831\",\"attributes\":{\"filter\":{\"type\":\"object\",\"name\":\"AllIndices\",\"id\":\"p1832\"}}},\"glyph\":{\"type\":\"object\",\"name\":\"Wedge\",\"id\":\"p1827\",\"attributes\":{\"x\":{\"type\":\"value\",\"value\":0},\"y\":{\"type\":\"value\",\"value\":1},\"radius\":{\"type\":\"value\",\"value\":0.4},\"start_angle\":{\"type\":\"expr\",\"expr\":{\"type\":\"object\",\"name\":\"CumSum\",\"id\":\"p1822\",\"attributes\":{\"field\":\"angle\",\"include_zero\":true}}},\"end_angle\":{\"type\":\"expr\",\"expr\":{\"type\":\"object\",\"name\":\"CumSum\",\"id\":\"p1823\",\"attributes\":{\"field\":\"angle\"}}},\"line_color\":{\"type\":\"value\",\"value\":\"white\"},\"fill_color\":{\"type\":\"field\",\"field\":\"colors\"}}},\"nonselection_glyph\":{\"type\":\"object\",\"name\":\"Wedge\",\"id\":\"p1828\",\"attributes\":{\"x\":{\"type\":\"value\",\"value\":0},\"y\":{\"type\":\"value\",\"value\":1},\"radius\":{\"type\":\"value\",\"value\":0.4},\"start_angle\":{\"type\":\"expr\",\"expr\":{\"id\":\"p1822\"}},\"end_angle\":{\"type\":\"expr\",\"expr\":{\"id\":\"p1823\"}},\"line_color\":{\"type\":\"value\",\"value\":\"white\"},\"line_alpha\":{\"type\":\"value\",\"value\":0.1},\"fill_color\":{\"type\":\"field\",\"field\":\"colors\"},\"fill_alpha\":{\"type\":\"value\",\"value\":0.1},\"hatch_alpha\":{\"type\":\"value\",\"value\":0.1}}},\"muted_glyph\":{\"type\":\"object\",\"name\":\"Wedge\",\"id\":\"p1829\",\"attributes\":{\"x\":{\"type\":\"value\",\"value\":0},\"y\":{\"type\":\"value\",\"value\":1},\"radius\":{\"type\":\"value\",\"value\":0.4},\"start_angle\":{\"type\":\"expr\",\"expr\":{\"id\":\"p1822\"}},\"end_angle\":{\"type\":\"expr\",\"expr\":{\"id\":\"p1823\"}},\"line_color\":{\"type\":\"value\",\"value\":\"white\"},\"line_alpha\":{\"type\":\"value\",\"value\":0.2},\"fill_color\":{\"type\":\"field\",\"field\":\"colors\"},\"fill_alpha\":{\"type\":\"value\",\"value\":0.2},\"hatch_alpha\":{\"type\":\"value\",\"value\":0.2}}}}}],\"toolbar\":{\"type\":\"object\",\"name\":\"Toolbar\",\"id\":\"p1807\",\"attributes\":{\"tools\":[{\"id\":\"p1821\"}]}},\"toolbar_location\":null,\"left\":[{\"type\":\"object\",\"name\":\"LinearAxis\",\"id\":\"p1816\",\"attributes\":{\"visible\":false,\"ticker\":{\"type\":\"object\",\"name\":\"BasicTicker\",\"id\":\"p1817\",\"attributes\":{\"mantissas\":[1,2,5]}},\"formatter\":{\"type\":\"object\",\"name\":\"BasicTickFormatter\",\"id\":\"p1818\"},\"major_label_policy\":{\"type\":\"object\",\"name\":\"AllLabels\",\"id\":\"p1819\"}}}],\"below\":[{\"type\":\"object\",\"name\":\"LinearAxis\",\"id\":\"p1811\",\"attributes\":{\"visible\":false,\"ticker\":{\"type\":\"object\",\"name\":\"BasicTicker\",\"id\":\"p1812\",\"attributes\":{\"mantissas\":[1,2,5]}},\"formatter\":{\"type\":\"object\",\"name\":\"BasicTickFormatter\",\"id\":\"p1813\"},\"major_label_policy\":{\"type\":\"object\",\"name\":\"AllLabels\",\"id\":\"p1814\"}}}],\"center\":[{\"type\":\"object\",\"name\":\"Grid\",\"id\":\"p1815\",\"attributes\":{\"axis\":{\"id\":\"p1811\"},\"grid_line_color\":null}},{\"type\":\"object\",\"name\":\"Grid\",\"id\":\"p1820\",\"attributes\":{\"dimension\":1,\"axis\":{\"id\":\"p1816\"},\"grid_line_color\":null}},{\"type\":\"object\",\"name\":\"Legend\",\"id\":\"p1833\",\"attributes\":{\"items\":[{\"type\":\"object\",\"name\":\"LegendItem\",\"id\":\"p1834\",\"attributes\":{\"label\":{\"type\":\"field\",\"field\":\"Agency\"},\"renderers\":[{\"id\":\"p1830\"}]}}]}},{\"type\":\"object\",\"name\":\"LabelSet\",\"id\":\"p1836\",\"attributes\":{\"source\":{\"id\":\"p1795\"},\"x\":{\"type\":\"value\",\"value\":0},\"y\":{\"type\":\"value\",\"value\":1},\"text\":{\"type\":\"field\",\"field\":\"label_vals\"},\"angle\":{\"type\":\"expr\",\"expr\":{\"type\":\"object\",\"name\":\"CumSum\",\"id\":\"p1835\",\"attributes\":{\"field\":\"angle\",\"include_zero\":true}}}}}]}},1,0],[{\"type\":\"object\",\"name\":\"Figure\",\"id\":\"p1843\",\"attributes\":{\"height\":350,\"sizing_mode\":\"scale_both\",\"x_range\":{\"type\":\"object\",\"name\":\"Range1d\",\"id\":\"p1853\",\"attributes\":{\"start\":-0.5}},\"y_range\":{\"type\":\"object\",\"name\":\"DataRange1d\",\"id\":\"p1845\"},\"x_scale\":{\"type\":\"object\",\"name\":\"LinearScale\",\"id\":\"p1854\"},\"y_scale\":{\"type\":\"object\",\"name\":\"LinearScale\",\"id\":\"p1855\"},\"title\":{\"type\":\"object\",\"name\":\"Title\",\"id\":\"p1846\",\"attributes\":{\"text\":\"Cases by Agency: QUEENS\"}},\"renderers\":[{\"type\":\"object\",\"name\":\"GlyphRenderer\",\"id\":\"p1875\",\"attributes\":{\"data_source\":{\"type\":\"object\",\"name\":\"ColumnDataSource\",\"id\":\"p1840\",\"attributes\":{\"selected\":{\"type\":\"object\",\"name\":\"Selection\",\"id\":\"p1841\",\"attributes\":{\"indices\":[],\"line_indices\":[]}},\"selection_policy\":{\"type\":\"object\",\"name\":\"UnionRenderers\",\"id\":\"p1842\"},\"data\":{\"type\":\"map\",\"entries\":[[\"index\",{\"type\":\"ndarray\",\"array\":{\"type\":\"bytes\",\"data\":\"AAAAAAEAAAACAAAAAwAAAAQAAAAFAAAABgAAAAcAAAAIAAAACQAAAAoAAAALAAAADAAAAA0AAAAOAAAADwAAABAAAAARAAAAEgAAABMAAAAUAAAAFQAAABYAAAA=\"},\"shape\":[23],\"dtype\":\"int32\",\"order\":\"little\"}],[\"Agency\",{\"type\":\"ndarray\",\"array\":[\"3-1-1\",\"DCA\",\"DCWP\",\"DEP\",\"DEPARTME\",\"DFTA\",\"DHS\",\"DOB\",\"DOE\",\"DOF\",\"DOHMH\",\"DOITT\",\"DOT\",\"DPR\",\"DSNY\",\"EDC\",\"HPD\",\"NYC311-P\",\"NYCEM\",\"NYPD\",\"OSE\",\"OTI\",\"TLC\"],\"shape\":[23],\"dtype\":\"object\",\"order\":\"little\"}],[\"value\",{\"type\":\"ndarray\",\"array\":{\"type\":\"bytes\",\"data\":\"AAAAAACgZEAAAAAAADu6QAAAAAAAIGdAAAAAACDbAUEAAAAAAABAQAAAAAAAADJAAAAAAIA5xkAAAAAAWH0EQQAAAAAAqqRAAAAAAAAUrkAAAAAA0MrwQAAAAAAAoGdAAAAAAFjrHkEAAAAAUMsGQQAAAAB+YilBAAAAAACcoUAAAAAANKwXQQAAAAAAIHJAAAAAAAAAOUAAAAAAE3ZAQQAAAACAV8tAAAAAAAAAOEAAAAAAAFvFQA==\"},\"shape\":[23],\"dtype\":\"float64\",\"order\":\"little\"}],[\"pct\",{\"type\":\"ndarray\",\"array\":{\"type\":\"bytes\",\"data\":\"AAAAAAAAAAAzMzMzMzPDPwAAAAAAAAAAAAAAAAAACkAAAAAAAAAAAAAAAAAAAAAAAAAAAAAA0D/D9Shcj8INQLgehetRuK4/CtejcD0Ktz97FK5H4Xr4PwAAAAAAAAAAexSuR+F6JkCPwvUoXI8QQPYoXI/CdTJAmpmZmZmZqT+4HoXrUTghQHsUrkfheoQ/AAAAAAAAAABxPQrXo/BHQNejcD0K19M/AAAAAAAAAAC4HoXrUbjOPw==\"},\"shape\":[23],\"dtype\":\"float64\",\"order\":\"little\"}],[\"angle\",{\"type\":\"ndarray\",\"array\":{\"type\":\"bytes\",\"data\":\"AAAAAAAAAABKC3DLyk2DPwAAAAAAAAAA9LknngIkyj8AAAAAAAAAAAAAAAAAAAAAvV7d/igWkD/md7ohx+vNP9zeTBLe4m4/JKe5jSYqdz+XQZX2yJy4PwAAAAAAAAAAwJW51gOa5j8icN21S6bQP5aGVMdTj/I/YmSVZA69aT/sFkJ7K1DhP+jp3bY+l0Q/AAAAAAAAAACt50IPzBEIQJn6JsGE8pM/AAAAAAAAAADc3kwS3uKOPw==\"},\"shape\":[23],\"dtype\":\"float64\",\"order\":\"little\"}],[\"colors\",{\"type\":\"ndarray\",\"array\":[\"#7cfe56\",\"#810602\",\"#3e3a96\",\"#ef5a11\",\"#1ccdd7\",\"#424bb5\",\"#42f687\",\"#caed33\",\"#9d1001\",\"#fda932\",\"#ed550f\",\"#372365\",\"#30123b\",\"#1ccdd7\",\"#d63405\",\"#4458cb\",\"#cdeb34\",\"#9efd3e\",\"#455ed2\",\"#95fe44\",\"#2db4f1\",\"#7cfe56\",\"#55fa76\"],\"shape\":[23],\"dtype\":\"object\",\"order\":\"little\"}]]}}},\"view\":{\"type\":\"object\",\"name\":\"CDSView\",\"id\":\"p1876\",\"attributes\":{\"filter\":{\"type\":\"object\",\"name\":\"AllIndices\",\"id\":\"p1877\"}}},\"glyph\":{\"type\":\"object\",\"name\":\"Wedge\",\"id\":\"p1872\",\"attributes\":{\"x\":{\"type\":\"value\",\"value\":0},\"y\":{\"type\":\"value\",\"value\":1},\"radius\":{\"type\":\"value\",\"value\":0.4},\"start_angle\":{\"type\":\"expr\",\"expr\":{\"type\":\"object\",\"name\":\"CumSum\",\"id\":\"p1867\",\"attributes\":{\"field\":\"angle\",\"include_zero\":true}}},\"end_angle\":{\"type\":\"expr\",\"expr\":{\"type\":\"object\",\"name\":\"CumSum\",\"id\":\"p1868\",\"attributes\":{\"field\":\"angle\"}}},\"line_color\":{\"type\":\"value\",\"value\":\"white\"},\"fill_color\":{\"type\":\"field\",\"field\":\"colors\"}}},\"nonselection_glyph\":{\"type\":\"object\",\"name\":\"Wedge\",\"id\":\"p1873\",\"attributes\":{\"x\":{\"type\":\"value\",\"value\":0},\"y\":{\"type\":\"value\",\"value\":1},\"radius\":{\"type\":\"value\",\"value\":0.4},\"start_angle\":{\"type\":\"expr\",\"expr\":{\"id\":\"p1867\"}},\"end_angle\":{\"type\":\"expr\",\"expr\":{\"id\":\"p1868\"}},\"line_color\":{\"type\":\"value\",\"value\":\"white\"},\"line_alpha\":{\"type\":\"value\",\"value\":0.1},\"fill_color\":{\"type\":\"field\",\"field\":\"colors\"},\"fill_alpha\":{\"type\":\"value\",\"value\":0.1},\"hatch_alpha\":{\"type\":\"value\",\"value\":0.1}}},\"muted_glyph\":{\"type\":\"object\",\"name\":\"Wedge\",\"id\":\"p1874\",\"attributes\":{\"x\":{\"type\":\"value\",\"value\":0},\"y\":{\"type\":\"value\",\"value\":1},\"radius\":{\"type\":\"value\",\"value\":0.4},\"start_angle\":{\"type\":\"expr\",\"expr\":{\"id\":\"p1867\"}},\"end_angle\":{\"type\":\"expr\",\"expr\":{\"id\":\"p1868\"}},\"line_color\":{\"type\":\"value\",\"value\":\"white\"},\"line_alpha\":{\"type\":\"value\",\"value\":0.2},\"fill_color\":{\"type\":\"field\",\"field\":\"colors\"},\"fill_alpha\":{\"type\":\"value\",\"value\":0.2},\"hatch_alpha\":{\"type\":\"value\",\"value\":0.2}}}}}],\"toolbar\":{\"type\":\"object\",\"name\":\"Toolbar\",\"id\":\"p1852\",\"attributes\":{\"tools\":[{\"id\":\"p1866\"}]}},\"toolbar_location\":null,\"left\":[{\"type\":\"object\",\"name\":\"LinearAxis\",\"id\":\"p1861\",\"attributes\":{\"visible\":false,\"ticker\":{\"type\":\"object\",\"name\":\"BasicTicker\",\"id\":\"p1862\",\"attributes\":{\"mantissas\":[1,2,5]}},\"formatter\":{\"type\":\"object\",\"name\":\"BasicTickFormatter\",\"id\":\"p1863\"},\"major_label_policy\":{\"type\":\"object\",\"name\":\"AllLabels\",\"id\":\"p1864\"}}}],\"below\":[{\"type\":\"object\",\"name\":\"LinearAxis\",\"id\":\"p1856\",\"attributes\":{\"visible\":false,\"ticker\":{\"type\":\"object\",\"name\":\"BasicTicker\",\"id\":\"p1857\",\"attributes\":{\"mantissas\":[1,2,5]}},\"formatter\":{\"type\":\"object\",\"name\":\"BasicTickFormatter\",\"id\":\"p1858\"},\"major_label_policy\":{\"type\":\"object\",\"name\":\"AllLabels\",\"id\":\"p1859\"}}}],\"center\":[{\"type\":\"object\",\"name\":\"Grid\",\"id\":\"p1860\",\"attributes\":{\"axis\":{\"id\":\"p1856\"},\"grid_line_color\":null}},{\"type\":\"object\",\"name\":\"Grid\",\"id\":\"p1865\",\"attributes\":{\"dimension\":1,\"axis\":{\"id\":\"p1861\"},\"grid_line_color\":null}},{\"type\":\"object\",\"name\":\"Legend\",\"id\":\"p1878\",\"attributes\":{\"items\":[{\"type\":\"object\",\"name\":\"LegendItem\",\"id\":\"p1879\",\"attributes\":{\"label\":{\"type\":\"field\",\"field\":\"Agency\"},\"renderers\":[{\"id\":\"p1875\"}]}}]}},{\"type\":\"object\",\"name\":\"LabelSet\",\"id\":\"p1881\",\"attributes\":{\"source\":{\"id\":\"p1840\"},\"x\":{\"type\":\"value\",\"value\":0},\"y\":{\"type\":\"value\",\"value\":1},\"text\":{\"type\":\"field\",\"field\":\"label_vals\"},\"angle\":{\"type\":\"expr\",\"expr\":{\"type\":\"object\",\"name\":\"CumSum\",\"id\":\"p1880\",\"attributes\":{\"field\":\"angle\",\"include_zero\":true}}}}}]}},1,1],[{\"type\":\"object\",\"name\":\"Figure\",\"id\":\"p1888\",\"attributes\":{\"height\":350,\"sizing_mode\":\"scale_both\",\"x_range\":{\"type\":\"object\",\"name\":\"Range1d\",\"id\":\"p1898\",\"attributes\":{\"start\":-0.5}},\"y_range\":{\"type\":\"object\",\"name\":\"DataRange1d\",\"id\":\"p1890\"},\"x_scale\":{\"type\":\"object\",\"name\":\"LinearScale\",\"id\":\"p1899\"},\"y_scale\":{\"type\":\"object\",\"name\":\"LinearScale\",\"id\":\"p1900\"},\"title\":{\"type\":\"object\",\"name\":\"Title\",\"id\":\"p1891\",\"attributes\":{\"text\":\"Cases by Agency: STATEN ISLAND\"}},\"renderers\":[{\"type\":\"object\",\"name\":\"GlyphRenderer\",\"id\":\"p1920\",\"attributes\":{\"data_source\":{\"type\":\"object\",\"name\":\"ColumnDataSource\",\"id\":\"p1885\",\"attributes\":{\"selected\":{\"type\":\"object\",\"name\":\"Selection\",\"id\":\"p1886\",\"attributes\":{\"indices\":[],\"line_indices\":[]}},\"selection_policy\":{\"type\":\"object\",\"name\":\"UnionRenderers\",\"id\":\"p1887\"},\"data\":{\"type\":\"map\",\"entries\":[[\"index\",{\"type\":\"ndarray\",\"array\":{\"type\":\"bytes\",\"data\":\"AAAAAAEAAAACAAAAAwAAAAQAAAAFAAAABgAAAAcAAAAIAAAACQAAAAoAAAALAAAADAAAAA0AAAAOAAAADwAAABAAAAARAAAAEgAAABMAAAAUAAAAFQAAABYAAAA=\"},\"shape\":[23],\"dtype\":\"int32\",\"order\":\"little\"}],[\"Agency\",{\"type\":\"ndarray\",\"array\":[\"3-1-1\",\"DCA\",\"DCWP\",\"DEP\",\"DEPARTME\",\"DFTA\",\"DHS\",\"DOB\",\"DOE\",\"DOF\",\"DOHMH\",\"DOITT\",\"DOT\",\"DPR\",\"DSNY\",\"EDC\",\"HPD\",\"NYC311-P\",\"NYCEM\",\"NYPD\",\"OSE\",\"OTI\",\"TLC\"],\"shape\":[23],\"dtype\":\"object\",\"order\":\"little\"}],[\"value\",{\"type\":\"ndarray\",\"array\":{\"type\":\"bytes\",\"data\":\"AAAAAAAAPUAAAAAAABiOQAAAAAAAADhAAAAAACC65kAAAAAAAAAAQAAAAAAAABhAAAAAAAC4kEAAAAAAgLndQAAAAAAAYINAAAAAAAB8lUAAAAAAwDHUQAAAAAAAgEVAAAAAALBeAkEAAAAAIKLrQAAAAACAyRFBAAAAAACAVUAAAAAAoGLrQAAAAAAAgFBAAAAAAAAA8D8AAAAAJDUQQQAAAAAANqZAAAAAAAAACEAAAAAAABB7QA==\"},\"shape\":[23],\"dtype\":\"float64\",\"order\":\"little\"}],[\"pct\",{\"type\":\"ndarray\",\"array\":{\"type\":\"bytes\",\"data\":\"AAAAAAAAAACamZmZmZm5PwAAAAAAAAAAH4XrUbgeFEAAAAAAAAAAAAAAAAAAAAAAuB6F61G4vj9SuB6F61EKQOxRuB6F67E/MzMzMzMzwz/Xo3A9CtcBQAAAAAAAAAAAw/UoXI9CMEB7FK5H4XoYQD0K16NwfT9AexSuR+F6hD89CtejcD0YQHsUrkfheoQ/AAAAAAAAAAAzMzMzM7M8QNejcD0K19M/AAAAAAAAAACamZmZmZmpPw==\"},\"shape\":[23],\"dtype\":\"float64\",\"order\":\"little\"}],[\"angle\",{\"type\":\"ndarray\",\"array\":{\"type\":\"bytes\",\"data\":\"AAAAAAAAAADDcYu2Zbx5PwAAAAAAAAAAaMtEihE61D8AAAAAAAAAAAAAAAAAAAAAgYjapxPifj/1kHossnXKP6LPlMzgA3I/UZXoSExNgz9Gk88USu/BPwAAAAAAAAAAQStYZ6lY8D/HJMKpJ5zYP27tpFA+qP8/Als8xbeWRD+2b3KCY17YPwJbPMW3lkQ/AAAAAAAAAACIVKYHNtr8Pyl4EgcC8pM/AAAAAAAAAADDcYu2ZbxpPw==\"},\"shape\":[23],\"dtype\":\"float64\",\"order\":\"little\"}],[\"colors\",{\"type\":\"ndarray\",\"array\":[\"#fc8624\",\"#dd3c07\",\"#d6e535\",\"#9a0e01\",\"#74fe5c\",\"#4af880\",\"#98fe42\",\"#3c3285\",\"#8efe48\",\"#fe9b2d\",\"#a61401\",\"#c52602\",\"#ec520e\",\"#fd952b\",\"#6dfd62\",\"#caed33\",\"#2db4f1\",\"#f46516\",\"#1ccdd7\",\"#f0cb3a\",\"#fb8022\",\"#1ee8af\",\"#4043a6\"],\"shape\":[23],\"dtype\":\"object\",\"order\":\"little\"}]]}}},\"view\":{\"type\":\"object\",\"name\":\"CDSView\",\"id\":\"p1921\",\"attributes\":{\"filter\":{\"type\":\"object\",\"name\":\"AllIndices\",\"id\":\"p1922\"}}},\"glyph\":{\"type\":\"object\",\"name\":\"Wedge\",\"id\":\"p1917\",\"attributes\":{\"x\":{\"type\":\"value\",\"value\":0},\"y\":{\"type\":\"value\",\"value\":1},\"radius\":{\"type\":\"value\",\"value\":0.4},\"start_angle\":{\"type\":\"expr\",\"expr\":{\"type\":\"object\",\"name\":\"CumSum\",\"id\":\"p1912\",\"attributes\":{\"field\":\"angle\",\"include_zero\":true}}},\"end_angle\":{\"type\":\"expr\",\"expr\":{\"type\":\"object\",\"name\":\"CumSum\",\"id\":\"p1913\",\"attributes\":{\"field\":\"angle\"}}},\"line_color\":{\"type\":\"value\",\"value\":\"white\"},\"fill_color\":{\"type\":\"field\",\"field\":\"colors\"}}},\"nonselection_glyph\":{\"type\":\"object\",\"name\":\"Wedge\",\"id\":\"p1918\",\"attributes\":{\"x\":{\"type\":\"value\",\"value\":0},\"y\":{\"type\":\"value\",\"value\":1},\"radius\":{\"type\":\"value\",\"value\":0.4},\"start_angle\":{\"type\":\"expr\",\"expr\":{\"id\":\"p1912\"}},\"end_angle\":{\"type\":\"expr\",\"expr\":{\"id\":\"p1913\"}},\"line_color\":{\"type\":\"value\",\"value\":\"white\"},\"line_alpha\":{\"type\":\"value\",\"value\":0.1},\"fill_color\":{\"type\":\"field\",\"field\":\"colors\"},\"fill_alpha\":{\"type\":\"value\",\"value\":0.1},\"hatch_alpha\":{\"type\":\"value\",\"value\":0.1}}},\"muted_glyph\":{\"type\":\"object\",\"name\":\"Wedge\",\"id\":\"p1919\",\"attributes\":{\"x\":{\"type\":\"value\",\"value\":0},\"y\":{\"type\":\"value\",\"value\":1},\"radius\":{\"type\":\"value\",\"value\":0.4},\"start_angle\":{\"type\":\"expr\",\"expr\":{\"id\":\"p1912\"}},\"end_angle\":{\"type\":\"expr\",\"expr\":{\"id\":\"p1913\"}},\"line_color\":{\"type\":\"value\",\"value\":\"white\"},\"line_alpha\":{\"type\":\"value\",\"value\":0.2},\"fill_color\":{\"type\":\"field\",\"field\":\"colors\"},\"fill_alpha\":{\"type\":\"value\",\"value\":0.2},\"hatch_alpha\":{\"type\":\"value\",\"value\":0.2}}}}}],\"toolbar\":{\"type\":\"object\",\"name\":\"Toolbar\",\"id\":\"p1897\",\"attributes\":{\"tools\":[{\"id\":\"p1911\"}]}},\"toolbar_location\":null,\"left\":[{\"type\":\"object\",\"name\":\"LinearAxis\",\"id\":\"p1906\",\"attributes\":{\"visible\":false,\"ticker\":{\"type\":\"object\",\"name\":\"BasicTicker\",\"id\":\"p1907\",\"attributes\":{\"mantissas\":[1,2,5]}},\"formatter\":{\"type\":\"object\",\"name\":\"BasicTickFormatter\",\"id\":\"p1908\"},\"major_label_policy\":{\"type\":\"object\",\"name\":\"AllLabels\",\"id\":\"p1909\"}}}],\"below\":[{\"type\":\"object\",\"name\":\"LinearAxis\",\"id\":\"p1901\",\"attributes\":{\"visible\":false,\"ticker\":{\"type\":\"object\",\"name\":\"BasicTicker\",\"id\":\"p1902\",\"attributes\":{\"mantissas\":[1,2,5]}},\"formatter\":{\"type\":\"object\",\"name\":\"BasicTickFormatter\",\"id\":\"p1903\"},\"major_label_policy\":{\"type\":\"object\",\"name\":\"AllLabels\",\"id\":\"p1904\"}}}],\"center\":[{\"type\":\"object\",\"name\":\"Grid\",\"id\":\"p1905\",\"attributes\":{\"axis\":{\"id\":\"p1901\"},\"grid_line_color\":null}},{\"type\":\"object\",\"name\":\"Grid\",\"id\":\"p1910\",\"attributes\":{\"dimension\":1,\"axis\":{\"id\":\"p1906\"},\"grid_line_color\":null}},{\"type\":\"object\",\"name\":\"Legend\",\"id\":\"p1923\",\"attributes\":{\"items\":[{\"type\":\"object\",\"name\":\"LegendItem\",\"id\":\"p1924\",\"attributes\":{\"label\":{\"type\":\"field\",\"field\":\"Agency\"},\"renderers\":[{\"id\":\"p1920\"}]}}]}},{\"type\":\"object\",\"name\":\"LabelSet\",\"id\":\"p1926\",\"attributes\":{\"source\":{\"id\":\"p1885\"},\"x\":{\"type\":\"value\",\"value\":0},\"y\":{\"type\":\"value\",\"value\":1},\"text\":{\"type\":\"field\",\"field\":\"label_vals\"},\"angle\":{\"type\":\"expr\",\"expr\":{\"type\":\"object\",\"name\":\"CumSum\",\"id\":\"p1925\",\"attributes\":{\"field\":\"angle\",\"include_zero\":true}}}}}]}},2,0]]}}]}};\n  const render_items = [{\"docid\":\"2ad3b7f2-25d1-459f-af95-45bcff0ceb19\",\"roots\":{\"p1932\":\"b73d280e-703f-40b9-b22f-eb99236d2d31\"},\"root_ids\":[\"p1932\"]}];\n  root.Bokeh.embed.embed_items_notebook(docs_json, render_items);\n  }\n  if (root.Bokeh !== undefined) {\n    embed_document(root);\n  } else {\n    let attempts = 0;\n    const timer = setInterval(function(root) {\n      if (root.Bokeh !== undefined) {\n        clearInterval(timer);\n        embed_document(root);\n      } else {\n        attempts++;\n        if (attempts > 100) {\n          clearInterval(timer);\n          console.log(\"Bokeh: ERROR: Unable to run BokehJS code because BokehJS library is missing\");\n        }\n      }\n    }, 10, root)\n  }\n})(window);",
      "application/vnd.bokehjs_exec.v0+json": ""
     },
     "metadata": {
      "application/vnd.bokehjs_exec.v0+json": {
       "id": "p1932"
      }
     },
     "output_type": "display_data"
    }
   ],
   "source": [
    "plots=list()\n",
    "for borough in size_df.index:\n",
    "    plots.append(create_bokeh_pi(size_df,borough))\n",
    "grid = gridplot(plots,sizing_mode=\"scale_both\",merge_tools=True,ncols=2)\n",
    "show(grid)"
   ]
  },
  {
   "cell_type": "markdown",
   "metadata": {},
   "source": [
    "<br><br><br><br><br><br>\n",
    "<span style=\"color:green;font-size:40px\">Interactive charting</span>\n",
    "<br><br>"
   ]
  },
  {
   "cell_type": "markdown",
   "metadata": {},
   "source": [
    "<li>bokeh graphs are interactive</li>\n",
    "<li>passive interaction (the graph does not change with user input) (e.g., the piechart above)</li>\n",
    "<li>active interaction (the graph changes with user input)</li>"
   ]
  },
  {
   "cell_type": "markdown",
   "metadata": {},
   "source": [
    "<br><br><br><br>\n",
    "<span style=\"color:blue;font-size:x-large\">distribution of processing time</span>\n",
    "<li>We've looked at mean processing times over months and days</li>\n",
    "<li>Let's get a sense of the distribution of processing times</li>"
   ]
  },
  {
   "cell_type": "markdown",
   "metadata": {},
   "source": [
    "<br><br><br><br>\n",
    "<span style=\"color:blue;font-size:large\">Histogram of processing times</h2>\n",
    "<li>We'll only keep data for which the processing duration is greater than .5 and less than 1 day </li>\n",
    "<li>Why? No particular reason other than graph aesthetics!</li>\n",
    "<li>And divide the data into ten bins</li>\n",
    "<li>and use <a href=\"https://numpy.org/doc/stable/reference/generated/numpy.histogram.html\">np.histogram</a> to create the histogram</li>"
   ]
  },
  {
   "cell_type": "code",
   "execution_count": 7,
   "metadata": {},
   "outputs": [
    {
     "name": "stdout",
     "output_type": "stream",
     "text": [
      "<class 'pandas.core.frame.DataFrame'>\n",
      "RangeIndex: 18338326 entries, 0 to 18338325\n",
      "Data columns (total 8 columns):\n",
      " #   Column           Dtype         \n",
      "---  ------           -----         \n",
      " 0   Created Date     datetime64[ns]\n",
      " 1   Closed Date      datetime64[ns]\n",
      " 2   Agency           object        \n",
      " 3   Incident Zip     int64         \n",
      " 4   Borough          object        \n",
      " 5   Latitude         float64       \n",
      " 6   Longitude        float64       \n",
      " 7   processing_days  float64       \n",
      "dtypes: datetime64[ns](2), float64(3), int64(1), object(2)\n",
      "memory usage: 1.1+ GB\n"
     ]
    }
   ],
   "source": [
    "#Load the data\n",
    "import pandas as pd\n",
    "import numpy as np\n",
    "df = pd.read_csv(\"nyc_311_2023_data.csv\",header=0)\n",
    "df['Created Date'] = pd.to_datetime(df[\"Created Date\"],format=\"%Y-%m-%d %H:%M:%S\")\n",
    "df['Closed Date'] = pd.to_datetime(df[\"Closed Date\"],format=\"%Y-%m-%d %H:%M:%S\")\n",
    "\n",
    "df.info()"
   ]
  },
  {
   "cell_type": "code",
   "execution_count": 8,
   "metadata": {},
   "outputs": [],
   "source": [
    "import numpy as np\n",
    "import pandas as pd\n",
    "df2 = df[(df['processing_days']>0.5) & (df['processing_days']<1)]\n",
    "nbins=10\n",
    "histogram,boundaries = np.histogram(df2['processing_days'],bins=nbins)\n",
    "hist_df = pd.DataFrame({'cases': histogram, \n",
    "                       'left': boundaries[:-1]*24*60, \n",
    "                       'right': boundaries[1:]*24*60})"
   ]
  },
  {
   "cell_type": "code",
   "execution_count": 33,
   "metadata": {},
   "outputs": [
    {
     "data": {
      "text/plain": [
       "array([0.50001157, 0.55000926, 0.60000694, 0.65000463, 0.70000231,\n",
       "       0.75      , 0.79999769, 0.84999537, 0.89999306, 0.94999074,\n",
       "       0.99998843])"
      ]
     },
     "execution_count": 33,
     "metadata": {},
     "output_type": "execute_result"
    }
   ],
   "source": [
    "boundaries"
   ]
  },
  {
   "cell_type": "code",
   "execution_count": 34,
   "metadata": {},
   "outputs": [
    {
     "data": {
      "text/plain": [
       "array([ 97626,  90289,  85730,  82235,  86773,  92848,  96615,  98118,\n",
       "       101889,  96576])"
      ]
     },
     "execution_count": 34,
     "metadata": {},
     "output_type": "execute_result"
    }
   ],
   "source": [
    "histogram"
   ]
  },
  {
   "cell_type": "code",
   "execution_count": 35,
   "metadata": {},
   "outputs": [
    {
     "data": {
      "text/html": [
       "<div>\n",
       "<style scoped>\n",
       "    .dataframe tbody tr th:only-of-type {\n",
       "        vertical-align: middle;\n",
       "    }\n",
       "\n",
       "    .dataframe tbody tr th {\n",
       "        vertical-align: top;\n",
       "    }\n",
       "\n",
       "    .dataframe thead th {\n",
       "        text-align: right;\n",
       "    }\n",
       "</style>\n",
       "<table border=\"1\" class=\"dataframe\">\n",
       "  <thead>\n",
       "    <tr style=\"text-align: right;\">\n",
       "      <th></th>\n",
       "      <th>cases</th>\n",
       "      <th>left</th>\n",
       "      <th>right</th>\n",
       "    </tr>\n",
       "  </thead>\n",
       "  <tbody>\n",
       "    <tr>\n",
       "      <th>0</th>\n",
       "      <td>97626</td>\n",
       "      <td>720.016667</td>\n",
       "      <td>792.013333</td>\n",
       "    </tr>\n",
       "    <tr>\n",
       "      <th>1</th>\n",
       "      <td>90289</td>\n",
       "      <td>792.013333</td>\n",
       "      <td>864.010000</td>\n",
       "    </tr>\n",
       "    <tr>\n",
       "      <th>2</th>\n",
       "      <td>85730</td>\n",
       "      <td>864.010000</td>\n",
       "      <td>936.006667</td>\n",
       "    </tr>\n",
       "    <tr>\n",
       "      <th>3</th>\n",
       "      <td>82235</td>\n",
       "      <td>936.006667</td>\n",
       "      <td>1008.003333</td>\n",
       "    </tr>\n",
       "    <tr>\n",
       "      <th>4</th>\n",
       "      <td>86773</td>\n",
       "      <td>1008.003333</td>\n",
       "      <td>1080.000000</td>\n",
       "    </tr>\n",
       "    <tr>\n",
       "      <th>5</th>\n",
       "      <td>92848</td>\n",
       "      <td>1080.000000</td>\n",
       "      <td>1151.996667</td>\n",
       "    </tr>\n",
       "    <tr>\n",
       "      <th>6</th>\n",
       "      <td>96615</td>\n",
       "      <td>1151.996667</td>\n",
       "      <td>1223.993333</td>\n",
       "    </tr>\n",
       "    <tr>\n",
       "      <th>7</th>\n",
       "      <td>98118</td>\n",
       "      <td>1223.993333</td>\n",
       "      <td>1295.990000</td>\n",
       "    </tr>\n",
       "    <tr>\n",
       "      <th>8</th>\n",
       "      <td>101889</td>\n",
       "      <td>1295.990000</td>\n",
       "      <td>1367.986667</td>\n",
       "    </tr>\n",
       "    <tr>\n",
       "      <th>9</th>\n",
       "      <td>96576</td>\n",
       "      <td>1367.986667</td>\n",
       "      <td>1439.983333</td>\n",
       "    </tr>\n",
       "  </tbody>\n",
       "</table>\n",
       "</div>"
      ],
      "text/plain": [
       "    cases         left        right\n",
       "0   97626   720.016667   792.013333\n",
       "1   90289   792.013333   864.010000\n",
       "2   85730   864.010000   936.006667\n",
       "3   82235   936.006667  1008.003333\n",
       "4   86773  1008.003333  1080.000000\n",
       "5   92848  1080.000000  1151.996667\n",
       "6   96615  1151.996667  1223.993333\n",
       "7   98118  1223.993333  1295.990000\n",
       "8  101889  1295.990000  1367.986667\n",
       "9   96576  1367.986667  1439.983333"
      ]
     },
     "execution_count": 35,
     "metadata": {},
     "output_type": "execute_result"
    }
   ],
   "source": [
    "hist_df"
   ]
  },
  {
   "cell_type": "markdown",
   "metadata": {},
   "source": [
    "<br><br><br>\n",
    "<span style=\"color:blue;font-size:x-large\">Creating an interactive bokeh bar chart</span>\n",
    "<li>We'll convert the dataframe into a ColumnDataSource object</li>\n",
    "<li>Create a <span style=\"color:blue\">tooltips</span> dictionary (for the data that will be shown when hovering)</li>\n",
    "<li>Center the bar chart to the median bar size</li>\n",
    "<li>Use a <a href=\"https://docs.bokeh.org/en/latest/docs/reference/models/glyphs/quad.html\">quad glyph</a> to construct each bar. Quad = Quadrilateral</li>"
   ]
  },
  {
   "cell_type": "code",
   "execution_count": 36,
   "metadata": {},
   "outputs": [
    {
     "data": {
      "text/html": [
       "<style>\n",
       "        .bk-notebook-logo {\n",
       "            display: block;\n",
       "            width: 20px;\n",
       "            height: 20px;\n",
       "            background-image: url(data:image/png;base64,iVBORw0KGgoAAAANSUhEUgAAABQAAAAUCAYAAACNiR0NAAAABHNCSVQICAgIfAhkiAAAAAlwSFlzAAALEgAACxIB0t1+/AAAABx0RVh0U29mdHdhcmUAQWRvYmUgRmlyZXdvcmtzIENTNui8sowAAAOkSURBVDiNjZRtaJVlGMd/1/08zzln5zjP1LWcU9N0NkN8m2CYjpgQYQXqSs0I84OLIC0hkEKoPtiH3gmKoiJDU7QpLgoLjLIQCpEsNJ1vqUOdO7ppbuec5+V+rj4ctwzd8IIbbi6u+8f1539dt3A78eXC7QizUF7gyV1fD1Yqg4JWz84yffhm0qkFqBogB9rM8tZdtwVsPUhWhGcFJngGeWrPzHm5oaMmkfEg1usvLFyc8jLRqDOMru7AyC8saQr7GG7f5fvDeH7Ej8CM66nIF+8yngt6HWaKh7k49Soy9nXurCi1o3qUbS3zWfrYeQDTB/Qj6kX6Ybhw4B+bOYoLKCC9H3Nu/leUTZ1JdRWkkn2ldcCamzrcf47KKXdAJllSlxAOkRgyHsGC/zRday5Qld9DyoM4/q/rUoy/CXh3jzOu3bHUVZeU+DEn8FInkPBFlu3+nW3Nw0mk6vCDiWg8CeJaxEwuHS3+z5RgY+YBR6V1Z1nxSOfoaPa4LASWxxdNp+VWTk7+4vzaou8v8PN+xo+KY2xsw6une2frhw05CTYOmQvsEhjhWjn0bmXPjpE1+kplmmkP3suftwTubK9Vq22qKmrBhpY4jvd5afdRA3wGjFAgcnTK2s4hY0/GPNIb0nErGMCRxWOOX64Z8RAC4oCXdklmEvcL8o0BfkNK4lUg9HTl+oPlQxdNo3Mg4Nv175e/1LDGzZen30MEjRUtmXSfiTVu1kK8W4txyV6BMKlbgk3lMwYCiusNy9fVfvvwMxv8Ynl6vxoByANLTWplvuj/nF9m2+PDtt1eiHPBr1oIfhCChQMBw6Aw0UulqTKZdfVvfG7VcfIqLG9bcldL/+pdWTLxLUy8Qq38heUIjh4XlzZxzQm19lLFlr8vdQ97rjZVOLf8nclzckbcD4wxXMidpX30sFd37Fv/GtwwhzhxGVAprjbg0gCAEeIgwCZyTV2Z1REEW8O4py0wsjeloKoMr6iCY6dP92H6Vw/oTyICIthibxjm/DfN9lVz8IqtqKYLUXfoKVMVQVVJOElGjrnnUt9T9wbgp8AyYKaGlqingHZU/uG2NTZSVqwHQTWkx9hxjkpWDaCg6Ckj5qebgBVbT3V3NNXMSiWSDdGV3hrtzla7J+duwPOToIg42ChPQOQjspnSlp1V+Gjdged7+8UN5CRAV7a5EdFNwCjEaBR27b3W890TE7g24NAP/mMDXRWrGoFPQI9ls/MWO2dWFAar/xcOIImbbpA3zgAAAABJRU5ErkJggg==);\n",
       "        }\n",
       "    </style>\n",
       "    <div>\n",
       "        <a href=\"https://bokeh.org\" target=\"_blank\" class=\"bk-notebook-logo\"></a>\n",
       "        <span id=\"de0158d9-5953-4a7f-8f7e-5ec4467609cd\">Loading BokehJS ...</span>\n",
       "    </div>\n"
      ]
     },
     "metadata": {},
     "output_type": "display_data"
    },
    {
     "data": {
      "application/javascript": "(function(root) {\n  function now() {\n    return new Date();\n  }\n\n  const force = true;\n\n  if (typeof root._bokeh_onload_callbacks === \"undefined\" || force === true) {\n    root._bokeh_onload_callbacks = [];\n    root._bokeh_is_loading = undefined;\n  }\n\nconst JS_MIME_TYPE = 'application/javascript';\n  const HTML_MIME_TYPE = 'text/html';\n  const EXEC_MIME_TYPE = 'application/vnd.bokehjs_exec.v0+json';\n  const CLASS_NAME = 'output_bokeh rendered_html';\n\n  /**\n   * Render data to the DOM node\n   */\n  function render(props, node) {\n    const script = document.createElement(\"script\");\n    node.appendChild(script);\n  }\n\n  /**\n   * Handle when an output is cleared or removed\n   */\n  function handleClearOutput(event, handle) {\n    const cell = handle.cell;\n\n    const id = cell.output_area._bokeh_element_id;\n    const server_id = cell.output_area._bokeh_server_id;\n    // Clean up Bokeh references\n    if (id != null && id in Bokeh.index) {\n      Bokeh.index[id].model.document.clear();\n      delete Bokeh.index[id];\n    }\n\n    if (server_id !== undefined) {\n      // Clean up Bokeh references\n      const cmd_clean = \"from bokeh.io.state import curstate; print(curstate().uuid_to_server['\" + server_id + \"'].get_sessions()[0].document.roots[0]._id)\";\n      cell.notebook.kernel.execute(cmd_clean, {\n        iopub: {\n          output: function(msg) {\n            const id = msg.content.text.trim();\n            if (id in Bokeh.index) {\n              Bokeh.index[id].model.document.clear();\n              delete Bokeh.index[id];\n            }\n          }\n        }\n      });\n      // Destroy server and session\n      const cmd_destroy = \"import bokeh.io.notebook as ion; ion.destroy_server('\" + server_id + \"')\";\n      cell.notebook.kernel.execute(cmd_destroy);\n    }\n  }\n\n  /**\n   * Handle when a new output is added\n   */\n  function handleAddOutput(event, handle) {\n    const output_area = handle.output_area;\n    const output = handle.output;\n\n    // limit handleAddOutput to display_data with EXEC_MIME_TYPE content only\n    if ((output.output_type != \"display_data\") || (!Object.prototype.hasOwnProperty.call(output.data, EXEC_MIME_TYPE))) {\n      return\n    }\n\n    const toinsert = output_area.element.find(\".\" + CLASS_NAME.split(' ')[0]);\n\n    if (output.metadata[EXEC_MIME_TYPE][\"id\"] !== undefined) {\n      toinsert[toinsert.length - 1].firstChild.textContent = output.data[JS_MIME_TYPE];\n      // store reference to embed id on output_area\n      output_area._bokeh_element_id = output.metadata[EXEC_MIME_TYPE][\"id\"];\n    }\n    if (output.metadata[EXEC_MIME_TYPE][\"server_id\"] !== undefined) {\n      const bk_div = document.createElement(\"div\");\n      bk_div.innerHTML = output.data[HTML_MIME_TYPE];\n      const script_attrs = bk_div.children[0].attributes;\n      for (let i = 0; i < script_attrs.length; i++) {\n        toinsert[toinsert.length - 1].firstChild.setAttribute(script_attrs[i].name, script_attrs[i].value);\n        toinsert[toinsert.length - 1].firstChild.textContent = bk_div.children[0].textContent\n      }\n      // store reference to server id on output_area\n      output_area._bokeh_server_id = output.metadata[EXEC_MIME_TYPE][\"server_id\"];\n    }\n  }\n\n  function register_renderer(events, OutputArea) {\n\n    function append_mime(data, metadata, element) {\n      // create a DOM node to render to\n      const toinsert = this.create_output_subarea(\n        metadata,\n        CLASS_NAME,\n        EXEC_MIME_TYPE\n      );\n      this.keyboard_manager.register_events(toinsert);\n      // Render to node\n      const props = {data: data, metadata: metadata[EXEC_MIME_TYPE]};\n      render(props, toinsert[toinsert.length - 1]);\n      element.append(toinsert);\n      return toinsert\n    }\n\n    /* Handle when an output is cleared or removed */\n    events.on('clear_output.CodeCell', handleClearOutput);\n    events.on('delete.Cell', handleClearOutput);\n\n    /* Handle when a new output is added */\n    events.on('output_added.OutputArea', handleAddOutput);\n\n    /**\n     * Register the mime type and append_mime function with output_area\n     */\n    OutputArea.prototype.register_mime_type(EXEC_MIME_TYPE, append_mime, {\n      /* Is output safe? */\n      safe: true,\n      /* Index of renderer in `output_area.display_order` */\n      index: 0\n    });\n  }\n\n  // register the mime type if in Jupyter Notebook environment and previously unregistered\n  if (root.Jupyter !== undefined) {\n    const events = require('base/js/events');\n    const OutputArea = require('notebook/js/outputarea').OutputArea;\n\n    if (OutputArea.prototype.mime_types().indexOf(EXEC_MIME_TYPE) == -1) {\n      register_renderer(events, OutputArea);\n    }\n  }\n  if (typeof (root._bokeh_timeout) === \"undefined\" || force === true) {\n    root._bokeh_timeout = Date.now() + 5000;\n    root._bokeh_failed_load = false;\n  }\n\n  const NB_LOAD_WARNING = {'data': {'text/html':\n     \"<div style='background-color: #fdd'>\\n\"+\n     \"<p>\\n\"+\n     \"BokehJS does not appear to have successfully loaded. If loading BokehJS from CDN, this \\n\"+\n     \"may be due to a slow or bad network connection. Possible fixes:\\n\"+\n     \"</p>\\n\"+\n     \"<ul>\\n\"+\n     \"<li>re-rerun `output_notebook()` to attempt to load from CDN again, or</li>\\n\"+\n     \"<li>use INLINE resources instead, as so:</li>\\n\"+\n     \"</ul>\\n\"+\n     \"<code>\\n\"+\n     \"from bokeh.resources import INLINE\\n\"+\n     \"output_notebook(resources=INLINE)\\n\"+\n     \"</code>\\n\"+\n     \"</div>\"}};\n\n  function display_loaded() {\n    const el = document.getElementById(\"de0158d9-5953-4a7f-8f7e-5ec4467609cd\");\n    if (el != null) {\n      el.textContent = \"BokehJS is loading...\";\n    }\n    if (root.Bokeh !== undefined) {\n      if (el != null) {\n        el.textContent = \"BokehJS \" + root.Bokeh.version + \" successfully loaded.\";\n      }\n    } else if (Date.now() < root._bokeh_timeout) {\n      setTimeout(display_loaded, 100)\n    }\n  }\n\n  function run_callbacks() {\n    try {\n      root._bokeh_onload_callbacks.forEach(function(callback) {\n        if (callback != null)\n          callback();\n      });\n    } finally {\n      delete root._bokeh_onload_callbacks\n    }\n    console.debug(\"Bokeh: all callbacks have finished\");\n  }\n\n  function load_libs(css_urls, js_urls, callback) {\n    if (css_urls == null) css_urls = [];\n    if (js_urls == null) js_urls = [];\n\n    root._bokeh_onload_callbacks.push(callback);\n    if (root._bokeh_is_loading > 0) {\n      console.debug(\"Bokeh: BokehJS is being loaded, scheduling callback at\", now());\n      return null;\n    }\n    if (js_urls == null || js_urls.length === 0) {\n      run_callbacks();\n      return null;\n    }\n    console.debug(\"Bokeh: BokehJS not loaded, scheduling load and callback at\", now());\n    root._bokeh_is_loading = css_urls.length + js_urls.length;\n\n    function on_load() {\n      root._bokeh_is_loading--;\n      if (root._bokeh_is_loading === 0) {\n        console.debug(\"Bokeh: all BokehJS libraries/stylesheets loaded\");\n        run_callbacks()\n      }\n    }\n\n    function on_error(url) {\n      console.error(\"failed to load \" + url);\n    }\n\n    for (let i = 0; i < css_urls.length; i++) {\n      const url = css_urls[i];\n      const element = document.createElement(\"link\");\n      element.onload = on_load;\n      element.onerror = on_error.bind(null, url);\n      element.rel = \"stylesheet\";\n      element.type = \"text/css\";\n      element.href = url;\n      console.debug(\"Bokeh: injecting link tag for BokehJS stylesheet: \", url);\n      document.body.appendChild(element);\n    }\n\n    for (let i = 0; i < js_urls.length; i++) {\n      const url = js_urls[i];\n      const element = document.createElement('script');\n      element.onload = on_load;\n      element.onerror = on_error.bind(null, url);\n      element.async = false;\n      element.src = url;\n      console.debug(\"Bokeh: injecting script tag for BokehJS library: \", url);\n      document.head.appendChild(element);\n    }\n  };\n\n  function inject_raw_css(css) {\n    const element = document.createElement(\"style\");\n    element.appendChild(document.createTextNode(css));\n    document.body.appendChild(element);\n  }\n\n  const js_urls = [\"https://cdn.bokeh.org/bokeh/release/bokeh-3.2.2.min.js\", \"https://cdn.bokeh.org/bokeh/release/bokeh-gl-3.2.2.min.js\", \"https://cdn.bokeh.org/bokeh/release/bokeh-widgets-3.2.2.min.js\", \"https://cdn.bokeh.org/bokeh/release/bokeh-tables-3.2.2.min.js\", \"https://cdn.bokeh.org/bokeh/release/bokeh-mathjax-3.2.2.min.js\"];\n  const css_urls = [];\n\n  const inline_js = [    function(Bokeh) {\n      Bokeh.set_log_level(\"info\");\n    },\nfunction(Bokeh) {\n    }\n  ];\n\n  function run_inline_js() {\n    if (root.Bokeh !== undefined || force === true) {\n          for (let i = 0; i < inline_js.length; i++) {\n      inline_js[i].call(root, root.Bokeh);\n    }\nif (force === true) {\n        display_loaded();\n      }} else if (Date.now() < root._bokeh_timeout) {\n      setTimeout(run_inline_js, 100);\n    } else if (!root._bokeh_failed_load) {\n      console.log(\"Bokeh: BokehJS failed to load within specified timeout.\");\n      root._bokeh_failed_load = true;\n    } else if (force !== true) {\n      const cell = $(document.getElementById(\"de0158d9-5953-4a7f-8f7e-5ec4467609cd\")).parents('.cell').data().cell;\n      cell.output_area.append_execute_result(NB_LOAD_WARNING)\n    }\n  }\n\n  if (root._bokeh_is_loading === 0) {\n    console.debug(\"Bokeh: BokehJS loaded, going straight to plotting\");\n    run_inline_js();\n  } else {\n    load_libs(css_urls, js_urls, function() {\n      console.debug(\"Bokeh: BokehJS plotting callback run at\", now());\n      run_inline_js();\n    });\n  }\n}(window));",
      "application/vnd.bokehjs_load.v0+json": ""
     },
     "metadata": {},
     "output_type": "display_data"
    }
   ],
   "source": [
    "from bokeh.io import output_notebook, show\n",
    "from bokeh.plotting import figure\n",
    "from bokeh.models import ColumnDataSource\n",
    "\n",
    "output_notebook()"
   ]
  },
  {
   "cell_type": "code",
   "execution_count": 37,
   "metadata": {},
   "outputs": [
    {
     "data": {
      "text/plain": [
       "{'index': array([0, 1, 2, 3, 4, 5, 6, 7, 8, 9]),\n",
       " 'cases': array([ 97626,  90289,  85730,  82235,  86773,  92848,  96615,  98118,\n",
       "        101889,  96576]),\n",
       " 'left': array([ 720.01666667,  792.01333333,  864.01      ,  936.00666667,\n",
       "        1008.00333333, 1080.        , 1151.99666667, 1223.99333333,\n",
       "        1295.99      , 1367.98666667]),\n",
       " 'right': array([ 792.01333333,  864.01      ,  936.00666667, 1008.00333333,\n",
       "        1080.        , 1151.99666667, 1223.99333333, 1295.99      ,\n",
       "        1367.98666667, 1439.98333333])}"
      ]
     },
     "execution_count": 37,
     "metadata": {},
     "output_type": "execute_result"
    }
   ],
   "source": [
    "src = ColumnDataSource(hist_df)\n",
    "src.data"
   ]
  },
  {
   "cell_type": "code",
   "execution_count": 38,
   "metadata": {},
   "outputs": [
    {
     "data": {
      "text/html": [
       "\n",
       "  <div id=\"b9360ba9-6fe9-4f3e-8a80-76c9d3614e60\" data-root-id=\"p1349\" style=\"display: contents;\"></div>\n"
      ]
     },
     "metadata": {},
     "output_type": "display_data"
    },
    {
     "data": {
      "application/javascript": "(function(root) {\n  function embed_document(root) {\n  const docs_json = {\"3537b6d2-5612-4b52-a5ba-367ddda7dc12\":{\"version\":\"3.2.2\",\"title\":\"Bokeh Application\",\"roots\":[{\"type\":\"object\",\"name\":\"Figure\",\"id\":\"p1349\",\"attributes\":{\"x_range\":{\"type\":\"object\",\"name\":\"DataRange1d\",\"id\":\"p1350\"},\"y_range\":{\"type\":\"object\",\"name\":\"DataRange1d\",\"id\":\"p1351\"},\"x_scale\":{\"type\":\"object\",\"name\":\"LinearScale\",\"id\":\"p1359\"},\"y_scale\":{\"type\":\"object\",\"name\":\"LinearScale\",\"id\":\"p1360\"},\"title\":{\"type\":\"object\",\"name\":\"Title\",\"id\":\"p1352\",\"attributes\":{\"text\":\"Histogram of cases by processing times\"}},\"renderers\":[{\"type\":\"object\",\"name\":\"GlyphRenderer\",\"id\":\"p1386\",\"attributes\":{\"data_source\":{\"type\":\"object\",\"name\":\"ColumnDataSource\",\"id\":\"p1346\",\"attributes\":{\"selected\":{\"type\":\"object\",\"name\":\"Selection\",\"id\":\"p1347\",\"attributes\":{\"indices\":[],\"line_indices\":[]}},\"selection_policy\":{\"type\":\"object\",\"name\":\"UnionRenderers\",\"id\":\"p1348\"},\"data\":{\"type\":\"map\",\"entries\":[[\"index\",{\"type\":\"ndarray\",\"array\":{\"type\":\"bytes\",\"data\":\"AAAAAAEAAAACAAAAAwAAAAQAAAAFAAAABgAAAAcAAAAIAAAACQAAAA==\"},\"shape\":[10],\"dtype\":\"int32\",\"order\":\"little\"}],[\"cases\",{\"type\":\"ndarray\",\"array\":{\"type\":\"bytes\",\"data\":\"Wn0BALFgAQDiTgEAO0EBAPVSAQCwagEAZ3kBAEZ/AQABjgEAQHkBAA==\"},\"shape\":[10],\"dtype\":\"int32\",\"order\":\"little\"}],[\"left\",{\"type\":\"ndarray\",\"array\":{\"type\":\"bytes\",\"data\":\"IiIiIiKAhkDotIFOG8CIQK5H4XoUAItAc9pApw1AjUA6baDTBoCPQAAAAAAA4JBAY8kvlvz/kUDGkl8s+R+TQClcj8L1P5RAjSW/WPJflUA=\"},\"shape\":[10],\"dtype\":\"float64\",\"order\":\"little\"}],[\"right\",{\"type\":\"ndarray\",\"array\":{\"type\":\"bytes\",\"data\":\"6LSBThvAiECuR+F6FACLQHPaQKcNQI1AOm2g0waAj0AAAAAAAOCQQGPJL5b8/5FAxpJfLPkfk0ApXI/C9T+UQI0lv1jyX5VA8O7u7u5/lkA=\"},\"shape\":[10],\"dtype\":\"float64\",\"order\":\"little\"}]]}}},\"view\":{\"type\":\"object\",\"name\":\"CDSView\",\"id\":\"p1387\",\"attributes\":{\"filter\":{\"type\":\"object\",\"name\":\"AllIndices\",\"id\":\"p1388\"}}},\"glyph\":{\"type\":\"object\",\"name\":\"Quad\",\"id\":\"p1382\",\"attributes\":{\"left\":{\"type\":\"field\",\"field\":\"left\"},\"right\":{\"type\":\"field\",\"field\":\"right\"},\"bottom\":{\"type\":\"value\",\"value\":94712.0},\"top\":{\"type\":\"field\",\"field\":\"cases\"},\"fill_color\":{\"type\":\"value\",\"value\":\"red\"},\"fill_alpha\":{\"type\":\"value\",\"value\":0.95}}},\"nonselection_glyph\":{\"type\":\"object\",\"name\":\"Quad\",\"id\":\"p1383\",\"attributes\":{\"left\":{\"type\":\"field\",\"field\":\"left\"},\"right\":{\"type\":\"field\",\"field\":\"right\"},\"bottom\":{\"type\":\"value\",\"value\":94712.0},\"top\":{\"type\":\"field\",\"field\":\"cases\"},\"line_alpha\":{\"type\":\"value\",\"value\":0.1},\"fill_color\":{\"type\":\"value\",\"value\":\"red\"},\"fill_alpha\":{\"type\":\"value\",\"value\":0.1},\"hatch_alpha\":{\"type\":\"value\",\"value\":0.1}}},\"hover_glyph\":{\"type\":\"object\",\"name\":\"Quad\",\"id\":\"p1384\",\"attributes\":{\"left\":{\"type\":\"field\",\"field\":\"left\"},\"right\":{\"type\":\"field\",\"field\":\"right\"},\"bottom\":{\"type\":\"value\",\"value\":94712.0},\"top\":{\"type\":\"field\",\"field\":\"cases\"},\"fill_color\":{\"type\":\"value\",\"value\":\"orange\"}}},\"muted_glyph\":{\"type\":\"object\",\"name\":\"Quad\",\"id\":\"p1385\",\"attributes\":{\"left\":{\"type\":\"field\",\"field\":\"left\"},\"right\":{\"type\":\"field\",\"field\":\"right\"},\"bottom\":{\"type\":\"value\",\"value\":94712.0},\"top\":{\"type\":\"field\",\"field\":\"cases\"},\"line_alpha\":{\"type\":\"value\",\"value\":0.2},\"fill_color\":{\"type\":\"value\",\"value\":\"red\"},\"fill_alpha\":{\"type\":\"value\",\"value\":0.2},\"hatch_alpha\":{\"type\":\"value\",\"value\":0.2}}}}}],\"toolbar\":{\"type\":\"object\",\"name\":\"Toolbar\",\"id\":\"p1358\",\"attributes\":{\"tools\":[{\"type\":\"object\",\"name\":\"PanTool\",\"id\":\"p1371\"},{\"type\":\"object\",\"name\":\"WheelZoomTool\",\"id\":\"p1372\"},{\"type\":\"object\",\"name\":\"BoxZoomTool\",\"id\":\"p1373\",\"attributes\":{\"overlay\":{\"type\":\"object\",\"name\":\"BoxAnnotation\",\"id\":\"p1374\",\"attributes\":{\"syncable\":false,\"level\":\"overlay\",\"visible\":false,\"left_units\":\"canvas\",\"right_units\":\"canvas\",\"bottom_units\":\"canvas\",\"top_units\":\"canvas\",\"line_color\":\"black\",\"line_alpha\":1.0,\"line_width\":2,\"line_dash\":[4,4],\"fill_color\":\"lightgrey\",\"fill_alpha\":0.5}}}},{\"type\":\"object\",\"name\":\"SaveTool\",\"id\":\"p1375\"},{\"type\":\"object\",\"name\":\"ResetTool\",\"id\":\"p1376\"},{\"type\":\"object\",\"name\":\"HelpTool\",\"id\":\"p1377\"},{\"type\":\"object\",\"name\":\"HoverTool\",\"id\":\"p1378\",\"attributes\":{\"renderers\":\"auto\",\"tooltips\":[[\"number of cases\",\"@cases\"],[\"left (minutes)\",\"@left{s}\"],[\"right (minutes)\",\"@right{s}\"]]}}]}},\"left\":[{\"type\":\"object\",\"name\":\"LinearAxis\",\"id\":\"p1366\",\"attributes\":{\"ticker\":{\"type\":\"object\",\"name\":\"BasicTicker\",\"id\":\"p1367\",\"attributes\":{\"mantissas\":[1,2,5]}},\"formatter\":{\"type\":\"object\",\"name\":\"BasicTickFormatter\",\"id\":\"p1368\"},\"axis_label\":\"number of cases\",\"major_label_policy\":{\"type\":\"object\",\"name\":\"AllLabels\",\"id\":\"p1369\"}}}],\"below\":[{\"type\":\"object\",\"name\":\"LinearAxis\",\"id\":\"p1361\",\"attributes\":{\"ticker\":{\"type\":\"object\",\"name\":\"BasicTicker\",\"id\":\"p1362\",\"attributes\":{\"mantissas\":[1,2,5]}},\"formatter\":{\"type\":\"object\",\"name\":\"BasicTickFormatter\",\"id\":\"p1363\"},\"axis_label\":\"time buckets\",\"major_label_policy\":{\"type\":\"object\",\"name\":\"AllLabels\",\"id\":\"p1364\"}}}],\"center\":[{\"type\":\"object\",\"name\":\"Grid\",\"id\":\"p1365\",\"attributes\":{\"axis\":{\"id\":\"p1361\"}}},{\"type\":\"object\",\"name\":\"Grid\",\"id\":\"p1370\",\"attributes\":{\"dimension\":1,\"axis\":{\"id\":\"p1366\"}}}]}}]}};\n  const render_items = [{\"docid\":\"3537b6d2-5612-4b52-a5ba-367ddda7dc12\",\"roots\":{\"p1349\":\"b9360ba9-6fe9-4f3e-8a80-76c9d3614e60\"},\"root_ids\":[\"p1349\"]}];\n  root.Bokeh.embed.embed_items_notebook(docs_json, render_items);\n  }\n  if (root.Bokeh !== undefined) {\n    embed_document(root);\n  } else {\n    let attempts = 0;\n    const timer = setInterval(function(root) {\n      if (root.Bokeh !== undefined) {\n        clearInterval(timer);\n        embed_document(root);\n      } else {\n        attempts++;\n        if (attempts > 100) {\n          clearInterval(timer);\n          console.log(\"Bokeh: ERROR: Unable to run BokehJS code because BokehJS library is missing\");\n        }\n      }\n    }, 10, root)\n  }\n})(window);",
      "application/vnd.bokehjs_exec.v0+json": ""
     },
     "metadata": {
      "application/vnd.bokehjs_exec.v0+json": {
       "id": "p1349"
      }
     },
     "output_type": "display_data"
    }
   ],
   "source": [
    "#Place the data into a ColumnDataSource object\n",
    "src = ColumnDataSource(hist_df)\n",
    "\n",
    "#create the tooltips \n",
    "#whatever you put in here will be shown when hovering\n",
    "#the @ tells bokeh to use data from the columns of the columndatasource\n",
    "#formatting goes in curly braces\n",
    "tooltips = [\n",
    "    (\"number of cases\", \"@cases\"),\n",
    "    (\"left (minutes)\", \"@left{s}\"),\n",
    "    (\"right (minutes)\", \"@right{s}\"),\n",
    "]\n",
    "\n",
    "\"\"\"\n",
    "tooltips = {\n",
    "    \"number of cases\": \"@cases\",\n",
    "    \"left (minutes)\": \"@left{s}\",\n",
    "    \"right (minutes)\": \"@right{s}\",\n",
    "}\n",
    "\"\"\"\n",
    "#get the median for centering the x-axis\n",
    "import statistics\n",
    "median = statistics.median(src.data['cases'])\n",
    "\n",
    "#Create the figure\n",
    "p = figure(height = 600, width = 600, \n",
    "           title = 'Histogram of cases by processing times',\n",
    "          x_axis_label = 'time buckets', \n",
    "           y_axis_label = 'number of cases',tooltips=tooltips)\n",
    "\n",
    "# Add a quad glyph (https://docs.bokeh.org/en/latest/docs/reference/models/glyphs/quad.html)\n",
    "#we'll use the source argument to attach the columndatasource to the chart\n",
    "r = p.quad(bottom=median, #location of the x-axis\n",
    "           top='cases',  #the data that will determine the height of the bar\n",
    "           left='left', #CDS column for the left value of the bar\n",
    "           right='right', #CDS column for the right value of the bar\n",
    "           source=src,  #The ColumnDataSource (CDS)\n",
    "           fill_color='red', \n",
    "           line_color='black',\n",
    "           fill_alpha = 0.95,\n",
    "           hover_fill_alpha = 1.0, \n",
    "           hover_fill_color = 'orange')\n",
    "\n",
    "\n",
    "\n",
    "# Show the plot\n",
    "show(p)"
   ]
  },
  {
   "cell_type": "code",
   "execution_count": 39,
   "metadata": {},
   "outputs": [
    {
     "data": {
      "text/plain": [
       "(figure(id='p1349', ...), GlyphRenderer(id='p1386', ...))"
      ]
     },
     "execution_count": 39,
     "metadata": {},
     "output_type": "execute_result"
    }
   ],
   "source": [
    "p,r"
   ]
  },
  {
   "cell_type": "markdown",
   "metadata": {},
   "source": [
    "<br><br><br>\n",
    "<span style=\"color:green;font-size:xx-large\">Active interactions</span>\n",
    "<li>active interactions allow the user to delve into the data by selecting parameters</li>\n",
    "<li>example, the user may want to bin by Agency (or Borough)</li>\n",
    "<li>or select bin sizes rather than rely on our 500 minute window</li>\n",
    "<li>or select periods of time and see how the histogram changes</li>"
   ]
  },
  {
   "cell_type": "markdown",
   "metadata": {},
   "source": [
    "<li>In this example, we'll let the user:</li>\n",
    "<ol>\n",
    "    <li>select an agency from a list of agencies</li>\n",
    "    <li>show binned processing time only for that agency</li>\n",
    "</ol>\n",
    "<li>the graph will change with each change in agency selection</li>"
   ]
  },
  {
   "cell_type": "markdown",
   "metadata": {},
   "source": [
    "<br><br><br>\n",
    "<span style=\"color:blue;font-size:x-large\">JavaScript callbacks</span>\n",
    "<li>changes to a page in a browser are made using JavaScript</li>\n",
    "<li>we can include javascript widgets directly in the chart using bokeh's callback feature</li>\n",
    "<li>the complication is that we can't call python functions from javascript</li>\n",
    "<li>nor can we refer to a dataframe from JavaScript because there is no json equivalent</li>\n",
    "<li>ColumnDataSource objects are fine though because they can be converted into JSON objects and arrays</li>\n",
    "<li>And these json objects/arrays can be passed to a javascript function</li>"
   ]
  },
  {
   "cell_type": "markdown",
   "metadata": {},
   "source": [
    "<b>Note:</b> While JavaScript is a full fledged language in its own right, we'll just use enough to make our graph interactive while keeping the process simple!"
   ]
  },
  {
   "cell_type": "markdown",
   "metadata": {},
   "source": [
    "<br><br><br>\n",
    "<span style=\"color:blue;font-size:x-large\">columndatasource</span>\n",
    "<li>each user selection (agency/bin size) requires data in a columndatasource object</li>\n",
    "<li>so we need a function that creates this columndatasource given an agency and a bin size</li>\n"
   ]
  },
  {
   "cell_type": "markdown",
   "metadata": {},
   "source": [
    "<br><br><br>\n",
    "<span style=\"color:blue;font-size:x-large\">dataframe for columndatasource</span>\n",
    "<li>Create a dataframe that will be converted into a bokeh ColumnDataSource object</li>\n",
    "<li>Each row corresponds to a bucket of the histogram</li>\n",
    "<li>Columns correspond to agencies</li>\n",
    "<li>Plus two additional columns for the left and right bin values for each bin</li>"
   ]
  },
  {
   "cell_type": "code",
   "execution_count": null,
   "metadata": {},
   "outputs": [],
   "source": [
    "#Create a dataframe for conversion to ColumnDataSource\n",
    "#Upper and lower define the processing time bounds (aesthetic reasons!)\n",
    "\n",
    "def prepareDataForCDS(df,upper=1,lower=0.5,nbins=10):\n",
    "    df = df[(df['processing_days']<upper) & (df['processing_days']>lower)]\n",
    "    agencies = df['Agency'].unique()\n",
    "    \n",
    "    #get a common set of bins for all agencies\n",
    "\n",
    "    hist,bounds = np.histogram(df['processing_days'],bins=nbins)\n",
    "    left = bounds[:-1]\n",
    "    right = bounds[1:]\n",
    "    \n",
    "    #construct the initial dataframe with bin boundaries\n",
    "    #the index for this df is 0,1,..,nbins-1\n",
    "    #Initially, all it contains is columns for the left and right values\n",
    "    #We'll add each agency column to this data frame\n",
    "    final_df = pd.DataFrame({'left':left*24*60,'right':right*24*60})\n",
    "\n",
    "\n",
    "    #for each agency, compute the number of cases in each bin\n",
    "    #and concat this into final_df with the agency name as the column name\n",
    "    #note that the index will be 0,1,...,nbins-1 therefore concat will use indices\n",
    "    for agency in agencies:\n",
    "        #print(final_df.info())\n",
    "        a_df = df[df['Agency']==agency]\n",
    "        hist,bounds = np.histogram(a_df['processing_days'],bins=nbins)\n",
    "        hist_df = pd.DataFrame({agency: hist})\n",
    "        final_df = pd.concat([final_df,hist_df],axis=1)\n",
    "        \n",
    "    return final_df\n",
    "\n"
   ]
  },
  {
   "cell_type": "code",
   "execution_count": null,
   "metadata": {},
   "outputs": [],
   "source": [
    "prepareDataForCDS(df,upper=1,lower=0.5,nbins=10)"
   ]
  },
  {
   "cell_type": "markdown",
   "metadata": {},
   "source": [
    "<br><br><br>\n",
    "<span style=\"color:blue;font-size:x-large\">Interactivity</span>\n",
    "<li>Requires a dropdown box to get the user selection</li>\n",
    "<li>Requires JavaScript code to change the underlying data when the user selects a new agency</li>\n",
    "<li>The way this works is as follows:</li>\n",
    "<ul>\n",
    "    <li>Specify a column that contains the data to be displayed</li>\n",
    "    <li>display this column</li>\n",
    "    <li>when the user selects a new column, copy the contents of the new column into the display column</li>\n",
    "    <li>and tell the graph to reflect the changed values</li>\n",
    "</ul>\n",
    "<li>We'll add a new column <span style=\"color:blue\">display</span> for storing data to be displayed</li>\n",
    "<li>We'll use the <span style=\"color:green\">dropdown</span> widget to display the selectable list of agencies. Many more <a href=\"https://docs.bokeh.org/en/latest/docs/user_guide/interaction/widgets.html\">widgets are available</a></li>"
   ]
  },
  {
   "cell_type": "code",
   "execution_count": null,
   "metadata": {
    "scrolled": false
   },
   "outputs": [],
   "source": [
    "#row will allow placing the graph and the widget side by side\n",
    "from bokeh.layouts import row\n",
    "\n",
    "#import the dropdown widget along with CustomJS, bokeh's JavaScript library\n",
    "from bokeh.models import CustomJS, ColumnDataSource, Dropdown\n",
    "\n",
    "list_of_agencies=df['Agency'].unique()\n",
    "\n",
    "#Get the dataframe\n",
    "interactive_df = prepareDataForCDS(df)\n",
    "\n",
    "#add a new column to the object called 'display'\n",
    "#when the user selects a new agency, we'll copy that agency's data into this column\n",
    "#the histogram will display whatever is in this column\n",
    "\n",
    "#Arbitrarly pick an agency and copy it into this column\n",
    "\n",
    "interactive_df['display'] = interactive_df['DOT']\n",
    "\n",
    "#create a ColumnDataSource object.\n",
    "#This is the source for the graph\n",
    "source = ColumnDataSource(interactive_df)\n",
    "\n",
    "#construct the graph (but don't \"show\" it)\n",
    "#note that the display column is \"display\" not \"cases\" as before\n",
    "\n",
    "tooltips = [\n",
    "    (\"number of cases\", \"@display\"),\n",
    "    (\"left (minutes)\", \"@left{s}\"),\n",
    "    (\"right (minutes)\", \"@right{s}\"),\n",
    "]\n",
    "    \n",
    "p = figure(height = 300, width = 500, \n",
    "           title = 'Histogram of cases by processing times',\n",
    "          x_axis_label = 'time buckets', \n",
    "           y_axis_label = 'number of cases',tooltips=tooltips)\n",
    "\n",
    "p.quad(bottom=0,\n",
    "       top='display', left='left', right='right',source=source,\n",
    "       fill_color='red', line_color='black',fill_alpha = 0.75,\n",
    "       hover_fill_alpha = 1.0, hover_fill_color = 'navy')\n",
    "\n",
    "#Create a javascript callback as a call to CustomJS\n",
    "#arguments are the data (the source)\n",
    "#and a string containing the JavaScript code\n",
    "\n",
    "#this.item is the selected value (returned by the dropdown widget)\n",
    "#\"this\" is a javascript identifier that self identifies an object (the dropdown widget)\n",
    "#'item' is the value selected in the dropdown\n",
    "#Note that different widgets may use this.value or this.some_other_name for a widget value\n",
    "#create a variable that holds the data in source\n",
    "#replace the display column in the data by the column for the selected agency\n",
    "#register the change (emit it!)\n",
    "jscallback = CustomJS(args={'srce':source},code=\"\"\"\n",
    "        // widget. this.item is the selected value\n",
    "        // We can print it on the JavaScript console\n",
    "        // Chrome windows/linux: Ctrl - Shift - J\n",
    "        // Chrome mac: Cmd - Option - J\n",
    "        // Safari: Option - Cmd - C\n",
    "        \n",
    "        //console.log logs (prints) in the JavaScript console\n",
    "        console.log(' changed selected option', this.item);\n",
    "\n",
    "        //data is the variable containing all the data\n",
    "        //source was passed in as an argument\n",
    "        var data = srce.data;\n",
    "\n",
    "        // allocate the selected column to the field for the y values\n",
    "        data['display'] = data[this.item];\n",
    "\n",
    "        // register the change \n",
    "        srce.change.emit();\n",
    "\"\"\")\n",
    "\n",
    "#Create the dropdown widget\n",
    "#the widget contains a menu in the form of a list of tuples\n",
    "#(long name, value to be returned)\n",
    "#the widget has a callback argument. Use the jscallback as the value of this argument\n",
    "\n",
    "menu = [(\"Agency \" + x,x) for x in list_of_agencies]\n",
    "\n",
    "dropdown = Dropdown(label=\"select agency\", button_type=\"primary\", menu=menu)\n",
    "\n",
    "#Note that jscallback must be defined before the button!\n",
    "dropdown.js_on_event(\"menu_item_click\", jscallback)\n",
    "\n",
    "#construct a row object containing the plot and the widget\n",
    "layout = row(p,dropdown)\n",
    "\n",
    "#show it!\n",
    "show(layout)\n",
    "\n",
    "\n",
    "\n"
   ]
  },
  {
   "cell_type": "code",
   "execution_count": null,
   "metadata": {},
   "outputs": [],
   "source": []
  },
  {
   "cell_type": "code",
   "execution_count": 5,
   "metadata": {},
   "outputs": [
    {
     "name": "stdout",
     "output_type": "stream",
     "text": [
      "1\n"
     ]
    }
   ],
   "source": [
    "print(1)"
   ]
  },
  {
   "cell_type": "code",
   "execution_count": null,
   "metadata": {},
   "outputs": [],
   "source": []
  }
 ],
 "metadata": {
  "kernelspec": {
   "display_name": "Python 3 (ipykernel)",
   "language": "python",
   "name": "python3"
  },
  "language_info": {
   "codemirror_mode": {
    "name": "ipython",
    "version": 3
   },
   "file_extension": ".py",
   "mimetype": "text/x-python",
   "name": "python",
   "nbconvert_exporter": "python",
   "pygments_lexer": "ipython3",
   "version": "3.9.12"
  },
  "toc": {
   "base_numbering": 1,
   "nav_menu": {},
   "number_sections": true,
   "sideBar": true,
   "skip_h1_title": false,
   "title_cell": "Table of Contents",
   "title_sidebar": "Contents",
   "toc_cell": false,
   "toc_position": {},
   "toc_section_display": true,
   "toc_window_display": false
  }
 },
 "nbformat": 4,
 "nbformat_minor": 2
}
