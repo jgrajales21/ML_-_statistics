{
 "cells": [
  {
   "cell_type": "code",
   "execution_count": null,
   "id": "f64440e7",
   "metadata": {},
   "outputs": [],
   "source": [
    "##################################\n",
    "## Last example of lecture 5\n",
    "##################################"
   ]
  },
  {
   "cell_type": "code",
   "execution_count": null,
   "id": "07e02f43",
   "metadata": {},
   "outputs": [],
   "source": [
    "import numpy as np\n",
    "from scipy import stats"
   ]
  },
  {
   "cell_type": "code",
   "execution_count": null,
   "id": "96d824bd",
   "metadata": {},
   "outputs": [],
   "source": [
    "# Define the data\n",
    "mydata = np.array([79.3, 75.1, 78.2, 74.1, 73.9, 75.0, 77.6, 77.3, 73.8, 74.6, 75.5, 74.0, 74.7, 75.9, 72.9, 73.8, 74.2, 78.1, 75.4, 76.3, 75.3, 76.2, 74.9, 78.0, 75.1, 76.8])\n",
    "# Sample size\n",
    "nn = len(mydata)"
   ]
  },
  {
   "cell_type": "code",
   "execution_count": null,
   "id": "ba303993",
   "metadata": {},
   "outputs": [],
   "source": [
    "# Sample mean\n",
    "sample_mean = np.mean(mydata)\n",
    "print(\"Sample Mean:\", sample_mean)\n",
    "\n",
    "# Sample median\n",
    "sample_median = np.median(mydata)\n",
    "print(\"Sample Median:\", sample_median)\n",
    "\n",
    "# Sample variance\n",
    "sample_variance = np.var(mydata)\n",
    "print(\"Sample Variance:\", sample_variance)\n",
    "\n",
    "# Sample standard deviation\n",
    "sample_stddev = np.std(mydata)\n",
    "print(\"Sample Standard Deviation:\", sample_stddev)\n",
    "\n",
    "# Standard error of sample mean\n",
    "standard_error = sample_stddev / np.sqrt(nn)\n",
    "print(\"Standard Error of Sample Mean:\", standard_error)\n",
    "\n",
    "# Sample proportion of values lower than 73\n",
    "proportion_below_73 = np.sum(mydata < 73) / nn\n",
    "print(\"Sample Proportion of Values Lower than 73:\", proportion_below_73)\n"
   ]
  },
  {
   "cell_type": "code",
   "execution_count": null,
   "id": "c626e905",
   "metadata": {},
   "outputs": [],
   "source": []
  }
 ],
 "metadata": {
  "kernelspec": {
   "display_name": "Python 3 (ipykernel)",
   "language": "python",
   "name": "python3"
  },
  "language_info": {
   "codemirror_mode": {
    "name": "ipython",
    "version": 3
   },
   "file_extension": ".py",
   "mimetype": "text/x-python",
   "name": "python",
   "nbconvert_exporter": "python",
   "pygments_lexer": "ipython3",
   "version": "3.11.4"
  }
 },
 "nbformat": 4,
 "nbformat_minor": 5
}
